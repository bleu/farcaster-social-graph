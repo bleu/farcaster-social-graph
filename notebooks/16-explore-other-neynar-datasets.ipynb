{
 "cells": [
  {
   "cell_type": "code",
   "execution_count": null,
   "metadata": {},
   "outputs": [
    {
     "name": "stdout",
     "output_type": "stream",
     "text": [
      "2024-11-27 15:04:56   32534231 nindexer-follow_counts-0-1732730644.parquet\n",
      "2024-11-29 15:04:56   32726691 nindexer-follow_counts-0-1732903443.parquet\n",
      "2024-12-02 15:04:59   33022961 nindexer-follow_counts-0-1733162643.parquet\n",
      "2024-12-04 15:04:59   33240894 nindexer-follow_counts-0-1733335443.parquet\n",
      "2024-12-05 21:02:20   33328525 nindexer-follow_counts-0-1733443285.parquet\n",
      "2024-12-06 15:04:59   33360857 nindexer-follow_counts-0-1733508243.parquet\n",
      "2024-12-09 15:05:00   33444084 nindexer-follow_counts-0-1733767443.parquet\n",
      "2024-11-27 15:55:25 6336948823 nindexer-follows-0-1732730644.parquet\n",
      "2024-11-29 15:55:40 6356200064 nindexer-follows-0-1732903443.parquet\n",
      "2024-12-02 15:59:23 6383581957 nindexer-follows-0-1733162643.parquet\n",
      "2024-12-04 15:58:52 6401443875 nindexer-follows-0-1733335443.parquet\n",
      "2024-12-05 21:51:49 6410313810 nindexer-follows-0-1733443285.parquet\n",
      "2024-12-06 15:56:27 6415603596 nindexer-follows-0-1733508243.parquet\n",
      "2024-12-09 15:58:25 6431603822 nindexer-follows-0-1733767443.parquet\n",
      "2024-11-27 15:04:58   23836955 nindexer-neynar_user_scores-0-1732730644.parquet\n",
      "2024-11-29 15:04:58   24124695 nindexer-neynar_user_scores-0-1732903443.parquet\n",
      "2024-12-02 15:05:01   24308254 nindexer-neynar_user_scores-0-1733162643.parquet\n",
      "2024-12-04 15:05:02   24460041 nindexer-neynar_user_scores-0-1733335443.parquet\n",
      "2024-12-05 21:02:22   24481382 nindexer-neynar_user_scores-0-1733443285.parquet\n",
      "2024-12-06 15:05:02   24457532 nindexer-neynar_user_scores-0-1733508243.parquet\n",
      "2024-12-09 15:05:02   24493996 nindexer-neynar_user_scores-0-1733767443.parquet\n",
      "2024-11-27 15:05:08   85663875 nindexer-profiles-0-1732730644.parquet\n",
      "2024-11-29 15:05:08   86007500 nindexer-profiles-0-1732903443.parquet\n",
      "2024-12-02 15:05:12   86488216 nindexer-profiles-0-1733162643.parquet\n",
      "2024-12-04 15:05:12   86869676 nindexer-profiles-0-1733335443.parquet\n",
      "2024-12-05 21:02:32   87022282 nindexer-profiles-0-1733443285.parquet\n",
      "2024-12-06 15:05:12   87092901 nindexer-profiles-0-1733508243.parquet\n",
      "2024-12-09 15:05:13   87183278 nindexer-profiles-0-1733767443.parquet\n",
      "2024-11-27 15:04:53   41612236 nindexer-verifications-0-1732730644.parquet\n",
      "2024-11-29 15:04:51   41794799 nindexer-verifications-0-1732903443.parquet\n",
      "2024-12-02 15:04:56   41942683 nindexer-verifications-0-1733162643.parquet\n",
      "2024-12-04 15:04:56   42080007 nindexer-verifications-0-1733335443.parquet\n",
      "2024-12-05 21:02:15   42162938 nindexer-verifications-0-1733443285.parquet\n",
      "2024-12-06 15:04:56   42205161 nindexer-verifications-0-1733508243.parquet\n",
      "2024-12-09 15:04:55   42425674 nindexer-verifications-0-1733767443.parquet\n"
     ]
    }
   ],
   "source": [
    "# first find out what are the \n",
    "!aws s3 ls s3://tf-premium-parquet/public-postgres/nindexer/v3/1/full/ --profile neynar_parquet_exports"
   ]
  },
  {
   "cell_type": "code",
   "execution_count": null,
   "metadata": {},
   "outputs": [
    {
     "name": "stdout",
     "output_type": "stream",
     "text": [
      "download: s3://tf-premium-parquet/public-postgres/nindexer/v3/1/full/nindexer-follow_counts-0-1733508243.parquet to data/nindexer-follow_counts-0-1733508243.parquet\n",
      "download: s3://tf-premium-parquet/public-postgres/nindexer/v3/1/full/nindexer-neynar_user_scores-0-1733508243.parquet to data/nindexer-neynar_user_scores-0-1733508243.parquet\n",
      "download: s3://tf-premium-parquet/public-postgres/nindexer/v3/1/full/nindexer-verifications-0-1733508243.parquet to data/nindexer-verifications-0-1733508243.parquet\n",
      "Completed 1.7 GiB/6.1 GiB (15.5 MiB/s) with 2 file(s) remaining   \r"
     ]
    }
   ],
   "source": [
    "# then, use the timestamp from the datasets you want to use and change the timestamp pattern in the command below\n",
    "!aws s3 cp s3://tf-premium-parquet/public-postgres/nindexer/v3/1/full/  data --recursive  --exclude \"*\"  --include \"*-1733508243.parquet\" --profile neynar_parquet_exports"
   ]
  },
  {
   "cell_type": "code",
   "execution_count": null,
   "metadata": {},
   "outputs": [],
   "source": []
  },
  {
   "cell_type": "code",
   "execution_count": null,
   "metadata": {},
   "outputs": [
    {
     "data": {
      "text/html": [
       "<div><style>\n",
       ".dataframe > thead > tr,\n",
       ".dataframe > tbody > tr {\n",
       "  text-align: right;\n",
       "  white-space: pre-wrap;\n",
       "}\n",
       "</style>\n",
       "<small>shape: (10, 6)</small><table border=\"1\" class=\"dataframe\"><thead><tr><th>fid</th><th>follower_count</th><th>following_count</th><th>created_at</th><th>updated_at</th><th>id</th></tr><tr><td>i64</td><td>i64</td><td>i64</td><td>datetime[ns]</td><td>datetime[ns]</td><td>str</td></tr></thead><tbody><tr><td>392791</td><td>1</td><td>3</td><td>2024-09-27 17:53:22.925376</td><td>2024-09-27 17:53:22.925376</td><td>&quot;0191e894-3cf4-1185-1295-5abf15…</td></tr><tr><td>378036</td><td>1</td><td>0</td><td>2024-09-27 17:53:22.925376</td><td>2024-09-27 17:53:22.925376</td><td>&quot;0191e894-3d0f-3ca8-a334-bff9b4…</td></tr><tr><td>384030</td><td>1</td><td>0</td><td>2024-09-27 17:53:22.925376</td><td>2024-09-27 17:53:22.925376</td><td>&quot;0191e894-3d10-f590-64f3-214abe…</td></tr><tr><td>42931</td><td>1</td><td>0</td><td>2024-09-27 17:53:22.925376</td><td>2024-09-27 17:53:22.925376</td><td>&quot;0191e894-3d10-cf38-a687-39d2b3…</td></tr><tr><td>43378</td><td>1</td><td>0</td><td>2024-09-27 17:53:22.925376</td><td>2024-09-27 17:53:22.925376</td><td>&quot;0191e894-3d12-1eb8-5022-d3e66c…</td></tr><tr><td>42684</td><td>1</td><td>0</td><td>2024-09-27 17:53:22.925376</td><td>2024-09-27 17:53:22.925376</td><td>&quot;0191e894-3d20-6e90-fd56-aed5aa…</td></tr><tr><td>413517</td><td>1</td><td>0</td><td>2024-09-27 17:53:22.925376</td><td>2024-09-27 17:53:22.925376</td><td>&quot;0191e894-3d20-2a26-bf2f-8f82bc…</td></tr><tr><td>386411</td><td>1</td><td>0</td><td>2024-09-27 17:53:22.925376</td><td>2024-09-27 17:53:22.925376</td><td>&quot;0191e894-3d23-2fb1-38fc-8ea996…</td></tr><tr><td>196874</td><td>2</td><td>0</td><td>2024-09-27 17:53:22.925376</td><td>2024-09-27 17:53:22.925376</td><td>&quot;0191e894-3d24-4b80-12be-8ce40e…</td></tr><tr><td>411879</td><td>1</td><td>0</td><td>2024-09-27 17:53:22.925376</td><td>2024-09-27 17:53:22.925376</td><td>&quot;0191e894-3d2c-2674-2131-16bc81…</td></tr></tbody></table></div>"
      ],
      "text/plain": [
       "shape: (10, 6)\n",
       "┌────────┬────────────────┬─────────────────┬──────────────────┬─────────────────┬─────────────────┐\n",
       "│ fid    ┆ follower_count ┆ following_count ┆ created_at       ┆ updated_at      ┆ id              │\n",
       "│ ---    ┆ ---            ┆ ---             ┆ ---              ┆ ---             ┆ ---             │\n",
       "│ i64    ┆ i64            ┆ i64             ┆ datetime[ns]     ┆ datetime[ns]    ┆ str             │\n",
       "╞════════╪════════════════╪═════════════════╪══════════════════╪═════════════════╪═════════════════╡\n",
       "│ 392791 ┆ 1              ┆ 3               ┆ 2024-09-27       ┆ 2024-09-27      ┆ 0191e894-3cf4-1 │\n",
       "│        ┆                ┆                 ┆ 17:53:22.925376  ┆ 17:53:22.925376 ┆ 185-1295-5abf15 │\n",
       "│        ┆                ┆                 ┆                  ┆                 ┆ …               │\n",
       "│ 378036 ┆ 1              ┆ 0               ┆ 2024-09-27       ┆ 2024-09-27      ┆ 0191e894-3d0f-3 │\n",
       "│        ┆                ┆                 ┆ 17:53:22.925376  ┆ 17:53:22.925376 ┆ ca8-a334-bff9b4 │\n",
       "│        ┆                ┆                 ┆                  ┆                 ┆ …               │\n",
       "│ 384030 ┆ 1              ┆ 0               ┆ 2024-09-27       ┆ 2024-09-27      ┆ 0191e894-3d10-f │\n",
       "│        ┆                ┆                 ┆ 17:53:22.925376  ┆ 17:53:22.925376 ┆ 590-64f3-214abe │\n",
       "│        ┆                ┆                 ┆                  ┆                 ┆ …               │\n",
       "│ 42931  ┆ 1              ┆ 0               ┆ 2024-09-27       ┆ 2024-09-27      ┆ 0191e894-3d10-c │\n",
       "│        ┆                ┆                 ┆ 17:53:22.925376  ┆ 17:53:22.925376 ┆ f38-a687-39d2b3 │\n",
       "│        ┆                ┆                 ┆                  ┆                 ┆ …               │\n",
       "│ 43378  ┆ 1              ┆ 0               ┆ 2024-09-27       ┆ 2024-09-27      ┆ 0191e894-3d12-1 │\n",
       "│        ┆                ┆                 ┆ 17:53:22.925376  ┆ 17:53:22.925376 ┆ eb8-5022-d3e66c │\n",
       "│        ┆                ┆                 ┆                  ┆                 ┆ …               │\n",
       "│ 42684  ┆ 1              ┆ 0               ┆ 2024-09-27       ┆ 2024-09-27      ┆ 0191e894-3d20-6 │\n",
       "│        ┆                ┆                 ┆ 17:53:22.925376  ┆ 17:53:22.925376 ┆ e90-fd56-aed5aa │\n",
       "│        ┆                ┆                 ┆                  ┆                 ┆ …               │\n",
       "│ 413517 ┆ 1              ┆ 0               ┆ 2024-09-27       ┆ 2024-09-27      ┆ 0191e894-3d20-2 │\n",
       "│        ┆                ┆                 ┆ 17:53:22.925376  ┆ 17:53:22.925376 ┆ a26-bf2f-8f82bc │\n",
       "│        ┆                ┆                 ┆                  ┆                 ┆ …               │\n",
       "│ 386411 ┆ 1              ┆ 0               ┆ 2024-09-27       ┆ 2024-09-27      ┆ 0191e894-3d23-2 │\n",
       "│        ┆                ┆                 ┆ 17:53:22.925376  ┆ 17:53:22.925376 ┆ fb1-38fc-8ea996 │\n",
       "│        ┆                ┆                 ┆                  ┆                 ┆ …               │\n",
       "│ 196874 ┆ 2              ┆ 0               ┆ 2024-09-27       ┆ 2024-09-27      ┆ 0191e894-3d24-4 │\n",
       "│        ┆                ┆                 ┆ 17:53:22.925376  ┆ 17:53:22.925376 ┆ b80-12be-8ce40e │\n",
       "│        ┆                ┆                 ┆                  ┆                 ┆ …               │\n",
       "│ 411879 ┆ 1              ┆ 0               ┆ 2024-09-27       ┆ 2024-09-27      ┆ 0191e894-3d2c-2 │\n",
       "│        ┆                ┆                 ┆ 17:53:22.925376  ┆ 17:53:22.925376 ┆ 674-2131-16bc81 │\n",
       "│        ┆                ┆                 ┆                  ┆                 ┆ …               │\n",
       "└────────┴────────────────┴─────────────────┴──────────────────┴─────────────────┴─────────────────┘"
      ]
     },
     "execution_count": 6,
     "metadata": {},
     "output_type": "execute_result"
    }
   ],
   "source": [
    "import polars as pl\n",
    "\n",
    "\n",
    "nindexer_datasets = [\n",
    "    # - timestamp\n",
    "    # - fid\n",
    "    # - target_fid\n",
    "    # - id\n",
    "    \"follows\"\n",
    "\n",
    "    # Each record corresponds to a user’s personal and metadata details.\n",
    "    # - fid\n",
    "    # - bio\n",
    "    # - pfp_url\n",
    "    # - url\n",
    "    # - username\n",
    "    # - display_name\n",
    "    # - location\n",
    "    # - latitude\n",
    "    # - longitude\n",
    "    # - id\n",
    "    \"profiles\"\n",
    "\n",
    "    # - timestamp\n",
    "    # - address\n",
    "    # - fid\n",
    "    # - protocol\n",
    "    # - id\n",
    "    \"verifications\"\n",
    "\n",
    "    # - fid\n",
    "    # - score\n",
    "    # - id\n",
    "    \"neynar_user_scores\"\n",
    "\n",
    "    # - fid\n",
    "    # - follower_count\n",
    "    # - following_count\n",
    "    # - id\n",
    "    \"follow_counts\"\n",
    "]\n",
    "\n",
    "\n",
    "\n",
    "def load_nindexer_dataset(dataset_name: str) -> pl.DataFrame:\n",
    "    return pl.scan_parquet(f\"data/nindexer-{dataset_name}-0-1733508243.parquet\")\n",
    "\n",
    "load_nindexer_dataset(\"follow_counts\").limit(10).collect()"
   ]
  },
  {
   "cell_type": "code",
   "execution_count": null,
   "metadata": {},
   "outputs": [],
   "source": []
  }
 ],
 "metadata": {
  "kernelspec": {
   "display_name": "farcaster-social-graph-notebooks-RMjVf8-3-py3.12",
   "language": "python",
   "name": "python3"
  },
  "language_info": {
   "codemirror_mode": {
    "name": "ipython",
    "version": 3
   },
   "file_extension": ".py",
   "mimetype": "text/x-python",
   "name": "python",
   "nbconvert_exporter": "python",
   "pygments_lexer": "ipython3",
   "version": "3.12.0"
  }
 },
 "nbformat": 4,
 "nbformat_minor": 2
}
