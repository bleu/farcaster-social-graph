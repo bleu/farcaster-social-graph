{
 "cells": [
  {
   "cell_type": "code",
   "execution_count": null,
   "metadata": {},
   "outputs": [],
   "source": [
    "import polars as pl\n",
    "\n",
    "\n",
    "nindexer_datasets = [\n",
    "    # - timestamp\n",
    "    # - fid\n",
    "    # - target_fid\n",
    "    # - id\n",
    "    \"follows\"\n",
    "\n",
    "    # Each record corresponds to a user’s personal and metadata details.\n",
    "    # - fid\n",
    "    # - bio\n",
    "    # - pfp_url\n",
    "    # - url\n",
    "    # - username\n",
    "    # - display_name\n",
    "    # - location\n",
    "    # - latitude\n",
    "    # - longitude\n",
    "    # - id\n",
    "    \"profiles\"\n",
    "\n",
    "    # - timestamp\n",
    "    # - address\n",
    "    # - fid\n",
    "    # - protocol\n",
    "    # - id\n",
    "    \"verifications\"\n",
    "\n",
    "    # - fid\n",
    "    # - score\n",
    "    # - id\n",
    "    \"neynar_user_scores\"\n",
    "\n",
    "    # - fid\n",
    "    # - follower_count\n",
    "    # - following_count\n",
    "    # - id\n",
    "    \"follow_counts\"\n",
    "]\n",
    "\n",
    "\n",
    "def load_nindexer_dataset(dataset_name: str) -> pl.DataFrame:\n",
    "    return pl.scan_parquet(f\"data/nindexer-{dataset_name}-0-1733508243.parquet\")\n",
    "\n"
   ]
  },
  {
   "cell_type": "code",
   "execution_count": null,
   "metadata": {},
   "outputs": [],
   "source": []
  }
 ],
 "metadata": {
  "kernelspec": {
   "display_name": "farcaster-social-graph-notebooks-RMjVf8-3-py3.12",
   "language": "python",
   "name": "python3"
  },
  "language_info": {
   "codemirror_mode": {
    "name": "ipython",
    "version": 3
   },
   "file_extension": ".py",
   "mimetype": "text/x-python",
   "name": "python",
   "nbconvert_exporter": "python",
   "pygments_lexer": "ipython3",
   "version": "3.12.0"
  }
 },
 "nbformat": 4,
 "nbformat_minor": 2
}
