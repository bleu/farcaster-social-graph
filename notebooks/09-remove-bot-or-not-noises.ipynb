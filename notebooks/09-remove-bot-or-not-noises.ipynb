{
 "cells": [
  {
   "cell_type": "markdown",
   "metadata": {},
   "source": [
    "# Remove bot-or-not noises\n",
    "\n",
    "### Used files\n",
    "- bot_or_not_without_info\n",
    "- sybilscar_results\n",
    "\n",
    "### Summary:\n",
    "1. Load necessary data\n",
    "2. Apply logic to add new column \"is_noisy\"\n",
    "3. Check bot label changes from sybilscar\n",
    "4. Save new bot_or_not_without_noises"
   ]
  },
  {
   "cell_type": "markdown",
   "metadata": {},
   "source": [
    "### 1. Load necessary data"
   ]
  },
  {
   "cell_type": "code",
   "execution_count": 1,
   "metadata": {},
   "outputs": [
    {
     "data": {
      "text/plain": [
       "polars.config.Config"
      ]
     },
     "execution_count": 1,
     "metadata": {},
     "output_type": "execute_result"
    }
   ],
   "source": [
    "import polars as pl\n",
    "import os\n",
    "pl.Config.set_fmt_str_lengths(400)"
   ]
  },
  {
   "cell_type": "code",
   "execution_count": 2,
   "metadata": {},
   "outputs": [],
   "source": [
    "DATA_PATH = os.getenv(\"DATA_PATH\", \"\")"
   ]
  },
  {
   "cell_type": "code",
   "execution_count": 3,
   "metadata": {},
   "outputs": [
    {
     "data": {
      "text/html": [
       "<div><style>\n",
       ".dataframe > thead > tr,\n",
       ".dataframe > tbody > tr {\n",
       "  text-align: right;\n",
       "  white-space: pre-wrap;\n",
       "}\n",
       "</style>\n",
       "<small>shape: (12_065, 2)</small><table border=\"1\" class=\"dataframe\"><thead><tr><th>fid</th><th>bot</th></tr><tr><td>i64</td><td>bool</td></tr></thead><tbody><tr><td>446097</td><td>false</td></tr><tr><td>3</td><td>false</td></tr><tr><td>8</td><td>false</td></tr><tr><td>12</td><td>false</td></tr><tr><td>2</td><td>false</td></tr><tr><td>&hellip;</td><td>&hellip;</td></tr><tr><td>327500</td><td>true</td></tr><tr><td>428200</td><td>true</td></tr><tr><td>469138</td><td>false</td></tr><tr><td>278549</td><td>true</td></tr><tr><td>446821</td><td>false</td></tr></tbody></table></div>"
      ],
      "text/plain": [
       "shape: (12_065, 2)\n",
       "┌────────┬───────┐\n",
       "│ fid    ┆ bot   │\n",
       "│ ---    ┆ ---   │\n",
       "│ i64    ┆ bool  │\n",
       "╞════════╪═══════╡\n",
       "│ 446097 ┆ false │\n",
       "│ 3      ┆ false │\n",
       "│ 8      ┆ false │\n",
       "│ 12     ┆ false │\n",
       "│ 2      ┆ false │\n",
       "│ …      ┆ …     │\n",
       "│ 327500 ┆ true  │\n",
       "│ 428200 ┆ true  │\n",
       "│ 469138 ┆ false │\n",
       "│ 278549 ┆ true  │\n",
       "│ 446821 ┆ false │\n",
       "└────────┴───────┘"
      ]
     },
     "execution_count": 3,
     "metadata": {},
     "output_type": "execute_result"
    }
   ],
   "source": [
    "bot_or_not = pl.read_parquet(f\"{DATA_PATH}/interim/bot_or_not_without_info.parquet\")\n",
    "bot_or_not\n"
   ]
  },
  {
   "cell_type": "code",
   "execution_count": 4,
   "metadata": {},
   "outputs": [
    {
     "data": {
      "text/html": [
       "<div><style>\n",
       ".dataframe > thead > tr,\n",
       ".dataframe > tbody > tr {\n",
       "  text-align: right;\n",
       "  white-space: pre-wrap;\n",
       "}\n",
       "</style>\n",
       "<small>shape: (375_366, 3)</small><table border=\"1\" class=\"dataframe\"><thead><tr><th>fid_index</th><th>posterior</th><th>fid</th></tr><tr><td>i64</td><td>f64</td><td>i64</td></tr></thead><tbody><tr><td>198306</td><td>0.0</td><td>362936</td></tr><tr><td>47055</td><td>0.0</td><td>690195</td></tr><tr><td>326843</td><td>0.0</td><td>551357</td></tr><tr><td>120189</td><td>0.0</td><td>429013</td></tr><tr><td>297387</td><td>0.344896</td><td>818125</td></tr><tr><td>&hellip;</td><td>&hellip;</td><td>&hellip;</td></tr><tr><td>100725</td><td>1.0</td><td>466914</td></tr><tr><td>16259</td><td>0.7</td><td>863574</td></tr><tr><td>128403</td><td>1.0</td><td>720296</td></tr><tr><td>61238</td><td>0.0</td><td>727956</td></tr><tr><td>300922</td><td>0.7</td><td>721503</td></tr></tbody></table></div>"
      ],
      "text/plain": [
       "shape: (375_366, 3)\n",
       "┌───────────┬───────────┬────────┐\n",
       "│ fid_index ┆ posterior ┆ fid    │\n",
       "│ ---       ┆ ---       ┆ ---    │\n",
       "│ i64       ┆ f64       ┆ i64    │\n",
       "╞═══════════╪═══════════╪════════╡\n",
       "│ 198306    ┆ 0.0       ┆ 362936 │\n",
       "│ 47055     ┆ 0.0       ┆ 690195 │\n",
       "│ 326843    ┆ 0.0       ┆ 551357 │\n",
       "│ 120189    ┆ 0.0       ┆ 429013 │\n",
       "│ 297387    ┆ 0.344896  ┆ 818125 │\n",
       "│ …         ┆ …         ┆ …      │\n",
       "│ 100725    ┆ 1.0       ┆ 466914 │\n",
       "│ 16259     ┆ 0.7       ┆ 863574 │\n",
       "│ 128403    ┆ 1.0       ┆ 720296 │\n",
       "│ 61238     ┆ 0.0       ┆ 727956 │\n",
       "│ 300922    ┆ 0.7       ┆ 721503 │\n",
       "└───────────┴───────────┴────────┘"
      ]
     },
     "execution_count": 4,
     "metadata": {},
     "output_type": "execute_result"
    }
   ],
   "source": [
    "sybilscar_result = pl.read_parquet(f\"{DATA_PATH}/../farcaster-social-graph-api/farcaster_social_graph_api/data/sybil_scar_results.parquet\")\n",
    "sybilscar_result"
   ]
  },
  {
   "cell_type": "code",
   "execution_count": 5,
   "metadata": {},
   "outputs": [
    {
     "data": {
      "text/html": [
       "<div><style>\n",
       ".dataframe > thead > tr,\n",
       ".dataframe > tbody > tr {\n",
       "  text-align: right;\n",
       "  white-space: pre-wrap;\n",
       "}\n",
       "</style>\n",
       "<small>shape: (682_489, 2)</small><table border=\"1\" class=\"dataframe\"><thead><tr><th>fid</th><th>fname</th></tr><tr><td>i64</td><td>str</td></tr></thead><tbody><tr><td>606810</td><td>&quot;webfan&quot;</td></tr><tr><td>291006</td><td>&quot;elawgrrl&quot;</td></tr><tr><td>863985</td><td>&quot;hardiewalingvo&quot;</td></tr><tr><td>481618</td><td>&quot;ericnam&quot;</td></tr><tr><td>847339</td><td>&quot;maria0425&quot;</td></tr><tr><td>&hellip;</td><td>&hellip;</td></tr><tr><td>339354</td><td>&quot;rakos&quot;</td></tr><tr><td>836647</td><td>&quot;americans&quot;</td></tr><tr><td>860644</td><td>&quot;dogavehayat&quot;</td></tr><tr><td>492446</td><td>&quot;fainiguez&quot;</td></tr><tr><td>728363</td><td>&quot;simpleearwig&quot;</td></tr></tbody></table></div>"
      ],
      "text/plain": [
       "shape: (682_489, 2)\n",
       "┌────────┬────────────────┐\n",
       "│ fid    ┆ fname          │\n",
       "│ ---    ┆ ---            │\n",
       "│ i64    ┆ str            │\n",
       "╞════════╪════════════════╡\n",
       "│ 606810 ┆ webfan         │\n",
       "│ 291006 ┆ elawgrrl       │\n",
       "│ 863985 ┆ hardiewalingvo │\n",
       "│ 481618 ┆ ericnam        │\n",
       "│ 847339 ┆ maria0425      │\n",
       "│ …      ┆ …              │\n",
       "│ 339354 ┆ rakos          │\n",
       "│ 836647 ┆ americans      │\n",
       "│ 860644 ┆ dogavehayat    │\n",
       "│ 492446 ┆ fainiguez      │\n",
       "│ 728363 ┆ simpleearwig   │\n",
       "└────────┴────────────────┘"
      ]
     },
     "execution_count": 5,
     "metadata": {},
     "output_type": "execute_result"
    }
   ],
   "source": [
    "fnames = pl.read_parquet(f\"{DATA_PATH}/raw/farcaster-fnames-0-1730134800.parquet\")\n",
    "last_fnames = fnames[[\"fid\",\"updated_at\"]].group_by(\"fid\").max()\n",
    "last_fnames = last_fnames.join(fnames,on=[\"fid\",\"updated_at\"],how=\"left\",coalesce=True)[[\"fid\",\"fname\"]]\n",
    "# will be used in \"3. Check bot label changes from sybilscar\"\n",
    "last_fnames"
   ]
  },
  {
   "cell_type": "markdown",
   "metadata": {},
   "source": [
    "### 2. Apply logic to add new column \"is_noisy\"\n",
    "\n",
    "For now, we are considering a sample noisy if sybil scar result (threshold p < 0.5) is different than bot_or_not\n"
   ]
  },
  {
   "cell_type": "code",
   "execution_count": 6,
   "metadata": {},
   "outputs": [
    {
     "data": {
      "text/html": [
       "<div><style>\n",
       ".dataframe > thead > tr,\n",
       ".dataframe > tbody > tr {\n",
       "  text-align: right;\n",
       "  white-space: pre-wrap;\n",
       "}\n",
       "</style>\n",
       "<small>shape: (12_065, 4)</small><table border=\"1\" class=\"dataframe\"><thead><tr><th>fid</th><th>bot</th><th>fid_index</th><th>posterior</th></tr><tr><td>i64</td><td>bool</td><td>i64</td><td>f64</td></tr></thead><tbody><tr><td>446097</td><td>false</td><td>163975</td><td>1.0</td></tr><tr><td>3</td><td>false</td><td>8129</td><td>1.0</td></tr><tr><td>8</td><td>false</td><td>255872</td><td>1.0</td></tr><tr><td>12</td><td>false</td><td>43493</td><td>1.0</td></tr><tr><td>2</td><td>false</td><td>248340</td><td>1.0</td></tr><tr><td>&hellip;</td><td>&hellip;</td><td>&hellip;</td><td>&hellip;</td></tr><tr><td>327500</td><td>true</td><td>169966</td><td>0.0</td></tr><tr><td>428200</td><td>true</td><td>72388</td><td>0.0</td></tr><tr><td>469138</td><td>false</td><td>105841</td><td>0.0</td></tr><tr><td>278549</td><td>true</td><td>22377</td><td>0.0</td></tr><tr><td>446821</td><td>false</td><td>210328</td><td>1.0</td></tr></tbody></table></div>"
      ],
      "text/plain": [
       "shape: (12_065, 4)\n",
       "┌────────┬───────┬───────────┬───────────┐\n",
       "│ fid    ┆ bot   ┆ fid_index ┆ posterior │\n",
       "│ ---    ┆ ---   ┆ ---       ┆ ---       │\n",
       "│ i64    ┆ bool  ┆ i64       ┆ f64       │\n",
       "╞════════╪═══════╪═══════════╪═══════════╡\n",
       "│ 446097 ┆ false ┆ 163975    ┆ 1.0       │\n",
       "│ 3      ┆ false ┆ 8129      ┆ 1.0       │\n",
       "│ 8      ┆ false ┆ 255872    ┆ 1.0       │\n",
       "│ 12     ┆ false ┆ 43493     ┆ 1.0       │\n",
       "│ 2      ┆ false ┆ 248340    ┆ 1.0       │\n",
       "│ …      ┆ …     ┆ …         ┆ …         │\n",
       "│ 327500 ┆ true  ┆ 169966    ┆ 0.0       │\n",
       "│ 428200 ┆ true  ┆ 72388     ┆ 0.0       │\n",
       "│ 469138 ┆ false ┆ 105841    ┆ 0.0       │\n",
       "│ 278549 ┆ true  ┆ 22377     ┆ 0.0       │\n",
       "│ 446821 ┆ false ┆ 210328    ┆ 1.0       │\n",
       "└────────┴───────┴───────────┴───────────┘"
      ]
     },
     "execution_count": 6,
     "metadata": {},
     "output_type": "execute_result"
    }
   ],
   "source": [
    "df = bot_or_not.join(sybilscar_result,on=\"fid\",coalesce=True,how=\"left\")\n",
    "df"
   ]
  },
  {
   "cell_type": "code",
   "execution_count": 7,
   "metadata": {},
   "outputs": [
    {
     "data": {
      "text/html": [
       "<div><style>\n",
       ".dataframe > thead > tr,\n",
       ".dataframe > tbody > tr {\n",
       "  text-align: right;\n",
       "  white-space: pre-wrap;\n",
       "}\n",
       "</style>\n",
       "<small>shape: (79, 4)</small><table border=\"1\" class=\"dataframe\"><thead><tr><th>fid</th><th>bot</th><th>fid_index</th><th>posterior</th></tr><tr><td>i64</td><td>bool</td><td>i64</td><td>f64</td></tr></thead><tbody><tr><td>2348</td><td>false</td><td>null</td><td>null</td></tr><tr><td>12144</td><td>false</td><td>null</td><td>null</td></tr><tr><td>12775</td><td>false</td><td>null</td><td>null</td></tr><tr><td>191322</td><td>false</td><td>null</td><td>null</td></tr><tr><td>194515</td><td>false</td><td>null</td><td>null</td></tr><tr><td>&hellip;</td><td>&hellip;</td><td>&hellip;</td><td>&hellip;</td></tr><tr><td>854040</td><td>false</td><td>null</td><td>null</td></tr><tr><td>854041</td><td>false</td><td>null</td><td>null</td></tr><tr><td>854043</td><td>false</td><td>null</td><td>null</td></tr><tr><td>854923</td><td>false</td><td>null</td><td>null</td></tr><tr><td>856646</td><td>false</td><td>null</td><td>null</td></tr></tbody></table></div>"
      ],
      "text/plain": [
       "shape: (79, 4)\n",
       "┌────────┬───────┬───────────┬───────────┐\n",
       "│ fid    ┆ bot   ┆ fid_index ┆ posterior │\n",
       "│ ---    ┆ ---   ┆ ---       ┆ ---       │\n",
       "│ i64    ┆ bool  ┆ i64       ┆ f64       │\n",
       "╞════════╪═══════╪═══════════╪═══════════╡\n",
       "│ 2348   ┆ false ┆ null      ┆ null      │\n",
       "│ 12144  ┆ false ┆ null      ┆ null      │\n",
       "│ 12775  ┆ false ┆ null      ┆ null      │\n",
       "│ 191322 ┆ false ┆ null      ┆ null      │\n",
       "│ 194515 ┆ false ┆ null      ┆ null      │\n",
       "│ …      ┆ …     ┆ …         ┆ …         │\n",
       "│ 854040 ┆ false ┆ null      ┆ null      │\n",
       "│ 854041 ┆ false ┆ null      ┆ null      │\n",
       "│ 854043 ┆ false ┆ null      ┆ null      │\n",
       "│ 854923 ┆ false ┆ null      ┆ null      │\n",
       "│ 856646 ┆ false ┆ null      ┆ null      │\n",
       "└────────┴───────┴───────────┴───────────┘"
      ]
     },
     "execution_count": 7,
     "metadata": {},
     "output_type": "execute_result"
    }
   ],
   "source": [
    "# Check that there are indexes in bot_or_not that are outside the sybilscar result\n",
    "df.filter(pl.col(\"posterior\").is_null())"
   ]
  },
  {
   "cell_type": "code",
   "execution_count": 8,
   "metadata": {},
   "outputs": [
    {
     "data": {
      "text/html": [
       "<div><style>\n",
       ".dataframe > thead > tr,\n",
       ".dataframe > tbody > tr {\n",
       "  text-align: right;\n",
       "  white-space: pre-wrap;\n",
       "}\n",
       "</style>\n",
       "<small>shape: (12_065, 5)</small><table border=\"1\" class=\"dataframe\"><thead><tr><th>fid</th><th>bot</th><th>fid_index</th><th>posterior</th><th>is_noisy</th></tr><tr><td>i64</td><td>bool</td><td>i64</td><td>f64</td><td>bool</td></tr></thead><tbody><tr><td>446097</td><td>false</td><td>163975</td><td>1.0</td><td>false</td></tr><tr><td>3</td><td>false</td><td>8129</td><td>1.0</td><td>false</td></tr><tr><td>8</td><td>false</td><td>255872</td><td>1.0</td><td>false</td></tr><tr><td>12</td><td>false</td><td>43493</td><td>1.0</td><td>false</td></tr><tr><td>2</td><td>false</td><td>248340</td><td>1.0</td><td>false</td></tr><tr><td>&hellip;</td><td>&hellip;</td><td>&hellip;</td><td>&hellip;</td><td>&hellip;</td></tr><tr><td>327500</td><td>true</td><td>169966</td><td>0.0</td><td>false</td></tr><tr><td>428200</td><td>true</td><td>72388</td><td>0.0</td><td>false</td></tr><tr><td>469138</td><td>false</td><td>105841</td><td>0.0</td><td>true</td></tr><tr><td>278549</td><td>true</td><td>22377</td><td>0.0</td><td>false</td></tr><tr><td>446821</td><td>false</td><td>210328</td><td>1.0</td><td>false</td></tr></tbody></table></div>"
      ],
      "text/plain": [
       "shape: (12_065, 5)\n",
       "┌────────┬───────┬───────────┬───────────┬──────────┐\n",
       "│ fid    ┆ bot   ┆ fid_index ┆ posterior ┆ is_noisy │\n",
       "│ ---    ┆ ---   ┆ ---       ┆ ---       ┆ ---      │\n",
       "│ i64    ┆ bool  ┆ i64       ┆ f64       ┆ bool     │\n",
       "╞════════╪═══════╪═══════════╪═══════════╪══════════╡\n",
       "│ 446097 ┆ false ┆ 163975    ┆ 1.0       ┆ false    │\n",
       "│ 3      ┆ false ┆ 8129      ┆ 1.0       ┆ false    │\n",
       "│ 8      ┆ false ┆ 255872    ┆ 1.0       ┆ false    │\n",
       "│ 12     ┆ false ┆ 43493     ┆ 1.0       ┆ false    │\n",
       "│ 2      ┆ false ┆ 248340    ┆ 1.0       ┆ false    │\n",
       "│ …      ┆ …     ┆ …         ┆ …         ┆ …        │\n",
       "│ 327500 ┆ true  ┆ 169966    ┆ 0.0       ┆ false    │\n",
       "│ 428200 ┆ true  ┆ 72388     ┆ 0.0       ┆ false    │\n",
       "│ 469138 ┆ false ┆ 105841    ┆ 0.0       ┆ true     │\n",
       "│ 278549 ┆ true  ┆ 22377     ┆ 0.0       ┆ false    │\n",
       "│ 446821 ┆ false ┆ 210328    ┆ 1.0       ┆ false    │\n",
       "└────────┴───────┴───────────┴───────────┴──────────┘"
      ]
     },
     "metadata": {},
     "output_type": "display_data"
    },
    {
     "name": "stdout",
     "output_type": "stream",
     "text": [
      "number of noisy elements:  3946\n"
     ]
    }
   ],
   "source": [
    "df = df.with_columns([\n",
    "    pl.when(pl.col(\"posterior\").is_null())\n",
    "    .then(pl.col(\"bot\"))\n",
    "    .otherwise(pl.col(\"bot\") != (pl.col(\"posterior\") < 0.5 ))\n",
    "    .alias(\"is_noisy\")\n",
    "])\n",
    "\n",
    "display(df)\n",
    "print(\"number of noisy elements: \",df[\"is_noisy\"].sum())"
   ]
  },
  {
   "cell_type": "markdown",
   "metadata": {},
   "source": [
    "### 3. Check bot label changes from sybilscar"
   ]
  },
  {
   "cell_type": "code",
   "execution_count": 9,
   "metadata": {},
   "outputs": [
    {
     "data": {
      "text/html": [
       "<div><style>\n",
       ".dataframe > thead > tr,\n",
       ".dataframe > tbody > tr {\n",
       "  text-align: right;\n",
       "  white-space: pre-wrap;\n",
       "}\n",
       "</style>\n",
       "<small>shape: (3_946, 6)</small><table border=\"1\" class=\"dataframe\"><thead><tr><th>fid</th><th>bot</th><th>fid_index</th><th>posterior</th><th>is_noisy</th><th>fname</th></tr><tr><td>i64</td><td>bool</td><td>i64</td><td>f64</td><td>bool</td><td>str</td></tr></thead><tbody><tr><td>1731</td><td>true</td><td>149846</td><td>1.0</td><td>true</td><td>&quot;fayiz&quot;</td></tr><tr><td>1771</td><td>true</td><td>305979</td><td>1.0</td><td>true</td><td>&quot;ruslan&quot;</td></tr><tr><td>2183</td><td>true</td><td>48253</td><td>1.0</td><td>true</td><td>&quot;djo&quot;</td></tr><tr><td>2247</td><td>false</td><td>272536</td><td>0.0</td><td>true</td><td>&quot;papeclaus&quot;</td></tr><tr><td>2278</td><td>false</td><td>92265</td><td>0.0</td><td>true</td><td>&quot;versadchikov&quot;</td></tr><tr><td>&hellip;</td><td>&hellip;</td><td>&hellip;</td><td>&hellip;</td><td>&hellip;</td><td>&hellip;</td></tr><tr><td>390605</td><td>false</td><td>367876</td><td>0.0</td><td>true</td><td>&quot;siatoshi&quot;</td></tr><tr><td>810027</td><td>false</td><td>350222</td><td>0.0</td><td>true</td><td>&quot;naqu&quot;</td></tr><tr><td>287794</td><td>true</td><td>52460</td><td>1.0</td><td>true</td><td>&quot;jenny1&quot;</td></tr><tr><td>423036</td><td>true</td><td>283687</td><td>1.0</td><td>true</td><td>&quot;sheva7.eth&quot;</td></tr><tr><td>469138</td><td>false</td><td>105841</td><td>0.0</td><td>true</td><td>&quot;noormuhammad&quot;</td></tr></tbody></table></div>"
      ],
      "text/plain": [
       "shape: (3_946, 6)\n",
       "┌────────┬───────┬───────────┬───────────┬──────────┬──────────────┐\n",
       "│ fid    ┆ bot   ┆ fid_index ┆ posterior ┆ is_noisy ┆ fname        │\n",
       "│ ---    ┆ ---   ┆ ---       ┆ ---       ┆ ---      ┆ ---          │\n",
       "│ i64    ┆ bool  ┆ i64       ┆ f64       ┆ bool     ┆ str          │\n",
       "╞════════╪═══════╪═══════════╪═══════════╪══════════╪══════════════╡\n",
       "│ 1731   ┆ true  ┆ 149846    ┆ 1.0       ┆ true     ┆ fayiz        │\n",
       "│ 1771   ┆ true  ┆ 305979    ┆ 1.0       ┆ true     ┆ ruslan       │\n",
       "│ 2183   ┆ true  ┆ 48253     ┆ 1.0       ┆ true     ┆ djo          │\n",
       "│ 2247   ┆ false ┆ 272536    ┆ 0.0       ┆ true     ┆ papeclaus    │\n",
       "│ 2278   ┆ false ┆ 92265     ┆ 0.0       ┆ true     ┆ versadchikov │\n",
       "│ …      ┆ …     ┆ …         ┆ …         ┆ …        ┆ …            │\n",
       "│ 390605 ┆ false ┆ 367876    ┆ 0.0       ┆ true     ┆ siatoshi     │\n",
       "│ 810027 ┆ false ┆ 350222    ┆ 0.0       ┆ true     ┆ naqu         │\n",
       "│ 287794 ┆ true  ┆ 52460     ┆ 1.0       ┆ true     ┆ jenny1       │\n",
       "│ 423036 ┆ true  ┆ 283687    ┆ 1.0       ┆ true     ┆ sheva7.eth   │\n",
       "│ 469138 ┆ false ┆ 105841    ┆ 0.0       ┆ true     ┆ noormuhammad │\n",
       "└────────┴───────┴───────────┴───────────┴──────────┴──────────────┘"
      ]
     },
     "execution_count": 9,
     "metadata": {},
     "output_type": "execute_result"
    }
   ],
   "source": [
    "bot_or_not_with_fnames = df.join(last_fnames[[\"fid\",\"fname\"]],on=\"fid\",how=\"left\", coalesce=True)\n",
    "bot_or_not_with_fnames.filter(pl.col(\"is_noisy\"))"
   ]
  },
  {
   "cell_type": "code",
   "execution_count": 12,
   "metadata": {},
   "outputs": [
    {
     "data": {
      "text/html": [
       "<div><style>\n",
       ".dataframe > thead > tr,\n",
       ".dataframe > tbody > tr {\n",
       "  text-align: right;\n",
       "  white-space: pre-wrap;\n",
       "}\n",
       "</style>\n",
       "<small>shape: (10, 6)</small><table border=\"1\" class=\"dataframe\"><thead><tr><th>fid</th><th>bot</th><th>fid_index</th><th>posterior</th><th>is_noisy</th><th>fname</th></tr><tr><td>i64</td><td>bool</td><td>i64</td><td>f64</td><td>bool</td><td>str</td></tr></thead><tbody><tr><td>415001</td><td>false</td><td>10115</td><td>0.0</td><td>true</td><td>&quot;parviz8998&quot;</td></tr><tr><td>826255</td><td>false</td><td>178004</td><td>0.0</td><td>true</td><td>&quot;austilicious123&quot;</td></tr><tr><td>472997</td><td>true</td><td>161983</td><td>1.0</td><td>true</td><td>&quot;jinkyo&quot;</td></tr><tr><td>843895</td><td>false</td><td>126476</td><td>0.0</td><td>true</td><td>&quot;escalord92&quot;</td></tr><tr><td>473155</td><td>false</td><td>199930</td><td>0.0</td><td>true</td><td>&quot;amircyber&quot;</td></tr><tr><td>324605</td><td>false</td><td>88363</td><td>0.0</td><td>true</td><td>&quot;babaika.eth&quot;</td></tr><tr><td>513102</td><td>false</td><td>311558</td><td>0.0</td><td>true</td><td>&quot;zach19&quot;</td></tr><tr><td>2864</td><td>true</td><td>351649</td><td>1.0</td><td>true</td><td>&quot;launch&quot;</td></tr><tr><td>507710</td><td>false</td><td>305621</td><td>0.0</td><td>true</td><td>&quot;cryptobeauty&quot;</td></tr><tr><td>322511</td><td>false</td><td>305219</td><td>0.0</td><td>true</td><td>&quot;lukichka&quot;</td></tr></tbody></table></div>"
      ],
      "text/plain": [
       "shape: (10, 6)\n",
       "┌────────┬───────┬───────────┬───────────┬──────────┬─────────────────┐\n",
       "│ fid    ┆ bot   ┆ fid_index ┆ posterior ┆ is_noisy ┆ fname           │\n",
       "│ ---    ┆ ---   ┆ ---       ┆ ---       ┆ ---      ┆ ---             │\n",
       "│ i64    ┆ bool  ┆ i64       ┆ f64       ┆ bool     ┆ str             │\n",
       "╞════════╪═══════╪═══════════╪═══════════╪══════════╪═════════════════╡\n",
       "│ 415001 ┆ false ┆ 10115     ┆ 0.0       ┆ true     ┆ parviz8998      │\n",
       "│ 826255 ┆ false ┆ 178004    ┆ 0.0       ┆ true     ┆ austilicious123 │\n",
       "│ 472997 ┆ true  ┆ 161983    ┆ 1.0       ┆ true     ┆ jinkyo          │\n",
       "│ 843895 ┆ false ┆ 126476    ┆ 0.0       ┆ true     ┆ escalord92      │\n",
       "│ 473155 ┆ false ┆ 199930    ┆ 0.0       ┆ true     ┆ amircyber       │\n",
       "│ 324605 ┆ false ┆ 88363     ┆ 0.0       ┆ true     ┆ babaika.eth     │\n",
       "│ 513102 ┆ false ┆ 311558    ┆ 0.0       ┆ true     ┆ zach19          │\n",
       "│ 2864   ┆ true  ┆ 351649    ┆ 1.0       ┆ true     ┆ launch          │\n",
       "│ 507710 ┆ false ┆ 305621    ┆ 0.0       ┆ true     ┆ cryptobeauty    │\n",
       "│ 322511 ┆ false ┆ 305219    ┆ 0.0       ┆ true     ┆ lukichka        │\n",
       "└────────┴───────┴───────────┴───────────┴──────────┴─────────────────┘"
      ]
     },
     "execution_count": 12,
     "metadata": {},
     "output_type": "execute_result"
    }
   ],
   "source": [
    "bot_or_not_with_fnames.filter(pl.col(\"is_noisy\")).sample(10)"
   ]
  },
  {
   "cell_type": "markdown",
   "metadata": {},
   "source": [
    "|      **fname**      | **Bot or Not label** | **SybilSCAR label** | **inspection result** |\n",
    "|-----------------|------------------|-----------------|-------------------|\n",
    "| fayiz           | bot              | human           | human             |\n",
    "| ruslan          | bot              | human           | bot               |\n",
    "| djo             | bot              | human           | bot               |\n",
    "| papeclaus       | human            | bot             | bot               |\n",
    "| versadchikov    | human            | human           | bot               |\n",
    "| siatoshi        | human            | bot             | bot               |\n",
    "| naqu            | human            | bot             | bot               |\n",
    "| jenny1          | bot              | human           | bot               |\n",
    "| sheva7.eth      | bot              | human           | bot               |\n",
    "| noormuhammad    | human            | bot             | bot               |\n",
    "| parviz8998      | human            | bot             | bot               |\n",
    "| austilicious123 | human            | bot             | bot               |\n",
    "| jinkyo          | bot              | human           | human             |\n",
    "| escalord92      | human            | bot             | bot               |\n",
    "| amircyber       | human            | bot             | bot               |\n",
    "| babaika.eth     | human            | bot             | bot               |\n",
    "| zach19          | human            | bot             | bot               |\n",
    "| launch          | bot              | human           | bot               |\n",
    "| cryptobeauty    | human            | bot             | bot               |\n",
    "| lukichka        | human            | bot             | bot               |"
   ]
  },
  {
   "cell_type": "markdown",
   "metadata": {},
   "source": [
    "After manual inspection of the changed labels (noisy values), it is possible to check that ~70% of the changes make sense"
   ]
  },
  {
   "cell_type": "markdown",
   "metadata": {},
   "source": [
    "### 4. Save new bot_or_not_without_noises"
   ]
  },
  {
   "cell_type": "code",
   "execution_count": 10,
   "metadata": {},
   "outputs": [
    {
     "data": {
      "text/html": [
       "<div><style>\n",
       ".dataframe > thead > tr,\n",
       ".dataframe > tbody > tr {\n",
       "  text-align: right;\n",
       "  white-space: pre-wrap;\n",
       "}\n",
       "</style>\n",
       "<small>shape: (8_119, 2)</small><table border=\"1\" class=\"dataframe\"><thead><tr><th>fid</th><th>bot</th></tr><tr><td>i64</td><td>bool</td></tr></thead><tbody><tr><td>446097</td><td>false</td></tr><tr><td>3</td><td>false</td></tr><tr><td>8</td><td>false</td></tr><tr><td>12</td><td>false</td></tr><tr><td>2</td><td>false</td></tr><tr><td>&hellip;</td><td>&hellip;</td></tr><tr><td>280179</td><td>true</td></tr><tr><td>327500</td><td>true</td></tr><tr><td>428200</td><td>true</td></tr><tr><td>278549</td><td>true</td></tr><tr><td>446821</td><td>false</td></tr></tbody></table></div>"
      ],
      "text/plain": [
       "shape: (8_119, 2)\n",
       "┌────────┬───────┐\n",
       "│ fid    ┆ bot   │\n",
       "│ ---    ┆ ---   │\n",
       "│ i64    ┆ bool  │\n",
       "╞════════╪═══════╡\n",
       "│ 446097 ┆ false │\n",
       "│ 3      ┆ false │\n",
       "│ 8      ┆ false │\n",
       "│ 12     ┆ false │\n",
       "│ 2      ┆ false │\n",
       "│ …      ┆ …     │\n",
       "│ 280179 ┆ true  │\n",
       "│ 327500 ┆ true  │\n",
       "│ 428200 ┆ true  │\n",
       "│ 278549 ┆ true  │\n",
       "│ 446821 ┆ false │\n",
       "└────────┴───────┘"
      ]
     },
     "execution_count": 10,
     "metadata": {},
     "output_type": "execute_result"
    }
   ],
   "source": [
    "# Filter and remove unnecessary columns\n",
    "bot_or_not_without_noises = df.filter(~pl.col(\"is_noisy\"))[[\"fid\",\"bot\"]]\n",
    "bot_or_not_without_noises"
   ]
  },
  {
   "cell_type": "code",
   "execution_count": 11,
   "metadata": {},
   "outputs": [],
   "source": [
    "bot_or_not_without_noises.write_parquet(f\"{DATA_PATH}/interim/bot_or_not_without_noises.parquet\")"
   ]
  }
 ],
 "metadata": {
  "kernelspec": {
   "display_name": "farcaster-social-graph-notebooks-_gupmy54-py3.13",
   "language": "python",
   "name": "python3"
  },
  "language_info": {
   "codemirror_mode": {
    "name": "ipython",
    "version": 3
   },
   "file_extension": ".py",
   "mimetype": "text/x-python",
   "name": "python",
   "nbconvert_exporter": "python",
   "pygments_lexer": "ipython3",
   "version": "3.13.0"
  }
 },
 "nbformat": 4,
 "nbformat_minor": 2
}
