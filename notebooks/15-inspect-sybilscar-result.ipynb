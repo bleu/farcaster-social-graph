{
 "cells": [
  {
   "cell_type": "code",
   "execution_count": 2,
   "metadata": {},
   "outputs": [],
   "source": [
    "import polars as pl\n",
    "from hashlib import sha256\n",
    "import os\n",
    "pl.Config.set_fmt_str_lengths(400)\n",
    "DATA_PATH = os.getenv(\"DATA_PATH\", \"\")"
   ]
  },
  {
   "cell_type": "code",
   "execution_count": 3,
   "metadata": {},
   "outputs": [
    {
     "data": {
      "text/html": [
       "<div><style>\n",
       ".dataframe > thead > tr,\n",
       ".dataframe > tbody > tr {\n",
       "  text-align: right;\n",
       "  white-space: pre-wrap;\n",
       "}\n",
       "</style>\n",
       "<small>shape: (25_903_339, 2)</small><table border=\"1\" class=\"dataframe\"><thead><tr><th>fid</th><th>target_fid</th></tr><tr><td>i64</td><td>i64</td></tr></thead><tbody><tr><td>577003</td><td>592136</td></tr><tr><td>500766</td><td>501667</td></tr><tr><td>468460</td><td>632061</td></tr><tr><td>330634</td><td>565884</td></tr><tr><td>839830</td><td>843804</td></tr><tr><td>&hellip;</td><td>&hellip;</td></tr><tr><td>513555</td><td>843703</td></tr><tr><td>337656</td><td>375068</td></tr><tr><td>711130</td><td>752043</td></tr><tr><td>604</td><td>20329</td></tr><tr><td>601348</td><td>636307</td></tr></tbody></table></div>"
      ],
      "text/plain": [
       "shape: (25_903_339, 2)\n",
       "┌────────┬────────────┐\n",
       "│ fid    ┆ target_fid │\n",
       "│ ---    ┆ ---        │\n",
       "│ i64    ┆ i64        │\n",
       "╞════════╪════════════╡\n",
       "│ 577003 ┆ 592136     │\n",
       "│ 500766 ┆ 501667     │\n",
       "│ 468460 ┆ 632061     │\n",
       "│ 330634 ┆ 565884     │\n",
       "│ 839830 ┆ 843804     │\n",
       "│ …      ┆ …          │\n",
       "│ 513555 ┆ 843703     │\n",
       "│ 337656 ┆ 375068     │\n",
       "│ 711130 ┆ 752043     │\n",
       "│ 604    ┆ 20329      │\n",
       "│ 601348 ┆ 636307     │\n",
       "└────────┴────────────┘"
      ]
     },
     "execution_count": 3,
     "metadata": {},
     "output_type": "execute_result"
    }
   ],
   "source": [
    "processed_farcaster_mutual_links = pl.read_parquet(f\"{DATA_PATH}/../farcaster-social-graph-api/farcaster_social_graph_api/data/processed-farcaster-mutual-links-1730375194.parquet\")\n",
    "processed_farcaster_mutual_links"
   ]
  },
  {
   "cell_type": "code",
   "execution_count": 4,
   "metadata": {},
   "outputs": [
    {
     "data": {
      "text/html": [
       "<div><style>\n",
       ".dataframe > thead > tr,\n",
       ".dataframe > tbody > tr {\n",
       "  text-align: right;\n",
       "  white-space: pre-wrap;\n",
       "}\n",
       "</style>\n",
       "<small>shape: (51_806_678, 4)</small><table border=\"1\" class=\"dataframe\"><thead><tr><th>fid</th><th>fid_index</th><th>target_fid_index</th><th>bot</th></tr><tr><td>i64</td><td>i64</td><td>i64</td><td>bool</td></tr></thead><tbody><tr><td>577003</td><td>253932</td><td>178703</td><td>null</td></tr><tr><td>500766</td><td>155835</td><td>12025</td><td>false</td></tr><tr><td>468460</td><td>192681</td><td>101650</td><td>true</td></tr><tr><td>330634</td><td>71182</td><td>19986</td><td>null</td></tr><tr><td>839830</td><td>30016</td><td>319360</td><td>null</td></tr><tr><td>&hellip;</td><td>&hellip;</td><td>&hellip;</td><td>&hellip;</td></tr><tr><td>843703</td><td>295562</td><td>353460</td><td>null</td></tr><tr><td>375068</td><td>149909</td><td>271760</td><td>null</td></tr><tr><td>752043</td><td>169032</td><td>265647</td><td>null</td></tr><tr><td>20329</td><td>36392</td><td>315081</td><td>null</td></tr><tr><td>636307</td><td>141845</td><td>196880</td><td>null</td></tr></tbody></table></div>"
      ],
      "text/plain": [
       "shape: (51_806_678, 4)\n",
       "┌────────┬───────────┬──────────────────┬───────┐\n",
       "│ fid    ┆ fid_index ┆ target_fid_index ┆ bot   │\n",
       "│ ---    ┆ ---       ┆ ---              ┆ ---   │\n",
       "│ i64    ┆ i64       ┆ i64              ┆ bool  │\n",
       "╞════════╪═══════════╪══════════════════╪═══════╡\n",
       "│ 577003 ┆ 253932    ┆ 178703           ┆ null  │\n",
       "│ 500766 ┆ 155835    ┆ 12025            ┆ false │\n",
       "│ 468460 ┆ 192681    ┆ 101650           ┆ true  │\n",
       "│ 330634 ┆ 71182     ┆ 19986            ┆ null  │\n",
       "│ 839830 ┆ 30016     ┆ 319360           ┆ null  │\n",
       "│ …      ┆ …         ┆ …                ┆ …     │\n",
       "│ 843703 ┆ 295562    ┆ 353460           ┆ null  │\n",
       "│ 375068 ┆ 149909    ┆ 271760           ┆ null  │\n",
       "│ 752043 ┆ 169032    ┆ 265647           ┆ null  │\n",
       "│ 20329  ┆ 36392     ┆ 315081           ┆ null  │\n",
       "│ 636307 ┆ 141845    ┆ 196880           ┆ null  │\n",
       "└────────┴───────────┴──────────────────┴───────┘"
      ]
     },
     "execution_count": 4,
     "metadata": {},
     "output_type": "execute_result"
    }
   ],
   "source": [
    "processed_farcaster_undirected_connections = pl.read_parquet(f\"{DATA_PATH}/../farcaster-social-graph-api/farcaster_social_graph_api/data/processed-farcaster-undirected-connections-1730375251.parquet\")\n",
    "processed_farcaster_undirected_connections"
   ]
  },
  {
   "cell_type": "code",
   "execution_count": 8,
   "metadata": {},
   "outputs": [
    {
     "data": {
      "text/html": [
       "<div><style>\n",
       ".dataframe > thead > tr,\n",
       ".dataframe > tbody > tr {\n",
       "  text-align: right;\n",
       "  white-space: pre-wrap;\n",
       "}\n",
       "</style>\n",
       "<small>shape: (51_806_678, 4)</small><table border=\"1\" class=\"dataframe\"><thead><tr><th>fid</th><th>fid_index</th><th>target_fid_index</th><th>bot</th></tr><tr><td>i64</td><td>i64</td><td>i64</td><td>bool</td></tr></thead><tbody><tr><td>577003</td><td>253932</td><td>178703</td><td>null</td></tr><tr><td>500766</td><td>155835</td><td>12025</td><td>null</td></tr><tr><td>468460</td><td>192681</td><td>101650</td><td>true</td></tr><tr><td>330634</td><td>71182</td><td>19986</td><td>null</td></tr><tr><td>839830</td><td>30016</td><td>319360</td><td>null</td></tr><tr><td>&hellip;</td><td>&hellip;</td><td>&hellip;</td><td>&hellip;</td></tr><tr><td>843703</td><td>295562</td><td>353460</td><td>null</td></tr><tr><td>375068</td><td>149909</td><td>271760</td><td>null</td></tr><tr><td>752043</td><td>169032</td><td>265647</td><td>null</td></tr><tr><td>20329</td><td>36392</td><td>315081</td><td>null</td></tr><tr><td>636307</td><td>141845</td><td>196880</td><td>null</td></tr></tbody></table></div>"
      ],
      "text/plain": [
       "shape: (51_806_678, 4)\n",
       "┌────────┬───────────┬──────────────────┬──────┐\n",
       "│ fid    ┆ fid_index ┆ target_fid_index ┆ bot  │\n",
       "│ ---    ┆ ---       ┆ ---              ┆ ---  │\n",
       "│ i64    ┆ i64       ┆ i64              ┆ bool │\n",
       "╞════════╪═══════════╪══════════════════╪══════╡\n",
       "│ 577003 ┆ 253932    ┆ 178703           ┆ null │\n",
       "│ 500766 ┆ 155835    ┆ 12025            ┆ null │\n",
       "│ 468460 ┆ 192681    ┆ 101650           ┆ true │\n",
       "│ 330634 ┆ 71182     ┆ 19986            ┆ null │\n",
       "│ 839830 ┆ 30016     ┆ 319360           ┆ null │\n",
       "│ …      ┆ …         ┆ …                ┆ …    │\n",
       "│ 843703 ┆ 295562    ┆ 353460           ┆ null │\n",
       "│ 375068 ┆ 149909    ┆ 271760           ┆ null │\n",
       "│ 752043 ┆ 169032    ┆ 265647           ┆ null │\n",
       "│ 20329  ┆ 36392     ┆ 315081           ┆ null │\n",
       "│ 636307 ┆ 141845    ┆ 196880           ┆ null │\n",
       "└────────┴───────────┴──────────────────┴──────┘"
      ]
     },
     "execution_count": 8,
     "metadata": {},
     "output_type": "execute_result"
    }
   ],
   "source": [
    "labels = pl.read_parquet(f\"{DATA_PATH}/interim/labels.parquet\")\n",
    "\n",
    "processed_farcaster_undirected_connections = processed_farcaster_undirected_connections.drop(\"bot\").join(\n",
    "    labels, how=\"left\", on=\"fid\", coalesce=True\n",
    ")[[\"fid\", \"fid_index\", \"target_fid_index\", \"bot\"]]\n",
    "processed_farcaster_undirected_connections"
   ]
  },
  {
   "cell_type": "code",
   "execution_count": 27,
   "metadata": {},
   "outputs": [],
   "source": [
    "import random\n",
    "import math\n",
    "import os\n",
    "import glob\n",
    "from collections import defaultdict\n",
    "from typing import Set, Dict, Tuple, List\n",
    "import polars as pl\n",
    "import time\n",
    "import asyncio\n",
    "import numpy as np\n",
    "import logging\n",
    "\n",
    "\n",
    "class SybilScar:\n",
    "    def __init__(self):\n",
    "        self.network_map = defaultdict(list)\n",
    "        self.weighted_graph = 0\n",
    "        self.prior = None\n",
    "        self.post = None\n",
    "        self.post_pre = None\n",
    "        self.theta_pos = 0.6\n",
    "        self.theta_neg = 0.4\n",
    "        self.theta_unl = 0.5\n",
    "        self.weight = 0.6\n",
    "        self.max_iter = 10\n",
    "        self.N = 0\n",
    "        self.ordering_array = []\n",
    "        self.semaphore = asyncio.Semaphore(4)\n",
    "\n",
    "    def add_edge(self, node1, node2, w):\n",
    "        if node1 != node2:  # Avoid self-loops\n",
    "            self.network_map[node1].append((node2, w))\n",
    "\n",
    "    # Refactored to read from in-memory connections data\n",
    "    def read_network(self, connections):\n",
    "        for node1, node2 in connections:\n",
    "            self.add_edge(node1, node2, self.weight - 0.5)\n",
    "\n",
    "        self.N = len(self.network_map)\n",
    "        self.post = np.zeros(self.N)\n",
    "        self.post_pre = np.zeros(self.N)\n",
    "        self.prior = np.zeros(self.N)\n",
    "\n",
    "    # Refactored to read from in-memory sybil and benigns sets\n",
    "    def read_prior(self, train_sybils, train_benigns):\n",
    "        self.prior.fill(self.theta_unl - 0.5)\n",
    "\n",
    "        for benign in train_benigns:\n",
    "            self.prior[benign] = self.theta_pos - 0.5\n",
    "\n",
    "        for sybil in train_sybils:\n",
    "            self.prior[sybil] = self.theta_neg - 0.5\n",
    "\n",
    "    ## Write final posterior probabilities of nodes to the output file\n",
    "    ## The final posterior probability is changed from p (in the residual form) to p + 0.5.\n",
    "    def get_posterior(self, post_file):\n",
    "        # with open(post_file, 'w') as f:\n",
    "        #     for i in range(self.N):\n",
    "        #         f.write(f\"{i} {self.post[i] + 0.5:.10f}\\n\")\n",
    "\n",
    "        data = [\n",
    "            {\"fid_index\": i, \"posterior\": self.post[i] + 0.5} for i in range(self.N)\n",
    "        ]\n",
    "        df_lazy = pl.LazyFrame(data)\n",
    "        return df_lazy\n",
    "\n",
    "    async def lbp_thread(self, start, end):\n",
    "        async with self.semaphore:\n",
    "            for index in range(start, end):\n",
    "                node = self.ordering_array[index]\n",
    "                # update the the post for node\n",
    "                for neighbor, weight in self.network_map[node]:\n",
    "                    self.post[node] += 2 * self.post_pre[neighbor] * weight\n",
    "                self.post[node] += self.prior[node]\n",
    "                self.post[node] = max(min(self.post[node], 0.5), -0.5)\n",
    "\n",
    "    # Async version of the LBP algorithm\n",
    "    async def lbp_async(self):\n",
    "        self.ordering_array = list(range(self.N))\n",
    "\n",
    "        # initialize posts\n",
    "        np.copyto(self.post, self.prior)\n",
    "        iter_count = 1\n",
    "\n",
    "        while iter_count <= self.max_iter:\n",
    "            random.shuffle(self.ordering_array)\n",
    "            np.copyto(self.post_pre, self.post)\n",
    "\n",
    "            tasks = []\n",
    "            num_nodes = int(\n",
    "                np.ceil(self.N / self.semaphore._value)\n",
    "            )  # Divide tasks by semaphore limit\n",
    "            for current_thread in range(self.semaphore._value):\n",
    "                start = current_thread * num_nodes\n",
    "                end = min(start + num_nodes, self.N)\n",
    "                task = asyncio.create_task(self.lbp_thread(start, end))\n",
    "                tasks.append(task)\n",
    "\n",
    "            await asyncio.gather(*tasks)\n",
    "            iter_count += 1\n",
    "\n",
    "\n",
    "class SybilScarExecutor:\n",
    "    def __init__(self):\n",
    "        self.data_path = DATA_PATH\n",
    "        self.sybil_scar = SybilScar()\n",
    "        \n",
    "\n",
    "    def load_data(self):\n",
    "        \"\"\"Load data from the Parquet file and process connections, sybils, and benigns.\"\"\"\n",
    "\n",
    "        connections_df = processed_farcaster_undirected_connections\n",
    "        self.connections = ((row[0], row[1]) for row in connections_df[[\"fid_index\", \"target_fid_index\"]].iter_rows())\n",
    "\n",
    "        sybils_df = (\n",
    "            connections_df.filter(pl.col(\"bot\") == True)[\"fid_index\"]\n",
    "            .unique()\n",
    "            .sample(300, seed=42)\n",
    "        )\n",
    "        self.sybils = (s for s in sybils_df.to_list())\n",
    "\n",
    "        benigns_df = (\n",
    "            connections_df.filter(pl.col(\"bot\") == False)[\"fid_index\"]\n",
    "            .unique()\n",
    "            .sample(300, seed=42)\n",
    "        )\n",
    "        self.benigns = (b for b in benigns_df.to_list())\n",
    "\n",
    "    async def arun_sybil_scar(self):\n",
    "        \"\"\"Execute the SybilScar algorithm asynchronously on the loaded data.\"\"\"\n",
    "        self.sybil_scar.read_network(self.connections)\n",
    "        self.sybil_scar.read_prior(self.sybils, self.benigns)\n",
    "        await self.sybil_scar.lbp_async()\n",
    "\n",
    "    def save_results(self, output_file: str):\n",
    "        \"\"\"Write the SybilScar post results to a file.\"\"\"\n",
    "        posterior_df = self.sybil_scar.get_posterior(output_file)\n",
    "        posterior_df.sink_parquet(output_file)\n",
    "\n",
    "    async def execute(self):\n",
    "        \"\"\"Load data, run the algorithm, and save the results.\"\"\"\n",
    "        print(\"here\")\n",
    "        logging.info(\"Running SybilScar...\")\n",
    "        start = time.time()\n",
    "\n",
    "        self.load_data()\n",
    "\n",
    "        logging.info(\"Data loaded. Running SybilScar algorithm...\")\n",
    "        await self.arun_sybil_scar()\n",
    "\n",
    "        logging.info(\"SybilScar algorithm executed. Saving results...\")\n",
    "        self.save_results(\n",
    "            self.data_path + \"/sybil_scar_results.parquet\"\n",
    "        )\n",
    "        end = time.time()\n",
    "\n",
    "        logging.info(f\"SybilScar execution time: {end - start:.2f} seconds\")\n",
    "    \n"
   ]
  },
  {
   "cell_type": "code",
   "execution_count": null,
   "metadata": {},
   "outputs": [
    {
     "name": "stdout",
     "output_type": "stream",
     "text": [
      "here\n"
     ]
    }
   ],
   "source": [
    "executor = SybilScarExecutor()\n",
    "await executor.execute()"
   ]
  },
  {
   "cell_type": "code",
   "execution_count": 36,
   "metadata": {},
   "outputs": [
    {
     "data": {
      "text/plain": [
       "[]"
      ]
     },
     "execution_count": 36,
     "metadata": {},
     "output_type": "execute_result"
    }
   ],
   "source": [
    "list(executor.benigns)"
   ]
  },
  {
   "cell_type": "code",
   "execution_count": 120,
   "metadata": {},
   "outputs": [],
   "source": [
    "connections_df = processed_farcaster_undirected_connections\n",
    "sconnections = ((row[0], row[1]) for row in connections_df[[\"fid_index\", \"target_fid_index\"]].iter_rows())\n",
    "\n",
    "sybils_df = (\n",
    "    connections_df.filter(pl.col(\"bot\") == True)[\"fid_index\"]\n",
    "    .unique()\n",
    "    .sample(300, seed=42)\n",
    ")\n",
    "train_sybils = (s for s in sybils_df.to_list())\n",
    "\n",
    "benigns_df = (\n",
    "    connections_df.filter(pl.col(\"bot\") == False)[\"fid_index\"]\n",
    "    .unique()\n",
    "    .sample(300, seed=42)\n",
    ")\n",
    "train_humans = (b for b in benigns_df.to_list())"
   ]
  },
  {
   "cell_type": "code",
   "execution_count": 121,
   "metadata": {},
   "outputs": [
    {
     "name": "stdout",
     "output_type": "stream",
     "text": [
      "[58095, 114833, 271889, 202145, 55784, 118947, 87102, 90710, 327191, 288061, 295896, 62093, 339528, 221160, 110560, 134327, 128514, 228725, 353650, 350399, 13790, 176865, 277330, 335023, 350240, 202127, 254167, 84673, 216450, 290430, 268926, 231988, 48342, 141656, 139440, 161167, 311075, 199395, 33300, 76963, 358815, 240233, 302495, 149417, 67087, 233431, 350492, 252329, 254299, 159912, 362358, 315148, 106861, 224162, 108472, 256679, 23032, 270882, 371983, 74630, 301861, 105502, 361642, 146527, 220218, 154088, 232365, 67129, 62178, 265702, 227770, 132727, 149916, 275893, 33289, 294386, 120031, 363487, 367128, 62266, 231024, 46460, 133003, 84715, 307549, 139617, 366352, 56353, 268161, 156328, 230746, 188497, 364569, 340034, 9888, 5841, 181114, 213322, 111157, 254706, 112914, 169453, 288430, 104530, 43265, 32330, 230875, 272230, 145704, 205957, 339048, 178470, 277309, 175551, 226180, 337295, 192108, 336676, 144871, 14442, 3258, 26753, 307134, 218335, 106042, 294080, 5768, 24042, 285706, 89639, 68588, 110791, 218115, 312188, 38857, 285897, 268352, 75385, 183722, 76084, 294022, 272487, 223900, 200225, 283006, 94047, 189269, 298621, 208319, 274879, 116287, 159521, 101212, 361984, 26001, 12974, 58328, 203893, 190096, 24737, 29998, 333645, 27818, 330878, 60034, 158508, 51169, 224543, 122932, 317564, 233209, 48257, 278289, 39053, 91724, 215807, 167853, 256045, 116745, 60854, 10123, 12315, 82372, 70296, 343741, 44939, 214429, 328806, 295766, 223702, 245519, 81422, 145599, 334398, 206939, 302767, 123688, 333723, 29032, 36962, 362598, 363096, 172670, 198222, 370771, 89281, 362949, 82373, 98374, 258500, 231018, 305235, 4529, 233002, 272678, 326084, 88045, 96303, 349295, 340027, 153935, 362410, 348075, 184022, 189435, 206585, 188967, 302450, 269039, 192999, 141938, 53438, 288548, 218715, 116766, 263842, 282950, 225358, 258796, 89624, 214223, 6233, 7286, 269089, 282391, 170881, 326731, 235412, 10187, 250325, 299772, 309755, 171753, 88926, 192745, 28338, 264960, 47883, 316094, 160682, 316804, 252889, 89840, 156476, 224124, 9186, 210582, 53701, 350853, 193161, 193393, 183527, 85781, 368575, 201028, 168301, 82731, 56859, 61701, 152016, 85012, 211931, 241377, 83876, 77286, 369425, 313748, 60543, 178259, 49229, 22546, 124689, 144873, 229855, 217046, 305330, 172545, 215557, 249504, 345546]\n"
     ]
    }
   ],
   "source": [
    "train_sybils = list(train_sybils)\n",
    "print(train_sybils)"
   ]
  },
  {
   "cell_type": "code",
   "execution_count": 122,
   "metadata": {},
   "outputs": [
    {
     "name": "stdout",
     "output_type": "stream",
     "text": [
      "[98567, 59743, 157151, 80293, 84862, 48961, 136465, 310401, 185117, 266615, 142594, 68185, 93144, 212218, 329261, 148015, 323671, 196455, 351948, 111199, 132649, 126612, 205798, 170909, 183605, 349168, 344301, 53845, 41864, 169270, 252107, 24345, 186545, 100232, 229320, 95935, 161310, 199793, 216274, 71829, 191509, 150110, 165941, 165524, 45736, 154755, 161986, 230832, 274565, 232771, 155571, 70159, 100173, 220517, 185659, 164679, 256243, 326610, 290091, 220198, 1016, 221086, 355541, 348879, 237184, 360063, 161909, 309536, 217694, 242251, 56782, 113159, 104977, 140588, 55476, 78330, 20697, 225821, 110976, 29293, 105521, 316970, 244622, 259040, 171083, 6945, 161860, 265032, 286175, 4845, 66052, 361521, 246277, 179907, 228680, 165044, 264514, 307589, 170305, 180622, 363758, 71489, 197665, 339265, 86651, 360324, 194301, 59108, 159488, 118645, 188440, 155666, 325795, 116036, 66070, 160787, 78363, 51875, 196276, 85909, 11430, 212136, 6932, 83232, 311367, 113792, 50590, 289565, 157779, 126004, 175954, 58044, 268008, 153255, 210313, 154159, 304079, 118350, 54853, 18100, 216845, 118662, 227063, 180200, 284969, 219778, 79777, 359744, 39026, 267860, 135078, 146682, 65790, 126781, 90121, 36743, 222016, 41161, 107947, 340159, 4277, 147193, 293592, 272878, 98463, 187054, 179763, 162359, 238738, 92237, 161399, 68422, 191579, 342239, 329657, 353407, 260605, 372466, 67642, 113369, 71873, 6883, 68370, 6299, 131529, 278067, 98396, 177148, 132974, 190364, 55229, 71790, 118570, 238331, 352646, 263987, 257985, 333004, 205157, 179074, 343042, 54110, 234691, 58264, 82032, 209644, 279362, 13814, 23300, 202463, 365995, 57318, 313207, 259437, 218735, 153178, 58692, 40750, 90206, 158295, 84344, 34515, 70844, 306036, 259550, 27207, 174131, 20493, 354642, 240845, 307154, 331865, 64018, 66664, 100898, 219835, 90795, 111452, 155448, 142988, 179719, 199998, 88527, 92841, 369676, 16876, 76413, 192187, 335660, 313391, 244117, 187226, 330187, 290889, 249663, 114377, 149440, 196623, 130830, 313921, 36811, 239634, 135580, 12464, 233035, 81556, 191909, 87110, 114354, 153095, 113698, 153420, 32517, 76544, 86876, 212403, 202201, 50496, 350326, 141720, 64212, 369616, 192084, 275307, 14230, 25369, 200537, 113363, 176704, 290525, 6589, 160711, 183220, 118779, 102839, 308547, 273535, 54480, 231080, 251121]\n"
     ]
    }
   ],
   "source": [
    "train_humans = list(train_humans)\n",
    "print(train_humans)"
   ]
  },
  {
   "cell_type": "code",
   "execution_count": null,
   "metadata": {},
   "outputs": [
    {
     "data": {
      "text/html": [
       "<div><style>\n",
       ".dataframe > thead > tr,\n",
       ".dataframe > tbody > tr {\n",
       "  text-align: right;\n",
       "  white-space: pre-wrap;\n",
       "}\n",
       "</style>\n",
       "<small>shape: (375_366, 2)</small><table border=\"1\" class=\"dataframe\"><thead><tr><th>fid_index</th><th>posterior</th></tr><tr><td>i64</td><td>f64</td></tr></thead><tbody><tr><td>0</td><td>0.0</td></tr><tr><td>1</td><td>0.0</td></tr><tr><td>2</td><td>0.0</td></tr><tr><td>3</td><td>0.5</td></tr><tr><td>4</td><td>0.0</td></tr><tr><td>&hellip;</td><td>&hellip;</td></tr><tr><td>375361</td><td>0.0</td></tr><tr><td>375362</td><td>0.0</td></tr><tr><td>375363</td><td>0.0</td></tr><tr><td>375364</td><td>0.0</td></tr><tr><td>375365</td><td>0.0</td></tr></tbody></table></div>"
      ],
      "text/plain": [
       "shape: (375_366, 2)\n",
       "┌───────────┬───────────┐\n",
       "│ fid_index ┆ posterior │\n",
       "│ ---       ┆ ---       │\n",
       "│ i64       ┆ f64       │\n",
       "╞═══════════╪═══════════╡\n",
       "│ 0         ┆ 0.0       │\n",
       "│ 1         ┆ 0.0       │\n",
       "│ 2         ┆ 0.0       │\n",
       "│ 3         ┆ 0.5       │\n",
       "│ 4         ┆ 0.0       │\n",
       "│ …         ┆ …         │\n",
       "│ 375361    ┆ 0.0       │\n",
       "│ 375362    ┆ 0.0       │\n",
       "│ 375363    ┆ 0.0       │\n",
       "│ 375364    ┆ 0.0       │\n",
       "│ 375365    ┆ 0.0       │\n",
       "└───────────┴───────────┘"
      ]
     },
     "execution_count": 48,
     "metadata": {},
     "output_type": "execute_result"
    }
   ],
   "source": [
    "results = pl.read_parquet(f\"{DATA_PATH}/sybil_scar_results.parquet\")\n",
    "results.join()"
   ]
  },
  {
   "cell_type": "code",
   "execution_count": 50,
   "metadata": {},
   "outputs": [
    {
     "data": {
      "text/html": [
       "<div><style>\n",
       ".dataframe > thead > tr,\n",
       ".dataframe > tbody > tr {\n",
       "  text-align: right;\n",
       "  white-space: pre-wrap;\n",
       "}\n",
       "</style>\n",
       "<small>shape: (375_366, 2)</small><table border=\"1\" class=\"dataframe\"><thead><tr><th>fid_index</th><th>fid</th></tr><tr><td>i64</td><td>i64</td></tr></thead><tbody><tr><td>13642</td><td>561442</td></tr><tr><td>268730</td><td>825401</td></tr><tr><td>241092</td><td>515305</td></tr><tr><td>272940</td><td>330999</td></tr><tr><td>273970</td><td>459430</td></tr><tr><td>&hellip;</td><td>&hellip;</td></tr><tr><td>160937</td><td>610330</td></tr><tr><td>67462</td><td>249128</td></tr><tr><td>125004</td><td>452718</td></tr><tr><td>207320</td><td>514295</td></tr><tr><td>355205</td><td>650635</td></tr></tbody></table></div>"
      ],
      "text/plain": [
       "shape: (375_366, 2)\n",
       "┌───────────┬────────┐\n",
       "│ fid_index ┆ fid    │\n",
       "│ ---       ┆ ---    │\n",
       "│ i64       ┆ i64    │\n",
       "╞═══════════╪════════╡\n",
       "│ 13642     ┆ 561442 │\n",
       "│ 268730    ┆ 825401 │\n",
       "│ 241092    ┆ 515305 │\n",
       "│ 272940    ┆ 330999 │\n",
       "│ 273970    ┆ 459430 │\n",
       "│ …         ┆ …      │\n",
       "│ 160937    ┆ 610330 │\n",
       "│ 67462     ┆ 249128 │\n",
       "│ 125004    ┆ 452718 │\n",
       "│ 207320    ┆ 514295 │\n",
       "│ 355205    ┆ 650635 │\n",
       "└───────────┴────────┘"
      ]
     },
     "execution_count": 50,
     "metadata": {},
     "output_type": "execute_result"
    }
   ],
   "source": [
    "index_to_fid = processed_farcaster_undirected_connections.group_by(\"fid_index\").agg(pl.col(\"fid\").last())\n",
    "index_to_fid"
   ]
  },
  {
   "cell_type": "code",
   "execution_count": 51,
   "metadata": {},
   "outputs": [
    {
     "data": {
      "text/html": [
       "<div><style>\n",
       ".dataframe > thead > tr,\n",
       ".dataframe > tbody > tr {\n",
       "  text-align: right;\n",
       "  white-space: pre-wrap;\n",
       "}\n",
       "</style>\n",
       "<small>shape: (375_366, 3)</small><table border=\"1\" class=\"dataframe\"><thead><tr><th>fid_index</th><th>posterior</th><th>fid</th></tr><tr><td>i64</td><td>f64</td><td>i64</td></tr></thead><tbody><tr><td>13642</td><td>0.0</td><td>561442</td></tr><tr><td>268730</td><td>0.0</td><td>825401</td></tr><tr><td>241092</td><td>0.0</td><td>515305</td></tr><tr><td>272940</td><td>1.0</td><td>330999</td></tr><tr><td>273970</td><td>0.0</td><td>459430</td></tr><tr><td>&hellip;</td><td>&hellip;</td><td>&hellip;</td></tr><tr><td>160937</td><td>0.0</td><td>610330</td></tr><tr><td>67462</td><td>0.0</td><td>249128</td></tr><tr><td>125004</td><td>0.0</td><td>452718</td></tr><tr><td>207320</td><td>0.0</td><td>514295</td></tr><tr><td>355205</td><td>0.0</td><td>650635</td></tr></tbody></table></div>"
      ],
      "text/plain": [
       "shape: (375_366, 3)\n",
       "┌───────────┬───────────┬────────┐\n",
       "│ fid_index ┆ posterior ┆ fid    │\n",
       "│ ---       ┆ ---       ┆ ---    │\n",
       "│ i64       ┆ f64       ┆ i64    │\n",
       "╞═══════════╪═══════════╪════════╡\n",
       "│ 13642     ┆ 0.0       ┆ 561442 │\n",
       "│ 268730    ┆ 0.0       ┆ 825401 │\n",
       "│ 241092    ┆ 0.0       ┆ 515305 │\n",
       "│ 272940    ┆ 1.0       ┆ 330999 │\n",
       "│ 273970    ┆ 0.0       ┆ 459430 │\n",
       "│ …         ┆ …         ┆ …      │\n",
       "│ 160937    ┆ 0.0       ┆ 610330 │\n",
       "│ 67462     ┆ 0.0       ┆ 249128 │\n",
       "│ 125004    ┆ 0.0       ┆ 452718 │\n",
       "│ 207320    ┆ 0.0       ┆ 514295 │\n",
       "│ 355205    ┆ 0.0       ┆ 650635 │\n",
       "└───────────┴───────────┴────────┘"
      ]
     },
     "execution_count": 51,
     "metadata": {},
     "output_type": "execute_result"
    }
   ],
   "source": [
    "results = results.join(index_to_fid,on=\"fid_index\",coalesce=True)\n",
    "results"
   ]
  },
  {
   "cell_type": "code",
   "execution_count": 124,
   "metadata": {},
   "outputs": [
    {
     "data": {
      "text/html": [
       "<div><style>\n",
       ".dataframe > thead > tr,\n",
       ".dataframe > tbody > tr {\n",
       "  text-align: right;\n",
       "  white-space: pre-wrap;\n",
       "}\n",
       "</style>\n",
       "<small>shape: (4_448, 2)</small><table border=\"1\" class=\"dataframe\"><thead><tr><th>fid</th><th>bot</th></tr><tr><td>i64</td><td>bool</td></tr></thead><tbody><tr><td>11</td><td>false</td></tr><tr><td>52</td><td>false</td></tr><tr><td>55</td><td>false</td></tr><tr><td>63</td><td>false</td></tr><tr><td>64</td><td>false</td></tr><tr><td>81</td><td>false</td></tr><tr><td>165</td><td>false</td></tr><tr><td>176</td><td>false</td></tr><tr><td>183</td><td>false</td></tr><tr><td>189</td><td>false</td></tr><tr><td>&hellip;</td><td>&hellip;</td></tr><tr><td>425595</td><td>true</td></tr><tr><td>411185</td><td>true</td></tr><tr><td>14897</td><td>true</td></tr><tr><td>251615</td><td>true</td></tr><tr><td>287794</td><td>true</td></tr><tr><td>280179</td><td>true</td></tr><tr><td>423036</td><td>true</td></tr><tr><td>327500</td><td>true</td></tr><tr><td>428200</td><td>true</td></tr><tr><td>278549</td><td>true</td></tr></tbody></table></div>"
      ],
      "text/plain": [
       "shape: (4_448, 2)\n",
       "┌────────┬───────┐\n",
       "│ fid    ┆ bot   │\n",
       "│ ---    ┆ ---   │\n",
       "│ i64    ┆ bool  │\n",
       "╞════════╪═══════╡\n",
       "│ 11     ┆ false │\n",
       "│ 52     ┆ false │\n",
       "│ 55     ┆ false │\n",
       "│ 63     ┆ false │\n",
       "│ 64     ┆ false │\n",
       "│ 81     ┆ false │\n",
       "│ 165    ┆ false │\n",
       "│ 176    ┆ false │\n",
       "│ 183    ┆ false │\n",
       "│ 189    ┆ false │\n",
       "│ …      ┆ …     │\n",
       "│ 425595 ┆ true  │\n",
       "│ 411185 ┆ true  │\n",
       "│ 14897  ┆ true  │\n",
       "│ 251615 ┆ true  │\n",
       "│ 287794 ┆ true  │\n",
       "│ 280179 ┆ true  │\n",
       "│ 423036 ┆ true  │\n",
       "│ 327500 ┆ true  │\n",
       "│ 428200 ┆ true  │\n",
       "│ 278549 ┆ true  │\n",
       "└────────┴───────┘"
      ]
     },
     "execution_count": 124,
     "metadata": {},
     "output_type": "execute_result"
    }
   ],
   "source": [
    "labels = pl.read_parquet(f\"{DATA_PATH}/interim/labels.parquet\")\n",
    "train_labels = index_to_fid.filter(pl.col(\"fid_index\").is_in(train_sybils + train_humans))\n",
    "train_labels\n",
    "test_labels = labels.filter(~pl.col(\"fid\").is_in(train_labels[\"fid\"]))\n",
    "test_labels"
   ]
  },
  {
   "cell_type": "code",
   "execution_count": 125,
   "metadata": {},
   "outputs": [],
   "source": [
    "train_labels.write_parquet(f\"{DATA_PATH}/interim/train_labels.parquet\")"
   ]
  },
  {
   "cell_type": "code",
   "execution_count": null,
   "metadata": {},
   "outputs": [
    {
     "data": {
      "text/html": [
       "<div><style>\n",
       ".dataframe > thead > tr,\n",
       ".dataframe > tbody > tr {\n",
       "  text-align: right;\n",
       "  white-space: pre-wrap;\n",
       "}\n",
       "</style>\n",
       "<small>shape: (4_420, 4)</small><table border=\"1\" class=\"dataframe\"><thead><tr><th>fid</th><th>bot</th><th>fid_index</th><th>posterior</th></tr><tr><td>i64</td><td>i8</td><td>i64</td><td>f64</td></tr></thead><tbody><tr><td>11</td><td>0</td><td>250220</td><td>0.0</td></tr><tr><td>52</td><td>0</td><td>152581</td><td>0.0</td></tr><tr><td>63</td><td>0</td><td>49744</td><td>0.0</td></tr><tr><td>64</td><td>0</td><td>146572</td><td>0.0</td></tr><tr><td>81</td><td>0</td><td>76784</td><td>0.0</td></tr><tr><td>165</td><td>0</td><td>186665</td><td>0.0</td></tr><tr><td>176</td><td>0</td><td>15493</td><td>0.0</td></tr><tr><td>183</td><td>0</td><td>178992</td><td>0.0</td></tr><tr><td>189</td><td>0</td><td>150404</td><td>0.0</td></tr><tr><td>190</td><td>0</td><td>327885</td><td>0.0</td></tr><tr><td>&hellip;</td><td>&hellip;</td><td>&hellip;</td><td>&hellip;</td></tr><tr><td>425595</td><td>1</td><td>100606</td><td>1.0</td></tr><tr><td>411185</td><td>1</td><td>111245</td><td>1.0</td></tr><tr><td>14897</td><td>1</td><td>207445</td><td>1.0</td></tr><tr><td>251615</td><td>1</td><td>212164</td><td>1.0</td></tr><tr><td>287794</td><td>1</td><td>52460</td><td>1.0</td></tr><tr><td>280179</td><td>1</td><td>174777</td><td>1.0</td></tr><tr><td>423036</td><td>1</td><td>283687</td><td>1.0</td></tr><tr><td>327500</td><td>1</td><td>169966</td><td>1.0</td></tr><tr><td>428200</td><td>1</td><td>72388</td><td>1.0</td></tr><tr><td>278549</td><td>1</td><td>22377</td><td>1.0</td></tr></tbody></table></div>"
      ],
      "text/plain": [
       "shape: (4_420, 4)\n",
       "┌────────┬─────┬───────────┬───────────┐\n",
       "│ fid    ┆ bot ┆ fid_index ┆ posterior │\n",
       "│ ---    ┆ --- ┆ ---       ┆ ---       │\n",
       "│ i64    ┆ i8  ┆ i64       ┆ f64       │\n",
       "╞════════╪═════╪═══════════╪═══════════╡\n",
       "│ 11     ┆ 0   ┆ 250220    ┆ 0.0       │\n",
       "│ 52     ┆ 0   ┆ 152581    ┆ 0.0       │\n",
       "│ 63     ┆ 0   ┆ 49744     ┆ 0.0       │\n",
       "│ 64     ┆ 0   ┆ 146572    ┆ 0.0       │\n",
       "│ 81     ┆ 0   ┆ 76784     ┆ 0.0       │\n",
       "│ 165    ┆ 0   ┆ 186665    ┆ 0.0       │\n",
       "│ 176    ┆ 0   ┆ 15493     ┆ 0.0       │\n",
       "│ 183    ┆ 0   ┆ 178992    ┆ 0.0       │\n",
       "│ 189    ┆ 0   ┆ 150404    ┆ 0.0       │\n",
       "│ 190    ┆ 0   ┆ 327885    ┆ 0.0       │\n",
       "│ …      ┆ …   ┆ …         ┆ …         │\n",
       "│ 425595 ┆ 1   ┆ 100606    ┆ 1.0       │\n",
       "│ 411185 ┆ 1   ┆ 111245    ┆ 1.0       │\n",
       "│ 14897  ┆ 1   ┆ 207445    ┆ 1.0       │\n",
       "│ 251615 ┆ 1   ┆ 212164    ┆ 1.0       │\n",
       "│ 287794 ┆ 1   ┆ 52460     ┆ 1.0       │\n",
       "│ 280179 ┆ 1   ┆ 174777    ┆ 1.0       │\n",
       "│ 423036 ┆ 1   ┆ 283687    ┆ 1.0       │\n",
       "│ 327500 ┆ 1   ┆ 169966    ┆ 1.0       │\n",
       "│ 428200 ┆ 1   ┆ 72388     ┆ 1.0       │\n",
       "│ 278549 ┆ 1   ┆ 22377     ┆ 1.0       │\n",
       "└────────┴─────┴───────────┴───────────┘"
      ]
     },
     "execution_count": 101,
     "metadata": {},
     "output_type": "execute_result"
    }
   ],
   "source": [
    "df = test_labels.join(results,on=\"fid\",how=\"left\",coalesce=True)\n",
    "df = df.with_columns(pl.col(\"bot\").cast(pl.Int8).alias(\"bot\"))\n",
    "# Invert the posterior\n",
    "df = df.with_columns((1-pl.col(\"posterior\")).alias(\"posterior\"))\n",
    "df"
   ]
  },
  {
   "cell_type": "code",
   "execution_count": 102,
   "metadata": {},
   "outputs": [
    {
     "name": "stdout",
     "output_type": "stream",
     "text": [
      "ROC: 0.9545484093947662\n",
      "Confusion matrix:\n",
      " [[ 102    5]\n",
      " [ 197 4116]]\n"
     ]
    }
   ],
   "source": [
    "from sklearn.metrics import roc_auc_score, confusion_matrix\n",
    "\n",
    "y_true = df['bot'].to_numpy()\n",
    "y_pred = df['posterior'].to_numpy()\n",
    "print(\"ROC:\",roc_auc_score(y_true, y_pred))\n",
    "print(\"Confusion matrix:\\n\",confusion_matrix(y_true,y_pred.round()))"
   ]
  },
  {
   "cell_type": "markdown",
   "metadata": {},
   "source": [
    "### Inspect the results"
   ]
  },
  {
   "cell_type": "code",
   "execution_count": 104,
   "metadata": {},
   "outputs": [
    {
     "data": {
      "text/html": [
       "<div><style>\n",
       ".dataframe > thead > tr,\n",
       ".dataframe > tbody > tr {\n",
       "  text-align: right;\n",
       "  white-space: pre-wrap;\n",
       "}\n",
       "</style>\n",
       "<small>shape: (4_420, 6)</small><table border=\"1\" class=\"dataframe\"><thead><tr><th>fid</th><th>bot</th><th>fid_index</th><th>posterior</th><th>fname</th><th>fname_right</th></tr><tr><td>i64</td><td>i8</td><td>i64</td><td>f64</td><td>str</td><td>str</td></tr></thead><tbody><tr><td>11</td><td>0</td><td>250220</td><td>0.0</td><td>&quot;graham&quot;</td><td>&quot;graham&quot;</td></tr><tr><td>52</td><td>0</td><td>152581</td><td>0.0</td><td>&quot;sinahab&quot;</td><td>&quot;sinahab&quot;</td></tr><tr><td>63</td><td>0</td><td>49744</td><td>0.0</td><td>&quot;lauren&quot;</td><td>&quot;lauren&quot;</td></tr><tr><td>64</td><td>0</td><td>146572</td><td>0.0</td><td>&quot;maksim&quot;</td><td>&quot;maksim&quot;</td></tr><tr><td>81</td><td>0</td><td>76784</td><td>0.0</td><td>&quot;blau.eth&quot;</td><td>&quot;blau.eth&quot;</td></tr><tr><td>165</td><td>0</td><td>186665</td><td>0.0</td><td>&quot;ludo&quot;</td><td>&quot;ludo&quot;</td></tr><tr><td>176</td><td>0</td><td>15493</td><td>0.0</td><td>&quot;ajwaxman&quot;</td><td>&quot;ajwaxman&quot;</td></tr><tr><td>183</td><td>0</td><td>178992</td><td>0.0</td><td>&quot;koloz&quot;</td><td>&quot;koloz&quot;</td></tr><tr><td>189</td><td>0</td><td>150404</td><td>0.0</td><td>&quot;abram&quot;</td><td>&quot;abram&quot;</td></tr><tr><td>190</td><td>0</td><td>327885</td><td>0.0</td><td>&quot;bohm&quot;</td><td>&quot;bohm&quot;</td></tr><tr><td>&hellip;</td><td>&hellip;</td><td>&hellip;</td><td>&hellip;</td><td>&hellip;</td><td>&hellip;</td></tr><tr><td>425595</td><td>1</td><td>100606</td><td>1.0</td><td>&quot;hannahx.eth&quot;</td><td>&quot;hannahx.eth&quot;</td></tr><tr><td>411185</td><td>1</td><td>111245</td><td>1.0</td><td>&quot;wickedgang&quot;</td><td>&quot;wickedgang&quot;</td></tr><tr><td>14897</td><td>1</td><td>207445</td><td>1.0</td><td>&quot;rahim29&quot;</td><td>&quot;rahim29&quot;</td></tr><tr><td>251615</td><td>1</td><td>212164</td><td>1.0</td><td>&quot;guesto321&quot;</td><td>&quot;guesto321&quot;</td></tr><tr><td>287794</td><td>1</td><td>52460</td><td>1.0</td><td>&quot;jenny1&quot;</td><td>&quot;jenny1&quot;</td></tr><tr><td>280179</td><td>1</td><td>174777</td><td>1.0</td><td>&quot;blocki9020&quot;</td><td>&quot;blocki9020&quot;</td></tr><tr><td>423036</td><td>1</td><td>283687</td><td>1.0</td><td>&quot;sheva7.eth&quot;</td><td>&quot;sheva7.eth&quot;</td></tr><tr><td>327500</td><td>1</td><td>169966</td><td>1.0</td><td>&quot;82v4n&quot;</td><td>&quot;82v4n&quot;</td></tr><tr><td>428200</td><td>1</td><td>72388</td><td>1.0</td><td>&quot;solo3040.eth&quot;</td><td>&quot;solo3040.eth&quot;</td></tr><tr><td>278549</td><td>1</td><td>22377</td><td>1.0</td><td>&quot;botxd&quot;</td><td>&quot;botxd&quot;</td></tr></tbody></table></div>"
      ],
      "text/plain": [
       "shape: (4_420, 6)\n",
       "┌────────┬─────┬───────────┬───────────┬──────────────┬──────────────┐\n",
       "│ fid    ┆ bot ┆ fid_index ┆ posterior ┆ fname        ┆ fname_right  │\n",
       "│ ---    ┆ --- ┆ ---       ┆ ---       ┆ ---          ┆ ---          │\n",
       "│ i64    ┆ i8  ┆ i64       ┆ f64       ┆ str          ┆ str          │\n",
       "╞════════╪═════╪═══════════╪═══════════╪══════════════╪══════════════╡\n",
       "│ 11     ┆ 0   ┆ 250220    ┆ 0.0       ┆ graham       ┆ graham       │\n",
       "│ 52     ┆ 0   ┆ 152581    ┆ 0.0       ┆ sinahab      ┆ sinahab      │\n",
       "│ 63     ┆ 0   ┆ 49744     ┆ 0.0       ┆ lauren       ┆ lauren       │\n",
       "│ 64     ┆ 0   ┆ 146572    ┆ 0.0       ┆ maksim       ┆ maksim       │\n",
       "│ 81     ┆ 0   ┆ 76784     ┆ 0.0       ┆ blau.eth     ┆ blau.eth     │\n",
       "│ 165    ┆ 0   ┆ 186665    ┆ 0.0       ┆ ludo         ┆ ludo         │\n",
       "│ 176    ┆ 0   ┆ 15493     ┆ 0.0       ┆ ajwaxman     ┆ ajwaxman     │\n",
       "│ 183    ┆ 0   ┆ 178992    ┆ 0.0       ┆ koloz        ┆ koloz        │\n",
       "│ 189    ┆ 0   ┆ 150404    ┆ 0.0       ┆ abram        ┆ abram        │\n",
       "│ 190    ┆ 0   ┆ 327885    ┆ 0.0       ┆ bohm         ┆ bohm         │\n",
       "│ …      ┆ …   ┆ …         ┆ …         ┆ …            ┆ …            │\n",
       "│ 425595 ┆ 1   ┆ 100606    ┆ 1.0       ┆ hannahx.eth  ┆ hannahx.eth  │\n",
       "│ 411185 ┆ 1   ┆ 111245    ┆ 1.0       ┆ wickedgang   ┆ wickedgang   │\n",
       "│ 14897  ┆ 1   ┆ 207445    ┆ 1.0       ┆ rahim29      ┆ rahim29      │\n",
       "│ 251615 ┆ 1   ┆ 212164    ┆ 1.0       ┆ guesto321    ┆ guesto321    │\n",
       "│ 287794 ┆ 1   ┆ 52460     ┆ 1.0       ┆ jenny1       ┆ jenny1       │\n",
       "│ 280179 ┆ 1   ┆ 174777    ┆ 1.0       ┆ blocki9020   ┆ blocki9020   │\n",
       "│ 423036 ┆ 1   ┆ 283687    ┆ 1.0       ┆ sheva7.eth   ┆ sheva7.eth   │\n",
       "│ 327500 ┆ 1   ┆ 169966    ┆ 1.0       ┆ 82v4n        ┆ 82v4n        │\n",
       "│ 428200 ┆ 1   ┆ 72388     ┆ 1.0       ┆ solo3040.eth ┆ solo3040.eth │\n",
       "│ 278549 ┆ 1   ┆ 22377     ┆ 1.0       ┆ botxd        ┆ botxd        │\n",
       "└────────┴─────┴───────────┴───────────┴──────────────┴──────────────┘"
      ]
     },
     "execution_count": 104,
     "metadata": {},
     "output_type": "execute_result"
    }
   ],
   "source": [
    "# Load fnames for later manual inspection\n",
    "fnames = pl.read_parquet(f\"{DATA_PATH}/raw/farcaster-fnames-0-1730134800.parquet\")\n",
    "last_fnames = fnames[[\"fid\",\"updated_at\"]].group_by(\"fid\").max()\n",
    "last_fnames = last_fnames.join(fnames,on=[\"fid\",\"updated_at\"],how=\"left\",coalesce=True)[[\"fid\",\"fname\"]]\n",
    "last_fnames\n",
    "\n",
    "df = df.join(last_fnames,on=\"fid\",how=\"left\",coalesce=True)\n",
    "df"
   ]
  },
  {
   "cell_type": "code",
   "execution_count": 114,
   "metadata": {},
   "outputs": [
    {
     "data": {
      "text/html": [
       "<div><style>\n",
       ".dataframe > thead > tr,\n",
       ".dataframe > tbody > tr {\n",
       "  text-align: right;\n",
       "  white-space: pre-wrap;\n",
       "}\n",
       "</style>\n",
       "<small>shape: (20, 6)</small><table border=\"1\" class=\"dataframe\"><thead><tr><th>fid</th><th>bot</th><th>fid_index</th><th>posterior</th><th>fname</th><th>fname_right</th></tr><tr><td>i64</td><td>i8</td><td>i64</td><td>f64</td><td>str</td><td>str</td></tr></thead><tbody><tr><td>248564</td><td>1</td><td>307092</td><td>0.0</td><td>&quot;disqtible&quot;</td><td>&quot;disqtible&quot;</td></tr><tr><td>248150</td><td>1</td><td>270759</td><td>0.0</td><td>&quot;manueljose19&quot;</td><td>&quot;manueljose19&quot;</td></tr><tr><td>403248</td><td>1</td><td>177901</td><td>0.0</td><td>&quot;ogsalesbot&quot;</td><td>&quot;ogsalesbot&quot;</td></tr><tr><td>2864</td><td>1</td><td>351649</td><td>0.0</td><td>&quot;launch&quot;</td><td>&quot;launch&quot;</td></tr><tr><td>240339</td><td>1</td><td>50483</td><td>0.0</td><td>&quot;beeee&quot;</td><td>&quot;beeee&quot;</td></tr><tr><td>242025</td><td>1</td><td>140897</td><td>0.0</td><td>&quot;0xenigma&quot;</td><td>&quot;0xenigma&quot;</td></tr><tr><td>12090</td><td>1</td><td>237131</td><td>0.0</td><td>&quot;eyzed&quot;</td><td>&quot;eyzed&quot;</td></tr><tr><td>289613</td><td>1</td><td>93553</td><td>0.0</td><td>&quot;gratefulape&quot;</td><td>&quot;gratefulape&quot;</td></tr><tr><td>459385</td><td>1</td><td>226022</td><td>0.0</td><td>&quot;sari1996&quot;</td><td>&quot;sari1996&quot;</td></tr><tr><td>428441</td><td>1</td><td>69619</td><td>0.0</td><td>&quot;purpledrank&quot;</td><td>&quot;purpledrank&quot;</td></tr><tr><td>3198</td><td>1</td><td>84214</td><td>0.0</td><td>&quot;elijah&quot;</td><td>&quot;elijah&quot;</td></tr><tr><td>296313</td><td>1</td><td>198312</td><td>0.0</td><td>&quot;brokebrah&quot;</td><td>&quot;brokebrah&quot;</td></tr><tr><td>218753</td><td>1</td><td>370009</td><td>0.0</td><td>&quot;zora-feed&quot;</td><td>&quot;zora-feed&quot;</td></tr><tr><td>262906</td><td>1</td><td>368352</td><td>0.0</td><td>&quot;0x-jack&quot;</td><td>&quot;0x-jack&quot;</td></tr><tr><td>381068</td><td>1</td><td>252691</td><td>0.0</td><td>&quot;imagineinfra.eth&quot;</td><td>&quot;imagineinfra.eth&quot;</td></tr><tr><td>301744</td><td>1</td><td>262600</td><td>0.0</td><td>&quot;kyleconfehr&quot;</td><td>&quot;kyleconfehr&quot;</td></tr><tr><td>364927</td><td>1</td><td>105812</td><td>0.0</td><td>&quot;paybot&quot;</td><td>&quot;paybot&quot;</td></tr><tr><td>489641</td><td>1</td><td>288678</td><td>0.0</td><td>&quot;concert&quot;</td><td>&quot;concert&quot;</td></tr><tr><td>281993</td><td>1</td><td>286365</td><td>0.0</td><td>&quot;hyjek22&quot;</td><td>&quot;hyjek22&quot;</td></tr><tr><td>289081</td><td>1</td><td>165256</td><td>0.0</td><td>&quot;0xhoneyjar&quot;</td><td>&quot;0xhoneyjar&quot;</td></tr></tbody></table></div>"
      ],
      "text/plain": [
       "shape: (20, 6)\n",
       "┌────────┬─────┬───────────┬───────────┬──────────────────┬──────────────────┐\n",
       "│ fid    ┆ bot ┆ fid_index ┆ posterior ┆ fname            ┆ fname_right      │\n",
       "│ ---    ┆ --- ┆ ---       ┆ ---       ┆ ---              ┆ ---              │\n",
       "│ i64    ┆ i8  ┆ i64       ┆ f64       ┆ str              ┆ str              │\n",
       "╞════════╪═════╪═══════════╪═══════════╪══════════════════╪══════════════════╡\n",
       "│ 248564 ┆ 1   ┆ 307092    ┆ 0.0       ┆ disqtible        ┆ disqtible        │\n",
       "│ 248150 ┆ 1   ┆ 270759    ┆ 0.0       ┆ manueljose19     ┆ manueljose19     │\n",
       "│ 403248 ┆ 1   ┆ 177901    ┆ 0.0       ┆ ogsalesbot       ┆ ogsalesbot       │\n",
       "│ 2864   ┆ 1   ┆ 351649    ┆ 0.0       ┆ launch           ┆ launch           │\n",
       "│ 240339 ┆ 1   ┆ 50483     ┆ 0.0       ┆ beeee            ┆ beeee            │\n",
       "│ 242025 ┆ 1   ┆ 140897    ┆ 0.0       ┆ 0xenigma         ┆ 0xenigma         │\n",
       "│ 12090  ┆ 1   ┆ 237131    ┆ 0.0       ┆ eyzed            ┆ eyzed            │\n",
       "│ 289613 ┆ 1   ┆ 93553     ┆ 0.0       ┆ gratefulape      ┆ gratefulape      │\n",
       "│ 459385 ┆ 1   ┆ 226022    ┆ 0.0       ┆ sari1996         ┆ sari1996         │\n",
       "│ 428441 ┆ 1   ┆ 69619     ┆ 0.0       ┆ purpledrank      ┆ purpledrank      │\n",
       "│ 3198   ┆ 1   ┆ 84214     ┆ 0.0       ┆ elijah           ┆ elijah           │\n",
       "│ 296313 ┆ 1   ┆ 198312    ┆ 0.0       ┆ brokebrah        ┆ brokebrah        │\n",
       "│ 218753 ┆ 1   ┆ 370009    ┆ 0.0       ┆ zora-feed        ┆ zora-feed        │\n",
       "│ 262906 ┆ 1   ┆ 368352    ┆ 0.0       ┆ 0x-jack          ┆ 0x-jack          │\n",
       "│ 381068 ┆ 1   ┆ 252691    ┆ 0.0       ┆ imagineinfra.eth ┆ imagineinfra.eth │\n",
       "│ 301744 ┆ 1   ┆ 262600    ┆ 0.0       ┆ kyleconfehr      ┆ kyleconfehr      │\n",
       "│ 364927 ┆ 1   ┆ 105812    ┆ 0.0       ┆ paybot           ┆ paybot           │\n",
       "│ 489641 ┆ 1   ┆ 288678    ┆ 0.0       ┆ concert          ┆ concert          │\n",
       "│ 281993 ┆ 1   ┆ 286365    ┆ 0.0       ┆ hyjek22          ┆ hyjek22          │\n",
       "│ 289081 ┆ 1   ┆ 165256    ┆ 0.0       ┆ 0xhoneyjar       ┆ 0xhoneyjar       │\n",
       "└────────┴─────┴───────────┴───────────┴──────────────────┴──────────────────┘"
      ]
     },
     "execution_count": 114,
     "metadata": {},
     "output_type": "execute_result"
    }
   ],
   "source": [
    "pl.Config.set_tbl_rows(20)\n",
    "df.filter((pl.col(\"posterior\")==0) & (pl.col(\"bot\") == 1)).sample(20,seed=42)"
   ]
  },
  {
   "cell_type": "code",
   "execution_count": 113,
   "metadata": {},
   "outputs": [
    {
     "data": {
      "text/html": [
       "<div><style>\n",
       ".dataframe > thead > tr,\n",
       ".dataframe > tbody > tr {\n",
       "  text-align: right;\n",
       "  white-space: pre-wrap;\n",
       "}\n",
       "</style>\n",
       "<small>shape: (5, 6)</small><table border=\"1\" class=\"dataframe\"><thead><tr><th>fid</th><th>bot</th><th>fid_index</th><th>posterior</th><th>fname</th><th>fname_right</th></tr><tr><td>i64</td><td>i8</td><td>i64</td><td>f64</td><td>str</td><td>str</td></tr></thead><tbody><tr><td>12912</td><td>0</td><td>296989</td><td>1.0</td><td>&quot;ir&quot;</td><td>&quot;ir&quot;</td></tr><tr><td>13505</td><td>0</td><td>5061</td><td>1.0</td><td>&quot;jvaleska.eth&quot;</td><td>&quot;jvaleska.eth&quot;</td></tr><tr><td>308771</td><td>0</td><td>292789</td><td>1.0</td><td>&quot;murena.eth&quot;</td><td>&quot;murena.eth&quot;</td></tr><tr><td>386800</td><td>0</td><td>336383</td><td>1.0</td><td>&quot;d3v0nt3&quot;</td><td>&quot;d3v0nt3&quot;</td></tr><tr><td>450155</td><td>0</td><td>142086</td><td>1.0</td><td>&quot;manggo&quot;</td><td>&quot;manggo&quot;</td></tr></tbody></table></div>"
      ],
      "text/plain": [
       "shape: (5, 6)\n",
       "┌────────┬─────┬───────────┬───────────┬──────────────┬──────────────┐\n",
       "│ fid    ┆ bot ┆ fid_index ┆ posterior ┆ fname        ┆ fname_right  │\n",
       "│ ---    ┆ --- ┆ ---       ┆ ---       ┆ ---          ┆ ---          │\n",
       "│ i64    ┆ i8  ┆ i64       ┆ f64       ┆ str          ┆ str          │\n",
       "╞════════╪═════╪═══════════╪═══════════╪══════════════╪══════════════╡\n",
       "│ 12912  ┆ 0   ┆ 296989    ┆ 1.0       ┆ ir           ┆ ir           │\n",
       "│ 13505  ┆ 0   ┆ 5061      ┆ 1.0       ┆ jvaleska.eth ┆ jvaleska.eth │\n",
       "│ 308771 ┆ 0   ┆ 292789    ┆ 1.0       ┆ murena.eth   ┆ murena.eth   │\n",
       "│ 386800 ┆ 0   ┆ 336383    ┆ 1.0       ┆ d3v0nt3      ┆ d3v0nt3      │\n",
       "│ 450155 ┆ 0   ┆ 142086    ┆ 1.0       ┆ manggo       ┆ manggo       │\n",
       "└────────┴─────┴───────────┴───────────┴──────────────┴──────────────┘"
      ]
     },
     "execution_count": 113,
     "metadata": {},
     "output_type": "execute_result"
    }
   ],
   "source": [
    "df.filter((pl.col(\"bot\") == 0) & (pl.col(\"posterior\") == 1))"
   ]
  },
  {
   "cell_type": "markdown",
   "metadata": {},
   "source": [
    "### Conclusion\n",
    "\n",
    "SybilSCAR seems to indeed perform an AUC of 0.95\n",
    "\n",
    "It cannot detect approximately 5% of sybils and marked approximately 5% of the humans as bots."
   ]
  }
 ],
 "metadata": {
  "kernelspec": {
   "display_name": "farcaster-social-graph-notebooks-_gupmy54-py3.13",
   "language": "python",
   "name": "python3"
  },
  "language_info": {
   "codemirror_mode": {
    "name": "ipython",
    "version": 3
   },
   "file_extension": ".py",
   "mimetype": "text/x-python",
   "name": "python",
   "nbconvert_exporter": "python",
   "pygments_lexer": "ipython3",
   "version": "3.13.0"
  }
 },
 "nbformat": 4,
 "nbformat_minor": 2
}
