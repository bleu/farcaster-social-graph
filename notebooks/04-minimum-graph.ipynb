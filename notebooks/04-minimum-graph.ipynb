{
 "cells": [
  {
   "cell_type": "code",
   "execution_count": null,
   "id": "70424877-027c-4e9f-83ae-a37adf8f4025",
   "metadata": {},
   "outputs": [],
   "source": [
    "import polars as pl\n",
    "from hashlib import sha256\n",
    "import os\n",
    "import json\n",
    "from urllib.parse import urlparse, parse_qs\n",
    "import networkx as nx\n",
    "import matplotlib.pyplot as plt\n",
    "pl.Config.set_fmt_str_lengths(400)\n",
    "# !pip install pyarrow"
   ]
  },
  {
   "cell_type": "code",
   "execution_count": null,
   "id": "064fcfa3-6589-490a-9766-e5406cba2684",
   "metadata": {},
   "outputs": [],
   "source": [
    "DATA_PATH = os.getenv(\"DATA_PATH\", \"\")"
   ]
  },
  {
   "cell_type": "code",
   "execution_count": null,
   "id": "4966cb11",
   "metadata": {},
   "outputs": [],
   "source": [
    "bot_or_not_df = pl.scan_parquet(f\"{DATA_PATH}/interim/bot_or_not_without_info.parquet\")"
   ]
  },
  {
   "cell_type": "code",
   "execution_count": null,
   "id": "0cd668ba-503b-441f-8839-c92ab54875fd",
   "metadata": {},
   "outputs": [],
   "source": [
    "links_lazy_df = pl.scan_parquet(f\"{DATA_PATH}/raw/farcaster-links-0-1730134800.parquet\")"
   ]
  },
  {
   "cell_type": "code",
   "execution_count": null,
   "id": "292396bb-470e-42cb-b322-f461b1b0dadb",
   "metadata": {},
   "outputs": [],
   "source": [
    "bot_or_not_df"
   ]
  },
  {
   "cell_type": "code",
   "execution_count": null,
   "id": "febf48e8-80b5-4bfd-af18-87cfe5c730ce",
   "metadata": {},
   "outputs": [],
   "source": [
    "# links_lazy_df.filter(pl.col('deleted_at').is_null()).head(5).collect()"
   ]
  },
  {
   "cell_type": "code",
   "execution_count": null,
   "id": "3c4fcd6b-3341-4c21-8d17-67574d977f9b",
   "metadata": {},
   "outputs": [],
   "source": [
    "bot_or_not_fids = bot_or_not_df.select(\"fid\")"
   ]
  },
  {
   "cell_type": "code",
   "execution_count": null,
   "id": "335b0720-8fb6-4e93-8072-3459e68adeba",
   "metadata": {},
   "outputs": [],
   "source": [
    "links_filtered_by_fid = links_lazy_df.join(bot_or_not_fids, on=\"fid\", how=\"inner\")\n",
    "links_between_bots = links_filtered_by_fid.join(bot_or_not_fids, left_on=\"target_fid\", right_on=\"fid\", how=\"inner\")"
   ]
  },
  {
   "cell_type": "code",
   "execution_count": null,
   "id": "8b5582e7-9769-4dec-be50-8faa690626e3",
   "metadata": {},
   "outputs": [],
   "source": [
    "links_between_bots_df = links_between_bots.collect()"
   ]
  },
  {
   "cell_type": "code",
   "execution_count": null,
   "id": "d38d9b1a-80d0-409d-98d2-9491e4516adf",
   "metadata": {},
   "outputs": [],
   "source": [
    "links_between_bots_df"
   ]
  },
  {
   "cell_type": "code",
   "execution_count": null,
   "id": "70ea5d2e-32f6-4d7e-ac50-6e7e42319997",
   "metadata": {},
   "outputs": [],
   "source": [
    "links_df = links_between_bots_df.filter(pl.col('fid') != pl.col('target_fid'))"
   ]
  },
  {
   "cell_type": "code",
   "execution_count": null,
   "id": "e770d708-7359-4500-b9aa-e596c5a9ef96",
   "metadata": {},
   "outputs": [],
   "source": [
    "# bots_fids.collect()"
   ]
  },
  {
   "cell_type": "code",
   "execution_count": null,
   "id": "635a269d-89c9-46cd-84f5-224ae2f8d343",
   "metadata": {},
   "outputs": [],
   "source": [
    "following_count_df = (\n",
    "    links_df\n",
    "    .filter((pl.col(\"type\") == \"follow\") & (pl.col(\"deleted_at\").is_null()))\n",
    "    .group_by(\"fid\")\n",
    "    .agg(pl.count(\"id\").alias(\"following_count\"))\n",
    ")"
   ]
  },
  {
   "cell_type": "code",
   "execution_count": null,
   "id": "f4846558-3bb9-4e5e-9421-642370eec506",
   "metadata": {},
   "outputs": [],
   "source": [
    "followers_count_df = (\n",
    "    links_df\n",
    "    .filter((pl.col(\"type\") == \"follow\") & (pl.col(\"deleted_at\").is_null()))\n",
    "    .group_by(\"target_fid\")\n",
    "    .agg(pl.count(\"id\").alias(\"followers_count\"))\n",
    "    .rename({\"target_fid\": \"fid\"})\n",
    ")"
   ]
  },
  {
   "cell_type": "code",
   "execution_count": null,
   "id": "4fabd5c1-0fec-4f35-bc4d-e6853028bf65",
   "metadata": {},
   "outputs": [],
   "source": [
    "bots_df = bot_or_not_df.collect()\n",
    "bots_df = bots_df.drop([\"followers_count\", \"following_count\"])\n",
    "result_df = bots_df.join(following_count_df, on=\"fid\", how=\"left\")\n",
    "result_df = result_df.join(followers_count_df, on=\"fid\", how=\"left\")\n",
    "result_df = result_df.fill_null(0)"
   ]
  },
  {
   "cell_type": "code",
   "execution_count": null,
   "id": "9929518e-a83f-4624-8937-abcf10f1b914",
   "metadata": {},
   "outputs": [],
   "source": [
    "result_df"
   ]
  },
  {
   "cell_type": "code",
   "execution_count": null,
   "id": "7436c4e5-8fa0-4757-b091-25a3aaff2f96",
   "metadata": {},
   "outputs": [],
   "source": [
    "# bot_or_not_df.collect().filter(pl.col('fid')==3)"
   ]
  },
  {
   "cell_type": "code",
   "execution_count": null,
   "id": "c00a917b-196b-433c-bad3-8f924564d169",
   "metadata": {},
   "outputs": [],
   "source": [
    "# result_df.unique(subset=['fid'])"
   ]
  },
  {
   "cell_type": "code",
   "execution_count": null,
   "id": "1bb60336-1a7b-4857-9947-521b1b95cc8a",
   "metadata": {},
   "outputs": [],
   "source": [
    "links_df #.unique(subset=['id'])"
   ]
  },
  {
   "cell_type": "code",
   "execution_count": null,
   "id": "49e62d79-9fd9-4000-a7aa-30765636e928",
   "metadata": {},
   "outputs": [],
   "source": [
    "result_df"
   ]
  },
  {
   "cell_type": "code",
   "execution_count": null,
   "id": "bde55deb-bc8c-47be-9080-4ff4a862ecf9",
   "metadata": {},
   "outputs": [],
   "source": [
    "fnames_df = pl.read_parquet(f\"{DATA_PATH}/raw/farcaster-fnames-0-1730134800.parquet\")\n",
    "# 320189"
   ]
  },
  {
   "cell_type": "code",
   "execution_count": null,
   "id": "0613766d-8837-490f-8e09-e7d04704e0e6",
   "metadata": {},
   "outputs": [],
   "source": [
    "# links_df = links_between_bots_df\n",
    "\n",
    "# # G = nx.DiGraph()\n",
    "\n",
    "# nodes = []\n",
    "# for row in links_df.iter_rows():\n",
    "#     # nodes.append([row[0], row[1]])\n",
    "\n",
    "# # plt.figure(figsize=(10, 10))\n",
    "# # pos = nx.spring_layout(G, seed=42)  # Positioning of the nodes\n",
    "# # nx.draw(G, pos, with_labels=True, node_size=500, node_color=\"lightblue\", font_size=10, font_weight=\"bold\", edge_color=\"gray\")\n",
    "\n",
    "# # # Optional: Save the plot as an image\n",
    "# # # plt.savefig(\"bot_graph_connections.png\", format=\"PNG\")\n",
    "\n",
    "# # # Show the plot\n",
    "# # plt.show()"
   ]
  },
  {
   "cell_type": "code",
   "execution_count": null,
   "id": "40bc25bb-c661-421a-9d83-584e8130aaee",
   "metadata": {},
   "outputs": [],
   "source": [
    "# links_between_bots_df"
   ]
  },
  {
   "cell_type": "code",
   "execution_count": null,
   "id": "39002097-72be-40c4-b4a2-31ec2e5271a6",
   "metadata": {},
   "outputs": [],
   "source": [
    "# for row in links_between_bots_df.iter_rows():\n",
    "#     print(row)\n",
    "#     break"
   ]
  },
  {
   "cell_type": "code",
   "execution_count": null,
   "id": "52454dfb-c5bf-402f-8e55-4aa92dc42c64",
   "metadata": {},
   "outputs": [],
   "source": [
    "# len(nodes)"
   ]
  },
  {
   "cell_type": "code",
   "execution_count": null,
   "id": "93d17ebc-bb66-485f-b655-add1af1da4b4",
   "metadata": {},
   "outputs": [],
   "source": [
    "counts = ['fid','verifications_count', 'recasts_count', 'likes_count', 'total_casts_count','reply_casts_count', 'casts_count']"
   ]
  },
  {
   "cell_type": "code",
   "execution_count": null,
   "id": "55048a4d-470d-46d8-862e-01b0c0f903a2",
   "metadata": {},
   "outputs": [],
   "source": [
    "# result_df.filter(pl.col('bot')==True).sort('likes_count').tail().select(counts) #.describe()\n",
    "result_df.filter(pl.col('bot')==True).sample(seed=42)"
   ]
  },
  {
   "cell_type": "code",
   "execution_count": null,
   "id": "3b3ac163-f1ba-473f-98ad-bb79c39907d2",
   "metadata": {},
   "outputs": [],
   "source": [
    "fnames_df.filter(pl.col('fid')==1)"
   ]
  },
  {
   "cell_type": "code",
   "execution_count": null,
   "id": "05132268-014f-4045-aac1-fcde9c6f2433",
   "metadata": {},
   "outputs": [],
   "source": [
    "profile_with_addresses_df = pl.read_parquet(f\"{DATA_PATH}/raw/farcaster-profile_with_addresses-0-1730134800.parquet\")"
   ]
  },
  {
   "cell_type": "code",
   "execution_count": null,
   "id": "6115f390-d378-45df-9d26-991aae50658f",
   "metadata": {},
   "outputs": [],
   "source": [
    "profile_with_addresses_df.filter(pl.col('fid')==1)"
   ]
  },
  {
   "cell_type": "code",
   "execution_count": null,
   "id": "21b53635-59b9-4cb5-9460-9d05e4451ca6",
   "metadata": {},
   "outputs": [],
   "source": [
    "links_df"
   ]
  },
  {
   "cell_type": "code",
   "execution_count": null,
   "id": "adbd5213-dc0e-44e5-a526-daa6555b6553",
   "metadata": {},
   "outputs": [],
   "source": [
    "links_df.filter(pl.col('deleted_at').is_null()).select(\"type\").count()"
   ]
  },
  {
   "cell_type": "code",
   "execution_count": null,
   "id": "f87c1a09-e43f-41e3-a304-138882f9be31",
   "metadata": {},
   "outputs": [],
   "source": [
    "links_df.filter(pl.col('deleted_at').is_null() & (pl.col('type') == \"follow\")).select('type').count()"
   ]
  },
  {
   "cell_type": "code",
   "execution_count": null,
   "id": "da75988d-95a9-42ca-8236-6f6c9e19fa80",
   "metadata": {
    "scrolled": true
   },
   "outputs": [],
   "source": [
    "df_filtered = links_df.filter(pl.col(\"deleted_at\").is_null())\n",
    "df_filtered = df_filtered.filter(pl.col('fid') != pl.col('target_fid'))\n",
    "df_filtered = df_filtered.filter(pl.col(\"type\") == \"follow\")\n",
    "\n",
    "mutual_links = df_filtered.join(\n",
    "    df_filtered,\n",
    "    left_on=[\"fid\", \"target_fid\"],\n",
    "    right_on=[\"target_fid\", \"fid\"],\n",
    "    suffix=\"_reverse\"\n",
    ")\n",
    "\n",
    "\n",
    "bot_or_not_filtered = bot_or_not_df.collect().filter(\n",
    "    (pl.col(\"fid\").is_in(mutual_links.select('fid').to_series())) |\n",
    "    (pl.col(\"fid\").is_in(mutual_links.select('target_fid').to_series()))\n",
    ")\n",
    "# bot_or_not_filtered\n",
    "bot_or_not_with_index = bot_or_not_filtered.with_columns(\n",
    "    pl.arange(0, bot_or_not_filtered.height).alias(\"index\")\n",
    ")\n",
    "\n",
    "mutual_links_with_fid_index = mutual_links.join(\n",
    "    bot_or_not_with_index.select([pl.col('fid'), pl.col('index').alias('fid_index')]),\n",
    "    on='fid',\n",
    "    how='left'\n",
    ")\n",
    "\n",
    "mutual_links_with_index = mutual_links_with_fid_index.join(\n",
    "    bot_or_not_with_index.select([pl.col('fid'), pl.col('index').alias('target_fid_index')]),\n",
    "    left_on='target_fid',\n",
    "    right_on='fid',\n",
    "    how='left'\n",
    ")\n",
    "\n",
    "\n",
    "mutual_links_with_index = mutual_links_with_index.with_columns(\n",
    "    (pl.col(\"fid_index\").cast(pl.Utf8) + \" \" + pl.col(\"target_fid_index\").cast(pl.Utf8)).alias(\"connection\")\n",
    ")\n",
    "\n",
    "mutual_links_with_index"
   ]
  },
  {
   "cell_type": "code",
   "execution_count": null,
   "id": "308c8ff9-acd1-4e37-85b1-13857f9e57a3",
   "metadata": {},
   "outputs": [],
   "source": [
    "# bot_or_not_with_index.filter(pl.col(\"fid\")==2)"
   ]
  },
  {
   "cell_type": "code",
   "execution_count": null,
   "id": "cc8243db-d36d-4f21-a6e5-26416a9ae79e",
   "metadata": {},
   "outputs": [],
   "source": [
    "connections_list = mutual_links_with_index.select(\"connection\").to_series().to_list()\n",
    "connections_list"
   ]
  },
  {
   "cell_type": "code",
   "execution_count": null,
   "id": "8356b329-14de-4da5-9d30-7c235886572f",
   "metadata": {},
   "outputs": [],
   "source": [
    "with open('graph.txt', 'w') as f:\n",
    "    f.write(\"\\n\".join(connections_list))"
   ]
  },
  {
   "cell_type": "code",
   "execution_count": null,
   "id": "1f1c769b-9b98-421a-8450-012eb96187e8",
   "metadata": {},
   "outputs": [],
   "source": [
    "# bot_or_not = bot_or_not_df.collect()"
   ]
  },
  {
   "cell_type": "code",
   "execution_count": null,
   "id": "4ad670b3-0ffc-4179-8210-698a0a2dcb06",
   "metadata": {},
   "outputs": [],
   "source": [
    "print(bot_or_not_with_index.filter(pl.col(\"bot\")==True).shape)"
   ]
  },
  {
   "cell_type": "code",
   "execution_count": null,
   "id": "626717ee-5eb5-4676-9547-9244daa6a5f2",
   "metadata": {},
   "outputs": [],
   "source": [
    "print(bot_or_not_with_index.filter(pl.col(\"bot\")==False).shape)"
   ]
  },
  {
   "cell_type": "code",
   "execution_count": null,
   "id": "f5a6570d-338f-4eef-b9ca-8bd6ea816fac",
   "metadata": {},
   "outputs": [],
   "source": [
    "train_sybils = bot_or_not_with_index.filter(pl.col(\"bot\")==True).sample(300, seed=40).select(\"index\").to_series().to_list()\n",
    "train_benigns = bot_or_not_with_index.filter(pl.col(\"bot\")==False).sample(300, seed=40).select(\"index\").to_series().to_list()"
   ]
  },
  {
   "cell_type": "code",
   "execution_count": null,
   "id": "9b598244-3e95-4419-bef8-319c5cd5e979",
   "metadata": {},
   "outputs": [],
   "source": [
    "test_sybils = bot_or_not_with_index.filter((pl.col(\"bot\")==True) & (~pl.col(\"index\").is_in(train_sybils))).select(\"index\").to_series().to_list()\n",
    "test_benigns = bot_or_not_with_index.filter((pl.col(\"bot\")==False) & (~pl.col(\"index\").is_in(train_benigns))).select(\"index\").to_series().to_list()"
   ]
  },
  {
   "cell_type": "code",
   "execution_count": null,
   "id": "87288fde-595a-4d7f-8111-54e78298f08d",
   "metadata": {},
   "outputs": [],
   "source": [
    "benign_ids_str = \" \".join(map(str, test_benigns))\n",
    "sybil_ids_str = \" \".join(map(str, test_sybils))\n",
    "\n",
    "with open('test.txt', 'w') as f:\n",
    "    f.write(benign_ids_str + \"\\n\")\n",
    "    f.write(sybil_ids_str + \"\\n\")"
   ]
  },
  {
   "cell_type": "code",
   "execution_count": null,
   "id": "52f8f8f8-6a0a-4808-8247-df2bb69cb920",
   "metadata": {},
   "outputs": [],
   "source": [
    "benign_ids_str = \" \".join(map(str, train_benigns))\n",
    "sybil_ids_str = \" \".join(map(str, train_sybils))\n",
    "\n",
    "with open('train.txt', 'w') as f:\n",
    "    f.write(benign_ids_str + \"\\n\")\n",
    "    f.write(sybil_ids_str + \"\\n\")"
   ]
  },
  {
   "cell_type": "code",
   "execution_count": null,
   "id": "ab49a15d-7ccd-4abd-bd1e-270c8734fa25",
   "metadata": {},
   "outputs": [],
   "source": [
    "bot_or_not_with_index"
   ]
  },
  {
   "cell_type": "code",
   "execution_count": null,
   "id": "0886c6bf-4bec-4e42-b4a8-cbc57b3022b1",
   "metadata": {},
   "outputs": [],
   "source": [
    "bot_or_not_with_index.filter(pl.col(\"bot\")==False)\n",
    "4_655 + 7_192"
   ]
  },
  {
   "cell_type": "code",
   "execution_count": null,
   "id": "9774a402-871f-4d49-976d-4b32ddc2fef9",
   "metadata": {},
   "outputs": [],
   "source": [
    "bot_or_not_with_index"
   ]
  },
  {
   "cell_type": "code",
   "execution_count": null,
   "id": "1429afc3-561f-4f32-afc1-e5069a236fd6",
   "metadata": {},
   "outputs": [],
   "source": [
    "print(bot_or_not_with_index.filter((pl.col(\"bot\")==True) & (~pl.col(\"index\").is_in(train_sybils))))\n",
    "print(bot_or_not_with_index.filter((pl.col(\"bot\")==False) & (~pl.col(\"index\").is_in(train_benigns))))\n",
    "\n",
    "4_155 + 6_692 #+ 1000"
   ]
  },
  {
   "cell_type": "code",
   "execution_count": null,
   "id": "991bb6e7-9ae1-496c-a94d-ce571c9a8e73",
   "metadata": {},
   "outputs": [],
   "source": [
    "mutual_links_with_index #.filter(pl.col('fid')==pl.col('target_fid'))"
   ]
  },
  {
   "cell_type": "code",
   "execution_count": null,
   "id": "dda61a4e-f5d7-4dde-8c10-8d8d5b04d1fb",
   "metadata": {},
   "outputs": [],
   "source": [
    "#df1 = mutual_links_with_index.join(bot_or_not_filtered.select([\"fid\", \"bot\"]), how=\"left\", on=\"fid\")\n",
    "#df1.select([\"fid_index\",\"target_fid_index\",\"bot\"]).write_parquet(f\"{DATA_PATH}/interim/test-bots.parquet\")"
   ]
  },
  {
   "cell_type": "code",
   "execution_count": null,
   "id": "33a0ae44-2fa3-4127-bd89-7b41c5d74122",
   "metadata": {},
   "outputs": [],
   "source": []
  }
 ],
 "metadata": {
  "kernelspec": {
   "display_name": "farcaster-social-graph-notebooks-_gupmy54-py3.13",
   "language": "python",
   "name": "python3"
  },
  "language_info": {
   "codemirror_mode": {
    "name": "ipython",
    "version": 3
   },
   "file_extension": ".py",
   "mimetype": "text/x-python",
   "name": "python",
   "nbconvert_exporter": "python",
   "pygments_lexer": "ipython3",
   "version": "3.13.0"
  }
 },
 "nbformat": 4,
 "nbformat_minor": 5
}
