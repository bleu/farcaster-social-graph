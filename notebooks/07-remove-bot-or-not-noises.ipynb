{
 "cells": [
  {
   "cell_type": "markdown",
   "metadata": {},
   "source": [
    "# Remove bot-or-not noises\n",
    "\n",
    "### Used files\n",
    "- bot_or_not_without_info\n",
    "- sybilscar_results\n",
    "\n",
    "### Summary:\n",
    "1. Load necessary data\n",
    "2. Apply logic to add new column \"is_noisy\"\n",
    "3. Check bot label changes from sybilscar\n",
    "4. Save new bot_or_not_without_noises"
   ]
  },
  {
   "cell_type": "markdown",
   "metadata": {},
   "source": [
    "### 1. Load necessary data"
   ]
  },
  {
   "cell_type": "code",
   "execution_count": null,
   "metadata": {},
   "outputs": [],
   "source": [
    "import polars as pl\n",
    "import os\n",
    "pl.Config.set_fmt_str_lengths(400)"
   ]
  },
  {
   "cell_type": "code",
   "execution_count": null,
   "metadata": {},
   "outputs": [],
   "source": [
    "DATA_PATH = os.getenv(\"DATA_PATH\", \"\")"
   ]
  },
  {
   "cell_type": "code",
   "execution_count": null,
   "metadata": {},
   "outputs": [],
   "source": [
    "bot_or_not = pl.read_parquet(f\"{DATA_PATH}/interim/bot_or_not_without_info.parquet\")\n",
    "bot_or_not\n"
   ]
  },
  {
   "cell_type": "code",
   "execution_count": null,
   "metadata": {},
   "outputs": [],
   "source": [
    "sybilscar_result = pl.read_parquet(f\"{DATA_PATH}/../farcaster-social-graph-api/farcaster_social_graph_api/data/sybil_scar_results.parquet\")\n",
    "sybilscar_result"
   ]
  },
  {
   "cell_type": "code",
   "execution_count": null,
   "metadata": {},
   "outputs": [],
   "source": [
    "fnames = pl.read_parquet(f\"{DATA_PATH}/raw/farcaster-fnames-0-1730134800.parquet\")\n",
    "last_fnames = fnames[[\"fid\",\"updated_at\"]].group_by(\"fid\").max()\n",
    "last_fnames = last_fnames.join(fnames,on=[\"fid\",\"updated_at\"],how=\"left\",coalesce=True)[[\"fid\",\"fname\"]]\n",
    "# will be used in \"3. Check bot label changes from sybilscar\"\n",
    "last_fnames"
   ]
  },
  {
   "cell_type": "markdown",
   "metadata": {},
   "source": [
    "### 2. Apply logic to add new column \"is_noisy\"\n",
    "\n",
    "For now, we are considering a sample noisy if sybil scar result (threshold p < 0.5) is different than bot_or_not\n"
   ]
  },
  {
   "cell_type": "code",
   "execution_count": null,
   "metadata": {},
   "outputs": [],
   "source": [
    "df = bot_or_not.join(sybilscar_result,on=\"fid\",coalesce=True,how=\"left\")\n",
    "df"
   ]
  },
  {
   "cell_type": "code",
   "execution_count": null,
   "metadata": {},
   "outputs": [],
   "source": [
    "# Check that there are indexes in bot_or_not that are outside the sybilscar result\n",
    "df.filter(pl.col(\"posterior\").is_null())"
   ]
  },
  {
   "cell_type": "code",
   "execution_count": null,
   "metadata": {},
   "outputs": [],
   "source": [
    "df = df.with_columns([\n",
    "    pl.when(pl.col(\"posterior\").is_null())\n",
    "    .then(pl.col(\"bot\"))\n",
    "    .otherwise(pl.col(\"bot\") != (pl.col(\"posterior\") < 0.5 ))\n",
    "    .alias(\"is_noisy\")\n",
    "])\n",
    "\n",
    "display(df)\n",
    "print(\"number of noisy elements: \",df[\"is_noisy\"].sum())"
   ]
  },
  {
   "cell_type": "markdown",
   "metadata": {},
   "source": [
    "### 3. Check bot label changes from sybilscar"
   ]
  },
  {
   "cell_type": "code",
   "execution_count": null,
   "metadata": {},
   "outputs": [],
   "source": [
    "bot_or_not_with_fnames = df.join(last_fnames[[\"fid\",\"fname\"]],on=\"fid\",how=\"left\", coalesce=True)\n",
    "bot_or_not_with_fnames.filter(pl.col(\"is_noisy\"))"
   ]
  },
  {
   "cell_type": "markdown",
   "metadata": {},
   "source": [
    "After manual inspection of the changed labels (noisy values), it is possible to check that ~70% of the changes make sense"
   ]
  },
  {
   "cell_type": "markdown",
   "metadata": {},
   "source": [
    "### 4. Save new bot_or_not_without_noises"
   ]
  },
  {
   "cell_type": "code",
   "execution_count": null,
   "metadata": {},
   "outputs": [],
   "source": [
    "# Filter and remove unnecessary columns\n",
    "bot_or_not_without_noises = df.filter(~pl.col(\"is_noisy\"))[[\"fid\",\"bot\"]]\n",
    "bot_or_not_without_noises"
   ]
  },
  {
   "cell_type": "code",
   "execution_count": null,
   "metadata": {},
   "outputs": [],
   "source": [
    "bot_or_not_without_noises.write_parquet(f\"{DATA_PATH}/interim/bot_or_not_without_noises.parquet\")"
   ]
  }
 ],
 "metadata": {
  "kernelspec": {
   "display_name": "farcaster-social-graph-notebooks-_gupmy54-py3.13",
   "language": "python",
   "name": "python3"
  },
  "language_info": {
   "codemirror_mode": {
    "name": "ipython",
    "version": 3
   },
   "file_extension": ".py",
   "mimetype": "text/x-python",
   "name": "python",
   "nbconvert_exporter": "python",
   "pygments_lexer": "ipython3",
   "version": "3.13.0"
  }
 },
 "nbformat": 4,
 "nbformat_minor": 2
}
