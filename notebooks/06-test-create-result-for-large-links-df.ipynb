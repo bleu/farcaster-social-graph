{
 "cells": [
  {
   "cell_type": "code",
   "execution_count": 1,
   "id": "4fac3f30-f874-4bc7-931d-2abb3060dc38",
   "metadata": {},
   "outputs": [],
   "source": [
    "import os\n",
    "import glob\n",
    "import polars as pl\n",
    "import time"
   ]
  },
  {
   "cell_type": "code",
   "execution_count": 2,
   "id": "a06cb469-3b57-41d9-a4e6-c6dd3b41cd55",
   "metadata": {},
   "outputs": [],
   "source": [
    "\n",
    "class FarcasterLinks:\n",
    "    def __init__(self):\n",
    "        self.download_path = \"/Users/joaovictorassisdasilveira/Desktop/work/bleu/repositories/op-farcaster-social-graph/repo/farcaster-social-graph/notebooks/parquet/full\"\n",
    "\n",
    "    def get_links_lazy_df(self, file_path):\n",
    "        return pl.scan_parquet(file_path)\n",
    "\n",
    "    def get_undirected_links(self, links_df):\n",
    "        \"\"\"\n",
    "        \"\"\"\n",
    "        df_filtered = links_df.filter(\n",
    "            (pl.col(\"deleted_at\").is_null()) & \n",
    "            (pl.col(\"fid\") != pl.col(\"target_fid\")) & \n",
    "            (pl.col(\"type\") == \"follow\")\n",
    "        ).select([\n",
    "            \"fid\", \"target_fid\"\n",
    "        ])\n",
    "\n",
    "\n",
    "        df_sorted = df_filtered.with_columns([\n",
    "            pl.min_horizontal([\"fid\", \"target_fid\"]).alias(\"sorted_fid\"),\n",
    "            pl.max_horizontal([\"fid\", \"target_fid\"]).alias(\"sorted_target_fid\")\n",
    "        ])\n",
    "        \n",
    "        df_grouped = df_sorted.group_by([\"sorted_fid\", \"sorted_target_fid\"]).agg(\n",
    "            pl.count().alias(\"count\")\n",
    "        )\n",
    "        \n",
    "        mutual_df = df_grouped.filter(pl.col(\"count\") == 2).select([\n",
    "            pl.col(\"sorted_fid\").alias(\"fid\"),\n",
    "            pl.col(\"sorted_target_fid\").alias(\"target_fid\")\n",
    "        ])\n",
    "\n",
    "        reversed_mutual_df = mutual_df.select([\n",
    "            pl.col(\"target_fid\").alias(\"fid\"),\n",
    "            pl.col(\"fid\").alias(\"target_fid\")\n",
    "        ])\n",
    "        \n",
    "        df_concat = pl.concat([mutual_df, reversed_mutual_df])\n",
    "\n",
    "        # return df_filtered\n",
    "        \n",
    "        # Perform the self-join to find mutual links\n",
    "        # mutual_links = df_filtered.join(\n",
    "        #     df_filtered,\n",
    "        #     left_on=[\"fid\", \"target_fid\"],\n",
    "        #     right_on=[\"target_fid\", \"fid\"],\n",
    "        #     suffix=\"_reverse\"\n",
    "        # )\n",
    "        \n",
    "        return df_concat\n",
    "\n",
    "    # def get_parquet_schema(self):\n",
    "    #     schema = {\n",
    "    #         \"fid\": pl.Int64,\n",
    "    #         \"target_fid\": pl.Int64,\n",
    "    #         \"hash\": pl.Binary,\n",
    "    #         \"timestamp\": pl.Datetime(\"ns\"),\n",
    "    #         \"created_at\": pl.Datetime(\"ns\"),\n",
    "    #         \"updated_at\": pl.Datetime(\"ns\"),\n",
    "    #         \"deleted_at\": pl.Datetime(\"ns\"),\n",
    "    #         \"type\": pl.Utf8,\n",
    "    #         \"display_timestamp\": pl.Datetime(\"ns\"),\n",
    "    #         \"id\": pl.Int64\n",
    "    #     }\n",
    "    #     return schema\n",
    "    \n",
    "    def write_links_to_parquet(self, links_df):\n",
    "        filename = f\"/processed-farcaster-mutual-links-{int(time.time())}.parquet\"\n",
    "        links_df.sink_parquet(self.download_path + filename)\n",
    "    \n",
    "\n",
    "    def execute(self):\n",
    "        start = time.time()\n",
    "        links_file_path = \"/Users/joaovictorassisdasilveira/Desktop/work/bleu/repositories/op-farcaster-social-graph/repo/farcaster-social-graph/notebooks/parquet/full/farcaster-links-0-1730134800.parquet\"\n",
    "        links_lazy_df = self.get_links_lazy_df(links_file_path)\n",
    "        mutual_links = self.get_undirected_links(links_lazy_df)\n",
    "\n",
    "        # links =  await mutual_links.collect_async()\n",
    "        # links =  mutual_links.collect()\n",
    "        \n",
    "        # self.write_links_to_parquet(mutual_links)\n",
    "        end = time.time()\n",
    "        \n",
    "        print(f\"Execution time: {end - start} seconds\")\n",
    "\n",
    "        return mutual_links\n"
   ]
  },
  {
   "cell_type": "code",
   "execution_count": 3,
   "id": "142989b9-1864-4c80-a3b8-7ee0731a6f17",
   "metadata": {},
   "outputs": [
    {
     "name": "stdout",
     "output_type": "stream",
     "text": [
      "Execution time: 0.00028061866760253906 seconds\n"
     ]
    }
   ],
   "source": [
    "# pl.Config.set_global_thread_pool_size(4)\n",
    "data = FarcasterLinks()\n",
    "links = data.execute()"
   ]
  },
  {
   "cell_type": "code",
   "execution_count": null,
   "id": "f1b2f905-fda2-48b9-ae0a-8419c374931a",
   "metadata": {},
   "outputs": [],
   "source": [
    "%%time\n",
    "links.sink_parquet(\"mutual_connections.parquet\")"
   ]
  },
  {
   "cell_type": "code",
   "execution_count": 10,
   "id": "cc29f856-38af-4694-a531-2d54a6d010d4",
   "metadata": {},
   "outputs": [],
   "source": [
    "df_filtered_sorted = links.sort([\"fid\", \"target_fid\"])\n"
   ]
  },
  {
   "cell_type": "code",
   "execution_count": 12,
   "id": "1e6387a1-1842-4055-98fa-6ccddea17187",
   "metadata": {},
   "outputs": [],
   "source": [
    "df_filtered_sorted = df_filtered_sorted.lazy()"
   ]
  },
  {
   "cell_type": "code",
   "execution_count": 11,
   "id": "8743d2cd-20ef-4aeb-9813-008c8039eee9",
   "metadata": {},
   "outputs": [
    {
     "ename": "KeyboardInterrupt",
     "evalue": "",
     "output_type": "error",
     "traceback": [
      "\u001b[0;31m---------------------------------------------------------------------------\u001b[0m",
      "\u001b[0;31mKeyboardInterrupt\u001b[0m                         Traceback (most recent call last)",
      "Cell \u001b[0;32mIn[11], line 1\u001b[0m\n\u001b[0;32m----> 1\u001b[0m mutual_links \u001b[38;5;241m=\u001b[39m \u001b[43mdf_filtered_sorted\u001b[49m\u001b[38;5;241;43m.\u001b[39;49m\u001b[43mjoin\u001b[49m\u001b[43m(\u001b[49m\n\u001b[1;32m      2\u001b[0m \u001b[43m    \u001b[49m\u001b[43mdf_filtered_sorted\u001b[49m\u001b[43m,\u001b[49m\n\u001b[1;32m      3\u001b[0m \u001b[43m    \u001b[49m\u001b[43mleft_on\u001b[49m\u001b[38;5;241;43m=\u001b[39;49m\u001b[43m[\u001b[49m\u001b[38;5;124;43m\"\u001b[39;49m\u001b[38;5;124;43mfid\u001b[39;49m\u001b[38;5;124;43m\"\u001b[39;49m\u001b[43m,\u001b[49m\u001b[43m \u001b[49m\u001b[38;5;124;43m\"\u001b[39;49m\u001b[38;5;124;43mtarget_fid\u001b[39;49m\u001b[38;5;124;43m\"\u001b[39;49m\u001b[43m]\u001b[49m\u001b[43m,\u001b[49m\n\u001b[1;32m      4\u001b[0m \u001b[43m    \u001b[49m\u001b[43mright_on\u001b[49m\u001b[38;5;241;43m=\u001b[39;49m\u001b[43m[\u001b[49m\u001b[38;5;124;43m\"\u001b[39;49m\u001b[38;5;124;43mtarget_fid\u001b[39;49m\u001b[38;5;124;43m\"\u001b[39;49m\u001b[43m,\u001b[49m\u001b[43m \u001b[49m\u001b[38;5;124;43m\"\u001b[39;49m\u001b[38;5;124;43mfid\u001b[39;49m\u001b[38;5;124;43m\"\u001b[39;49m\u001b[43m]\u001b[49m\u001b[43m,\u001b[49m\n\u001b[1;32m      5\u001b[0m \u001b[43m    \u001b[49m\u001b[43msuffix\u001b[49m\u001b[38;5;241;43m=\u001b[39;49m\u001b[38;5;124;43m\"\u001b[39;49m\u001b[38;5;124;43m_reverse\u001b[39;49m\u001b[38;5;124;43m\"\u001b[39;49m\n\u001b[1;32m      6\u001b[0m \u001b[43m)\u001b[49m\n",
      "File \u001b[0;32m~/.asdf/installs/python/3.10.5/lib/python3.10/site-packages/polars/dataframe/frame.py:7125\u001b[0m, in \u001b[0;36mDataFrame.join\u001b[0;34m(self, other, on, how, left_on, right_on, suffix, validate, join_nulls, coalesce)\u001b[0m\n\u001b[1;32m   7121\u001b[0m     msg \u001b[38;5;241m=\u001b[39m \u001b[38;5;124mf\u001b[39m\u001b[38;5;124m\"\u001b[39m\u001b[38;5;124mexpected `other` join table to be a DataFrame, got \u001b[39m\u001b[38;5;132;01m{\u001b[39;00m\u001b[38;5;28mtype\u001b[39m(other)\u001b[38;5;241m.\u001b[39m\u001b[38;5;18m__name__\u001b[39m\u001b[38;5;132;01m!r}\u001b[39;00m\u001b[38;5;124m\"\u001b[39m\n\u001b[1;32m   7122\u001b[0m     \u001b[38;5;28;01mraise\u001b[39;00m \u001b[38;5;167;01mTypeError\u001b[39;00m(msg)\n\u001b[1;32m   7124\u001b[0m \u001b[38;5;28;01mreturn\u001b[39;00m (\n\u001b[0;32m-> 7125\u001b[0m     \u001b[38;5;28;43mself\u001b[39;49m\u001b[38;5;241;43m.\u001b[39;49m\u001b[43mlazy\u001b[49m\u001b[43m(\u001b[49m\u001b[43m)\u001b[49m\n\u001b[1;32m   7126\u001b[0m \u001b[43m    \u001b[49m\u001b[38;5;241;43m.\u001b[39;49m\u001b[43mjoin\u001b[49m\u001b[43m(\u001b[49m\n\u001b[1;32m   7127\u001b[0m \u001b[43m        \u001b[49m\u001b[43mother\u001b[49m\u001b[38;5;241;43m=\u001b[39;49m\u001b[43mother\u001b[49m\u001b[38;5;241;43m.\u001b[39;49m\u001b[43mlazy\u001b[49m\u001b[43m(\u001b[49m\u001b[43m)\u001b[49m\u001b[43m,\u001b[49m\n\u001b[1;32m   7128\u001b[0m \u001b[43m        \u001b[49m\u001b[43mleft_on\u001b[49m\u001b[38;5;241;43m=\u001b[39;49m\u001b[43mleft_on\u001b[49m\u001b[43m,\u001b[49m\n\u001b[1;32m   7129\u001b[0m \u001b[43m        \u001b[49m\u001b[43mright_on\u001b[49m\u001b[38;5;241;43m=\u001b[39;49m\u001b[43mright_on\u001b[49m\u001b[43m,\u001b[49m\n\u001b[1;32m   7130\u001b[0m \u001b[43m        \u001b[49m\u001b[43mon\u001b[49m\u001b[38;5;241;43m=\u001b[39;49m\u001b[43mon\u001b[49m\u001b[43m,\u001b[49m\n\u001b[1;32m   7131\u001b[0m \u001b[43m        \u001b[49m\u001b[43mhow\u001b[49m\u001b[38;5;241;43m=\u001b[39;49m\u001b[43mhow\u001b[49m\u001b[43m,\u001b[49m\n\u001b[1;32m   7132\u001b[0m \u001b[43m        \u001b[49m\u001b[43msuffix\u001b[49m\u001b[38;5;241;43m=\u001b[39;49m\u001b[43msuffix\u001b[49m\u001b[43m,\u001b[49m\n\u001b[1;32m   7133\u001b[0m \u001b[43m        \u001b[49m\u001b[43mvalidate\u001b[49m\u001b[38;5;241;43m=\u001b[39;49m\u001b[43mvalidate\u001b[49m\u001b[43m,\u001b[49m\n\u001b[1;32m   7134\u001b[0m \u001b[43m        \u001b[49m\u001b[43mjoin_nulls\u001b[49m\u001b[38;5;241;43m=\u001b[39;49m\u001b[43mjoin_nulls\u001b[49m\u001b[43m,\u001b[49m\n\u001b[1;32m   7135\u001b[0m \u001b[43m        \u001b[49m\u001b[43mcoalesce\u001b[49m\u001b[38;5;241;43m=\u001b[39;49m\u001b[43mcoalesce\u001b[49m\u001b[43m,\u001b[49m\n\u001b[1;32m   7136\u001b[0m \u001b[43m    \u001b[49m\u001b[43m)\u001b[49m\n\u001b[1;32m   7137\u001b[0m \u001b[43m    \u001b[49m\u001b[38;5;241;43m.\u001b[39;49m\u001b[43mcollect\u001b[49m\u001b[43m(\u001b[49m\u001b[43m_eager\u001b[49m\u001b[38;5;241;43m=\u001b[39;49m\u001b[38;5;28;43;01mTrue\u001b[39;49;00m\u001b[43m)\u001b[49m\n\u001b[1;32m   7138\u001b[0m )\n",
      "File \u001b[0;32m~/.asdf/installs/python/3.10.5/lib/python3.10/site-packages/polars/lazyframe/frame.py:2050\u001b[0m, in \u001b[0;36mLazyFrame.collect\u001b[0;34m(self, type_coercion, predicate_pushdown, projection_pushdown, simplify_expression, slice_pushdown, comm_subplan_elim, comm_subexpr_elim, cluster_with_columns, collapse_joins, no_optimization, streaming, engine, background, _eager, **_kwargs)\u001b[0m\n\u001b[1;32m   2048\u001b[0m \u001b[38;5;66;03m# Only for testing purposes\u001b[39;00m\n\u001b[1;32m   2049\u001b[0m callback \u001b[38;5;241m=\u001b[39m _kwargs\u001b[38;5;241m.\u001b[39mget(\u001b[38;5;124m\"\u001b[39m\u001b[38;5;124mpost_opt_callback\u001b[39m\u001b[38;5;124m\"\u001b[39m, callback)\n\u001b[0;32m-> 2050\u001b[0m \u001b[38;5;28;01mreturn\u001b[39;00m wrap_df(\u001b[43mldf\u001b[49m\u001b[38;5;241;43m.\u001b[39;49m\u001b[43mcollect\u001b[49m\u001b[43m(\u001b[49m\u001b[43mcallback\u001b[49m\u001b[43m)\u001b[49m)\n",
      "\u001b[0;31mKeyboardInterrupt\u001b[0m: "
     ]
    }
   ],
   "source": [
    "# mutual_links = df_filtered_sorted.join(\n",
    "#     df_filtered_sorted,\n",
    "#     left_on=[\"fid\", \"target_fid\"],\n",
    "#     right_on=[\"target_fid\", \"fid\"],\n",
    "#     suffix=\"_reverse\"\n",
    "# )"
   ]
  },
  {
   "cell_type": "code",
   "execution_count": 16,
   "id": "4394d914-b737-472e-9d4e-997fd421fe0a",
   "metadata": {},
   "outputs": [],
   "source": [
    "# # df = links.lazy()\n",
    "\n",
    "# # Perform the self-join to find mutual connections\n",
    "# mutual_df = df_filtered_sorted.join(\n",
    "#     df_filtered_sorted, \n",
    "#     left_on=[\"fid\", \"target_fid\"], \n",
    "#     right_on=[\"target_fid\", \"fid\"],\n",
    "#     how=\"inner\"\n",
    "# ).select([\n",
    "#     pl.col(\"fid\"), \n",
    "#     pl.col(\"target_fid\")\n",
    "# ])"
   ]
  },
  {
   "cell_type": "code",
   "execution_count": 4,
   "id": "a45e7ee1-dae9-40e0-83a6-4344155c6a41",
   "metadata": {},
   "outputs": [
    {
     "name": "stderr",
     "output_type": "stream",
     "text": [
      "/var/folders/v9/zdrfs19x765_sy8y01lgc13m0000gn/T/ipykernel_47861/3096096080.py:8: DeprecationWarning: `pl.count()` is deprecated. Please use `pl.len()` instead.\n",
      "  pl.count().alias(\"count\")\n"
     ]
    }
   ],
   "source": [
    "df_sorted = links.with_columns([\n",
    "    pl.min_horizontal([\"fid\", \"target_fid\"]).alias(\"sorted_fid\"),\n",
    "    pl.max_horizontal([\"fid\", \"target_fid\"]).alias(\"sorted_target_fid\")\n",
    "])\n",
    "\n",
    "# Step 2: Group by the sorted pairs and count occurrences\n",
    "df_grouped = df_sorted.group_by([\"sorted_fid\", \"sorted_target_fid\"]).agg(\n",
    "    pl.count().alias(\"count\")\n",
    ")\n",
    "# Step 3: Filter to keep only pairs with exactly 2 occurrences (mutual connections)\n",
    "mutual_df = df_grouped.filter(pl.col(\"count\") == 2).select([\n",
    "    pl.col(\"sorted_fid\").alias(\"fid\"),\n",
    "    pl.col(\"sorted_target_fid\").alias(\"target_fid\")\n",
    "])\n",
    "# Since this is a large dataset, save or stream the result rather than collecting into memory\n",
    "# mutual_df.sink_parquet(\"mutual_connections.parquet\")"
   ]
  },
  {
   "cell_type": "code",
   "execution_count": 5,
   "id": "487f2395-9e80-46f7-a9bd-aba4da9115ff",
   "metadata": {},
   "outputs": [
    {
     "name": "stdout",
     "output_type": "stream",
     "text": [
      "CPU times: user 39.2 s, sys: 18.5 s, total: 57.7 s\n",
      "Wall time: 27.4 s\n"
     ]
    }
   ],
   "source": [
    "%%time\n",
    "# start = time.time()\n",
    "# res = mutual_df.collect(streaming=True)\n",
    "mutual_df.sink_parquet(\"mutual_connections.parquet\")\n",
    "# mutual_df.explain(streaming=True)\n",
    "# \n",
    "# end = time.time()\n",
    "# print(f\"Execution time: {end - start} seconds\")"
   ]
  },
  {
   "cell_type": "code",
   "execution_count": 10,
   "id": "e0bfe1c0-70a8-45fd-8fb1-8096ade4d7aa",
   "metadata": {},
   "outputs": [
    {
     "data": {
      "text/plain": [
       "['Array',\n",
       " 'ArrowError',\n",
       " 'Binary',\n",
       " 'Boolean',\n",
       " 'Categorical',\n",
       " 'CategoricalRemappingWarning',\n",
       " 'ChronoFormatWarning',\n",
       " 'ColumnNotFoundError',\n",
       " 'ComputeError',\n",
       " 'Config',\n",
       " 'DATETIME_DTYPES',\n",
       " 'DURATION_DTYPES',\n",
       " 'DataFrame',\n",
       " 'DataType',\n",
       " 'Date',\n",
       " 'Datetime',\n",
       " 'Decimal',\n",
       " 'DuplicateError',\n",
       " 'Duration',\n",
       " 'Enum',\n",
       " 'Expr',\n",
       " 'FLOAT_DTYPES',\n",
       " 'Field',\n",
       " 'Float32',\n",
       " 'Float64',\n",
       " 'INTEGER_DTYPES',\n",
       " 'InProcessQuery',\n",
       " 'Int16',\n",
       " 'Int32',\n",
       " 'Int64',\n",
       " 'Int8',\n",
       " 'InvalidOperationError',\n",
       " 'LazyFrame',\n",
       " 'List',\n",
       " 'MapWithoutReturnDtypeWarning',\n",
       " 'NESTED_DTYPES',\n",
       " 'NUMERIC_DTYPES',\n",
       " 'NoDataError',\n",
       " 'Null',\n",
       " 'Object',\n",
       " 'OutOfBoundsError',\n",
       " 'PolarsDataType',\n",
       " 'PolarsError',\n",
       " 'PolarsPanicError',\n",
       " 'PolarsWarning',\n",
       " 'SQLContext',\n",
       " 'SchemaError',\n",
       " 'SchemaFieldNotFoundError',\n",
       " 'Series',\n",
       " 'ShapeError',\n",
       " 'String',\n",
       " 'StringCache',\n",
       " 'Struct',\n",
       " 'StructFieldNotFoundError',\n",
       " 'TEMPORAL_DTYPES',\n",
       " 'Time',\n",
       " 'UInt16',\n",
       " 'UInt32',\n",
       " 'UInt64',\n",
       " 'UInt8',\n",
       " 'Unknown',\n",
       " 'UnstableWarning',\n",
       " 'Utf8',\n",
       " '__all__',\n",
       " '__annotations__',\n",
       " '__builtins__',\n",
       " '__cached__',\n",
       " '__doc__',\n",
       " '__file__',\n",
       " '__loader__',\n",
       " '__name__',\n",
       " '__package__',\n",
       " '__path__',\n",
       " '__register_startup_deps',\n",
       " '__spec__',\n",
       " '__version__',\n",
       " '_cpu_check',\n",
       " '_reexport',\n",
       " '_utils',\n",
       " 'align_frames',\n",
       " 'all',\n",
       " 'all_horizontal',\n",
       " 'any',\n",
       " 'any_horizontal',\n",
       " 'api',\n",
       " 'apply',\n",
       " 'approx_n_unique',\n",
       " 'arange',\n",
       " 'arctan2',\n",
       " 'arctan2d',\n",
       " 'arg_sort_by',\n",
       " 'arg_where',\n",
       " 'build_info',\n",
       " 'business_day_count',\n",
       " 'coalesce',\n",
       " 'col',\n",
       " 'collect_all',\n",
       " 'collect_all_async',\n",
       " 'concat',\n",
       " 'concat_list',\n",
       " 'concat_str',\n",
       " 'config',\n",
       " 'contextlib',\n",
       " 'convert',\n",
       " 'corr',\n",
       " 'count',\n",
       " 'cov',\n",
       " 'cum_count',\n",
       " 'cum_fold',\n",
       " 'cum_reduce',\n",
       " 'cum_sum',\n",
       " 'cum_sum_horizontal',\n",
       " 'cumfold',\n",
       " 'cumreduce',\n",
       " 'cumsum',\n",
       " 'cumsum_horizontal',\n",
       " 'dataframe',\n",
       " 'datatypes',\n",
       " 'date',\n",
       " 'date_range',\n",
       " 'date_ranges',\n",
       " 'datetime',\n",
       " 'datetime_range',\n",
       " 'datetime_ranges',\n",
       " 'dependencies',\n",
       " 'disable_string_cache',\n",
       " 'duration',\n",
       " 'element',\n",
       " 'enable_string_cache',\n",
       " 'exceptions',\n",
       " 'exclude',\n",
       " 'expr',\n",
       " 'field',\n",
       " 'first',\n",
       " 'fold',\n",
       " 'format',\n",
       " 'from_arrow',\n",
       " 'from_dataframe',\n",
       " 'from_dict',\n",
       " 'from_dicts',\n",
       " 'from_epoch',\n",
       " 'from_numpy',\n",
       " 'from_pandas',\n",
       " 'from_records',\n",
       " 'from_repr',\n",
       " 'functions',\n",
       " 'get_index_type',\n",
       " 'groups',\n",
       " 'head',\n",
       " 'implode',\n",
       " 'int_range',\n",
       " 'int_ranges',\n",
       " 'io',\n",
       " 'last',\n",
       " 'lazyframe',\n",
       " 'len',\n",
       " 'lit',\n",
       " 'map',\n",
       " 'map_batches',\n",
       " 'map_groups',\n",
       " 'max',\n",
       " 'max_horizontal',\n",
       " 'mean',\n",
       " 'mean_horizontal',\n",
       " 'median',\n",
       " 'meta',\n",
       " 'min',\n",
       " 'min_horizontal',\n",
       " 'n_unique',\n",
       " 'nth',\n",
       " 'ones',\n",
       " 'os',\n",
       " 'plugins',\n",
       " 'polars',\n",
       " 'quantile',\n",
       " 'read_avro',\n",
       " 'read_clipboard',\n",
       " 'read_csv',\n",
       " 'read_csv_batched',\n",
       " 'read_database',\n",
       " 'read_database_uri',\n",
       " 'read_delta',\n",
       " 'read_excel',\n",
       " 'read_ipc',\n",
       " 'read_ipc_schema',\n",
       " 'read_ipc_stream',\n",
       " 'read_json',\n",
       " 'read_ndjson',\n",
       " 'read_ods',\n",
       " 'read_parquet',\n",
       " 'read_parquet_schema',\n",
       " 'reduce',\n",
       " 'repeat',\n",
       " 'rolling_corr',\n",
       " 'rolling_cov',\n",
       " 'scan_csv',\n",
       " 'scan_delta',\n",
       " 'scan_iceberg',\n",
       " 'scan_ipc',\n",
       " 'scan_ndjson',\n",
       " 'scan_parquet',\n",
       " 'scan_pyarrow_dataset',\n",
       " 'select',\n",
       " 'selectors',\n",
       " 'series',\n",
       " 'set_random_seed',\n",
       " 'show_versions',\n",
       " 'slice',\n",
       " 'sql',\n",
       " 'sql_expr',\n",
       " 'std',\n",
       " 'string_cache',\n",
       " 'struct',\n",
       " 'sum',\n",
       " 'sum_horizontal',\n",
       " 'tail',\n",
       " 'thread_pool_size',\n",
       " 'threadpool_size',\n",
       " 'time',\n",
       " 'time_range',\n",
       " 'time_ranges',\n",
       " 'type_aliases',\n",
       " 'using_string_cache',\n",
       " 'var',\n",
       " 'when',\n",
       " 'wrap_df',\n",
       " 'wrap_s',\n",
       " 'zeros']"
      ]
     },
     "execution_count": 10,
     "metadata": {},
     "output_type": "execute_result"
    }
   ],
   "source": [
    "pl.thread_pool_size()\n",
    "dir(pl)"
   ]
  },
  {
   "cell_type": "code",
   "execution_count": 4,
   "id": "188db723-133b-4ef0-8ddf-3a5df98e040f",
   "metadata": {},
   "outputs": [
    {
     "name": "stderr",
     "output_type": "stream",
     "text": [
      "<timed exec>:21: DeprecationWarning: `pl.count()` is deprecated. Please use `pl.len()` instead.\n"
     ]
    },
    {
     "name": "stdout",
     "output_type": "stream",
     "text": [
      "CPU times: user 1min 14s, sys: 25.1 s, total: 1min 39s\n",
      "Wall time: 1min\n"
     ]
    }
   ],
   "source": [
    "%%time\n",
    "# df_filtered = links.filter(\n",
    "#     (pl.col(\"deleted_at\").is_null()) &\n",
    "#     (pl.col(\"fid\") != pl.col(\"target_fid\")) &\n",
    "#     (pl.col(\"type\") == \"follow\")\n",
    "# ).select([\"fid\", \"target_fid\"])  # Only keep the necessary columns\n",
    "\n",
    "# Create a reverse relationship (swapping fid and target_fid)\n",
    "df_reversed = links.select([\n",
    "    pl.col(\"target_fid\").alias(\"fid\"),\n",
    "    pl.col(\"fid\").alias(\"target_fid\")\n",
    "])\n",
    "\n",
    "# Concatenate the original and reversed DataFrames\n",
    "df_concat = pl.concat([links, df_reversed])\n",
    "\n",
    "# Group by fid and target_fid and count occurrences (mutual follows will have count = 2)\n",
    "mutual_links = (\n",
    "    df_concat\n",
    "    .group_by([\"fid\", \"target_fid\"])\n",
    "    .agg([\n",
    "        pl.count().alias(\"count\")\n",
    "    ])\n",
    "    .filter(pl.col(\"count\") == 2)  # Keep only mutual follows\n",
    "    .select([\"fid\", \"target_fid\"])  # Final output\n",
    ")\n",
    "\n",
    "mutual_links.sink_parquet(\"mutual_connections2.parquet\")\n",
    "# slower\n",
    "test = pl.read_parquet(\"mutual_connections2.parquet\")\n",
    "test"
   ]
  },
  {
   "cell_type": "code",
   "execution_count": 6,
   "id": "91d303f8-4e7c-4675-acdb-4c4c4dfa73db",
   "metadata": {},
   "outputs": [
    {
     "data": {
      "text/html": [
       "<div><style>\n",
       ".dataframe > thead > tr,\n",
       ".dataframe > tbody > tr {\n",
       "  text-align: right;\n",
       "  white-space: pre-wrap;\n",
       "}\n",
       "</style>\n",
       "<small>shape: (25_009_271, 2)</small><table border=\"1\" class=\"dataframe\"><thead><tr><th>fid</th><th>target_fid</th></tr><tr><td>i64</td><td>i64</td></tr></thead><tbody><tr><td>503739</td><td>509383</td></tr><tr><td>401273</td><td>426502</td></tr><tr><td>344985</td><td>574595</td></tr><tr><td>665654</td><td>665741</td></tr><tr><td>450820</td><td>498037</td></tr><tr><td>&hellip;</td><td>&hellip;</td></tr><tr><td>548559</td><td>574781</td></tr><tr><td>640561</td><td>859377</td></tr><tr><td>628358</td><td>696668</td></tr><tr><td>459878</td><td>690341</td></tr><tr><td>324300</td><td>339425</td></tr></tbody></table></div>"
      ],
      "text/plain": [
       "shape: (25_009_271, 2)\n",
       "┌────────┬────────────┐\n",
       "│ fid    ┆ target_fid │\n",
       "│ ---    ┆ ---        │\n",
       "│ i64    ┆ i64        │\n",
       "╞════════╪════════════╡\n",
       "│ 503739 ┆ 509383     │\n",
       "│ 401273 ┆ 426502     │\n",
       "│ 344985 ┆ 574595     │\n",
       "│ 665654 ┆ 665741     │\n",
       "│ 450820 ┆ 498037     │\n",
       "│ …      ┆ …          │\n",
       "│ 548559 ┆ 574781     │\n",
       "│ 640561 ┆ 859377     │\n",
       "│ 628358 ┆ 696668     │\n",
       "│ 459878 ┆ 690341     │\n",
       "│ 324300 ┆ 339425     │\n",
       "└────────┴────────────┘"
      ]
     },
     "execution_count": 6,
     "metadata": {},
     "output_type": "execute_result"
    }
   ],
   "source": [
    "mutual = pl.read_parquet(\"mutual_connections.parquet\")\n",
    "mutual"
   ]
  },
  {
   "cell_type": "code",
   "execution_count": 10,
   "id": "276c53f9-0f3b-40ef-8c06-9fb9c23f9118",
   "metadata": {},
   "outputs": [
    {
     "data": {
      "text/html": [
       "<div><style>\n",
       ".dataframe > thead > tr,\n",
       ".dataframe > tbody > tr {\n",
       "  text-align: right;\n",
       "  white-space: pre-wrap;\n",
       "}\n",
       "</style>\n",
       "<small>shape: (0, 2)</small><table border=\"1\" class=\"dataframe\"><thead><tr><th>fid</th><th>target_fid</th></tr><tr><td>i64</td><td>i64</td></tr></thead><tbody></tbody></table></div>"
      ],
      "text/plain": [
       "shape: (0, 2)\n",
       "┌─────┬────────────┐\n",
       "│ fid ┆ target_fid │\n",
       "│ --- ┆ ---        │\n",
       "│ i64 ┆ i64        │\n",
       "╞═════╪════════════╡\n",
       "└─────┴────────────┘"
      ]
     },
     "execution_count": 10,
     "metadata": {},
     "output_type": "execute_result"
    }
   ],
   "source": [
    "# test.filter((pl.col('fid')==509383)&(pl.col('target_fid')==503739))"
   ]
  },
  {
   "cell_type": "code",
   "execution_count": 78,
   "id": "fad8a79f-96b6-4efa-9764-b0e8b0d5ba0c",
   "metadata": {},
   "outputs": [
    {
     "name": "stderr",
     "output_type": "stream",
     "text": [
      "<timed exec>:9: DeprecationWarning: The default coalesce behavior of left join will change to `False` in the next breaking release. Pass `coalesce=True` to keep the current behavior and silence this warning.\n",
      "<timed exec>:42: DeprecationWarning: The default coalesce behavior of left join will change to `False` in the next breaking release. Pass `coalesce=True` to keep the current behavior and silence this warning.\n"
     ]
    },
    {
     "name": "stdout",
     "output_type": "stream",
     "text": [
      "CPU times: user 31.1 s, sys: 2.08 s, total: 33.2 s\n",
      "Wall time: 9.29 s\n"
     ]
    }
   ],
   "source": [
    "%%time\n",
    "fids = mutual.lazy().select(\"fid\").unique()\n",
    "target_fids = mutual.lazy().select(\"target_fid\").unique().rename({\"target_fid\": \"fid\"})\n",
    "all_fids = pl.concat([fids, target_fids]).unique().collect()  # Collect to make sure the concatenation works\n",
    "\n",
    "mutual_reindex = all_fids.with_columns(\n",
    "    pl.arange(0, all_fids.shape[0]).alias(\"index\")  # Access shape[0] after collecting\n",
    ").lazy()\n",
    "\n",
    "mutual_links_with_index = mutual.lazy().join(\n",
    "    mutual_reindex.select([pl.col('fid'), pl.col('index').alias('fid_index')]),\n",
    "    on='fid',\n",
    "    how='left'\n",
    ").join(\n",
    "    mutual_reindex.select([pl.col('fid'), pl.col('index').alias('target_fid_index')]),\n",
    "    left_on='target_fid',\n",
    "    right_on='fid',\n",
    "    how='left'\n",
    ")\n",
    "\n",
    "# Reverse the links and align the schema by renaming columns\n",
    "df_reversed = mutual_links_with_index.select([\n",
    "    pl.col(\"target_fid\").alias(\"fid\"),\n",
    "    pl.col(\"fid\").alias(\"target_fid\"),\n",
    "    pl.col(\"target_fid_index\").alias(\"fid_index\"),\n",
    "    pl.col(\"fid_index\").alias(\"target_fid_index\"),\n",
    "])\n",
    "\n",
    "order = [\"fid\", \"target_fid\", \"fid_index\", \"target_fid_index\"]\n",
    "# Use lazy execution and ensure schemas match before concatenating\n",
    "mutual_links_with_index_concatenated = pl.concat([\n",
    "    mutual_links_with_index.select(order),  # Ensure column names match\n",
    "    df_reversed.select(order)  # Ensure column names match\n",
    "])\n",
    "\n",
    "# mutual_links_with_index_concatenated.\n",
    "\n",
    "mutual_links_with_index_concatenated = mutual_links_with_index_concatenated.with_columns(\n",
    "    (pl.col(\"fid_index\").cast(pl.Utf8) + \" \" + pl.col(\"target_fid_index\").cast(pl.Utf8)).alias(\"connection\")\n",
    ")\n",
    "\n",
    "bot_or_not = pl.scan_parquet(f\"/Users/joaovictorassisdasilveira/Desktop/work/bleu/repositories/op-farcaster-social-graph/repo/farcaster-social-graph/notebooks/parquet/full/bot_or_not_without_info.parquet\")\n",
    "\n",
    "mutual_links_with_bot_information = mutual_links_with_index_concatenated.join(bot_or_not, how=\"left\", on=\"fid\")\n",
    "mutual_links_with_bot_information.sink_parquet(\"testei.parquet\")"
   ]
  },
  {
   "cell_type": "code",
   "execution_count": 80,
   "id": "7d6c200c-c428-4b0d-8385-f97eee1d8f40",
   "metadata": {},
   "outputs": [
    {
     "name": "stdout",
     "output_type": "stream",
     "text": [
      "CPU times: user 14.9 s, sys: 3.05 s, total: 17.9 s\n",
      "Wall time: 10.3 s\n"
     ]
    }
   ],
   "source": [
    "%%time\n",
    "connections_list = mutual_links_with_bot_information.select(\"connection\").collect(streaming=True).to_series().to_list()\n",
    "\n",
    "with open('graph.txt', 'w') as f:\n",
    "    f.write(\"\\n\".join(connections_list))"
   ]
  },
  {
   "cell_type": "code",
   "execution_count": 39,
   "id": "7b261663-d995-42eb-a7f6-dfac24f19b1f",
   "metadata": {},
   "outputs": [
    {
     "data": {
      "text/html": [
       "<div><style>\n",
       ".dataframe > thead > tr,\n",
       ".dataframe > tbody > tr {\n",
       "  text-align: right;\n",
       "  white-space: pre-wrap;\n",
       "}\n",
       "</style>\n",
       "<small>shape: (854_876, 6)</small><table border=\"1\" class=\"dataframe\"><thead><tr><th>fid</th><th>target_fid</th><th>fid_index</th><th>target_fid_index</th><th>connection</th><th>bot</th></tr><tr><td>i64</td><td>i64</td><td>i64</td><td>i64</td><td>str</td><td>bool</td></tr></thead><tbody><tr><td>567046</td><td>809753</td><td>79184</td><td>null</td><td>null</td><td>null</td></tr><tr><td>754556</td><td>754608</td><td>142173</td><td>null</td><td>null</td><td>null</td></tr><tr><td>639968</td><td>734886</td><td>48701</td><td>null</td><td>null</td><td>null</td></tr><tr><td>243192</td><td>305891</td><td>114685</td><td>null</td><td>null</td><td>null</td></tr><tr><td>299062</td><td>415776</td><td>241764</td><td>null</td><td>null</td><td>null</td></tr><tr><td>&hellip;</td><td>&hellip;</td><td>&hellip;</td><td>&hellip;</td><td>&hellip;</td><td>&hellip;</td></tr><tr><td>16228</td><td>1356</td><td>null</td><td>121613</td><td>null</td><td>null</td></tr><tr><td>579022</td><td>574150</td><td>null</td><td>116207</td><td>null</td><td>null</td></tr><tr><td>813676</td><td>570528</td><td>null</td><td>249510</td><td>null</td><td>null</td></tr><tr><td>664702</td><td>462166</td><td>null</td><td>159745</td><td>null</td><td>null</td></tr><tr><td>809988</td><td>752622</td><td>null</td><td>240567</td><td>null</td><td>null</td></tr></tbody></table></div>"
      ],
      "text/plain": [
       "shape: (854_876, 6)\n",
       "┌────────┬────────────┬───────────┬──────────────────┬────────────┬──────┐\n",
       "│ fid    ┆ target_fid ┆ fid_index ┆ target_fid_index ┆ connection ┆ bot  │\n",
       "│ ---    ┆ ---        ┆ ---       ┆ ---              ┆ ---        ┆ ---  │\n",
       "│ i64    ┆ i64        ┆ i64       ┆ i64              ┆ str        ┆ bool │\n",
       "╞════════╪════════════╪═══════════╪══════════════════╪════════════╪══════╡\n",
       "│ 567046 ┆ 809753     ┆ 79184     ┆ null             ┆ null       ┆ null │\n",
       "│ 754556 ┆ 754608     ┆ 142173    ┆ null             ┆ null       ┆ null │\n",
       "│ 639968 ┆ 734886     ┆ 48701     ┆ null             ┆ null       ┆ null │\n",
       "│ 243192 ┆ 305891     ┆ 114685    ┆ null             ┆ null       ┆ null │\n",
       "│ 299062 ┆ 415776     ┆ 241764    ┆ null             ┆ null       ┆ null │\n",
       "│ …      ┆ …          ┆ …         ┆ …                ┆ …          ┆ …    │\n",
       "│ 16228  ┆ 1356       ┆ null      ┆ 121613           ┆ null       ┆ null │\n",
       "│ 579022 ┆ 574150     ┆ null      ┆ 116207           ┆ null       ┆ null │\n",
       "│ 813676 ┆ 570528     ┆ null      ┆ 249510           ┆ null       ┆ null │\n",
       "│ 664702 ┆ 462166     ┆ null      ┆ 159745           ┆ null       ┆ null │\n",
       "│ 809988 ┆ 752622     ┆ null      ┆ 240567           ┆ null       ┆ null │\n",
       "└────────┴────────────┴───────────┴──────────────────┴────────────┴──────┘"
      ]
     },
     "execution_count": 39,
     "metadata": {},
     "output_type": "execute_result"
    }
   ],
   "source": [
    "mutual_links_with_bot_information.filter(pl.col(\"connection\").is_null()).cou"
   ]
  },
  {
   "cell_type": "code",
   "execution_count": 84,
   "id": "1dfdcae6-2e55-41d5-a819-5eed5807fbd6",
   "metadata": {},
   "outputs": [],
   "source": [
    "con = pl.scan_parquet(\"processed-farcaster-undirected-connections-1728923932.parquet\")"
   ]
  },
  {
   "cell_type": "code",
   "execution_count": 86,
   "id": "801220f8-8f4c-4022-94d0-401032ffde3b",
   "metadata": {},
   "outputs": [
    {
     "data": {
      "text/html": [
       "<div><style>\n",
       ".dataframe > thead > tr,\n",
       ".dataframe > tbody > tr {\n",
       "  text-align: right;\n",
       "  white-space: pre-wrap;\n",
       "}\n",
       "</style>\n",
       "<small>shape: (50_018_542, 3)</small><table border=\"1\" class=\"dataframe\"><thead><tr><th>fid_index</th><th>target_fid_index</th><th>bot</th></tr><tr><td>i64</td><td>i64</td><td>bool</td></tr></thead><tbody><tr><td>61552</td><td>352612</td><td>false</td></tr><tr><td>279002</td><td>62892</td><td>null</td></tr><tr><td>193624</td><td>157311</td><td>null</td></tr><tr><td>365755</td><td>218793</td><td>false</td></tr><tr><td>300964</td><td>223801</td><td>null</td></tr><tr><td>&hellip;</td><td>&hellip;</td><td>&hellip;</td></tr><tr><td>316096</td><td>35857</td><td>null</td></tr><tr><td>41544</td><td>137984</td><td>null</td></tr><tr><td>303571</td><td>361575</td><td>null</td></tr><tr><td>10948</td><td>225425</td><td>null</td></tr><tr><td>192867</td><td>27192</td><td>null</td></tr></tbody></table></div>"
      ],
      "text/plain": [
       "shape: (50_018_542, 3)\n",
       "┌───────────┬──────────────────┬───────┐\n",
       "│ fid_index ┆ target_fid_index ┆ bot   │\n",
       "│ ---       ┆ ---              ┆ ---   │\n",
       "│ i64       ┆ i64              ┆ bool  │\n",
       "╞═══════════╪══════════════════╪═══════╡\n",
       "│ 61552     ┆ 352612           ┆ false │\n",
       "│ 279002    ┆ 62892            ┆ null  │\n",
       "│ 193624    ┆ 157311           ┆ null  │\n",
       "│ 365755    ┆ 218793           ┆ false │\n",
       "│ 300964    ┆ 223801           ┆ null  │\n",
       "│ …         ┆ …                ┆ …     │\n",
       "│ 316096    ┆ 35857            ┆ null  │\n",
       "│ 41544     ┆ 137984           ┆ null  │\n",
       "│ 303571    ┆ 361575           ┆ null  │\n",
       "│ 10948     ┆ 225425           ┆ null  │\n",
       "│ 192867    ┆ 27192            ┆ null  │\n",
       "└───────────┴──────────────────┴───────┘"
      ]
     },
     "execution_count": 86,
     "metadata": {},
     "output_type": "execute_result"
    }
   ],
   "source": [
    "con.collect()"
   ]
  },
  {
   "cell_type": "code",
   "execution_count": 108,
   "id": "9992d84e-42f8-4d5b-a2c9-a3cf2dc44817",
   "metadata": {},
   "outputs": [
    {
     "name": "stdout",
     "output_type": "stream",
     "text": [
      "CPU times: user 1.16 s, sys: 1.14 s, total: 2.3 s\n",
      "Wall time: 647 ms\n"
     ]
    }
   ],
   "source": [
    "%%time\n",
    "import numpy as np\n",
    "\n",
    "connections_df = con.select([\"fid_index\", \"target_fid_index\"]).collect(streaming=True)\n",
    "connections_generator = ((row[0], row[1]) for row in connections_df.iter_rows())"
   ]
  },
  {
   "cell_type": "code",
   "execution_count": 116,
   "id": "6150aa4c-b6d6-46ea-b0ac-e9f6c45e275c",
   "metadata": {},
   "outputs": [
    {
     "data": {
      "text/html": [
       "<div><style>\n",
       ".dataframe > thead > tr,\n",
       ".dataframe > tbody > tr {\n",
       "  text-align: right;\n",
       "  white-space: pre-wrap;\n",
       "}\n",
       "</style>\n",
       "<small>shape: (7_163, 1)</small><table border=\"1\" class=\"dataframe\"><thead><tr><th>fid_index</th></tr><tr><td>i64</td></tr></thead><tbody><tr><td>10</td></tr><tr><td>130</td></tr><tr><td>131</td></tr><tr><td>138</td></tr><tr><td>317</td></tr><tr><td>&hellip;</td></tr><tr><td>367159</td></tr><tr><td>367204</td></tr><tr><td>367229</td></tr><tr><td>367249</td></tr><tr><td>367373</td></tr></tbody></table></div>"
      ],
      "text/plain": [
       "shape: (7_163, 1)\n",
       "┌───────────┐\n",
       "│ fid_index │\n",
       "│ ---       │\n",
       "│ i64       │\n",
       "╞═══════════╡\n",
       "│ 10        │\n",
       "│ 130       │\n",
       "│ 131       │\n",
       "│ 138       │\n",
       "│ 317       │\n",
       "│ …         │\n",
       "│ 367159    │\n",
       "│ 367204    │\n",
       "│ 367229    │\n",
       "│ 367249    │\n",
       "│ 367373    │\n",
       "└───────────┘"
      ]
     },
     "execution_count": 116,
     "metadata": {},
     "output_type": "execute_result"
    }
   ],
   "source": [
    "sybils_df = con.filter(pl.col(\"bot\") == False).select(\"fid_index\").unique().collect(streaming=True)\n",
    "sybils_df.sort('fid_index')"
   ]
  },
  {
   "cell_type": "code",
   "execution_count": 110,
   "id": "ace1be8d-71b1-4a92-aae0-194f294cd714",
   "metadata": {},
   "outputs": [
    {
     "data": {
      "text/plain": [
       "4.57763671875e-05"
      ]
     },
     "execution_count": 110,
     "metadata": {},
     "output_type": "execute_result"
    }
   ],
   "source": [
    "import sys\n",
    "# sys.getsizeof(connections)\n",
    "\n",
    "list_size_in_bytes = sys.getsizeof(connections_df)\n",
    "list_size_in_bytes / (1024 * 1024)\n",
    "\n"
   ]
  },
  {
   "cell_type": "code",
   "execution_count": 107,
   "id": "d2d043b1-c208-4f96-a15c-4a89cfc45de3",
   "metadata": {},
   "outputs": [
    {
     "data": {
      "text/plain": [
       "array([ 61552, 352612])"
      ]
     },
     "execution_count": 107,
     "metadata": {},
     "output_type": "execute_result"
    }
   ],
   "source": [
    "connections_array[0]"
   ]
  },
  {
   "cell_type": "code",
   "execution_count": 99,
   "id": "805b69c1-1772-4b76-b86c-25a5c5c38a8a",
   "metadata": {},
   "outputs": [
    {
     "data": {
      "text/html": [
       "<div><style>\n",
       ".dataframe > thead > tr,\n",
       ".dataframe > tbody > tr {\n",
       "  text-align: right;\n",
       "  white-space: pre-wrap;\n",
       "}\n",
       "</style>\n",
       "<small>shape: (50_018_542, 3)</small><table border=\"1\" class=\"dataframe\"><thead><tr><th>fid_index</th><th>target_fid_index</th><th>bot</th></tr><tr><td>i64</td><td>i64</td><td>bool</td></tr></thead><tbody><tr><td>61552</td><td>352612</td><td>false</td></tr><tr><td>279002</td><td>62892</td><td>null</td></tr><tr><td>193624</td><td>157311</td><td>null</td></tr><tr><td>365755</td><td>218793</td><td>false</td></tr><tr><td>300964</td><td>223801</td><td>null</td></tr><tr><td>&hellip;</td><td>&hellip;</td><td>&hellip;</td></tr><tr><td>316096</td><td>35857</td><td>null</td></tr><tr><td>41544</td><td>137984</td><td>null</td></tr><tr><td>303571</td><td>361575</td><td>null</td></tr><tr><td>10948</td><td>225425</td><td>null</td></tr><tr><td>192867</td><td>27192</td><td>null</td></tr></tbody></table></div>"
      ],
      "text/plain": [
       "shape: (50_018_542, 3)\n",
       "┌───────────┬──────────────────┬───────┐\n",
       "│ fid_index ┆ target_fid_index ┆ bot   │\n",
       "│ ---       ┆ ---              ┆ ---   │\n",
       "│ i64       ┆ i64              ┆ bool  │\n",
       "╞═══════════╪══════════════════╪═══════╡\n",
       "│ 61552     ┆ 352612           ┆ false │\n",
       "│ 279002    ┆ 62892            ┆ null  │\n",
       "│ 193624    ┆ 157311           ┆ null  │\n",
       "│ 365755    ┆ 218793           ┆ false │\n",
       "│ 300964    ┆ 223801           ┆ null  │\n",
       "│ …         ┆ …                ┆ …     │\n",
       "│ 316096    ┆ 35857            ┆ null  │\n",
       "│ 41544     ┆ 137984           ┆ null  │\n",
       "│ 303571    ┆ 361575           ┆ null  │\n",
       "│ 10948     ┆ 225425           ┆ null  │\n",
       "│ 192867    ┆ 27192            ┆ null  │\n",
       "└───────────┴──────────────────┴───────┘"
      ]
     },
     "execution_count": 99,
     "metadata": {},
     "output_type": "execute_result"
    }
   ],
   "source": [
    "con.collect()"
   ]
  },
  {
   "cell_type": "code",
   "execution_count": 101,
   "id": "b5f367bf-5ad6-41a3-bdd1-bcf9aad2e06b",
   "metadata": {},
   "outputs": [
    {
     "data": {
      "text/html": [
       "<div><style>\n",
       ".dataframe > thead > tr,\n",
       ".dataframe > tbody > tr {\n",
       "  text-align: right;\n",
       "  white-space: pre-wrap;\n",
       "}\n",
       "</style>\n",
       "<small>shape: (50_018_542, 3)</small><table border=\"1\" class=\"dataframe\"><thead><tr><th>fid_index</th><th>target_fid_index</th><th>bot</th></tr><tr><td>i64</td><td>i64</td><td>bool</td></tr></thead><tbody><tr><td>348894</td><td>236096</td><td>false</td></tr><tr><td>221592</td><td>300871</td><td>null</td></tr><tr><td>177021</td><td>278043</td><td>null</td></tr><tr><td>238961</td><td>43829</td><td>true</td></tr><tr><td>21810</td><td>184242</td><td>null</td></tr><tr><td>&hellip;</td><td>&hellip;</td><td>&hellip;</td></tr><tr><td>37843</td><td>172503</td><td>null</td></tr><tr><td>48119</td><td>218739</td><td>null</td></tr><tr><td>155850</td><td>82405</td><td>false</td></tr><tr><td>248662</td><td>262691</td><td>null</td></tr><tr><td>9750</td><td>95921</td><td>null</td></tr></tbody></table></div>"
      ],
      "text/plain": [
       "shape: (50_018_542, 3)\n",
       "┌───────────┬──────────────────┬───────┐\n",
       "│ fid_index ┆ target_fid_index ┆ bot   │\n",
       "│ ---       ┆ ---              ┆ ---   │\n",
       "│ i64       ┆ i64              ┆ bool  │\n",
       "╞═══════════╪══════════════════╪═══════╡\n",
       "│ 348894    ┆ 236096           ┆ false │\n",
       "│ 221592    ┆ 300871           ┆ null  │\n",
       "│ 177021    ┆ 278043           ┆ null  │\n",
       "│ 238961    ┆ 43829            ┆ true  │\n",
       "│ 21810     ┆ 184242           ┆ null  │\n",
       "│ …         ┆ …                ┆ …     │\n",
       "│ 37843     ┆ 172503           ┆ null  │\n",
       "│ 48119     ┆ 218739           ┆ null  │\n",
       "│ 155850    ┆ 82405            ┆ false │\n",
       "│ 248662    ┆ 262691           ┆ null  │\n",
       "│ 9750      ┆ 95921            ┆ null  │\n",
       "└───────────┴──────────────────┴───────┘"
      ]
     },
     "execution_count": 101,
     "metadata": {},
     "output_type": "execute_result"
    }
   ],
   "source": [
    "con.unique(subset=[\"fid_index\",\"target_fid_index\"]).collect()"
   ]
  },
  {
   "cell_type": "code",
   "execution_count": 1,
   "id": "9d06091f-7213-4424-a550-4b80bd8eea4b",
   "metadata": {},
   "outputs": [
    {
     "name": "stdout",
     "output_type": "stream",
     "text": [
      "thread count per core: 1\n"
     ]
    }
   ],
   "source": [
    "import psutil\n",
    "print(f'thread count per core: {psutil.cpu_count() // psutil.cpu_count(logical=False)}')"
   ]
  }
 ],
 "metadata": {
  "kernelspec": {
   "display_name": "Python 3 (ipykernel)",
   "language": "python",
   "name": "python3"
  },
  "language_info": {
   "codemirror_mode": {
    "name": "ipython",
    "version": 3
   },
   "file_extension": ".py",
   "mimetype": "text/x-python",
   "name": "python",
   "nbconvert_exporter": "python",
   "pygments_lexer": "ipython3",
   "version": "3.10.5"
  }
 },
 "nbformat": 4,
 "nbformat_minor": 5
}
