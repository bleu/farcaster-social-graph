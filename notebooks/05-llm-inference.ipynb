{
 "cells": [
  {
   "cell_type": "code",
   "execution_count": 1,
   "id": "6bbb2e93-62c8-4276-b645-7c33998d7ba2",
   "metadata": {},
   "outputs": [
    {
     "data": {
      "text/plain": [
       "polars.config.Config"
      ]
     },
     "execution_count": 1,
     "metadata": {},
     "output_type": "execute_result"
    }
   ],
   "source": [
    "import polars as pl\n",
    "import openai\n",
    "pl.Config.set_fmt_str_lengths(400)\n",
    "# !pip install pyarrow"
   ]
  },
  {
   "cell_type": "code",
   "execution_count": 2,
   "id": "e9600a04-1124-408b-a278-f2eeb981a96c",
   "metadata": {},
   "outputs": [],
   "source": [
    "openai.api_key = ''"
   ]
  },
  {
   "cell_type": "code",
   "execution_count": null,
   "id": "8837fc7e-c075-4c72-9701-ad5fb5671c29",
   "metadata": {},
   "outputs": [],
   "source": [
    "def create_prompt(user_bio, casts):\n",
    "    prompt = f\"\"\"\n",
    "    Analyze the following data to determine if the user is likely a sybil account on Warpcast/Farcaster. \n",
    "    Use the content, patterns, and metadata of the user's last 10 casts and their bio. \n",
    "    Look for indicators such as repetitive content, frequent casts with no interaction or engagement, \n",
    "    generic language, unusual patterns in followers or followings, and lack of genuine social interaction. \n",
    "    The bio should also be evaluated for vague or suspicious descriptions, and discrepancies between bio claims and casting activity. \n",
    "    Provide an assessment and rationale for your conclusion.\n",
    "\n",
    "    **User Bio:**  \n",
    "    {user_bio}\n",
    "\n",
    "    **Last 10 Casts:**  \n",
    "    {casts} \n",
    "\n",
    "    Based on the above information, assess whether this user exhibits sybil-like behavior and explain your reasoning.\n",
    "    \"\"\"\n",
    "    return prompt\n"
   ]
  },
  {
   "cell_type": "code",
   "execution_count": null,
   "id": "a11ee32e-5cac-4985-b6a7-4d197f504e46",
   "metadata": {},
   "outputs": [],
   "source": []
  },
  {
   "cell_type": "code",
   "execution_count": null,
   "id": "20c15e82-a3f8-4876-9e96-93a2f62143d0",
   "metadata": {},
   "outputs": [],
   "source": []
  },
  {
   "cell_type": "code",
   "execution_count": null,
   "id": "4a468163-60fd-4887-adb1-948cf21a351e",
   "metadata": {},
   "outputs": [],
   "source": []
  }
 ],
 "metadata": {
  "kernelspec": {
   "display_name": "Python 3 (ipykernel)",
   "language": "python",
   "name": "python3"
  },
  "language_info": {
   "codemirror_mode": {
    "name": "ipython",
    "version": 3
   },
   "file_extension": ".py",
   "mimetype": "text/x-python",
   "name": "python",
   "nbconvert_exporter": "python",
   "pygments_lexer": "ipython3",
   "version": "3.10.5"
  }
 },
 "nbformat": 4,
 "nbformat_minor": 5
}
