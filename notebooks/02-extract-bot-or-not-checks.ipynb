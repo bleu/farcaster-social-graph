{
 "cells": [
  {
   "cell_type": "code",
   "execution_count": null,
   "id": "6c2e69ce-9ee8-49a4-9c51-e3b35d03e001",
   "metadata": {},
   "outputs": [],
   "source": [
    "import polars as pl\n",
    "import os\n",
    "import json\n",
    "from urllib.parse import urlparse, parse_qs\n",
    "pl.Config.set_fmt_str_lengths(400)"
   ]
  },
  {
   "cell_type": "code",
   "execution_count": null,
   "id": "6f9c1ca6-67d9-4822-9cc2-a599273d05cc",
   "metadata": {},
   "outputs": [],
   "source": [
    "DATA_PATH = os.getenv(\"DATA_PATH\", \"\")"
   ]
  },
  {
   "cell_type": "code",
   "execution_count": null,
   "id": "42f370bc-2cf2-4f29-bf3c-baaca74801df",
   "metadata": {},
   "outputs": [],
   "source": [
    "df = pl.read_parquet(f\"{DATA_PATH}/interim/aggregated_links_statistics.parquet\")\n",
    "casts_lazy_df = pl.scan_parquet(f\"{DATA_PATH}/raw/farcaster-casts-0-1730134800.parquet\")"
   ]
  },
  {
   "cell_type": "code",
   "execution_count": null,
   "id": "ae8bd0ee-01f4-41ed-bb3d-ab87d88fcbd4",
   "metadata": {},
   "outputs": [],
   "source": [
    "df"
   ]
  },
  {
   "cell_type": "code",
   "execution_count": null,
   "id": "0ff83985-8fd9-44e1-b4ae-b0d29eb59a69",
   "metadata": {},
   "outputs": [],
   "source": [
    "casts_count_lazy = (\n",
    "    casts_lazy_df\n",
    "    .filter(pl.col(\"deleted_at\").is_null())  # Filter out deleted casts\n",
    "    .group_by(\"fid\")\n",
    "    .agg(pl.count(\"id\").alias(\"casts_count\"))  # Aggregate to count casts per fid\n",
    ")"
   ]
  },
  {
   "cell_type": "code",
   "execution_count": null,
   "id": "735fc5ee-1975-432e-ba86-28a0e008c535",
   "metadata": {},
   "outputs": [],
   "source": [
    "# https://warpcast.com/eljuniordiaz.eth/0xf612041a\n",
    "# https://warpcast.com/falleccypollne/0x04253bc9\n",
    "\n",
    "# https://warpcast.com/sayangel/0x8cfc0da0"
   ]
  },
  {
   "cell_type": "code",
   "execution_count": null,
   "id": "bfe4a156-62bf-4c50-a89f-5ce23e089fae",
   "metadata": {},
   "outputs": [],
   "source": [
    "# https://warpcast.com/botornot\n",
    "BOT_OR_NOT_FID = 480626\n",
    "bot_or_not_casts_lazy = casts_lazy_df.filter(pl.col(\"fid\") == BOT_OR_NOT_FID)\n",
    "bot_or_not_casts_df = bot_or_not_casts_lazy.collect()\n",
    "bot_or_not_casts_df.write_parquet(f\"{DATA_PATH}/interim/bot_or_not_casts.parquet\")\n",
    "# bot_or_not_casts_df = pl.read_parquet(f\"{DATA_PATH}/interim/bot_or_not_casts.parquet\")"
   ]
  },
  {
   "cell_type": "code",
   "execution_count": null,
   "id": "d948e4c9-17f5-43c5-9de5-23f7ba60aa79",
   "metadata": {},
   "outputs": [],
   "source": [
    "bot_or_not_casts_df"
   ]
  },
  {
   "cell_type": "code",
   "execution_count": null,
   "id": "e5e05649-0383-46d1-bce0-3ef7c0c82b76",
   "metadata": {},
   "outputs": [],
   "source": [
    "bots_casts_df = bot_or_not_casts_df.filter(~pl.col(\"text\").str.contains(r\"(?i)not a bot\\.\"))\n",
    "# bots_casts_df = bots_casts_df.filter(~pl.col(\"text\").str.contains(\"Bot or Not? Someone checked : Casts: \"))\n",
    "# bots_casts_df = bots_casts_df.filter(~pl.col(\"text\").str.contains(\"Bot or Not? Someone checked: Casts: \"))\n",
    "bots_casts_df = bots_casts_df.filter(~pl.col(\"text\").str.contains(\"Hi ! You have reached your Bot or Not free limit. \"))\n",
    "bots_casts_df = bots_casts_df.filter((pl.col(\"text\").str.contains(r\"(?i)like a bot\") | pl.col(\"text\").str.contains(r\"(?i)bot or low\")))\n",
    "\n",
    "bots_casts_df = bots_casts_df.with_columns(\n",
    "    pl.col(\"hash\").map_elements(lambda x: \"0x\" + x.hex(), return_dtype=pl.Utf8).alias(\"cast_hash\")\n",
    ")\n",
    "# bots_casts_df\n",
    "# unique_casts_df = bots_casts_df.unique(subset=[\"text\"])\n",
    "# sampled_casts_df = unique_casts_df.select([\"text\",\"cast_hash\" ]).sample(10)\n",
    "# print(bots_casts_df.shape)\n",
    "# bots_casts_df = bots_casts_df.unique\n",
    "# print(bots_casts_df.unique(subset=[\"mentions\"]).shape)\n",
    "\n",
    "bots_casts_df = bots_casts_df.unique(subset=[\"mentions\"])"
   ]
  },
  {
   "cell_type": "code",
   "execution_count": null,
   "id": "a4d4b23d-0e38-46e9-b8a3-7c82656e8b5f",
   "metadata": {},
   "outputs": [],
   "source": [
    "not_bots_df = bot_or_not_casts_df.filter(pl.col(\"text\").str.contains(r\"(?i)not a bot\\.\"))"
   ]
  },
  {
   "cell_type": "code",
   "execution_count": null,
   "id": "8c0e0ad9-d427-4642-9981-f51fb5fccd11",
   "metadata": {},
   "outputs": [],
   "source": [
    "# build fids\n",
    "def transform_mentions(row):\n",
    "    mentions = json.loads(row['mentions'])\n",
    "    embeds = json.loads(row['embeds'])\n",
    "\n",
    "    if mentions:\n",
    "        return int(mentions[0])\n",
    "\n",
    "    if embeds:\n",
    "        url = embeds[0][\"url\"]\n",
    "        parsed_url = urlparse(url)\n",
    "        query_params = parse_qs(parsed_url.query)\n",
    "        if 'fid' in query_params:\n",
    "            return int(query_params['fid'][0])\n",
    "\n",
    "    return None\n"
   ]
  },
  {
   "cell_type": "code",
   "execution_count": null,
   "id": "89f3f875-5c58-4e56-94da-412ec626bd13",
   "metadata": {},
   "outputs": [],
   "source": [
    "# testing = not_bots_df.filter(pl.col(\"mentions\") == \"[]\")\n",
    "# testing = testing.with_columns(\n",
    "#     pl.struct([\"mentions\", \"embeds\"]).map_elements(transform_mentions, return_dtype=pl.Int64).alias(\"fid_new\")\n",
    "# )"
   ]
  },
  {
   "cell_type": "code",
   "execution_count": null,
   "id": "3db37a7d-eaee-4bf2-990a-48dc6750a340",
   "metadata": {},
   "outputs": [],
   "source": [
    "bots_casts_df = bots_casts_df.with_columns(\n",
    "    pl.struct([\"mentions\", \"embeds\"]).map_elements(transform_mentions, return_dtype=pl.Int64).alias(\"fid\")\n",
    ")\n",
    "not_bots_df = not_bots_df.with_columns(\n",
    "    pl.struct([\"mentions\", \"embeds\"]).map_elements(transform_mentions, return_dtype=pl.Int64).alias(\"fid\")\n",
    ")"
   ]
  },
  {
   "cell_type": "code",
   "execution_count": null,
   "id": "80f8d980-d0a7-4e30-a213-89d37c5b16b4",
   "metadata": {},
   "outputs": [],
   "source": [
    "bots_casts_df = bots_casts_df.unique(subset=['fid'])"
   ]
  },
  {
   "cell_type": "code",
   "execution_count": null,
   "id": "d8c0483a-5b81-4427-9c59-fb28b9c80be3",
   "metadata": {},
   "outputs": [],
   "source": [
    "not_bots_df = not_bots_df.unique(subset=['fid'])"
   ]
  },
  {
   "cell_type": "code",
   "execution_count": null,
   "id": "84ea619d-1dc3-497a-b9e4-9eda339c84e4",
   "metadata": {},
   "outputs": [],
   "source": [
    "not_bots_df = not_bots_df.with_columns(\n",
    "    pl.lit(False).alias('bot')\n",
    ")\n",
    "\n",
    "bots_casts_df = bots_casts_df.with_columns(\n",
    "    pl.lit(True).alias('bot')\n",
    ")"
   ]
  },
  {
   "cell_type": "code",
   "execution_count": null,
   "id": "4cc8f539-89b2-4021-9a5a-414d16df85a7",
   "metadata": {},
   "outputs": [],
   "source": [
    "not_bots_df = not_bots_df.select(['fid', 'bot', 'text'])\n",
    "bots_casts_df = bots_casts_df.select(['fid', 'bot', 'text'])"
   ]
  },
  {
   "cell_type": "code",
   "execution_count": null,
   "id": "9c89f617-ca7b-46c3-9318-8b52878f1518",
   "metadata": {},
   "outputs": [],
   "source": [
    "bots_casts_df #.unique(subset=['fid'])"
   ]
  },
  {
   "cell_type": "code",
   "execution_count": null,
   "id": "dc2e22d4-77eb-410c-822d-d1fdb38c4f72",
   "metadata": {},
   "outputs": [],
   "source": [
    "combined_df = pl.concat([not_bots_df, bots_casts_df])"
   ]
  },
  {
   "cell_type": "code",
   "execution_count": null,
   "id": "1b2d3ff2-8bcf-48e1-b59a-fcbab3fd4ef1",
   "metadata": {},
   "outputs": [],
   "source": [
    "combined_df"
   ]
  },
  {
   "cell_type": "code",
   "execution_count": null,
   "id": "27b291fd-839f-45ed-9815-86e765fc846f",
   "metadata": {},
   "outputs": [],
   "source": [
    "# combined_df.write_parquet(f\"{DATA_PATH}/bot_or_not_checks.parquet\")"
   ]
  },
  {
   "cell_type": "code",
   "execution_count": null,
   "id": "fca05bba-d8d2-4ddc-88a9-08882b4d6043",
   "metadata": {},
   "outputs": [],
   "source": [
    "combined_df"
   ]
  },
  {
   "cell_type": "code",
   "execution_count": null,
   "id": "5249cd25-15f5-4e5f-aa02-28db7f0643d9",
   "metadata": {},
   "outputs": [],
   "source": [
    "combined_df.unique(subset=['fid'])"
   ]
  },
  {
   "cell_type": "code",
   "execution_count": null,
   "id": "3de91a4b-af4c-4ef1-b14d-632ec97045a5",
   "metadata": {},
   "outputs": [],
   "source": [
    "duplicateds = (\n",
    "    combined_df.group_by(['fid'])\n",
    "    .agg(pl.count())\n",
    "    .filter(pl.col(\"count\") > 1)  # Filter groups where count > 1 (duplicates)\n",
    ")\n",
    "\n",
    "duplicateds\n",
    "# Step 2: Join the duplicate groups back to the original DataFrame\n",
    "# This retrieves all versions (original + duplicates)\n",
    "# duplicates_df = df.join(duplicate_groups.drop(\"count\"), on=subset_cols, how=\"inner\")"
   ]
  },
  {
   "cell_type": "code",
   "execution_count": null,
   "id": "d3e6e1af-9c74-4bcb-8005-c6b4ac948909",
   "metadata": {},
   "outputs": [],
   "source": [
    "duplicated_fids = duplicateds.select(['fid'])"
   ]
  },
  {
   "cell_type": "code",
   "execution_count": null,
   "id": "28bcaa07-bd1e-479a-b0cb-ec62cfc55af0",
   "metadata": {},
   "outputs": [],
   "source": [
    "fnames_df = pl.read_parquet(f\"{DATA_PATH}/raw/farcaster-fnames-0-1730134800.parquet\")"
   ]
  },
  {
   "cell_type": "code",
   "execution_count": null,
   "id": "7688f277-16f4-44d3-9ae7-2139da4645bc",
   "metadata": {},
   "outputs": [],
   "source": [
    "# combined_df.filter(pl.col('fid')==291366)"
   ]
  },
  {
   "cell_type": "code",
   "execution_count": null,
   "id": "0ae40a16-c940-4174-810d-d054b01faefb",
   "metadata": {},
   "outputs": [],
   "source": [
    "# fnames_df.filter(pl.col('fid')==291366)"
   ]
  },
  {
   "cell_type": "code",
   "execution_count": null,
   "id": "5091f6aa-e6f5-4a9a-a532-1fe35365c3ee",
   "metadata": {},
   "outputs": [],
   "source": [
    "without_duplicates = combined_df.filter(~pl.col('fid').is_in(duplicated_fids.to_series()))"
   ]
  },
  {
   "cell_type": "code",
   "execution_count": null,
   "id": "cf34c386-1f0a-41cf-b887-11c698e2a2b9",
   "metadata": {},
   "outputs": [],
   "source": [
    "without_duplicates.write_parquet(f\"{DATA_PATH}/interim/bot_or_not_checks.parquet\")"
   ]
  },
  {
   "cell_type": "code",
   "execution_count": null,
   "id": "c5ff82a7-9daf-4724-b405-60ef0f1370b5",
   "metadata": {},
   "outputs": [],
   "source": []
  }
 ],
 "metadata": {
  "kernelspec": {
   "display_name": "farcaster-kernel",
   "language": "python",
   "name": "farcaster-kernel"
  },
  "language_info": {
   "codemirror_mode": {
    "name": "ipython",
    "version": 3
   },
   "file_extension": ".py",
   "mimetype": "text/x-python",
   "name": "python",
   "nbconvert_exporter": "python",
   "pygments_lexer": "ipython3",
   "version": "3.13.0"
  }
 },
 "nbformat": 4,
 "nbformat_minor": 5
}
