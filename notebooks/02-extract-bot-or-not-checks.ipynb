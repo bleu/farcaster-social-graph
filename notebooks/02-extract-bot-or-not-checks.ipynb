{
 "cells": [
  {
   "cell_type": "code",
   "execution_count": 1,
   "id": "6c2e69ce-9ee8-49a4-9c51-e3b35d03e001",
   "metadata": {},
   "outputs": [
    {
     "data": {
      "text/plain": [
       "polars.config.Config"
      ]
     },
     "execution_count": 1,
     "metadata": {},
     "output_type": "execute_result"
    }
   ],
   "source": [
    "import polars as pl\n",
    "from hashlib import sha256\n",
    "import os\n",
    "import json\n",
    "from urllib.parse import urlparse, parse_qs\n",
    "pl.Config.set_fmt_str_lengths(400)"
   ]
  },
  {
   "cell_type": "code",
   "execution_count": 2,
   "id": "6f9c1ca6-67d9-4822-9cc2-a599273d05cc",
   "metadata": {},
   "outputs": [],
   "source": [
    "DATA_PATH = os.getenv(\"DATA_PATH\", \"\")"
   ]
  },
  {
   "cell_type": "code",
   "execution_count": 4,
   "id": "42f370bc-2cf2-4f29-bf3c-baaca74801df",
   "metadata": {},
   "outputs": [],
   "source": [
    "df = pl.read_parquet(f\"{DATA_PATH}/interim/aggregated_links_statistics.parquet\")\n",
    "casts_lazy_df = pl.scan_parquet(f\"{DATA_PATH}/raw/farcaster-casts-0-1730134800.parquet\")"
   ]
  },
  {
   "cell_type": "code",
   "execution_count": 5,
   "id": "ae8bd0ee-01f4-41ed-bb3d-ab87d88fcbd4",
   "metadata": {},
   "outputs": [
    {
     "data": {
      "text/html": [
       "<div><style>\n",
       ".dataframe > thead > tr,\n",
       ".dataframe > tbody > tr {\n",
       "  text-align: right;\n",
       "  white-space: pre-wrap;\n",
       "}\n",
       "</style>\n",
       "<small>shape: (871_111, 13)</small><table border=\"1\" class=\"dataframe\"><thead><tr><th>created_at</th><th>updated_at</th><th>custody_address</th><th>registered_at</th><th>fid</th><th>verifications_count</th><th>following_count</th><th>followers_count</th><th>likes_count</th><th>recasts_count</th><th>total_casts_count</th><th>reply_casts_count</th><th>casts_count</th></tr><tr><td>datetime[ns]</td><td>datetime[ns]</td><td>binary</td><td>datetime[ns, UTC]</td><td>i64</td><td>i64</td><td>i64</td><td>i64</td><td>i64</td><td>i64</td><td>i64</td><td>i64</td><td>i64</td></tr></thead><tbody><tr><td>2023-10-13 15:07:21.731280</td><td>2024-06-05 18:09:02.020</td><td>b&quot;\\xb3\\x97\\x15\\x8b\\\\xb5\\x02\\x03\\xa5\\x91j\\x07\\x12U)\\xb1I\\xca\\xe3&lt;&quot;</td><td>2023-11-07 20:38:19 UTC</td><td>42796</td><td>0</td><td>0</td><td>1</td><td>0</td><td>0</td><td>0</td><td>0</td><td>0</td></tr><tr><td>2023-10-13 15:07:21.732119</td><td>2024-06-05 18:09:02.024</td><td>b&quot;\\xed\\x93\\xe1\\xef\\x7f+\\xef\\x9c\\x94\\x9a\\xa1\\xba\\xca\\xa8\\x9c\\x10\\xae\\xae\\x1b\\xac&quot;</td><td>2023-11-07 20:38:19 UTC</td><td>42797</td><td>0</td><td>0</td><td>2</td><td>0</td><td>0</td><td>0</td><td>0</td><td>0</td></tr><tr><td>2023-10-13 15:07:21.734257</td><td>2024-06-05 18:09:02.025</td><td>b&quot;\\xf6\\x9bv\\x99\\xd2/\\xb1\\x87z6\\x10\\xef\\x81\\xe9{\\x05\\x20\\x03\\xc5\\xac&quot;</td><td>2023-11-07 20:38:19 UTC</td><td>42798</td><td>0</td><td>0</td><td>1</td><td>0</td><td>0</td><td>0</td><td>0</td><td>0</td></tr><tr><td>2023-10-13 15:32:07.129182</td><td>2024-06-05 18:10:59.760</td><td>b&quot;\\xa1-f\\x16\\x8e\\x88\\x18\\xe8-hS\\x1d_c\\x09\\xe6\\x07/\\xc8\\xf5&quot;</td><td>2023-11-07 20:49:51 UTC</td><td>64737</td><td>0</td><td>0</td><td>1</td><td>0</td><td>0</td><td>0</td><td>0</td><td>0</td></tr><tr><td>2023-10-13 15:53:45.836242</td><td>2024-06-05 18:12:26.055</td><td>b&quot;\\x0f\\xc9\\x11\\xd1S\\xbd\\xb0*&lt;p;\\xd6RG\\xb2\\x80\\xd8\\xe6Y\\x85&quot;</td><td>2023-11-07 20:57:45 UTC</td><td>80519</td><td>0</td><td>0</td><td>0</td><td>0</td><td>0</td><td>0</td><td>0</td><td>0</td></tr><tr><td>&hellip;</td><td>&hellip;</td><td>&hellip;</td><td>&hellip;</td><td>&hellip;</td><td>&hellip;</td><td>&hellip;</td><td>&hellip;</td><td>&hellip;</td><td>&hellip;</td><td>&hellip;</td><td>&hellip;</td><td>&hellip;</td></tr><tr><td>2024-10-28 16:51:40.194175</td><td>2024-10-28 16:51:40.194175</td><td>b&quot;\\xbdwP\\xbbb\\xeb\\xf0\\xd4\\xa3o\\xfc\\xb8\\x02\\xd4#\\x09\\x956VL&quot;</td><td>2024-10-28 16:51:31 UTC</td><td>871144</td><td>0</td><td>0</td><td>0</td><td>0</td><td>0</td><td>0</td><td>0</td><td>0</td></tr><tr><td>2024-10-28 16:52:04.477017</td><td>2024-10-28 16:52:04.477017</td><td>b&quot;jDdHLS\\xa5&quot;\\x1e\\x00v\\xb4\\xa6\\xab\\x19\\xb3I?|&amp;&quot;</td><td>2024-10-28 16:51:57 UTC</td><td>871145</td><td>0</td><td>0</td><td>0</td><td>1</td><td>1</td><td>0</td><td>0</td><td>0</td></tr><tr><td>2024-10-28 16:54:50.861109</td><td>2024-10-28 16:54:50.861109</td><td>b&quot;vR/G\\xb2w\\xf3\\x0d\\x82\\xfc\\x92\\x01\\x97\\xed\\xcd1&lt;S\\xfc\\x93&quot;</td><td>2024-10-28 16:54:43 UTC</td><td>871146</td><td>0</td><td>0</td><td>0</td><td>0</td><td>0</td><td>0</td><td>0</td><td>0</td></tr><tr><td>2024-10-28 16:57:04.674889</td><td>2024-10-28 16:57:04.674889</td><td>b&quot;\\xe8\\xb62\\xda\\x89\\x00\\xee\\x1dS@\\x09lrW\\x05\\x08\\xce\\xcb\\x94p&quot;</td><td>2024-10-28 16:56:51 UTC</td><td>871147</td><td>0</td><td>0</td><td>0</td><td>0</td><td>0</td><td>0</td><td>0</td><td>0</td></tr><tr><td>2024-10-28 16:59:14.290976</td><td>2024-10-28 16:59:14.290976</td><td>b&quot;\\x1cvG\\xcfz\\x00\\x9c\\xe0\\x927\\xbc\\x90\\xb2~7\\x19B\\x1bXQ&quot;</td><td>2024-10-28 16:59:01 UTC</td><td>871148</td><td>0</td><td>0</td><td>0</td><td>0</td><td>0</td><td>0</td><td>0</td><td>0</td></tr></tbody></table></div>"
      ],
      "text/plain": [
       "shape: (871_111, 13)\n",
       "┌───────────┬───────────┬───────────┬───────────┬───┬───────────┬───────────┬───────────┬──────────┐\n",
       "│ created_a ┆ updated_a ┆ custody_a ┆ registere ┆ … ┆ recasts_c ┆ total_cas ┆ reply_cas ┆ casts_co │\n",
       "│ t         ┆ t         ┆ ddress    ┆ d_at      ┆   ┆ ount      ┆ ts_count  ┆ ts_count  ┆ unt      │\n",
       "│ ---       ┆ ---       ┆ ---       ┆ ---       ┆   ┆ ---       ┆ ---       ┆ ---       ┆ ---      │\n",
       "│ datetime[ ┆ datetime[ ┆ binary    ┆ datetime[ ┆   ┆ i64       ┆ i64       ┆ i64       ┆ i64      │\n",
       "│ ns]       ┆ ns]       ┆           ┆ ns, UTC]  ┆   ┆           ┆           ┆           ┆          │\n",
       "╞═══════════╪═══════════╪═══════════╪═══════════╪═══╪═══════════╪═══════════╪═══════════╪══════════╡\n",
       "│ 2023-10-1 ┆ 2024-06-0 ┆ b\"\\xb3\\x9 ┆ 2023-11-0 ┆ … ┆ 0         ┆ 0         ┆ 0         ┆ 0        │\n",
       "│ 3 15:07:2 ┆ 5 18:09:0 ┆ 7\\x15\\x8b ┆ 7         ┆   ┆           ┆           ┆           ┆          │\n",
       "│ 1.731280  ┆ 2.020     ┆ \\\\xb5\\x02 ┆ 20:38:19  ┆   ┆           ┆           ┆           ┆          │\n",
       "│           ┆           ┆ \\x03\\xa5\\ ┆ UTC       ┆   ┆           ┆           ┆           ┆          │\n",
       "│           ┆           ┆ x91j\\x07\\ ┆           ┆   ┆           ┆           ┆           ┆          │\n",
       "│           ┆           ┆ x12U)\\xb1 ┆           ┆   ┆           ┆           ┆           ┆          │\n",
       "│           ┆           ┆ I\\xca\\xe3 ┆           ┆   ┆           ┆           ┆           ┆          │\n",
       "│           ┆           ┆ <\"        ┆           ┆   ┆           ┆           ┆           ┆          │\n",
       "│ 2023-10-1 ┆ 2024-06-0 ┆ b\"\\xed\\x9 ┆ 2023-11-0 ┆ … ┆ 0         ┆ 0         ┆ 0         ┆ 0        │\n",
       "│ 3 15:07:2 ┆ 5 18:09:0 ┆ 3\\xe1\\xef ┆ 7         ┆   ┆           ┆           ┆           ┆          │\n",
       "│ 1.732119  ┆ 2.024     ┆ \\x7f+\\xef ┆ 20:38:19  ┆   ┆           ┆           ┆           ┆          │\n",
       "│           ┆           ┆ \\x9c\\x94\\ ┆ UTC       ┆   ┆           ┆           ┆           ┆          │\n",
       "│           ┆           ┆ x9a\\xa1\\x ┆           ┆   ┆           ┆           ┆           ┆          │\n",
       "│           ┆           ┆ ba\\xca\\xa ┆           ┆   ┆           ┆           ┆           ┆          │\n",
       "│           ┆           ┆ 8\\x9c\\x10 ┆           ┆   ┆           ┆           ┆           ┆          │\n",
       "│           ┆           ┆ \\xae\\xae\\ ┆           ┆   ┆           ┆           ┆           ┆          │\n",
       "│           ┆           ┆ x1b\\xac\"  ┆           ┆   ┆           ┆           ┆           ┆          │\n",
       "│ 2023-10-1 ┆ 2024-06-0 ┆ b\"\\xf6\\x9 ┆ 2023-11-0 ┆ … ┆ 0         ┆ 0         ┆ 0         ┆ 0        │\n",
       "│ 3 15:07:2 ┆ 5 18:09:0 ┆ bv\\x99\\xd ┆ 7         ┆   ┆           ┆           ┆           ┆          │\n",
       "│ 1.734257  ┆ 2.025     ┆ 2/\\xb1\\x8 ┆ 20:38:19  ┆   ┆           ┆           ┆           ┆          │\n",
       "│           ┆           ┆ 7z6\\x10\\x ┆ UTC       ┆   ┆           ┆           ┆           ┆          │\n",
       "│           ┆           ┆ ef\\x81\\xe ┆           ┆   ┆           ┆           ┆           ┆          │\n",
       "│           ┆           ┆ 9{\\x05\\x2 ┆           ┆   ┆           ┆           ┆           ┆          │\n",
       "│           ┆           ┆ 0\\x03\\xc5 ┆           ┆   ┆           ┆           ┆           ┆          │\n",
       "│           ┆           ┆ \\xac\"     ┆           ┆   ┆           ┆           ┆           ┆          │\n",
       "│ 2023-10-1 ┆ 2024-06-0 ┆ b\"\\xa1-f\\ ┆ 2023-11-0 ┆ … ┆ 0         ┆ 0         ┆ 0         ┆ 0        │\n",
       "│ 3 15:32:0 ┆ 5 18:10:5 ┆ x16\\x8e\\x ┆ 7         ┆   ┆           ┆           ┆           ┆          │\n",
       "│ 7.129182  ┆ 9.760     ┆ 88\\x18\\xe ┆ 20:49:51  ┆   ┆           ┆           ┆           ┆          │\n",
       "│           ┆           ┆ 8-hS\\x1d_ ┆ UTC       ┆   ┆           ┆           ┆           ┆          │\n",
       "│           ┆           ┆ c\\x09\\xe6 ┆           ┆   ┆           ┆           ┆           ┆          │\n",
       "│           ┆           ┆ \\x07/\\xc8 ┆           ┆   ┆           ┆           ┆           ┆          │\n",
       "│           ┆           ┆ \\xf5\"     ┆           ┆   ┆           ┆           ┆           ┆          │\n",
       "│ 2023-10-1 ┆ 2024-06-0 ┆ b\"\\x0f\\xc ┆ 2023-11-0 ┆ … ┆ 0         ┆ 0         ┆ 0         ┆ 0        │\n",
       "│ 3 15:53:4 ┆ 5 18:12:2 ┆ 9\\x11\\xd1 ┆ 7         ┆   ┆           ┆           ┆           ┆          │\n",
       "│ 5.836242  ┆ 6.055     ┆ S\\xbd\\xb0 ┆ 20:57:45  ┆   ┆           ┆           ┆           ┆          │\n",
       "│           ┆           ┆ *<p;\\xd6R ┆ UTC       ┆   ┆           ┆           ┆           ┆          │\n",
       "│           ┆           ┆ G\\xb2\\x80 ┆           ┆   ┆           ┆           ┆           ┆          │\n",
       "│           ┆           ┆ \\xd8\\xe6Y ┆           ┆   ┆           ┆           ┆           ┆          │\n",
       "│           ┆           ┆ \\x85\"     ┆           ┆   ┆           ┆           ┆           ┆          │\n",
       "│ …         ┆ …         ┆ …         ┆ …         ┆ … ┆ …         ┆ …         ┆ …         ┆ …        │\n",
       "│ 2024-10-2 ┆ 2024-10-2 ┆ b\"\\xbdwP\\ ┆ 2024-10-2 ┆ … ┆ 0         ┆ 0         ┆ 0         ┆ 0        │\n",
       "│ 8 16:51:4 ┆ 8 16:51:4 ┆ xbbb\\xeb\\ ┆ 8         ┆   ┆           ┆           ┆           ┆          │\n",
       "│ 0.194175  ┆ 0.194175  ┆ xf0\\xd4\\x ┆ 16:51:31  ┆   ┆           ┆           ┆           ┆          │\n",
       "│           ┆           ┆ a3o\\xfc\\x ┆ UTC       ┆   ┆           ┆           ┆           ┆          │\n",
       "│           ┆           ┆ b8\\x02\\xd ┆           ┆   ┆           ┆           ┆           ┆          │\n",
       "│           ┆           ┆ 4#\\x09\\x9 ┆           ┆   ┆           ┆           ┆           ┆          │\n",
       "│           ┆           ┆ 56VL\"     ┆           ┆   ┆           ┆           ┆           ┆          │\n",
       "│ 2024-10-2 ┆ 2024-10-2 ┆ b\"jDdHLS\\ ┆ 2024-10-2 ┆ … ┆ 1         ┆ 0         ┆ 0         ┆ 0        │\n",
       "│ 8 16:52:0 ┆ 8 16:52:0 ┆ xa5\"\\x1e\\ ┆ 8         ┆   ┆           ┆           ┆           ┆          │\n",
       "│ 4.477017  ┆ 4.477017  ┆ x00v\\xb4\\ ┆ 16:51:57  ┆   ┆           ┆           ┆           ┆          │\n",
       "│           ┆           ┆ xa6\\xab\\x ┆ UTC       ┆   ┆           ┆           ┆           ┆          │\n",
       "│           ┆           ┆ 19\\xb3I?| ┆           ┆   ┆           ┆           ┆           ┆          │\n",
       "│           ┆           ┆ &\"        ┆           ┆   ┆           ┆           ┆           ┆          │\n",
       "│ 2024-10-2 ┆ 2024-10-2 ┆ b\"vR/G\\xb ┆ 2024-10-2 ┆ … ┆ 0         ┆ 0         ┆ 0         ┆ 0        │\n",
       "│ 8 16:54:5 ┆ 8 16:54:5 ┆ 2w\\xf3\\x0 ┆ 8         ┆   ┆           ┆           ┆           ┆          │\n",
       "│ 0.861109  ┆ 0.861109  ┆ d\\x82\\xfc ┆ 16:54:43  ┆   ┆           ┆           ┆           ┆          │\n",
       "│           ┆           ┆ \\x92\\x01\\ ┆ UTC       ┆   ┆           ┆           ┆           ┆          │\n",
       "│           ┆           ┆ x97\\xed\\x ┆           ┆   ┆           ┆           ┆           ┆          │\n",
       "│           ┆           ┆ cd1<S\\xfc ┆           ┆   ┆           ┆           ┆           ┆          │\n",
       "│           ┆           ┆ \\x93\"     ┆           ┆   ┆           ┆           ┆           ┆          │\n",
       "│ 2024-10-2 ┆ 2024-10-2 ┆ b\"\\xe8\\xb ┆ 2024-10-2 ┆ … ┆ 0         ┆ 0         ┆ 0         ┆ 0        │\n",
       "│ 8 16:57:0 ┆ 8 16:57:0 ┆ 62\\xda\\x8 ┆ 8         ┆   ┆           ┆           ┆           ┆          │\n",
       "│ 4.674889  ┆ 4.674889  ┆ 9\\x00\\xee ┆ 16:56:51  ┆   ┆           ┆           ┆           ┆          │\n",
       "│           ┆           ┆ \\x1dS@\\x0 ┆ UTC       ┆   ┆           ┆           ┆           ┆          │\n",
       "│           ┆           ┆ 9lrW\\x05\\ ┆           ┆   ┆           ┆           ┆           ┆          │\n",
       "│           ┆           ┆ x08\\xce\\x ┆           ┆   ┆           ┆           ┆           ┆          │\n",
       "│           ┆           ┆ cb\\x94p\"  ┆           ┆   ┆           ┆           ┆           ┆          │\n",
       "│ 2024-10-2 ┆ 2024-10-2 ┆ b\"\\x1cvG\\ ┆ 2024-10-2 ┆ … ┆ 0         ┆ 0         ┆ 0         ┆ 0        │\n",
       "│ 8 16:59:1 ┆ 8 16:59:1 ┆ xcfz\\x00\\ ┆ 8         ┆   ┆           ┆           ┆           ┆          │\n",
       "│ 4.290976  ┆ 4.290976  ┆ x9c\\xe0\\x ┆ 16:59:01  ┆   ┆           ┆           ┆           ┆          │\n",
       "│           ┆           ┆ 927\\xbc\\x ┆ UTC       ┆   ┆           ┆           ┆           ┆          │\n",
       "│           ┆           ┆ 90\\xb2~7\\ ┆           ┆   ┆           ┆           ┆           ┆          │\n",
       "│           ┆           ┆ x19B\\x1bX ┆           ┆   ┆           ┆           ┆           ┆          │\n",
       "│           ┆           ┆ Q\"        ┆           ┆   ┆           ┆           ┆           ┆          │\n",
       "└───────────┴───────────┴───────────┴───────────┴───┴───────────┴───────────┴───────────┴──────────┘"
      ]
     },
     "execution_count": 5,
     "metadata": {},
     "output_type": "execute_result"
    }
   ],
   "source": [
    "df"
   ]
  },
  {
   "cell_type": "code",
   "execution_count": 6,
   "id": "0ff83985-8fd9-44e1-b4ae-b0d29eb59a69",
   "metadata": {},
   "outputs": [],
   "source": [
    "casts_count_lazy = (\n",
    "    casts_lazy_df\n",
    "    .filter(pl.col(\"deleted_at\").is_null())  # Filter out deleted casts\n",
    "    .group_by(\"fid\")\n",
    "    .agg(pl.count(\"id\").alias(\"casts_count\"))  # Aggregate to count casts per fid\n",
    ")"
   ]
  },
  {
   "cell_type": "code",
   "execution_count": 6,
   "id": "735fc5ee-1975-432e-ba86-28a0e008c535",
   "metadata": {},
   "outputs": [],
   "source": [
    "# https://warpcast.com/eljuniordiaz.eth/0xf612041a\n",
    "# https://warpcast.com/falleccypollne/0x04253bc9\n",
    "\n",
    "# https://warpcast.com/sayangel/0x8cfc0da0"
   ]
  },
  {
   "cell_type": "code",
   "execution_count": 7,
   "id": "bfe4a156-62bf-4c50-a89f-5ce23e089fae",
   "metadata": {},
   "outputs": [],
   "source": [
    "# https://warpcast.com/botornot\n",
    "BOT_OR_NOT_FID = 480626\n",
    "bot_or_not_casts_lazy = casts_lazy_df.filter(pl.col(\"fid\") == BOT_OR_NOT_FID)\n",
    "bot_or_not_casts_df = bot_or_not_casts_lazy.collect()\n",
    "bot_or_not_casts_df.write_parquet(f\"{DATA_PATH}/interim/bot_or_not_casts.parquet\")\n",
    "# bot_or_not_casts_df = pl.read_parquet(f\"{DATA_PATH}/interim/bot_or_not_casts.parquet\")"
   ]
  },
  {
   "cell_type": "code",
   "execution_count": 8,
   "id": "d948e4c9-17f5-43c5-9de5-23f7ba60aa79",
   "metadata": {},
   "outputs": [
    {
     "data": {
      "text/html": [
       "<div><style>\n",
       ".dataframe > thead > tr,\n",
       ".dataframe > tbody > tr {\n",
       "  text-align: right;\n",
       "  white-space: pre-wrap;\n",
       "}\n",
       "</style>\n",
       "<small>shape: (27_635, 16)</small><table border=\"1\" class=\"dataframe\"><thead><tr><th>created_at</th><th>updated_at</th><th>deleted_at</th><th>timestamp</th><th>fid</th><th>hash</th><th>parent_hash</th><th>parent_fid</th><th>parent_url</th><th>text</th><th>embeds</th><th>mentions</th><th>mentions_positions</th><th>root_parent_hash</th><th>root_parent_url</th><th>id</th></tr><tr><td>datetime[ns]</td><td>datetime[ns]</td><td>datetime[ns]</td><td>datetime[ns]</td><td>i64</td><td>binary</td><td>binary</td><td>i64</td><td>str</td><td>str</td><td>str</td><td>str</td><td>str</td><td>binary</td><td>str</td><td>i64</td></tr></thead><tbody><tr><td>2024-04-14 09:35:38.778506</td><td>2024-04-14 09:35:38.778506</td><td>null</td><td>2024-04-14 09:35:39</td><td>480626</td><td>b&quot;\\x0f\\x9f\\xe6\\xa6\\x0f\\x9e\\x1b4ij\\xf5\\x10\\x1f\\x80+\\x09\\xcf}\\xe6\\x19&quot;</td><td>null</td><td>null</td><td>null</td><td>&quot;Bot or Not? Someone checked :\n",
       "Bot or low effort casts: squares, numbers, random&quot;</td><td>&quot;[{&quot;url&quot;: &quot;https://cast-action-bot-or-not.vercel.app/api/frames?fid=374893&quot;}]&quot;</td><td>&quot;[374893]&quot;</td><td>&quot;[28]&quot;</td><td>b&quot;\\x0f\\x9f\\xe6\\xa6\\x0f\\x9e\\x1b4ij\\xf5\\x10\\x1f\\x80+\\x09\\xcf}\\xe6\\x19&quot;</td><td>null</td><td>2037557994</td></tr><tr><td>2024-04-14 09:35:42.438214</td><td>2024-04-14 09:35:42.438214</td><td>null</td><td>2024-04-14 09:35:42</td><td>480626</td><td>b&quot;Ft\\x9c({\\xd8\\xc1\\xc6&lt;[\\xfde\\x1a\\x9a\\xdc\\xa1\\x11\\xb6CX&quot;</td><td>null</td><td>null</td><td>null</td><td>&quot;Bot or Not? Someone checked :\n",
       "This user casts like a bot.&quot;</td><td>&quot;[{&quot;url&quot;: &quot;https://cast-action-bot-or-not.vercel.app/api/frames?fid=374893&quot;}]&quot;</td><td>&quot;[374893]&quot;</td><td>&quot;[28]&quot;</td><td>b&quot;Ft\\x9c({\\xd8\\xc1\\xc6&lt;[\\xfde\\x1a\\x9a\\xdc\\xa1\\x11\\xb6CX&quot;</td><td>null</td><td>2037558093</td></tr><tr><td>2024-04-14 09:35:51.097913</td><td>2024-04-14 09:35:51.097913</td><td>null</td><td>2024-04-14 09:35:51</td><td>480626</td><td>b&quot;E\\x1f\\x89\\x1ed\\xbe\\xdd)\\xfc\\xc6\\xa68\\x1e\\xad\\xfe\\x1b5\\xd7\\xe0\\xff&quot;</td><td>null</td><td>null</td><td>null</td><td>&quot;Bot or Not? Someone checked :\n",
       "Not a bot. Reply guy/gal: generic, vapid&quot;</td><td>&quot;[{&quot;url&quot;: &quot;https://cast-action-bot-or-not.vercel.app/api/frames?fid=246611&quot;}]&quot;</td><td>&quot;[246611]&quot;</td><td>&quot;[28]&quot;</td><td>b&quot;E\\x1f\\x89\\x1ed\\xbe\\xdd)\\xfc\\xc6\\xa68\\x1e\\xad\\xfe\\x1b5\\xd7\\xe0\\xff&quot;</td><td>null</td><td>2037558310</td></tr><tr><td>2024-04-14 09:35:55.805754</td><td>2024-04-14 09:35:55.805754</td><td>null</td><td>2024-04-14 09:35:56</td><td>480626</td><td>b&quot;\\x16\\x94\\xba\\x8c\\xfeI6w\\xd7\\xc4\\x15\\xd6\\xfa\\xdc=h\\xf9\\xfe]\\x97&quot;</td><td>null</td><td>null</td><td>null</td><td>&quot;Bot or Not? Someone checked :\n",
       "This user replies like a bot: meat, degen, generic&quot;</td><td>&quot;[{&quot;url&quot;: &quot;https://cast-action-bot-or-not.vercel.app/api/frames?fid=378852&quot;}]&quot;</td><td>&quot;[378852]&quot;</td><td>&quot;[28]&quot;</td><td>b&quot;\\x16\\x94\\xba\\x8c\\xfeI6w\\xd7\\xc4\\x15\\xd6\\xfa\\xdc=h\\xf9\\xfe]\\x97&quot;</td><td>null</td><td>2037558414</td></tr><tr><td>2024-04-14 09:35:58.416466</td><td>2024-04-14 09:35:58.416466</td><td>null</td><td>2024-04-14 09:35:58</td><td>480626</td><td>b&quot;/\\xaf\\x02\\xfac\\x0d\\x01\\xf1\\x94\\xeb&amp;i\\x20\\xb1L\\xdfu.$U&quot;</td><td>null</td><td>null</td><td>null</td><td>&quot;Bot or Not? Someone checked :\n",
       "This user replies like a bot: generic, shallow&quot;</td><td>&quot;[{&quot;url&quot;: &quot;https://cast-action-bot-or-not.vercel.app/api/frames?fid=435074&quot;}]&quot;</td><td>&quot;[435074]&quot;</td><td>&quot;[28]&quot;</td><td>b&quot;/\\xaf\\x02\\xfac\\x0d\\x01\\xf1\\x94\\xeb&amp;i\\x20\\xb1L\\xdfu.$U&quot;</td><td>null</td><td>2037558496</td></tr><tr><td>&hellip;</td><td>&hellip;</td><td>&hellip;</td><td>&hellip;</td><td>&hellip;</td><td>&hellip;</td><td>&hellip;</td><td>&hellip;</td><td>&hellip;</td><td>&hellip;</td><td>&hellip;</td><td>&hellip;</td><td>&hellip;</td><td>&hellip;</td><td>&hellip;</td><td>&hellip;</td></tr><tr><td>2024-10-28 03:27:28.063779</td><td>2024-10-28 03:27:28.063779</td><td>null</td><td>2024-10-28 03:27:28</td><td>480626</td><td>b&quot;\\x01\\x02\\xbd5{\\x90\\x89\\x9eAk\\x910:&lt;u\\x13Z\\x8d\\x99\\xad&quot;</td><td>null</td><td>null</td><td>null</td><td>&quot;Bot or Not? Someone checked :\n",
       "\n",
       "Not a bot. Casts: ramen, /wabisabi, poetry\n",
       "\n",
       "Want to check someone else? Install the cast action below.&quot;</td><td>&quot;[{&quot;url&quot;: &quot;https://cast-action-bot-or-not.vercel.app/api/frames/responses/summary?fid=222540&amp;username=bashobits&quot;}]&quot;</td><td>&quot;[222540]&quot;</td><td>&quot;[28]&quot;</td><td>b&quot;\\x01\\x02\\xbd5{\\x90\\x89\\x9eAk\\x910:&lt;u\\x13Z\\x8d\\x99\\xad&quot;</td><td>null</td><td>5874276022</td></tr><tr><td>2024-10-28 08:19:07.551290</td><td>2024-10-28 08:19:07.551290</td><td>null</td><td>2024-10-28 08:19:08</td><td>480626</td><td>b&quot;\\x98#a\\xa1\\xe9tO\\xfcp\\x0f\\xf2\\xe2\\xda\\xd8\\xa8\\x0aBM\\x8a\\x14&quot;</td><td>null</td><td>null</td><td>null</td><td>&quot;Bot or Not? Someone checked :\n",
       "\n",
       "Not a bot. Casts: inspiration, poetry, gm frens\n",
       "\n",
       "Want to check someone else? Install the cast action below.&quot;</td><td>&quot;[{&quot;url&quot;: &quot;https://cast-action-bot-or-not.vercel.app/api/frames/responses/summary?fid=543177&amp;username=trpplffct&quot;}]&quot;</td><td>&quot;[543177]&quot;</td><td>&quot;[28]&quot;</td><td>b&quot;\\x98#a\\xa1\\xe9tO\\xfcp\\x0f\\xf2\\xe2\\xda\\xd8\\xa8\\x0aBM\\x8a\\x14&quot;</td><td>null</td><td>5874382370</td></tr><tr><td>2024-10-28 10:47:44.707538</td><td>2024-10-28 10:47:44.707538</td><td>null</td><td>2024-10-28 10:47:45</td><td>480626</td><td>b&quot;!\\x7f\\x82\\xfd\\x0e\\xf8\\x03\\x81\\xc2\\xc5\\xf6\\x95\\xe9\\xedA\\xcc\\x90\\xfb\\xfd\\x0e&quot;</td><td>null</td><td>null</td><td>null</td><td>&quot;Bot or Not? Someone checked :\n",
       "\n",
       "Not a bot. Casts: $MOXIE, Farcaster, crypto projects\n",
       "\n",
       "Want to check someone else? Install the cast action below.&quot;</td><td>&quot;[{&quot;url&quot;: &quot;https://cast-action-bot-or-not.vercel.app/api/frames/responses/summary?fid=444177&amp;username=jamesx&quot;}]&quot;</td><td>&quot;[444177]&quot;</td><td>&quot;[28]&quot;</td><td>b&quot;!\\x7f\\x82\\xfd\\x0e\\xf8\\x03\\x81\\xc2\\xc5\\xf6\\x95\\xe9\\xedA\\xcc\\x90\\xfb\\xfd\\x0e&quot;</td><td>null</td><td>5874440616</td></tr><tr><td>2024-10-28 14:31:40.206905</td><td>2024-10-28 14:31:40.206905</td><td>null</td><td>2024-10-28 14:31:40</td><td>480626</td><td>b&quot;\\x879\\x9b\\x03\\xfb\\xadi\\xa3\\xcb\\xf8r\\xe7\\x80\\x0fO\\xbe\\xf5If\\xf8&quot;</td><td>null</td><td>null</td><td>null</td><td>&quot;Bot or Not? Someone checked :\n",
       "\n",
       "Not a bot. Casts: random, social, lens, generic\n",
       "\n",
       "Want to check someone else? Install the cast action below.&quot;</td><td>&quot;[{&quot;url&quot;: &quot;https://cast-action-bot-or-not.vercel.app/api/frames/responses/summary?fid=454591&amp;username=minhquang1999&quot;}]&quot;</td><td>&quot;[454591]&quot;</td><td>&quot;[28]&quot;</td><td>b&quot;\\x879\\x9b\\x03\\xfb\\xadi\\xa3\\xcb\\xf8r\\xe7\\x80\\x0fO\\xbe\\xf5If\\xf8&quot;</td><td>null</td><td>5874527842</td></tr><tr><td>2024-10-28 15:27:33.904633</td><td>2024-10-28 15:27:33.904633</td><td>null</td><td>2024-10-28 15:27:34</td><td>480626</td><td>b&quot;R\\x7fF\\xd0\\xedf\\xcb\\xbe\\xc0\\x10\\x9aW\\xf3M\\x0dpy\\xa5}n&quot;</td><td>null</td><td>null</td><td>null</td><td>&quot;Bot or Not? Someone checked :\n",
       "\n",
       "Not a bot. Buildooor: frames,projects,events,devs,sh\n",
       "\n",
       "Want to check someone else? Install the cast action below.&quot;</td><td>&quot;[{&quot;url&quot;: &quot;https://cast-action-bot-or-not.vercel.app/api/frames/responses/summary?fid=1214&amp;username=df&quot;}]&quot;</td><td>&quot;[1214]&quot;</td><td>&quot;[28]&quot;</td><td>b&quot;R\\x7fF\\xd0\\xedf\\xcb\\xbe\\xc0\\x10\\x9aW\\xf3M\\x0dpy\\xa5}n&quot;</td><td>null</td><td>5874551200</td></tr></tbody></table></div>"
      ],
      "text/plain": [
       "shape: (27_635, 16)\n",
       "┌───────────┬───────────┬───────────┬───────────┬───┬───────────┬───────────┬───────────┬──────────┐\n",
       "│ created_a ┆ updated_a ┆ deleted_a ┆ timestamp ┆ … ┆ mentions_ ┆ root_pare ┆ root_pare ┆ id       │\n",
       "│ t         ┆ t         ┆ t         ┆ ---       ┆   ┆ positions ┆ nt_hash   ┆ nt_url    ┆ ---      │\n",
       "│ ---       ┆ ---       ┆ ---       ┆ datetime[ ┆   ┆ ---       ┆ ---       ┆ ---       ┆ i64      │\n",
       "│ datetime[ ┆ datetime[ ┆ datetime[ ┆ ns]       ┆   ┆ str       ┆ binary    ┆ str       ┆          │\n",
       "│ ns]       ┆ ns]       ┆ ns]       ┆           ┆   ┆           ┆           ┆           ┆          │\n",
       "╞═══════════╪═══════════╪═══════════╪═══════════╪═══╪═══════════╪═══════════╪═══════════╪══════════╡\n",
       "│ 2024-04-1 ┆ 2024-04-1 ┆ null      ┆ 2024-04-1 ┆ … ┆ [28]      ┆ b\"\\x0f\\x9 ┆ null      ┆ 20375579 │\n",
       "│ 4 09:35:3 ┆ 4 09:35:3 ┆           ┆ 4         ┆   ┆           ┆ f\\xe6\\xa6 ┆           ┆ 94       │\n",
       "│ 8.778506  ┆ 8.778506  ┆           ┆ 09:35:39  ┆   ┆           ┆ \\x0f\\x9e\\ ┆           ┆          │\n",
       "│           ┆           ┆           ┆           ┆   ┆           ┆ x1b4ij\\xf ┆           ┆          │\n",
       "│           ┆           ┆           ┆           ┆   ┆           ┆ 5\\x10\\x1f ┆           ┆          │\n",
       "│           ┆           ┆           ┆           ┆   ┆           ┆ \\x80+\\x09 ┆           ┆          │\n",
       "│           ┆           ┆           ┆           ┆   ┆           ┆ \\xcf}\\xe6 ┆           ┆          │\n",
       "│           ┆           ┆           ┆           ┆   ┆           ┆ \\x19\"     ┆           ┆          │\n",
       "│ 2024-04-1 ┆ 2024-04-1 ┆ null      ┆ 2024-04-1 ┆ … ┆ [28]      ┆ b\"Ft\\x9c( ┆ null      ┆ 20375580 │\n",
       "│ 4 09:35:4 ┆ 4 09:35:4 ┆           ┆ 4         ┆   ┆           ┆ {\\xd8\\xc1 ┆           ┆ 93       │\n",
       "│ 2.438214  ┆ 2.438214  ┆           ┆ 09:35:42  ┆   ┆           ┆ \\xc6<[\\xf ┆           ┆          │\n",
       "│           ┆           ┆           ┆           ┆   ┆           ┆ de\\x1a\\x9 ┆           ┆          │\n",
       "│           ┆           ┆           ┆           ┆   ┆           ┆ a\\xdc\\xa1 ┆           ┆          │\n",
       "│           ┆           ┆           ┆           ┆   ┆           ┆ \\x11\\xb6C ┆           ┆          │\n",
       "│           ┆           ┆           ┆           ┆   ┆           ┆ X\"        ┆           ┆          │\n",
       "│ 2024-04-1 ┆ 2024-04-1 ┆ null      ┆ 2024-04-1 ┆ … ┆ [28]      ┆ b\"E\\x1f\\x ┆ null      ┆ 20375583 │\n",
       "│ 4 09:35:5 ┆ 4 09:35:5 ┆           ┆ 4         ┆   ┆           ┆ 89\\x1ed\\x ┆           ┆ 10       │\n",
       "│ 1.097913  ┆ 1.097913  ┆           ┆ 09:35:51  ┆   ┆           ┆ be\\xdd)\\x ┆           ┆          │\n",
       "│           ┆           ┆           ┆           ┆   ┆           ┆ fc\\xc6\\xa ┆           ┆          │\n",
       "│           ┆           ┆           ┆           ┆   ┆           ┆ 68\\x1e\\xa ┆           ┆          │\n",
       "│           ┆           ┆           ┆           ┆   ┆           ┆ d\\xfe\\x1b ┆           ┆          │\n",
       "│           ┆           ┆           ┆           ┆   ┆           ┆ 5\\xd7\\xe0 ┆           ┆          │\n",
       "│           ┆           ┆           ┆           ┆   ┆           ┆ \\xff\"     ┆           ┆          │\n",
       "│ 2024-04-1 ┆ 2024-04-1 ┆ null      ┆ 2024-04-1 ┆ … ┆ [28]      ┆ b\"\\x16\\x9 ┆ null      ┆ 20375584 │\n",
       "│ 4 09:35:5 ┆ 4 09:35:5 ┆           ┆ 4         ┆   ┆           ┆ 4\\xba\\x8c ┆           ┆ 14       │\n",
       "│ 5.805754  ┆ 5.805754  ┆           ┆ 09:35:56  ┆   ┆           ┆ \\xfeI6w\\x ┆           ┆          │\n",
       "│           ┆           ┆           ┆           ┆   ┆           ┆ d7\\xc4\\x1 ┆           ┆          │\n",
       "│           ┆           ┆           ┆           ┆   ┆           ┆ 5\\xd6\\xfa ┆           ┆          │\n",
       "│           ┆           ┆           ┆           ┆   ┆           ┆ \\xdc=h\\xf ┆           ┆          │\n",
       "│           ┆           ┆           ┆           ┆   ┆           ┆ 9\\xfe]\\x9 ┆           ┆          │\n",
       "│           ┆           ┆           ┆           ┆   ┆           ┆ 7\"        ┆           ┆          │\n",
       "│ 2024-04-1 ┆ 2024-04-1 ┆ null      ┆ 2024-04-1 ┆ … ┆ [28]      ┆ b\"/\\xaf\\x ┆ null      ┆ 20375584 │\n",
       "│ 4 09:35:5 ┆ 4 09:35:5 ┆           ┆ 4         ┆   ┆           ┆ 02\\xfac\\x ┆           ┆ 96       │\n",
       "│ 8.416466  ┆ 8.416466  ┆           ┆ 09:35:58  ┆   ┆           ┆ 0d\\x01\\xf ┆           ┆          │\n",
       "│           ┆           ┆           ┆           ┆   ┆           ┆ 1\\x94\\xeb ┆           ┆          │\n",
       "│           ┆           ┆           ┆           ┆   ┆           ┆ &i\\x20\\xb ┆           ┆          │\n",
       "│           ┆           ┆           ┆           ┆   ┆           ┆ 1L\\xdfu.$ ┆           ┆          │\n",
       "│           ┆           ┆           ┆           ┆   ┆           ┆ U\"        ┆           ┆          │\n",
       "│ …         ┆ …         ┆ …         ┆ …         ┆ … ┆ …         ┆ …         ┆ …         ┆ …        │\n",
       "│ 2024-10-2 ┆ 2024-10-2 ┆ null      ┆ 2024-10-2 ┆ … ┆ [28]      ┆ b\"\\x01\\x0 ┆ null      ┆ 58742760 │\n",
       "│ 8 03:27:2 ┆ 8 03:27:2 ┆           ┆ 8         ┆   ┆           ┆ 2\\xbd5{\\x ┆           ┆ 22       │\n",
       "│ 8.063779  ┆ 8.063779  ┆           ┆ 03:27:28  ┆   ┆           ┆ 90\\x89\\x9 ┆           ┆          │\n",
       "│           ┆           ┆           ┆           ┆   ┆           ┆ eAk\\x910: ┆           ┆          │\n",
       "│           ┆           ┆           ┆           ┆   ┆           ┆ <u\\x13Z\\x ┆           ┆          │\n",
       "│           ┆           ┆           ┆           ┆   ┆           ┆ 8d\\x99\\xa ┆           ┆          │\n",
       "│           ┆           ┆           ┆           ┆   ┆           ┆ d\"        ┆           ┆          │\n",
       "│ 2024-10-2 ┆ 2024-10-2 ┆ null      ┆ 2024-10-2 ┆ … ┆ [28]      ┆ b\"\\x98#a\\ ┆ null      ┆ 58743823 │\n",
       "│ 8 08:19:0 ┆ 8 08:19:0 ┆           ┆ 8         ┆   ┆           ┆ xa1\\xe9tO ┆           ┆ 70       │\n",
       "│ 7.551290  ┆ 7.551290  ┆           ┆ 08:19:08  ┆   ┆           ┆ \\xfcp\\x0f ┆           ┆          │\n",
       "│           ┆           ┆           ┆           ┆   ┆           ┆ \\xf2\\xe2\\ ┆           ┆          │\n",
       "│           ┆           ┆           ┆           ┆   ┆           ┆ xda\\xd8\\x ┆           ┆          │\n",
       "│           ┆           ┆           ┆           ┆   ┆           ┆ a8\\x0aBM\\ ┆           ┆          │\n",
       "│           ┆           ┆           ┆           ┆   ┆           ┆ x8a\\x14\"  ┆           ┆          │\n",
       "│ 2024-10-2 ┆ 2024-10-2 ┆ null      ┆ 2024-10-2 ┆ … ┆ [28]      ┆ b\"!\\x7f\\x ┆ null      ┆ 58744406 │\n",
       "│ 8 10:47:4 ┆ 8 10:47:4 ┆           ┆ 8         ┆   ┆           ┆ 82\\xfd\\x0 ┆           ┆ 16       │\n",
       "│ 4.707538  ┆ 4.707538  ┆           ┆ 10:47:45  ┆   ┆           ┆ e\\xf8\\x03 ┆           ┆          │\n",
       "│           ┆           ┆           ┆           ┆   ┆           ┆ \\x81\\xc2\\ ┆           ┆          │\n",
       "│           ┆           ┆           ┆           ┆   ┆           ┆ xc5\\xf6\\x ┆           ┆          │\n",
       "│           ┆           ┆           ┆           ┆   ┆           ┆ 95\\xe9\\xe ┆           ┆          │\n",
       "│           ┆           ┆           ┆           ┆   ┆           ┆ dA\\xcc\\x9 ┆           ┆          │\n",
       "│           ┆           ┆           ┆           ┆   ┆           ┆ 0\\xfb\\xfd ┆           ┆          │\n",
       "│           ┆           ┆           ┆           ┆   ┆           ┆ \\x0e\"     ┆           ┆          │\n",
       "│ 2024-10-2 ┆ 2024-10-2 ┆ null      ┆ 2024-10-2 ┆ … ┆ [28]      ┆ b\"\\x879\\x ┆ null      ┆ 58745278 │\n",
       "│ 8 14:31:4 ┆ 8 14:31:4 ┆           ┆ 8         ┆   ┆           ┆ 9b\\x03\\xf ┆           ┆ 42       │\n",
       "│ 0.206905  ┆ 0.206905  ┆           ┆ 14:31:40  ┆   ┆           ┆ b\\xadi\\xa ┆           ┆          │\n",
       "│           ┆           ┆           ┆           ┆   ┆           ┆ 3\\xcb\\xf8 ┆           ┆          │\n",
       "│           ┆           ┆           ┆           ┆   ┆           ┆ r\\xe7\\x80 ┆           ┆          │\n",
       "│           ┆           ┆           ┆           ┆   ┆           ┆ \\x0fO\\xbe ┆           ┆          │\n",
       "│           ┆           ┆           ┆           ┆   ┆           ┆ \\xf5If\\xf ┆           ┆          │\n",
       "│           ┆           ┆           ┆           ┆   ┆           ┆ 8\"        ┆           ┆          │\n",
       "│ 2024-10-2 ┆ 2024-10-2 ┆ null      ┆ 2024-10-2 ┆ … ┆ [28]      ┆ b\"R\\x7fF\\ ┆ null      ┆ 58745512 │\n",
       "│ 8 15:27:3 ┆ 8 15:27:3 ┆           ┆ 8         ┆   ┆           ┆ xd0\\xedf\\ ┆           ┆ 00       │\n",
       "│ 3.904633  ┆ 3.904633  ┆           ┆ 15:27:34  ┆   ┆           ┆ xcb\\xbe\\x ┆           ┆          │\n",
       "│           ┆           ┆           ┆           ┆   ┆           ┆ c0\\x10\\x9 ┆           ┆          │\n",
       "│           ┆           ┆           ┆           ┆   ┆           ┆ aW\\xf3M\\x ┆           ┆          │\n",
       "│           ┆           ┆           ┆           ┆   ┆           ┆ 0dpy\\xa5} ┆           ┆          │\n",
       "│           ┆           ┆           ┆           ┆   ┆           ┆ n\"        ┆           ┆          │\n",
       "└───────────┴───────────┴───────────┴───────────┴───┴───────────┴───────────┴───────────┴──────────┘"
      ]
     },
     "execution_count": 8,
     "metadata": {},
     "output_type": "execute_result"
    }
   ],
   "source": [
    "bot_or_not_casts_df"
   ]
  },
  {
   "cell_type": "code",
   "execution_count": 9,
   "id": "e5e05649-0383-46d1-bce0-3ef7c0c82b76",
   "metadata": {},
   "outputs": [],
   "source": [
    "bots_casts_df = bot_or_not_casts_df.filter(~pl.col(\"text\").str.contains(r\"(?i)not a bot\\.\"))\n",
    "# bots_casts_df = bots_casts_df.filter(~pl.col(\"text\").str.contains(\"Bot or Not? Someone checked : Casts: \"))\n",
    "# bots_casts_df = bots_casts_df.filter(~pl.col(\"text\").str.contains(\"Bot or Not? Someone checked: Casts: \"))\n",
    "bots_casts_df = bots_casts_df.filter(~pl.col(\"text\").str.contains(\"Hi ! You have reached your Bot or Not free limit. \"))\n",
    "bots_casts_df = bots_casts_df.filter((pl.col(\"text\").str.contains(r\"(?i)like a bot\") | pl.col(\"text\").str.contains(r\"(?i)bot or low\")))\n",
    "\n",
    "bots_casts_df = bots_casts_df.with_columns(\n",
    "    pl.col(\"hash\").map_elements(lambda x: \"0x\" + x.hex(), return_dtype=pl.Utf8).alias(\"cast_hash\")\n",
    ")\n",
    "# bots_casts_df\n",
    "# unique_casts_df = bots_casts_df.unique(subset=[\"text\"])\n",
    "# sampled_casts_df = unique_casts_df.select([\"text\",\"cast_hash\" ]).sample(10)\n",
    "# print(bots_casts_df.shape)\n",
    "# bots_casts_df = bots_casts_df.unique\n",
    "# print(bots_casts_df.unique(subset=[\"mentions\"]).shape)\n",
    "\n",
    "bots_casts_df = bots_casts_df.unique(subset=[\"mentions\"])"
   ]
  },
  {
   "cell_type": "code",
   "execution_count": 10,
   "id": "a4d4b23d-0e38-46e9-b8a3-7c82656e8b5f",
   "metadata": {},
   "outputs": [],
   "source": [
    "not_bots_df = bot_or_not_casts_df.filter(pl.col(\"text\").str.contains(r\"(?i)not a bot\\.\"))"
   ]
  },
  {
   "cell_type": "code",
   "execution_count": 11,
   "id": "8c0e0ad9-d427-4642-9981-f51fb5fccd11",
   "metadata": {},
   "outputs": [],
   "source": [
    "# build fids\n",
    "def transform_mentions(row):\n",
    "    mentions = json.loads(row['mentions'])\n",
    "    embeds = json.loads(row['embeds'])\n",
    "\n",
    "    if mentions:\n",
    "        return int(mentions[0])\n",
    "\n",
    "    if embeds:\n",
    "        url = embeds[0][\"url\"]\n",
    "        parsed_url = urlparse(url)\n",
    "        query_params = parse_qs(parsed_url.query)\n",
    "        if 'fid' in query_params:\n",
    "            return int(query_params['fid'][0])\n",
    "\n",
    "    return None\n"
   ]
  },
  {
   "cell_type": "code",
   "execution_count": 12,
   "id": "89f3f875-5c58-4e56-94da-412ec626bd13",
   "metadata": {},
   "outputs": [],
   "source": [
    "# testing = not_bots_df.filter(pl.col(\"mentions\") == \"[]\")\n",
    "# testing = testing.with_columns(\n",
    "#     pl.struct([\"mentions\", \"embeds\"]).map_elements(transform_mentions, return_dtype=pl.Int64).alias(\"fid_new\")\n",
    "# )"
   ]
  },
  {
   "cell_type": "code",
   "execution_count": 12,
   "id": "3db37a7d-eaee-4bf2-990a-48dc6750a340",
   "metadata": {},
   "outputs": [],
   "source": [
    "bots_casts_df = bots_casts_df.with_columns(\n",
    "    pl.struct([\"mentions\", \"embeds\"]).map_elements(transform_mentions, return_dtype=pl.Int64).alias(\"fid\")\n",
    ")\n",
    "not_bots_df = not_bots_df.with_columns(\n",
    "    pl.struct([\"mentions\", \"embeds\"]).map_elements(transform_mentions, return_dtype=pl.Int64).alias(\"fid\")\n",
    ")"
   ]
  },
  {
   "cell_type": "code",
   "execution_count": 13,
   "id": "80f8d980-d0a7-4e30-a213-89d37c5b16b4",
   "metadata": {},
   "outputs": [],
   "source": [
    "bots_casts_df = bots_casts_df.unique(subset=['fid'])"
   ]
  },
  {
   "cell_type": "code",
   "execution_count": 14,
   "id": "d8c0483a-5b81-4427-9c59-fb28b9c80be3",
   "metadata": {},
   "outputs": [],
   "source": [
    "not_bots_df = not_bots_df.unique(subset=['fid'])"
   ]
  },
  {
   "cell_type": "code",
   "execution_count": 15,
   "id": "84ea619d-1dc3-497a-b9e4-9eda339c84e4",
   "metadata": {},
   "outputs": [],
   "source": [
    "not_bots_df = not_bots_df.with_columns(\n",
    "    pl.lit(False).alias('bot')\n",
    ")\n",
    "\n",
    "bots_casts_df = bots_casts_df.with_columns(\n",
    "    pl.lit(True).alias('bot')\n",
    ")"
   ]
  },
  {
   "cell_type": "code",
   "execution_count": 16,
   "id": "4cc8f539-89b2-4021-9a5a-414d16df85a7",
   "metadata": {},
   "outputs": [],
   "source": [
    "not_bots_df = not_bots_df.select(['fid', 'bot', 'text'])\n",
    "bots_casts_df = bots_casts_df.select(['fid', 'bot', 'text'])"
   ]
  },
  {
   "cell_type": "code",
   "execution_count": 17,
   "id": "9c89f617-ca7b-46c3-9318-8b52878f1518",
   "metadata": {},
   "outputs": [
    {
     "data": {
      "text/html": [
       "<div><style>\n",
       ".dataframe > thead > tr,\n",
       ".dataframe > tbody > tr {\n",
       "  text-align: right;\n",
       "  white-space: pre-wrap;\n",
       "}\n",
       "</style>\n",
       "<small>shape: (6_711, 3)</small><table border=\"1\" class=\"dataframe\"><thead><tr><th>fid</th><th>bot</th><th>text</th></tr><tr><td>i64</td><td>bool</td><td>str</td></tr></thead><tbody><tr><td>16920</td><td>true</td><td>&quot;Bot or Not? Someone checked :\n",
       "\n",
       "This user casts like a bot: gm, degen, events, metaverse\n",
       "\n",
       "Want to check someone else? Install the cast action below.&quot;</td></tr><tr><td>482904</td><td>true</td><td>&quot;Bot or Not? Someone checked :\n",
       "\n",
       "This user casts like a bot: promo garbage fake tips shitcast\n",
       "\n",
       "Want to check someone else? Install the cast action below.&quot;</td></tr><tr><td>259313</td><td>true</td><td>&quot;Bot or Not? Someone checked :\n",
       "This user replies like a bot: spammy, repetitive&quot;</td></tr><tr><td>393940</td><td>true</td><td>&quot;Bot or Not? Someone checked :\n",
       "\n",
       "This user casts like a bot.\n",
       "\n",
       "Want to check someone else? Install the cast action below.&quot;</td></tr><tr><td>15351</td><td>true</td><td>&quot;Bot or Not? Someone checked :\n",
       "This user casts like a bot.&quot;</td></tr><tr><td>&hellip;</td><td>&hellip;</td><td>&hellip;</td></tr><tr><td>300929</td><td>true</td><td>&quot;Bot or Not? Someone checked :\n",
       "This user replies like a bot: emoji, random&quot;</td></tr><tr><td>471361</td><td>true</td><td>&quot;Bot or Not? Someone checked :\n",
       "\n",
       "This user casts like a bot: nft,ham,food,crypto,airdrop,price\n",
       "\n",
       "Want to check someone else? Install the cast action below.&quot;</td></tr><tr><td>450383</td><td>true</td><td>&quot;Bot or Not? Someone checked :\n",
       "\n",
       "This user replies like a bot: spammy, repetitive, generic\n",
       "\n",
       "Want to check someone else? Install the cast action below.&quot;</td></tr><tr><td>328716</td><td>true</td><td>&quot;Bot or Not? Someone checked :\n",
       "This user casts like a bot.&quot;</td></tr><tr><td>315768</td><td>true</td><td>&quot;Bot or Not? Someone checked :\n",
       "This user casts like a bot.&quot;</td></tr></tbody></table></div>"
      ],
      "text/plain": [
       "shape: (6_711, 3)\n",
       "┌────────┬──────┬───────────────────────────────────────────────────────────────┐\n",
       "│ fid    ┆ bot  ┆ text                                                          │\n",
       "│ ---    ┆ ---  ┆ ---                                                           │\n",
       "│ i64    ┆ bool ┆ str                                                           │\n",
       "╞════════╪══════╪═══════════════════════════════════════════════════════════════╡\n",
       "│ 16920  ┆ true ┆ Bot or Not? Someone checked :                                 │\n",
       "│        ┆      ┆                                                               │\n",
       "│        ┆      ┆ This user casts like a bot: gm, degen, events, metaverse      │\n",
       "│        ┆      ┆                                                               │\n",
       "│        ┆      ┆ Want to check someone else? Install the cast action below.    │\n",
       "│ 482904 ┆ true ┆ Bot or Not? Someone checked :                                 │\n",
       "│        ┆      ┆                                                               │\n",
       "│        ┆      ┆ This user casts like a bot: promo garbage fake tips shitcast  │\n",
       "│        ┆      ┆                                                               │\n",
       "│        ┆      ┆ Want to check someone else? Install the cast action below.    │\n",
       "│ 259313 ┆ true ┆ Bot or Not? Someone checked :                                 │\n",
       "│        ┆      ┆ This user replies like a bot: spammy, repetitive              │\n",
       "│ 393940 ┆ true ┆ Bot or Not? Someone checked :                                 │\n",
       "│        ┆      ┆                                                               │\n",
       "│        ┆      ┆ This user casts like a bot.                                   │\n",
       "│        ┆      ┆                                                               │\n",
       "│        ┆      ┆ Want to check someone else? Install the cast action below.    │\n",
       "│ 15351  ┆ true ┆ Bot or Not? Someone checked :                                 │\n",
       "│        ┆      ┆ This user casts like a bot.                                   │\n",
       "│ …      ┆ …    ┆ …                                                             │\n",
       "│ 300929 ┆ true ┆ Bot or Not? Someone checked :                                 │\n",
       "│        ┆      ┆ This user replies like a bot: emoji, random                   │\n",
       "│ 471361 ┆ true ┆ Bot or Not? Someone checked :                                 │\n",
       "│        ┆      ┆                                                               │\n",
       "│        ┆      ┆ This user casts like a bot: nft,ham,food,crypto,airdrop,price │\n",
       "│        ┆      ┆                                                               │\n",
       "│        ┆      ┆ Want to check someone else? Install the cast action below.    │\n",
       "│ 450383 ┆ true ┆ Bot or Not? Someone checked :                                 │\n",
       "│        ┆      ┆                                                               │\n",
       "│        ┆      ┆ This user replies like a bot: spammy, repetitive, generic     │\n",
       "│        ┆      ┆                                                               │\n",
       "│        ┆      ┆ Want to check someone else? Install the cast action below.    │\n",
       "│ 328716 ┆ true ┆ Bot or Not? Someone checked :                                 │\n",
       "│        ┆      ┆ This user casts like a bot.                                   │\n",
       "│ 315768 ┆ true ┆ Bot or Not? Someone checked :                                 │\n",
       "│        ┆      ┆ This user casts like a bot.                                   │\n",
       "└────────┴──────┴───────────────────────────────────────────────────────────────┘"
      ]
     },
     "execution_count": 17,
     "metadata": {},
     "output_type": "execute_result"
    }
   ],
   "source": [
    "bots_casts_df #.unique(subset=['fid'])"
   ]
  },
  {
   "cell_type": "code",
   "execution_count": 18,
   "id": "dc2e22d4-77eb-410c-822d-d1fdb38c4f72",
   "metadata": {},
   "outputs": [],
   "source": [
    "combined_df = pl.concat([not_bots_df, bots_casts_df])"
   ]
  },
  {
   "cell_type": "code",
   "execution_count": 19,
   "id": "1b2d3ff2-8bcf-48e1-b59a-fcbab3fd4ef1",
   "metadata": {},
   "outputs": [
    {
     "data": {
      "text/html": [
       "<div><style>\n",
       ".dataframe > thead > tr,\n",
       ".dataframe > tbody > tr {\n",
       "  text-align: right;\n",
       "  white-space: pre-wrap;\n",
       "}\n",
       "</style>\n",
       "<small>shape: (16_214, 3)</small><table border=\"1\" class=\"dataframe\"><thead><tr><th>fid</th><th>bot</th><th>text</th></tr><tr><td>i64</td><td>bool</td><td>str</td></tr></thead><tbody><tr><td>332182</td><td>false</td><td>&quot;Bot or Not? Someone checked :\n",
       "Likely not a bot. Casts: trashion, photography, AI&quot;</td></tr><tr><td>238841</td><td>false</td><td>&quot;Bot or Not? Someone checked :\n",
       "Not a bot. Casts: steps, degen, milady&quot;</td></tr><tr><td>405599</td><td>false</td><td>&quot;Bot or Not? Someone checked :\n",
       "Not a bot. Casts: degen, mint, giveaways&quot;</td></tr><tr><td>15211</td><td>false</td><td>&quot;Bot or Not? Someone checked :\n",
       "\n",
       "Not a bot. Buildooor: based, builder, safety, gm, gn\n",
       "\n",
       "Want to check someone else? Install the cast action below.&quot;</td></tr><tr><td>378696</td><td>false</td><td>&quot;Bot or Not? Someone checked :\n",
       "Not a bot. Reply guy/gal: generic, repetitive&quot;</td></tr><tr><td>&hellip;</td><td>&hellip;</td><td>&hellip;</td></tr><tr><td>300929</td><td>true</td><td>&quot;Bot or Not? Someone checked :\n",
       "This user replies like a bot: emoji, random&quot;</td></tr><tr><td>471361</td><td>true</td><td>&quot;Bot or Not? Someone checked :\n",
       "\n",
       "This user casts like a bot: nft,ham,food,crypto,airdrop,price\n",
       "\n",
       "Want to check someone else? Install the cast action below.&quot;</td></tr><tr><td>450383</td><td>true</td><td>&quot;Bot or Not? Someone checked :\n",
       "\n",
       "This user replies like a bot: spammy, repetitive, generic\n",
       "\n",
       "Want to check someone else? Install the cast action below.&quot;</td></tr><tr><td>328716</td><td>true</td><td>&quot;Bot or Not? Someone checked :\n",
       "This user casts like a bot.&quot;</td></tr><tr><td>315768</td><td>true</td><td>&quot;Bot or Not? Someone checked :\n",
       "This user casts like a bot.&quot;</td></tr></tbody></table></div>"
      ],
      "text/plain": [
       "shape: (16_214, 3)\n",
       "┌────────┬───────┬───────────────────────────────────────────────────────────────┐\n",
       "│ fid    ┆ bot   ┆ text                                                          │\n",
       "│ ---    ┆ ---   ┆ ---                                                           │\n",
       "│ i64    ┆ bool  ┆ str                                                           │\n",
       "╞════════╪═══════╪═══════════════════════════════════════════════════════════════╡\n",
       "│ 332182 ┆ false ┆ Bot or Not? Someone checked :                                 │\n",
       "│        ┆       ┆ Likely not a bot. Casts: trashion, photography, AI            │\n",
       "│ 238841 ┆ false ┆ Bot or Not? Someone checked :                                 │\n",
       "│        ┆       ┆ Not a bot. Casts: steps, degen, milady                        │\n",
       "│ 405599 ┆ false ┆ Bot or Not? Someone checked :                                 │\n",
       "│        ┆       ┆ Not a bot. Casts: degen, mint, giveaways                      │\n",
       "│ 15211  ┆ false ┆ Bot or Not? Someone checked :                                 │\n",
       "│        ┆       ┆                                                               │\n",
       "│        ┆       ┆ Not a bot. Buildooor: based, builder, safety, gm, gn          │\n",
       "│        ┆       ┆                                                               │\n",
       "│        ┆       ┆ Want to check someone else? Install the cast action below.    │\n",
       "│ 378696 ┆ false ┆ Bot or Not? Someone checked :                                 │\n",
       "│        ┆       ┆ Not a bot. Reply guy/gal: generic, repetitive                 │\n",
       "│ …      ┆ …     ┆ …                                                             │\n",
       "│ 300929 ┆ true  ┆ Bot or Not? Someone checked :                                 │\n",
       "│        ┆       ┆ This user replies like a bot: emoji, random                   │\n",
       "│ 471361 ┆ true  ┆ Bot or Not? Someone checked :                                 │\n",
       "│        ┆       ┆                                                               │\n",
       "│        ┆       ┆ This user casts like a bot: nft,ham,food,crypto,airdrop,price │\n",
       "│        ┆       ┆                                                               │\n",
       "│        ┆       ┆ Want to check someone else? Install the cast action below.    │\n",
       "│ 450383 ┆ true  ┆ Bot or Not? Someone checked :                                 │\n",
       "│        ┆       ┆                                                               │\n",
       "│        ┆       ┆ This user replies like a bot: spammy, repetitive, generic     │\n",
       "│        ┆       ┆                                                               │\n",
       "│        ┆       ┆ Want to check someone else? Install the cast action below.    │\n",
       "│ 328716 ┆ true  ┆ Bot or Not? Someone checked :                                 │\n",
       "│        ┆       ┆ This user casts like a bot.                                   │\n",
       "│ 315768 ┆ true  ┆ Bot or Not? Someone checked :                                 │\n",
       "│        ┆       ┆ This user casts like a bot.                                   │\n",
       "└────────┴───────┴───────────────────────────────────────────────────────────────┘"
      ]
     },
     "execution_count": 19,
     "metadata": {},
     "output_type": "execute_result"
    }
   ],
   "source": [
    "combined_df"
   ]
  },
  {
   "cell_type": "code",
   "execution_count": 279,
   "id": "27b291fd-839f-45ed-9815-86e765fc846f",
   "metadata": {},
   "outputs": [],
   "source": [
    "# combined_df.write_parquet(f\"{DATA_PATH}/bot_or_not_checks.parquet\")"
   ]
  },
  {
   "cell_type": "code",
   "execution_count": 24,
   "id": "fca05bba-d8d2-4ddc-88a9-08882b4d6043",
   "metadata": {},
   "outputs": [
    {
     "data": {
      "text/html": [
       "<div><style>\n",
       ".dataframe > thead > tr,\n",
       ".dataframe > tbody > tr {\n",
       "  text-align: right;\n",
       "  white-space: pre-wrap;\n",
       "}\n",
       "</style>\n",
       "<small>shape: (15_960, 3)</small><table border=\"1\" class=\"dataframe\"><thead><tr><th>fid</th><th>bot</th><th>text</th></tr><tr><td>i64</td><td>bool</td><td>str</td></tr></thead><tbody><tr><td>350129</td><td>false</td><td>&quot;Bot or Not? Someone checked :\n",
       "Likely not a bot. Casts: social, games, tips&quot;</td></tr><tr><td>274</td><td>false</td><td>&quot;Bot or Not? Someone checked :\n",
       "Not a bot. Reply guy/gal: shilling $DEGEN&quot;</td></tr><tr><td>243560</td><td>false</td><td>&quot;Bot or Not? Someone checked :\n",
       "Not a bot. Casts: drakula spammer&quot;</td></tr><tr><td>421161</td><td>false</td><td>&quot;Bot or Not? Someone checked :\n",
       "Not a bot. Reply guy/gal: pancakes, freediving&quot;</td></tr><tr><td>379765</td><td>false</td><td>&quot;Bot or Not? Someone checked :\n",
       "\n",
       "Not a bot. Reply guy/gal: short, generic, boring casts\n",
       "\n",
       "Want to check someone else? Install the cast action below.&quot;</td></tr><tr><td>&hellip;</td><td>&hellip;</td><td>&hellip;</td></tr><tr><td>363848</td><td>true</td><td>&quot;Bot or Not? Someone checked :\n",
       "\n",
       "This user casts like a bot.\n",
       "\n",
       "Want to check someone else? Install the cast action below.&quot;</td></tr><tr><td>11004</td><td>true</td><td>&quot;Bot or Not? Someone checked :\n",
       "\n",
       "Bot or low effort casts: generic, repetitive, empty, spam\n",
       "\n",
       "Want to check someone else? Install the cast action below.&quot;</td></tr><tr><td>416302</td><td>true</td><td>&quot;Bot or Not? Someone checked :\n",
       "This user casts like a bot.&quot;</td></tr><tr><td>268438</td><td>true</td><td>&quot;Bot or Not? Someone checked :\n",
       "Bot or low effort casts: begging, emojis, memes&quot;</td></tr><tr><td>286388</td><td>true</td><td>&quot;Bot or Not? Someone checked :\n",
       "\n",
       "This user casts like a bot.\n",
       "\n",
       "Want to check someone else? Install the cast action below.&quot;</td></tr></tbody></table></div>"
      ],
      "text/plain": [
       "shape: (15_960, 3)\n",
       "┌────────┬───────┬────────────────────────────────────────────────────────────┐\n",
       "│ fid    ┆ bot   ┆ text                                                       │\n",
       "│ ---    ┆ ---   ┆ ---                                                        │\n",
       "│ i64    ┆ bool  ┆ str                                                        │\n",
       "╞════════╪═══════╪════════════════════════════════════════════════════════════╡\n",
       "│ 350129 ┆ false ┆ Bot or Not? Someone checked :                              │\n",
       "│        ┆       ┆ Likely not a bot. Casts: social, games, tips               │\n",
       "│ 274    ┆ false ┆ Bot or Not? Someone checked :                              │\n",
       "│        ┆       ┆ Not a bot. Reply guy/gal: shilling $DEGEN                  │\n",
       "│ 243560 ┆ false ┆ Bot or Not? Someone checked :                              │\n",
       "│        ┆       ┆ Not a bot. Casts: drakula spammer                          │\n",
       "│ 421161 ┆ false ┆ Bot or Not? Someone checked :                              │\n",
       "│        ┆       ┆ Not a bot. Reply guy/gal: pancakes, freediving             │\n",
       "│ 379765 ┆ false ┆ Bot or Not? Someone checked :                              │\n",
       "│        ┆       ┆                                                            │\n",
       "│        ┆       ┆ Not a bot. Reply guy/gal: short, generic, boring casts     │\n",
       "│        ┆       ┆                                                            │\n",
       "│        ┆       ┆ Want to check someone else? Install the cast action below. │\n",
       "│ …      ┆ …     ┆ …                                                          │\n",
       "│ 363848 ┆ true  ┆ Bot or Not? Someone checked :                              │\n",
       "│        ┆       ┆                                                            │\n",
       "│        ┆       ┆ This user casts like a bot.                                │\n",
       "│        ┆       ┆                                                            │\n",
       "│        ┆       ┆ Want to check someone else? Install the cast action below. │\n",
       "│ 11004  ┆ true  ┆ Bot or Not? Someone checked :                              │\n",
       "│        ┆       ┆                                                            │\n",
       "│        ┆       ┆ Bot or low effort casts: generic, repetitive, empty, spam  │\n",
       "│        ┆       ┆                                                            │\n",
       "│        ┆       ┆ Want to check someone else? Install the cast action below. │\n",
       "│ 416302 ┆ true  ┆ Bot or Not? Someone checked :                              │\n",
       "│        ┆       ┆ This user casts like a bot.                                │\n",
       "│ 268438 ┆ true  ┆ Bot or Not? Someone checked :                              │\n",
       "│        ┆       ┆ Bot or low effort casts: begging, emojis, memes            │\n",
       "│ 286388 ┆ true  ┆ Bot or Not? Someone checked :                              │\n",
       "│        ┆       ┆                                                            │\n",
       "│        ┆       ┆ This user casts like a bot.                                │\n",
       "│        ┆       ┆                                                            │\n",
       "│        ┆       ┆ Want to check someone else? Install the cast action below. │\n",
       "└────────┴───────┴────────────────────────────────────────────────────────────┘"
      ]
     },
     "execution_count": 24,
     "metadata": {},
     "output_type": "execute_result"
    }
   ],
   "source": [
    "combined_df"
   ]
  },
  {
   "cell_type": "code",
   "execution_count": 27,
   "id": "5249cd25-15f5-4e5f-aa02-28db7f0643d9",
   "metadata": {},
   "outputs": [
    {
     "data": {
      "text/html": [
       "<div><style>\n",
       ".dataframe > thead > tr,\n",
       ".dataframe > tbody > tr {\n",
       "  text-align: right;\n",
       "  white-space: pre-wrap;\n",
       "}\n",
       "</style>\n",
       "<small>shape: (13_904, 3)</small><table border=\"1\" class=\"dataframe\"><thead><tr><th>fid</th><th>bot</th><th>text</th></tr><tr><td>i64</td><td>bool</td><td>str</td></tr></thead><tbody><tr><td>256032</td><td>true</td><td>&quot;Bot or Not? Someone checked :\n",
       "This user casts like a bot.&quot;</td></tr><tr><td>505070</td><td>true</td><td>&quot;Bot or Not? Someone checked :\n",
       "\n",
       "This user casts like a bot: korean, generic, ham, positivity\n",
       "\n",
       "Want to check someone else? Install the cast action below.&quot;</td></tr><tr><td>386711</td><td>true</td><td>&quot;Bot or Not? Someone checked :\n",
       "Bot or low effort casts: emojis, short&quot;</td></tr><tr><td>424591</td><td>true</td><td>&quot;Bot or Not? Someone checked :\n",
       "\n",
       "This user replies like a bot: repetitive, spammy degen casts\n",
       "\n",
       "Want to check someone else? Install the cast action below.&quot;</td></tr><tr><td>254591</td><td>false</td><td>&quot;Bot or Not? Someone checked :\n",
       "\n",
       "Likely not a bot. Casts: crypto, bullish sentiment, design\n",
       "\n",
       "Want to check someone else? Install the cast action below.&quot;</td></tr><tr><td>&hellip;</td><td>&hellip;</td><td>&hellip;</td></tr><tr><td>402017</td><td>false</td><td>&quot;Bot or Not? Someone checked :\n",
       "Likely not a bot. Casts: korean crypto&quot;</td></tr><tr><td>428625</td><td>true</td><td>&quot;Bot or Not? Someone checked :\n",
       "\n",
       "This user casts like a bot.\n",
       "\n",
       "Want to check someone else? Install the cast action below.&quot;</td></tr><tr><td>401621</td><td>true</td><td>&quot;Bot or Not? Someone checked :\n",
       "\n",
       "Bot or low effort casts: repetitive, korean, hype, casts\n",
       "\n",
       "Want to check someone else? Install the cast action below.&quot;</td></tr><tr><td>397813</td><td>false</td><td>&quot;Bot or Not? Someone checked :\n",
       "\n",
       "Not a bot. Reply guy/gal: tips degen, generic comments\n",
       "\n",
       "Want to check someone else? Install the cast action below.&quot;</td></tr><tr><td>14407</td><td>false</td><td>&quot;Bot or Not? Someone checked :\n",
       "\n",
       "Not a bot. Buildooor: artist, painter, studio grind\n",
       "\n",
       "Want to check someone else? Install the cast action below.&quot;</td></tr></tbody></table></div>"
      ],
      "text/plain": [
       "shape: (13_904, 3)\n",
       "┌────────┬───────┬──────────────────────────────────────────────────────────────┐\n",
       "│ fid    ┆ bot   ┆ text                                                         │\n",
       "│ ---    ┆ ---   ┆ ---                                                          │\n",
       "│ i64    ┆ bool  ┆ str                                                          │\n",
       "╞════════╪═══════╪══════════════════════════════════════════════════════════════╡\n",
       "│ 256032 ┆ true  ┆ Bot or Not? Someone checked :                                │\n",
       "│        ┆       ┆ This user casts like a bot.                                  │\n",
       "│ 505070 ┆ true  ┆ Bot or Not? Someone checked :                                │\n",
       "│        ┆       ┆                                                              │\n",
       "│        ┆       ┆ This user casts like a bot: korean, generic, ham, positivity │\n",
       "│        ┆       ┆                                                              │\n",
       "│        ┆       ┆ Want to check someone else? Install the cast action below.   │\n",
       "│ 386711 ┆ true  ┆ Bot or Not? Someone checked :                                │\n",
       "│        ┆       ┆ Bot or low effort casts: emojis, short                       │\n",
       "│ 424591 ┆ true  ┆ Bot or Not? Someone checked :                                │\n",
       "│        ┆       ┆                                                              │\n",
       "│        ┆       ┆ This user replies like a bot: repetitive, spammy degen casts │\n",
       "│        ┆       ┆                                                              │\n",
       "│        ┆       ┆ Want to check someone else? Install the cast action below.   │\n",
       "│ 254591 ┆ false ┆ Bot or Not? Someone checked :                                │\n",
       "│        ┆       ┆                                                              │\n",
       "│        ┆       ┆ Likely not a bot. Casts: crypto, bullish sentiment, design   │\n",
       "│        ┆       ┆                                                              │\n",
       "│        ┆       ┆ Want to check someone else? Install the cast action below.   │\n",
       "│ …      ┆ …     ┆ …                                                            │\n",
       "│ 402017 ┆ false ┆ Bot or Not? Someone checked :                                │\n",
       "│        ┆       ┆ Likely not a bot. Casts: korean crypto                       │\n",
       "│ 428625 ┆ true  ┆ Bot or Not? Someone checked :                                │\n",
       "│        ┆       ┆                                                              │\n",
       "│        ┆       ┆ This user casts like a bot.                                  │\n",
       "│        ┆       ┆                                                              │\n",
       "│        ┆       ┆ Want to check someone else? Install the cast action below.   │\n",
       "│ 401621 ┆ true  ┆ Bot or Not? Someone checked :                                │\n",
       "│        ┆       ┆                                                              │\n",
       "│        ┆       ┆ Bot or low effort casts: repetitive, korean, hype, casts     │\n",
       "│        ┆       ┆                                                              │\n",
       "│        ┆       ┆ Want to check someone else? Install the cast action below.   │\n",
       "│ 397813 ┆ false ┆ Bot or Not? Someone checked :                                │\n",
       "│        ┆       ┆                                                              │\n",
       "│        ┆       ┆ Not a bot. Reply guy/gal: tips degen, generic comments       │\n",
       "│        ┆       ┆                                                              │\n",
       "│        ┆       ┆ Want to check someone else? Install the cast action below.   │\n",
       "│ 14407  ┆ false ┆ Bot or Not? Someone checked :                                │\n",
       "│        ┆       ┆                                                              │\n",
       "│        ┆       ┆ Not a bot. Buildooor: artist, painter, studio grind          │\n",
       "│        ┆       ┆                                                              │\n",
       "│        ┆       ┆ Want to check someone else? Install the cast action below.   │\n",
       "└────────┴───────┴──────────────────────────────────────────────────────────────┘"
      ]
     },
     "execution_count": 27,
     "metadata": {},
     "output_type": "execute_result"
    }
   ],
   "source": [
    "combined_df.unique(subset=['fid'])"
   ]
  },
  {
   "cell_type": "code",
   "execution_count": 21,
   "id": "3de91a4b-af4c-4ef1-b14d-632ec97045a5",
   "metadata": {},
   "outputs": [
    {
     "name": "stderr",
     "output_type": "stream",
     "text": [
      "/var/folders/k2/v9m0s0cn02j1r54h8qh_tf200000gn/T/ipykernel_86866/172828407.py:3: DeprecationWarning: `pl.count()` is deprecated. Please use `pl.len()` instead.\n",
      "  .agg(pl.count())\n"
     ]
    },
    {
     "data": {
      "text/html": [
       "<div><style>\n",
       ".dataframe > thead > tr,\n",
       ".dataframe > tbody > tr {\n",
       "  text-align: right;\n",
       "  white-space: pre-wrap;\n",
       "}\n",
       "</style>\n",
       "<small>shape: (2_074, 2)</small><table border=\"1\" class=\"dataframe\"><thead><tr><th>fid</th><th>count</th></tr><tr><td>i64</td><td>u32</td></tr></thead><tbody><tr><td>264690</td><td>2</td></tr><tr><td>407433</td><td>2</td></tr><tr><td>376106</td><td>2</td></tr><tr><td>339009</td><td>2</td></tr><tr><td>363387</td><td>2</td></tr><tr><td>&hellip;</td><td>&hellip;</td></tr><tr><td>423117</td><td>2</td></tr><tr><td>278897</td><td>2</td></tr><tr><td>405926</td><td>2</td></tr><tr><td>480900</td><td>2</td></tr><tr><td>322300</td><td>2</td></tr></tbody></table></div>"
      ],
      "text/plain": [
       "shape: (2_074, 2)\n",
       "┌────────┬───────┐\n",
       "│ fid    ┆ count │\n",
       "│ ---    ┆ ---   │\n",
       "│ i64    ┆ u32   │\n",
       "╞════════╪═══════╡\n",
       "│ 264690 ┆ 2     │\n",
       "│ 407433 ┆ 2     │\n",
       "│ 376106 ┆ 2     │\n",
       "│ 339009 ┆ 2     │\n",
       "│ 363387 ┆ 2     │\n",
       "│ …      ┆ …     │\n",
       "│ 423117 ┆ 2     │\n",
       "│ 278897 ┆ 2     │\n",
       "│ 405926 ┆ 2     │\n",
       "│ 480900 ┆ 2     │\n",
       "│ 322300 ┆ 2     │\n",
       "└────────┴───────┘"
      ]
     },
     "execution_count": 21,
     "metadata": {},
     "output_type": "execute_result"
    }
   ],
   "source": [
    "duplicateds = (\n",
    "    combined_df.group_by(['fid'])\n",
    "    .agg(pl.count())\n",
    "    .filter(pl.col(\"count\") > 1)  # Filter groups where count > 1 (duplicates)\n",
    ")\n",
    "\n",
    "duplicateds\n",
    "# Step 2: Join the duplicate groups back to the original DataFrame\n",
    "# This retrieves all versions (original + duplicates)\n",
    "# duplicates_df = df.join(duplicate_groups.drop(\"count\"), on=subset_cols, how=\"inner\")"
   ]
  },
  {
   "cell_type": "code",
   "execution_count": 22,
   "id": "d3e6e1af-9c74-4bcb-8005-c6b4ac948909",
   "metadata": {},
   "outputs": [],
   "source": [
    "duplicated_fids = duplicateds.select(['fid'])"
   ]
  },
  {
   "cell_type": "code",
   "execution_count": 24,
   "id": "28bcaa07-bd1e-479a-b0cb-ec62cfc55af0",
   "metadata": {},
   "outputs": [],
   "source": [
    "fnames_df = pl.read_parquet(f\"{DATA_PATH}/raw/farcaster-fnames-0-1730134800.parquet\")"
   ]
  },
  {
   "cell_type": "code",
   "execution_count": 36,
   "id": "7688f277-16f4-44d3-9ae7-2139da4645bc",
   "metadata": {},
   "outputs": [
    {
     "data": {
      "text/html": [
       "<div><style>\n",
       ".dataframe > thead > tr,\n",
       ".dataframe > tbody > tr {\n",
       "  text-align: right;\n",
       "  white-space: pre-wrap;\n",
       "}\n",
       "</style>\n",
       "<small>shape: (2, 3)</small><table border=\"1\" class=\"dataframe\"><thead><tr><th>fid</th><th>bot</th><th>text</th></tr><tr><td>i64</td><td>bool</td><td>str</td></tr></thead><tbody><tr><td>291366</td><td>false</td><td>&quot;Bot or Not? Someone checked :\n",
       "\n",
       "Likely not a bot. Casts: crypto, ai, nft, airdrops, shitcasts\n",
       "\n",
       "Want to check someone else? Install the cast action below.&quot;</td></tr><tr><td>291366</td><td>true</td><td>&quot;Bot or Not? Someone checked :\n",
       "This user replies like a bot: generic, repetitive&quot;</td></tr></tbody></table></div>"
      ],
      "text/plain": [
       "shape: (2, 3)\n",
       "┌────────┬───────┬───────────────────────────────────────────────────────────────┐\n",
       "│ fid    ┆ bot   ┆ text                                                          │\n",
       "│ ---    ┆ ---   ┆ ---                                                           │\n",
       "│ i64    ┆ bool  ┆ str                                                           │\n",
       "╞════════╪═══════╪═══════════════════════════════════════════════════════════════╡\n",
       "│ 291366 ┆ false ┆ Bot or Not? Someone checked :                                 │\n",
       "│        ┆       ┆                                                               │\n",
       "│        ┆       ┆ Likely not a bot. Casts: crypto, ai, nft, airdrops, shitcasts │\n",
       "│        ┆       ┆                                                               │\n",
       "│        ┆       ┆ Want to check someone else? Install the cast action below.    │\n",
       "│ 291366 ┆ true  ┆ Bot or Not? Someone checked :                                 │\n",
       "│        ┆       ┆ This user replies like a bot: generic, repetitive             │\n",
       "└────────┴───────┴───────────────────────────────────────────────────────────────┘"
      ]
     },
     "execution_count": 36,
     "metadata": {},
     "output_type": "execute_result"
    }
   ],
   "source": [
    "# combined_df.filter(pl.col('fid')==291366)"
   ]
  },
  {
   "cell_type": "code",
   "execution_count": 37,
   "id": "0ae40a16-c940-4174-810d-d054b01faefb",
   "metadata": {},
   "outputs": [
    {
     "data": {
      "text/html": [
       "<div><style>\n",
       ".dataframe > thead > tr,\n",
       ".dataframe > tbody > tr {\n",
       "  text-align: right;\n",
       "  white-space: pre-wrap;\n",
       "}\n",
       "</style>\n",
       "<small>shape: (1, 7)</small><table border=\"1\" class=\"dataframe\"><thead><tr><th>created_at</th><th>updated_at</th><th>custody_address</th><th>expires_at</th><th>fid</th><th>deleted_at</th><th>fname</th></tr><tr><td>datetime[ns]</td><td>datetime[ns]</td><td>binary</td><td>datetime[ns]</td><td>i64</td><td>datetime[ns]</td><td>str</td></tr></thead><tbody><tr><td>2024-02-05 12:24:17.902048</td><td>2024-06-07 22:07:32.665</td><td>b&quot;\\xd8\\x88y\\x17@-\\x8b\\xea\\xc5\\xbe\\xaa55\\xa6N\\xe5_)\\x94D&quot;</td><td>null</td><td>291366</td><td>null</td><td>&quot;kon102&quot;</td></tr></tbody></table></div>"
      ],
      "text/plain": [
       "shape: (1, 7)\n",
       "┌────────────────┬────────────────┬────────────────┬──────────────┬────────┬──────────────┬────────┐\n",
       "│ created_at     ┆ updated_at     ┆ custody_addres ┆ expires_at   ┆ fid    ┆ deleted_at   ┆ fname  │\n",
       "│ ---            ┆ ---            ┆ s              ┆ ---          ┆ ---    ┆ ---          ┆ ---    │\n",
       "│ datetime[ns]   ┆ datetime[ns]   ┆ ---            ┆ datetime[ns] ┆ i64    ┆ datetime[ns] ┆ str    │\n",
       "│                ┆                ┆ binary         ┆              ┆        ┆              ┆        │\n",
       "╞════════════════╪════════════════╪════════════════╪══════════════╪════════╪══════════════╪════════╡\n",
       "│ 2024-02-05 12: ┆ 2024-06-07     ┆ b\"\\xd8\\x88y\\x1 ┆ null         ┆ 291366 ┆ null         ┆ kon102 │\n",
       "│ 24:17.902048   ┆ 22:07:32.665   ┆ 7@-\\x8b\\xea\\xc ┆              ┆        ┆              ┆        │\n",
       "│                ┆                ┆ 5\\xbe\\xaa55\\xa ┆              ┆        ┆              ┆        │\n",
       "│                ┆                ┆ 6N\\xe5_)\\x94D\" ┆              ┆        ┆              ┆        │\n",
       "└────────────────┴────────────────┴────────────────┴──────────────┴────────┴──────────────┴────────┘"
      ]
     },
     "execution_count": 37,
     "metadata": {},
     "output_type": "execute_result"
    }
   ],
   "source": [
    "# fnames_df.filter(pl.col('fid')==291366)"
   ]
  },
  {
   "cell_type": "code",
   "execution_count": 25,
   "id": "5091f6aa-e6f5-4a9a-a532-1fe35365c3ee",
   "metadata": {},
   "outputs": [],
   "source": [
    "without_duplicates = combined_df.filter(~pl.col('fid').is_in(duplicated_fids.to_series()))"
   ]
  },
  {
   "cell_type": "code",
   "execution_count": 26,
   "id": "cf34c386-1f0a-41cf-b887-11c698e2a2b9",
   "metadata": {},
   "outputs": [],
   "source": [
    "without_duplicates.write_parquet(f\"{DATA_PATH}/interim/bot_or_not_checks.parquet\")"
   ]
  },
  {
   "cell_type": "code",
   "execution_count": null,
   "id": "c5ff82a7-9daf-4724-b405-60ef0f1370b5",
   "metadata": {},
   "outputs": [],
   "source": []
  }
 ],
 "metadata": {
  "kernelspec": {
   "display_name": "farcaster-kernel",
   "language": "python",
   "name": "farcaster-kernel"
  },
  "language_info": {
   "codemirror_mode": {
    "name": "ipython",
    "version": 3
   },
   "file_extension": ".py",
   "mimetype": "text/x-python",
   "name": "python",
   "nbconvert_exporter": "python",
   "pygments_lexer": "ipython3",
   "version": "3.13.0"
  }
 },
 "nbformat": 4,
 "nbformat_minor": 5
}
