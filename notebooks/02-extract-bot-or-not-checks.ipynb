{
 "cells": [
  {
   "cell_type": "code",
   "execution_count": 1,
   "id": "6c2e69ce-9ee8-49a4-9c51-e3b35d03e001",
   "metadata": {
    "vscode": {
     "languageId": "python"
    }
   },
   "outputs": [
    {
     "data": {
      "text/plain": [
       "polars.config.Config"
      ]
     },
     "execution_count": 1,
     "metadata": {},
     "output_type": "execute_result"
    }
   ],
   "source": [
    "import polars as pl\n",
    "from hashlib import sha256\n",
    "import os\n",
    "import json\n",
    "from urllib.parse import urlparse, parse_qs\n",
    "pl.Config.set_fmt_str_lengths(400)"
   ]
  },
  {
   "cell_type": "code",
   "execution_count": 2,
   "id": "6f9c1ca6-67d9-4822-9cc2-a599273d05cc",
   "metadata": {},
   "outputs": [],
   "source": [
    "DATA_PATH = os.getenv(\"DATA_PATH\", \"\")"
   ]
  },
  {
   "cell_type": "code",
   "execution_count": 3,
   "id": "42f370bc-2cf2-4f29-bf3c-baaca74801df",
   "metadata": {},
   "outputs": [],
   "source": [
    "df = pl.read_parquet(f\"{DATA_PATH}/aggregated_links_statistics.parquet\")\n",
    "casts_lazy_df = pl.scan_parquet(f\"{DATA_PATH}/farcaster-casts-0-1727974800.parquet\")"
   ]
  },
  {
   "cell_type": "code",
   "execution_count": 4,
   "id": "ae8bd0ee-01f4-41ed-bb3d-ab87d88fcbd4",
   "metadata": {},
   "outputs": [
    {
     "data": {
      "text/html": [
       "<div><style>\n",
       ".dataframe > thead > tr,\n",
       ".dataframe > tbody > tr {\n",
       "  text-align: right;\n",
       "  white-space: pre-wrap;\n",
       "}\n",
       "</style>\n",
       "<small>shape: (862_898, 13)</small><table border=\"1\" class=\"dataframe\"><thead><tr><th>created_at</th><th>updated_at</th><th>custody_address</th><th>registered_at</th><th>fid</th><th>verifications_count</th><th>following_count</th><th>followers_count</th><th>recasts_count</th><th>likes_count</th><th>total_casts_count</th><th>reply_casts_count</th><th>casts_count</th></tr><tr><td>datetime[ns]</td><td>datetime[ns]</td><td>binary</td><td>datetime[ns, UTC]</td><td>i64</td><td>u32</td><td>u32</td><td>u32</td><td>u32</td><td>u32</td><td>u32</td><td>u32</td><td>u32</td></tr></thead><tbody><tr><td>2023-10-13 15:07:21.731280</td><td>2024-06-05 18:09:02.020</td><td>b&quot;\\xb3\\x97\\x15\\x8b\\\\xb5\\x02\\x03\\xa5\\x91j\\x07\\x12U)\\xb1I\\xca\\xe3&lt;&quot;</td><td>2023-11-07 20:38:19 UTC</td><td>42796</td><td>0</td><td>0</td><td>1</td><td>0</td><td>0</td><td>0</td><td>0</td><td>0</td></tr><tr><td>2023-10-13 15:07:21.732119</td><td>2024-06-05 18:09:02.024</td><td>b&quot;\\xed\\x93\\xe1\\xef\\x7f+\\xef\\x9c\\x94\\x9a\\xa1\\xba\\xca\\xa8\\x9c\\x10\\xae\\xae\\x1b\\xac&quot;</td><td>2023-11-07 20:38:19 UTC</td><td>42797</td><td>0</td><td>0</td><td>2</td><td>0</td><td>0</td><td>0</td><td>0</td><td>0</td></tr><tr><td>2023-10-13 15:07:21.734257</td><td>2024-06-05 18:09:02.025</td><td>b&quot;\\xf6\\x9bv\\x99\\xd2/\\xb1\\x87z6\\x10\\xef\\x81\\xe9{\\x05\\x20\\x03\\xc5\\xac&quot;</td><td>2023-11-07 20:38:19 UTC</td><td>42798</td><td>0</td><td>0</td><td>1</td><td>0</td><td>0</td><td>0</td><td>0</td><td>0</td></tr><tr><td>2023-10-13 15:32:07.129182</td><td>2024-06-05 18:10:59.760</td><td>b&quot;\\xa1-f\\x16\\x8e\\x88\\x18\\xe8-hS\\x1d_c\\x09\\xe6\\x07/\\xc8\\xf5&quot;</td><td>2023-11-07 20:49:51 UTC</td><td>64737</td><td>0</td><td>0</td><td>1</td><td>0</td><td>0</td><td>0</td><td>0</td><td>0</td></tr><tr><td>2023-10-13 15:53:45.836242</td><td>2024-06-05 18:12:26.055</td><td>b&quot;\\x0f\\xc9\\x11\\xd1S\\xbd\\xb0*&lt;p;\\xd6RG\\xb2\\x80\\xd8\\xe6Y\\x85&quot;</td><td>2023-11-07 20:57:45 UTC</td><td>80519</td><td>0</td><td>0</td><td>0</td><td>0</td><td>0</td><td>0</td><td>0</td><td>0</td></tr><tr><td>&hellip;</td><td>&hellip;</td><td>&hellip;</td><td>&hellip;</td><td>&hellip;</td><td>&hellip;</td><td>&hellip;</td><td>&hellip;</td><td>&hellip;</td><td>&hellip;</td><td>&hellip;</td><td>&hellip;</td><td>&hellip;</td></tr><tr><td>2024-10-03 16:50:20.905845</td><td>2024-10-03 16:50:20.905845</td><td>b&quot;\\xcd\\xa7W\\xfd&lt;\\x13\\xe8\\xe7\\xc5\\xc5G\\x8e\\xdc\\x0c\\xfd\\x04&amp;,\\x8e\\x13&quot;</td><td>2024-10-03 16:50:11 UTC</td><td>862928</td><td>0</td><td>0</td><td>1</td><td>0</td><td>0</td><td>0</td><td>0</td><td>0</td></tr><tr><td>2024-10-03 16:51:01.531135</td><td>2024-10-03 16:51:01.531135</td><td>b&quot;\\xd7\\xe2(e\\x92&gt;+\\xb4\\x80\\x08\\xe7\\x8d\\x01\\xad\\x9dXJ[\\xf9\\xc6&quot;</td><td>2024-10-03 16:50:53 UTC</td><td>862929</td><td>1</td><td>21</td><td>3</td><td>19</td><td>20</td><td>10</td><td>0</td><td>10</td></tr><tr><td>2024-10-03 16:53:39.825393</td><td>2024-10-03 16:53:39.825393</td><td>b&quot;]?\\xfe\\xa0q\\xbb\\xf6?\\xa8\\xe01\\xb0M^\\xf9\\xad\\x18e\\xc3\\x18&quot;</td><td>2024-10-03 16:53:35 UTC</td><td>862930</td><td>0</td><td>0</td><td>1</td><td>0</td><td>1</td><td>0</td><td>0</td><td>0</td></tr><tr><td>2024-10-03 16:54:20.283078</td><td>2024-10-03 16:54:20.283078</td><td>b&quot;\\xfa\\xfc\\x12\\xb8\\xf3\\xc9\\xb5S8\\x87$\\xc6\\x8f\\x11\\xd1\\x8aC,\\xaa2&quot;</td><td>2024-10-03 16:54:09 UTC</td><td>862931</td><td>0</td><td>0</td><td>1</td><td>0</td><td>0</td><td>0</td><td>0</td><td>0</td></tr><tr><td>2024-10-03 16:57:42.681422</td><td>2024-10-03 16:57:42.681422</td><td>b&quot;~hL\\x07\\x82&amp;\\xbfh\\x08\\x82\\x18&quot;1H\\x1c\\x17\\xd2\\xa8w4&quot;</td><td>2024-10-03 16:57:33 UTC</td><td>862932</td><td>0</td><td>0</td><td>1</td><td>0</td><td>0</td><td>0</td><td>0</td><td>0</td></tr></tbody></table></div>"
      ],
      "text/plain": [
       "shape: (862_898, 13)\n",
       "┌───────────┬───────────┬───────────┬───────────┬───┬───────────┬───────────┬───────────┬──────────┐\n",
       "│ created_a ┆ updated_a ┆ custody_a ┆ registere ┆ … ┆ likes_cou ┆ total_cas ┆ reply_cas ┆ casts_co │\n",
       "│ t         ┆ t         ┆ ddress    ┆ d_at      ┆   ┆ nt        ┆ ts_count  ┆ ts_count  ┆ unt      │\n",
       "│ ---       ┆ ---       ┆ ---       ┆ ---       ┆   ┆ ---       ┆ ---       ┆ ---       ┆ ---      │\n",
       "│ datetime[ ┆ datetime[ ┆ binary    ┆ datetime[ ┆   ┆ u32       ┆ u32       ┆ u32       ┆ u32      │\n",
       "│ ns]       ┆ ns]       ┆           ┆ ns, UTC]  ┆   ┆           ┆           ┆           ┆          │\n",
       "╞═══════════╪═══════════╪═══════════╪═══════════╪═══╪═══════════╪═══════════╪═══════════╪══════════╡\n",
       "│ 2023-10-1 ┆ 2024-06-0 ┆ b\"\\xb3\\x9 ┆ 2023-11-0 ┆ … ┆ 0         ┆ 0         ┆ 0         ┆ 0        │\n",
       "│ 3 15:07:2 ┆ 5 18:09:0 ┆ 7\\x15\\x8b ┆ 7         ┆   ┆           ┆           ┆           ┆          │\n",
       "│ 1.731280  ┆ 2.020     ┆ \\\\xb5\\x02 ┆ 20:38:19  ┆   ┆           ┆           ┆           ┆          │\n",
       "│           ┆           ┆ \\x03\\xa5\\ ┆ UTC       ┆   ┆           ┆           ┆           ┆          │\n",
       "│           ┆           ┆ x91j\\x07\\ ┆           ┆   ┆           ┆           ┆           ┆          │\n",
       "│           ┆           ┆ x12U)\\xb1 ┆           ┆   ┆           ┆           ┆           ┆          │\n",
       "│           ┆           ┆ I\\xca\\xe3 ┆           ┆   ┆           ┆           ┆           ┆          │\n",
       "│           ┆           ┆ <\"        ┆           ┆   ┆           ┆           ┆           ┆          │\n",
       "│ 2023-10-1 ┆ 2024-06-0 ┆ b\"\\xed\\x9 ┆ 2023-11-0 ┆ … ┆ 0         ┆ 0         ┆ 0         ┆ 0        │\n",
       "│ 3 15:07:2 ┆ 5 18:09:0 ┆ 3\\xe1\\xef ┆ 7         ┆   ┆           ┆           ┆           ┆          │\n",
       "│ 1.732119  ┆ 2.024     ┆ \\x7f+\\xef ┆ 20:38:19  ┆   ┆           ┆           ┆           ┆          │\n",
       "│           ┆           ┆ \\x9c\\x94\\ ┆ UTC       ┆   ┆           ┆           ┆           ┆          │\n",
       "│           ┆           ┆ x9a\\xa1\\x ┆           ┆   ┆           ┆           ┆           ┆          │\n",
       "│           ┆           ┆ ba\\xca\\xa ┆           ┆   ┆           ┆           ┆           ┆          │\n",
       "│           ┆           ┆ 8\\x9c\\x10 ┆           ┆   ┆           ┆           ┆           ┆          │\n",
       "│           ┆           ┆ \\xae\\xae\\ ┆           ┆   ┆           ┆           ┆           ┆          │\n",
       "│           ┆           ┆ x1b\\xac\"  ┆           ┆   ┆           ┆           ┆           ┆          │\n",
       "│ 2023-10-1 ┆ 2024-06-0 ┆ b\"\\xf6\\x9 ┆ 2023-11-0 ┆ … ┆ 0         ┆ 0         ┆ 0         ┆ 0        │\n",
       "│ 3 15:07:2 ┆ 5 18:09:0 ┆ bv\\x99\\xd ┆ 7         ┆   ┆           ┆           ┆           ┆          │\n",
       "│ 1.734257  ┆ 2.025     ┆ 2/\\xb1\\x8 ┆ 20:38:19  ┆   ┆           ┆           ┆           ┆          │\n",
       "│           ┆           ┆ 7z6\\x10\\x ┆ UTC       ┆   ┆           ┆           ┆           ┆          │\n",
       "│           ┆           ┆ ef\\x81\\xe ┆           ┆   ┆           ┆           ┆           ┆          │\n",
       "│           ┆           ┆ 9{\\x05\\x2 ┆           ┆   ┆           ┆           ┆           ┆          │\n",
       "│           ┆           ┆ 0\\x03\\xc5 ┆           ┆   ┆           ┆           ┆           ┆          │\n",
       "│           ┆           ┆ \\xac\"     ┆           ┆   ┆           ┆           ┆           ┆          │\n",
       "│ 2023-10-1 ┆ 2024-06-0 ┆ b\"\\xa1-f\\ ┆ 2023-11-0 ┆ … ┆ 0         ┆ 0         ┆ 0         ┆ 0        │\n",
       "│ 3 15:32:0 ┆ 5 18:10:5 ┆ x16\\x8e\\x ┆ 7         ┆   ┆           ┆           ┆           ┆          │\n",
       "│ 7.129182  ┆ 9.760     ┆ 88\\x18\\xe ┆ 20:49:51  ┆   ┆           ┆           ┆           ┆          │\n",
       "│           ┆           ┆ 8-hS\\x1d_ ┆ UTC       ┆   ┆           ┆           ┆           ┆          │\n",
       "│           ┆           ┆ c\\x09\\xe6 ┆           ┆   ┆           ┆           ┆           ┆          │\n",
       "│           ┆           ┆ \\x07/\\xc8 ┆           ┆   ┆           ┆           ┆           ┆          │\n",
       "│           ┆           ┆ \\xf5\"     ┆           ┆   ┆           ┆           ┆           ┆          │\n",
       "│ 2023-10-1 ┆ 2024-06-0 ┆ b\"\\x0f\\xc ┆ 2023-11-0 ┆ … ┆ 0         ┆ 0         ┆ 0         ┆ 0        │\n",
       "│ 3 15:53:4 ┆ 5 18:12:2 ┆ 9\\x11\\xd1 ┆ 7         ┆   ┆           ┆           ┆           ┆          │\n",
       "│ 5.836242  ┆ 6.055     ┆ S\\xbd\\xb0 ┆ 20:57:45  ┆   ┆           ┆           ┆           ┆          │\n",
       "│           ┆           ┆ *<p;\\xd6R ┆ UTC       ┆   ┆           ┆           ┆           ┆          │\n",
       "│           ┆           ┆ G\\xb2\\x80 ┆           ┆   ┆           ┆           ┆           ┆          │\n",
       "│           ┆           ┆ \\xd8\\xe6Y ┆           ┆   ┆           ┆           ┆           ┆          │\n",
       "│           ┆           ┆ \\x85\"     ┆           ┆   ┆           ┆           ┆           ┆          │\n",
       "│ …         ┆ …         ┆ …         ┆ …         ┆ … ┆ …         ┆ …         ┆ …         ┆ …        │\n",
       "│ 2024-10-0 ┆ 2024-10-0 ┆ b\"\\xcd\\xa ┆ 2024-10-0 ┆ … ┆ 0         ┆ 0         ┆ 0         ┆ 0        │\n",
       "│ 3 16:50:2 ┆ 3 16:50:2 ┆ 7W\\xfd<\\x ┆ 3         ┆   ┆           ┆           ┆           ┆          │\n",
       "│ 0.905845  ┆ 0.905845  ┆ 13\\xe8\\xe ┆ 16:50:11  ┆   ┆           ┆           ┆           ┆          │\n",
       "│           ┆           ┆ 7\\xc5\\xc5 ┆ UTC       ┆   ┆           ┆           ┆           ┆          │\n",
       "│           ┆           ┆ G\\x8e\\xdc ┆           ┆   ┆           ┆           ┆           ┆          │\n",
       "│           ┆           ┆ \\x0c\\xfd\\ ┆           ┆   ┆           ┆           ┆           ┆          │\n",
       "│           ┆           ┆ x04&,\\x8e ┆           ┆   ┆           ┆           ┆           ┆          │\n",
       "│           ┆           ┆ \\x13\"     ┆           ┆   ┆           ┆           ┆           ┆          │\n",
       "│ 2024-10-0 ┆ 2024-10-0 ┆ b\"\\xd7\\xe ┆ 2024-10-0 ┆ … ┆ 20        ┆ 10        ┆ 0         ┆ 10       │\n",
       "│ 3 16:51:0 ┆ 3 16:51:0 ┆ 2(e\\x92>+ ┆ 3         ┆   ┆           ┆           ┆           ┆          │\n",
       "│ 1.531135  ┆ 1.531135  ┆ \\xb4\\x80\\ ┆ 16:50:53  ┆   ┆           ┆           ┆           ┆          │\n",
       "│           ┆           ┆ x08\\xe7\\x ┆ UTC       ┆   ┆           ┆           ┆           ┆          │\n",
       "│           ┆           ┆ 8d\\x01\\xa ┆           ┆   ┆           ┆           ┆           ┆          │\n",
       "│           ┆           ┆ d\\x9dXJ[\\ ┆           ┆   ┆           ┆           ┆           ┆          │\n",
       "│           ┆           ┆ xf9\\xc6\"  ┆           ┆   ┆           ┆           ┆           ┆          │\n",
       "│ 2024-10-0 ┆ 2024-10-0 ┆ b\"]?\\xfe\\ ┆ 2024-10-0 ┆ … ┆ 1         ┆ 0         ┆ 0         ┆ 0        │\n",
       "│ 3 16:53:3 ┆ 3 16:53:3 ┆ xa0q\\xbb\\ ┆ 3         ┆   ┆           ┆           ┆           ┆          │\n",
       "│ 9.825393  ┆ 9.825393  ┆ xf6?\\xa8\\ ┆ 16:53:35  ┆   ┆           ┆           ┆           ┆          │\n",
       "│           ┆           ┆ xe01\\xb0M ┆ UTC       ┆   ┆           ┆           ┆           ┆          │\n",
       "│           ┆           ┆ ^\\xf9\\xad ┆           ┆   ┆           ┆           ┆           ┆          │\n",
       "│           ┆           ┆ \\x18e\\xc3 ┆           ┆   ┆           ┆           ┆           ┆          │\n",
       "│           ┆           ┆ \\x18\"     ┆           ┆   ┆           ┆           ┆           ┆          │\n",
       "│ 2024-10-0 ┆ 2024-10-0 ┆ b\"\\xfa\\xf ┆ 2024-10-0 ┆ … ┆ 0         ┆ 0         ┆ 0         ┆ 0        │\n",
       "│ 3 16:54:2 ┆ 3 16:54:2 ┆ c\\x12\\xb8 ┆ 3         ┆   ┆           ┆           ┆           ┆          │\n",
       "│ 0.283078  ┆ 0.283078  ┆ \\xf3\\xc9\\ ┆ 16:54:09  ┆   ┆           ┆           ┆           ┆          │\n",
       "│           ┆           ┆ xb5S8\\x87 ┆ UTC       ┆   ┆           ┆           ┆           ┆          │\n",
       "│           ┆           ┆ $\\xc6\\x8f ┆           ┆   ┆           ┆           ┆           ┆          │\n",
       "│           ┆           ┆ \\x11\\xd1\\ ┆           ┆   ┆           ┆           ┆           ┆          │\n",
       "│           ┆           ┆ x8aC,\\xaa ┆           ┆   ┆           ┆           ┆           ┆          │\n",
       "│           ┆           ┆ 2\"        ┆           ┆   ┆           ┆           ┆           ┆          │\n",
       "│ 2024-10-0 ┆ 2024-10-0 ┆ b\"~hL\\x07 ┆ 2024-10-0 ┆ … ┆ 0         ┆ 0         ┆ 0         ┆ 0        │\n",
       "│ 3 16:57:4 ┆ 3 16:57:4 ┆ \\x82&\\xbf ┆ 3         ┆   ┆           ┆           ┆           ┆          │\n",
       "│ 2.681422  ┆ 2.681422  ┆ h\\x08\\x82 ┆ 16:57:33  ┆   ┆           ┆           ┆           ┆          │\n",
       "│           ┆           ┆ \\x18\"1H\\x ┆ UTC       ┆   ┆           ┆           ┆           ┆          │\n",
       "│           ┆           ┆ 1c\\x17\\xd ┆           ┆   ┆           ┆           ┆           ┆          │\n",
       "│           ┆           ┆ 2\\xa8w4\"  ┆           ┆   ┆           ┆           ┆           ┆          │\n",
       "└───────────┴───────────┴───────────┴───────────┴───┴───────────┴───────────┴───────────┴──────────┘"
      ]
     },
     "execution_count": 4,
     "metadata": {},
     "output_type": "execute_result"
    }
   ],
   "source": [
    "df"
   ]
  },
  {
   "cell_type": "code",
   "execution_count": 5,
   "id": "0ff83985-8fd9-44e1-b4ae-b0d29eb59a69",
   "metadata": {},
   "outputs": [],
   "source": [
    "# casts_count_lazy = (\n",
    "#     casts_lazy_df\n",
    "#     .filter(pl.col(\"deleted_at\").is_null())  # Filter out deleted casts\n",
    "#     .group_by(\"fid\")\n",
    "#     .agg(pl.count(\"id\").alias(\"casts_count\"))  # Aggregate to count casts per fid\n",
    "# )"
   ]
  },
  {
   "cell_type": "code",
   "execution_count": 6,
   "id": "735fc5ee-1975-432e-ba86-28a0e008c535",
   "metadata": {},
   "outputs": [],
   "source": [
    "# https://warpcast.com/eljuniordiaz.eth/0xf612041a\n",
    "# https://warpcast.com/falleccypollne/0x04253bc9\n",
    "\n",
    "# https://warpcast.com/sayangel/0x8cfc0da0"
   ]
  },
  {
   "cell_type": "code",
   "execution_count": 7,
   "id": "bfe4a156-62bf-4c50-a89f-5ce23e089fae",
   "metadata": {},
   "outputs": [],
   "source": [
    "## https://warpcast.com/botornot\n",
    "# BOT_OR_NOT_FID = 480626\n",
    "# bot_or_not_casts_lazy = casts_lazy_df.filter(pl.col(\"fid\") == BOT_OR_NOT_FID)\n",
    "# bot_or_not_casts_df = bot_or_not_casts_lazy.collect()\n",
    "# bot_or_not_casts_df.write_parquet(f\"{DATA_PATH}/bot_or_not_casts.parquet\")\n",
    "bot_or_not_casts_df = pl.read_parquet(f\"{DATA_PATH}/bot_or_not_casts.parquet\")"
   ]
  },
  {
   "cell_type": "code",
   "execution_count": 8,
   "id": "d948e4c9-17f5-43c5-9de5-23f7ba60aa79",
   "metadata": {},
   "outputs": [
    {
     "data": {
      "text/html": [
       "<div><style>\n",
       ".dataframe > thead > tr,\n",
       ".dataframe > tbody > tr {\n",
       "  text-align: right;\n",
       "  white-space: pre-wrap;\n",
       "}\n",
       "</style>\n",
       "<small>shape: (27_068, 16)</small><table border=\"1\" class=\"dataframe\"><thead><tr><th>created_at</th><th>updated_at</th><th>deleted_at</th><th>timestamp</th><th>fid</th><th>hash</th><th>parent_hash</th><th>parent_fid</th><th>parent_url</th><th>text</th><th>embeds</th><th>mentions</th><th>mentions_positions</th><th>root_parent_hash</th><th>root_parent_url</th><th>id</th></tr><tr><td>datetime[ns]</td><td>datetime[ns]</td><td>datetime[ns]</td><td>datetime[ns]</td><td>i64</td><td>binary</td><td>binary</td><td>i64</td><td>str</td><td>str</td><td>str</td><td>str</td><td>str</td><td>binary</td><td>str</td><td>i64</td></tr></thead><tbody><tr><td>2024-04-14 09:35:38.778506</td><td>2024-04-14 09:35:38.778506</td><td>null</td><td>2024-04-14 09:35:39</td><td>480626</td><td>b&quot;\\x0f\\x9f\\xe6\\xa6\\x0f\\x9e\\x1b4ij\\xf5\\x10\\x1f\\x80+\\x09\\xcf}\\xe6\\x19&quot;</td><td>null</td><td>null</td><td>null</td><td>&quot;Bot or Not? Someone checked :\n",
       "Bot or low effort casts: squares, numbers, random&quot;</td><td>&quot;[{&quot;url&quot;: &quot;https://cast-action-bot-or-not.vercel.app/api/frames?fid=374893&quot;}]&quot;</td><td>&quot;[374893]&quot;</td><td>&quot;[28]&quot;</td><td>b&quot;\\x0f\\x9f\\xe6\\xa6\\x0f\\x9e\\x1b4ij\\xf5\\x10\\x1f\\x80+\\x09\\xcf}\\xe6\\x19&quot;</td><td>null</td><td>2037557994</td></tr><tr><td>2024-04-14 09:35:42.438214</td><td>2024-04-14 09:35:42.438214</td><td>null</td><td>2024-04-14 09:35:42</td><td>480626</td><td>b&quot;Ft\\x9c({\\xd8\\xc1\\xc6&lt;[\\xfde\\x1a\\x9a\\xdc\\xa1\\x11\\xb6CX&quot;</td><td>null</td><td>null</td><td>null</td><td>&quot;Bot or Not? Someone checked :\n",
       "This user casts like a bot.&quot;</td><td>&quot;[{&quot;url&quot;: &quot;https://cast-action-bot-or-not.vercel.app/api/frames?fid=374893&quot;}]&quot;</td><td>&quot;[374893]&quot;</td><td>&quot;[28]&quot;</td><td>b&quot;Ft\\x9c({\\xd8\\xc1\\xc6&lt;[\\xfde\\x1a\\x9a\\xdc\\xa1\\x11\\xb6CX&quot;</td><td>null</td><td>2037558093</td></tr><tr><td>2024-04-14 09:35:51.097913</td><td>2024-04-14 09:35:51.097913</td><td>null</td><td>2024-04-14 09:35:51</td><td>480626</td><td>b&quot;E\\x1f\\x89\\x1ed\\xbe\\xdd)\\xfc\\xc6\\xa68\\x1e\\xad\\xfe\\x1b5\\xd7\\xe0\\xff&quot;</td><td>null</td><td>null</td><td>null</td><td>&quot;Bot or Not? Someone checked :\n",
       "Not a bot. Reply guy/gal: generic, vapid&quot;</td><td>&quot;[{&quot;url&quot;: &quot;https://cast-action-bot-or-not.vercel.app/api/frames?fid=246611&quot;}]&quot;</td><td>&quot;[246611]&quot;</td><td>&quot;[28]&quot;</td><td>b&quot;E\\x1f\\x89\\x1ed\\xbe\\xdd)\\xfc\\xc6\\xa68\\x1e\\xad\\xfe\\x1b5\\xd7\\xe0\\xff&quot;</td><td>null</td><td>2037558310</td></tr><tr><td>2024-04-14 09:35:55.805754</td><td>2024-04-14 09:35:55.805754</td><td>null</td><td>2024-04-14 09:35:56</td><td>480626</td><td>b&quot;\\x16\\x94\\xba\\x8c\\xfeI6w\\xd7\\xc4\\x15\\xd6\\xfa\\xdc=h\\xf9\\xfe]\\x97&quot;</td><td>null</td><td>null</td><td>null</td><td>&quot;Bot or Not? Someone checked :\n",
       "This user replies like a bot: meat, degen, generic&quot;</td><td>&quot;[{&quot;url&quot;: &quot;https://cast-action-bot-or-not.vercel.app/api/frames?fid=378852&quot;}]&quot;</td><td>&quot;[378852]&quot;</td><td>&quot;[28]&quot;</td><td>b&quot;\\x16\\x94\\xba\\x8c\\xfeI6w\\xd7\\xc4\\x15\\xd6\\xfa\\xdc=h\\xf9\\xfe]\\x97&quot;</td><td>null</td><td>2037558414</td></tr><tr><td>2024-04-14 09:35:58.416466</td><td>2024-04-14 09:35:58.416466</td><td>null</td><td>2024-04-14 09:35:58</td><td>480626</td><td>b&quot;/\\xaf\\x02\\xfac\\x0d\\x01\\xf1\\x94\\xeb&amp;i\\x20\\xb1L\\xdfu.$U&quot;</td><td>null</td><td>null</td><td>null</td><td>&quot;Bot or Not? Someone checked :\n",
       "This user replies like a bot: generic, shallow&quot;</td><td>&quot;[{&quot;url&quot;: &quot;https://cast-action-bot-or-not.vercel.app/api/frames?fid=435074&quot;}]&quot;</td><td>&quot;[435074]&quot;</td><td>&quot;[28]&quot;</td><td>b&quot;/\\xaf\\x02\\xfac\\x0d\\x01\\xf1\\x94\\xeb&amp;i\\x20\\xb1L\\xdfu.$U&quot;</td><td>null</td><td>2037558496</td></tr><tr><td>&hellip;</td><td>&hellip;</td><td>&hellip;</td><td>&hellip;</td><td>&hellip;</td><td>&hellip;</td><td>&hellip;</td><td>&hellip;</td><td>&hellip;</td><td>&hellip;</td><td>&hellip;</td><td>&hellip;</td><td>&hellip;</td><td>&hellip;</td><td>&hellip;</td><td>&hellip;</td></tr><tr><td>2024-10-03 13:50:24.781460</td><td>2024-10-03 13:50:24.781460</td><td>null</td><td>2024-10-03 13:50:25</td><td>480626</td><td>b&quot;\\xf1\\xfcGD\\xfc\\xd9T\\xb1\\xd1F\\xe4\\xf3\\xd6W\\xce\\x91\\xa3\\xf7M\\xf7&quot;</td><td>null</td><td>null</td><td>null</td><td>&quot;Bot or Not? Someone checked :\n",
       "\n",
       "Not a bot. Buildooor: Moxie frames, dev projects, cr\n",
       "\n",
       "Want to check someone else? Install the cast action below.&quot;</td><td>&quot;[{&quot;url&quot;: &quot;https://cast-action-bot-or-not.vercel.app/api/frames/responses/summary?fid=499880&amp;username=jhonc.eth&quot;}]&quot;</td><td>&quot;[499880]&quot;</td><td>&quot;[28]&quot;</td><td>b&quot;\\xf1\\xfcGD\\xfc\\xd9T\\xb1\\xd1F\\xe4\\xf3\\xd6W\\xce\\x91\\xa3\\xf7M\\xf7&quot;</td><td>null</td><td>5859225400</td></tr><tr><td>2024-10-03 14:38:42.685097</td><td>2024-10-03 14:38:42.685097</td><td>null</td><td>2024-10-03 14:38:43</td><td>480626</td><td>b&quot;\\x90PP\\x0e\\xe8\\xdbyv\\xdc\\xc2nc\\xd6\\xc2\\xd4\\xb6\\xaf\\xd1\\x0e\\x85&quot;</td><td>null</td><td>null</td><td>null</td><td>&quot;Bot or Not? Someone checked :\n",
       "\n",
       "Not a bot. Buildooor: sands sumaii,rpg,game updates\n",
       "\n",
       "Want to check someone else? Install the cast action below.&quot;</td><td>&quot;[{&quot;url&quot;: &quot;https://cast-action-bot-or-not.vercel.app/api/frames/responses/summary?fid=375245&amp;username=chasesommer.eth&quot;}]&quot;</td><td>&quot;[375245]&quot;</td><td>&quot;[28]&quot;</td><td>b&quot;\\x90PP\\x0e\\xe8\\xdbyv\\xdc\\xc2nc\\xd6\\xc2\\xd4\\xb6\\xaf\\xd1\\x0e\\x85&quot;</td><td>null</td><td>5859250589</td></tr><tr><td>2024-10-03 15:16:54.275876</td><td>2024-10-03 15:16:54.275876</td><td>null</td><td>2024-10-03 15:16:54</td><td>480626</td><td>b&quot;\\xef\\x9b\\x8f_3X&lt;$\\xd3\\xf0H&gt;\\xdd\\xf8vq\\xa6\\xce\\x9e2&quot;</td><td>null</td><td>null</td><td>null</td><td>&quot;Bot or Not? Someone checked :\n",
       "\n",
       "Not a bot. Casts: tournaments, creatures, spam\n",
       "\n",
       "Want to check someone else? Install the cast action below.&quot;</td><td>&quot;[{&quot;url&quot;: &quot;https://cast-action-bot-or-not.vercel.app/api/frames/responses/summary?fid=294226&amp;username=blackstock&quot;}]&quot;</td><td>&quot;[294226]&quot;</td><td>&quot;[28]&quot;</td><td>b&quot;\\xef\\x9b\\x8f_3X&lt;$\\xd3\\xf0H&gt;\\xdd\\xf8vq\\xa6\\xce\\x9e2&quot;</td><td>null</td><td>5859269527</td></tr><tr><td>2024-10-03 15:48:20.116991</td><td>2024-10-03 15:48:20.116991</td><td>null</td><td>2024-10-03 15:48:20</td><td>480626</td><td>b&quot;9\\xcd\\x18-\\xcc\\xa3B\\xc2r#o\\xa4\\xdd\\xd6\\xe1i\\x06/n\\x82&quot;</td><td>null</td><td>null</td><td>null</td><td>&quot;Bot or Not? Someone checked @injustcuz:\n",
       "\n",
       "Not a bot. Casts: spam,begging,random ramblings\n",
       "\n",
       "Want to check someone else? Install the cast action below.&quot;</td><td>&quot;[{&quot;url&quot;: &quot;https://cast-action-bot-or-not.vercel.app/api/frames/responses/summary?fid=320215&amp;username=injustcuz&quot;}]&quot;</td><td>&quot;[]&quot;</td><td>&quot;[]&quot;</td><td>b&quot;9\\xcd\\x18-\\xcc\\xa3B\\xc2r#o\\xa4\\xdd\\xd6\\xe1i\\x06/n\\x82&quot;</td><td>null</td><td>5859284309</td></tr><tr><td>2024-10-03 16:51:46.552667</td><td>2024-10-03 16:51:46.552667</td><td>null</td><td>2024-10-03 16:51:47</td><td>480626</td><td>b&quot;%3y\\xed\\xcbQ|\\xeeP\\x17\\xbb\\x82\\xe3G9\\x1d-\\x94\\xd3&gt;&quot;</td><td>null</td><td>null</td><td>null</td><td>&quot;Bot or Not? Someone checked :\n",
       "\n",
       "Not a bot. Casts: crypto risk, trading shift, blah blah\n",
       "\n",
       "Want to check someone else? Install the cast action below.&quot;</td><td>&quot;[{&quot;url&quot;: &quot;https://cast-action-bot-or-not.vercel.app/api/frames/responses/summary?fid=807336&amp;username=g0ddess24&quot;}]&quot;</td><td>&quot;[807336]&quot;</td><td>&quot;[28]&quot;</td><td>b&quot;%3y\\xed\\xcbQ|\\xeeP\\x17\\xbb\\x82\\xe3G9\\x1d-\\x94\\xd3&gt;&quot;</td><td>null</td><td>5859312793</td></tr></tbody></table></div>"
      ],
      "text/plain": [
       "shape: (27_068, 16)\n",
       "┌───────────┬───────────┬───────────┬───────────┬───┬───────────┬───────────┬───────────┬──────────┐\n",
       "│ created_a ┆ updated_a ┆ deleted_a ┆ timestamp ┆ … ┆ mentions_ ┆ root_pare ┆ root_pare ┆ id       │\n",
       "│ t         ┆ t         ┆ t         ┆ ---       ┆   ┆ positions ┆ nt_hash   ┆ nt_url    ┆ ---      │\n",
       "│ ---       ┆ ---       ┆ ---       ┆ datetime[ ┆   ┆ ---       ┆ ---       ┆ ---       ┆ i64      │\n",
       "│ datetime[ ┆ datetime[ ┆ datetime[ ┆ ns]       ┆   ┆ str       ┆ binary    ┆ str       ┆          │\n",
       "│ ns]       ┆ ns]       ┆ ns]       ┆           ┆   ┆           ┆           ┆           ┆          │\n",
       "╞═══════════╪═══════════╪═══════════╪═══════════╪═══╪═══════════╪═══════════╪═══════════╪══════════╡\n",
       "│ 2024-04-1 ┆ 2024-04-1 ┆ null      ┆ 2024-04-1 ┆ … ┆ [28]      ┆ b\"\\x0f\\x9 ┆ null      ┆ 20375579 │\n",
       "│ 4 09:35:3 ┆ 4 09:35:3 ┆           ┆ 4         ┆   ┆           ┆ f\\xe6\\xa6 ┆           ┆ 94       │\n",
       "│ 8.778506  ┆ 8.778506  ┆           ┆ 09:35:39  ┆   ┆           ┆ \\x0f\\x9e\\ ┆           ┆          │\n",
       "│           ┆           ┆           ┆           ┆   ┆           ┆ x1b4ij\\xf ┆           ┆          │\n",
       "│           ┆           ┆           ┆           ┆   ┆           ┆ 5\\x10\\x1f ┆           ┆          │\n",
       "│           ┆           ┆           ┆           ┆   ┆           ┆ \\x80+\\x09 ┆           ┆          │\n",
       "│           ┆           ┆           ┆           ┆   ┆           ┆ \\xcf}\\xe6 ┆           ┆          │\n",
       "│           ┆           ┆           ┆           ┆   ┆           ┆ \\x19\"     ┆           ┆          │\n",
       "│ 2024-04-1 ┆ 2024-04-1 ┆ null      ┆ 2024-04-1 ┆ … ┆ [28]      ┆ b\"Ft\\x9c( ┆ null      ┆ 20375580 │\n",
       "│ 4 09:35:4 ┆ 4 09:35:4 ┆           ┆ 4         ┆   ┆           ┆ {\\xd8\\xc1 ┆           ┆ 93       │\n",
       "│ 2.438214  ┆ 2.438214  ┆           ┆ 09:35:42  ┆   ┆           ┆ \\xc6<[\\xf ┆           ┆          │\n",
       "│           ┆           ┆           ┆           ┆   ┆           ┆ de\\x1a\\x9 ┆           ┆          │\n",
       "│           ┆           ┆           ┆           ┆   ┆           ┆ a\\xdc\\xa1 ┆           ┆          │\n",
       "│           ┆           ┆           ┆           ┆   ┆           ┆ \\x11\\xb6C ┆           ┆          │\n",
       "│           ┆           ┆           ┆           ┆   ┆           ┆ X\"        ┆           ┆          │\n",
       "│ 2024-04-1 ┆ 2024-04-1 ┆ null      ┆ 2024-04-1 ┆ … ┆ [28]      ┆ b\"E\\x1f\\x ┆ null      ┆ 20375583 │\n",
       "│ 4 09:35:5 ┆ 4 09:35:5 ┆           ┆ 4         ┆   ┆           ┆ 89\\x1ed\\x ┆           ┆ 10       │\n",
       "│ 1.097913  ┆ 1.097913  ┆           ┆ 09:35:51  ┆   ┆           ┆ be\\xdd)\\x ┆           ┆          │\n",
       "│           ┆           ┆           ┆           ┆   ┆           ┆ fc\\xc6\\xa ┆           ┆          │\n",
       "│           ┆           ┆           ┆           ┆   ┆           ┆ 68\\x1e\\xa ┆           ┆          │\n",
       "│           ┆           ┆           ┆           ┆   ┆           ┆ d\\xfe\\x1b ┆           ┆          │\n",
       "│           ┆           ┆           ┆           ┆   ┆           ┆ 5\\xd7\\xe0 ┆           ┆          │\n",
       "│           ┆           ┆           ┆           ┆   ┆           ┆ \\xff\"     ┆           ┆          │\n",
       "│ 2024-04-1 ┆ 2024-04-1 ┆ null      ┆ 2024-04-1 ┆ … ┆ [28]      ┆ b\"\\x16\\x9 ┆ null      ┆ 20375584 │\n",
       "│ 4 09:35:5 ┆ 4 09:35:5 ┆           ┆ 4         ┆   ┆           ┆ 4\\xba\\x8c ┆           ┆ 14       │\n",
       "│ 5.805754  ┆ 5.805754  ┆           ┆ 09:35:56  ┆   ┆           ┆ \\xfeI6w\\x ┆           ┆          │\n",
       "│           ┆           ┆           ┆           ┆   ┆           ┆ d7\\xc4\\x1 ┆           ┆          │\n",
       "│           ┆           ┆           ┆           ┆   ┆           ┆ 5\\xd6\\xfa ┆           ┆          │\n",
       "│           ┆           ┆           ┆           ┆   ┆           ┆ \\xdc=h\\xf ┆           ┆          │\n",
       "│           ┆           ┆           ┆           ┆   ┆           ┆ 9\\xfe]\\x9 ┆           ┆          │\n",
       "│           ┆           ┆           ┆           ┆   ┆           ┆ 7\"        ┆           ┆          │\n",
       "│ 2024-04-1 ┆ 2024-04-1 ┆ null      ┆ 2024-04-1 ┆ … ┆ [28]      ┆ b\"/\\xaf\\x ┆ null      ┆ 20375584 │\n",
       "│ 4 09:35:5 ┆ 4 09:35:5 ┆           ┆ 4         ┆   ┆           ┆ 02\\xfac\\x ┆           ┆ 96       │\n",
       "│ 8.416466  ┆ 8.416466  ┆           ┆ 09:35:58  ┆   ┆           ┆ 0d\\x01\\xf ┆           ┆          │\n",
       "│           ┆           ┆           ┆           ┆   ┆           ┆ 1\\x94\\xeb ┆           ┆          │\n",
       "│           ┆           ┆           ┆           ┆   ┆           ┆ &i\\x20\\xb ┆           ┆          │\n",
       "│           ┆           ┆           ┆           ┆   ┆           ┆ 1L\\xdfu.$ ┆           ┆          │\n",
       "│           ┆           ┆           ┆           ┆   ┆           ┆ U\"        ┆           ┆          │\n",
       "│ …         ┆ …         ┆ …         ┆ …         ┆ … ┆ …         ┆ …         ┆ …         ┆ …        │\n",
       "│ 2024-10-0 ┆ 2024-10-0 ┆ null      ┆ 2024-10-0 ┆ … ┆ [28]      ┆ b\"\\xf1\\xf ┆ null      ┆ 58592254 │\n",
       "│ 3 13:50:2 ┆ 3 13:50:2 ┆           ┆ 3         ┆   ┆           ┆ cGD\\xfc\\x ┆           ┆ 00       │\n",
       "│ 4.781460  ┆ 4.781460  ┆           ┆ 13:50:25  ┆   ┆           ┆ d9T\\xb1\\x ┆           ┆          │\n",
       "│           ┆           ┆           ┆           ┆   ┆           ┆ d1F\\xe4\\x ┆           ┆          │\n",
       "│           ┆           ┆           ┆           ┆   ┆           ┆ f3\\xd6W\\x ┆           ┆          │\n",
       "│           ┆           ┆           ┆           ┆   ┆           ┆ ce\\x91\\xa ┆           ┆          │\n",
       "│           ┆           ┆           ┆           ┆   ┆           ┆ 3\\xf7M\\xf ┆           ┆          │\n",
       "│           ┆           ┆           ┆           ┆   ┆           ┆ 7\"        ┆           ┆          │\n",
       "│ 2024-10-0 ┆ 2024-10-0 ┆ null      ┆ 2024-10-0 ┆ … ┆ [28]      ┆ b\"\\x90PP\\ ┆ null      ┆ 58592505 │\n",
       "│ 3 14:38:4 ┆ 3 14:38:4 ┆           ┆ 3         ┆   ┆           ┆ x0e\\xe8\\x ┆           ┆ 89       │\n",
       "│ 2.685097  ┆ 2.685097  ┆           ┆ 14:38:43  ┆   ┆           ┆ dbyv\\xdc\\ ┆           ┆          │\n",
       "│           ┆           ┆           ┆           ┆   ┆           ┆ xc2nc\\xd6 ┆           ┆          │\n",
       "│           ┆           ┆           ┆           ┆   ┆           ┆ \\xc2\\xd4\\ ┆           ┆          │\n",
       "│           ┆           ┆           ┆           ┆   ┆           ┆ xb6\\xaf\\x ┆           ┆          │\n",
       "│           ┆           ┆           ┆           ┆   ┆           ┆ d1\\x0e\\x8 ┆           ┆          │\n",
       "│           ┆           ┆           ┆           ┆   ┆           ┆ 5\"        ┆           ┆          │\n",
       "│ 2024-10-0 ┆ 2024-10-0 ┆ null      ┆ 2024-10-0 ┆ … ┆ [28]      ┆ b\"\\xef\\x9 ┆ null      ┆ 58592695 │\n",
       "│ 3 15:16:5 ┆ 3 15:16:5 ┆           ┆ 3         ┆   ┆           ┆ b\\x8f_3X< ┆           ┆ 27       │\n",
       "│ 4.275876  ┆ 4.275876  ┆           ┆ 15:16:54  ┆   ┆           ┆ $\\xd3\\xf0 ┆           ┆          │\n",
       "│           ┆           ┆           ┆           ┆   ┆           ┆ H>\\xdd\\xf ┆           ┆          │\n",
       "│           ┆           ┆           ┆           ┆   ┆           ┆ 8vq\\xa6\\x ┆           ┆          │\n",
       "│           ┆           ┆           ┆           ┆   ┆           ┆ ce\\x9e2\"  ┆           ┆          │\n",
       "│ 2024-10-0 ┆ 2024-10-0 ┆ null      ┆ 2024-10-0 ┆ … ┆ []        ┆ b\"9\\xcd\\x ┆ null      ┆ 58592843 │\n",
       "│ 3 15:48:2 ┆ 3 15:48:2 ┆           ┆ 3         ┆   ┆           ┆ 18-\\xcc\\x ┆           ┆ 09       │\n",
       "│ 0.116991  ┆ 0.116991  ┆           ┆ 15:48:20  ┆   ┆           ┆ a3B\\xc2r# ┆           ┆          │\n",
       "│           ┆           ┆           ┆           ┆   ┆           ┆ o\\xa4\\xdd ┆           ┆          │\n",
       "│           ┆           ┆           ┆           ┆   ┆           ┆ \\xd6\\xe1i ┆           ┆          │\n",
       "│           ┆           ┆           ┆           ┆   ┆           ┆ \\x06/n\\x8 ┆           ┆          │\n",
       "│           ┆           ┆           ┆           ┆   ┆           ┆ 2\"        ┆           ┆          │\n",
       "│ 2024-10-0 ┆ 2024-10-0 ┆ null      ┆ 2024-10-0 ┆ … ┆ [28]      ┆ b\"%3y\\xed ┆ null      ┆ 58593127 │\n",
       "│ 3 16:51:4 ┆ 3 16:51:4 ┆           ┆ 3         ┆   ┆           ┆ \\xcbQ|\\xe ┆           ┆ 93       │\n",
       "│ 6.552667  ┆ 6.552667  ┆           ┆ 16:51:47  ┆   ┆           ┆ eP\\x17\\xb ┆           ┆          │\n",
       "│           ┆           ┆           ┆           ┆   ┆           ┆ b\\x82\\xe3 ┆           ┆          │\n",
       "│           ┆           ┆           ┆           ┆   ┆           ┆ G9\\x1d-\\x ┆           ┆          │\n",
       "│           ┆           ┆           ┆           ┆   ┆           ┆ 94\\xd3>\"  ┆           ┆          │\n",
       "└───────────┴───────────┴───────────┴───────────┴───┴───────────┴───────────┴───────────┴──────────┘"
      ]
     },
     "execution_count": 8,
     "metadata": {},
     "output_type": "execute_result"
    }
   ],
   "source": [
    "bot_or_not_casts_df"
   ]
  },
  {
   "cell_type": "code",
   "execution_count": 9,
   "id": "e5e05649-0383-46d1-bce0-3ef7c0c82b76",
   "metadata": {},
   "outputs": [],
   "source": [
    "bots_casts_df = bot_or_not_casts_df.filter(~pl.col(\"text\").str.contains(r\"(?i)not a bot\\.\"))\n",
    "# bots_casts_df = bots_casts_df.filter(~pl.col(\"text\").str.contains(\"Bot or Not? Someone checked : Casts: \"))\n",
    "# bots_casts_df = bots_casts_df.filter(~pl.col(\"text\").str.contains(\"Bot or Not? Someone checked: Casts: \"))\n",
    "bots_casts_df = bots_casts_df.filter(~pl.col(\"text\").str.contains(\"Hi ! You have reached your Bot or Not free limit. \"))\n",
    "bots_casts_df = bots_casts_df.filter((pl.col(\"text\").str.contains(r\"(?i)like a bot\") | pl.col(\"text\").str.contains(r\"(?i)bot or low\")))\n",
    "\n",
    "bots_casts_df = bots_casts_df.with_columns(\n",
    "    pl.col(\"hash\").map_elements(lambda x: \"0x\" + x.hex(), return_dtype=pl.Utf8).alias(\"cast_hash\")\n",
    ")\n",
    "# bots_casts_df\n",
    "# unique_casts_df = bots_casts_df.unique(subset=[\"text\"])\n",
    "# sampled_casts_df = unique_casts_df.select([\"text\",\"cast_hash\" ]).sample(10)\n",
    "# print(bots_casts_df.shape)\n",
    "# bots_casts_df = bots_casts_df.unique\n",
    "# print(bots_casts_df.unique(subset=[\"mentions\"]).shape)\n",
    "\n",
    "bots_casts_df = bots_casts_df.unique(subset=[\"mentions\"])"
   ]
  },
  {
   "cell_type": "code",
   "execution_count": 10,
   "id": "a4d4b23d-0e38-46e9-b8a3-7c82656e8b5f",
   "metadata": {},
   "outputs": [],
   "source": [
    "not_bots_df = bot_or_not_casts_df.filter(pl.col(\"text\").str.contains(r\"(?i)not a bot\\.\"))"
   ]
  },
  {
   "cell_type": "code",
   "execution_count": 11,
   "id": "8c0e0ad9-d427-4642-9981-f51fb5fccd11",
   "metadata": {},
   "outputs": [],
   "source": [
    "# build fids\n",
    "def transform_mentions(row):\n",
    "    mentions = json.loads(row['mentions'])\n",
    "    embeds = json.loads(row['embeds'])\n",
    "\n",
    "    if mentions:\n",
    "        return int(mentions[0])\n",
    "\n",
    "    if embeds:\n",
    "        url = embeds[0][\"url\"]\n",
    "        parsed_url = urlparse(url)\n",
    "        query_params = parse_qs(parsed_url.query)\n",
    "        if 'fid' in query_params:\n",
    "            return int(query_params['fid'][0])\n",
    "\n",
    "    return None\n"
   ]
  },
  {
   "cell_type": "code",
   "execution_count": 12,
   "id": "89f3f875-5c58-4e56-94da-412ec626bd13",
   "metadata": {},
   "outputs": [],
   "source": [
    "# testing = not_bots_df.filter(pl.col(\"mentions\") == \"[]\")\n",
    "# testing = testing.with_columns(\n",
    "#     pl.struct([\"mentions\", \"embeds\"]).map_elements(transform_mentions, return_dtype=pl.Int64).alias(\"fid_new\")\n",
    "# )"
   ]
  },
  {
   "cell_type": "code",
   "execution_count": 13,
   "id": "3db37a7d-eaee-4bf2-990a-48dc6750a340",
   "metadata": {},
   "outputs": [],
   "source": [
    "bots_casts_df = bots_casts_df.with_columns(\n",
    "    pl.struct([\"mentions\", \"embeds\"]).map_elements(transform_mentions, return_dtype=pl.Int64).alias(\"fid\")\n",
    ")\n",
    "not_bots_df = not_bots_df.with_columns(\n",
    "    pl.struct([\"mentions\", \"embeds\"]).map_elements(transform_mentions, return_dtype=pl.Int64).alias(\"fid\")\n",
    ")"
   ]
  },
  {
   "cell_type": "code",
   "execution_count": 14,
   "id": "80f8d980-d0a7-4e30-a213-89d37c5b16b4",
   "metadata": {},
   "outputs": [],
   "source": [
    "bots_casts_df = bots_casts_df.unique(subset=['fid'])"
   ]
  },
  {
   "cell_type": "code",
   "execution_count": 15,
   "id": "d8c0483a-5b81-4427-9c59-fb28b9c80be3",
   "metadata": {},
   "outputs": [],
   "source": [
    "not_bots_df = not_bots_df.unique(subset=['fid'])"
   ]
  },
  {
   "cell_type": "code",
   "execution_count": 16,
   "id": "84ea619d-1dc3-497a-b9e4-9eda339c84e4",
   "metadata": {},
   "outputs": [],
   "source": [
    "not_bots_df = not_bots_df.with_columns(\n",
    "    pl.lit(False).alias('bot')\n",
    ")\n",
    "\n",
    "bots_casts_df = bots_casts_df.with_columns(\n",
    "    pl.lit(True).alias('bot')\n",
    ")"
   ]
  },
  {
   "cell_type": "code",
   "execution_count": 17,
   "id": "4cc8f539-89b2-4021-9a5a-414d16df85a7",
   "metadata": {},
   "outputs": [],
   "source": [
    "not_bots_df = not_bots_df.select(['fid', 'bot', 'text'])\n",
    "bots_casts_df = bots_casts_df.select(['fid', 'bot', 'text'])"
   ]
  },
  {
   "cell_type": "code",
   "execution_count": 21,
   "id": "9c89f617-ca7b-46c3-9318-8b52878f1518",
   "metadata": {},
   "outputs": [
    {
     "data": {
      "text/html": [
       "<div><style>\n",
       ".dataframe > thead > tr,\n",
       ".dataframe > tbody > tr {\n",
       "  text-align: right;\n",
       "  white-space: pre-wrap;\n",
       "}\n",
       "</style>\n",
       "<small>shape: (6_711, 3)</small><table border=\"1\" class=\"dataframe\"><thead><tr><th>fid</th><th>bot</th><th>text</th></tr><tr><td>i64</td><td>bool</td><td>str</td></tr></thead><tbody><tr><td>431522</td><td>true</td><td>&quot;Bot or Not? Someone checked :\n",
       "This user replies like a bot: random generic drivel&quot;</td></tr><tr><td>243825</td><td>true</td><td>&quot;Bot or Not? Someone checked :\n",
       "Bot or low effort casts: shadowban complaints&quot;</td></tr><tr><td>403878</td><td>true</td><td>&quot;Bot or Not? Someone checked :\n",
       "\n",
       "Bot or low effort casts: spammy casts, generic tips, emojis\n",
       "\n",
       "Want to check someone else? Install the cast action below.&quot;</td></tr><tr><td>385803</td><td>true</td><td>&quot;Bot or Not? Someone checked :\n",
       "This user replies like a bot: generic, low-effort&quot;</td></tr><tr><td>377127</td><td>true</td><td>&quot;Bot or Not? Someone checked :\n",
       "This user replies like a bot: spammy,$DEGEN,emojis&quot;</td></tr><tr><td>&hellip;</td><td>&hellip;</td><td>&hellip;</td></tr><tr><td>363848</td><td>true</td><td>&quot;Bot or Not? Someone checked :\n",
       "\n",
       "This user casts like a bot.\n",
       "\n",
       "Want to check someone else? Install the cast action below.&quot;</td></tr><tr><td>11004</td><td>true</td><td>&quot;Bot or Not? Someone checked :\n",
       "\n",
       "Bot or low effort casts: generic, repetitive, empty, spam\n",
       "\n",
       "Want to check someone else? Install the cast action below.&quot;</td></tr><tr><td>416302</td><td>true</td><td>&quot;Bot or Not? Someone checked :\n",
       "This user casts like a bot.&quot;</td></tr><tr><td>268438</td><td>true</td><td>&quot;Bot or Not? Someone checked :\n",
       "Bot or low effort casts: begging, emojis, memes&quot;</td></tr><tr><td>286388</td><td>true</td><td>&quot;Bot or Not? Someone checked :\n",
       "\n",
       "This user casts like a bot.\n",
       "\n",
       "Want to check someone else? Install the cast action below.&quot;</td></tr></tbody></table></div>"
      ],
      "text/plain": [
       "shape: (6_711, 3)\n",
       "┌────────┬──────┬─────────────────────────────────────────────────────────────┐\n",
       "│ fid    ┆ bot  ┆ text                                                        │\n",
       "│ ---    ┆ ---  ┆ ---                                                         │\n",
       "│ i64    ┆ bool ┆ str                                                         │\n",
       "╞════════╪══════╪═════════════════════════════════════════════════════════════╡\n",
       "│ 431522 ┆ true ┆ Bot or Not? Someone checked :                               │\n",
       "│        ┆      ┆ This user replies like a bot: random generic drivel         │\n",
       "│ 243825 ┆ true ┆ Bot or Not? Someone checked :                               │\n",
       "│        ┆      ┆ Bot or low effort casts: shadowban complaints               │\n",
       "│ 403878 ┆ true ┆ Bot or Not? Someone checked :                               │\n",
       "│        ┆      ┆                                                             │\n",
       "│        ┆      ┆ Bot or low effort casts: spammy casts, generic tips, emojis │\n",
       "│        ┆      ┆                                                             │\n",
       "│        ┆      ┆ Want to check someone else? Install the cast action below.  │\n",
       "│ 385803 ┆ true ┆ Bot or Not? Someone checked :                               │\n",
       "│        ┆      ┆ This user replies like a bot: generic, low-effort           │\n",
       "│ 377127 ┆ true ┆ Bot or Not? Someone checked :                               │\n",
       "│        ┆      ┆ This user replies like a bot: spammy,$DEGEN,emojis          │\n",
       "│ …      ┆ …    ┆ …                                                           │\n",
       "│ 363848 ┆ true ┆ Bot or Not? Someone checked :                               │\n",
       "│        ┆      ┆                                                             │\n",
       "│        ┆      ┆ This user casts like a bot.                                 │\n",
       "│        ┆      ┆                                                             │\n",
       "│        ┆      ┆ Want to check someone else? Install the cast action below.  │\n",
       "│ 11004  ┆ true ┆ Bot or Not? Someone checked :                               │\n",
       "│        ┆      ┆                                                             │\n",
       "│        ┆      ┆ Bot or low effort casts: generic, repetitive, empty, spam   │\n",
       "│        ┆      ┆                                                             │\n",
       "│        ┆      ┆ Want to check someone else? Install the cast action below.  │\n",
       "│ 416302 ┆ true ┆ Bot or Not? Someone checked :                               │\n",
       "│        ┆      ┆ This user casts like a bot.                                 │\n",
       "│ 268438 ┆ true ┆ Bot or Not? Someone checked :                               │\n",
       "│        ┆      ┆ Bot or low effort casts: begging, emojis, memes             │\n",
       "│ 286388 ┆ true ┆ Bot or Not? Someone checked :                               │\n",
       "│        ┆      ┆                                                             │\n",
       "│        ┆      ┆ This user casts like a bot.                                 │\n",
       "│        ┆      ┆                                                             │\n",
       "│        ┆      ┆ Want to check someone else? Install the cast action below.  │\n",
       "└────────┴──────┴─────────────────────────────────────────────────────────────┘"
      ]
     },
     "execution_count": 21,
     "metadata": {},
     "output_type": "execute_result"
    }
   ],
   "source": [
    "bots_casts_df #.unique(subset=['fid'])"
   ]
  },
  {
   "cell_type": "code",
   "execution_count": 22,
   "id": "dc2e22d4-77eb-410c-822d-d1fdb38c4f72",
   "metadata": {},
   "outputs": [],
   "source": [
    "combined_df = pl.concat([not_bots_df, bots_casts_df])"
   ]
  },
  {
   "cell_type": "code",
   "execution_count": 23,
   "id": "1b2d3ff2-8bcf-48e1-b59a-fcbab3fd4ef1",
   "metadata": {},
   "outputs": [
    {
     "data": {
      "text/html": [
       "<div><style>\n",
       ".dataframe > thead > tr,\n",
       ".dataframe > tbody > tr {\n",
       "  text-align: right;\n",
       "  white-space: pre-wrap;\n",
       "}\n",
       "</style>\n",
       "<small>shape: (15_960, 3)</small><table border=\"1\" class=\"dataframe\"><thead><tr><th>fid</th><th>bot</th><th>text</th></tr><tr><td>i64</td><td>bool</td><td>str</td></tr></thead><tbody><tr><td>350129</td><td>false</td><td>&quot;Bot or Not? Someone checked :\n",
       "Likely not a bot. Casts: social, games, tips&quot;</td></tr><tr><td>274</td><td>false</td><td>&quot;Bot or Not? Someone checked :\n",
       "Not a bot. Reply guy/gal: shilling $DEGEN&quot;</td></tr><tr><td>243560</td><td>false</td><td>&quot;Bot or Not? Someone checked :\n",
       "Not a bot. Casts: drakula spammer&quot;</td></tr><tr><td>421161</td><td>false</td><td>&quot;Bot or Not? Someone checked :\n",
       "Not a bot. Reply guy/gal: pancakes, freediving&quot;</td></tr><tr><td>379765</td><td>false</td><td>&quot;Bot or Not? Someone checked :\n",
       "\n",
       "Not a bot. Reply guy/gal: short, generic, boring casts\n",
       "\n",
       "Want to check someone else? Install the cast action below.&quot;</td></tr><tr><td>&hellip;</td><td>&hellip;</td><td>&hellip;</td></tr><tr><td>363848</td><td>true</td><td>&quot;Bot or Not? Someone checked :\n",
       "\n",
       "This user casts like a bot.\n",
       "\n",
       "Want to check someone else? Install the cast action below.&quot;</td></tr><tr><td>11004</td><td>true</td><td>&quot;Bot or Not? Someone checked :\n",
       "\n",
       "Bot or low effort casts: generic, repetitive, empty, spam\n",
       "\n",
       "Want to check someone else? Install the cast action below.&quot;</td></tr><tr><td>416302</td><td>true</td><td>&quot;Bot or Not? Someone checked :\n",
       "This user casts like a bot.&quot;</td></tr><tr><td>268438</td><td>true</td><td>&quot;Bot or Not? Someone checked :\n",
       "Bot or low effort casts: begging, emojis, memes&quot;</td></tr><tr><td>286388</td><td>true</td><td>&quot;Bot or Not? Someone checked :\n",
       "\n",
       "This user casts like a bot.\n",
       "\n",
       "Want to check someone else? Install the cast action below.&quot;</td></tr></tbody></table></div>"
      ],
      "text/plain": [
       "shape: (15_960, 3)\n",
       "┌────────┬───────┬────────────────────────────────────────────────────────────┐\n",
       "│ fid    ┆ bot   ┆ text                                                       │\n",
       "│ ---    ┆ ---   ┆ ---                                                        │\n",
       "│ i64    ┆ bool  ┆ str                                                        │\n",
       "╞════════╪═══════╪════════════════════════════════════════════════════════════╡\n",
       "│ 350129 ┆ false ┆ Bot or Not? Someone checked :                              │\n",
       "│        ┆       ┆ Likely not a bot. Casts: social, games, tips               │\n",
       "│ 274    ┆ false ┆ Bot or Not? Someone checked :                              │\n",
       "│        ┆       ┆ Not a bot. Reply guy/gal: shilling $DEGEN                  │\n",
       "│ 243560 ┆ false ┆ Bot or Not? Someone checked :                              │\n",
       "│        ┆       ┆ Not a bot. Casts: drakula spammer                          │\n",
       "│ 421161 ┆ false ┆ Bot or Not? Someone checked :                              │\n",
       "│        ┆       ┆ Not a bot. Reply guy/gal: pancakes, freediving             │\n",
       "│ 379765 ┆ false ┆ Bot or Not? Someone checked :                              │\n",
       "│        ┆       ┆                                                            │\n",
       "│        ┆       ┆ Not a bot. Reply guy/gal: short, generic, boring casts     │\n",
       "│        ┆       ┆                                                            │\n",
       "│        ┆       ┆ Want to check someone else? Install the cast action below. │\n",
       "│ …      ┆ …     ┆ …                                                          │\n",
       "│ 363848 ┆ true  ┆ Bot or Not? Someone checked :                              │\n",
       "│        ┆       ┆                                                            │\n",
       "│        ┆       ┆ This user casts like a bot.                                │\n",
       "│        ┆       ┆                                                            │\n",
       "│        ┆       ┆ Want to check someone else? Install the cast action below. │\n",
       "│ 11004  ┆ true  ┆ Bot or Not? Someone checked :                              │\n",
       "│        ┆       ┆                                                            │\n",
       "│        ┆       ┆ Bot or low effort casts: generic, repetitive, empty, spam  │\n",
       "│        ┆       ┆                                                            │\n",
       "│        ┆       ┆ Want to check someone else? Install the cast action below. │\n",
       "│ 416302 ┆ true  ┆ Bot or Not? Someone checked :                              │\n",
       "│        ┆       ┆ This user casts like a bot.                                │\n",
       "│ 268438 ┆ true  ┆ Bot or Not? Someone checked :                              │\n",
       "│        ┆       ┆ Bot or low effort casts: begging, emojis, memes            │\n",
       "│ 286388 ┆ true  ┆ Bot or Not? Someone checked :                              │\n",
       "│        ┆       ┆                                                            │\n",
       "│        ┆       ┆ This user casts like a bot.                                │\n",
       "│        ┆       ┆                                                            │\n",
       "│        ┆       ┆ Want to check someone else? Install the cast action below. │\n",
       "└────────┴───────┴────────────────────────────────────────────────────────────┘"
      ]
     },
     "execution_count": 23,
     "metadata": {},
     "output_type": "execute_result"
    }
   ],
   "source": [
    "combined_df"
   ]
  },
  {
   "cell_type": "code",
   "execution_count": 279,
   "id": "27b291fd-839f-45ed-9815-86e765fc846f",
   "metadata": {},
   "outputs": [],
   "source": [
    "# combined_df.write_parquet(f\"{DATA_PATH}/bot_or_not_checks.parquet\")"
   ]
  },
  {
   "cell_type": "code",
   "execution_count": 24,
   "id": "fca05bba-d8d2-4ddc-88a9-08882b4d6043",
   "metadata": {},
   "outputs": [
    {
     "data": {
      "text/html": [
       "<div><style>\n",
       ".dataframe > thead > tr,\n",
       ".dataframe > tbody > tr {\n",
       "  text-align: right;\n",
       "  white-space: pre-wrap;\n",
       "}\n",
       "</style>\n",
       "<small>shape: (15_960, 3)</small><table border=\"1\" class=\"dataframe\"><thead><tr><th>fid</th><th>bot</th><th>text</th></tr><tr><td>i64</td><td>bool</td><td>str</td></tr></thead><tbody><tr><td>350129</td><td>false</td><td>&quot;Bot or Not? Someone checked :\n",
       "Likely not a bot. Casts: social, games, tips&quot;</td></tr><tr><td>274</td><td>false</td><td>&quot;Bot or Not? Someone checked :\n",
       "Not a bot. Reply guy/gal: shilling $DEGEN&quot;</td></tr><tr><td>243560</td><td>false</td><td>&quot;Bot or Not? Someone checked :\n",
       "Not a bot. Casts: drakula spammer&quot;</td></tr><tr><td>421161</td><td>false</td><td>&quot;Bot or Not? Someone checked :\n",
       "Not a bot. Reply guy/gal: pancakes, freediving&quot;</td></tr><tr><td>379765</td><td>false</td><td>&quot;Bot or Not? Someone checked :\n",
       "\n",
       "Not a bot. Reply guy/gal: short, generic, boring casts\n",
       "\n",
       "Want to check someone else? Install the cast action below.&quot;</td></tr><tr><td>&hellip;</td><td>&hellip;</td><td>&hellip;</td></tr><tr><td>363848</td><td>true</td><td>&quot;Bot or Not? Someone checked :\n",
       "\n",
       "This user casts like a bot.\n",
       "\n",
       "Want to check someone else? Install the cast action below.&quot;</td></tr><tr><td>11004</td><td>true</td><td>&quot;Bot or Not? Someone checked :\n",
       "\n",
       "Bot or low effort casts: generic, repetitive, empty, spam\n",
       "\n",
       "Want to check someone else? Install the cast action below.&quot;</td></tr><tr><td>416302</td><td>true</td><td>&quot;Bot or Not? Someone checked :\n",
       "This user casts like a bot.&quot;</td></tr><tr><td>268438</td><td>true</td><td>&quot;Bot or Not? Someone checked :\n",
       "Bot or low effort casts: begging, emojis, memes&quot;</td></tr><tr><td>286388</td><td>true</td><td>&quot;Bot or Not? Someone checked :\n",
       "\n",
       "This user casts like a bot.\n",
       "\n",
       "Want to check someone else? Install the cast action below.&quot;</td></tr></tbody></table></div>"
      ],
      "text/plain": [
       "shape: (15_960, 3)\n",
       "┌────────┬───────┬────────────────────────────────────────────────────────────┐\n",
       "│ fid    ┆ bot   ┆ text                                                       │\n",
       "│ ---    ┆ ---   ┆ ---                                                        │\n",
       "│ i64    ┆ bool  ┆ str                                                        │\n",
       "╞════════╪═══════╪════════════════════════════════════════════════════════════╡\n",
       "│ 350129 ┆ false ┆ Bot or Not? Someone checked :                              │\n",
       "│        ┆       ┆ Likely not a bot. Casts: social, games, tips               │\n",
       "│ 274    ┆ false ┆ Bot or Not? Someone checked :                              │\n",
       "│        ┆       ┆ Not a bot. Reply guy/gal: shilling $DEGEN                  │\n",
       "│ 243560 ┆ false ┆ Bot or Not? Someone checked :                              │\n",
       "│        ┆       ┆ Not a bot. Casts: drakula spammer                          │\n",
       "│ 421161 ┆ false ┆ Bot or Not? Someone checked :                              │\n",
       "│        ┆       ┆ Not a bot. Reply guy/gal: pancakes, freediving             │\n",
       "│ 379765 ┆ false ┆ Bot or Not? Someone checked :                              │\n",
       "│        ┆       ┆                                                            │\n",
       "│        ┆       ┆ Not a bot. Reply guy/gal: short, generic, boring casts     │\n",
       "│        ┆       ┆                                                            │\n",
       "│        ┆       ┆ Want to check someone else? Install the cast action below. │\n",
       "│ …      ┆ …     ┆ …                                                          │\n",
       "│ 363848 ┆ true  ┆ Bot or Not? Someone checked :                              │\n",
       "│        ┆       ┆                                                            │\n",
       "│        ┆       ┆ This user casts like a bot.                                │\n",
       "│        ┆       ┆                                                            │\n",
       "│        ┆       ┆ Want to check someone else? Install the cast action below. │\n",
       "│ 11004  ┆ true  ┆ Bot or Not? Someone checked :                              │\n",
       "│        ┆       ┆                                                            │\n",
       "│        ┆       ┆ Bot or low effort casts: generic, repetitive, empty, spam  │\n",
       "│        ┆       ┆                                                            │\n",
       "│        ┆       ┆ Want to check someone else? Install the cast action below. │\n",
       "│ 416302 ┆ true  ┆ Bot or Not? Someone checked :                              │\n",
       "│        ┆       ┆ This user casts like a bot.                                │\n",
       "│ 268438 ┆ true  ┆ Bot or Not? Someone checked :                              │\n",
       "│        ┆       ┆ Bot or low effort casts: begging, emojis, memes            │\n",
       "│ 286388 ┆ true  ┆ Bot or Not? Someone checked :                              │\n",
       "│        ┆       ┆                                                            │\n",
       "│        ┆       ┆ This user casts like a bot.                                │\n",
       "│        ┆       ┆                                                            │\n",
       "│        ┆       ┆ Want to check someone else? Install the cast action below. │\n",
       "└────────┴───────┴────────────────────────────────────────────────────────────┘"
      ]
     },
     "execution_count": 24,
     "metadata": {},
     "output_type": "execute_result"
    }
   ],
   "source": [
    "combined_df"
   ]
  },
  {
   "cell_type": "code",
   "execution_count": 27,
   "id": "5249cd25-15f5-4e5f-aa02-28db7f0643d9",
   "metadata": {},
   "outputs": [
    {
     "data": {
      "text/html": [
       "<div><style>\n",
       ".dataframe > thead > tr,\n",
       ".dataframe > tbody > tr {\n",
       "  text-align: right;\n",
       "  white-space: pre-wrap;\n",
       "}\n",
       "</style>\n",
       "<small>shape: (13_904, 3)</small><table border=\"1\" class=\"dataframe\"><thead><tr><th>fid</th><th>bot</th><th>text</th></tr><tr><td>i64</td><td>bool</td><td>str</td></tr></thead><tbody><tr><td>256032</td><td>true</td><td>&quot;Bot or Not? Someone checked :\n",
       "This user casts like a bot.&quot;</td></tr><tr><td>505070</td><td>true</td><td>&quot;Bot or Not? Someone checked :\n",
       "\n",
       "This user casts like a bot: korean, generic, ham, positivity\n",
       "\n",
       "Want to check someone else? Install the cast action below.&quot;</td></tr><tr><td>386711</td><td>true</td><td>&quot;Bot or Not? Someone checked :\n",
       "Bot or low effort casts: emojis, short&quot;</td></tr><tr><td>424591</td><td>true</td><td>&quot;Bot or Not? Someone checked :\n",
       "\n",
       "This user replies like a bot: repetitive, spammy degen casts\n",
       "\n",
       "Want to check someone else? Install the cast action below.&quot;</td></tr><tr><td>254591</td><td>false</td><td>&quot;Bot or Not? Someone checked :\n",
       "\n",
       "Likely not a bot. Casts: crypto, bullish sentiment, design\n",
       "\n",
       "Want to check someone else? Install the cast action below.&quot;</td></tr><tr><td>&hellip;</td><td>&hellip;</td><td>&hellip;</td></tr><tr><td>402017</td><td>false</td><td>&quot;Bot or Not? Someone checked :\n",
       "Likely not a bot. Casts: korean crypto&quot;</td></tr><tr><td>428625</td><td>true</td><td>&quot;Bot or Not? Someone checked :\n",
       "\n",
       "This user casts like a bot.\n",
       "\n",
       "Want to check someone else? Install the cast action below.&quot;</td></tr><tr><td>401621</td><td>true</td><td>&quot;Bot or Not? Someone checked :\n",
       "\n",
       "Bot or low effort casts: repetitive, korean, hype, casts\n",
       "\n",
       "Want to check someone else? Install the cast action below.&quot;</td></tr><tr><td>397813</td><td>false</td><td>&quot;Bot or Not? Someone checked :\n",
       "\n",
       "Not a bot. Reply guy/gal: tips degen, generic comments\n",
       "\n",
       "Want to check someone else? Install the cast action below.&quot;</td></tr><tr><td>14407</td><td>false</td><td>&quot;Bot or Not? Someone checked :\n",
       "\n",
       "Not a bot. Buildooor: artist, painter, studio grind\n",
       "\n",
       "Want to check someone else? Install the cast action below.&quot;</td></tr></tbody></table></div>"
      ],
      "text/plain": [
       "shape: (13_904, 3)\n",
       "┌────────┬───────┬──────────────────────────────────────────────────────────────┐\n",
       "│ fid    ┆ bot   ┆ text                                                         │\n",
       "│ ---    ┆ ---   ┆ ---                                                          │\n",
       "│ i64    ┆ bool  ┆ str                                                          │\n",
       "╞════════╪═══════╪══════════════════════════════════════════════════════════════╡\n",
       "│ 256032 ┆ true  ┆ Bot or Not? Someone checked :                                │\n",
       "│        ┆       ┆ This user casts like a bot.                                  │\n",
       "│ 505070 ┆ true  ┆ Bot or Not? Someone checked :                                │\n",
       "│        ┆       ┆                                                              │\n",
       "│        ┆       ┆ This user casts like a bot: korean, generic, ham, positivity │\n",
       "│        ┆       ┆                                                              │\n",
       "│        ┆       ┆ Want to check someone else? Install the cast action below.   │\n",
       "│ 386711 ┆ true  ┆ Bot or Not? Someone checked :                                │\n",
       "│        ┆       ┆ Bot or low effort casts: emojis, short                       │\n",
       "│ 424591 ┆ true  ┆ Bot or Not? Someone checked :                                │\n",
       "│        ┆       ┆                                                              │\n",
       "│        ┆       ┆ This user replies like a bot: repetitive, spammy degen casts │\n",
       "│        ┆       ┆                                                              │\n",
       "│        ┆       ┆ Want to check someone else? Install the cast action below.   │\n",
       "│ 254591 ┆ false ┆ Bot or Not? Someone checked :                                │\n",
       "│        ┆       ┆                                                              │\n",
       "│        ┆       ┆ Likely not a bot. Casts: crypto, bullish sentiment, design   │\n",
       "│        ┆       ┆                                                              │\n",
       "│        ┆       ┆ Want to check someone else? Install the cast action below.   │\n",
       "│ …      ┆ …     ┆ …                                                            │\n",
       "│ 402017 ┆ false ┆ Bot or Not? Someone checked :                                │\n",
       "│        ┆       ┆ Likely not a bot. Casts: korean crypto                       │\n",
       "│ 428625 ┆ true  ┆ Bot or Not? Someone checked :                                │\n",
       "│        ┆       ┆                                                              │\n",
       "│        ┆       ┆ This user casts like a bot.                                  │\n",
       "│        ┆       ┆                                                              │\n",
       "│        ┆       ┆ Want to check someone else? Install the cast action below.   │\n",
       "│ 401621 ┆ true  ┆ Bot or Not? Someone checked :                                │\n",
       "│        ┆       ┆                                                              │\n",
       "│        ┆       ┆ Bot or low effort casts: repetitive, korean, hype, casts     │\n",
       "│        ┆       ┆                                                              │\n",
       "│        ┆       ┆ Want to check someone else? Install the cast action below.   │\n",
       "│ 397813 ┆ false ┆ Bot or Not? Someone checked :                                │\n",
       "│        ┆       ┆                                                              │\n",
       "│        ┆       ┆ Not a bot. Reply guy/gal: tips degen, generic comments       │\n",
       "│        ┆       ┆                                                              │\n",
       "│        ┆       ┆ Want to check someone else? Install the cast action below.   │\n",
       "│ 14407  ┆ false ┆ Bot or Not? Someone checked :                                │\n",
       "│        ┆       ┆                                                              │\n",
       "│        ┆       ┆ Not a bot. Buildooor: artist, painter, studio grind          │\n",
       "│        ┆       ┆                                                              │\n",
       "│        ┆       ┆ Want to check someone else? Install the cast action below.   │\n",
       "└────────┴───────┴──────────────────────────────────────────────────────────────┘"
      ]
     },
     "execution_count": 27,
     "metadata": {},
     "output_type": "execute_result"
    }
   ],
   "source": [
    "combined_df.unique(subset=['fid'])"
   ]
  },
  {
   "cell_type": "code",
   "execution_count": 28,
   "id": "3de91a4b-af4c-4ef1-b14d-632ec97045a5",
   "metadata": {},
   "outputs": [
    {
     "name": "stderr",
     "output_type": "stream",
     "text": [
      "/var/folders/v9/zdrfs19x765_sy8y01lgc13m0000gn/T/ipykernel_17912/172828407.py:3: DeprecationWarning: `pl.count()` is deprecated. Please use `pl.len()` instead.\n",
      "  .agg(pl.count())\n"
     ]
    },
    {
     "data": {
      "text/html": [
       "<div><style>\n",
       ".dataframe > thead > tr,\n",
       ".dataframe > tbody > tr {\n",
       "  text-align: right;\n",
       "  white-space: pre-wrap;\n",
       "}\n",
       "</style>\n",
       "<small>shape: (2_056, 2)</small><table border=\"1\" class=\"dataframe\"><thead><tr><th>fid</th><th>count</th></tr><tr><td>i64</td><td>u32</td></tr></thead><tbody><tr><td>269385</td><td>2</td></tr><tr><td>480704</td><td>2</td></tr><tr><td>324703</td><td>2</td></tr><tr><td>398355</td><td>2</td></tr><tr><td>526551</td><td>2</td></tr><tr><td>&hellip;</td><td>&hellip;</td></tr><tr><td>296737</td><td>2</td></tr><tr><td>314720</td><td>2</td></tr><tr><td>425454</td><td>2</td></tr><tr><td>14413</td><td>2</td></tr><tr><td>392052</td><td>2</td></tr></tbody></table></div>"
      ],
      "text/plain": [
       "shape: (2_056, 2)\n",
       "┌────────┬───────┐\n",
       "│ fid    ┆ count │\n",
       "│ ---    ┆ ---   │\n",
       "│ i64    ┆ u32   │\n",
       "╞════════╪═══════╡\n",
       "│ 269385 ┆ 2     │\n",
       "│ 480704 ┆ 2     │\n",
       "│ 324703 ┆ 2     │\n",
       "│ 398355 ┆ 2     │\n",
       "│ 526551 ┆ 2     │\n",
       "│ …      ┆ …     │\n",
       "│ 296737 ┆ 2     │\n",
       "│ 314720 ┆ 2     │\n",
       "│ 425454 ┆ 2     │\n",
       "│ 14413  ┆ 2     │\n",
       "│ 392052 ┆ 2     │\n",
       "└────────┴───────┘"
      ]
     },
     "execution_count": 28,
     "metadata": {},
     "output_type": "execute_result"
    }
   ],
   "source": [
    "duplicateds = (\n",
    "    combined_df.group_by(['fid'])\n",
    "    .agg(pl.count())\n",
    "    .filter(pl.col(\"count\") > 1)  # Filter groups where count > 1 (duplicates)\n",
    ")\n",
    "\n",
    "duplicateds\n",
    "# Step 2: Join the duplicate groups back to the original DataFrame\n",
    "# This retrieves all versions (original + duplicates)\n",
    "# duplicates_df = df.join(duplicate_groups.drop(\"count\"), on=subset_cols, how=\"inner\")"
   ]
  },
  {
   "cell_type": "code",
   "execution_count": 38,
   "id": "d3e6e1af-9c74-4bcb-8005-c6b4ac948909",
   "metadata": {},
   "outputs": [],
   "source": [
    "duplicated_fids = duplicateds.select(['fid'])"
   ]
  },
  {
   "cell_type": "code",
   "execution_count": 34,
   "id": "28bcaa07-bd1e-479a-b0cb-ec62cfc55af0",
   "metadata": {},
   "outputs": [],
   "source": [
    "fnames_df = pl.read_parquet(f\"{DATA_PATH}/farcaster-fnames-0-1727974800.parquet\")"
   ]
  },
  {
   "cell_type": "code",
   "execution_count": 36,
   "id": "7688f277-16f4-44d3-9ae7-2139da4645bc",
   "metadata": {},
   "outputs": [
    {
     "data": {
      "text/html": [
       "<div><style>\n",
       ".dataframe > thead > tr,\n",
       ".dataframe > tbody > tr {\n",
       "  text-align: right;\n",
       "  white-space: pre-wrap;\n",
       "}\n",
       "</style>\n",
       "<small>shape: (2, 3)</small><table border=\"1\" class=\"dataframe\"><thead><tr><th>fid</th><th>bot</th><th>text</th></tr><tr><td>i64</td><td>bool</td><td>str</td></tr></thead><tbody><tr><td>291366</td><td>false</td><td>&quot;Bot or Not? Someone checked :\n",
       "\n",
       "Likely not a bot. Casts: crypto, ai, nft, airdrops, shitcasts\n",
       "\n",
       "Want to check someone else? Install the cast action below.&quot;</td></tr><tr><td>291366</td><td>true</td><td>&quot;Bot or Not? Someone checked :\n",
       "This user replies like a bot: generic, repetitive&quot;</td></tr></tbody></table></div>"
      ],
      "text/plain": [
       "shape: (2, 3)\n",
       "┌────────┬───────┬───────────────────────────────────────────────────────────────┐\n",
       "│ fid    ┆ bot   ┆ text                                                          │\n",
       "│ ---    ┆ ---   ┆ ---                                                           │\n",
       "│ i64    ┆ bool  ┆ str                                                           │\n",
       "╞════════╪═══════╪═══════════════════════════════════════════════════════════════╡\n",
       "│ 291366 ┆ false ┆ Bot or Not? Someone checked :                                 │\n",
       "│        ┆       ┆                                                               │\n",
       "│        ┆       ┆ Likely not a bot. Casts: crypto, ai, nft, airdrops, shitcasts │\n",
       "│        ┆       ┆                                                               │\n",
       "│        ┆       ┆ Want to check someone else? Install the cast action below.    │\n",
       "│ 291366 ┆ true  ┆ Bot or Not? Someone checked :                                 │\n",
       "│        ┆       ┆ This user replies like a bot: generic, repetitive             │\n",
       "└────────┴───────┴───────────────────────────────────────────────────────────────┘"
      ]
     },
     "execution_count": 36,
     "metadata": {},
     "output_type": "execute_result"
    }
   ],
   "source": [
    "combined_df.filter(pl.col('fid')==291366)"
   ]
  },
  {
   "cell_type": "code",
   "execution_count": 37,
   "id": "0ae40a16-c940-4174-810d-d054b01faefb",
   "metadata": {},
   "outputs": [
    {
     "data": {
      "text/html": [
       "<div><style>\n",
       ".dataframe > thead > tr,\n",
       ".dataframe > tbody > tr {\n",
       "  text-align: right;\n",
       "  white-space: pre-wrap;\n",
       "}\n",
       "</style>\n",
       "<small>shape: (1, 7)</small><table border=\"1\" class=\"dataframe\"><thead><tr><th>created_at</th><th>updated_at</th><th>custody_address</th><th>expires_at</th><th>fid</th><th>deleted_at</th><th>fname</th></tr><tr><td>datetime[ns]</td><td>datetime[ns]</td><td>binary</td><td>datetime[ns]</td><td>i64</td><td>datetime[ns]</td><td>str</td></tr></thead><tbody><tr><td>2024-02-05 12:24:17.902048</td><td>2024-06-07 22:07:32.665</td><td>b&quot;\\xd8\\x88y\\x17@-\\x8b\\xea\\xc5\\xbe\\xaa55\\xa6N\\xe5_)\\x94D&quot;</td><td>null</td><td>291366</td><td>null</td><td>&quot;kon102&quot;</td></tr></tbody></table></div>"
      ],
      "text/plain": [
       "shape: (1, 7)\n",
       "┌────────────────┬────────────────┬────────────────┬──────────────┬────────┬──────────────┬────────┐\n",
       "│ created_at     ┆ updated_at     ┆ custody_addres ┆ expires_at   ┆ fid    ┆ deleted_at   ┆ fname  │\n",
       "│ ---            ┆ ---            ┆ s              ┆ ---          ┆ ---    ┆ ---          ┆ ---    │\n",
       "│ datetime[ns]   ┆ datetime[ns]   ┆ ---            ┆ datetime[ns] ┆ i64    ┆ datetime[ns] ┆ str    │\n",
       "│                ┆                ┆ binary         ┆              ┆        ┆              ┆        │\n",
       "╞════════════════╪════════════════╪════════════════╪══════════════╪════════╪══════════════╪════════╡\n",
       "│ 2024-02-05 12: ┆ 2024-06-07     ┆ b\"\\xd8\\x88y\\x1 ┆ null         ┆ 291366 ┆ null         ┆ kon102 │\n",
       "│ 24:17.902048   ┆ 22:07:32.665   ┆ 7@-\\x8b\\xea\\xc ┆              ┆        ┆              ┆        │\n",
       "│                ┆                ┆ 5\\xbe\\xaa55\\xa ┆              ┆        ┆              ┆        │\n",
       "│                ┆                ┆ 6N\\xe5_)\\x94D\" ┆              ┆        ┆              ┆        │\n",
       "└────────────────┴────────────────┴────────────────┴──────────────┴────────┴──────────────┴────────┘"
      ]
     },
     "execution_count": 37,
     "metadata": {},
     "output_type": "execute_result"
    }
   ],
   "source": [
    "fnames_df.filter(pl.col('fid')==291366)"
   ]
  },
  {
   "cell_type": "code",
   "execution_count": 45,
   "id": "5091f6aa-e6f5-4a9a-a532-1fe35365c3ee",
   "metadata": {},
   "outputs": [],
   "source": [
    "without_duplicates = combined_df.filter(~pl.col('fid').is_in(duplicated_fids.to_series()))"
   ]
  },
  {
   "cell_type": "code",
   "execution_count": 50,
   "id": "cf34c386-1f0a-41cf-b887-11c698e2a2b9",
   "metadata": {},
   "outputs": [],
   "source": [
    "without_duplicates.write_parquet(f\"{DATA_PATH}/bot_or_not_checks.parquet\")"
   ]
  },
  {
   "cell_type": "code",
   "execution_count": null,
   "id": "c5ff82a7-9daf-4724-b405-60ef0f1370b5",
   "metadata": {},
   "outputs": [],
   "source": []
  }
 ],
 "metadata": {
  "kernelspec": {
   "display_name": "Python 3 (ipykernel)",
   "language": "python",
   "name": "python3"
  },
  "language_info": {
   "codemirror_mode": {
    "name": "ipython",
    "version": 3
   },
   "file_extension": ".py",
   "mimetype": "text/x-python",
   "name": "python",
   "nbconvert_exporter": "python",
   "pygments_lexer": "ipython3",
   "version": "3.10.5"
  }
 },
 "nbformat": 4,
 "nbformat_minor": 5
}
