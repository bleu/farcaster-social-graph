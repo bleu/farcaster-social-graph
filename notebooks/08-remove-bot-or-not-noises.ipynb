{
 "cells": [
  {
   "cell_type": "markdown",
   "metadata": {},
   "source": [
    "# Remove bot-or-not noises\n",
    "\n",
    "### Used files\n",
    "- bot_or_not_without_info\n",
    "- sybilscar_results\n",
    "\n",
    "### Summary:\n",
    "1. Load necessary data\n",
    "2. Apply logic to add new column \"is_noisy\"\n",
    "3. Save new bot_or_not_without_noises"
   ]
  },
  {
   "cell_type": "markdown",
   "metadata": {},
   "source": [
    "### 1. Load necessary data"
   ]
  },
  {
   "cell_type": "code",
   "execution_count": 1,
   "metadata": {},
   "outputs": [
    {
     "data": {
      "text/plain": [
       "polars.config.Config"
      ]
     },
     "execution_count": 1,
     "metadata": {},
     "output_type": "execute_result"
    }
   ],
   "source": [
    "import polars as pl\n",
    "import os\n",
    "pl.Config.set_fmt_str_lengths(400)"
   ]
  },
  {
   "cell_type": "code",
   "execution_count": 2,
   "metadata": {},
   "outputs": [],
   "source": [
    "DATA_PATH = os.getenv(\"DATA_PATH\", \"\")"
   ]
  },
  {
   "cell_type": "code",
   "execution_count": 3,
   "metadata": {},
   "outputs": [
    {
     "data": {
      "text/html": [
       "<div><style>\n",
       ".dataframe > thead > tr,\n",
       ".dataframe > tbody > tr {\n",
       "  text-align: right;\n",
       "  white-space: pre-wrap;\n",
       "}\n",
       "</style>\n",
       "<small>shape: (12_065, 2)</small><table border=\"1\" class=\"dataframe\"><thead><tr><th>fid</th><th>bot</th></tr><tr><td>i64</td><td>bool</td></tr></thead><tbody><tr><td>446097</td><td>false</td></tr><tr><td>3</td><td>false</td></tr><tr><td>8</td><td>false</td></tr><tr><td>12</td><td>false</td></tr><tr><td>2</td><td>false</td></tr><tr><td>&hellip;</td><td>&hellip;</td></tr><tr><td>327500</td><td>true</td></tr><tr><td>428200</td><td>true</td></tr><tr><td>469138</td><td>false</td></tr><tr><td>278549</td><td>true</td></tr><tr><td>446821</td><td>false</td></tr></tbody></table></div>"
      ],
      "text/plain": [
       "shape: (12_065, 2)\n",
       "┌────────┬───────┐\n",
       "│ fid    ┆ bot   │\n",
       "│ ---    ┆ ---   │\n",
       "│ i64    ┆ bool  │\n",
       "╞════════╪═══════╡\n",
       "│ 446097 ┆ false │\n",
       "│ 3      ┆ false │\n",
       "│ 8      ┆ false │\n",
       "│ 12     ┆ false │\n",
       "│ 2      ┆ false │\n",
       "│ …      ┆ …     │\n",
       "│ 327500 ┆ true  │\n",
       "│ 428200 ┆ true  │\n",
       "│ 469138 ┆ false │\n",
       "│ 278549 ┆ true  │\n",
       "│ 446821 ┆ false │\n",
       "└────────┴───────┘"
      ]
     },
     "execution_count": 3,
     "metadata": {},
     "output_type": "execute_result"
    }
   ],
   "source": [
    "bot_or_not = pl.read_parquet(f\"{DATA_PATH}/interim/bot_or_not_without_info.parquet\")\n",
    "bot_or_not\n"
   ]
  },
  {
   "cell_type": "code",
   "execution_count": 4,
   "metadata": {},
   "outputs": [
    {
     "data": {
      "text/html": [
       "<div><style>\n",
       ".dataframe > thead > tr,\n",
       ".dataframe > tbody > tr {\n",
       "  text-align: right;\n",
       "  white-space: pre-wrap;\n",
       "}\n",
       "</style>\n",
       "<small>shape: (375_366, 3)</small><table border=\"1\" class=\"dataframe\"><thead><tr><th>fid_index</th><th>posterior</th><th>fid</th></tr><tr><td>i64</td><td>f64</td><td>i64</td></tr></thead><tbody><tr><td>198306</td><td>0.0</td><td>362936</td></tr><tr><td>47055</td><td>0.0</td><td>690195</td></tr><tr><td>326843</td><td>0.0</td><td>551357</td></tr><tr><td>120189</td><td>0.0</td><td>429013</td></tr><tr><td>297387</td><td>0.344896</td><td>818125</td></tr><tr><td>&hellip;</td><td>&hellip;</td><td>&hellip;</td></tr><tr><td>100725</td><td>1.0</td><td>466914</td></tr><tr><td>16259</td><td>0.7</td><td>863574</td></tr><tr><td>128403</td><td>1.0</td><td>720296</td></tr><tr><td>61238</td><td>0.0</td><td>727956</td></tr><tr><td>300922</td><td>0.7</td><td>721503</td></tr></tbody></table></div>"
      ],
      "text/plain": [
       "shape: (375_366, 3)\n",
       "┌───────────┬───────────┬────────┐\n",
       "│ fid_index ┆ posterior ┆ fid    │\n",
       "│ ---       ┆ ---       ┆ ---    │\n",
       "│ i64       ┆ f64       ┆ i64    │\n",
       "╞═══════════╪═══════════╪════════╡\n",
       "│ 198306    ┆ 0.0       ┆ 362936 │\n",
       "│ 47055     ┆ 0.0       ┆ 690195 │\n",
       "│ 326843    ┆ 0.0       ┆ 551357 │\n",
       "│ 120189    ┆ 0.0       ┆ 429013 │\n",
       "│ 297387    ┆ 0.344896  ┆ 818125 │\n",
       "│ …         ┆ …         ┆ …      │\n",
       "│ 100725    ┆ 1.0       ┆ 466914 │\n",
       "│ 16259     ┆ 0.7       ┆ 863574 │\n",
       "│ 128403    ┆ 1.0       ┆ 720296 │\n",
       "│ 61238     ┆ 0.0       ┆ 727956 │\n",
       "│ 300922    ┆ 0.7       ┆ 721503 │\n",
       "└───────────┴───────────┴────────┘"
      ]
     },
     "execution_count": 4,
     "metadata": {},
     "output_type": "execute_result"
    }
   ],
   "source": [
    "sybilscar_result = pl.read_parquet(f\"{DATA_PATH}/../farcaster-social-graph-api/farcaster_social_graph_api/data/sybil_scar_results.parquet\")\n",
    "sybilscar_result"
   ]
  },
  {
   "cell_type": "markdown",
   "metadata": {},
   "source": [
    "### 2. Apply logic to add new column \"is_noisy\"\n",
    "\n",
    "For now, we are considering a sample noisy if sybil scar result (threshold p < 0.5) is different than bot_or_not\n"
   ]
  },
  {
   "cell_type": "code",
   "execution_count": 5,
   "metadata": {},
   "outputs": [
    {
     "data": {
      "text/html": [
       "<div><style>\n",
       ".dataframe > thead > tr,\n",
       ".dataframe > tbody > tr {\n",
       "  text-align: right;\n",
       "  white-space: pre-wrap;\n",
       "}\n",
       "</style>\n",
       "<small>shape: (12_065, 4)</small><table border=\"1\" class=\"dataframe\"><thead><tr><th>fid</th><th>bot</th><th>fid_index</th><th>posterior</th></tr><tr><td>i64</td><td>bool</td><td>i64</td><td>f64</td></tr></thead><tbody><tr><td>446097</td><td>false</td><td>163975</td><td>1.0</td></tr><tr><td>3</td><td>false</td><td>8129</td><td>1.0</td></tr><tr><td>8</td><td>false</td><td>255872</td><td>1.0</td></tr><tr><td>12</td><td>false</td><td>43493</td><td>1.0</td></tr><tr><td>2</td><td>false</td><td>248340</td><td>1.0</td></tr><tr><td>&hellip;</td><td>&hellip;</td><td>&hellip;</td><td>&hellip;</td></tr><tr><td>327500</td><td>true</td><td>169966</td><td>0.0</td></tr><tr><td>428200</td><td>true</td><td>72388</td><td>0.0</td></tr><tr><td>469138</td><td>false</td><td>105841</td><td>0.0</td></tr><tr><td>278549</td><td>true</td><td>22377</td><td>0.0</td></tr><tr><td>446821</td><td>false</td><td>210328</td><td>1.0</td></tr></tbody></table></div>"
      ],
      "text/plain": [
       "shape: (12_065, 4)\n",
       "┌────────┬───────┬───────────┬───────────┐\n",
       "│ fid    ┆ bot   ┆ fid_index ┆ posterior │\n",
       "│ ---    ┆ ---   ┆ ---       ┆ ---       │\n",
       "│ i64    ┆ bool  ┆ i64       ┆ f64       │\n",
       "╞════════╪═══════╪═══════════╪═══════════╡\n",
       "│ 446097 ┆ false ┆ 163975    ┆ 1.0       │\n",
       "│ 3      ┆ false ┆ 8129      ┆ 1.0       │\n",
       "│ 8      ┆ false ┆ 255872    ┆ 1.0       │\n",
       "│ 12     ┆ false ┆ 43493     ┆ 1.0       │\n",
       "│ 2      ┆ false ┆ 248340    ┆ 1.0       │\n",
       "│ …      ┆ …     ┆ …         ┆ …         │\n",
       "│ 327500 ┆ true  ┆ 169966    ┆ 0.0       │\n",
       "│ 428200 ┆ true  ┆ 72388     ┆ 0.0       │\n",
       "│ 469138 ┆ false ┆ 105841    ┆ 0.0       │\n",
       "│ 278549 ┆ true  ┆ 22377     ┆ 0.0       │\n",
       "│ 446821 ┆ false ┆ 210328    ┆ 1.0       │\n",
       "└────────┴───────┴───────────┴───────────┘"
      ]
     },
     "execution_count": 5,
     "metadata": {},
     "output_type": "execute_result"
    }
   ],
   "source": [
    "df = bot_or_not.join(sybilscar_result,on=\"fid\",coalesce=True,how=\"left\")\n",
    "df"
   ]
  },
  {
   "cell_type": "code",
   "execution_count": 6,
   "metadata": {},
   "outputs": [
    {
     "data": {
      "text/html": [
       "<div><style>\n",
       ".dataframe > thead > tr,\n",
       ".dataframe > tbody > tr {\n",
       "  text-align: right;\n",
       "  white-space: pre-wrap;\n",
       "}\n",
       "</style>\n",
       "<small>shape: (79, 4)</small><table border=\"1\" class=\"dataframe\"><thead><tr><th>fid</th><th>bot</th><th>fid_index</th><th>posterior</th></tr><tr><td>i64</td><td>bool</td><td>i64</td><td>f64</td></tr></thead><tbody><tr><td>2348</td><td>false</td><td>null</td><td>null</td></tr><tr><td>12144</td><td>false</td><td>null</td><td>null</td></tr><tr><td>12775</td><td>false</td><td>null</td><td>null</td></tr><tr><td>191322</td><td>false</td><td>null</td><td>null</td></tr><tr><td>194515</td><td>false</td><td>null</td><td>null</td></tr><tr><td>&hellip;</td><td>&hellip;</td><td>&hellip;</td><td>&hellip;</td></tr><tr><td>854040</td><td>false</td><td>null</td><td>null</td></tr><tr><td>854041</td><td>false</td><td>null</td><td>null</td></tr><tr><td>854043</td><td>false</td><td>null</td><td>null</td></tr><tr><td>854923</td><td>false</td><td>null</td><td>null</td></tr><tr><td>856646</td><td>false</td><td>null</td><td>null</td></tr></tbody></table></div>"
      ],
      "text/plain": [
       "shape: (79, 4)\n",
       "┌────────┬───────┬───────────┬───────────┐\n",
       "│ fid    ┆ bot   ┆ fid_index ┆ posterior │\n",
       "│ ---    ┆ ---   ┆ ---       ┆ ---       │\n",
       "│ i64    ┆ bool  ┆ i64       ┆ f64       │\n",
       "╞════════╪═══════╪═══════════╪═══════════╡\n",
       "│ 2348   ┆ false ┆ null      ┆ null      │\n",
       "│ 12144  ┆ false ┆ null      ┆ null      │\n",
       "│ 12775  ┆ false ┆ null      ┆ null      │\n",
       "│ 191322 ┆ false ┆ null      ┆ null      │\n",
       "│ 194515 ┆ false ┆ null      ┆ null      │\n",
       "│ …      ┆ …     ┆ …         ┆ …         │\n",
       "│ 854040 ┆ false ┆ null      ┆ null      │\n",
       "│ 854041 ┆ false ┆ null      ┆ null      │\n",
       "│ 854043 ┆ false ┆ null      ┆ null      │\n",
       "│ 854923 ┆ false ┆ null      ┆ null      │\n",
       "│ 856646 ┆ false ┆ null      ┆ null      │\n",
       "└────────┴───────┴───────────┴───────────┘"
      ]
     },
     "execution_count": 6,
     "metadata": {},
     "output_type": "execute_result"
    }
   ],
   "source": [
    "# Check that there are indexes in bot_or_not that are outside the sybilscar result\n",
    "df.filter(pl.col(\"posterior\").is_null())"
   ]
  },
  {
   "cell_type": "code",
   "execution_count": 42,
   "metadata": {},
   "outputs": [
    {
     "data": {
      "text/html": [
       "<div><style>\n",
       ".dataframe > thead > tr,\n",
       ".dataframe > tbody > tr {\n",
       "  text-align: right;\n",
       "  white-space: pre-wrap;\n",
       "}\n",
       "</style>\n",
       "<small>shape: (12_065, 5)</small><table border=\"1\" class=\"dataframe\"><thead><tr><th>fid</th><th>bot</th><th>fid_index</th><th>posterior</th><th>is_noisy</th></tr><tr><td>i64</td><td>bool</td><td>i64</td><td>f64</td><td>bool</td></tr></thead><tbody><tr><td>446097</td><td>false</td><td>163975</td><td>1.0</td><td>false</td></tr><tr><td>3</td><td>false</td><td>8129</td><td>1.0</td><td>false</td></tr><tr><td>8</td><td>false</td><td>255872</td><td>1.0</td><td>false</td></tr><tr><td>12</td><td>false</td><td>43493</td><td>1.0</td><td>false</td></tr><tr><td>2</td><td>false</td><td>248340</td><td>1.0</td><td>false</td></tr><tr><td>&hellip;</td><td>&hellip;</td><td>&hellip;</td><td>&hellip;</td><td>&hellip;</td></tr><tr><td>327500</td><td>true</td><td>169966</td><td>0.0</td><td>false</td></tr><tr><td>428200</td><td>true</td><td>72388</td><td>0.0</td><td>false</td></tr><tr><td>469138</td><td>false</td><td>105841</td><td>0.0</td><td>true</td></tr><tr><td>278549</td><td>true</td><td>22377</td><td>0.0</td><td>false</td></tr><tr><td>446821</td><td>false</td><td>210328</td><td>1.0</td><td>false</td></tr></tbody></table></div>"
      ],
      "text/plain": [
       "shape: (12_065, 5)\n",
       "┌────────┬───────┬───────────┬───────────┬──────────┐\n",
       "│ fid    ┆ bot   ┆ fid_index ┆ posterior ┆ is_noisy │\n",
       "│ ---    ┆ ---   ┆ ---       ┆ ---       ┆ ---      │\n",
       "│ i64    ┆ bool  ┆ i64       ┆ f64       ┆ bool     │\n",
       "╞════════╪═══════╪═══════════╪═══════════╪══════════╡\n",
       "│ 446097 ┆ false ┆ 163975    ┆ 1.0       ┆ false    │\n",
       "│ 3      ┆ false ┆ 8129      ┆ 1.0       ┆ false    │\n",
       "│ 8      ┆ false ┆ 255872    ┆ 1.0       ┆ false    │\n",
       "│ 12     ┆ false ┆ 43493     ┆ 1.0       ┆ false    │\n",
       "│ 2      ┆ false ┆ 248340    ┆ 1.0       ┆ false    │\n",
       "│ …      ┆ …     ┆ …         ┆ …         ┆ …        │\n",
       "│ 327500 ┆ true  ┆ 169966    ┆ 0.0       ┆ false    │\n",
       "│ 428200 ┆ true  ┆ 72388     ┆ 0.0       ┆ false    │\n",
       "│ 469138 ┆ false ┆ 105841    ┆ 0.0       ┆ true     │\n",
       "│ 278549 ┆ true  ┆ 22377     ┆ 0.0       ┆ false    │\n",
       "│ 446821 ┆ false ┆ 210328    ┆ 1.0       ┆ false    │\n",
       "└────────┴───────┴───────────┴───────────┴──────────┘"
      ]
     },
     "metadata": {},
     "output_type": "display_data"
    },
    {
     "name": "stdout",
     "output_type": "stream",
     "text": [
      "number of noisy elements:  3946\n"
     ]
    }
   ],
   "source": [
    "df = df.with_columns([\n",
    "    pl.when(pl.col(\"posterior\").is_null())\n",
    "    .then(pl.col(\"bot\"))\n",
    "    .otherwise(pl.col(\"bot\") != (pl.col(\"posterior\") < 0.5 ))\n",
    "    .alias(\"is_noisy\")\n",
    "])\n",
    "\n",
    "display(df)\n",
    "print(\"number of noisy elements: \",df[\"is_noisy\"].sum())"
   ]
  },
  {
   "cell_type": "code",
   "execution_count": 45,
   "metadata": {},
   "outputs": [
    {
     "data": {
      "text/html": [
       "<div><style>\n",
       ".dataframe > thead > tr,\n",
       ".dataframe > tbody > tr {\n",
       "  text-align: right;\n",
       "  white-space: pre-wrap;\n",
       "}\n",
       "</style>\n",
       "<small>shape: (8_119, 2)</small><table border=\"1\" class=\"dataframe\"><thead><tr><th>fid</th><th>bot</th></tr><tr><td>i64</td><td>bool</td></tr></thead><tbody><tr><td>446097</td><td>false</td></tr><tr><td>3</td><td>false</td></tr><tr><td>8</td><td>false</td></tr><tr><td>12</td><td>false</td></tr><tr><td>2</td><td>false</td></tr><tr><td>&hellip;</td><td>&hellip;</td></tr><tr><td>280179</td><td>true</td></tr><tr><td>327500</td><td>true</td></tr><tr><td>428200</td><td>true</td></tr><tr><td>278549</td><td>true</td></tr><tr><td>446821</td><td>false</td></tr></tbody></table></div>"
      ],
      "text/plain": [
       "shape: (8_119, 2)\n",
       "┌────────┬───────┐\n",
       "│ fid    ┆ bot   │\n",
       "│ ---    ┆ ---   │\n",
       "│ i64    ┆ bool  │\n",
       "╞════════╪═══════╡\n",
       "│ 446097 ┆ false │\n",
       "│ 3      ┆ false │\n",
       "│ 8      ┆ false │\n",
       "│ 12     ┆ false │\n",
       "│ 2      ┆ false │\n",
       "│ …      ┆ …     │\n",
       "│ 280179 ┆ true  │\n",
       "│ 327500 ┆ true  │\n",
       "│ 428200 ┆ true  │\n",
       "│ 278549 ┆ true  │\n",
       "│ 446821 ┆ false │\n",
       "└────────┴───────┘"
      ]
     },
     "execution_count": 45,
     "metadata": {},
     "output_type": "execute_result"
    }
   ],
   "source": [
    "# Filter and remove unnecessary columns\n",
    "bot_or_not_without_noises = df.filter(~pl.col(\"is_noisy\"))[[\"fid\",\"bot\"]]\n",
    "bot_or_not_without_noises"
   ]
  },
  {
   "cell_type": "markdown",
   "metadata": {},
   "source": [
    "### 3. Save new bot_or_not_without_noises"
   ]
  },
  {
   "cell_type": "code",
   "execution_count": 46,
   "metadata": {},
   "outputs": [],
   "source": [
    "bot_or_not_without_noises.write_parquet(f\"{DATA_PATH}/interim/bot_or_not_without_noises.parquet\")"
   ]
  }
 ],
 "metadata": {
  "kernelspec": {
   "display_name": "farcaster-social-graph-notebooks-_gupmy54-py3.13",
   "language": "python",
   "name": "python3"
  },
  "language_info": {
   "codemirror_mode": {
    "name": "ipython",
    "version": 3
   },
   "file_extension": ".py",
   "mimetype": "text/x-python",
   "name": "python",
   "nbconvert_exporter": "python",
   "pygments_lexer": "ipython3",
   "version": "3.13.0"
  }
 },
 "nbformat": 4,
 "nbformat_minor": 2
}
