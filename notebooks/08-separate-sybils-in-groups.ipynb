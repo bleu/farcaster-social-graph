{
 "cells": [
  {
   "cell_type": "markdown",
   "metadata": {},
   "source": [
    "# Separate sybils in groups\n",
    "\n",
    "Objetive: based on bot_or_not bot examples, manually analyze some bot accounts and group them by different behavior\n"
   ]
  },
  {
   "cell_type": "code",
   "execution_count": null,
   "metadata": {},
   "outputs": [],
   "source": [
    "import polars as pl\n",
    "import os\n",
    "import json"
   ]
  },
  {
   "cell_type": "code",
   "execution_count": null,
   "metadata": {},
   "outputs": [],
   "source": [
    "DATA_PATH= os.getenv(\"DATA_PATH\", \"\")\n",
    "\n",
    "FNAMES_PATH = f\"{DATA_PATH}/raw/farcaster-fnames-0-1730134800.parquet\"\n",
    "BOT_OR_NOT_PATH = f\"{DATA_PATH}/../farcaster-social-graph-api/farcaster_social_graph_api/persisted_data/bot_or_not_without_info.parquet\"\n",
    "GITCOIN_STAMPS_PATH=F\"{DATA_PATH}/interim/final_result_scarsybils_bots.json\"\n"
   ]
  },
  {
   "cell_type": "markdown",
   "metadata": {},
   "source": [
    "### Load data "
   ]
  },
  {
   "cell_type": "code",
   "execution_count": null,
   "metadata": {},
   "outputs": [],
   "source": [
    "fnames = pl.read_parquet(FNAMES_PATH)\n",
    "bot_or_not = pl.read_parquet(BOT_OR_NOT_PATH)\n",
    "with open(GITCOIN_STAMPS_PATH, 'r') as file:\n",
    "    gitcoin_stamps = json.load(file)"
   ]
  },
  {
   "cell_type": "markdown",
   "metadata": {},
   "source": [
    "### Merge bot_or_not with fnames"
   ]
  },
  {
   "cell_type": "code",
   "execution_count": null,
   "metadata": {},
   "outputs": [],
   "source": [
    "bot_or_not  = pl.read_parquet(f'{DATA_PATH}/interim/bot_or_not_without_info.parquet')\n",
    "bot_or_not"
   ]
  },
  {
   "cell_type": "code",
   "execution_count": null,
   "metadata": {},
   "outputs": [],
   "source": [
    "fnames  = pl.read_parquet(f'{DATA_PATH}/raw/farcaster-fnames-0-1730134800.parquet')\n",
    "# fnames does not have unique fids\n",
    "# This happens because it stores all name updates for each fid\n",
    "# We need to use only the last registered name of each user\n",
    "last_fnames = fnames[[\"fid\",\"updated_at\"]].group_by(\"fid\").max()\n",
    "last_fnames = last_fnames.join(fnames,on=[\"fid\",\"updated_at\"],how=\"left\",coalesce=True)[[\"fid\",\"fname\"]]\n",
    "\n",
    "df = bot_or_not.join(last_fnames[[\"fid\",\"fname\"]],on=\"fid\",how=\"left\", coalesce=True)\n",
    "df"
   ]
  },
  {
   "cell_type": "markdown",
   "metadata": {},
   "source": [
    "First group to take a look"
   ]
  },
  {
   "cell_type": "code",
   "execution_count": null,
   "metadata": {},
   "outputs": [],
   "source": [
    "df.filter(pl.col(\"bot\").is_in([True])).sample(n=5,seed=1)"
   ]
  },
  {
   "cell_type": "markdown",
   "metadata": {},
   "source": [
    "Let's see if we can find some bots inside the human group"
   ]
  },
  {
   "cell_type": "code",
   "execution_count": null,
   "metadata": {},
   "outputs": [],
   "source": [
    "df.filter(pl.col(\"bot\").is_in([False])).sample(n=10,seed=1)"
   ]
  },
  {
   "cell_type": "markdown",
   "metadata": {},
   "source": [
    "### 1. Declared bots\n",
    "\n",
    "- Usually have \"bot\" in their name or profile description\n",
    "- post consistently about something clearly scheduled\n",
    "\n",
    "Account examples:\n",
    "- nasir71\n",
    "- reaction\n",
    "\n",
    "\n",
    "### 2. Reward spammers\n",
    "\n",
    "- Consistently post about \"airdrop\", \"money\", \"rewards\", \"claim\", \"moxie\", etc.\n",
    "- In most part of casts they write @, $ or /link\n",
    "- likes and recasts are 99% from other bots\n",
    "- They commonly recast stuff about NFTs, art, drops, etc.\n",
    "\n",
    "Account examples:\n",
    "- rovik\n",
    "- i3\n",
    "- thunder88\n",
    "\n",
    "\n",
    "### 3. Masked reward spammers\n",
    "\n",
    "- just like reward spammers, but they post a lot of consistent generic stuff too\n",
    "- Consistent generic stuff = \"good morning\", just a picture cast, random news, random generic opinion about random topic / picture\n",
    "\n",
    "Account examples:\n",
    "- rezarashidi\n",
    "- ali-je01\n",
    "- faheemmalik\n",
    "- vlainglong\n",
    "- hk-habibur\n",
    "\n",
    "### 4. Random reward spammers\n",
    "- just like masked reward spammers, but they post a lot of random stuff too\n",
    "\n",
    "- Account examples:\n",
    "- bape-\n",
    "- rezva\n",
    "\n",
    "### 5. Possible human-controlled sybils\n",
    "- they seem to be actually controlled by humans, but only for reward collection purpose, with posts that are very feasibly posted by humans\n",
    "- commonly followed, liked and recasted by bots\n",
    "\n",
    "Account examples:\n",
    "- siamsayed"
   ]
  }
 ],
 "metadata": {
  "kernelspec": {
   "display_name": "farcaster-social-graph-notebooks-_gupmy54-py3.13",
   "language": "python",
   "name": "python3"
  },
  "language_info": {
   "codemirror_mode": {
    "name": "ipython",
    "version": 3
   },
   "file_extension": ".py",
   "mimetype": "text/x-python",
   "name": "python",
   "nbconvert_exporter": "python",
   "pygments_lexer": "ipython3",
   "version": "3.13.0"
  }
 },
 "nbformat": 4,
 "nbformat_minor": 2
}
