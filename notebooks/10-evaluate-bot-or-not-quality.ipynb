{
 "cells": [
  {
   "cell_type": "markdown",
   "metadata": {},
   "source": [
    "# Evaluate Bot or Not Quality\n",
    "\n",
    "The purpose is to evaluate the bot_or_not labels accuracy with manual inspection\n",
    "\n"
   ]
  },
  {
   "cell_type": "code",
   "execution_count": 3,
   "metadata": {},
   "outputs": [
    {
     "data": {
      "text/plain": [
       "polars.config.Config"
      ]
     },
     "execution_count": 3,
     "metadata": {},
     "output_type": "execute_result"
    }
   ],
   "source": [
    "import polars as pl\n",
    "import os\n",
    "pl.Config.set_fmt_str_lengths(400)\n",
    "pl.Config.set_tbl_rows(30)\n",
    "from sklearn.metrics import confusion_matrix"
   ]
  },
  {
   "cell_type": "code",
   "execution_count": 5,
   "metadata": {},
   "outputs": [],
   "source": [
    "DATA_PATH = os.getenv(\"DATA_PATH\", \"\")"
   ]
  },
  {
   "cell_type": "code",
   "execution_count": 14,
   "metadata": {},
   "outputs": [
    {
     "data": {
      "text/html": [
       "<div><style>\n",
       ".dataframe > thead > tr,\n",
       ".dataframe > tbody > tr {\n",
       "  text-align: right;\n",
       "  white-space: pre-wrap;\n",
       "}\n",
       "</style>\n",
       "<small>shape: (12_065, 2)</small><table border=\"1\" class=\"dataframe\"><thead><tr><th>fid</th><th>bot</th></tr><tr><td>i64</td><td>bool</td></tr></thead><tbody><tr><td>446097</td><td>false</td></tr><tr><td>3</td><td>false</td></tr><tr><td>8</td><td>false</td></tr><tr><td>12</td><td>false</td></tr><tr><td>2</td><td>false</td></tr><tr><td>17</td><td>false</td></tr><tr><td>18</td><td>false</td></tr><tr><td>20</td><td>false</td></tr><tr><td>23</td><td>false</td></tr><tr><td>24</td><td>false</td></tr><tr><td>25</td><td>false</td></tr><tr><td>27</td><td>false</td></tr><tr><td>28</td><td>false</td></tr><tr><td>30</td><td>false</td></tr><tr><td>34</td><td>false</td></tr><tr><td>&hellip;</td><td>&hellip;</td></tr><tr><td>20701</td><td>false</td></tr><tr><td>418674</td><td>false</td></tr><tr><td>810027</td><td>false</td></tr><tr><td>14897</td><td>true</td></tr><tr><td>404156</td><td>false</td></tr><tr><td>251615</td><td>true</td></tr><tr><td>287794</td><td>true</td></tr><tr><td>320189</td><td>false</td></tr><tr><td>280179</td><td>true</td></tr><tr><td>423036</td><td>true</td></tr><tr><td>327500</td><td>true</td></tr><tr><td>428200</td><td>true</td></tr><tr><td>469138</td><td>false</td></tr><tr><td>278549</td><td>true</td></tr><tr><td>446821</td><td>false</td></tr></tbody></table></div>"
      ],
      "text/plain": [
       "shape: (12_065, 2)\n",
       "┌────────┬───────┐\n",
       "│ fid    ┆ bot   │\n",
       "│ ---    ┆ ---   │\n",
       "│ i64    ┆ bool  │\n",
       "╞════════╪═══════╡\n",
       "│ 446097 ┆ false │\n",
       "│ 3      ┆ false │\n",
       "│ 8      ┆ false │\n",
       "│ 12     ┆ false │\n",
       "│ 2      ┆ false │\n",
       "│ 17     ┆ false │\n",
       "│ 18     ┆ false │\n",
       "│ 20     ┆ false │\n",
       "│ 23     ┆ false │\n",
       "│ 24     ┆ false │\n",
       "│ 25     ┆ false │\n",
       "│ 27     ┆ false │\n",
       "│ 28     ┆ false │\n",
       "│ 30     ┆ false │\n",
       "│ 34     ┆ false │\n",
       "│ …      ┆ …     │\n",
       "│ 20701  ┆ false │\n",
       "│ 418674 ┆ false │\n",
       "│ 810027 ┆ false │\n",
       "│ 14897  ┆ true  │\n",
       "│ 404156 ┆ false │\n",
       "│ 251615 ┆ true  │\n",
       "│ 287794 ┆ true  │\n",
       "│ 320189 ┆ false │\n",
       "│ 280179 ┆ true  │\n",
       "│ 423036 ┆ true  │\n",
       "│ 327500 ┆ true  │\n",
       "│ 428200 ┆ true  │\n",
       "│ 469138 ┆ false │\n",
       "│ 278549 ┆ true  │\n",
       "│ 446821 ┆ false │\n",
       "└────────┴───────┘"
      ]
     },
     "execution_count": 14,
     "metadata": {},
     "output_type": "execute_result"
    }
   ],
   "source": [
    "bot_or_not = pl.read_parquet(f\"{DATA_PATH}/interim/bot_or_not_without_info.parquet\")\n",
    "bot_or_not"
   ]
  },
  {
   "cell_type": "code",
   "execution_count": 16,
   "metadata": {},
   "outputs": [
    {
     "data": {
      "text/html": [
       "<div><style>\n",
       ".dataframe > thead > tr,\n",
       ".dataframe > tbody > tr {\n",
       "  text-align: right;\n",
       "  white-space: pre-wrap;\n",
       "}\n",
       "</style>\n",
       "<small>shape: (2, 2)</small><table border=\"1\" class=\"dataframe\"><thead><tr><th>bot</th><th>count</th></tr><tr><td>bool</td><td>u32</td></tr></thead><tbody><tr><td>true</td><td>4637</td></tr><tr><td>false</td><td>7428</td></tr></tbody></table></div>"
      ],
      "text/plain": [
       "shape: (2, 2)\n",
       "┌───────┬───────┐\n",
       "│ bot   ┆ count │\n",
       "│ ---   ┆ ---   │\n",
       "│ bool  ┆ u32   │\n",
       "╞═══════╪═══════╡\n",
       "│ true  ┆ 4637  │\n",
       "│ false ┆ 7428  │\n",
       "└───────┴───────┘"
      ]
     },
     "execution_count": 16,
     "metadata": {},
     "output_type": "execute_result"
    }
   ],
   "source": [
    "bot_or_not[\"bot\"].value_counts()"
   ]
  },
  {
   "cell_type": "code",
   "execution_count": 4,
   "metadata": {},
   "outputs": [
    {
     "data": {
      "text/html": [
       "<div><style>\n",
       ".dataframe > thead > tr,\n",
       ".dataframe > tbody > tr {\n",
       "  text-align: right;\n",
       "  white-space: pre-wrap;\n",
       "}\n",
       "</style>\n",
       "<small>shape: (682_489, 2)</small><table border=\"1\" class=\"dataframe\"><thead><tr><th>fid</th><th>fname</th></tr><tr><td>i64</td><td>str</td></tr></thead><tbody><tr><td>849301</td><td>&quot;paulissonmiura&quot;</td></tr><tr><td>830404</td><td>&quot;fspoj8202&quot;</td></tr><tr><td>438114</td><td>&quot;digua&quot;</td></tr><tr><td>237397</td><td>&quot;guroux.eth&quot;</td></tr><tr><td>259801</td><td>&quot;xcson&quot;</td></tr><tr><td>265991</td><td>&quot;ellipticpoint&quot;</td></tr><tr><td>760947</td><td>&quot;veracious074&quot;</td></tr><tr><td>425889</td><td>&quot;across11&quot;</td></tr><tr><td>568757</td><td>&quot;snowoman&quot;</td></tr><tr><td>447159</td><td>&quot;one2dome&quot;</td></tr><tr><td>227328</td><td>&quot;alxbr&quot;</td></tr><tr><td>753739</td><td>&quot;loadedly&quot;</td></tr><tr><td>836832</td><td>&quot;revillaweb3&quot;</td></tr><tr><td>619264</td><td>&quot;nasreddineoverto&quot;</td></tr><tr><td>210164</td><td>&quot;foxdeep79&quot;</td></tr><tr><td>&hellip;</td><td>&hellip;</td></tr><tr><td>810033</td><td>&quot;profesor1&quot;</td></tr><tr><td>827361</td><td>&quot;zsx5908&quot;</td></tr><tr><td>613184</td><td>&quot;bharateon&quot;</td></tr><tr><td>292810</td><td>&quot;bondaref&quot;</td></tr><tr><td>12311</td><td>&quot;hamburger&quot;</td></tr><tr><td>514481</td><td>&quot;imanuelharisarim&quot;</td></tr><tr><td>593888</td><td>&quot;netot&quot;</td></tr><tr><td>608057</td><td>&quot;wsbking&quot;</td></tr><tr><td>424659</td><td>&quot;barton69&quot;</td></tr><tr><td>372494</td><td>&quot;a626568640&quot;</td></tr><tr><td>819867</td><td>&quot;timoa&quot;</td></tr><tr><td>270650</td><td>&quot;valkiz&quot;</td></tr><tr><td>473320</td><td>&quot;kenbroski&quot;</td></tr><tr><td>702821</td><td>&quot;nenknendah&quot;</td></tr><tr><td>535843</td><td>&quot;alblak522&quot;</td></tr></tbody></table></div>"
      ],
      "text/plain": [
       "shape: (682_489, 2)\n",
       "┌────────┬──────────────────┐\n",
       "│ fid    ┆ fname            │\n",
       "│ ---    ┆ ---              │\n",
       "│ i64    ┆ str              │\n",
       "╞════════╪══════════════════╡\n",
       "│ 849301 ┆ paulissonmiura   │\n",
       "│ 830404 ┆ fspoj8202        │\n",
       "│ 438114 ┆ digua            │\n",
       "│ 237397 ┆ guroux.eth       │\n",
       "│ 259801 ┆ xcson            │\n",
       "│ 265991 ┆ ellipticpoint    │\n",
       "│ 760947 ┆ veracious074     │\n",
       "│ 425889 ┆ across11         │\n",
       "│ 568757 ┆ snowoman         │\n",
       "│ 447159 ┆ one2dome         │\n",
       "│ 227328 ┆ alxbr            │\n",
       "│ 753739 ┆ loadedly         │\n",
       "│ 836832 ┆ revillaweb3      │\n",
       "│ 619264 ┆ nasreddineoverto │\n",
       "│ 210164 ┆ foxdeep79        │\n",
       "│ …      ┆ …                │\n",
       "│ 810033 ┆ profesor1        │\n",
       "│ 827361 ┆ zsx5908          │\n",
       "│ 613184 ┆ bharateon        │\n",
       "│ 292810 ┆ bondaref         │\n",
       "│ 12311  ┆ hamburger        │\n",
       "│ 514481 ┆ imanuelharisarim │\n",
       "│ 593888 ┆ netot            │\n",
       "│ 608057 ┆ wsbking          │\n",
       "│ 424659 ┆ barton69         │\n",
       "│ 372494 ┆ a626568640       │\n",
       "│ 819867 ┆ timoa            │\n",
       "│ 270650 ┆ valkiz           │\n",
       "│ 473320 ┆ kenbroski        │\n",
       "│ 702821 ┆ nenknendah       │\n",
       "│ 535843 ┆ alblak522        │\n",
       "└────────┴──────────────────┘"
      ]
     },
     "execution_count": 4,
     "metadata": {},
     "output_type": "execute_result"
    }
   ],
   "source": [
    "fnames = pl.read_parquet(f\"{DATA_PATH}/raw/farcaster-fnames-0-1730134800.parquet\")\n",
    "last_fnames = fnames[[\"fid\",\"updated_at\"]].group_by(\"fid\").max()\n",
    "last_fnames = last_fnames.join(fnames,on=[\"fid\",\"updated_at\"],how=\"left\",coalesce=True)[[\"fid\",\"fname\"]]\n",
    "# will be used in \"3. Check bot label changes from sybilscar\"\n",
    "last_fnames"
   ]
  },
  {
   "cell_type": "code",
   "execution_count": 5,
   "metadata": {},
   "outputs": [
    {
     "data": {
      "text/html": [
       "<div><style>\n",
       ".dataframe > thead > tr,\n",
       ".dataframe > tbody > tr {\n",
       "  text-align: right;\n",
       "  white-space: pre-wrap;\n",
       "}\n",
       "</style>\n",
       "<small>shape: (30, 3)</small><table border=\"1\" class=\"dataframe\"><thead><tr><th>fid</th><th>bot</th><th>fname</th></tr><tr><td>i64</td><td>bool</td><td>str</td></tr></thead><tbody><tr><td>434394</td><td>true</td><td>&quot;spyderman1234&quot;</td></tr><tr><td>4378</td><td>false</td><td>&quot;gigamesh.eth&quot;</td></tr><tr><td>241627</td><td>false</td><td>&quot;declank&quot;</td></tr><tr><td>322865</td><td>false</td><td>&quot;wellborn&quot;</td></tr><tr><td>385003</td><td>false</td><td>&quot;manbosan&quot;</td></tr><tr><td>359645</td><td>false</td><td>&quot;mirrortune&quot;</td></tr><tr><td>296687</td><td>false</td><td>&quot;jonathancolton&quot;</td></tr><tr><td>434600</td><td>true</td><td>&quot;asf&quot;</td></tr><tr><td>410043</td><td>true</td><td>&quot;heromartin&quot;</td></tr><tr><td>482836</td><td>true</td><td>&quot;suhud15&quot;</td></tr><tr><td>410860</td><td>true</td><td>&quot;naser1377&quot;</td></tr><tr><td>385476</td><td>false</td><td>&quot;kaitooo.eth&quot;</td></tr><tr><td>242417</td><td>false</td><td>&quot;amangoswami&quot;</td></tr><tr><td>239545</td><td>true</td><td>&quot;hoangtrung&quot;</td></tr><tr><td>449228</td><td>true</td><td>&quot;royadelsa&quot;</td></tr><tr><td>419861</td><td>false</td><td>&quot;gnarking&quot;</td></tr><tr><td>391632</td><td>true</td><td>&quot;kick-your-brain&quot;</td></tr><tr><td>269413</td><td>false</td><td>&quot;davoodi&quot;</td></tr><tr><td>431315</td><td>true</td><td>&quot;ladysa&quot;</td></tr><tr><td>229658</td><td>false</td><td>&quot;userbox&quot;</td></tr><tr><td>311600</td><td>true</td><td>&quot;anhelia&quot;</td></tr><tr><td>430158</td><td>false</td><td>&quot;elcamino&quot;</td></tr><tr><td>14886</td><td>false</td><td>&quot;sepiata&quot;</td></tr><tr><td>319003</td><td>false</td><td>&quot;suv&quot;</td></tr><tr><td>427061</td><td>false</td><td>&quot;okommpeople&quot;</td></tr><tr><td>386654</td><td>false</td><td>&quot;alirahmanifard&quot;</td></tr><tr><td>514584</td><td>false</td><td>&quot;duongdungg&quot;</td></tr><tr><td>235170</td><td>false</td><td>&quot;biterror.eth&quot;</td></tr><tr><td>436241</td><td>false</td><td>&quot;kati47&quot;</td></tr><tr><td>6023</td><td>false</td><td>&quot;stevedylandev.eth&quot;</td></tr></tbody></table></div>"
      ],
      "text/plain": [
       "shape: (30, 3)\n",
       "┌────────┬───────┬───────────────────┐\n",
       "│ fid    ┆ bot   ┆ fname             │\n",
       "│ ---    ┆ ---   ┆ ---               │\n",
       "│ i64    ┆ bool  ┆ str               │\n",
       "╞════════╪═══════╪═══════════════════╡\n",
       "│ 434394 ┆ true  ┆ spyderman1234     │\n",
       "│ 4378   ┆ false ┆ gigamesh.eth      │\n",
       "│ 241627 ┆ false ┆ declank           │\n",
       "│ 322865 ┆ false ┆ wellborn          │\n",
       "│ 385003 ┆ false ┆ manbosan          │\n",
       "│ 359645 ┆ false ┆ mirrortune        │\n",
       "│ 296687 ┆ false ┆ jonathancolton    │\n",
       "│ 434600 ┆ true  ┆ asf               │\n",
       "│ 410043 ┆ true  ┆ heromartin        │\n",
       "│ 482836 ┆ true  ┆ suhud15           │\n",
       "│ 410860 ┆ true  ┆ naser1377         │\n",
       "│ 385476 ┆ false ┆ kaitooo.eth       │\n",
       "│ 242417 ┆ false ┆ amangoswami       │\n",
       "│ 239545 ┆ true  ┆ hoangtrung        │\n",
       "│ 449228 ┆ true  ┆ royadelsa         │\n",
       "│ 419861 ┆ false ┆ gnarking          │\n",
       "│ 391632 ┆ true  ┆ kick-your-brain   │\n",
       "│ 269413 ┆ false ┆ davoodi           │\n",
       "│ 431315 ┆ true  ┆ ladysa            │\n",
       "│ 229658 ┆ false ┆ userbox           │\n",
       "│ 311600 ┆ true  ┆ anhelia           │\n",
       "│ 430158 ┆ false ┆ elcamino          │\n",
       "│ 14886  ┆ false ┆ sepiata           │\n",
       "│ 319003 ┆ false ┆ suv               │\n",
       "│ 427061 ┆ false ┆ okommpeople       │\n",
       "│ 386654 ┆ false ┆ alirahmanifard    │\n",
       "│ 514584 ┆ false ┆ duongdungg        │\n",
       "│ 235170 ┆ false ┆ biterror.eth      │\n",
       "│ 436241 ┆ false ┆ kati47            │\n",
       "│ 6023   ┆ false ┆ stevedylandev.eth │\n",
       "└────────┴───────┴───────────────────┘"
      ]
     },
     "execution_count": 5,
     "metadata": {},
     "output_type": "execute_result"
    }
   ],
   "source": [
    "df = bot_or_not.join(last_fnames,on=\"fid\",coalesce=True,how=\"left\")\n",
    "selected_samples = df.sample(30,seed=1)\n",
    "selected_samples"
   ]
  },
  {
   "cell_type": "code",
   "execution_count": 6,
   "metadata": {},
   "outputs": [],
   "source": [
    "# result_dict = {str(value): True for value in selected_samples['fname']}\n",
    "# result_dict"
   ]
  },
  {
   "cell_type": "code",
   "execution_count": 7,
   "metadata": {},
   "outputs": [],
   "source": [
    "manual_inspection = {\n",
    "'spyderman1234': True,\n",
    " 'gigamesh.eth': False,\n",
    " 'declank': False,\n",
    " 'wellborn': True,\n",
    " 'manbosan': True,\n",
    " 'mirrortune': True,\n",
    " 'jonathancolton': True,\n",
    " 'asf': True,\n",
    " 'heromartin': True,\n",
    " 'suhud15': True,\n",
    " 'naser1377': True,\n",
    " 'kaitooo.eth': True,\n",
    " 'amangoswami': True,\n",
    " 'hoangtrung': True,\n",
    " 'royadelsa': True ,\n",
    " 'gnarking': True ,\n",
    " 'kick-your-brain': True ,\n",
    " 'davoodi': True ,\n",
    " 'ladysa': True ,\n",
    " 'userbox': True ,\n",
    " 'anhelia': False ,\n",
    " 'elcamino': True ,\n",
    " 'sepiata': True ,\n",
    " 'suv': True ,\n",
    " 'okommpeople': True ,\n",
    " 'alirahmanifard': False ,\n",
    " 'duongdungg': True ,\n",
    " 'biterror.eth': False ,\n",
    " 'kati47': True ,\n",
    " 'stevedylandev.eth': False }"
   ]
  },
  {
   "cell_type": "code",
   "execution_count": 8,
   "metadata": {},
   "outputs": [
    {
     "name": "stderr",
     "output_type": "stream",
     "text": [
      "/var/folders/k2/v9m0s0cn02j1r54h8qh_tf200000gn/T/ipykernel_53050/2440418188.py:1: MapWithoutReturnDtypeWarning: Calling `map_elements` without specifying `return_dtype` can lead to unpredictable results. Specify `return_dtype` to silence this warning.\n",
      "  df = selected_samples.with_columns(\n"
     ]
    },
    {
     "data": {
      "text/html": [
       "<div><style>\n",
       ".dataframe > thead > tr,\n",
       ".dataframe > tbody > tr {\n",
       "  text-align: right;\n",
       "  white-space: pre-wrap;\n",
       "}\n",
       "</style>\n",
       "<small>shape: (30, 4)</small><table border=\"1\" class=\"dataframe\"><thead><tr><th>fid</th><th>bot</th><th>fname</th><th>manual_inspection</th></tr><tr><td>i64</td><td>bool</td><td>str</td><td>bool</td></tr></thead><tbody><tr><td>434394</td><td>true</td><td>&quot;spyderman1234&quot;</td><td>true</td></tr><tr><td>4378</td><td>false</td><td>&quot;gigamesh.eth&quot;</td><td>false</td></tr><tr><td>241627</td><td>false</td><td>&quot;declank&quot;</td><td>false</td></tr><tr><td>322865</td><td>false</td><td>&quot;wellborn&quot;</td><td>true</td></tr><tr><td>385003</td><td>false</td><td>&quot;manbosan&quot;</td><td>true</td></tr><tr><td>359645</td><td>false</td><td>&quot;mirrortune&quot;</td><td>true</td></tr><tr><td>296687</td><td>false</td><td>&quot;jonathancolton&quot;</td><td>true</td></tr><tr><td>434600</td><td>true</td><td>&quot;asf&quot;</td><td>true</td></tr><tr><td>410043</td><td>true</td><td>&quot;heromartin&quot;</td><td>true</td></tr><tr><td>482836</td><td>true</td><td>&quot;suhud15&quot;</td><td>true</td></tr><tr><td>410860</td><td>true</td><td>&quot;naser1377&quot;</td><td>true</td></tr><tr><td>385476</td><td>false</td><td>&quot;kaitooo.eth&quot;</td><td>true</td></tr><tr><td>242417</td><td>false</td><td>&quot;amangoswami&quot;</td><td>true</td></tr><tr><td>239545</td><td>true</td><td>&quot;hoangtrung&quot;</td><td>true</td></tr><tr><td>449228</td><td>true</td><td>&quot;royadelsa&quot;</td><td>true</td></tr><tr><td>419861</td><td>false</td><td>&quot;gnarking&quot;</td><td>true</td></tr><tr><td>391632</td><td>true</td><td>&quot;kick-your-brain&quot;</td><td>true</td></tr><tr><td>269413</td><td>false</td><td>&quot;davoodi&quot;</td><td>true</td></tr><tr><td>431315</td><td>true</td><td>&quot;ladysa&quot;</td><td>true</td></tr><tr><td>229658</td><td>false</td><td>&quot;userbox&quot;</td><td>true</td></tr><tr><td>311600</td><td>true</td><td>&quot;anhelia&quot;</td><td>false</td></tr><tr><td>430158</td><td>false</td><td>&quot;elcamino&quot;</td><td>true</td></tr><tr><td>14886</td><td>false</td><td>&quot;sepiata&quot;</td><td>true</td></tr><tr><td>319003</td><td>false</td><td>&quot;suv&quot;</td><td>true</td></tr><tr><td>427061</td><td>false</td><td>&quot;okommpeople&quot;</td><td>true</td></tr><tr><td>386654</td><td>false</td><td>&quot;alirahmanifard&quot;</td><td>false</td></tr><tr><td>514584</td><td>false</td><td>&quot;duongdungg&quot;</td><td>true</td></tr><tr><td>235170</td><td>false</td><td>&quot;biterror.eth&quot;</td><td>false</td></tr><tr><td>436241</td><td>false</td><td>&quot;kati47&quot;</td><td>true</td></tr><tr><td>6023</td><td>false</td><td>&quot;stevedylandev.eth&quot;</td><td>false</td></tr></tbody></table></div>"
      ],
      "text/plain": [
       "shape: (30, 4)\n",
       "┌────────┬───────┬───────────────────┬───────────────────┐\n",
       "│ fid    ┆ bot   ┆ fname             ┆ manual_inspection │\n",
       "│ ---    ┆ ---   ┆ ---               ┆ ---               │\n",
       "│ i64    ┆ bool  ┆ str               ┆ bool              │\n",
       "╞════════╪═══════╪═══════════════════╪═══════════════════╡\n",
       "│ 434394 ┆ true  ┆ spyderman1234     ┆ true              │\n",
       "│ 4378   ┆ false ┆ gigamesh.eth      ┆ false             │\n",
       "│ 241627 ┆ false ┆ declank           ┆ false             │\n",
       "│ 322865 ┆ false ┆ wellborn          ┆ true              │\n",
       "│ 385003 ┆ false ┆ manbosan          ┆ true              │\n",
       "│ 359645 ┆ false ┆ mirrortune        ┆ true              │\n",
       "│ 296687 ┆ false ┆ jonathancolton    ┆ true              │\n",
       "│ 434600 ┆ true  ┆ asf               ┆ true              │\n",
       "│ 410043 ┆ true  ┆ heromartin        ┆ true              │\n",
       "│ 482836 ┆ true  ┆ suhud15           ┆ true              │\n",
       "│ 410860 ┆ true  ┆ naser1377         ┆ true              │\n",
       "│ 385476 ┆ false ┆ kaitooo.eth       ┆ true              │\n",
       "│ 242417 ┆ false ┆ amangoswami       ┆ true              │\n",
       "│ 239545 ┆ true  ┆ hoangtrung        ┆ true              │\n",
       "│ 449228 ┆ true  ┆ royadelsa         ┆ true              │\n",
       "│ 419861 ┆ false ┆ gnarking          ┆ true              │\n",
       "│ 391632 ┆ true  ┆ kick-your-brain   ┆ true              │\n",
       "│ 269413 ┆ false ┆ davoodi           ┆ true              │\n",
       "│ 431315 ┆ true  ┆ ladysa            ┆ true              │\n",
       "│ 229658 ┆ false ┆ userbox           ┆ true              │\n",
       "│ 311600 ┆ true  ┆ anhelia           ┆ false             │\n",
       "│ 430158 ┆ false ┆ elcamino          ┆ true              │\n",
       "│ 14886  ┆ false ┆ sepiata           ┆ true              │\n",
       "│ 319003 ┆ false ┆ suv               ┆ true              │\n",
       "│ 427061 ┆ false ┆ okommpeople       ┆ true              │\n",
       "│ 386654 ┆ false ┆ alirahmanifard    ┆ false             │\n",
       "│ 514584 ┆ false ┆ duongdungg        ┆ true              │\n",
       "│ 235170 ┆ false ┆ biterror.eth      ┆ false             │\n",
       "│ 436241 ┆ false ┆ kati47            ┆ true              │\n",
       "│ 6023   ┆ false ┆ stevedylandev.eth ┆ false             │\n",
       "└────────┴───────┴───────────────────┴───────────────────┘"
      ]
     },
     "execution_count": 8,
     "metadata": {},
     "output_type": "execute_result"
    }
   ],
   "source": [
    "df = selected_samples.with_columns(\n",
    "    pl.col(\"fname\")\n",
    "    .map_elements(lambda x: manual_inspection.get(str(x), None))\n",
    "    .alias(\"manual_inspection\")\n",
    ")\n",
    "\n",
    "df"
   ]
  },
  {
   "cell_type": "code",
   "execution_count": 10,
   "metadata": {},
   "outputs": [
    {
     "data": {
      "text/plain": [
       "array([[ 5,  1],\n",
       "       [15,  9]])"
      ]
     },
     "execution_count": 10,
     "metadata": {},
     "output_type": "execute_result"
    }
   ],
   "source": [
    "true_vals = df['manual_inspection'].to_numpy()\n",
    "pred_vals = df['bot'].to_numpy()\n",
    "\n",
    "# Compute confusion matrix\n",
    "cm = confusion_matrix(true_vals, pred_vals)\n",
    "cm"
   ]
  },
  {
   "cell_type": "code",
   "execution_count": 11,
   "metadata": {},
   "outputs": [
    {
     "name": "stdout",
     "output_type": "stream",
     "text": [
      "Accuracy: 46.67%\n",
      "True bot rate: 37.50%\n",
      "True human rate: 83.33%\n"
     ]
    }
   ],
   "source": [
    "accuracy = (cm[0][0] + cm[1][1]) / (cm.sum().sum())\n",
    "print(f'Accuracy: {100*accuracy:.2f}%')\n",
    "\n",
    "true_bot_rate = (cm[1][1]) / (cm[1].sum())\n",
    "print(f'True bot rate: {100*true_bot_rate:.2f}%')\n",
    "\n",
    "true_human_rate = (cm[0][0]) / (cm[0].sum())\n",
    "print(f'True human rate: {100*true_human_rate:.2f}%')"
   ]
  },
  {
   "cell_type": "markdown",
   "metadata": {},
   "source": [
    "### Conclusion\n",
    "\n",
    "In general, bot or not seems to be pretty careful when labeling bots, with a pretty low True bot rate."
   ]
  },
  {
   "cell_type": "markdown",
   "metadata": {},
   "source": [
    "<style>\n",
    "\n",
    "  .black {\n",
    "    color:\"black\";\n",
    "  }\n",
    "\n",
    "  .row {\n",
    "    display:flex;\n",
    "    flex-direction:row;\n",
    "    justify-items:center;\n",
    "    align-items:center;\n",
    "    gap:10px;\n",
    "    margin-bottom:10px;\n",
    "  }\n",
    "\n",
    "  .column {\n",
    "    display:flex;\n",
    "    flex-direction:column;\n",
    "    justify-items:center;\n",
    "    align-items:center;\n",
    "    max-width:30%;\n",
    "  }\n",
    "\n",
    "  .human {\n",
    "    height:20px;\n",
    "    width:20px;\n",
    "    border: 2px solid #000;\n",
    "    background-color: #ccc;\n",
    "    border-radius:10px;\n",
    "    text-align:center;\n",
    "  }\n",
    "  .sybil {\n",
    "    height:20px;\n",
    "    width:20px;\n",
    "    border: 2px solid #000;\n",
    "    background-color: #cc3333;\n",
    "    border-radius:10px;\n",
    "    text-align:center;\n",
    "    color:\"black\";\n",
    "  }\n",
    "\n",
    "</style>\n",
    "\n",
    "The current Bot or Not data can be approximately represented as this:\n",
    "\n",
    "<div class=\"row\">\n",
    "  <div class=\"column\">\n",
    "    <div class=\"row\">\n",
    "      <div class=\"human\"></div>\n",
    "      <div class=\"human\"></div>\n",
    "      <div class=\"human\"></div>\n",
    "      <div class=\"human\"></div>\n",
    "      <div class=\"human\"></div>\n",
    "    </div>\n",
    "    <div class=\"row\">\n",
    "      <div class=\"human\"><span style=\"color:black\">x</span></div>\n",
    "      <div class=\"human\"><span style=\"color:black\">x</span></div>\n",
    "      <div class=\"human\"><span style=\"color:black\">x</span></div>\n",
    "      <div class=\"human\"><span style=\"color:black\">x</span></div>\n",
    "      <div class=\"human\"><span style=\"color:black\">x</span></div>\n",
    "    </div>\n",
    "    <div class=\"row\">\n",
    "      <div class=\"human\"><span style=\"color:black\">x</span></div>\n",
    "      <div class=\"human\"><span style=\"color:black\">x</span></div>\n",
    "      <div class=\"human\"><span style=\"color:black\">x</span></div>\n",
    "      <div class=\"human\"><span style=\"color:black\">x</span></div>\n",
    "      <div class=\"human\"><span style=\"color:black\">x</span></div>\n",
    "    </div>\n",
    "    <div class=\"row\">\n",
    "      <div class=\"human\"><span style=\"color:black\">x</span></div>\n",
    "      <div class=\"human\"><span style=\"color:black\">x</span></div>\n",
    "      <div class=\"human\"><span style=\"color:black\">x</span></div>\n",
    "      <div class=\"human\"><span style=\"color:black\">x</span></div>\n",
    "      <div class=\"human\"><span style=\"color:black\">x</span></div>\n",
    "    </div>\n",
    "    <div class=\"row\">\n",
    "      <div class=\"sybil\"><span style=\"color:black\">x</span></div>\n",
    "      <div class=\"sybil\"></div>\n",
    "      <div class=\"sybil\"></div>\n",
    "      <div class=\"sybil\"></div>\n",
    "      <div class=\"sybil\"></div>\n",
    "    </div>\n",
    "    <div class=\"row\">\n",
    "      <div class=\"sybil\"></div>\n",
    "      <div class=\"sybil\"></div>\n",
    "      <div class=\"sybil\"></div>\n",
    "      <div class=\"sybil\"></div>\n",
    "      <div class=\"sybil\"></div>\n",
    "    </div>\n",
    "  </div>\n",
    "  <div class=\"column\">\n",
    "    <div class=\"row\">\n",
    "      <span style=\"color:white\">Legend:</span>\n",
    "    </div>\n",
    "    <div class=\"row\">\n",
    "      <div class=\"human\"></div>\n",
    "      <span style=\"color:white\">Bot or Not says its Human</span>\n",
    "    </div>\n",
    "    <div class=\"row\">\n",
    "      <div class=\"sybil\"></div>\n",
    "      <span style=\"color:white\">Bot or Not says its Sybil</span>\n",
    "    </div>\n",
    "    <div class=\"row\">\n",
    "      <span style=\"color:white; height:20px; width:20px; text-align:center; margin: 0 2px;\">X</span>\n",
    "      <span style=\"color:white\">Bot or Not is wrong</span>\n",
    "    </div>\n",
    "  </div>\n",
    "</div>"
   ]
  },
  {
   "cell_type": "markdown",
   "metadata": {},
   "source": [
    "There are two main options:\n",
    "\n",
    "1. Remove all human labels\n",
    "\n",
    "-  ~90% accuracy\n",
    "- only bots in dataset\n",
    "- 4.3k samples\n",
    "\n",
    "2. Set everyone as sybil\n",
    "\n",
    "- ~80% accuracy\n",
    "- only bots in dataset\n",
    "- 12k samples\n",
    "- we would like to improve the accuracy, somehow filtering the 20% humans\n",
    "\n",
    "In any case, we will need to get new human labels"
   ]
  }
 ],
 "metadata": {
  "kernelspec": {
   "display_name": "farcaster-social-graph-notebooks-_gupmy54-py3.13",
   "language": "python",
   "name": "python3"
  },
  "language_info": {
   "codemirror_mode": {
    "name": "ipython",
    "version": 3
   },
   "file_extension": ".py",
   "mimetype": "text/x-python",
   "name": "python",
   "nbconvert_exporter": "python",
   "pygments_lexer": "ipython3",
   "version": "3.13.0"
  }
 },
 "nbformat": 4,
 "nbformat_minor": 2
}
