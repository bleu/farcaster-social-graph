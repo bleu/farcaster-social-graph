{
 "cells": [
  {
   "cell_type": "code",
   "execution_count": 1,
   "id": "73ba21ba-7e99-4537-8a75-719b0d0b51fd",
   "metadata": {},
   "outputs": [
    {
     "data": {
      "text/plain": [
       "polars.config.Config"
      ]
     },
     "execution_count": 1,
     "metadata": {},
     "output_type": "execute_result"
    }
   ],
   "source": [
    "import polars as pl\n",
    "from hashlib import sha256\n",
    "import os\n",
    "import json\n",
    "from urllib.parse import urlparse, parse_qs\n",
    "pl.Config.set_fmt_str_lengths(400)\n"
   ]
  },
  {
   "cell_type": "code",
   "execution_count": 2,
   "id": "d3257d2b-2112-489e-90e9-652512c7af6d",
   "metadata": {},
   "outputs": [],
   "source": [
    "DATA_PATH = os.getenv(\"DATA_PATH\", \"\")"
   ]
  },
  {
   "cell_type": "code",
   "execution_count": 4,
   "id": "e147cd7b-dead-4c6c-87a7-5a4ac28bb530",
   "metadata": {},
   "outputs": [],
   "source": [
    "full_df = pl.read_parquet(f\"{DATA_PATH}/interim/aggregated_links_statistics.parquet\")\n",
    "bot_or_not_df = pl.read_parquet(f\"{DATA_PATH}/interim/bot_or_not_checks.parquet\")\n",
    "fnames_df = pl.read_parquet(f\"{DATA_PATH}/raw/farcaster-fnames-0-1730134800.parquet\")"
   ]
  },
  {
   "cell_type": "code",
   "execution_count": 5,
   "id": "fd4a304d-0238-4c4d-b956-b4745ac12569",
   "metadata": {},
   "outputs": [
    {
     "data": {
      "text/html": [
       "<div><style>\n",
       ".dataframe > thead > tr,\n",
       ".dataframe > tbody > tr {\n",
       "  text-align: right;\n",
       "  white-space: pre-wrap;\n",
       "}\n",
       "</style>\n",
       "<small>shape: (871_111, 13)</small><table border=\"1\" class=\"dataframe\"><thead><tr><th>created_at</th><th>updated_at</th><th>custody_address</th><th>registered_at</th><th>fid</th><th>verifications_count</th><th>following_count</th><th>followers_count</th><th>likes_count</th><th>recasts_count</th><th>total_casts_count</th><th>reply_casts_count</th><th>casts_count</th></tr><tr><td>datetime[ns]</td><td>datetime[ns]</td><td>binary</td><td>datetime[ns, UTC]</td><td>i64</td><td>i64</td><td>i64</td><td>i64</td><td>i64</td><td>i64</td><td>i64</td><td>i64</td><td>i64</td></tr></thead><tbody><tr><td>2023-10-13 15:07:21.731280</td><td>2024-06-05 18:09:02.020</td><td>b&quot;\\xb3\\x97\\x15\\x8b\\\\xb5\\x02\\x03\\xa5\\x91j\\x07\\x12U)\\xb1I\\xca\\xe3&lt;&quot;</td><td>2023-11-07 20:38:19 UTC</td><td>42796</td><td>0</td><td>0</td><td>1</td><td>0</td><td>0</td><td>0</td><td>0</td><td>0</td></tr><tr><td>2023-10-13 15:07:21.732119</td><td>2024-06-05 18:09:02.024</td><td>b&quot;\\xed\\x93\\xe1\\xef\\x7f+\\xef\\x9c\\x94\\x9a\\xa1\\xba\\xca\\xa8\\x9c\\x10\\xae\\xae\\x1b\\xac&quot;</td><td>2023-11-07 20:38:19 UTC</td><td>42797</td><td>0</td><td>0</td><td>2</td><td>0</td><td>0</td><td>0</td><td>0</td><td>0</td></tr><tr><td>2023-10-13 15:07:21.734257</td><td>2024-06-05 18:09:02.025</td><td>b&quot;\\xf6\\x9bv\\x99\\xd2/\\xb1\\x87z6\\x10\\xef\\x81\\xe9{\\x05\\x20\\x03\\xc5\\xac&quot;</td><td>2023-11-07 20:38:19 UTC</td><td>42798</td><td>0</td><td>0</td><td>1</td><td>0</td><td>0</td><td>0</td><td>0</td><td>0</td></tr><tr><td>2023-10-13 15:32:07.129182</td><td>2024-06-05 18:10:59.760</td><td>b&quot;\\xa1-f\\x16\\x8e\\x88\\x18\\xe8-hS\\x1d_c\\x09\\xe6\\x07/\\xc8\\xf5&quot;</td><td>2023-11-07 20:49:51 UTC</td><td>64737</td><td>0</td><td>0</td><td>1</td><td>0</td><td>0</td><td>0</td><td>0</td><td>0</td></tr><tr><td>2023-10-13 15:53:45.836242</td><td>2024-06-05 18:12:26.055</td><td>b&quot;\\x0f\\xc9\\x11\\xd1S\\xbd\\xb0*&lt;p;\\xd6RG\\xb2\\x80\\xd8\\xe6Y\\x85&quot;</td><td>2023-11-07 20:57:45 UTC</td><td>80519</td><td>0</td><td>0</td><td>0</td><td>0</td><td>0</td><td>0</td><td>0</td><td>0</td></tr><tr><td>&hellip;</td><td>&hellip;</td><td>&hellip;</td><td>&hellip;</td><td>&hellip;</td><td>&hellip;</td><td>&hellip;</td><td>&hellip;</td><td>&hellip;</td><td>&hellip;</td><td>&hellip;</td><td>&hellip;</td><td>&hellip;</td></tr><tr><td>2024-10-28 16:51:40.194175</td><td>2024-10-28 16:51:40.194175</td><td>b&quot;\\xbdwP\\xbbb\\xeb\\xf0\\xd4\\xa3o\\xfc\\xb8\\x02\\xd4#\\x09\\x956VL&quot;</td><td>2024-10-28 16:51:31 UTC</td><td>871144</td><td>0</td><td>0</td><td>0</td><td>0</td><td>0</td><td>0</td><td>0</td><td>0</td></tr><tr><td>2024-10-28 16:52:04.477017</td><td>2024-10-28 16:52:04.477017</td><td>b&quot;jDdHLS\\xa5&quot;\\x1e\\x00v\\xb4\\xa6\\xab\\x19\\xb3I?|&amp;&quot;</td><td>2024-10-28 16:51:57 UTC</td><td>871145</td><td>0</td><td>0</td><td>0</td><td>1</td><td>1</td><td>0</td><td>0</td><td>0</td></tr><tr><td>2024-10-28 16:54:50.861109</td><td>2024-10-28 16:54:50.861109</td><td>b&quot;vR/G\\xb2w\\xf3\\x0d\\x82\\xfc\\x92\\x01\\x97\\xed\\xcd1&lt;S\\xfc\\x93&quot;</td><td>2024-10-28 16:54:43 UTC</td><td>871146</td><td>0</td><td>0</td><td>0</td><td>0</td><td>0</td><td>0</td><td>0</td><td>0</td></tr><tr><td>2024-10-28 16:57:04.674889</td><td>2024-10-28 16:57:04.674889</td><td>b&quot;\\xe8\\xb62\\xda\\x89\\x00\\xee\\x1dS@\\x09lrW\\x05\\x08\\xce\\xcb\\x94p&quot;</td><td>2024-10-28 16:56:51 UTC</td><td>871147</td><td>0</td><td>0</td><td>0</td><td>0</td><td>0</td><td>0</td><td>0</td><td>0</td></tr><tr><td>2024-10-28 16:59:14.290976</td><td>2024-10-28 16:59:14.290976</td><td>b&quot;\\x1cvG\\xcfz\\x00\\x9c\\xe0\\x927\\xbc\\x90\\xb2~7\\x19B\\x1bXQ&quot;</td><td>2024-10-28 16:59:01 UTC</td><td>871148</td><td>0</td><td>0</td><td>0</td><td>0</td><td>0</td><td>0</td><td>0</td><td>0</td></tr></tbody></table></div>"
      ],
      "text/plain": [
       "shape: (871_111, 13)\n",
       "┌───────────┬───────────┬───────────┬───────────┬───┬───────────┬───────────┬───────────┬──────────┐\n",
       "│ created_a ┆ updated_a ┆ custody_a ┆ registere ┆ … ┆ recasts_c ┆ total_cas ┆ reply_cas ┆ casts_co │\n",
       "│ t         ┆ t         ┆ ddress    ┆ d_at      ┆   ┆ ount      ┆ ts_count  ┆ ts_count  ┆ unt      │\n",
       "│ ---       ┆ ---       ┆ ---       ┆ ---       ┆   ┆ ---       ┆ ---       ┆ ---       ┆ ---      │\n",
       "│ datetime[ ┆ datetime[ ┆ binary    ┆ datetime[ ┆   ┆ i64       ┆ i64       ┆ i64       ┆ i64      │\n",
       "│ ns]       ┆ ns]       ┆           ┆ ns, UTC]  ┆   ┆           ┆           ┆           ┆          │\n",
       "╞═══════════╪═══════════╪═══════════╪═══════════╪═══╪═══════════╪═══════════╪═══════════╪══════════╡\n",
       "│ 2023-10-1 ┆ 2024-06-0 ┆ b\"\\xb3\\x9 ┆ 2023-11-0 ┆ … ┆ 0         ┆ 0         ┆ 0         ┆ 0        │\n",
       "│ 3 15:07:2 ┆ 5 18:09:0 ┆ 7\\x15\\x8b ┆ 7         ┆   ┆           ┆           ┆           ┆          │\n",
       "│ 1.731280  ┆ 2.020     ┆ \\\\xb5\\x02 ┆ 20:38:19  ┆   ┆           ┆           ┆           ┆          │\n",
       "│           ┆           ┆ \\x03\\xa5\\ ┆ UTC       ┆   ┆           ┆           ┆           ┆          │\n",
       "│           ┆           ┆ x91j\\x07\\ ┆           ┆   ┆           ┆           ┆           ┆          │\n",
       "│           ┆           ┆ x12U)\\xb1 ┆           ┆   ┆           ┆           ┆           ┆          │\n",
       "│           ┆           ┆ I\\xca\\xe3 ┆           ┆   ┆           ┆           ┆           ┆          │\n",
       "│           ┆           ┆ <\"        ┆           ┆   ┆           ┆           ┆           ┆          │\n",
       "│ 2023-10-1 ┆ 2024-06-0 ┆ b\"\\xed\\x9 ┆ 2023-11-0 ┆ … ┆ 0         ┆ 0         ┆ 0         ┆ 0        │\n",
       "│ 3 15:07:2 ┆ 5 18:09:0 ┆ 3\\xe1\\xef ┆ 7         ┆   ┆           ┆           ┆           ┆          │\n",
       "│ 1.732119  ┆ 2.024     ┆ \\x7f+\\xef ┆ 20:38:19  ┆   ┆           ┆           ┆           ┆          │\n",
       "│           ┆           ┆ \\x9c\\x94\\ ┆ UTC       ┆   ┆           ┆           ┆           ┆          │\n",
       "│           ┆           ┆ x9a\\xa1\\x ┆           ┆   ┆           ┆           ┆           ┆          │\n",
       "│           ┆           ┆ ba\\xca\\xa ┆           ┆   ┆           ┆           ┆           ┆          │\n",
       "│           ┆           ┆ 8\\x9c\\x10 ┆           ┆   ┆           ┆           ┆           ┆          │\n",
       "│           ┆           ┆ \\xae\\xae\\ ┆           ┆   ┆           ┆           ┆           ┆          │\n",
       "│           ┆           ┆ x1b\\xac\"  ┆           ┆   ┆           ┆           ┆           ┆          │\n",
       "│ 2023-10-1 ┆ 2024-06-0 ┆ b\"\\xf6\\x9 ┆ 2023-11-0 ┆ … ┆ 0         ┆ 0         ┆ 0         ┆ 0        │\n",
       "│ 3 15:07:2 ┆ 5 18:09:0 ┆ bv\\x99\\xd ┆ 7         ┆   ┆           ┆           ┆           ┆          │\n",
       "│ 1.734257  ┆ 2.025     ┆ 2/\\xb1\\x8 ┆ 20:38:19  ┆   ┆           ┆           ┆           ┆          │\n",
       "│           ┆           ┆ 7z6\\x10\\x ┆ UTC       ┆   ┆           ┆           ┆           ┆          │\n",
       "│           ┆           ┆ ef\\x81\\xe ┆           ┆   ┆           ┆           ┆           ┆          │\n",
       "│           ┆           ┆ 9{\\x05\\x2 ┆           ┆   ┆           ┆           ┆           ┆          │\n",
       "│           ┆           ┆ 0\\x03\\xc5 ┆           ┆   ┆           ┆           ┆           ┆          │\n",
       "│           ┆           ┆ \\xac\"     ┆           ┆   ┆           ┆           ┆           ┆          │\n",
       "│ 2023-10-1 ┆ 2024-06-0 ┆ b\"\\xa1-f\\ ┆ 2023-11-0 ┆ … ┆ 0         ┆ 0         ┆ 0         ┆ 0        │\n",
       "│ 3 15:32:0 ┆ 5 18:10:5 ┆ x16\\x8e\\x ┆ 7         ┆   ┆           ┆           ┆           ┆          │\n",
       "│ 7.129182  ┆ 9.760     ┆ 88\\x18\\xe ┆ 20:49:51  ┆   ┆           ┆           ┆           ┆          │\n",
       "│           ┆           ┆ 8-hS\\x1d_ ┆ UTC       ┆   ┆           ┆           ┆           ┆          │\n",
       "│           ┆           ┆ c\\x09\\xe6 ┆           ┆   ┆           ┆           ┆           ┆          │\n",
       "│           ┆           ┆ \\x07/\\xc8 ┆           ┆   ┆           ┆           ┆           ┆          │\n",
       "│           ┆           ┆ \\xf5\"     ┆           ┆   ┆           ┆           ┆           ┆          │\n",
       "│ 2023-10-1 ┆ 2024-06-0 ┆ b\"\\x0f\\xc ┆ 2023-11-0 ┆ … ┆ 0         ┆ 0         ┆ 0         ┆ 0        │\n",
       "│ 3 15:53:4 ┆ 5 18:12:2 ┆ 9\\x11\\xd1 ┆ 7         ┆   ┆           ┆           ┆           ┆          │\n",
       "│ 5.836242  ┆ 6.055     ┆ S\\xbd\\xb0 ┆ 20:57:45  ┆   ┆           ┆           ┆           ┆          │\n",
       "│           ┆           ┆ *<p;\\xd6R ┆ UTC       ┆   ┆           ┆           ┆           ┆          │\n",
       "│           ┆           ┆ G\\xb2\\x80 ┆           ┆   ┆           ┆           ┆           ┆          │\n",
       "│           ┆           ┆ \\xd8\\xe6Y ┆           ┆   ┆           ┆           ┆           ┆          │\n",
       "│           ┆           ┆ \\x85\"     ┆           ┆   ┆           ┆           ┆           ┆          │\n",
       "│ …         ┆ …         ┆ …         ┆ …         ┆ … ┆ …         ┆ …         ┆ …         ┆ …        │\n",
       "│ 2024-10-2 ┆ 2024-10-2 ┆ b\"\\xbdwP\\ ┆ 2024-10-2 ┆ … ┆ 0         ┆ 0         ┆ 0         ┆ 0        │\n",
       "│ 8 16:51:4 ┆ 8 16:51:4 ┆ xbbb\\xeb\\ ┆ 8         ┆   ┆           ┆           ┆           ┆          │\n",
       "│ 0.194175  ┆ 0.194175  ┆ xf0\\xd4\\x ┆ 16:51:31  ┆   ┆           ┆           ┆           ┆          │\n",
       "│           ┆           ┆ a3o\\xfc\\x ┆ UTC       ┆   ┆           ┆           ┆           ┆          │\n",
       "│           ┆           ┆ b8\\x02\\xd ┆           ┆   ┆           ┆           ┆           ┆          │\n",
       "│           ┆           ┆ 4#\\x09\\x9 ┆           ┆   ┆           ┆           ┆           ┆          │\n",
       "│           ┆           ┆ 56VL\"     ┆           ┆   ┆           ┆           ┆           ┆          │\n",
       "│ 2024-10-2 ┆ 2024-10-2 ┆ b\"jDdHLS\\ ┆ 2024-10-2 ┆ … ┆ 1         ┆ 0         ┆ 0         ┆ 0        │\n",
       "│ 8 16:52:0 ┆ 8 16:52:0 ┆ xa5\"\\x1e\\ ┆ 8         ┆   ┆           ┆           ┆           ┆          │\n",
       "│ 4.477017  ┆ 4.477017  ┆ x00v\\xb4\\ ┆ 16:51:57  ┆   ┆           ┆           ┆           ┆          │\n",
       "│           ┆           ┆ xa6\\xab\\x ┆ UTC       ┆   ┆           ┆           ┆           ┆          │\n",
       "│           ┆           ┆ 19\\xb3I?| ┆           ┆   ┆           ┆           ┆           ┆          │\n",
       "│           ┆           ┆ &\"        ┆           ┆   ┆           ┆           ┆           ┆          │\n",
       "│ 2024-10-2 ┆ 2024-10-2 ┆ b\"vR/G\\xb ┆ 2024-10-2 ┆ … ┆ 0         ┆ 0         ┆ 0         ┆ 0        │\n",
       "│ 8 16:54:5 ┆ 8 16:54:5 ┆ 2w\\xf3\\x0 ┆ 8         ┆   ┆           ┆           ┆           ┆          │\n",
       "│ 0.861109  ┆ 0.861109  ┆ d\\x82\\xfc ┆ 16:54:43  ┆   ┆           ┆           ┆           ┆          │\n",
       "│           ┆           ┆ \\x92\\x01\\ ┆ UTC       ┆   ┆           ┆           ┆           ┆          │\n",
       "│           ┆           ┆ x97\\xed\\x ┆           ┆   ┆           ┆           ┆           ┆          │\n",
       "│           ┆           ┆ cd1<S\\xfc ┆           ┆   ┆           ┆           ┆           ┆          │\n",
       "│           ┆           ┆ \\x93\"     ┆           ┆   ┆           ┆           ┆           ┆          │\n",
       "│ 2024-10-2 ┆ 2024-10-2 ┆ b\"\\xe8\\xb ┆ 2024-10-2 ┆ … ┆ 0         ┆ 0         ┆ 0         ┆ 0        │\n",
       "│ 8 16:57:0 ┆ 8 16:57:0 ┆ 62\\xda\\x8 ┆ 8         ┆   ┆           ┆           ┆           ┆          │\n",
       "│ 4.674889  ┆ 4.674889  ┆ 9\\x00\\xee ┆ 16:56:51  ┆   ┆           ┆           ┆           ┆          │\n",
       "│           ┆           ┆ \\x1dS@\\x0 ┆ UTC       ┆   ┆           ┆           ┆           ┆          │\n",
       "│           ┆           ┆ 9lrW\\x05\\ ┆           ┆   ┆           ┆           ┆           ┆          │\n",
       "│           ┆           ┆ x08\\xce\\x ┆           ┆   ┆           ┆           ┆           ┆          │\n",
       "│           ┆           ┆ cb\\x94p\"  ┆           ┆   ┆           ┆           ┆           ┆          │\n",
       "│ 2024-10-2 ┆ 2024-10-2 ┆ b\"\\x1cvG\\ ┆ 2024-10-2 ┆ … ┆ 0         ┆ 0         ┆ 0         ┆ 0        │\n",
       "│ 8 16:59:1 ┆ 8 16:59:1 ┆ xcfz\\x00\\ ┆ 8         ┆   ┆           ┆           ┆           ┆          │\n",
       "│ 4.290976  ┆ 4.290976  ┆ x9c\\xe0\\x ┆ 16:59:01  ┆   ┆           ┆           ┆           ┆          │\n",
       "│           ┆           ┆ 927\\xbc\\x ┆ UTC       ┆   ┆           ┆           ┆           ┆          │\n",
       "│           ┆           ┆ 90\\xb2~7\\ ┆           ┆   ┆           ┆           ┆           ┆          │\n",
       "│           ┆           ┆ x19B\\x1bX ┆           ┆   ┆           ┆           ┆           ┆          │\n",
       "│           ┆           ┆ Q\"        ┆           ┆   ┆           ┆           ┆           ┆          │\n",
       "└───────────┴───────────┴───────────┴───────────┴───┴───────────┴───────────┴───────────┴──────────┘"
      ]
     },
     "execution_count": 5,
     "metadata": {},
     "output_type": "execute_result"
    }
   ],
   "source": [
    "full_df"
   ]
  },
  {
   "cell_type": "code",
   "execution_count": 6,
   "id": "5ae1c2c6-4ca3-4bbe-86c1-cec08cc9f5a6",
   "metadata": {},
   "outputs": [
    {
     "data": {
      "text/html": [
       "<div><style>\n",
       ".dataframe > thead > tr,\n",
       ".dataframe > tbody > tr {\n",
       "  text-align: right;\n",
       "  white-space: pre-wrap;\n",
       "}\n",
       "</style>\n",
       "<small>shape: (12_065, 3)</small><table border=\"1\" class=\"dataframe\"><thead><tr><th>fid</th><th>bot</th><th>text</th></tr><tr><td>i64</td><td>bool</td><td>str</td></tr></thead><tbody><tr><td>332182</td><td>false</td><td>&quot;Bot or Not? Someone checked :\n",
       "Likely not a bot. Casts: trashion, photography, AI&quot;</td></tr><tr><td>238841</td><td>false</td><td>&quot;Bot or Not? Someone checked :\n",
       "Not a bot. Casts: steps, degen, milady&quot;</td></tr><tr><td>15211</td><td>false</td><td>&quot;Bot or Not? Someone checked :\n",
       "\n",
       "Not a bot. Buildooor: based, builder, safety, gm, gn\n",
       "\n",
       "Want to check someone else? Install the cast action below.&quot;</td></tr><tr><td>856488</td><td>false</td><td>&quot;Bot or Not? Someone checked :\n",
       "\n",
       "Not a bot. Casts: crypto news, airdrops, questions\n",
       "\n",
       "Want to check someone else? Install the cast action below.&quot;</td></tr><tr><td>401809</td><td>false</td><td>&quot;Bot or Not? Someone checked :\n",
       "\n",
       "Not a bot. Reply guy/gal: generic comments, repetitive\n",
       "\n",
       "Want to check someone else? Install the cast action below.&quot;</td></tr><tr><td>&hellip;</td><td>&hellip;</td><td>&hellip;</td></tr><tr><td>300929</td><td>true</td><td>&quot;Bot or Not? Someone checked :\n",
       "This user replies like a bot: emoji, random&quot;</td></tr><tr><td>471361</td><td>true</td><td>&quot;Bot or Not? Someone checked :\n",
       "\n",
       "This user casts like a bot: nft,ham,food,crypto,airdrop,price\n",
       "\n",
       "Want to check someone else? Install the cast action below.&quot;</td></tr><tr><td>450383</td><td>true</td><td>&quot;Bot or Not? Someone checked :\n",
       "\n",
       "This user replies like a bot: spammy, repetitive, generic\n",
       "\n",
       "Want to check someone else? Install the cast action below.&quot;</td></tr><tr><td>328716</td><td>true</td><td>&quot;Bot or Not? Someone checked :\n",
       "This user casts like a bot.&quot;</td></tr><tr><td>315768</td><td>true</td><td>&quot;Bot or Not? Someone checked :\n",
       "This user casts like a bot.&quot;</td></tr></tbody></table></div>"
      ],
      "text/plain": [
       "shape: (12_065, 3)\n",
       "┌────────┬───────┬───────────────────────────────────────────────────────────────┐\n",
       "│ fid    ┆ bot   ┆ text                                                          │\n",
       "│ ---    ┆ ---   ┆ ---                                                           │\n",
       "│ i64    ┆ bool  ┆ str                                                           │\n",
       "╞════════╪═══════╪═══════════════════════════════════════════════════════════════╡\n",
       "│ 332182 ┆ false ┆ Bot or Not? Someone checked :                                 │\n",
       "│        ┆       ┆ Likely not a bot. Casts: trashion, photography, AI            │\n",
       "│ 238841 ┆ false ┆ Bot or Not? Someone checked :                                 │\n",
       "│        ┆       ┆ Not a bot. Casts: steps, degen, milady                        │\n",
       "│ 15211  ┆ false ┆ Bot or Not? Someone checked :                                 │\n",
       "│        ┆       ┆                                                               │\n",
       "│        ┆       ┆ Not a bot. Buildooor: based, builder, safety, gm, gn          │\n",
       "│        ┆       ┆                                                               │\n",
       "│        ┆       ┆ Want to check someone else? Install the cast action below.    │\n",
       "│ 856488 ┆ false ┆ Bot or Not? Someone checked :                                 │\n",
       "│        ┆       ┆                                                               │\n",
       "│        ┆       ┆ Not a bot. Casts: crypto news, airdrops, questions            │\n",
       "│        ┆       ┆                                                               │\n",
       "│        ┆       ┆ Want to check someone else? Install the cast action below.    │\n",
       "│ 401809 ┆ false ┆ Bot or Not? Someone checked :                                 │\n",
       "│        ┆       ┆                                                               │\n",
       "│        ┆       ┆ Not a bot. Reply guy/gal: generic comments, repetitive        │\n",
       "│        ┆       ┆                                                               │\n",
       "│        ┆       ┆ Want to check someone else? Install the cast action below.    │\n",
       "│ …      ┆ …     ┆ …                                                             │\n",
       "│ 300929 ┆ true  ┆ Bot or Not? Someone checked :                                 │\n",
       "│        ┆       ┆ This user replies like a bot: emoji, random                   │\n",
       "│ 471361 ┆ true  ┆ Bot or Not? Someone checked :                                 │\n",
       "│        ┆       ┆                                                               │\n",
       "│        ┆       ┆ This user casts like a bot: nft,ham,food,crypto,airdrop,price │\n",
       "│        ┆       ┆                                                               │\n",
       "│        ┆       ┆ Want to check someone else? Install the cast action below.    │\n",
       "│ 450383 ┆ true  ┆ Bot or Not? Someone checked :                                 │\n",
       "│        ┆       ┆                                                               │\n",
       "│        ┆       ┆ This user replies like a bot: spammy, repetitive, generic     │\n",
       "│        ┆       ┆                                                               │\n",
       "│        ┆       ┆ Want to check someone else? Install the cast action below.    │\n",
       "│ 328716 ┆ true  ┆ Bot or Not? Someone checked :                                 │\n",
       "│        ┆       ┆ This user casts like a bot.                                   │\n",
       "│ 315768 ┆ true  ┆ Bot or Not? Someone checked :                                 │\n",
       "│        ┆       ┆ This user casts like a bot.                                   │\n",
       "└────────┴───────┴───────────────────────────────────────────────────────────────┘"
      ]
     },
     "execution_count": 6,
     "metadata": {},
     "output_type": "execute_result"
    }
   ],
   "source": [
    "bot_or_not_df"
   ]
  },
  {
   "cell_type": "code",
   "execution_count": 7,
   "id": "8c36982a-41e5-4150-9943-184745626448",
   "metadata": {},
   "outputs": [],
   "source": [
    "df = full_df.join(bot_or_not_df, on=\"fid\", how=\"inner\")"
   ]
  },
  {
   "cell_type": "code",
   "execution_count": 8,
   "id": "cb4f51be",
   "metadata": {},
   "outputs": [
    {
     "data": {
      "text/html": [
       "<div><style>\n",
       ".dataframe > thead > tr,\n",
       ".dataframe > tbody > tr {\n",
       "  text-align: right;\n",
       "  white-space: pre-wrap;\n",
       "}\n",
       "</style>\n",
       "<small>shape: (12_065, 15)</small><table border=\"1\" class=\"dataframe\"><thead><tr><th>created_at</th><th>updated_at</th><th>custody_address</th><th>registered_at</th><th>fid</th><th>verifications_count</th><th>following_count</th><th>followers_count</th><th>likes_count</th><th>recasts_count</th><th>total_casts_count</th><th>reply_casts_count</th><th>casts_count</th><th>bot</th><th>text</th></tr><tr><td>datetime[ns]</td><td>datetime[ns]</td><td>binary</td><td>datetime[ns, UTC]</td><td>i64</td><td>i64</td><td>i64</td><td>i64</td><td>i64</td><td>i64</td><td>i64</td><td>i64</td><td>i64</td><td>bool</td><td>str</td></tr></thead><tbody><tr><td>2024-04-04 00:34:26.279484</td><td>2024-06-07 08:11:42.199</td><td>b&quot;\\xcb\\x1b\\xbc\\x1e\\xbd;\\xb6\\x8dz\\xe9\\xf1\\xc2\\xf0\\x1c\\x0c\\xc8\\x8a\\xf3\\xd4\\xef&quot;</td><td>2024-04-04 00:34:11 UTC</td><td>446097</td><td>1</td><td>1024</td><td>902</td><td>869</td><td>155</td><td>339</td><td>308</td><td>31</td><td>false</td><td>&quot;Bot or Not? Someone checked :\n",
       "Not a bot. Reply guy/gal: generic comments&quot;</td></tr><tr><td>2023-09-05 23:07:28.414146</td><td>2024-06-07 16:44:01.621</td><td>b&quot;k\\x0b\\xda?/\\xfe\\xd5\\xef\\xc8?\\xa8\\xc0$\\xac\\xff\\x1d\\xd4W\\x93\\xf1&quot;</td><td>2023-11-07 19:42:51 UTC</td><td>3</td><td>1</td><td>3461</td><td>488512</td><td>59833</td><td>6533</td><td>34175</td><td>25267</td><td>8908</td><td>false</td><td>&quot;Bot or Not? Someone checked :\n",
       "Not a bot. Buildooor: farcaster, warpcast, notificat&quot;</td></tr><tr><td>2023-09-05 23:07:32.549415</td><td>2024-06-07 16:44:01.625</td><td>b&quot;\\xc6\\xe3\\x00K\\x0eT\\xa9\\x1d\\xa8\\xd8z\\xce\\x80\\xb6\\xab\\xc6M#\\xe3?&quot;</td><td>2023-11-07 19:42:51 UTC</td><td>8</td><td>1</td><td>364</td><td>429351</td><td>3657</td><td>459</td><td>3941</td><td>2767</td><td>1174</td><td>false</td><td>&quot;Bot or Not? Someone checked :\n",
       "Not a bot. Buildooor: zora, mints, eclipse&quot;</td></tr><tr><td>2023-09-05 23:07:33.936715</td><td>2024-06-07 16:44:01.628</td><td>b&quot;\\xb45u\\xd5\\x8cI\\xd2\\xbe\\x88\\x0e\\x0f\\x82\\x1d\\xdfQ\\xd1\\\\x13\\xc3v&quot;</td><td>2023-11-07 19:42:51 UTC</td><td>12</td><td>2</td><td>690</td><td>391501</td><td>26918</td><td>3590</td><td>8074</td><td>6867</td><td>1207</td><td>false</td><td>&quot;Bot or Not? Someone checked :\n",
       "Not a bot. Buildooor: bountycaster, features, crypto&quot;</td></tr><tr><td>2023-09-05 23:07:28.009240</td><td>2024-06-07 16:44:01.629</td><td>b&quot;A\\x14\\xe3&gt;\\xb81\\x85\\x86I\\xea7\\x02\\xe1\\xc9\\xa2\\xdb?bdF&quot;</td><td>2023-11-07 19:42:51 UTC</td><td>2</td><td>4</td><td>1342</td><td>409534</td><td>14715</td><td>1566</td><td>8338</td><td>6631</td><td>1707</td><td>false</td><td>&quot;Bot or Not? Someone checked :\n",
       "Not a bot. Buildooor: Farcaster dev scaling&quot;</td></tr><tr><td>&hellip;</td><td>&hellip;</td><td>&hellip;</td><td>&hellip;</td><td>&hellip;</td><td>&hellip;</td><td>&hellip;</td><td>&hellip;</td><td>&hellip;</td><td>&hellip;</td><td>&hellip;</td><td>&hellip;</td><td>&hellip;</td><td>&hellip;</td><td>&hellip;</td></tr><tr><td>2024-02-09 05:07:25.351464</td><td>2024-10-21 19:29:04.915</td><td>b&quot;\\xfd(\\x20\\xe43s\\x80\\x19T\\xf5\\xf8[g\\xd8Y\\x95U\\xe1k\\x90&quot;</td><td>2024-10-21 19:16:35 UTC</td><td>327500</td><td>1</td><td>1928</td><td>1666</td><td>3123</td><td>2209</td><td>3711</td><td>2848</td><td>863</td><td>true</td><td>&quot;Bot or Not? Someone checked :\n",
       "This user casts like a bot.&quot;</td></tr><tr><td>2024-03-31 13:02:07.790970</td><td>2024-10-21 19:29:04.943</td><td>b&quot;9\\x0f\\x8f\\xb4\\xe4\\xc0n&amp;\\2#\\xef{[\\xbcf*=\\x03V&quot;</td><td>2024-10-21 19:16:35 UTC</td><td>428200</td><td>1</td><td>139</td><td>239</td><td>543</td><td>16</td><td>570</td><td>406</td><td>164</td><td>true</td><td>&quot;Bot or Not? Someone checked :\n",
       "\n",
       "This user casts like a bot: FOMO, $DEGEN, buyback, staking\n",
       "\n",
       "Want to check someone else? Install the cast action below.&quot;</td></tr><tr><td>2024-04-10 02:36:55.386914</td><td>2024-10-22 17:20:58.482</td><td>b&quot;m\\x01\\x94+\\xbe\\xf9\\x9e\\xd0\\xd8=\\x91Lk\\xd5k\\xd0#\\xd3\\xa1+&quot;</td><td>2024-10-22 17:20:47 UTC</td><td>469138</td><td>1</td><td>2634</td><td>2172</td><td>52888</td><td>6086</td><td>18889</td><td>18325</td><td>564</td><td>false</td><td>&quot;Bot or Not? Someone checked :\n",
       "Not a bot. Reply guy/gal: beautiful, wow, generic&quot;</td></tr><tr><td>2024-02-04 15:27:25.366137</td><td>2024-10-22 17:20:58.491</td><td>b&quot;\\xf6\\x01\\x01n\\x18\\xb0\\xd2\\x82\\xf1@\\xcd\\xf8\\xff\\xf2\\xa0&gt;O\\x83\\x1ee&quot;</td><td>2024-10-22 17:20:47 UTC</td><td>278549</td><td>1</td><td>504</td><td>924</td><td>5334</td><td>162</td><td>4111</td><td>3447</td><td>664</td><td>true</td><td>&quot;Bot or Not? Someone checked :\n",
       "Bot or low effort casts: shitposter, gambler&quot;</td></tr><tr><td>2024-04-04 05:22:21.036772</td><td>2024-10-23 19:59:08.740</td><td>b&quot;E^\\xd3\\xc1\\x20kKX\\xfa\\x99\\xd1\\x0e\\xd3\\xee\\x1dF)\\x1c\\x9cw&quot;</td><td>2024-10-23 19:58:59 UTC</td><td>446821</td><td>2</td><td>3154</td><td>2531</td><td>37090</td><td>25661</td><td>28223</td><td>26276</td><td>1947</td><td>false</td><td>&quot;Bot or Not? Someone checked :\n",
       "Not a bot. Reply guy/gal: generic, random&quot;</td></tr></tbody></table></div>"
      ],
      "text/plain": [
       "shape: (12_065, 15)\n",
       "┌────────────┬────────────┬────────────┬───────────┬───┬───────────┬───────────┬───────┬───────────┐\n",
       "│ created_at ┆ updated_at ┆ custody_ad ┆ registere ┆ … ┆ reply_cas ┆ casts_cou ┆ bot   ┆ text      │\n",
       "│ ---        ┆ ---        ┆ dress      ┆ d_at      ┆   ┆ ts_count  ┆ nt        ┆ ---   ┆ ---       │\n",
       "│ datetime[n ┆ datetime[n ┆ ---        ┆ ---       ┆   ┆ ---       ┆ ---       ┆ bool  ┆ str       │\n",
       "│ s]         ┆ s]         ┆ binary     ┆ datetime[ ┆   ┆ i64       ┆ i64       ┆       ┆           │\n",
       "│            ┆            ┆            ┆ ns, UTC]  ┆   ┆           ┆           ┆       ┆           │\n",
       "╞════════════╪════════════╪════════════╪═══════════╪═══╪═══════════╪═══════════╪═══════╪═══════════╡\n",
       "│ 2024-04-04 ┆ 2024-06-07 ┆ b\"\\xcb\\x1b ┆ 2024-04-0 ┆ … ┆ 308       ┆ 31        ┆ false ┆ Bot or    │\n",
       "│ 00:34:26.2 ┆ 08:11:42.1 ┆ \\xbc\\x1e\\x ┆ 4         ┆   ┆           ┆           ┆       ┆ Not?      │\n",
       "│ 79484      ┆ 99         ┆ bd;\\xb6\\x8 ┆ 00:34:11  ┆   ┆           ┆           ┆       ┆ Someone   │\n",
       "│            ┆            ┆ dz\\xe9\\xf1 ┆ UTC       ┆   ┆           ┆           ┆       ┆ checked : │\n",
       "│            ┆            ┆ \\xc2\\xf0\\x ┆           ┆   ┆           ┆           ┆       ┆ Not a     │\n",
       "│            ┆            ┆ 1c\\x0c\\xc8 ┆           ┆   ┆           ┆           ┆       ┆ bot.      │\n",
       "│            ┆            ┆ \\x8a\\xf3\\x ┆           ┆   ┆           ┆           ┆       ┆ Reply     │\n",
       "│            ┆            ┆ d4\\xef\"    ┆           ┆   ┆           ┆           ┆       ┆ guy/gal:  │\n",
       "│            ┆            ┆            ┆           ┆   ┆           ┆           ┆       ┆ generic   │\n",
       "│            ┆            ┆            ┆           ┆   ┆           ┆           ┆       ┆ comments  │\n",
       "│ 2023-09-05 ┆ 2024-06-07 ┆ b\"k\\x0b\\xd ┆ 2023-11-0 ┆ … ┆ 25267     ┆ 8908      ┆ false ┆ Bot or    │\n",
       "│ 23:07:28.4 ┆ 16:44:01.6 ┆ a?/\\xfe\\xd ┆ 7         ┆   ┆           ┆           ┆       ┆ Not?      │\n",
       "│ 14146      ┆ 21         ┆ 5\\xef\\xc8? ┆ 19:42:51  ┆   ┆           ┆           ┆       ┆ Someone   │\n",
       "│            ┆            ┆ \\xa8\\xc0$\\ ┆ UTC       ┆   ┆           ┆           ┆       ┆ checked : │\n",
       "│            ┆            ┆ xac\\xff\\x1 ┆           ┆   ┆           ┆           ┆       ┆ Not a     │\n",
       "│            ┆            ┆ d\\xd4W\\x93 ┆           ┆   ┆           ┆           ┆       ┆ bot. Buil │\n",
       "│            ┆            ┆ \\xf1\"      ┆           ┆   ┆           ┆           ┆       ┆ dooor:    │\n",
       "│            ┆            ┆            ┆           ┆   ┆           ┆           ┆       ┆ farcaster │\n",
       "│            ┆            ┆            ┆           ┆   ┆           ┆           ┆       ┆ ,         │\n",
       "│            ┆            ┆            ┆           ┆   ┆           ┆           ┆       ┆ warpcast, │\n",
       "│            ┆            ┆            ┆           ┆   ┆           ┆           ┆       ┆ notificat │\n",
       "│ 2023-09-05 ┆ 2024-06-07 ┆ b\"\\xc6\\xe3 ┆ 2023-11-0 ┆ … ┆ 2767      ┆ 1174      ┆ false ┆ Bot or    │\n",
       "│ 23:07:32.5 ┆ 16:44:01.6 ┆ \\x00K\\x0eT ┆ 7         ┆   ┆           ┆           ┆       ┆ Not?      │\n",
       "│ 49415      ┆ 25         ┆ \\xa9\\x1d\\x ┆ 19:42:51  ┆   ┆           ┆           ┆       ┆ Someone   │\n",
       "│            ┆            ┆ a8\\xd8z\\xc ┆ UTC       ┆   ┆           ┆           ┆       ┆ checked : │\n",
       "│            ┆            ┆ e\\x80\\xb6\\ ┆           ┆   ┆           ┆           ┆       ┆ Not a     │\n",
       "│            ┆            ┆ xab\\xc6M#\\ ┆           ┆   ┆           ┆           ┆       ┆ bot. Buil │\n",
       "│            ┆            ┆ xe3?\"      ┆           ┆   ┆           ┆           ┆       ┆ dooor:    │\n",
       "│            ┆            ┆            ┆           ┆   ┆           ┆           ┆       ┆ zora,     │\n",
       "│            ┆            ┆            ┆           ┆   ┆           ┆           ┆       ┆ mints,    │\n",
       "│            ┆            ┆            ┆           ┆   ┆           ┆           ┆       ┆ eclipse   │\n",
       "│ 2023-09-05 ┆ 2024-06-07 ┆ b\"\\xb45u\\x ┆ 2023-11-0 ┆ … ┆ 6867      ┆ 1207      ┆ false ┆ Bot or    │\n",
       "│ 23:07:33.9 ┆ 16:44:01.6 ┆ d5\\x8cI\\xd ┆ 7         ┆   ┆           ┆           ┆       ┆ Not?      │\n",
       "│ 36715      ┆ 28         ┆ 2\\xbe\\x88\\ ┆ 19:42:51  ┆   ┆           ┆           ┆       ┆ Someone   │\n",
       "│            ┆            ┆ x0e\\x0f\\x8 ┆ UTC       ┆   ┆           ┆           ┆       ┆ checked : │\n",
       "│            ┆            ┆ 2\\x1d\\xdfQ ┆           ┆   ┆           ┆           ┆       ┆ Not a     │\n",
       "│            ┆            ┆ \\xd1\\\\x13\\ ┆           ┆   ┆           ┆           ┆       ┆ bot. Buil │\n",
       "│            ┆            ┆ xc3v\"      ┆           ┆   ┆           ┆           ┆       ┆ dooor:    │\n",
       "│            ┆            ┆            ┆           ┆   ┆           ┆           ┆       ┆ bountycas │\n",
       "│            ┆            ┆            ┆           ┆   ┆           ┆           ┆       ┆ ter,      │\n",
       "│            ┆            ┆            ┆           ┆   ┆           ┆           ┆       ┆ features, │\n",
       "│            ┆            ┆            ┆           ┆   ┆           ┆           ┆       ┆ crypto    │\n",
       "│ 2023-09-05 ┆ 2024-06-07 ┆ b\"A\\x14\\xe ┆ 2023-11-0 ┆ … ┆ 6631      ┆ 1707      ┆ false ┆ Bot or    │\n",
       "│ 23:07:28.0 ┆ 16:44:01.6 ┆ 3>\\xb81\\x8 ┆ 7         ┆   ┆           ┆           ┆       ┆ Not?      │\n",
       "│ 09240      ┆ 29         ┆ 5\\x86I\\xea ┆ 19:42:51  ┆   ┆           ┆           ┆       ┆ Someone   │\n",
       "│            ┆            ┆ 7\\x02\\xe1\\ ┆ UTC       ┆   ┆           ┆           ┆       ┆ checked : │\n",
       "│            ┆            ┆ xc9\\xa2\\xd ┆           ┆   ┆           ┆           ┆       ┆ Not a     │\n",
       "│            ┆            ┆ b?bdF\"     ┆           ┆   ┆           ┆           ┆       ┆ bot. Buil │\n",
       "│            ┆            ┆            ┆           ┆   ┆           ┆           ┆       ┆ dooor:    │\n",
       "│            ┆            ┆            ┆           ┆   ┆           ┆           ┆       ┆ Farcaster │\n",
       "│            ┆            ┆            ┆           ┆   ┆           ┆           ┆       ┆ dev       │\n",
       "│            ┆            ┆            ┆           ┆   ┆           ┆           ┆       ┆ scaling   │\n",
       "│ …          ┆ …          ┆ …          ┆ …         ┆ … ┆ …         ┆ …         ┆ …     ┆ …         │\n",
       "│ 2024-02-09 ┆ 2024-10-21 ┆ b\"\\xfd(\\x2 ┆ 2024-10-2 ┆ … ┆ 2848      ┆ 863       ┆ true  ┆ Bot or    │\n",
       "│ 05:07:25.3 ┆ 19:29:04.9 ┆ 0\\xe43s\\x8 ┆ 1         ┆   ┆           ┆           ┆       ┆ Not?      │\n",
       "│ 51464      ┆ 15         ┆ 0\\x19T\\xf5 ┆ 19:16:35  ┆   ┆           ┆           ┆       ┆ Someone   │\n",
       "│            ┆            ┆ \\xf8[g\\xd8 ┆ UTC       ┆   ┆           ┆           ┆       ┆ checked : │\n",
       "│            ┆            ┆ Y\\x95U\\xe1 ┆           ┆   ┆           ┆           ┆       ┆ This user │\n",
       "│            ┆            ┆ k\\x90\"     ┆           ┆   ┆           ┆           ┆       ┆ casts     │\n",
       "│            ┆            ┆            ┆           ┆   ┆           ┆           ┆       ┆ like a    │\n",
       "│            ┆            ┆            ┆           ┆   ┆           ┆           ┆       ┆ bot.      │\n",
       "│ 2024-03-31 ┆ 2024-10-21 ┆ b\"9\\x0f\\x8 ┆ 2024-10-2 ┆ … ┆ 406       ┆ 164       ┆ true  ┆ Bot or    │\n",
       "│ 13:02:07.7 ┆ 19:29:04.9 ┆ f\\xb4\\xe4\\ ┆ 1         ┆   ┆           ┆           ┆       ┆ Not?      │\n",
       "│ 90970      ┆ 43         ┆ xc0n&\\2#\\x ┆ 19:16:35  ┆   ┆           ┆           ┆       ┆ Someone   │\n",
       "│            ┆            ┆ ef{[\\xbcf* ┆ UTC       ┆   ┆           ┆           ┆       ┆ checked : │\n",
       "│            ┆            ┆ =\\x03V\"    ┆           ┆   ┆           ┆           ┆       ┆           │\n",
       "│            ┆            ┆            ┆           ┆   ┆           ┆           ┆       ┆ This user │\n",
       "│            ┆            ┆            ┆           ┆   ┆           ┆           ┆       ┆ casts     │\n",
       "│            ┆            ┆            ┆           ┆   ┆           ┆           ┆       ┆ like a    │\n",
       "│            ┆            ┆            ┆           ┆   ┆           ┆           ┆       ┆ bot:      │\n",
       "│            ┆            ┆            ┆           ┆   ┆           ┆           ┆       ┆ FOMO,     │\n",
       "│            ┆            ┆            ┆           ┆   ┆           ┆           ┆       ┆ $DEGEN,   │\n",
       "│            ┆            ┆            ┆           ┆   ┆           ┆           ┆       ┆ buyback,  │\n",
       "│            ┆            ┆            ┆           ┆   ┆           ┆           ┆       ┆ staking   │\n",
       "│            ┆            ┆            ┆           ┆   ┆           ┆           ┆       ┆           │\n",
       "│            ┆            ┆            ┆           ┆   ┆           ┆           ┆       ┆ Want to   │\n",
       "│            ┆            ┆            ┆           ┆   ┆           ┆           ┆       ┆ check     │\n",
       "│            ┆            ┆            ┆           ┆   ┆           ┆           ┆       ┆ someone   │\n",
       "│            ┆            ┆            ┆           ┆   ┆           ┆           ┆       ┆ else?     │\n",
       "│            ┆            ┆            ┆           ┆   ┆           ┆           ┆       ┆ Install   │\n",
       "│            ┆            ┆            ┆           ┆   ┆           ┆           ┆       ┆ the cast  │\n",
       "│            ┆            ┆            ┆           ┆   ┆           ┆           ┆       ┆ action    │\n",
       "│            ┆            ┆            ┆           ┆   ┆           ┆           ┆       ┆ below.    │\n",
       "│ 2024-04-10 ┆ 2024-10-22 ┆ b\"m\\x01\\x9 ┆ 2024-10-2 ┆ … ┆ 18325     ┆ 564       ┆ false ┆ Bot or    │\n",
       "│ 02:36:55.3 ┆ 17:20:58.4 ┆ 4+\\xbe\\xf9 ┆ 2         ┆   ┆           ┆           ┆       ┆ Not?      │\n",
       "│ 86914      ┆ 82         ┆ \\x9e\\xd0\\x ┆ 17:20:47  ┆   ┆           ┆           ┆       ┆ Someone   │\n",
       "│            ┆            ┆ d8=\\x91Lk\\ ┆ UTC       ┆   ┆           ┆           ┆       ┆ checked : │\n",
       "│            ┆            ┆ xd5k\\xd0#\\ ┆           ┆   ┆           ┆           ┆       ┆ Not a     │\n",
       "│            ┆            ┆ xd3\\xa1+\"  ┆           ┆   ┆           ┆           ┆       ┆ bot.      │\n",
       "│            ┆            ┆            ┆           ┆   ┆           ┆           ┆       ┆ Reply     │\n",
       "│            ┆            ┆            ┆           ┆   ┆           ┆           ┆       ┆ guy/gal:  │\n",
       "│            ┆            ┆            ┆           ┆   ┆           ┆           ┆       ┆ beautiful │\n",
       "│            ┆            ┆            ┆           ┆   ┆           ┆           ┆       ┆ , wow,    │\n",
       "│            ┆            ┆            ┆           ┆   ┆           ┆           ┆       ┆ generic   │\n",
       "│ 2024-02-04 ┆ 2024-10-22 ┆ b\"\\xf6\\x01 ┆ 2024-10-2 ┆ … ┆ 3447      ┆ 664       ┆ true  ┆ Bot or    │\n",
       "│ 15:27:25.3 ┆ 17:20:58.4 ┆ \\x01n\\x18\\ ┆ 2         ┆   ┆           ┆           ┆       ┆ Not?      │\n",
       "│ 66137      ┆ 91         ┆ xb0\\xd2\\x8 ┆ 17:20:47  ┆   ┆           ┆           ┆       ┆ Someone   │\n",
       "│            ┆            ┆ 2\\xf1@\\xcd ┆ UTC       ┆   ┆           ┆           ┆       ┆ checked : │\n",
       "│            ┆            ┆ \\xf8\\xff\\x ┆           ┆   ┆           ┆           ┆       ┆ Bot or    │\n",
       "│            ┆            ┆ f2\\xa0>O\\x ┆           ┆   ┆           ┆           ┆       ┆ low       │\n",
       "│            ┆            ┆ 83\\x1ee\"   ┆           ┆   ┆           ┆           ┆       ┆ effort    │\n",
       "│            ┆            ┆            ┆           ┆   ┆           ┆           ┆       ┆ casts:    │\n",
       "│            ┆            ┆            ┆           ┆   ┆           ┆           ┆       ┆ shitposte │\n",
       "│            ┆            ┆            ┆           ┆   ┆           ┆           ┆       ┆ r,        │\n",
       "│            ┆            ┆            ┆           ┆   ┆           ┆           ┆       ┆ gambler   │\n",
       "│ 2024-04-04 ┆ 2024-10-23 ┆ b\"E^\\xd3\\x ┆ 2024-10-2 ┆ … ┆ 26276     ┆ 1947      ┆ false ┆ Bot or    │\n",
       "│ 05:22:21.0 ┆ 19:59:08.7 ┆ c1\\x20kKX\\ ┆ 3         ┆   ┆           ┆           ┆       ┆ Not?      │\n",
       "│ 36772      ┆ 40         ┆ xfa\\x99\\xd ┆ 19:58:59  ┆   ┆           ┆           ┆       ┆ Someone   │\n",
       "│            ┆            ┆ 1\\x0e\\xd3\\ ┆ UTC       ┆   ┆           ┆           ┆       ┆ checked : │\n",
       "│            ┆            ┆ xee\\x1dF)\\ ┆           ┆   ┆           ┆           ┆       ┆ Not a     │\n",
       "│            ┆            ┆ x1c\\x9cw\"  ┆           ┆   ┆           ┆           ┆       ┆ bot.      │\n",
       "│            ┆            ┆            ┆           ┆   ┆           ┆           ┆       ┆ Reply     │\n",
       "│            ┆            ┆            ┆           ┆   ┆           ┆           ┆       ┆ guy/gal:  │\n",
       "│            ┆            ┆            ┆           ┆   ┆           ┆           ┆       ┆ generic,  │\n",
       "│            ┆            ┆            ┆           ┆   ┆           ┆           ┆       ┆ random    │\n",
       "└────────────┴────────────┴────────────┴───────────┴───┴───────────┴───────────┴───────┴───────────┘"
      ]
     },
     "execution_count": 8,
     "metadata": {},
     "output_type": "execute_result"
    }
   ],
   "source": [
    "df"
   ]
  },
  {
   "cell_type": "code",
   "execution_count": 9,
   "id": "83a1f88f-77f5-41c0-9bf0-1beb2ac6c20e",
   "metadata": {},
   "outputs": [],
   "source": [
    "df.write_parquet(f\"{DATA_PATH}/interim/bot_or_not_with_info.parquet\")"
   ]
  },
  {
   "cell_type": "code",
   "execution_count": 10,
   "id": "d6675402-796a-4ecd-ab22-1caa06cdb7fb",
   "metadata": {},
   "outputs": [
    {
     "data": {
      "text/html": [
       "<div><style>\n",
       ".dataframe > thead > tr,\n",
       ".dataframe > tbody > tr {\n",
       "  text-align: right;\n",
       "  white-space: pre-wrap;\n",
       "}\n",
       "</style>\n",
       "<small>shape: (9, 9)</small><table border=\"1\" class=\"dataframe\"><thead><tr><th>statistic</th><th>verifications_count</th><th>following_count</th><th>followers_count</th><th>recasts_count</th><th>likes_count</th><th>total_casts_count</th><th>reply_casts_count</th><th>casts_count</th></tr><tr><td>str</td><td>f64</td><td>f64</td><td>f64</td><td>f64</td><td>f64</td><td>f64</td><td>f64</td><td>f64</td></tr></thead><tbody><tr><td>&quot;count&quot;</td><td>4637.0</td><td>4637.0</td><td>4637.0</td><td>4637.0</td><td>4637.0</td><td>4637.0</td><td>4637.0</td><td>4637.0</td></tr><tr><td>&quot;null_count&quot;</td><td>0.0</td><td>0.0</td><td>0.0</td><td>0.0</td><td>0.0</td><td>0.0</td><td>0.0</td><td>0.0</td></tr><tr><td>&quot;mean&quot;</td><td>1.507224</td><td>1441.446409</td><td>1542.012724</td><td>1717.364891</td><td>9756.123571</td><td>5315.106319</td><td>4781.424197</td><td>533.682122</td></tr><tr><td>&quot;std&quot;</td><td>1.319938</td><td>1342.073931</td><td>2209.502789</td><td>3293.310485</td><td>13183.405077</td><td>44342.14377</td><td>44059.498514</td><td>1909.975344</td></tr><tr><td>&quot;min&quot;</td><td>0.0</td><td>0.0</td><td>3.0</td><td>0.0</td><td>0.0</td><td>1.0</td><td>0.0</td><td>0.0</td></tr><tr><td>&quot;25%&quot;</td><td>1.0</td><td>590.0</td><td>653.0</td><td>203.0</td><td>2155.0</td><td>763.0</td><td>545.0</td><td>119.0</td></tr><tr><td>&quot;50%&quot;</td><td>1.0</td><td>1160.0</td><td>1169.0</td><td>703.0</td><td>5559.0</td><td>1980.0</td><td>1559.0</td><td>273.0</td></tr><tr><td>&quot;75%&quot;</td><td>2.0</td><td>1963.0</td><td>1910.0</td><td>1990.0</td><td>12520.0</td><td>4399.0</td><td>3742.0</td><td>577.0</td></tr><tr><td>&quot;max&quot;</td><td>38.0</td><td>30309.0</td><td>58101.0</td><td>75658.0</td><td>199121.0</td><td>2.512543e6</td><td>2.512367e6</td><td>101130.0</td></tr></tbody></table></div>"
      ],
      "text/plain": [
       "shape: (9, 9)\n",
       "┌───────────┬───────────┬───────────┬───────────┬───┬───────────┬───────────┬───────────┬──────────┐\n",
       "│ statistic ┆ verificat ┆ following ┆ followers ┆ … ┆ likes_cou ┆ total_cas ┆ reply_cas ┆ casts_co │\n",
       "│ ---       ┆ ions_coun ┆ _count    ┆ _count    ┆   ┆ nt        ┆ ts_count  ┆ ts_count  ┆ unt      │\n",
       "│ str       ┆ t         ┆ ---       ┆ ---       ┆   ┆ ---       ┆ ---       ┆ ---       ┆ ---      │\n",
       "│           ┆ ---       ┆ f64       ┆ f64       ┆   ┆ f64       ┆ f64       ┆ f64       ┆ f64      │\n",
       "│           ┆ f64       ┆           ┆           ┆   ┆           ┆           ┆           ┆          │\n",
       "╞═══════════╪═══════════╪═══════════╪═══════════╪═══╪═══════════╪═══════════╪═══════════╪══════════╡\n",
       "│ count     ┆ 4637.0    ┆ 4637.0    ┆ 4637.0    ┆ … ┆ 4637.0    ┆ 4637.0    ┆ 4637.0    ┆ 4637.0   │\n",
       "│ null_coun ┆ 0.0       ┆ 0.0       ┆ 0.0       ┆ … ┆ 0.0       ┆ 0.0       ┆ 0.0       ┆ 0.0      │\n",
       "│ t         ┆           ┆           ┆           ┆   ┆           ┆           ┆           ┆          │\n",
       "│ mean      ┆ 1.507224  ┆ 1441.4464 ┆ 1542.0127 ┆ … ┆ 9756.1235 ┆ 5315.1063 ┆ 4781.4241 ┆ 533.6821 │\n",
       "│           ┆           ┆ 09        ┆ 24        ┆   ┆ 71        ┆ 19        ┆ 97        ┆ 22       │\n",
       "│ std       ┆ 1.319938  ┆ 1342.0739 ┆ 2209.5027 ┆ … ┆ 13183.405 ┆ 44342.143 ┆ 44059.498 ┆ 1909.975 │\n",
       "│           ┆           ┆ 31        ┆ 89        ┆   ┆ 077       ┆ 77        ┆ 514       ┆ 344      │\n",
       "│ min       ┆ 0.0       ┆ 0.0       ┆ 3.0       ┆ … ┆ 0.0       ┆ 1.0       ┆ 0.0       ┆ 0.0      │\n",
       "│ 25%       ┆ 1.0       ┆ 590.0     ┆ 653.0     ┆ … ┆ 2155.0    ┆ 763.0     ┆ 545.0     ┆ 119.0    │\n",
       "│ 50%       ┆ 1.0       ┆ 1160.0    ┆ 1169.0    ┆ … ┆ 5559.0    ┆ 1980.0    ┆ 1559.0    ┆ 273.0    │\n",
       "│ 75%       ┆ 2.0       ┆ 1963.0    ┆ 1910.0    ┆ … ┆ 12520.0   ┆ 4399.0    ┆ 3742.0    ┆ 577.0    │\n",
       "│ max       ┆ 38.0      ┆ 30309.0   ┆ 58101.0   ┆ … ┆ 199121.0  ┆ 2.512543e ┆ 2.512367e ┆ 101130.0 │\n",
       "│           ┆           ┆           ┆           ┆   ┆           ┆ 6         ┆ 6         ┆          │\n",
       "└───────────┴───────────┴───────────┴───────────┴───┴───────────┴───────────┴───────────┴──────────┘"
      ]
     },
     "execution_count": 10,
     "metadata": {},
     "output_type": "execute_result"
    }
   ],
   "source": [
    "bots = df.filter(pl.col(\"bot\") == True)\n",
    "bots.select([\"verifications_count\", \"following_count\", \"followers_count\", \"recasts_count\", \"likes_count\", \"total_casts_count\", \"reply_casts_count\", \"casts_count\"]).describe()"
   ]
  },
  {
   "cell_type": "code",
   "execution_count": 11,
   "id": "0bac68bb-9541-444a-897f-f0b91ac4b3af",
   "metadata": {},
   "outputs": [
    {
     "data": {
      "text/html": [
       "<div><style>\n",
       ".dataframe > thead > tr,\n",
       ".dataframe > tbody > tr {\n",
       "  text-align: right;\n",
       "  white-space: pre-wrap;\n",
       "}\n",
       "</style>\n",
       "<small>shape: (9, 9)</small><table border=\"1\" class=\"dataframe\"><thead><tr><th>statistic</th><th>verifications_count</th><th>following_count</th><th>followers_count</th><th>recasts_count</th><th>likes_count</th><th>total_casts_count</th><th>reply_casts_count</th><th>casts_count</th></tr><tr><td>str</td><td>f64</td><td>f64</td><td>f64</td><td>f64</td><td>f64</td><td>f64</td><td>f64</td><td>f64</td></tr></thead><tbody><tr><td>&quot;count&quot;</td><td>7428.0</td><td>7428.0</td><td>7428.0</td><td>7428.0</td><td>7428.0</td><td>7428.0</td><td>7428.0</td><td>7428.0</td></tr><tr><td>&quot;null_count&quot;</td><td>0.0</td><td>0.0</td><td>0.0</td><td>0.0</td><td>0.0</td><td>0.0</td><td>0.0</td><td>0.0</td></tr><tr><td>&quot;mean&quot;</td><td>1.581718</td><td>1076.736537</td><td>6252.220517</td><td>1450.359989</td><td>8531.378837</td><td>4193.944265</td><td>3683.503366</td><td>510.440899</td></tr><tr><td>&quot;std&quot;</td><td>1.618918</td><td>2670.297512</td><td>31018.20767</td><td>3123.199199</td><td>12674.753001</td><td>7491.90688</td><td>7096.252499</td><td>760.480723</td></tr><tr><td>&quot;min&quot;</td><td>0.0</td><td>0.0</td><td>0.0</td><td>0.0</td><td>0.0</td><td>1.0</td><td>0.0</td><td>0.0</td></tr><tr><td>&quot;25%&quot;</td><td>1.0</td><td>308.0</td><td>510.0</td><td>63.0</td><td>1350.0</td><td>546.0</td><td>364.0</td><td>113.0</td></tr><tr><td>&quot;50%&quot;</td><td>1.0</td><td>704.0</td><td>1159.0</td><td>348.0</td><td>4347.0</td><td>1791.0</td><td>1399.0</td><td>281.0</td></tr><tr><td>&quot;75%&quot;</td><td>2.0</td><td>1420.0</td><td>2291.0</td><td>1518.0</td><td>10577.0</td><td>4519.0</td><td>3842.0</td><td>622.0</td></tr><tr><td>&quot;max&quot;</td><td>55.0</td><td>204883.0</td><td>488512.0</td><td>58619.0</td><td>214749.0</td><td>97152.0</td><td>93507.0</td><td>22463.0</td></tr></tbody></table></div>"
      ],
      "text/plain": [
       "shape: (9, 9)\n",
       "┌───────────┬───────────┬───────────┬───────────┬───┬───────────┬───────────┬───────────┬──────────┐\n",
       "│ statistic ┆ verificat ┆ following ┆ followers ┆ … ┆ likes_cou ┆ total_cas ┆ reply_cas ┆ casts_co │\n",
       "│ ---       ┆ ions_coun ┆ _count    ┆ _count    ┆   ┆ nt        ┆ ts_count  ┆ ts_count  ┆ unt      │\n",
       "│ str       ┆ t         ┆ ---       ┆ ---       ┆   ┆ ---       ┆ ---       ┆ ---       ┆ ---      │\n",
       "│           ┆ ---       ┆ f64       ┆ f64       ┆   ┆ f64       ┆ f64       ┆ f64       ┆ f64      │\n",
       "│           ┆ f64       ┆           ┆           ┆   ┆           ┆           ┆           ┆          │\n",
       "╞═══════════╪═══════════╪═══════════╪═══════════╪═══╪═══════════╪═══════════╪═══════════╪══════════╡\n",
       "│ count     ┆ 7428.0    ┆ 7428.0    ┆ 7428.0    ┆ … ┆ 7428.0    ┆ 7428.0    ┆ 7428.0    ┆ 7428.0   │\n",
       "│ null_coun ┆ 0.0       ┆ 0.0       ┆ 0.0       ┆ … ┆ 0.0       ┆ 0.0       ┆ 0.0       ┆ 0.0      │\n",
       "│ t         ┆           ┆           ┆           ┆   ┆           ┆           ┆           ┆          │\n",
       "│ mean      ┆ 1.581718  ┆ 1076.7365 ┆ 6252.2205 ┆ … ┆ 8531.3788 ┆ 4193.9442 ┆ 3683.5033 ┆ 510.4408 │\n",
       "│           ┆           ┆ 37        ┆ 17        ┆   ┆ 37        ┆ 65        ┆ 66        ┆ 99       │\n",
       "│ std       ┆ 1.618918  ┆ 2670.2975 ┆ 31018.207 ┆ … ┆ 12674.753 ┆ 7491.9068 ┆ 7096.2524 ┆ 760.4807 │\n",
       "│           ┆           ┆ 12        ┆ 67        ┆   ┆ 001       ┆ 8         ┆ 99        ┆ 23       │\n",
       "│ min       ┆ 0.0       ┆ 0.0       ┆ 0.0       ┆ … ┆ 0.0       ┆ 1.0       ┆ 0.0       ┆ 0.0      │\n",
       "│ 25%       ┆ 1.0       ┆ 308.0     ┆ 510.0     ┆ … ┆ 1350.0    ┆ 546.0     ┆ 364.0     ┆ 113.0    │\n",
       "│ 50%       ┆ 1.0       ┆ 704.0     ┆ 1159.0    ┆ … ┆ 4347.0    ┆ 1791.0    ┆ 1399.0    ┆ 281.0    │\n",
       "│ 75%       ┆ 2.0       ┆ 1420.0    ┆ 2291.0    ┆ … ┆ 10577.0   ┆ 4519.0    ┆ 3842.0    ┆ 622.0    │\n",
       "│ max       ┆ 55.0      ┆ 204883.0  ┆ 488512.0  ┆ … ┆ 214749.0  ┆ 97152.0   ┆ 93507.0   ┆ 22463.0  │\n",
       "└───────────┴───────────┴───────────┴───────────┴───┴───────────┴───────────┴───────────┴──────────┘"
      ]
     },
     "execution_count": 11,
     "metadata": {},
     "output_type": "execute_result"
    }
   ],
   "source": [
    "non_bots = df.filter(pl.col(\"bot\") == False)\n",
    "non_bots.select([\"verifications_count\", \"following_count\", \"followers_count\", \"recasts_count\", \"likes_count\", \"total_casts_count\", \"reply_casts_count\", \"casts_count\"]).describe()"
   ]
  },
  {
   "cell_type": "code",
   "execution_count": 27,
   "id": "934b819d-5def-4398-8394-e8b8293c8dc0",
   "metadata": {},
   "outputs": [
    {
     "data": {
      "text/html": [
       "<div><style>\n",
       ".dataframe > thead > tr,\n",
       ".dataframe > tbody > tr {\n",
       "  text-align: right;\n",
       "  white-space: pre-wrap;\n",
       "}\n",
       "</style>\n",
       "<small>shape: (1, 15)</small><table border=\"1\" class=\"dataframe\"><thead><tr><th>created_at</th><th>updated_at</th><th>custody_address</th><th>registered_at</th><th>fid</th><th>verifications_count</th><th>following_count</th><th>followers_count</th><th>recasts_count</th><th>likes_count</th><th>total_casts_count</th><th>reply_casts_count</th><th>casts_count</th><th>bot</th><th>text</th></tr><tr><td>datetime[ns]</td><td>datetime[ns]</td><td>binary</td><td>datetime[ns, UTC]</td><td>i64</td><td>u32</td><td>u32</td><td>u32</td><td>u32</td><td>u32</td><td>u32</td><td>u32</td><td>u32</td><td>bool</td><td>str</td></tr></thead><tbody><tr><td>2024-03-21 13:29:59.967370</td><td>2024-06-08 03:51:29.207</td><td>b&quot;MC~\\xdf\\xa2h\\xf3pj\\xa2K;\\xe8C\\x8b\\x0f\\xf3\\xc8\\xf2f&quot;</td><td>2024-03-21 13:29:51 UTC</td><td>400242</td><td>1</td><td>73</td><td>4024</td><td>1</td><td>1</td><td>100188</td><td>0</td><td>100188</td><td>true</td><td>&quot;Bot or Not? Someone checked :\n",
       "\n",
       "This user casts like a bot.\n",
       "\n",
       "Want to check someone else? Install the cast action below.&quot;</td></tr></tbody></table></div>"
      ],
      "text/plain": [
       "shape: (1, 15)\n",
       "┌────────────┬────────────┬────────────┬────────────┬───┬───────────┬───────────┬──────┬───────────┐\n",
       "│ created_at ┆ updated_at ┆ custody_ad ┆ registered ┆ … ┆ reply_cas ┆ casts_cou ┆ bot  ┆ text      │\n",
       "│ ---        ┆ ---        ┆ dress      ┆ _at        ┆   ┆ ts_count  ┆ nt        ┆ ---  ┆ ---       │\n",
       "│ datetime[n ┆ datetime[n ┆ ---        ┆ ---        ┆   ┆ ---       ┆ ---       ┆ bool ┆ str       │\n",
       "│ s]         ┆ s]         ┆ binary     ┆ datetime[n ┆   ┆ u32       ┆ u32       ┆      ┆           │\n",
       "│            ┆            ┆            ┆ s, UTC]    ┆   ┆           ┆           ┆      ┆           │\n",
       "╞════════════╪════════════╪════════════╪════════════╪═══╪═══════════╪═══════════╪══════╪═══════════╡\n",
       "│ 2024-03-21 ┆ 2024-06-08 ┆ b\"MC~\\xdf\\ ┆ 2024-03-21 ┆ … ┆ 0         ┆ 100188    ┆ true ┆ Bot or    │\n",
       "│ 13:29:59.9 ┆ 03:51:29.2 ┆ xa2h\\xf3pj ┆ 13:29:51   ┆   ┆           ┆           ┆      ┆ Not?      │\n",
       "│ 67370      ┆ 07         ┆ \\xa2K;\\xe8 ┆ UTC        ┆   ┆           ┆           ┆      ┆ Someone   │\n",
       "│            ┆            ┆ C\\x8b\\x0f\\ ┆            ┆   ┆           ┆           ┆      ┆ checked : │\n",
       "│            ┆            ┆ xf3\\xc8\\xf ┆            ┆   ┆           ┆           ┆      ┆           │\n",
       "│            ┆            ┆ 2f\"        ┆            ┆   ┆           ┆           ┆      ┆ This user │\n",
       "│            ┆            ┆            ┆            ┆   ┆           ┆           ┆      ┆ casts     │\n",
       "│            ┆            ┆            ┆            ┆   ┆           ┆           ┆      ┆ like a    │\n",
       "│            ┆            ┆            ┆            ┆   ┆           ┆           ┆      ┆ bot.      │\n",
       "│            ┆            ┆            ┆            ┆   ┆           ┆           ┆      ┆           │\n",
       "│            ┆            ┆            ┆            ┆   ┆           ┆           ┆      ┆ Want to   │\n",
       "│            ┆            ┆            ┆            ┆   ┆           ┆           ┆      ┆ check     │\n",
       "│            ┆            ┆            ┆            ┆   ┆           ┆           ┆      ┆ someone   │\n",
       "│            ┆            ┆            ┆            ┆   ┆           ┆           ┆      ┆ else?     │\n",
       "│            ┆            ┆            ┆            ┆   ┆           ┆           ┆      ┆ Install   │\n",
       "│            ┆            ┆            ┆            ┆   ┆           ┆           ┆      ┆ the cast  │\n",
       "│            ┆            ┆            ┆            ┆   ┆           ┆           ┆      ┆ action    │\n",
       "│            ┆            ┆            ┆            ┆   ┆           ┆           ┆      ┆ below.    │\n",
       "└────────────┴────────────┴────────────┴────────────┴───┴───────────┴───────────┴──────┴───────────┘"
      ]
     },
     "execution_count": 27,
     "metadata": {},
     "output_type": "execute_result"
    }
   ],
   "source": [
    "max_casts = df.select(pl.col(\"casts_count\").max()).item()\n",
    "max_casts_row = df.filter(pl.col(\"casts_count\") == max_casts)\n",
    "max_casts_row"
   ]
  },
  {
   "cell_type": "code",
   "execution_count": 28,
   "id": "d6e699a6-5fd6-4283-bdf2-35d4eb35eb31",
   "metadata": {},
   "outputs": [
    {
     "data": {
      "text/html": [
       "<div><style>\n",
       ".dataframe > thead > tr,\n",
       ".dataframe > tbody > tr {\n",
       "  text-align: right;\n",
       "  white-space: pre-wrap;\n",
       "}\n",
       "</style>\n",
       "<small>shape: (1, 7)</small><table border=\"1\" class=\"dataframe\"><thead><tr><th>created_at</th><th>updated_at</th><th>custody_address</th><th>expires_at</th><th>fid</th><th>deleted_at</th><th>fname</th></tr><tr><td>datetime[ns]</td><td>datetime[ns]</td><td>binary</td><td>datetime[ns]</td><td>i64</td><td>datetime[ns]</td><td>str</td></tr></thead><tbody><tr><td>2024-03-21 13:30:10.577100</td><td>2024-06-08 03:51:29.325</td><td>b&quot;MC~\\xdf\\xa2h\\xf3pj\\xa2K;\\xe8C\\x8b\\x0f\\xf3\\xc8\\xf2f&quot;</td><td>null</td><td>400242</td><td>null</td><td>&quot;toka&quot;</td></tr></tbody></table></div>"
      ],
      "text/plain": [
       "shape: (1, 7)\n",
       "┌─────────────────┬────────────────┬────────────────┬──────────────┬────────┬──────────────┬───────┐\n",
       "│ created_at      ┆ updated_at     ┆ custody_addres ┆ expires_at   ┆ fid    ┆ deleted_at   ┆ fname │\n",
       "│ ---             ┆ ---            ┆ s              ┆ ---          ┆ ---    ┆ ---          ┆ ---   │\n",
       "│ datetime[ns]    ┆ datetime[ns]   ┆ ---            ┆ datetime[ns] ┆ i64    ┆ datetime[ns] ┆ str   │\n",
       "│                 ┆                ┆ binary         ┆              ┆        ┆              ┆       │\n",
       "╞═════════════════╪════════════════╪════════════════╪══════════════╪════════╪══════════════╪═══════╡\n",
       "│ 2024-03-21      ┆ 2024-06-08     ┆ b\"MC~\\xdf\\xa2h ┆ null         ┆ 400242 ┆ null         ┆ toka  │\n",
       "│ 13:30:10.577100 ┆ 03:51:29.325   ┆ \\xf3pj\\xa2K;\\x ┆              ┆        ┆              ┆       │\n",
       "│                 ┆                ┆ e8C\\x8b\\x0f\\xf ┆              ┆        ┆              ┆       │\n",
       "│                 ┆                ┆ 3\\xc8\\xf2f\"    ┆              ┆        ┆              ┆       │\n",
       "└─────────────────┴────────────────┴────────────────┴──────────────┴────────┴──────────────┴───────┘"
      ]
     },
     "execution_count": 28,
     "metadata": {},
     "output_type": "execute_result"
    }
   ],
   "source": [
    "fnames_df.filter(pl.col('fid') == 400242)"
   ]
  },
  {
   "cell_type": "code",
   "execution_count": 49,
   "id": "35938ca6-74af-45bc-88cc-d5e9265d8420",
   "metadata": {},
   "outputs": [
    {
     "data": {
      "text/html": [
       "<div><style>\n",
       ".dataframe > thead > tr,\n",
       ".dataframe > tbody > tr {\n",
       "  text-align: right;\n",
       "  white-space: pre-wrap;\n",
       "}\n",
       "</style>\n",
       "<small>shape: (1, 15)</small><table border=\"1\" class=\"dataframe\"><thead><tr><th>created_at</th><th>updated_at</th><th>custody_address</th><th>registered_at</th><th>fid</th><th>verifications_count</th><th>following_count</th><th>followers_count</th><th>recasts_count</th><th>likes_count</th><th>total_casts_count</th><th>reply_casts_count</th><th>casts_count</th><th>bot</th><th>text</th></tr><tr><td>datetime[ns]</td><td>datetime[ns]</td><td>binary</td><td>datetime[ns, UTC]</td><td>i64</td><td>u32</td><td>u32</td><td>u32</td><td>u32</td><td>u32</td><td>u32</td><td>u32</td><td>u32</td><td>bool</td><td>str</td></tr></thead><tbody><tr><td>2024-03-21 13:29:59.967370</td><td>2024-06-08 03:51:29.207</td><td>b&quot;MC~\\xdf\\xa2h\\xf3pj\\xa2K;\\xe8C\\x8b\\x0f\\xf3\\xc8\\xf2f&quot;</td><td>2024-03-21 13:29:51 UTC</td><td>400242</td><td>1</td><td>73</td><td>4024</td><td>1</td><td>1</td><td>100188</td><td>0</td><td>100188</td><td>true</td><td>&quot;Bot or Not? Someone checked :\n",
       "\n",
       "This user casts like a bot.\n",
       "\n",
       "Want to check someone else? Install the cast action below.&quot;</td></tr></tbody></table></div>"
      ],
      "text/plain": [
       "shape: (1, 15)\n",
       "┌────────────┬────────────┬────────────┬────────────┬───┬───────────┬───────────┬──────┬───────────┐\n",
       "│ created_at ┆ updated_at ┆ custody_ad ┆ registered ┆ … ┆ reply_cas ┆ casts_cou ┆ bot  ┆ text      │\n",
       "│ ---        ┆ ---        ┆ dress      ┆ _at        ┆   ┆ ts_count  ┆ nt        ┆ ---  ┆ ---       │\n",
       "│ datetime[n ┆ datetime[n ┆ ---        ┆ ---        ┆   ┆ ---       ┆ ---       ┆ bool ┆ str       │\n",
       "│ s]         ┆ s]         ┆ binary     ┆ datetime[n ┆   ┆ u32       ┆ u32       ┆      ┆           │\n",
       "│            ┆            ┆            ┆ s, UTC]    ┆   ┆           ┆           ┆      ┆           │\n",
       "╞════════════╪════════════╪════════════╪════════════╪═══╪═══════════╪═══════════╪══════╪═══════════╡\n",
       "│ 2024-03-21 ┆ 2024-06-08 ┆ b\"MC~\\xdf\\ ┆ 2024-03-21 ┆ … ┆ 0         ┆ 100188    ┆ true ┆ Bot or    │\n",
       "│ 13:29:59.9 ┆ 03:51:29.2 ┆ xa2h\\xf3pj ┆ 13:29:51   ┆   ┆           ┆           ┆      ┆ Not?      │\n",
       "│ 67370      ┆ 07         ┆ \\xa2K;\\xe8 ┆ UTC        ┆   ┆           ┆           ┆      ┆ Someone   │\n",
       "│            ┆            ┆ C\\x8b\\x0f\\ ┆            ┆   ┆           ┆           ┆      ┆ checked : │\n",
       "│            ┆            ┆ xf3\\xc8\\xf ┆            ┆   ┆           ┆           ┆      ┆           │\n",
       "│            ┆            ┆ 2f\"        ┆            ┆   ┆           ┆           ┆      ┆ This user │\n",
       "│            ┆            ┆            ┆            ┆   ┆           ┆           ┆      ┆ casts     │\n",
       "│            ┆            ┆            ┆            ┆   ┆           ┆           ┆      ┆ like a    │\n",
       "│            ┆            ┆            ┆            ┆   ┆           ┆           ┆      ┆ bot.      │\n",
       "│            ┆            ┆            ┆            ┆   ┆           ┆           ┆      ┆           │\n",
       "│            ┆            ┆            ┆            ┆   ┆           ┆           ┆      ┆ Want to   │\n",
       "│            ┆            ┆            ┆            ┆   ┆           ┆           ┆      ┆ check     │\n",
       "│            ┆            ┆            ┆            ┆   ┆           ┆           ┆      ┆ someone   │\n",
       "│            ┆            ┆            ┆            ┆   ┆           ┆           ┆      ┆ else?     │\n",
       "│            ┆            ┆            ┆            ┆   ┆           ┆           ┆      ┆ Install   │\n",
       "│            ┆            ┆            ┆            ┆   ┆           ┆           ┆      ┆ the cast  │\n",
       "│            ┆            ┆            ┆            ┆   ┆           ┆           ┆      ┆ action    │\n",
       "│            ┆            ┆            ┆            ┆   ┆           ┆           ┆      ┆ below.    │\n",
       "└────────────┴────────────┴────────────┴────────────┴───┴───────────┴───────────┴──────┴───────────┘"
      ]
     },
     "execution_count": 49,
     "metadata": {},
     "output_type": "execute_result"
    }
   ],
   "source": [
    "df.filter(pl.col('fid') == 400242)"
   ]
  },
  {
   "cell_type": "code",
   "execution_count": 50,
   "id": "fce0665c-0219-4786-9ab6-7bbcce15c532",
   "metadata": {},
   "outputs": [
    {
     "data": {
      "text/html": [
       "<div><style>\n",
       ".dataframe > thead > tr,\n",
       ".dataframe > tbody > tr {\n",
       "  text-align: right;\n",
       "  white-space: pre-wrap;\n",
       "}\n",
       "</style>\n",
       "<small>shape: (1, 15)</small><table border=\"1\" class=\"dataframe\"><thead><tr><th>created_at</th><th>updated_at</th><th>custody_address</th><th>registered_at</th><th>fid</th><th>verifications_count</th><th>following_count</th><th>followers_count</th><th>recasts_count</th><th>likes_count</th><th>total_casts_count</th><th>reply_casts_count</th><th>casts_count</th><th>bot</th><th>text</th></tr><tr><td>datetime[ns]</td><td>datetime[ns]</td><td>binary</td><td>datetime[ns, UTC]</td><td>i64</td><td>u32</td><td>u32</td><td>u32</td><td>u32</td><td>u32</td><td>u32</td><td>u32</td><td>u32</td><td>bool</td><td>str</td></tr></thead><tbody><tr><td>2023-09-05 23:09:12.498959</td><td>2024-06-07 16:48:55.476</td><td>b&quot;\\x0d\\xa3\\xe9\\x9c\\xb6\\xc3\\xd5QA4\\xab\\xbd%ed=\\x0a\\xd5\\xaf\\xf6&quot;</td><td>2023-11-07 19:52:23 UTC</td><td>880</td><td>2</td><td>3804</td><td>71974</td><td>6606</td><td>13642</td><td>36638</td><td>14655</td><td>21983</td><td>false</td><td>&quot;Bot or Not? Someone checked :\n",
       "Likely not a bot. Casts: tech, random, links&quot;</td></tr></tbody></table></div>"
      ],
      "text/plain": [
       "shape: (1, 15)\n",
       "┌────────────┬────────────┬────────────┬───────────┬───┬───────────┬───────────┬───────┬───────────┐\n",
       "│ created_at ┆ updated_at ┆ custody_ad ┆ registere ┆ … ┆ reply_cas ┆ casts_cou ┆ bot   ┆ text      │\n",
       "│ ---        ┆ ---        ┆ dress      ┆ d_at      ┆   ┆ ts_count  ┆ nt        ┆ ---   ┆ ---       │\n",
       "│ datetime[n ┆ datetime[n ┆ ---        ┆ ---       ┆   ┆ ---       ┆ ---       ┆ bool  ┆ str       │\n",
       "│ s]         ┆ s]         ┆ binary     ┆ datetime[ ┆   ┆ u32       ┆ u32       ┆       ┆           │\n",
       "│            ┆            ┆            ┆ ns, UTC]  ┆   ┆           ┆           ┆       ┆           │\n",
       "╞════════════╪════════════╪════════════╪═══════════╪═══╪═══════════╪═══════════╪═══════╪═══════════╡\n",
       "│ 2023-09-05 ┆ 2024-06-07 ┆ b\"\\x0d\\xa3 ┆ 2023-11-0 ┆ … ┆ 14655     ┆ 21983     ┆ false ┆ Bot or    │\n",
       "│ 23:09:12.4 ┆ 16:48:55.4 ┆ \\xe9\\x9c\\x ┆ 7         ┆   ┆           ┆           ┆       ┆ Not?      │\n",
       "│ 98959      ┆ 76         ┆ b6\\xc3\\xd5 ┆ 19:52:23  ┆   ┆           ┆           ┆       ┆ Someone   │\n",
       "│            ┆            ┆ QA4\\xab\\xb ┆ UTC       ┆   ┆           ┆           ┆       ┆ checked : │\n",
       "│            ┆            ┆ d%ed=\\x0a\\ ┆           ┆   ┆           ┆           ┆       ┆ Likely    │\n",
       "│            ┆            ┆ xd5\\xaf\\xf ┆           ┆   ┆           ┆           ┆       ┆ not a     │\n",
       "│            ┆            ┆ 6\"         ┆           ┆   ┆           ┆           ┆       ┆ bot.      │\n",
       "│            ┆            ┆            ┆           ┆   ┆           ┆           ┆       ┆ Casts:    │\n",
       "│            ┆            ┆            ┆           ┆   ┆           ┆           ┆       ┆ tech,     │\n",
       "│            ┆            ┆            ┆           ┆   ┆           ┆           ┆       ┆ random,   │\n",
       "│            ┆            ┆            ┆           ┆   ┆           ┆           ┆       ┆ links     │\n",
       "└────────────┴────────────┴────────────┴───────────┴───┴───────────┴───────────┴───────┴───────────┘"
      ]
     },
     "execution_count": 50,
     "metadata": {},
     "output_type": "execute_result"
    }
   ],
   "source": [
    "max_casts = non_bots.select(pl.col(\"casts_count\").max()).item()\n",
    "max_casts_row = non_bots.filter(pl.col(\"casts_count\") == max_casts)\n",
    "max_casts_row"
   ]
  },
  {
   "cell_type": "code",
   "execution_count": 51,
   "id": "48b11020-6242-4679-81e6-048c7aa2a087",
   "metadata": {},
   "outputs": [
    {
     "data": {
      "text/html": [
       "<div><style>\n",
       ".dataframe > thead > tr,\n",
       ".dataframe > tbody > tr {\n",
       "  text-align: right;\n",
       "  white-space: pre-wrap;\n",
       "}\n",
       "</style>\n",
       "<small>shape: (8, 7)</small><table border=\"1\" class=\"dataframe\"><thead><tr><th>created_at</th><th>updated_at</th><th>custody_address</th><th>expires_at</th><th>fid</th><th>deleted_at</th><th>fname</th></tr><tr><td>datetime[ns]</td><td>datetime[ns]</td><td>binary</td><td>datetime[ns]</td><td>i64</td><td>datetime[ns]</td><td>str</td></tr></thead><tbody><tr><td>2023-09-05 23:09:12.535528</td><td>2024-06-07 16:49:01.645</td><td>b&quot;\\x0d\\xa3\\xe9\\x9c\\xb6\\xc3\\xd5QA4\\xab\\xbd%ed=\\x0a\\xd5\\xaf\\xf6&quot;</td><td>null</td><td>880</td><td>null</td><td>&quot;alexanderchopan&quot;</td></tr><tr><td>2023-09-05 23:09:12.537781</td><td>2024-06-07 16:49:02.313</td><td>b&quot;/`\\xd2\\xbb\\x84\\xeb\\x8d\\xf6\\x95\\x1fr\\x15\\xef\\x03^\\xf0R\\xba&#x27;%&quot;</td><td>null</td><td>880</td><td>null</td><td>&quot;smartprofiles.eth&quot;</td></tr><tr><td>2023-09-05 23:09:12.539471</td><td>2024-06-07 16:49:02.458</td><td>b&quot;/`\\xd2\\xbb\\x84\\xeb\\x8d\\xf6\\x95\\x1fr\\x15\\xef\\x03^\\xf0R\\xba&#x27;%&quot;</td><td>null</td><td>880</td><td>null</td><td>&quot;alexanderchopan.eth&quot;</td></tr><tr><td>2023-09-05 23:09:12.541979</td><td>2024-06-07 16:49:02.693</td><td>b&quot;/`\\xd2\\xbb\\x84\\xeb\\x8d\\xf6\\x95\\x1fr\\x15\\xef\\x03^\\xf0R\\xba&#x27;%&quot;</td><td>null</td><td>880</td><td>null</td><td>&quot;chopan.eth&quot;</td></tr><tr><td>2023-09-05 23:09:12.543671</td><td>2024-06-07 16:49:02.810</td><td>b&quot;/`\\xd2\\xbb\\x84\\xeb\\x8d\\xf6\\x95\\x1fr\\x15\\xef\\x03^\\xf0R\\xba&#x27;%&quot;</td><td>null</td><td>880</td><td>null</td><td>&quot;mofn.eth&quot;</td></tr><tr><td>2023-09-05 23:09:12.547286</td><td>2024-06-07 16:49:02.872</td><td>b&quot;/`\\xd2\\xbb\\x84\\xeb\\x8d\\xf6\\x95\\x1fr\\x15\\xef\\x03^\\xf0R\\xba&#x27;%&quot;</td><td>null</td><td>880</td><td>null</td><td>&quot;secp256k1.eth&quot;</td></tr><tr><td>2023-09-05 23:09:12.549682</td><td>2024-06-07 16:49:02.889</td><td>b&quot;/`\\xd2\\xbb\\x84\\xeb\\x8d\\xf6\\x95\\x1fr\\x15\\xef\\x03^\\xf0R\\xba&#x27;%&quot;</td><td>null</td><td>880</td><td>null</td><td>&quot;sessionkeys.eth&quot;</td></tr><tr><td>2023-09-05 23:09:12.551311</td><td>2024-06-07 16:49:02.979</td><td>b&quot;/`\\xd2\\xbb\\x84\\xeb\\x8d\\xf6\\x95\\x1fr\\x15\\xef\\x03^\\xf0R\\xba&#x27;%&quot;</td><td>null</td><td>880</td><td>null</td><td>&quot;accountless.eth&quot;</td></tr></tbody></table></div>"
      ],
      "text/plain": [
       "shape: (8, 7)\n",
       "┌───────────────┬───────────────┬───────────────┬──────────────┬─────┬──────────────┬──────────────┐\n",
       "│ created_at    ┆ updated_at    ┆ custody_addre ┆ expires_at   ┆ fid ┆ deleted_at   ┆ fname        │\n",
       "│ ---           ┆ ---           ┆ ss            ┆ ---          ┆ --- ┆ ---          ┆ ---          │\n",
       "│ datetime[ns]  ┆ datetime[ns]  ┆ ---           ┆ datetime[ns] ┆ i64 ┆ datetime[ns] ┆ str          │\n",
       "│               ┆               ┆ binary        ┆              ┆     ┆              ┆              │\n",
       "╞═══════════════╪═══════════════╪═══════════════╪══════════════╪═════╪══════════════╪══════════════╡\n",
       "│ 2023-09-05    ┆ 2024-06-07    ┆ b\"\\x0d\\xa3\\xe ┆ null         ┆ 880 ┆ null         ┆ alexandercho │\n",
       "│ 23:09:12.5355 ┆ 16:49:01.645  ┆ 9\\x9c\\xb6\\xc3 ┆              ┆     ┆              ┆ pan          │\n",
       "│ 28            ┆               ┆ \\xd5QA4\\xab\\x ┆              ┆     ┆              ┆              │\n",
       "│               ┆               ┆ bd%ed=\\x0a\\xd ┆              ┆     ┆              ┆              │\n",
       "│               ┆               ┆ 5\\xaf\\xf6\"    ┆              ┆     ┆              ┆              │\n",
       "│ 2023-09-05    ┆ 2024-06-07    ┆ b\"/`\\xd2\\xbb\\ ┆ null         ┆ 880 ┆ null         ┆ smartprofile │\n",
       "│ 23:09:12.5377 ┆ 16:49:02.313  ┆ x84\\xeb\\x8d\\x ┆              ┆     ┆              ┆ s.eth        │\n",
       "│ 81            ┆               ┆ f6\\x95\\x1fr\\x ┆              ┆     ┆              ┆              │\n",
       "│               ┆               ┆ 15\\xef\\x03^\\x ┆              ┆     ┆              ┆              │\n",
       "│               ┆               ┆ f0R\\xba'%\"    ┆              ┆     ┆              ┆              │\n",
       "│ 2023-09-05    ┆ 2024-06-07    ┆ b\"/`\\xd2\\xbb\\ ┆ null         ┆ 880 ┆ null         ┆ alexandercho │\n",
       "│ 23:09:12.5394 ┆ 16:49:02.458  ┆ x84\\xeb\\x8d\\x ┆              ┆     ┆              ┆ pan.eth      │\n",
       "│ 71            ┆               ┆ f6\\x95\\x1fr\\x ┆              ┆     ┆              ┆              │\n",
       "│               ┆               ┆ 15\\xef\\x03^\\x ┆              ┆     ┆              ┆              │\n",
       "│               ┆               ┆ f0R\\xba'%\"    ┆              ┆     ┆              ┆              │\n",
       "│ 2023-09-05    ┆ 2024-06-07    ┆ b\"/`\\xd2\\xbb\\ ┆ null         ┆ 880 ┆ null         ┆ chopan.eth   │\n",
       "│ 23:09:12.5419 ┆ 16:49:02.693  ┆ x84\\xeb\\x8d\\x ┆              ┆     ┆              ┆              │\n",
       "│ 79            ┆               ┆ f6\\x95\\x1fr\\x ┆              ┆     ┆              ┆              │\n",
       "│               ┆               ┆ 15\\xef\\x03^\\x ┆              ┆     ┆              ┆              │\n",
       "│               ┆               ┆ f0R\\xba'%\"    ┆              ┆     ┆              ┆              │\n",
       "│ 2023-09-05    ┆ 2024-06-07    ┆ b\"/`\\xd2\\xbb\\ ┆ null         ┆ 880 ┆ null         ┆ mofn.eth     │\n",
       "│ 23:09:12.5436 ┆ 16:49:02.810  ┆ x84\\xeb\\x8d\\x ┆              ┆     ┆              ┆              │\n",
       "│ 71            ┆               ┆ f6\\x95\\x1fr\\x ┆              ┆     ┆              ┆              │\n",
       "│               ┆               ┆ 15\\xef\\x03^\\x ┆              ┆     ┆              ┆              │\n",
       "│               ┆               ┆ f0R\\xba'%\"    ┆              ┆     ┆              ┆              │\n",
       "│ 2023-09-05    ┆ 2024-06-07    ┆ b\"/`\\xd2\\xbb\\ ┆ null         ┆ 880 ┆ null         ┆ secp256k1.et │\n",
       "│ 23:09:12.5472 ┆ 16:49:02.872  ┆ x84\\xeb\\x8d\\x ┆              ┆     ┆              ┆ h            │\n",
       "│ 86            ┆               ┆ f6\\x95\\x1fr\\x ┆              ┆     ┆              ┆              │\n",
       "│               ┆               ┆ 15\\xef\\x03^\\x ┆              ┆     ┆              ┆              │\n",
       "│               ┆               ┆ f0R\\xba'%\"    ┆              ┆     ┆              ┆              │\n",
       "│ 2023-09-05    ┆ 2024-06-07    ┆ b\"/`\\xd2\\xbb\\ ┆ null         ┆ 880 ┆ null         ┆ sessionkeys. │\n",
       "│ 23:09:12.5496 ┆ 16:49:02.889  ┆ x84\\xeb\\x8d\\x ┆              ┆     ┆              ┆ eth          │\n",
       "│ 82            ┆               ┆ f6\\x95\\x1fr\\x ┆              ┆     ┆              ┆              │\n",
       "│               ┆               ┆ 15\\xef\\x03^\\x ┆              ┆     ┆              ┆              │\n",
       "│               ┆               ┆ f0R\\xba'%\"    ┆              ┆     ┆              ┆              │\n",
       "│ 2023-09-05    ┆ 2024-06-07    ┆ b\"/`\\xd2\\xbb\\ ┆ null         ┆ 880 ┆ null         ┆ accountless. │\n",
       "│ 23:09:12.5513 ┆ 16:49:02.979  ┆ x84\\xeb\\x8d\\x ┆              ┆     ┆              ┆ eth          │\n",
       "│ 11            ┆               ┆ f6\\x95\\x1fr\\x ┆              ┆     ┆              ┆              │\n",
       "│               ┆               ┆ 15\\xef\\x03^\\x ┆              ┆     ┆              ┆              │\n",
       "│               ┆               ┆ f0R\\xba'%\"    ┆              ┆     ┆              ┆              │\n",
       "└───────────────┴───────────────┴───────────────┴──────────────┴─────┴──────────────┴──────────────┘"
      ]
     },
     "execution_count": 51,
     "metadata": {},
     "output_type": "execute_result"
    }
   ],
   "source": [
    "fnames_df.filter(pl.col('fid') == 880)\n",
    "# https://warpcast.com/accountless.eth"
   ]
  }
 ],
 "metadata": {
  "kernelspec": {
   "display_name": "farcaster-kernel",
   "language": "python",
   "name": "farcaster-kernel"
  },
  "language_info": {
   "codemirror_mode": {
    "name": "ipython",
    "version": 3
   },
   "file_extension": ".py",
   "mimetype": "text/x-python",
   "name": "python",
   "nbconvert_exporter": "python",
   "pygments_lexer": "ipython3",
   "version": "3.13.0"
  }
 },
 "nbformat": 4,
 "nbformat_minor": 5
}
