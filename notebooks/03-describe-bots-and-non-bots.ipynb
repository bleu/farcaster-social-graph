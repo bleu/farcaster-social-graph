{
 "cells": [
  {
   "cell_type": "code",
   "execution_count": null,
   "id": "73ba21ba-7e99-4537-8a75-719b0d0b51fd",
   "metadata": {},
   "outputs": [],
   "source": [
    "import polars as pl\n",
    "from hashlib import sha256\n",
    "import os\n",
    "import json\n",
    "from urllib.parse import urlparse, parse_qs\n",
    "pl.Config.set_fmt_str_lengths(400)\n"
   ]
  },
  {
   "cell_type": "code",
   "execution_count": null,
   "id": "d3257d2b-2112-489e-90e9-652512c7af6d",
   "metadata": {},
   "outputs": [],
   "source": [
    "DATA_PATH = os.getenv(\"DATA_PATH\", \"\")"
   ]
  },
  {
   "cell_type": "code",
   "execution_count": null,
   "id": "e147cd7b-dead-4c6c-87a7-5a4ac28bb530",
   "metadata": {},
   "outputs": [],
   "source": [
    "full_df = pl.read_parquet(f\"{DATA_PATH}/interim/aggregated_links_statistics.parquet\")\n",
    "bot_or_not_df = pl.read_parquet(f\"{DATA_PATH}/interim/bot_or_not_checks.parquet\")\n",
    "fnames_df = pl.read_parquet(f\"{DATA_PATH}/raw/farcaster-fnames-0-1730134800.parquet\")"
   ]
  },
  {
   "cell_type": "code",
   "execution_count": null,
   "id": "fd4a304d-0238-4c4d-b956-b4745ac12569",
   "metadata": {},
   "outputs": [],
   "source": [
    "full_df"
   ]
  },
  {
   "cell_type": "code",
   "execution_count": null,
   "id": "5ae1c2c6-4ca3-4bbe-86c1-cec08cc9f5a6",
   "metadata": {},
   "outputs": [],
   "source": [
    "bot_or_not_df"
   ]
  },
  {
   "cell_type": "code",
   "execution_count": null,
   "id": "8c36982a-41e5-4150-9943-184745626448",
   "metadata": {},
   "outputs": [],
   "source": [
    "df = full_df.join(bot_or_not_df, on=\"fid\", how=\"inner\")"
   ]
  },
  {
   "cell_type": "code",
   "execution_count": null,
   "id": "cb4f51be",
   "metadata": {},
   "outputs": [],
   "source": [
    "df"
   ]
  },
  {
   "cell_type": "code",
   "execution_count": null,
   "id": "83a1f88f-77f5-41c0-9bf0-1beb2ac6c20e",
   "metadata": {},
   "outputs": [],
   "source": [
    "df.write_parquet(f\"{DATA_PATH}/interim/bot_or_not_with_info.parquet\")"
   ]
  },
  {
   "cell_type": "code",
   "execution_count": null,
   "id": "d6675402-796a-4ecd-ab22-1caa06cdb7fb",
   "metadata": {},
   "outputs": [],
   "source": [
    "bots = df.filter(pl.col(\"bot\") == True)\n",
    "bots.select([\"verifications_count\", \"following_count\", \"followers_count\", \"recasts_count\", \"likes_count\", \"total_casts_count\", \"reply_casts_count\", \"casts_count\"]).describe()"
   ]
  },
  {
   "cell_type": "code",
   "execution_count": null,
   "id": "0bac68bb-9541-444a-897f-f0b91ac4b3af",
   "metadata": {},
   "outputs": [],
   "source": [
    "non_bots = df.filter(pl.col(\"bot\") == False)\n",
    "non_bots.select([\"verifications_count\", \"following_count\", \"followers_count\", \"recasts_count\", \"likes_count\", \"total_casts_count\", \"reply_casts_count\", \"casts_count\"]).describe()"
   ]
  },
  {
   "cell_type": "code",
   "execution_count": null,
   "id": "934b819d-5def-4398-8394-e8b8293c8dc0",
   "metadata": {},
   "outputs": [],
   "source": [
    "max_casts = df.select(pl.col(\"casts_count\").max()).item()\n",
    "max_casts_row = df.filter(pl.col(\"casts_count\") == max_casts)\n",
    "max_casts_row"
   ]
  },
  {
   "cell_type": "code",
   "execution_count": null,
   "id": "d6e699a6-5fd6-4283-bdf2-35d4eb35eb31",
   "metadata": {},
   "outputs": [],
   "source": [
    "fnames_df.filter(pl.col('fid') == 400242)"
   ]
  },
  {
   "cell_type": "code",
   "execution_count": null,
   "id": "35938ca6-74af-45bc-88cc-d5e9265d8420",
   "metadata": {},
   "outputs": [],
   "source": [
    "df.filter(pl.col('fid') == 400242)"
   ]
  },
  {
   "cell_type": "code",
   "execution_count": null,
   "id": "fce0665c-0219-4786-9ab6-7bbcce15c532",
   "metadata": {},
   "outputs": [],
   "source": [
    "max_casts = non_bots.select(pl.col(\"casts_count\").max()).item()\n",
    "max_casts_row = non_bots.filter(pl.col(\"casts_count\") == max_casts)\n",
    "max_casts_row"
   ]
  },
  {
   "cell_type": "code",
   "execution_count": null,
   "id": "48b11020-6242-4679-81e6-048c7aa2a087",
   "metadata": {},
   "outputs": [],
   "source": [
    "fnames_df.filter(pl.col('fid') == 880)\n",
    "# https://warpcast.com/accountless.eth"
   ]
  }
 ],
 "metadata": {
  "kernelspec": {
   "display_name": "farcaster-kernel",
   "language": "python",
   "name": "farcaster-kernel"
  },
  "language_info": {
   "codemirror_mode": {
    "name": "ipython",
    "version": 3
   },
   "file_extension": ".py",
   "mimetype": "text/x-python",
   "name": "python",
   "nbconvert_exporter": "python",
   "pygments_lexer": "ipython3",
   "version": "3.13.0"
  }
 },
 "nbformat": 4,
 "nbformat_minor": 5
}
