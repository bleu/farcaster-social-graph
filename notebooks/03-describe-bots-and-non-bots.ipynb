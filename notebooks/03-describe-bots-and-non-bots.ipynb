{
 "cells": [
  {
   "cell_type": "code",
   "execution_count": 17,
   "id": "73ba21ba-7e99-4537-8a75-719b0d0b51fd",
   "metadata": {},
   "outputs": [
    {
     "data": {
      "text/plain": [
       "polars.config.Config"
      ]
     },
     "execution_count": 17,
     "metadata": {},
     "output_type": "execute_result"
    }
   ],
   "source": [
    "import polars as pl\n",
    "from hashlib import sha256\n",
    "import os\n",
    "import json\n",
    "from urllib.parse import urlparse, parse_qs\n",
    "pl.Config.set_fmt_str_lengths(400)\n"
   ]
  },
  {
   "cell_type": "code",
   "execution_count": 18,
   "id": "d3257d2b-2112-489e-90e9-652512c7af6d",
   "metadata": {},
   "outputs": [],
   "source": [
    "DATA_PATH = os.getenv(\"DATA_PATH\", \"\")"
   ]
  },
  {
   "cell_type": "code",
   "execution_count": 19,
   "id": "e147cd7b-dead-4c6c-87a7-5a4ac28bb530",
   "metadata": {},
   "outputs": [],
   "source": [
    "full_df = pl.read_parquet(f\"{DATA_PATH}/aggregated_links_statistics.parquet\")\n",
    "bot_or_not_df = pl.read_parquet(f\"{DATA_PATH}/bot_or_not_checks.parquet\")\n",
    "fnames_df = pl.read_parquet(f\"{DATA_PATH}/farcaster-fnames-0-1727974800.parquet\")"
   ]
  },
  {
   "cell_type": "code",
   "execution_count": 20,
   "id": "fd4a304d-0238-4c4d-b956-b4745ac12569",
   "metadata": {},
   "outputs": [
    {
     "data": {
      "text/html": [
       "<div><style>\n",
       ".dataframe > thead > tr,\n",
       ".dataframe > tbody > tr {\n",
       "  text-align: right;\n",
       "  white-space: pre-wrap;\n",
       "}\n",
       "</style>\n",
       "<small>shape: (862_898, 13)</small><table border=\"1\" class=\"dataframe\"><thead><tr><th>created_at</th><th>updated_at</th><th>custody_address</th><th>registered_at</th><th>fid</th><th>verifications_count</th><th>following_count</th><th>followers_count</th><th>recasts_count</th><th>likes_count</th><th>total_casts_count</th><th>reply_casts_count</th><th>casts_count</th></tr><tr><td>datetime[ns]</td><td>datetime[ns]</td><td>binary</td><td>datetime[ns, UTC]</td><td>i64</td><td>u32</td><td>u32</td><td>u32</td><td>u32</td><td>u32</td><td>u32</td><td>u32</td><td>u32</td></tr></thead><tbody><tr><td>2023-10-13 15:07:21.731280</td><td>2024-06-05 18:09:02.020</td><td>b&quot;\\xb3\\x97\\x15\\x8b\\\\xb5\\x02\\x03\\xa5\\x91j\\x07\\x12U)\\xb1I\\xca\\xe3&lt;&quot;</td><td>2023-11-07 20:38:19 UTC</td><td>42796</td><td>0</td><td>0</td><td>1</td><td>0</td><td>0</td><td>0</td><td>0</td><td>0</td></tr><tr><td>2023-10-13 15:07:21.732119</td><td>2024-06-05 18:09:02.024</td><td>b&quot;\\xed\\x93\\xe1\\xef\\x7f+\\xef\\x9c\\x94\\x9a\\xa1\\xba\\xca\\xa8\\x9c\\x10\\xae\\xae\\x1b\\xac&quot;</td><td>2023-11-07 20:38:19 UTC</td><td>42797</td><td>0</td><td>0</td><td>2</td><td>0</td><td>0</td><td>0</td><td>0</td><td>0</td></tr><tr><td>2023-10-13 15:07:21.734257</td><td>2024-06-05 18:09:02.025</td><td>b&quot;\\xf6\\x9bv\\x99\\xd2/\\xb1\\x87z6\\x10\\xef\\x81\\xe9{\\x05\\x20\\x03\\xc5\\xac&quot;</td><td>2023-11-07 20:38:19 UTC</td><td>42798</td><td>0</td><td>0</td><td>1</td><td>0</td><td>0</td><td>0</td><td>0</td><td>0</td></tr><tr><td>2023-10-13 15:32:07.129182</td><td>2024-06-05 18:10:59.760</td><td>b&quot;\\xa1-f\\x16\\x8e\\x88\\x18\\xe8-hS\\x1d_c\\x09\\xe6\\x07/\\xc8\\xf5&quot;</td><td>2023-11-07 20:49:51 UTC</td><td>64737</td><td>0</td><td>0</td><td>1</td><td>0</td><td>0</td><td>0</td><td>0</td><td>0</td></tr><tr><td>2023-10-13 15:53:45.836242</td><td>2024-06-05 18:12:26.055</td><td>b&quot;\\x0f\\xc9\\x11\\xd1S\\xbd\\xb0*&lt;p;\\xd6RG\\xb2\\x80\\xd8\\xe6Y\\x85&quot;</td><td>2023-11-07 20:57:45 UTC</td><td>80519</td><td>0</td><td>0</td><td>0</td><td>0</td><td>0</td><td>0</td><td>0</td><td>0</td></tr><tr><td>&hellip;</td><td>&hellip;</td><td>&hellip;</td><td>&hellip;</td><td>&hellip;</td><td>&hellip;</td><td>&hellip;</td><td>&hellip;</td><td>&hellip;</td><td>&hellip;</td><td>&hellip;</td><td>&hellip;</td><td>&hellip;</td></tr><tr><td>2024-10-03 16:50:20.905845</td><td>2024-10-03 16:50:20.905845</td><td>b&quot;\\xcd\\xa7W\\xfd&lt;\\x13\\xe8\\xe7\\xc5\\xc5G\\x8e\\xdc\\x0c\\xfd\\x04&amp;,\\x8e\\x13&quot;</td><td>2024-10-03 16:50:11 UTC</td><td>862928</td><td>0</td><td>0</td><td>1</td><td>0</td><td>0</td><td>0</td><td>0</td><td>0</td></tr><tr><td>2024-10-03 16:51:01.531135</td><td>2024-10-03 16:51:01.531135</td><td>b&quot;\\xd7\\xe2(e\\x92&gt;+\\xb4\\x80\\x08\\xe7\\x8d\\x01\\xad\\x9dXJ[\\xf9\\xc6&quot;</td><td>2024-10-03 16:50:53 UTC</td><td>862929</td><td>1</td><td>21</td><td>3</td><td>19</td><td>20</td><td>10</td><td>0</td><td>10</td></tr><tr><td>2024-10-03 16:53:39.825393</td><td>2024-10-03 16:53:39.825393</td><td>b&quot;]?\\xfe\\xa0q\\xbb\\xf6?\\xa8\\xe01\\xb0M^\\xf9\\xad\\x18e\\xc3\\x18&quot;</td><td>2024-10-03 16:53:35 UTC</td><td>862930</td><td>0</td><td>0</td><td>1</td><td>0</td><td>1</td><td>0</td><td>0</td><td>0</td></tr><tr><td>2024-10-03 16:54:20.283078</td><td>2024-10-03 16:54:20.283078</td><td>b&quot;\\xfa\\xfc\\x12\\xb8\\xf3\\xc9\\xb5S8\\x87$\\xc6\\x8f\\x11\\xd1\\x8aC,\\xaa2&quot;</td><td>2024-10-03 16:54:09 UTC</td><td>862931</td><td>0</td><td>0</td><td>1</td><td>0</td><td>0</td><td>0</td><td>0</td><td>0</td></tr><tr><td>2024-10-03 16:57:42.681422</td><td>2024-10-03 16:57:42.681422</td><td>b&quot;~hL\\x07\\x82&amp;\\xbfh\\x08\\x82\\x18&quot;1H\\x1c\\x17\\xd2\\xa8w4&quot;</td><td>2024-10-03 16:57:33 UTC</td><td>862932</td><td>0</td><td>0</td><td>1</td><td>0</td><td>0</td><td>0</td><td>0</td><td>0</td></tr></tbody></table></div>"
      ],
      "text/plain": [
       "shape: (862_898, 13)\n",
       "┌───────────┬───────────┬───────────┬───────────┬───┬───────────┬───────────┬───────────┬──────────┐\n",
       "│ created_a ┆ updated_a ┆ custody_a ┆ registere ┆ … ┆ likes_cou ┆ total_cas ┆ reply_cas ┆ casts_co │\n",
       "│ t         ┆ t         ┆ ddress    ┆ d_at      ┆   ┆ nt        ┆ ts_count  ┆ ts_count  ┆ unt      │\n",
       "│ ---       ┆ ---       ┆ ---       ┆ ---       ┆   ┆ ---       ┆ ---       ┆ ---       ┆ ---      │\n",
       "│ datetime[ ┆ datetime[ ┆ binary    ┆ datetime[ ┆   ┆ u32       ┆ u32       ┆ u32       ┆ u32      │\n",
       "│ ns]       ┆ ns]       ┆           ┆ ns, UTC]  ┆   ┆           ┆           ┆           ┆          │\n",
       "╞═══════════╪═══════════╪═══════════╪═══════════╪═══╪═══════════╪═══════════╪═══════════╪══════════╡\n",
       "│ 2023-10-1 ┆ 2024-06-0 ┆ b\"\\xb3\\x9 ┆ 2023-11-0 ┆ … ┆ 0         ┆ 0         ┆ 0         ┆ 0        │\n",
       "│ 3 15:07:2 ┆ 5 18:09:0 ┆ 7\\x15\\x8b ┆ 7         ┆   ┆           ┆           ┆           ┆          │\n",
       "│ 1.731280  ┆ 2.020     ┆ \\\\xb5\\x02 ┆ 20:38:19  ┆   ┆           ┆           ┆           ┆          │\n",
       "│           ┆           ┆ \\x03\\xa5\\ ┆ UTC       ┆   ┆           ┆           ┆           ┆          │\n",
       "│           ┆           ┆ x91j\\x07\\ ┆           ┆   ┆           ┆           ┆           ┆          │\n",
       "│           ┆           ┆ x12U)\\xb1 ┆           ┆   ┆           ┆           ┆           ┆          │\n",
       "│           ┆           ┆ I\\xca\\xe3 ┆           ┆   ┆           ┆           ┆           ┆          │\n",
       "│           ┆           ┆ <\"        ┆           ┆   ┆           ┆           ┆           ┆          │\n",
       "│ 2023-10-1 ┆ 2024-06-0 ┆ b\"\\xed\\x9 ┆ 2023-11-0 ┆ … ┆ 0         ┆ 0         ┆ 0         ┆ 0        │\n",
       "│ 3 15:07:2 ┆ 5 18:09:0 ┆ 3\\xe1\\xef ┆ 7         ┆   ┆           ┆           ┆           ┆          │\n",
       "│ 1.732119  ┆ 2.024     ┆ \\x7f+\\xef ┆ 20:38:19  ┆   ┆           ┆           ┆           ┆          │\n",
       "│           ┆           ┆ \\x9c\\x94\\ ┆ UTC       ┆   ┆           ┆           ┆           ┆          │\n",
       "│           ┆           ┆ x9a\\xa1\\x ┆           ┆   ┆           ┆           ┆           ┆          │\n",
       "│           ┆           ┆ ba\\xca\\xa ┆           ┆   ┆           ┆           ┆           ┆          │\n",
       "│           ┆           ┆ 8\\x9c\\x10 ┆           ┆   ┆           ┆           ┆           ┆          │\n",
       "│           ┆           ┆ \\xae\\xae\\ ┆           ┆   ┆           ┆           ┆           ┆          │\n",
       "│           ┆           ┆ x1b\\xac\"  ┆           ┆   ┆           ┆           ┆           ┆          │\n",
       "│ 2023-10-1 ┆ 2024-06-0 ┆ b\"\\xf6\\x9 ┆ 2023-11-0 ┆ … ┆ 0         ┆ 0         ┆ 0         ┆ 0        │\n",
       "│ 3 15:07:2 ┆ 5 18:09:0 ┆ bv\\x99\\xd ┆ 7         ┆   ┆           ┆           ┆           ┆          │\n",
       "│ 1.734257  ┆ 2.025     ┆ 2/\\xb1\\x8 ┆ 20:38:19  ┆   ┆           ┆           ┆           ┆          │\n",
       "│           ┆           ┆ 7z6\\x10\\x ┆ UTC       ┆   ┆           ┆           ┆           ┆          │\n",
       "│           ┆           ┆ ef\\x81\\xe ┆           ┆   ┆           ┆           ┆           ┆          │\n",
       "│           ┆           ┆ 9{\\x05\\x2 ┆           ┆   ┆           ┆           ┆           ┆          │\n",
       "│           ┆           ┆ 0\\x03\\xc5 ┆           ┆   ┆           ┆           ┆           ┆          │\n",
       "│           ┆           ┆ \\xac\"     ┆           ┆   ┆           ┆           ┆           ┆          │\n",
       "│ 2023-10-1 ┆ 2024-06-0 ┆ b\"\\xa1-f\\ ┆ 2023-11-0 ┆ … ┆ 0         ┆ 0         ┆ 0         ┆ 0        │\n",
       "│ 3 15:32:0 ┆ 5 18:10:5 ┆ x16\\x8e\\x ┆ 7         ┆   ┆           ┆           ┆           ┆          │\n",
       "│ 7.129182  ┆ 9.760     ┆ 88\\x18\\xe ┆ 20:49:51  ┆   ┆           ┆           ┆           ┆          │\n",
       "│           ┆           ┆ 8-hS\\x1d_ ┆ UTC       ┆   ┆           ┆           ┆           ┆          │\n",
       "│           ┆           ┆ c\\x09\\xe6 ┆           ┆   ┆           ┆           ┆           ┆          │\n",
       "│           ┆           ┆ \\x07/\\xc8 ┆           ┆   ┆           ┆           ┆           ┆          │\n",
       "│           ┆           ┆ \\xf5\"     ┆           ┆   ┆           ┆           ┆           ┆          │\n",
       "│ 2023-10-1 ┆ 2024-06-0 ┆ b\"\\x0f\\xc ┆ 2023-11-0 ┆ … ┆ 0         ┆ 0         ┆ 0         ┆ 0        │\n",
       "│ 3 15:53:4 ┆ 5 18:12:2 ┆ 9\\x11\\xd1 ┆ 7         ┆   ┆           ┆           ┆           ┆          │\n",
       "│ 5.836242  ┆ 6.055     ┆ S\\xbd\\xb0 ┆ 20:57:45  ┆   ┆           ┆           ┆           ┆          │\n",
       "│           ┆           ┆ *<p;\\xd6R ┆ UTC       ┆   ┆           ┆           ┆           ┆          │\n",
       "│           ┆           ┆ G\\xb2\\x80 ┆           ┆   ┆           ┆           ┆           ┆          │\n",
       "│           ┆           ┆ \\xd8\\xe6Y ┆           ┆   ┆           ┆           ┆           ┆          │\n",
       "│           ┆           ┆ \\x85\"     ┆           ┆   ┆           ┆           ┆           ┆          │\n",
       "│ …         ┆ …         ┆ …         ┆ …         ┆ … ┆ …         ┆ …         ┆ …         ┆ …        │\n",
       "│ 2024-10-0 ┆ 2024-10-0 ┆ b\"\\xcd\\xa ┆ 2024-10-0 ┆ … ┆ 0         ┆ 0         ┆ 0         ┆ 0        │\n",
       "│ 3 16:50:2 ┆ 3 16:50:2 ┆ 7W\\xfd<\\x ┆ 3         ┆   ┆           ┆           ┆           ┆          │\n",
       "│ 0.905845  ┆ 0.905845  ┆ 13\\xe8\\xe ┆ 16:50:11  ┆   ┆           ┆           ┆           ┆          │\n",
       "│           ┆           ┆ 7\\xc5\\xc5 ┆ UTC       ┆   ┆           ┆           ┆           ┆          │\n",
       "│           ┆           ┆ G\\x8e\\xdc ┆           ┆   ┆           ┆           ┆           ┆          │\n",
       "│           ┆           ┆ \\x0c\\xfd\\ ┆           ┆   ┆           ┆           ┆           ┆          │\n",
       "│           ┆           ┆ x04&,\\x8e ┆           ┆   ┆           ┆           ┆           ┆          │\n",
       "│           ┆           ┆ \\x13\"     ┆           ┆   ┆           ┆           ┆           ┆          │\n",
       "│ 2024-10-0 ┆ 2024-10-0 ┆ b\"\\xd7\\xe ┆ 2024-10-0 ┆ … ┆ 20        ┆ 10        ┆ 0         ┆ 10       │\n",
       "│ 3 16:51:0 ┆ 3 16:51:0 ┆ 2(e\\x92>+ ┆ 3         ┆   ┆           ┆           ┆           ┆          │\n",
       "│ 1.531135  ┆ 1.531135  ┆ \\xb4\\x80\\ ┆ 16:50:53  ┆   ┆           ┆           ┆           ┆          │\n",
       "│           ┆           ┆ x08\\xe7\\x ┆ UTC       ┆   ┆           ┆           ┆           ┆          │\n",
       "│           ┆           ┆ 8d\\x01\\xa ┆           ┆   ┆           ┆           ┆           ┆          │\n",
       "│           ┆           ┆ d\\x9dXJ[\\ ┆           ┆   ┆           ┆           ┆           ┆          │\n",
       "│           ┆           ┆ xf9\\xc6\"  ┆           ┆   ┆           ┆           ┆           ┆          │\n",
       "│ 2024-10-0 ┆ 2024-10-0 ┆ b\"]?\\xfe\\ ┆ 2024-10-0 ┆ … ┆ 1         ┆ 0         ┆ 0         ┆ 0        │\n",
       "│ 3 16:53:3 ┆ 3 16:53:3 ┆ xa0q\\xbb\\ ┆ 3         ┆   ┆           ┆           ┆           ┆          │\n",
       "│ 9.825393  ┆ 9.825393  ┆ xf6?\\xa8\\ ┆ 16:53:35  ┆   ┆           ┆           ┆           ┆          │\n",
       "│           ┆           ┆ xe01\\xb0M ┆ UTC       ┆   ┆           ┆           ┆           ┆          │\n",
       "│           ┆           ┆ ^\\xf9\\xad ┆           ┆   ┆           ┆           ┆           ┆          │\n",
       "│           ┆           ┆ \\x18e\\xc3 ┆           ┆   ┆           ┆           ┆           ┆          │\n",
       "│           ┆           ┆ \\x18\"     ┆           ┆   ┆           ┆           ┆           ┆          │\n",
       "│ 2024-10-0 ┆ 2024-10-0 ┆ b\"\\xfa\\xf ┆ 2024-10-0 ┆ … ┆ 0         ┆ 0         ┆ 0         ┆ 0        │\n",
       "│ 3 16:54:2 ┆ 3 16:54:2 ┆ c\\x12\\xb8 ┆ 3         ┆   ┆           ┆           ┆           ┆          │\n",
       "│ 0.283078  ┆ 0.283078  ┆ \\xf3\\xc9\\ ┆ 16:54:09  ┆   ┆           ┆           ┆           ┆          │\n",
       "│           ┆           ┆ xb5S8\\x87 ┆ UTC       ┆   ┆           ┆           ┆           ┆          │\n",
       "│           ┆           ┆ $\\xc6\\x8f ┆           ┆   ┆           ┆           ┆           ┆          │\n",
       "│           ┆           ┆ \\x11\\xd1\\ ┆           ┆   ┆           ┆           ┆           ┆          │\n",
       "│           ┆           ┆ x8aC,\\xaa ┆           ┆   ┆           ┆           ┆           ┆          │\n",
       "│           ┆           ┆ 2\"        ┆           ┆   ┆           ┆           ┆           ┆          │\n",
       "│ 2024-10-0 ┆ 2024-10-0 ┆ b\"~hL\\x07 ┆ 2024-10-0 ┆ … ┆ 0         ┆ 0         ┆ 0         ┆ 0        │\n",
       "│ 3 16:57:4 ┆ 3 16:57:4 ┆ \\x82&\\xbf ┆ 3         ┆   ┆           ┆           ┆           ┆          │\n",
       "│ 2.681422  ┆ 2.681422  ┆ h\\x08\\x82 ┆ 16:57:33  ┆   ┆           ┆           ┆           ┆          │\n",
       "│           ┆           ┆ \\x18\"1H\\x ┆ UTC       ┆   ┆           ┆           ┆           ┆          │\n",
       "│           ┆           ┆ 1c\\x17\\xd ┆           ┆   ┆           ┆           ┆           ┆          │\n",
       "│           ┆           ┆ 2\\xa8w4\"  ┆           ┆   ┆           ┆           ┆           ┆          │\n",
       "└───────────┴───────────┴───────────┴───────────┴───┴───────────┴───────────┴───────────┴──────────┘"
      ]
     },
     "execution_count": 20,
     "metadata": {},
     "output_type": "execute_result"
    }
   ],
   "source": [
    "full_df"
   ]
  },
  {
   "cell_type": "code",
   "execution_count": 21,
   "id": "5ae1c2c6-4ca3-4bbe-86c1-cec08cc9f5a6",
   "metadata": {},
   "outputs": [
    {
     "data": {
      "text/html": [
       "<div><style>\n",
       ".dataframe > thead > tr,\n",
       ".dataframe > tbody > tr {\n",
       "  text-align: right;\n",
       "  white-space: pre-wrap;\n",
       "}\n",
       "</style>\n",
       "<small>shape: (11_847, 3)</small><table border=\"1\" class=\"dataframe\"><thead><tr><th>fid</th><th>bot</th><th>text</th></tr><tr><td>i64</td><td>bool</td><td>str</td></tr></thead><tbody><tr><td>350129</td><td>false</td><td>&quot;Bot or Not? Someone checked :\n",
       "Likely not a bot. Casts: social, games, tips&quot;</td></tr><tr><td>274</td><td>false</td><td>&quot;Bot or Not? Someone checked :\n",
       "Not a bot. Reply guy/gal: shilling $DEGEN&quot;</td></tr><tr><td>379765</td><td>false</td><td>&quot;Bot or Not? Someone checked :\n",
       "\n",
       "Not a bot. Reply guy/gal: short, generic, boring casts\n",
       "\n",
       "Want to check someone else? Install the cast action below.&quot;</td></tr><tr><td>476113</td><td>false</td><td>&quot;Bot or Not? Someone checked :\n",
       "\n",
       "Not a bot. Buildooor: 3d sippys, raffles, art, commu\n",
       "\n",
       "Want to check someone else? Install the cast action below.&quot;</td></tr><tr><td>4865</td><td>false</td><td>&quot;Bot or Not? Someone checked :\n",
       "\n",
       "Not a bot. Buildooor: crypto,nft,community,innovatio\n",
       "\n",
       "Want to check someone else? Install the cast action below.&quot;</td></tr><tr><td>&hellip;</td><td>&hellip;</td><td>&hellip;</td></tr><tr><td>269492</td><td>true</td><td>&quot;Bot or Not? Someone checked :\n",
       "\n",
       "This user casts like a bot: repetitive gm, tips, fomo, mints, links\n",
       "\n",
       "Want to check someone else? Install the cast action below.&quot;</td></tr><tr><td>445902</td><td>true</td><td>&quot;Bot or Not? Someone checked :\n",
       "\n",
       "This user replies like a bot: generic, repetitive, boring casts\n",
       "\n",
       "Want to check someone else? Install the cast action below.&quot;</td></tr><tr><td>408957</td><td>true</td><td>&quot;Bot or Not? Someone checked :\n",
       "\n",
       "This user replies like a bot: generic, random, shallow casts\n",
       "\n",
       "Want to check someone else? Install the cast action below.&quot;</td></tr><tr><td>416302</td><td>true</td><td>&quot;Bot or Not? Someone checked :\n",
       "This user casts like a bot.&quot;</td></tr><tr><td>268438</td><td>true</td><td>&quot;Bot or Not? Someone checked :\n",
       "Bot or low effort casts: begging, emojis, memes&quot;</td></tr></tbody></table></div>"
      ],
      "text/plain": [
       "shape: (11_847, 3)\n",
       "┌────────┬───────┬─────────────────────────────────────────────────────────────────────┐\n",
       "│ fid    ┆ bot   ┆ text                                                                │\n",
       "│ ---    ┆ ---   ┆ ---                                                                 │\n",
       "│ i64    ┆ bool  ┆ str                                                                 │\n",
       "╞════════╪═══════╪═════════════════════════════════════════════════════════════════════╡\n",
       "│ 350129 ┆ false ┆ Bot or Not? Someone checked :                                       │\n",
       "│        ┆       ┆ Likely not a bot. Casts: social, games, tips                        │\n",
       "│ 274    ┆ false ┆ Bot or Not? Someone checked :                                       │\n",
       "│        ┆       ┆ Not a bot. Reply guy/gal: shilling $DEGEN                           │\n",
       "│ 379765 ┆ false ┆ Bot or Not? Someone checked :                                       │\n",
       "│        ┆       ┆                                                                     │\n",
       "│        ┆       ┆ Not a bot. Reply guy/gal: short, generic, boring casts              │\n",
       "│        ┆       ┆                                                                     │\n",
       "│        ┆       ┆ Want to check someone else? Install the cast action below.          │\n",
       "│ 476113 ┆ false ┆ Bot or Not? Someone checked :                                       │\n",
       "│        ┆       ┆                                                                     │\n",
       "│        ┆       ┆ Not a bot. Buildooor: 3d sippys, raffles, art, commu                │\n",
       "│        ┆       ┆                                                                     │\n",
       "│        ┆       ┆ Want to check someone else? Install the cast action below.          │\n",
       "│ 4865   ┆ false ┆ Bot or Not? Someone checked :                                       │\n",
       "│        ┆       ┆                                                                     │\n",
       "│        ┆       ┆ Not a bot. Buildooor: crypto,nft,community,innovatio                │\n",
       "│        ┆       ┆                                                                     │\n",
       "│        ┆       ┆ Want to check someone else? Install the cast action below.          │\n",
       "│ …      ┆ …     ┆ …                                                                   │\n",
       "│ 269492 ┆ true  ┆ Bot or Not? Someone checked :                                       │\n",
       "│        ┆       ┆                                                                     │\n",
       "│        ┆       ┆ This user casts like a bot: repetitive gm, tips, fomo, mints, links │\n",
       "│        ┆       ┆                                                                     │\n",
       "│        ┆       ┆ Want to check someone else? Install the cast action below.          │\n",
       "│ 445902 ┆ true  ┆ Bot or Not? Someone checked :                                       │\n",
       "│        ┆       ┆                                                                     │\n",
       "│        ┆       ┆ This user replies like a bot: generic, repetitive, boring casts     │\n",
       "│        ┆       ┆                                                                     │\n",
       "│        ┆       ┆ Want to check someone else? Install the cast action below.          │\n",
       "│ 408957 ┆ true  ┆ Bot or Not? Someone checked :                                       │\n",
       "│        ┆       ┆                                                                     │\n",
       "│        ┆       ┆ This user replies like a bot: generic, random, shallow casts        │\n",
       "│        ┆       ┆                                                                     │\n",
       "│        ┆       ┆ Want to check someone else? Install the cast action below.          │\n",
       "│ 416302 ┆ true  ┆ Bot or Not? Someone checked :                                       │\n",
       "│        ┆       ┆ This user casts like a bot.                                         │\n",
       "│ 268438 ┆ true  ┆ Bot or Not? Someone checked :                                       │\n",
       "│        ┆       ┆ Bot or low effort casts: begging, emojis, memes                     │\n",
       "└────────┴───────┴─────────────────────────────────────────────────────────────────────┘"
      ]
     },
     "execution_count": 21,
     "metadata": {},
     "output_type": "execute_result"
    }
   ],
   "source": [
    "bot_or_not_df"
   ]
  },
  {
   "cell_type": "code",
   "execution_count": 22,
   "id": "8c36982a-41e5-4150-9943-184745626448",
   "metadata": {},
   "outputs": [],
   "source": [
    "df = full_df.join(bot_or_not_df, on=\"fid\", how=\"inner\")"
   ]
  },
  {
   "cell_type": "code",
   "execution_count": 24,
   "id": "83a1f88f-77f5-41c0-9bf0-1beb2ac6c20e",
   "metadata": {},
   "outputs": [
    {
     "data": {
      "text/html": [
       "<div><style>\n",
       ".dataframe > thead > tr,\n",
       ".dataframe > tbody > tr {\n",
       "  text-align: right;\n",
       "  white-space: pre-wrap;\n",
       "}\n",
       "</style>\n",
       "<small>shape: (11_847, 15)</small><table border=\"1\" class=\"dataframe\"><thead><tr><th>created_at</th><th>updated_at</th><th>custody_address</th><th>registered_at</th><th>fid</th><th>verifications_count</th><th>following_count</th><th>followers_count</th><th>recasts_count</th><th>likes_count</th><th>total_casts_count</th><th>reply_casts_count</th><th>casts_count</th><th>bot</th><th>text</th></tr><tr><td>datetime[ns]</td><td>datetime[ns]</td><td>binary</td><td>datetime[ns, UTC]</td><td>i64</td><td>u32</td><td>u32</td><td>u32</td><td>u32</td><td>u32</td><td>u32</td><td>u32</td><td>u32</td><td>bool</td><td>str</td></tr></thead><tbody><tr><td>2024-04-04 00:34:26.279484</td><td>2024-06-07 08:11:42.199</td><td>b&quot;\\xcb\\x1b\\xbc\\x1e\\xbd;\\xb6\\x8dz\\xe9\\xf1\\xc2\\xf0\\x1c\\x0c\\xc8\\x8a\\xf3\\xd4\\xef&quot;</td><td>2024-04-04 00:34:11 UTC</td><td>446097</td><td>1</td><td>1024</td><td>902</td><td>155</td><td>869</td><td>339</td><td>308</td><td>31</td><td>false</td><td>&quot;Bot or Not? Someone checked :\n",
       "Not a bot. Reply guy/gal: generic comments&quot;</td></tr><tr><td>2023-09-05 23:07:28.414146</td><td>2024-06-07 16:44:01.621</td><td>b&quot;k\\x0b\\xda?/\\xfe\\xd5\\xef\\xc8?\\xa8\\xc0$\\xac\\xff\\x1d\\xd4W\\x93\\xf1&quot;</td><td>2023-11-07 19:42:51 UTC</td><td>3</td><td>6</td><td>3425</td><td>484305</td><td>6280</td><td>57995</td><td>32634</td><td>24037</td><td>8597</td><td>false</td><td>&quot;Bot or Not? Someone checked :\n",
       "Not a bot. Buildooor: farcaster, warpcast, notificat&quot;</td></tr><tr><td>2023-09-05 23:07:32.549415</td><td>2024-06-07 16:44:01.625</td><td>b&quot;\\xc6\\xe3\\x00K\\x0eT\\xa9\\x1d\\xa8\\xd8z\\xce\\x80\\xb6\\xab\\xc6M#\\xe3?&quot;</td><td>2023-11-07 19:42:51 UTC</td><td>8</td><td>1</td><td>355</td><td>426833</td><td>458</td><td>3459</td><td>3795</td><td>2666</td><td>1129</td><td>false</td><td>&quot;Bot or Not? Someone checked :\n",
       "Not a bot. Buildooor: zora, mints, eclipse&quot;</td></tr><tr><td>2023-09-05 23:07:33.936715</td><td>2024-06-07 16:44:01.628</td><td>b&quot;\\xb45u\\xd5\\x8cI\\xd2\\xbe\\x88\\x0e\\x0f\\x82\\x1d\\xdfQ\\xd1\\\\x13\\xc3v&quot;</td><td>2023-11-07 19:42:51 UTC</td><td>12</td><td>2</td><td>670</td><td>387753</td><td>3584</td><td>26667</td><td>7592</td><td>6468</td><td>1124</td><td>false</td><td>&quot;Bot or Not? Someone checked :\n",
       "Not a bot. Buildooor: bountycaster, features, crypto&quot;</td></tr><tr><td>2023-09-05 23:07:28.009240</td><td>2024-06-07 16:44:01.629</td><td>b&quot;A\\x14\\xe3&gt;\\xb81\\x85\\x86I\\xea7\\x02\\xe1\\xc9\\xa2\\xdb?bdF&quot;</td><td>2023-11-07 19:42:51 UTC</td><td>2</td><td>10</td><td>1320</td><td>405256</td><td>1535</td><td>14352</td><td>8069</td><td>6454</td><td>1615</td><td>false</td><td>&quot;Bot or Not? Someone checked :\n",
       "Not a bot. Buildooor: Farcaster dev scaling&quot;</td></tr><tr><td>&hellip;</td><td>&hellip;</td><td>&hellip;</td><td>&hellip;</td><td>&hellip;</td><td>&hellip;</td><td>&hellip;</td><td>&hellip;</td><td>&hellip;</td><td>&hellip;</td><td>&hellip;</td><td>&hellip;</td><td>&hellip;</td><td>&hellip;</td><td>&hellip;</td></tr><tr><td>2024-02-19 15:34:21.408148</td><td>2024-10-02 18:33:34.503</td><td>b&quot;\\x99v\\x94}\\x8c\\xc7\\x1fMo\\x16Cf\\xbc\\x86\\x83\\xdd1:\\x84c&quot;</td><td>2024-10-02 18:33:23 UTC</td><td>361320</td><td>4</td><td>594</td><td>865</td><td>2390</td><td>2683</td><td>2534</td><td>2416</td><td>118</td><td>false</td><td>&quot;Bot or Not? Someone checked :\n",
       "Not a bot. Reply guy/gal: generic, inane, spammy&quot;</td></tr><tr><td>2024-03-20 21:02:12.707136</td><td>2024-10-03 15:33:11.612</td><td>b&quot;\\xf0\\x09\\x8dcQ\\xbb\\xf2\\xf9^\\x87\\x83mP\\x9cg\\x1f\\x8e\\xb7Y\\xba&quot;</td><td>2024-10-03 15:33:03 UTC</td><td>399306</td><td>7</td><td>273</td><td>161</td><td>26</td><td>827</td><td>404</td><td>121</td><td>283</td><td>false</td><td>&quot;Bot or Not? Someone checked :\n",
       "\n",
       "Not a bot. Casts: nouns,prop,solar light,community,thanks\n",
       "\n",
       "Want to check someone else? Install the cast action below.&quot;</td></tr><tr><td>2023-10-11 21:35:30.283588</td><td>2024-10-03 15:33:11.627</td><td>b&quot;\\x91\\xfbW\\x9b\\x02.\\x09\\xac\\x90\\xa7\\xa0\\xa4jZ(\\xb2;\\xe7v\\xa3&quot;</td><td>2024-10-03 15:33:03 UTC</td><td>21348</td><td>2</td><td>553</td><td>907</td><td>57</td><td>2743</td><td>1564</td><td>1184</td><td>380</td><td>false</td><td>&quot;Bot or Not? Someone checked :\n",
       "\n",
       "Not a bot. Casts: music, dataviz, events, random thoughts\n",
       "\n",
       "Want to check someone else? Install the cast action below.&quot;</td></tr><tr><td>2024-02-07 23:02:15.683183</td><td>2024-10-03 15:33:11.635</td><td>b&quot;o\\x1e&#x27;P\\xb40\\xc0\\xe5\\x8fS\\x9b2nfT\\xb39\\x1a\\xa0O&quot;</td><td>2024-10-03 15:33:03 UTC</td><td>320189</td><td>3</td><td>3172</td><td>2170</td><td>8136</td><td>26239</td><td>14474</td><td>10822</td><td>3652</td><td>false</td><td>&quot;Bot or Not? Someone checked :\n",
       "Likely not a bot. Casts: support, gifs, gm&quot;</td></tr><tr><td>2023-11-16 10:40:24.382766</td><td>2024-10-03 15:33:11.636</td><td>b&quot;\\x8dVa@\\xf9U\\x9f\\x8a0\\x92\\xfa\\x1b#\\xb6\\xed\\xee\\xd4}\\x82\\xbc&quot;</td><td>2024-10-03 15:33:03 UTC</td><td>195294</td><td>2</td><td>805</td><td>657</td><td>121</td><td>806</td><td>60</td><td>26</td><td>34</td><td>false</td><td>&quot;Bot or Not? Someone checked :\n",
       "Not a bot. Casts: farcaster shill, múc&quot;</td></tr></tbody></table></div>"
      ],
      "text/plain": [
       "shape: (11_847, 15)\n",
       "┌────────────┬────────────┬────────────┬───────────┬───┬───────────┬───────────┬───────┬───────────┐\n",
       "│ created_at ┆ updated_at ┆ custody_ad ┆ registere ┆ … ┆ reply_cas ┆ casts_cou ┆ bot   ┆ text      │\n",
       "│ ---        ┆ ---        ┆ dress      ┆ d_at      ┆   ┆ ts_count  ┆ nt        ┆ ---   ┆ ---       │\n",
       "│ datetime[n ┆ datetime[n ┆ ---        ┆ ---       ┆   ┆ ---       ┆ ---       ┆ bool  ┆ str       │\n",
       "│ s]         ┆ s]         ┆ binary     ┆ datetime[ ┆   ┆ u32       ┆ u32       ┆       ┆           │\n",
       "│            ┆            ┆            ┆ ns, UTC]  ┆   ┆           ┆           ┆       ┆           │\n",
       "╞════════════╪════════════╪════════════╪═══════════╪═══╪═══════════╪═══════════╪═══════╪═══════════╡\n",
       "│ 2024-04-04 ┆ 2024-06-07 ┆ b\"\\xcb\\x1b ┆ 2024-04-0 ┆ … ┆ 308       ┆ 31        ┆ false ┆ Bot or    │\n",
       "│ 00:34:26.2 ┆ 08:11:42.1 ┆ \\xbc\\x1e\\x ┆ 4         ┆   ┆           ┆           ┆       ┆ Not?      │\n",
       "│ 79484      ┆ 99         ┆ bd;\\xb6\\x8 ┆ 00:34:11  ┆   ┆           ┆           ┆       ┆ Someone   │\n",
       "│            ┆            ┆ dz\\xe9\\xf1 ┆ UTC       ┆   ┆           ┆           ┆       ┆ checked : │\n",
       "│            ┆            ┆ \\xc2\\xf0\\x ┆           ┆   ┆           ┆           ┆       ┆ Not a     │\n",
       "│            ┆            ┆ 1c\\x0c\\xc8 ┆           ┆   ┆           ┆           ┆       ┆ bot.      │\n",
       "│            ┆            ┆ \\x8a\\xf3\\x ┆           ┆   ┆           ┆           ┆       ┆ Reply     │\n",
       "│            ┆            ┆ d4\\xef\"    ┆           ┆   ┆           ┆           ┆       ┆ guy/gal:  │\n",
       "│            ┆            ┆            ┆           ┆   ┆           ┆           ┆       ┆ generic   │\n",
       "│            ┆            ┆            ┆           ┆   ┆           ┆           ┆       ┆ comments  │\n",
       "│ 2023-09-05 ┆ 2024-06-07 ┆ b\"k\\x0b\\xd ┆ 2023-11-0 ┆ … ┆ 24037     ┆ 8597      ┆ false ┆ Bot or    │\n",
       "│ 23:07:28.4 ┆ 16:44:01.6 ┆ a?/\\xfe\\xd ┆ 7         ┆   ┆           ┆           ┆       ┆ Not?      │\n",
       "│ 14146      ┆ 21         ┆ 5\\xef\\xc8? ┆ 19:42:51  ┆   ┆           ┆           ┆       ┆ Someone   │\n",
       "│            ┆            ┆ \\xa8\\xc0$\\ ┆ UTC       ┆   ┆           ┆           ┆       ┆ checked : │\n",
       "│            ┆            ┆ xac\\xff\\x1 ┆           ┆   ┆           ┆           ┆       ┆ Not a     │\n",
       "│            ┆            ┆ d\\xd4W\\x93 ┆           ┆   ┆           ┆           ┆       ┆ bot. Buil │\n",
       "│            ┆            ┆ \\xf1\"      ┆           ┆   ┆           ┆           ┆       ┆ dooor:    │\n",
       "│            ┆            ┆            ┆           ┆   ┆           ┆           ┆       ┆ farcaster │\n",
       "│            ┆            ┆            ┆           ┆   ┆           ┆           ┆       ┆ ,         │\n",
       "│            ┆            ┆            ┆           ┆   ┆           ┆           ┆       ┆ warpcast, │\n",
       "│            ┆            ┆            ┆           ┆   ┆           ┆           ┆       ┆ notificat │\n",
       "│ 2023-09-05 ┆ 2024-06-07 ┆ b\"\\xc6\\xe3 ┆ 2023-11-0 ┆ … ┆ 2666      ┆ 1129      ┆ false ┆ Bot or    │\n",
       "│ 23:07:32.5 ┆ 16:44:01.6 ┆ \\x00K\\x0eT ┆ 7         ┆   ┆           ┆           ┆       ┆ Not?      │\n",
       "│ 49415      ┆ 25         ┆ \\xa9\\x1d\\x ┆ 19:42:51  ┆   ┆           ┆           ┆       ┆ Someone   │\n",
       "│            ┆            ┆ a8\\xd8z\\xc ┆ UTC       ┆   ┆           ┆           ┆       ┆ checked : │\n",
       "│            ┆            ┆ e\\x80\\xb6\\ ┆           ┆   ┆           ┆           ┆       ┆ Not a     │\n",
       "│            ┆            ┆ xab\\xc6M#\\ ┆           ┆   ┆           ┆           ┆       ┆ bot. Buil │\n",
       "│            ┆            ┆ xe3?\"      ┆           ┆   ┆           ┆           ┆       ┆ dooor:    │\n",
       "│            ┆            ┆            ┆           ┆   ┆           ┆           ┆       ┆ zora,     │\n",
       "│            ┆            ┆            ┆           ┆   ┆           ┆           ┆       ┆ mints,    │\n",
       "│            ┆            ┆            ┆           ┆   ┆           ┆           ┆       ┆ eclipse   │\n",
       "│ 2023-09-05 ┆ 2024-06-07 ┆ b\"\\xb45u\\x ┆ 2023-11-0 ┆ … ┆ 6468      ┆ 1124      ┆ false ┆ Bot or    │\n",
       "│ 23:07:33.9 ┆ 16:44:01.6 ┆ d5\\x8cI\\xd ┆ 7         ┆   ┆           ┆           ┆       ┆ Not?      │\n",
       "│ 36715      ┆ 28         ┆ 2\\xbe\\x88\\ ┆ 19:42:51  ┆   ┆           ┆           ┆       ┆ Someone   │\n",
       "│            ┆            ┆ x0e\\x0f\\x8 ┆ UTC       ┆   ┆           ┆           ┆       ┆ checked : │\n",
       "│            ┆            ┆ 2\\x1d\\xdfQ ┆           ┆   ┆           ┆           ┆       ┆ Not a     │\n",
       "│            ┆            ┆ \\xd1\\\\x13\\ ┆           ┆   ┆           ┆           ┆       ┆ bot. Buil │\n",
       "│            ┆            ┆ xc3v\"      ┆           ┆   ┆           ┆           ┆       ┆ dooor:    │\n",
       "│            ┆            ┆            ┆           ┆   ┆           ┆           ┆       ┆ bountycas │\n",
       "│            ┆            ┆            ┆           ┆   ┆           ┆           ┆       ┆ ter,      │\n",
       "│            ┆            ┆            ┆           ┆   ┆           ┆           ┆       ┆ features, │\n",
       "│            ┆            ┆            ┆           ┆   ┆           ┆           ┆       ┆ crypto    │\n",
       "│ 2023-09-05 ┆ 2024-06-07 ┆ b\"A\\x14\\xe ┆ 2023-11-0 ┆ … ┆ 6454      ┆ 1615      ┆ false ┆ Bot or    │\n",
       "│ 23:07:28.0 ┆ 16:44:01.6 ┆ 3>\\xb81\\x8 ┆ 7         ┆   ┆           ┆           ┆       ┆ Not?      │\n",
       "│ 09240      ┆ 29         ┆ 5\\x86I\\xea ┆ 19:42:51  ┆   ┆           ┆           ┆       ┆ Someone   │\n",
       "│            ┆            ┆ 7\\x02\\xe1\\ ┆ UTC       ┆   ┆           ┆           ┆       ┆ checked : │\n",
       "│            ┆            ┆ xc9\\xa2\\xd ┆           ┆   ┆           ┆           ┆       ┆ Not a     │\n",
       "│            ┆            ┆ b?bdF\"     ┆           ┆   ┆           ┆           ┆       ┆ bot. Buil │\n",
       "│            ┆            ┆            ┆           ┆   ┆           ┆           ┆       ┆ dooor:    │\n",
       "│            ┆            ┆            ┆           ┆   ┆           ┆           ┆       ┆ Farcaster │\n",
       "│            ┆            ┆            ┆           ┆   ┆           ┆           ┆       ┆ dev       │\n",
       "│            ┆            ┆            ┆           ┆   ┆           ┆           ┆       ┆ scaling   │\n",
       "│ …          ┆ …          ┆ …          ┆ …         ┆ … ┆ …         ┆ …         ┆ …     ┆ …         │\n",
       "│ 2024-02-19 ┆ 2024-10-02 ┆ b\"\\x99v\\x9 ┆ 2024-10-0 ┆ … ┆ 2416      ┆ 118       ┆ false ┆ Bot or    │\n",
       "│ 15:34:21.4 ┆ 18:33:34.5 ┆ 4}\\x8c\\xc7 ┆ 2         ┆   ┆           ┆           ┆       ┆ Not?      │\n",
       "│ 08148      ┆ 03         ┆ \\x1fMo\\x16 ┆ 18:33:23  ┆   ┆           ┆           ┆       ┆ Someone   │\n",
       "│            ┆            ┆ Cf\\xbc\\x86 ┆ UTC       ┆   ┆           ┆           ┆       ┆ checked : │\n",
       "│            ┆            ┆ \\x83\\xdd1: ┆           ┆   ┆           ┆           ┆       ┆ Not a     │\n",
       "│            ┆            ┆ \\x84c\"     ┆           ┆   ┆           ┆           ┆       ┆ bot.      │\n",
       "│            ┆            ┆            ┆           ┆   ┆           ┆           ┆       ┆ Reply     │\n",
       "│            ┆            ┆            ┆           ┆   ┆           ┆           ┆       ┆ guy/gal:  │\n",
       "│            ┆            ┆            ┆           ┆   ┆           ┆           ┆       ┆ generic,  │\n",
       "│            ┆            ┆            ┆           ┆   ┆           ┆           ┆       ┆ inane,    │\n",
       "│            ┆            ┆            ┆           ┆   ┆           ┆           ┆       ┆ spammy    │\n",
       "│ 2024-03-20 ┆ 2024-10-03 ┆ b\"\\xf0\\x09 ┆ 2024-10-0 ┆ … ┆ 121       ┆ 283       ┆ false ┆ Bot or    │\n",
       "│ 21:02:12.7 ┆ 15:33:11.6 ┆ \\x8dcQ\\xbb ┆ 3         ┆   ┆           ┆           ┆       ┆ Not?      │\n",
       "│ 07136      ┆ 12         ┆ \\xf2\\xf9^\\ ┆ 15:33:03  ┆   ┆           ┆           ┆       ┆ Someone   │\n",
       "│            ┆            ┆ x87\\x83mP\\ ┆ UTC       ┆   ┆           ┆           ┆       ┆ checked : │\n",
       "│            ┆            ┆ x9cg\\x1f\\x ┆           ┆   ┆           ┆           ┆       ┆           │\n",
       "│            ┆            ┆ 8e\\xb7Y\\xb ┆           ┆   ┆           ┆           ┆       ┆ Not a     │\n",
       "│            ┆            ┆ a\"         ┆           ┆   ┆           ┆           ┆       ┆ bot.      │\n",
       "│            ┆            ┆            ┆           ┆   ┆           ┆           ┆       ┆ Casts:    │\n",
       "│            ┆            ┆            ┆           ┆   ┆           ┆           ┆       ┆ nouns,pro │\n",
       "│            ┆            ┆            ┆           ┆   ┆           ┆           ┆       ┆ p,solar   │\n",
       "│            ┆            ┆            ┆           ┆   ┆           ┆           ┆       ┆ light,com │\n",
       "│            ┆            ┆            ┆           ┆   ┆           ┆           ┆       ┆ munity,th │\n",
       "│            ┆            ┆            ┆           ┆   ┆           ┆           ┆       ┆ anks      │\n",
       "│            ┆            ┆            ┆           ┆   ┆           ┆           ┆       ┆           │\n",
       "│            ┆            ┆            ┆           ┆   ┆           ┆           ┆       ┆ Want to   │\n",
       "│            ┆            ┆            ┆           ┆   ┆           ┆           ┆       ┆ check     │\n",
       "│            ┆            ┆            ┆           ┆   ┆           ┆           ┆       ┆ someone   │\n",
       "│            ┆            ┆            ┆           ┆   ┆           ┆           ┆       ┆ else?     │\n",
       "│            ┆            ┆            ┆           ┆   ┆           ┆           ┆       ┆ Install   │\n",
       "│            ┆            ┆            ┆           ┆   ┆           ┆           ┆       ┆ the cast  │\n",
       "│            ┆            ┆            ┆           ┆   ┆           ┆           ┆       ┆ action    │\n",
       "│            ┆            ┆            ┆           ┆   ┆           ┆           ┆       ┆ below.    │\n",
       "│ 2023-10-11 ┆ 2024-10-03 ┆ b\"\\x91\\xfb ┆ 2024-10-0 ┆ … ┆ 1184      ┆ 380       ┆ false ┆ Bot or    │\n",
       "│ 21:35:30.2 ┆ 15:33:11.6 ┆ W\\x9b\\x02. ┆ 3         ┆   ┆           ┆           ┆       ┆ Not?      │\n",
       "│ 83588      ┆ 27         ┆ \\x09\\xac\\x ┆ 15:33:03  ┆   ┆           ┆           ┆       ┆ Someone   │\n",
       "│            ┆            ┆ 90\\xa7\\xa0 ┆ UTC       ┆   ┆           ┆           ┆       ┆ checked : │\n",
       "│            ┆            ┆ \\xa4jZ(\\xb ┆           ┆   ┆           ┆           ┆       ┆           │\n",
       "│            ┆            ┆ 2;\\xe7v\\xa ┆           ┆   ┆           ┆           ┆       ┆ Not a     │\n",
       "│            ┆            ┆ 3\"         ┆           ┆   ┆           ┆           ┆       ┆ bot.      │\n",
       "│            ┆            ┆            ┆           ┆   ┆           ┆           ┆       ┆ Casts:    │\n",
       "│            ┆            ┆            ┆           ┆   ┆           ┆           ┆       ┆ music,    │\n",
       "│            ┆            ┆            ┆           ┆   ┆           ┆           ┆       ┆ dataviz,  │\n",
       "│            ┆            ┆            ┆           ┆   ┆           ┆           ┆       ┆ events,   │\n",
       "│            ┆            ┆            ┆           ┆   ┆           ┆           ┆       ┆ random    │\n",
       "│            ┆            ┆            ┆           ┆   ┆           ┆           ┆       ┆ thoughts  │\n",
       "│            ┆            ┆            ┆           ┆   ┆           ┆           ┆       ┆           │\n",
       "│            ┆            ┆            ┆           ┆   ┆           ┆           ┆       ┆ Want to   │\n",
       "│            ┆            ┆            ┆           ┆   ┆           ┆           ┆       ┆ check     │\n",
       "│            ┆            ┆            ┆           ┆   ┆           ┆           ┆       ┆ someone   │\n",
       "│            ┆            ┆            ┆           ┆   ┆           ┆           ┆       ┆ else?     │\n",
       "│            ┆            ┆            ┆           ┆   ┆           ┆           ┆       ┆ Install   │\n",
       "│            ┆            ┆            ┆           ┆   ┆           ┆           ┆       ┆ the cast  │\n",
       "│            ┆            ┆            ┆           ┆   ┆           ┆           ┆       ┆ action    │\n",
       "│            ┆            ┆            ┆           ┆   ┆           ┆           ┆       ┆ below.    │\n",
       "│ 2024-02-07 ┆ 2024-10-03 ┆ b\"o\\x1e'P\\ ┆ 2024-10-0 ┆ … ┆ 10822     ┆ 3652      ┆ false ┆ Bot or    │\n",
       "│ 23:02:15.6 ┆ 15:33:11.6 ┆ xb40\\xc0\\x ┆ 3         ┆   ┆           ┆           ┆       ┆ Not?      │\n",
       "│ 83183      ┆ 35         ┆ e5\\x8fS\\x9 ┆ 15:33:03  ┆   ┆           ┆           ┆       ┆ Someone   │\n",
       "│            ┆            ┆ b2nfT\\xb39 ┆ UTC       ┆   ┆           ┆           ┆       ┆ checked : │\n",
       "│            ┆            ┆ \\x1a\\xa0O\" ┆           ┆   ┆           ┆           ┆       ┆ Likely    │\n",
       "│            ┆            ┆            ┆           ┆   ┆           ┆           ┆       ┆ not a     │\n",
       "│            ┆            ┆            ┆           ┆   ┆           ┆           ┆       ┆ bot.      │\n",
       "│            ┆            ┆            ┆           ┆   ┆           ┆           ┆       ┆ Casts:    │\n",
       "│            ┆            ┆            ┆           ┆   ┆           ┆           ┆       ┆ support,  │\n",
       "│            ┆            ┆            ┆           ┆   ┆           ┆           ┆       ┆ gifs, gm  │\n",
       "│ 2023-11-16 ┆ 2024-10-03 ┆ b\"\\x8dVa@\\ ┆ 2024-10-0 ┆ … ┆ 26        ┆ 34        ┆ false ┆ Bot or    │\n",
       "│ 10:40:24.3 ┆ 15:33:11.6 ┆ xf9U\\x9f\\x ┆ 3         ┆   ┆           ┆           ┆       ┆ Not?      │\n",
       "│ 82766      ┆ 36         ┆ 8a0\\x92\\xf ┆ 15:33:03  ┆   ┆           ┆           ┆       ┆ Someone   │\n",
       "│            ┆            ┆ a\\x1b#\\xb6 ┆ UTC       ┆   ┆           ┆           ┆       ┆ checked : │\n",
       "│            ┆            ┆ \\xed\\xee\\x ┆           ┆   ┆           ┆           ┆       ┆ Not a     │\n",
       "│            ┆            ┆ d4}\\x82\\xb ┆           ┆   ┆           ┆           ┆       ┆ bot.      │\n",
       "│            ┆            ┆ c\"         ┆           ┆   ┆           ┆           ┆       ┆ Casts:    │\n",
       "│            ┆            ┆            ┆           ┆   ┆           ┆           ┆       ┆ farcaster │\n",
       "│            ┆            ┆            ┆           ┆   ┆           ┆           ┆       ┆ shill,    │\n",
       "│            ┆            ┆            ┆           ┆   ┆           ┆           ┆       ┆ múc       │\n",
       "└────────────┴────────────┴────────────┴───────────┴───┴───────────┴───────────┴───────┴───────────┘"
      ]
     },
     "execution_count": 24,
     "metadata": {},
     "output_type": "execute_result"
    }
   ],
   "source": [
    "# df.write_parquet(f\"{DATA_PATH}/bot_or_not_with_info.parquet\")\n",
    "df"
   ]
  },
  {
   "cell_type": "code",
   "execution_count": 25,
   "id": "d6675402-796a-4ecd-ab22-1caa06cdb7fb",
   "metadata": {},
   "outputs": [
    {
     "data": {
      "text/html": [
       "<div><style>\n",
       ".dataframe > thead > tr,\n",
       ".dataframe > tbody > tr {\n",
       "  text-align: right;\n",
       "  white-space: pre-wrap;\n",
       "}\n",
       "</style>\n",
       "<small>shape: (9, 9)</small><table border=\"1\" class=\"dataframe\"><thead><tr><th>statistic</th><th>verifications_count</th><th>following_count</th><th>followers_count</th><th>recasts_count</th><th>likes_count</th><th>total_casts_count</th><th>reply_casts_count</th><th>casts_count</th></tr><tr><td>str</td><td>f64</td><td>f64</td><td>f64</td><td>f64</td><td>f64</td><td>f64</td><td>f64</td><td>f64</td></tr></thead><tbody><tr><td>&quot;count&quot;</td><td>4655.0</td><td>4655.0</td><td>4655.0</td><td>4655.0</td><td>4655.0</td><td>4655.0</td><td>4655.0</td><td>4655.0</td></tr><tr><td>&quot;null_count&quot;</td><td>0.0</td><td>0.0</td><td>0.0</td><td>0.0</td><td>0.0</td><td>0.0</td><td>0.0</td><td>0.0</td></tr><tr><td>&quot;mean&quot;</td><td>2.795704</td><td>1428.184748</td><td>1530.662299</td><td>1686.49087</td><td>9731.639527</td><td>5208.207734</td><td>4684.007089</td><td>524.200644</td></tr><tr><td>&quot;std&quot;</td><td>4.417479</td><td>1320.514742</td><td>2190.20996</td><td>3262.478912</td><td>13040.622272</td><td>43928.94424</td><td>43656.87292</td><td>1889.240734</td></tr><tr><td>&quot;min&quot;</td><td>0.0</td><td>0.0</td><td>3.0</td><td>0.0</td><td>0.0</td><td>1.0</td><td>0.0</td><td>0.0</td></tr><tr><td>&quot;25%&quot;</td><td>1.0</td><td>587.0</td><td>654.0</td><td>202.0</td><td>2154.0</td><td>767.0</td><td>545.0</td><td>119.0</td></tr><tr><td>&quot;50%&quot;</td><td>2.0</td><td>1158.0</td><td>1164.0</td><td>697.0</td><td>5573.0</td><td>1965.0</td><td>1557.0</td><td>269.0</td></tr><tr><td>&quot;75%&quot;</td><td>3.0</td><td>1950.0</td><td>1901.0</td><td>1964.0</td><td>12638.0</td><td>4358.0</td><td>3704.0</td><td>571.0</td></tr><tr><td>&quot;max&quot;</td><td>168.0</td><td>30275.0</td><td>58083.0</td><td>78245.0</td><td>198881.0</td><td>2.489498e6</td><td>2.489322e6</td><td>100188.0</td></tr></tbody></table></div>"
      ],
      "text/plain": [
       "shape: (9, 9)\n",
       "┌───────────┬───────────┬───────────┬───────────┬───┬───────────┬───────────┬───────────┬──────────┐\n",
       "│ statistic ┆ verificat ┆ following ┆ followers ┆ … ┆ likes_cou ┆ total_cas ┆ reply_cas ┆ casts_co │\n",
       "│ ---       ┆ ions_coun ┆ _count    ┆ _count    ┆   ┆ nt        ┆ ts_count  ┆ ts_count  ┆ unt      │\n",
       "│ str       ┆ t         ┆ ---       ┆ ---       ┆   ┆ ---       ┆ ---       ┆ ---       ┆ ---      │\n",
       "│           ┆ ---       ┆ f64       ┆ f64       ┆   ┆ f64       ┆ f64       ┆ f64       ┆ f64      │\n",
       "│           ┆ f64       ┆           ┆           ┆   ┆           ┆           ┆           ┆          │\n",
       "╞═══════════╪═══════════╪═══════════╪═══════════╪═══╪═══════════╪═══════════╪═══════════╪══════════╡\n",
       "│ count     ┆ 4655.0    ┆ 4655.0    ┆ 4655.0    ┆ … ┆ 4655.0    ┆ 4655.0    ┆ 4655.0    ┆ 4655.0   │\n",
       "│ null_coun ┆ 0.0       ┆ 0.0       ┆ 0.0       ┆ … ┆ 0.0       ┆ 0.0       ┆ 0.0       ┆ 0.0      │\n",
       "│ t         ┆           ┆           ┆           ┆   ┆           ┆           ┆           ┆          │\n",
       "│ mean      ┆ 2.795704  ┆ 1428.1847 ┆ 1530.6622 ┆ … ┆ 9731.6395 ┆ 5208.2077 ┆ 4684.0070 ┆ 524.2006 │\n",
       "│           ┆           ┆ 48        ┆ 99        ┆   ┆ 27        ┆ 34        ┆ 89        ┆ 44       │\n",
       "│ std       ┆ 4.417479  ┆ 1320.5147 ┆ 2190.2099 ┆ … ┆ 13040.622 ┆ 43928.944 ┆ 43656.872 ┆ 1889.240 │\n",
       "│           ┆           ┆ 42        ┆ 6         ┆   ┆ 272       ┆ 24        ┆ 92        ┆ 734      │\n",
       "│ min       ┆ 0.0       ┆ 0.0       ┆ 3.0       ┆ … ┆ 0.0       ┆ 1.0       ┆ 0.0       ┆ 0.0      │\n",
       "│ 25%       ┆ 1.0       ┆ 587.0     ┆ 654.0     ┆ … ┆ 2154.0    ┆ 767.0     ┆ 545.0     ┆ 119.0    │\n",
       "│ 50%       ┆ 2.0       ┆ 1158.0    ┆ 1164.0    ┆ … ┆ 5573.0    ┆ 1965.0    ┆ 1557.0    ┆ 269.0    │\n",
       "│ 75%       ┆ 3.0       ┆ 1950.0    ┆ 1901.0    ┆ … ┆ 12638.0   ┆ 4358.0    ┆ 3704.0    ┆ 571.0    │\n",
       "│ max       ┆ 168.0     ┆ 30275.0   ┆ 58083.0   ┆ … ┆ 198881.0  ┆ 2.489498e ┆ 2.489322e ┆ 100188.0 │\n",
       "│           ┆           ┆           ┆           ┆   ┆           ┆ 6         ┆ 6         ┆          │\n",
       "└───────────┴───────────┴───────────┴───────────┴───┴───────────┴───────────┴───────────┴──────────┘"
      ]
     },
     "execution_count": 25,
     "metadata": {},
     "output_type": "execute_result"
    }
   ],
   "source": [
    "bots = df.filter(pl.col(\"bot\") == True)\n",
    "bots.select([\"verifications_count\", \"following_count\", \"followers_count\", \"recasts_count\", \"likes_count\", \"total_casts_count\", \"reply_casts_count\", \"casts_count\"]).describe()"
   ]
  },
  {
   "cell_type": "code",
   "execution_count": 26,
   "id": "0bac68bb-9541-444a-897f-f0b91ac4b3af",
   "metadata": {},
   "outputs": [
    {
     "data": {
      "text/html": [
       "<div><style>\n",
       ".dataframe > thead > tr,\n",
       ".dataframe > tbody > tr {\n",
       "  text-align: right;\n",
       "  white-space: pre-wrap;\n",
       "}\n",
       "</style>\n",
       "<small>shape: (9, 9)</small><table border=\"1\" class=\"dataframe\"><thead><tr><th>statistic</th><th>verifications_count</th><th>following_count</th><th>followers_count</th><th>recasts_count</th><th>likes_count</th><th>total_casts_count</th><th>reply_casts_count</th><th>casts_count</th></tr><tr><td>str</td><td>f64</td><td>f64</td><td>f64</td><td>f64</td><td>f64</td><td>f64</td><td>f64</td><td>f64</td></tr></thead><tbody><tr><td>&quot;count&quot;</td><td>7192.0</td><td>7192.0</td><td>7192.0</td><td>7192.0</td><td>7192.0</td><td>7192.0</td><td>7192.0</td><td>7192.0</td></tr><tr><td>&quot;null_count&quot;</td><td>0.0</td><td>0.0</td><td>0.0</td><td>0.0</td><td>0.0</td><td>0.0</td><td>0.0</td><td>0.0</td></tr><tr><td>&quot;mean&quot;</td><td>2.719967</td><td>1084.427558</td><td>6336.543938</td><td>1443.604839</td><td>8586.271413</td><td>4114.49277</td><td>3614.22094</td><td>500.27183</td></tr><tr><td>&quot;std&quot;</td><td>3.551281</td><td>2695.740657</td><td>31311.300626</td><td>3081.820083</td><td>12552.6756</td><td>7144.280554</td><td>6774.604105</td><td>733.795482</td></tr><tr><td>&quot;min&quot;</td><td>0.0</td><td>0.0</td><td>0.0</td><td>0.0</td><td>0.0</td><td>1.0</td><td>0.0</td><td>0.0</td></tr><tr><td>&quot;25%&quot;</td><td>1.0</td><td>318.0</td><td>534.0</td><td>66.0</td><td>1448.0</td><td>580.0</td><td>386.0</td><td>117.0</td></tr><tr><td>&quot;50%&quot;</td><td>2.0</td><td>717.0</td><td>1180.0</td><td>359.0</td><td>4427.0</td><td>1811.0</td><td>1421.0</td><td>281.0</td></tr><tr><td>&quot;75%&quot;</td><td>3.0</td><td>1436.0</td><td>2290.0</td><td>1535.0</td><td>10759.0</td><td>4548.0</td><td>3841.0</td><td>609.0</td></tr><tr><td>&quot;max&quot;</td><td>96.0</td><td>204881.0</td><td>484305.0</td><td>58619.0</td><td>214543.0</td><td>91138.0</td><td>90076.0</td><td>21983.0</td></tr></tbody></table></div>"
      ],
      "text/plain": [
       "shape: (9, 9)\n",
       "┌───────────┬───────────┬───────────┬───────────┬───┬───────────┬───────────┬───────────┬──────────┐\n",
       "│ statistic ┆ verificat ┆ following ┆ followers ┆ … ┆ likes_cou ┆ total_cas ┆ reply_cas ┆ casts_co │\n",
       "│ ---       ┆ ions_coun ┆ _count    ┆ _count    ┆   ┆ nt        ┆ ts_count  ┆ ts_count  ┆ unt      │\n",
       "│ str       ┆ t         ┆ ---       ┆ ---       ┆   ┆ ---       ┆ ---       ┆ ---       ┆ ---      │\n",
       "│           ┆ ---       ┆ f64       ┆ f64       ┆   ┆ f64       ┆ f64       ┆ f64       ┆ f64      │\n",
       "│           ┆ f64       ┆           ┆           ┆   ┆           ┆           ┆           ┆          │\n",
       "╞═══════════╪═══════════╪═══════════╪═══════════╪═══╪═══════════╪═══════════╪═══════════╪══════════╡\n",
       "│ count     ┆ 7192.0    ┆ 7192.0    ┆ 7192.0    ┆ … ┆ 7192.0    ┆ 7192.0    ┆ 7192.0    ┆ 7192.0   │\n",
       "│ null_coun ┆ 0.0       ┆ 0.0       ┆ 0.0       ┆ … ┆ 0.0       ┆ 0.0       ┆ 0.0       ┆ 0.0      │\n",
       "│ t         ┆           ┆           ┆           ┆   ┆           ┆           ┆           ┆          │\n",
       "│ mean      ┆ 2.719967  ┆ 1084.4275 ┆ 6336.5439 ┆ … ┆ 8586.2714 ┆ 4114.4927 ┆ 3614.2209 ┆ 500.2718 │\n",
       "│           ┆           ┆ 58        ┆ 38        ┆   ┆ 13        ┆ 7         ┆ 4         ┆ 3        │\n",
       "│ std       ┆ 3.551281  ┆ 2695.7406 ┆ 31311.300 ┆ … ┆ 12552.675 ┆ 7144.2805 ┆ 6774.6041 ┆ 733.7954 │\n",
       "│           ┆           ┆ 57        ┆ 626       ┆   ┆ 6         ┆ 54        ┆ 05        ┆ 82       │\n",
       "│ min       ┆ 0.0       ┆ 0.0       ┆ 0.0       ┆ … ┆ 0.0       ┆ 1.0       ┆ 0.0       ┆ 0.0      │\n",
       "│ 25%       ┆ 1.0       ┆ 318.0     ┆ 534.0     ┆ … ┆ 1448.0    ┆ 580.0     ┆ 386.0     ┆ 117.0    │\n",
       "│ 50%       ┆ 2.0       ┆ 717.0     ┆ 1180.0    ┆ … ┆ 4427.0    ┆ 1811.0    ┆ 1421.0    ┆ 281.0    │\n",
       "│ 75%       ┆ 3.0       ┆ 1436.0    ┆ 2290.0    ┆ … ┆ 10759.0   ┆ 4548.0    ┆ 3841.0    ┆ 609.0    │\n",
       "│ max       ┆ 96.0      ┆ 204881.0  ┆ 484305.0  ┆ … ┆ 214543.0  ┆ 91138.0   ┆ 90076.0   ┆ 21983.0  │\n",
       "└───────────┴───────────┴───────────┴───────────┴───┴───────────┴───────────┴───────────┴──────────┘"
      ]
     },
     "execution_count": 26,
     "metadata": {},
     "output_type": "execute_result"
    }
   ],
   "source": [
    "non_bots = df.filter(pl.col(\"bot\") == False)\n",
    "non_bots.select([\"verifications_count\", \"following_count\", \"followers_count\", \"recasts_count\", \"likes_count\", \"total_casts_count\", \"reply_casts_count\", \"casts_count\"]).describe()"
   ]
  },
  {
   "cell_type": "code",
   "execution_count": 27,
   "id": "934b819d-5def-4398-8394-e8b8293c8dc0",
   "metadata": {},
   "outputs": [
    {
     "data": {
      "text/html": [
       "<div><style>\n",
       ".dataframe > thead > tr,\n",
       ".dataframe > tbody > tr {\n",
       "  text-align: right;\n",
       "  white-space: pre-wrap;\n",
       "}\n",
       "</style>\n",
       "<small>shape: (1, 15)</small><table border=\"1\" class=\"dataframe\"><thead><tr><th>created_at</th><th>updated_at</th><th>custody_address</th><th>registered_at</th><th>fid</th><th>verifications_count</th><th>following_count</th><th>followers_count</th><th>recasts_count</th><th>likes_count</th><th>total_casts_count</th><th>reply_casts_count</th><th>casts_count</th><th>bot</th><th>text</th></tr><tr><td>datetime[ns]</td><td>datetime[ns]</td><td>binary</td><td>datetime[ns, UTC]</td><td>i64</td><td>u32</td><td>u32</td><td>u32</td><td>u32</td><td>u32</td><td>u32</td><td>u32</td><td>u32</td><td>bool</td><td>str</td></tr></thead><tbody><tr><td>2024-03-21 13:29:59.967370</td><td>2024-06-08 03:51:29.207</td><td>b&quot;MC~\\xdf\\xa2h\\xf3pj\\xa2K;\\xe8C\\x8b\\x0f\\xf3\\xc8\\xf2f&quot;</td><td>2024-03-21 13:29:51 UTC</td><td>400242</td><td>1</td><td>73</td><td>4024</td><td>1</td><td>1</td><td>100188</td><td>0</td><td>100188</td><td>true</td><td>&quot;Bot or Not? Someone checked :\n",
       "\n",
       "This user casts like a bot.\n",
       "\n",
       "Want to check someone else? Install the cast action below.&quot;</td></tr></tbody></table></div>"
      ],
      "text/plain": [
       "shape: (1, 15)\n",
       "┌────────────┬────────────┬────────────┬────────────┬───┬───────────┬───────────┬──────┬───────────┐\n",
       "│ created_at ┆ updated_at ┆ custody_ad ┆ registered ┆ … ┆ reply_cas ┆ casts_cou ┆ bot  ┆ text      │\n",
       "│ ---        ┆ ---        ┆ dress      ┆ _at        ┆   ┆ ts_count  ┆ nt        ┆ ---  ┆ ---       │\n",
       "│ datetime[n ┆ datetime[n ┆ ---        ┆ ---        ┆   ┆ ---       ┆ ---       ┆ bool ┆ str       │\n",
       "│ s]         ┆ s]         ┆ binary     ┆ datetime[n ┆   ┆ u32       ┆ u32       ┆      ┆           │\n",
       "│            ┆            ┆            ┆ s, UTC]    ┆   ┆           ┆           ┆      ┆           │\n",
       "╞════════════╪════════════╪════════════╪════════════╪═══╪═══════════╪═══════════╪══════╪═══════════╡\n",
       "│ 2024-03-21 ┆ 2024-06-08 ┆ b\"MC~\\xdf\\ ┆ 2024-03-21 ┆ … ┆ 0         ┆ 100188    ┆ true ┆ Bot or    │\n",
       "│ 13:29:59.9 ┆ 03:51:29.2 ┆ xa2h\\xf3pj ┆ 13:29:51   ┆   ┆           ┆           ┆      ┆ Not?      │\n",
       "│ 67370      ┆ 07         ┆ \\xa2K;\\xe8 ┆ UTC        ┆   ┆           ┆           ┆      ┆ Someone   │\n",
       "│            ┆            ┆ C\\x8b\\x0f\\ ┆            ┆   ┆           ┆           ┆      ┆ checked : │\n",
       "│            ┆            ┆ xf3\\xc8\\xf ┆            ┆   ┆           ┆           ┆      ┆           │\n",
       "│            ┆            ┆ 2f\"        ┆            ┆   ┆           ┆           ┆      ┆ This user │\n",
       "│            ┆            ┆            ┆            ┆   ┆           ┆           ┆      ┆ casts     │\n",
       "│            ┆            ┆            ┆            ┆   ┆           ┆           ┆      ┆ like a    │\n",
       "│            ┆            ┆            ┆            ┆   ┆           ┆           ┆      ┆ bot.      │\n",
       "│            ┆            ┆            ┆            ┆   ┆           ┆           ┆      ┆           │\n",
       "│            ┆            ┆            ┆            ┆   ┆           ┆           ┆      ┆ Want to   │\n",
       "│            ┆            ┆            ┆            ┆   ┆           ┆           ┆      ┆ check     │\n",
       "│            ┆            ┆            ┆            ┆   ┆           ┆           ┆      ┆ someone   │\n",
       "│            ┆            ┆            ┆            ┆   ┆           ┆           ┆      ┆ else?     │\n",
       "│            ┆            ┆            ┆            ┆   ┆           ┆           ┆      ┆ Install   │\n",
       "│            ┆            ┆            ┆            ┆   ┆           ┆           ┆      ┆ the cast  │\n",
       "│            ┆            ┆            ┆            ┆   ┆           ┆           ┆      ┆ action    │\n",
       "│            ┆            ┆            ┆            ┆   ┆           ┆           ┆      ┆ below.    │\n",
       "└────────────┴────────────┴────────────┴────────────┴───┴───────────┴───────────┴──────┴───────────┘"
      ]
     },
     "execution_count": 27,
     "metadata": {},
     "output_type": "execute_result"
    }
   ],
   "source": [
    "max_casts = df.select(pl.col(\"casts_count\").max()).item()\n",
    "max_casts_row = df.filter(pl.col(\"casts_count\") == max_casts)\n",
    "max_casts_row"
   ]
  },
  {
   "cell_type": "code",
   "execution_count": 28,
   "id": "d6e699a6-5fd6-4283-bdf2-35d4eb35eb31",
   "metadata": {},
   "outputs": [
    {
     "data": {
      "text/html": [
       "<div><style>\n",
       ".dataframe > thead > tr,\n",
       ".dataframe > tbody > tr {\n",
       "  text-align: right;\n",
       "  white-space: pre-wrap;\n",
       "}\n",
       "</style>\n",
       "<small>shape: (1, 7)</small><table border=\"1\" class=\"dataframe\"><thead><tr><th>created_at</th><th>updated_at</th><th>custody_address</th><th>expires_at</th><th>fid</th><th>deleted_at</th><th>fname</th></tr><tr><td>datetime[ns]</td><td>datetime[ns]</td><td>binary</td><td>datetime[ns]</td><td>i64</td><td>datetime[ns]</td><td>str</td></tr></thead><tbody><tr><td>2024-03-21 13:30:10.577100</td><td>2024-06-08 03:51:29.325</td><td>b&quot;MC~\\xdf\\xa2h\\xf3pj\\xa2K;\\xe8C\\x8b\\x0f\\xf3\\xc8\\xf2f&quot;</td><td>null</td><td>400242</td><td>null</td><td>&quot;toka&quot;</td></tr></tbody></table></div>"
      ],
      "text/plain": [
       "shape: (1, 7)\n",
       "┌─────────────────┬────────────────┬────────────────┬──────────────┬────────┬──────────────┬───────┐\n",
       "│ created_at      ┆ updated_at     ┆ custody_addres ┆ expires_at   ┆ fid    ┆ deleted_at   ┆ fname │\n",
       "│ ---             ┆ ---            ┆ s              ┆ ---          ┆ ---    ┆ ---          ┆ ---   │\n",
       "│ datetime[ns]    ┆ datetime[ns]   ┆ ---            ┆ datetime[ns] ┆ i64    ┆ datetime[ns] ┆ str   │\n",
       "│                 ┆                ┆ binary         ┆              ┆        ┆              ┆       │\n",
       "╞═════════════════╪════════════════╪════════════════╪══════════════╪════════╪══════════════╪═══════╡\n",
       "│ 2024-03-21      ┆ 2024-06-08     ┆ b\"MC~\\xdf\\xa2h ┆ null         ┆ 400242 ┆ null         ┆ toka  │\n",
       "│ 13:30:10.577100 ┆ 03:51:29.325   ┆ \\xf3pj\\xa2K;\\x ┆              ┆        ┆              ┆       │\n",
       "│                 ┆                ┆ e8C\\x8b\\x0f\\xf ┆              ┆        ┆              ┆       │\n",
       "│                 ┆                ┆ 3\\xc8\\xf2f\"    ┆              ┆        ┆              ┆       │\n",
       "└─────────────────┴────────────────┴────────────────┴──────────────┴────────┴──────────────┴───────┘"
      ]
     },
     "execution_count": 28,
     "metadata": {},
     "output_type": "execute_result"
    }
   ],
   "source": [
    "fnames_df.filter(pl.col('fid') == 400242)"
   ]
  },
  {
   "cell_type": "code",
   "execution_count": 49,
   "id": "35938ca6-74af-45bc-88cc-d5e9265d8420",
   "metadata": {},
   "outputs": [
    {
     "data": {
      "text/html": [
       "<div><style>\n",
       ".dataframe > thead > tr,\n",
       ".dataframe > tbody > tr {\n",
       "  text-align: right;\n",
       "  white-space: pre-wrap;\n",
       "}\n",
       "</style>\n",
       "<small>shape: (1, 15)</small><table border=\"1\" class=\"dataframe\"><thead><tr><th>created_at</th><th>updated_at</th><th>custody_address</th><th>registered_at</th><th>fid</th><th>verifications_count</th><th>following_count</th><th>followers_count</th><th>recasts_count</th><th>likes_count</th><th>total_casts_count</th><th>reply_casts_count</th><th>casts_count</th><th>bot</th><th>text</th></tr><tr><td>datetime[ns]</td><td>datetime[ns]</td><td>binary</td><td>datetime[ns, UTC]</td><td>i64</td><td>u32</td><td>u32</td><td>u32</td><td>u32</td><td>u32</td><td>u32</td><td>u32</td><td>u32</td><td>bool</td><td>str</td></tr></thead><tbody><tr><td>2024-03-21 13:29:59.967370</td><td>2024-06-08 03:51:29.207</td><td>b&quot;MC~\\xdf\\xa2h\\xf3pj\\xa2K;\\xe8C\\x8b\\x0f\\xf3\\xc8\\xf2f&quot;</td><td>2024-03-21 13:29:51 UTC</td><td>400242</td><td>1</td><td>73</td><td>4024</td><td>1</td><td>1</td><td>100188</td><td>0</td><td>100188</td><td>true</td><td>&quot;Bot or Not? Someone checked :\n",
       "\n",
       "This user casts like a bot.\n",
       "\n",
       "Want to check someone else? Install the cast action below.&quot;</td></tr></tbody></table></div>"
      ],
      "text/plain": [
       "shape: (1, 15)\n",
       "┌────────────┬────────────┬────────────┬────────────┬───┬───────────┬───────────┬──────┬───────────┐\n",
       "│ created_at ┆ updated_at ┆ custody_ad ┆ registered ┆ … ┆ reply_cas ┆ casts_cou ┆ bot  ┆ text      │\n",
       "│ ---        ┆ ---        ┆ dress      ┆ _at        ┆   ┆ ts_count  ┆ nt        ┆ ---  ┆ ---       │\n",
       "│ datetime[n ┆ datetime[n ┆ ---        ┆ ---        ┆   ┆ ---       ┆ ---       ┆ bool ┆ str       │\n",
       "│ s]         ┆ s]         ┆ binary     ┆ datetime[n ┆   ┆ u32       ┆ u32       ┆      ┆           │\n",
       "│            ┆            ┆            ┆ s, UTC]    ┆   ┆           ┆           ┆      ┆           │\n",
       "╞════════════╪════════════╪════════════╪════════════╪═══╪═══════════╪═══════════╪══════╪═══════════╡\n",
       "│ 2024-03-21 ┆ 2024-06-08 ┆ b\"MC~\\xdf\\ ┆ 2024-03-21 ┆ … ┆ 0         ┆ 100188    ┆ true ┆ Bot or    │\n",
       "│ 13:29:59.9 ┆ 03:51:29.2 ┆ xa2h\\xf3pj ┆ 13:29:51   ┆   ┆           ┆           ┆      ┆ Not?      │\n",
       "│ 67370      ┆ 07         ┆ \\xa2K;\\xe8 ┆ UTC        ┆   ┆           ┆           ┆      ┆ Someone   │\n",
       "│            ┆            ┆ C\\x8b\\x0f\\ ┆            ┆   ┆           ┆           ┆      ┆ checked : │\n",
       "│            ┆            ┆ xf3\\xc8\\xf ┆            ┆   ┆           ┆           ┆      ┆           │\n",
       "│            ┆            ┆ 2f\"        ┆            ┆   ┆           ┆           ┆      ┆ This user │\n",
       "│            ┆            ┆            ┆            ┆   ┆           ┆           ┆      ┆ casts     │\n",
       "│            ┆            ┆            ┆            ┆   ┆           ┆           ┆      ┆ like a    │\n",
       "│            ┆            ┆            ┆            ┆   ┆           ┆           ┆      ┆ bot.      │\n",
       "│            ┆            ┆            ┆            ┆   ┆           ┆           ┆      ┆           │\n",
       "│            ┆            ┆            ┆            ┆   ┆           ┆           ┆      ┆ Want to   │\n",
       "│            ┆            ┆            ┆            ┆   ┆           ┆           ┆      ┆ check     │\n",
       "│            ┆            ┆            ┆            ┆   ┆           ┆           ┆      ┆ someone   │\n",
       "│            ┆            ┆            ┆            ┆   ┆           ┆           ┆      ┆ else?     │\n",
       "│            ┆            ┆            ┆            ┆   ┆           ┆           ┆      ┆ Install   │\n",
       "│            ┆            ┆            ┆            ┆   ┆           ┆           ┆      ┆ the cast  │\n",
       "│            ┆            ┆            ┆            ┆   ┆           ┆           ┆      ┆ action    │\n",
       "│            ┆            ┆            ┆            ┆   ┆           ┆           ┆      ┆ below.    │\n",
       "└────────────┴────────────┴────────────┴────────────┴───┴───────────┴───────────┴──────┴───────────┘"
      ]
     },
     "execution_count": 49,
     "metadata": {},
     "output_type": "execute_result"
    }
   ],
   "source": [
    "df.filter(pl.col('fid') == 400242)"
   ]
  },
  {
   "cell_type": "code",
   "execution_count": 50,
   "id": "fce0665c-0219-4786-9ab6-7bbcce15c532",
   "metadata": {},
   "outputs": [
    {
     "data": {
      "text/html": [
       "<div><style>\n",
       ".dataframe > thead > tr,\n",
       ".dataframe > tbody > tr {\n",
       "  text-align: right;\n",
       "  white-space: pre-wrap;\n",
       "}\n",
       "</style>\n",
       "<small>shape: (1, 15)</small><table border=\"1\" class=\"dataframe\"><thead><tr><th>created_at</th><th>updated_at</th><th>custody_address</th><th>registered_at</th><th>fid</th><th>verifications_count</th><th>following_count</th><th>followers_count</th><th>recasts_count</th><th>likes_count</th><th>total_casts_count</th><th>reply_casts_count</th><th>casts_count</th><th>bot</th><th>text</th></tr><tr><td>datetime[ns]</td><td>datetime[ns]</td><td>binary</td><td>datetime[ns, UTC]</td><td>i64</td><td>u32</td><td>u32</td><td>u32</td><td>u32</td><td>u32</td><td>u32</td><td>u32</td><td>u32</td><td>bool</td><td>str</td></tr></thead><tbody><tr><td>2023-09-05 23:09:12.498959</td><td>2024-06-07 16:48:55.476</td><td>b&quot;\\x0d\\xa3\\xe9\\x9c\\xb6\\xc3\\xd5QA4\\xab\\xbd%ed=\\x0a\\xd5\\xaf\\xf6&quot;</td><td>2023-11-07 19:52:23 UTC</td><td>880</td><td>2</td><td>3804</td><td>71974</td><td>6606</td><td>13642</td><td>36638</td><td>14655</td><td>21983</td><td>false</td><td>&quot;Bot or Not? Someone checked :\n",
       "Likely not a bot. Casts: tech, random, links&quot;</td></tr></tbody></table></div>"
      ],
      "text/plain": [
       "shape: (1, 15)\n",
       "┌────────────┬────────────┬────────────┬───────────┬───┬───────────┬───────────┬───────┬───────────┐\n",
       "│ created_at ┆ updated_at ┆ custody_ad ┆ registere ┆ … ┆ reply_cas ┆ casts_cou ┆ bot   ┆ text      │\n",
       "│ ---        ┆ ---        ┆ dress      ┆ d_at      ┆   ┆ ts_count  ┆ nt        ┆ ---   ┆ ---       │\n",
       "│ datetime[n ┆ datetime[n ┆ ---        ┆ ---       ┆   ┆ ---       ┆ ---       ┆ bool  ┆ str       │\n",
       "│ s]         ┆ s]         ┆ binary     ┆ datetime[ ┆   ┆ u32       ┆ u32       ┆       ┆           │\n",
       "│            ┆            ┆            ┆ ns, UTC]  ┆   ┆           ┆           ┆       ┆           │\n",
       "╞════════════╪════════════╪════════════╪═══════════╪═══╪═══════════╪═══════════╪═══════╪═══════════╡\n",
       "│ 2023-09-05 ┆ 2024-06-07 ┆ b\"\\x0d\\xa3 ┆ 2023-11-0 ┆ … ┆ 14655     ┆ 21983     ┆ false ┆ Bot or    │\n",
       "│ 23:09:12.4 ┆ 16:48:55.4 ┆ \\xe9\\x9c\\x ┆ 7         ┆   ┆           ┆           ┆       ┆ Not?      │\n",
       "│ 98959      ┆ 76         ┆ b6\\xc3\\xd5 ┆ 19:52:23  ┆   ┆           ┆           ┆       ┆ Someone   │\n",
       "│            ┆            ┆ QA4\\xab\\xb ┆ UTC       ┆   ┆           ┆           ┆       ┆ checked : │\n",
       "│            ┆            ┆ d%ed=\\x0a\\ ┆           ┆   ┆           ┆           ┆       ┆ Likely    │\n",
       "│            ┆            ┆ xd5\\xaf\\xf ┆           ┆   ┆           ┆           ┆       ┆ not a     │\n",
       "│            ┆            ┆ 6\"         ┆           ┆   ┆           ┆           ┆       ┆ bot.      │\n",
       "│            ┆            ┆            ┆           ┆   ┆           ┆           ┆       ┆ Casts:    │\n",
       "│            ┆            ┆            ┆           ┆   ┆           ┆           ┆       ┆ tech,     │\n",
       "│            ┆            ┆            ┆           ┆   ┆           ┆           ┆       ┆ random,   │\n",
       "│            ┆            ┆            ┆           ┆   ┆           ┆           ┆       ┆ links     │\n",
       "└────────────┴────────────┴────────────┴───────────┴───┴───────────┴───────────┴───────┴───────────┘"
      ]
     },
     "execution_count": 50,
     "metadata": {},
     "output_type": "execute_result"
    }
   ],
   "source": [
    "max_casts = non_bots.select(pl.col(\"casts_count\").max()).item()\n",
    "max_casts_row = non_bots.filter(pl.col(\"casts_count\") == max_casts)\n",
    "max_casts_row"
   ]
  },
  {
   "cell_type": "code",
   "execution_count": 51,
   "id": "48b11020-6242-4679-81e6-048c7aa2a087",
   "metadata": {},
   "outputs": [
    {
     "data": {
      "text/html": [
       "<div><style>\n",
       ".dataframe > thead > tr,\n",
       ".dataframe > tbody > tr {\n",
       "  text-align: right;\n",
       "  white-space: pre-wrap;\n",
       "}\n",
       "</style>\n",
       "<small>shape: (8, 7)</small><table border=\"1\" class=\"dataframe\"><thead><tr><th>created_at</th><th>updated_at</th><th>custody_address</th><th>expires_at</th><th>fid</th><th>deleted_at</th><th>fname</th></tr><tr><td>datetime[ns]</td><td>datetime[ns]</td><td>binary</td><td>datetime[ns]</td><td>i64</td><td>datetime[ns]</td><td>str</td></tr></thead><tbody><tr><td>2023-09-05 23:09:12.535528</td><td>2024-06-07 16:49:01.645</td><td>b&quot;\\x0d\\xa3\\xe9\\x9c\\xb6\\xc3\\xd5QA4\\xab\\xbd%ed=\\x0a\\xd5\\xaf\\xf6&quot;</td><td>null</td><td>880</td><td>null</td><td>&quot;alexanderchopan&quot;</td></tr><tr><td>2023-09-05 23:09:12.537781</td><td>2024-06-07 16:49:02.313</td><td>b&quot;/`\\xd2\\xbb\\x84\\xeb\\x8d\\xf6\\x95\\x1fr\\x15\\xef\\x03^\\xf0R\\xba&#x27;%&quot;</td><td>null</td><td>880</td><td>null</td><td>&quot;smartprofiles.eth&quot;</td></tr><tr><td>2023-09-05 23:09:12.539471</td><td>2024-06-07 16:49:02.458</td><td>b&quot;/`\\xd2\\xbb\\x84\\xeb\\x8d\\xf6\\x95\\x1fr\\x15\\xef\\x03^\\xf0R\\xba&#x27;%&quot;</td><td>null</td><td>880</td><td>null</td><td>&quot;alexanderchopan.eth&quot;</td></tr><tr><td>2023-09-05 23:09:12.541979</td><td>2024-06-07 16:49:02.693</td><td>b&quot;/`\\xd2\\xbb\\x84\\xeb\\x8d\\xf6\\x95\\x1fr\\x15\\xef\\x03^\\xf0R\\xba&#x27;%&quot;</td><td>null</td><td>880</td><td>null</td><td>&quot;chopan.eth&quot;</td></tr><tr><td>2023-09-05 23:09:12.543671</td><td>2024-06-07 16:49:02.810</td><td>b&quot;/`\\xd2\\xbb\\x84\\xeb\\x8d\\xf6\\x95\\x1fr\\x15\\xef\\x03^\\xf0R\\xba&#x27;%&quot;</td><td>null</td><td>880</td><td>null</td><td>&quot;mofn.eth&quot;</td></tr><tr><td>2023-09-05 23:09:12.547286</td><td>2024-06-07 16:49:02.872</td><td>b&quot;/`\\xd2\\xbb\\x84\\xeb\\x8d\\xf6\\x95\\x1fr\\x15\\xef\\x03^\\xf0R\\xba&#x27;%&quot;</td><td>null</td><td>880</td><td>null</td><td>&quot;secp256k1.eth&quot;</td></tr><tr><td>2023-09-05 23:09:12.549682</td><td>2024-06-07 16:49:02.889</td><td>b&quot;/`\\xd2\\xbb\\x84\\xeb\\x8d\\xf6\\x95\\x1fr\\x15\\xef\\x03^\\xf0R\\xba&#x27;%&quot;</td><td>null</td><td>880</td><td>null</td><td>&quot;sessionkeys.eth&quot;</td></tr><tr><td>2023-09-05 23:09:12.551311</td><td>2024-06-07 16:49:02.979</td><td>b&quot;/`\\xd2\\xbb\\x84\\xeb\\x8d\\xf6\\x95\\x1fr\\x15\\xef\\x03^\\xf0R\\xba&#x27;%&quot;</td><td>null</td><td>880</td><td>null</td><td>&quot;accountless.eth&quot;</td></tr></tbody></table></div>"
      ],
      "text/plain": [
       "shape: (8, 7)\n",
       "┌───────────────┬───────────────┬───────────────┬──────────────┬─────┬──────────────┬──────────────┐\n",
       "│ created_at    ┆ updated_at    ┆ custody_addre ┆ expires_at   ┆ fid ┆ deleted_at   ┆ fname        │\n",
       "│ ---           ┆ ---           ┆ ss            ┆ ---          ┆ --- ┆ ---          ┆ ---          │\n",
       "│ datetime[ns]  ┆ datetime[ns]  ┆ ---           ┆ datetime[ns] ┆ i64 ┆ datetime[ns] ┆ str          │\n",
       "│               ┆               ┆ binary        ┆              ┆     ┆              ┆              │\n",
       "╞═══════════════╪═══════════════╪═══════════════╪══════════════╪═════╪══════════════╪══════════════╡\n",
       "│ 2023-09-05    ┆ 2024-06-07    ┆ b\"\\x0d\\xa3\\xe ┆ null         ┆ 880 ┆ null         ┆ alexandercho │\n",
       "│ 23:09:12.5355 ┆ 16:49:01.645  ┆ 9\\x9c\\xb6\\xc3 ┆              ┆     ┆              ┆ pan          │\n",
       "│ 28            ┆               ┆ \\xd5QA4\\xab\\x ┆              ┆     ┆              ┆              │\n",
       "│               ┆               ┆ bd%ed=\\x0a\\xd ┆              ┆     ┆              ┆              │\n",
       "│               ┆               ┆ 5\\xaf\\xf6\"    ┆              ┆     ┆              ┆              │\n",
       "│ 2023-09-05    ┆ 2024-06-07    ┆ b\"/`\\xd2\\xbb\\ ┆ null         ┆ 880 ┆ null         ┆ smartprofile │\n",
       "│ 23:09:12.5377 ┆ 16:49:02.313  ┆ x84\\xeb\\x8d\\x ┆              ┆     ┆              ┆ s.eth        │\n",
       "│ 81            ┆               ┆ f6\\x95\\x1fr\\x ┆              ┆     ┆              ┆              │\n",
       "│               ┆               ┆ 15\\xef\\x03^\\x ┆              ┆     ┆              ┆              │\n",
       "│               ┆               ┆ f0R\\xba'%\"    ┆              ┆     ┆              ┆              │\n",
       "│ 2023-09-05    ┆ 2024-06-07    ┆ b\"/`\\xd2\\xbb\\ ┆ null         ┆ 880 ┆ null         ┆ alexandercho │\n",
       "│ 23:09:12.5394 ┆ 16:49:02.458  ┆ x84\\xeb\\x8d\\x ┆              ┆     ┆              ┆ pan.eth      │\n",
       "│ 71            ┆               ┆ f6\\x95\\x1fr\\x ┆              ┆     ┆              ┆              │\n",
       "│               ┆               ┆ 15\\xef\\x03^\\x ┆              ┆     ┆              ┆              │\n",
       "│               ┆               ┆ f0R\\xba'%\"    ┆              ┆     ┆              ┆              │\n",
       "│ 2023-09-05    ┆ 2024-06-07    ┆ b\"/`\\xd2\\xbb\\ ┆ null         ┆ 880 ┆ null         ┆ chopan.eth   │\n",
       "│ 23:09:12.5419 ┆ 16:49:02.693  ┆ x84\\xeb\\x8d\\x ┆              ┆     ┆              ┆              │\n",
       "│ 79            ┆               ┆ f6\\x95\\x1fr\\x ┆              ┆     ┆              ┆              │\n",
       "│               ┆               ┆ 15\\xef\\x03^\\x ┆              ┆     ┆              ┆              │\n",
       "│               ┆               ┆ f0R\\xba'%\"    ┆              ┆     ┆              ┆              │\n",
       "│ 2023-09-05    ┆ 2024-06-07    ┆ b\"/`\\xd2\\xbb\\ ┆ null         ┆ 880 ┆ null         ┆ mofn.eth     │\n",
       "│ 23:09:12.5436 ┆ 16:49:02.810  ┆ x84\\xeb\\x8d\\x ┆              ┆     ┆              ┆              │\n",
       "│ 71            ┆               ┆ f6\\x95\\x1fr\\x ┆              ┆     ┆              ┆              │\n",
       "│               ┆               ┆ 15\\xef\\x03^\\x ┆              ┆     ┆              ┆              │\n",
       "│               ┆               ┆ f0R\\xba'%\"    ┆              ┆     ┆              ┆              │\n",
       "│ 2023-09-05    ┆ 2024-06-07    ┆ b\"/`\\xd2\\xbb\\ ┆ null         ┆ 880 ┆ null         ┆ secp256k1.et │\n",
       "│ 23:09:12.5472 ┆ 16:49:02.872  ┆ x84\\xeb\\x8d\\x ┆              ┆     ┆              ┆ h            │\n",
       "│ 86            ┆               ┆ f6\\x95\\x1fr\\x ┆              ┆     ┆              ┆              │\n",
       "│               ┆               ┆ 15\\xef\\x03^\\x ┆              ┆     ┆              ┆              │\n",
       "│               ┆               ┆ f0R\\xba'%\"    ┆              ┆     ┆              ┆              │\n",
       "│ 2023-09-05    ┆ 2024-06-07    ┆ b\"/`\\xd2\\xbb\\ ┆ null         ┆ 880 ┆ null         ┆ sessionkeys. │\n",
       "│ 23:09:12.5496 ┆ 16:49:02.889  ┆ x84\\xeb\\x8d\\x ┆              ┆     ┆              ┆ eth          │\n",
       "│ 82            ┆               ┆ f6\\x95\\x1fr\\x ┆              ┆     ┆              ┆              │\n",
       "│               ┆               ┆ 15\\xef\\x03^\\x ┆              ┆     ┆              ┆              │\n",
       "│               ┆               ┆ f0R\\xba'%\"    ┆              ┆     ┆              ┆              │\n",
       "│ 2023-09-05    ┆ 2024-06-07    ┆ b\"/`\\xd2\\xbb\\ ┆ null         ┆ 880 ┆ null         ┆ accountless. │\n",
       "│ 23:09:12.5513 ┆ 16:49:02.979  ┆ x84\\xeb\\x8d\\x ┆              ┆     ┆              ┆ eth          │\n",
       "│ 11            ┆               ┆ f6\\x95\\x1fr\\x ┆              ┆     ┆              ┆              │\n",
       "│               ┆               ┆ 15\\xef\\x03^\\x ┆              ┆     ┆              ┆              │\n",
       "│               ┆               ┆ f0R\\xba'%\"    ┆              ┆     ┆              ┆              │\n",
       "└───────────────┴───────────────┴───────────────┴──────────────┴─────┴──────────────┴──────────────┘"
      ]
     },
     "execution_count": 51,
     "metadata": {},
     "output_type": "execute_result"
    }
   ],
   "source": [
    "fnames_df.filter(pl.col('fid') == 880)\n",
    "# https://warpcast.com/accountless.eth"
   ]
  }
 ],
 "metadata": {
  "kernelspec": {
   "display_name": "Python 3 (ipykernel)",
   "language": "python",
   "name": "python3"
  },
  "language_info": {
   "codemirror_mode": {
    "name": "ipython",
    "version": 3
   },
   "file_extension": ".py",
   "mimetype": "text/x-python",
   "name": "python",
   "nbconvert_exporter": "python",
   "pygments_lexer": "ipython3",
   "version": "3.10.5"
  }
 },
 "nbformat": 4,
 "nbformat_minor": 5
}
