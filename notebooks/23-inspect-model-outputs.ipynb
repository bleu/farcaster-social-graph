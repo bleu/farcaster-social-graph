{
 "cells": [
  {
   "cell_type": "code",
   "execution_count": 2,
   "metadata": {},
   "outputs": [],
   "source": [
    "import polars as pl\n",
    "import os\n",
    "\n",
    "DATA_PATH = os.getenv(\"DATA_PATH\")"
   ]
  },
  {
   "cell_type": "markdown",
   "metadata": {},
   "source": [
    "### Create model instance"
   ]
  },
  {
   "cell_type": "code",
   "execution_count": 3,
   "metadata": {},
   "outputs": [
    {
     "name": "stderr",
     "output_type": "stream",
     "text": [
      "/Users/jean/Library/Caches/pypoetry/virtualenvs/farcaster-social-graph-notebooks-_gupmy54-py3.12/lib/python3.12/site-packages/tqdm/auto.py:21: TqdmWarning: IProgress not found. Please update jupyter and ipywidgets. See https://ipywidgets.readthedocs.io/en/stable/user_install.html\n",
      "  from .autonotebook import tqdm as notebook_tqdm\n",
      "2025-01-09 12:00:08,137 - DetectorService - DEBUG - Loading existing model from checkpoint.\n"
     ]
    }
   ],
   "source": [
    "from pathlib import Path\n",
    "import polars as pl\n",
    "from farcaster_sybil_detection.config.defaults import Config\n",
    "from farcaster_sybil_detection.services.detector import DetectorService\n",
    "from farcaster_sybil_detection.features.registry import FeatureRegistry\n",
    "from farcaster_sybil_detection.features.extractors.content_engagement_extractor import (\n",
    "    ContentEngagementExtractor,\n",
    ")\n",
    "from farcaster_sybil_detection.features.extractors.network_analysis_extractor import (\n",
    "    NetworkAnalysisExtractor,\n",
    ")\n",
    "from farcaster_sybil_detection.features.extractors.temporal_behavior_extractor import (\n",
    "    TemporalBehaviorExtractor,\n",
    ")\n",
    "from farcaster_sybil_detection.features.extractors.user_identity_extractor import (\n",
    "    UserIdentityExtractor,\n",
    ")\n",
    "\n",
    "pl.Config.set_streaming_chunk_size(1_000_000)\n",
    "pl.Config.set_fmt_str_lengths(50)\n",
    "\n",
    "config = Config(\n",
    "    data_path=Path(f\"{DATA_PATH}/raw\"),\n",
    "    checkpoint_dir=Path(f\"checkpoints\"),\n",
    "    model_dir=Path(f\"{DATA_PATH}/models\"),\n",
    ")\n",
    "\n",
    "registry = FeatureRegistry()\n",
    "\n",
    "# Register in any order - manager will figure out correct build order\n",
    "registry.register(\"user_identity\", UserIdentityExtractor)\n",
    "registry.register(\"network_analysis\", NetworkAnalysisExtractor)\n",
    "registry.register(\"temporal_behavior\", TemporalBehaviorExtractor)\n",
    "registry.register(\"content_engagement\", ContentEngagementExtractor)\n",
    "# registry.register(\"reputation_meta\", ReputationMetaExtractor)\n",
    "\n",
    "detector = DetectorService(config, registry)"
   ]
  },
  {
   "cell_type": "markdown",
   "metadata": {},
   "source": [
    "### Train model"
   ]
  },
  {
   "cell_type": "code",
   "execution_count": null,
   "metadata": {},
   "outputs": [],
   "source": [
    "# labels = pl.read_parquet(f\"{DATA_PATH}/interim/labels.parquet\")\n",
    "# detector.train(labels)\n"
   ]
  },
  {
   "cell_type": "markdown",
   "metadata": {},
   "source": [
    "### Compute ML result for all data in checkpoints"
   ]
  },
  {
   "cell_type": "code",
   "execution_count": 4,
   "metadata": {},
   "outputs": [
    {
     "name": "stdout",
     "output_type": "stream",
     "text": [
      "network_analysis_filtered_5292248519603798795.parquet 695308\n",
      "network_analysis_filtered_-7342865693725668243.parquet 5048\n",
      "network_analysis_filtered_800890766114431589.parquet 199739\n"
     ]
    }
   ],
   "source": [
    "checkpoints_fids = []\n",
    "for file in os.listdir(\"checkpoints\"):\n",
    "  if \"network_analysis_filtered_\" not in file:\n",
    "    continue\n",
    "  df = pl.read_parquet(f\"checkpoints/{file}\")\n",
    "  checkpoints_fids += df[\"fid\"].to_list()\n",
    "  print(file, len(df))"
   ]
  },
  {
   "cell_type": "code",
   "execution_count": 6,
   "metadata": {},
   "outputs": [
    {
     "name": "stderr",
     "output_type": "stream",
     "text": [
      "2025-01-09 12:00:08,712 - FeatureManager - DEBUG - Starting feature matrix build - Memory usage: 508.80 MB\n",
      "2025-01-09 12:00:08,761 - FeatureManager - DEBUG - Base FIDs: 900095\n",
      "/Users/jean/bleu/farcaster-social-graph/farcaster-sybil-detection/farcaster_sybil_detection/features/manager.py:166: PerformanceWarning: Resolving the schema of a LazyFrame is a potentially expensive operation. Use `LazyFrame.collect_schema()` to get the schema without this warning.\n",
      "  f\"Feature matrix schema: {feature_matrix.schema} ({len(feature_matrix.columns)} columns)\"\n",
      "/Users/jean/bleu/farcaster-social-graph/farcaster-sybil-detection/farcaster_sybil_detection/features/manager.py:166: PerformanceWarning: Determining the column names of a LazyFrame requires resolving its schema, which is a potentially expensive operation. Use `LazyFrame.collect_schema().names()` to get the column names without this warning.\n",
      "  f\"Feature matrix schema: {feature_matrix.schema} ({len(feature_matrix.columns)} columns)\"\n",
      "2025-01-09 12:00:08,766 - FeatureManager - DEBUG - Feature matrix schema: Schema({'fid': Int64}) (1 columns)\n",
      "2025-01-09 12:00:08,770 - FeatureManager - DEBUG - Feature matrix size: naive plan: (run LazyFrame.explain(optimized=True) to see the optimized plan)\n",
      "\n",
      " SELECT [col(\"fid\").count()] FROM\n",
      "  DF [\"fid\"]; PROJECT */1 COLUMNS; SELECTION: None\n",
      "2025-01-09 12:00:08,770 - FeatureManager - DEBUG - Starting content_engagement - Memory usage: 516.70 MB\n",
      "2025-01-09 12:00:09,177 - FeatureManager - DEBUG - Using cached features for content_engagement\n",
      "/Users/jean/bleu/farcaster-social-graph/farcaster-sybil-detection/farcaster_sybil_detection/features/manager.py:57: PerformanceWarning: Determining the column names of a LazyFrame requires resolving its schema, which is a potentially expensive operation. Use `LazyFrame.collect_schema().names()` to get the column names without this warning.\n",
      "  for col in new_features.columns\n",
      "/Users/jean/bleu/farcaster-social-graph/farcaster-sybil-detection/farcaster_sybil_detection/features/manager.py:58: PerformanceWarning: Determining the column names of a LazyFrame requires resolving its schema, which is a potentially expensive operation. Use `LazyFrame.collect_schema().names()` to get the column names without this warning.\n",
      "  if col not in df.columns and col != \"fid\"\n",
      "2025-01-09 12:00:09,302 - FeatureManager - DEBUG - Starting network_analysis - Memory usage: 702.55 MB\n",
      "2025-01-09 12:00:09,626 - FeatureManager - DEBUG - Using cached features for network_analysis\n",
      "2025-01-09 12:00:09,744 - FeatureManager - DEBUG - Starting temporal_behavior - Memory usage: 726.75 MB\n",
      "2025-01-09 12:00:10,146 - FeatureManager - DEBUG - Using cached features for temporal_behavior\n",
      "2025-01-09 12:00:10,264 - FeatureManager - DEBUG - Starting user_identity - Memory usage: 739.56 MB\n",
      "2025-01-09 12:00:10,556 - FeatureManager - DEBUG - Using cached features for user_identity\n",
      "2025-01-09 12:00:10,659 - FeatureManager - DEBUG - Collecting final feature matrix\n",
      "2025-01-09 12:00:11,193 - FeatureManager - DEBUG - Feature matrix build completed - Memory usage: 2068.19 MB\n"
     ]
    }
   ],
   "source": [
    "X = detector.feature_manager.build_feature_matrix(checkpoints_fids)"
   ]
  },
  {
   "cell_type": "code",
   "execution_count": 7,
   "metadata": {},
   "outputs": [
    {
     "data": {
      "text/html": [
       "<div><style>\n",
       ".dataframe > thead > tr,\n",
       ".dataframe > tbody > tr {\n",
       "  text-align: right;\n",
       "  white-space: pre-wrap;\n",
       "}\n",
       "</style>\n",
       "<small>shape: (900_095, 112)</small><table border=\"1\" class=\"dataframe\"><thead><tr><th>fid</th><th>cast_count</th><th>reply_count</th><th>mention_count</th><th>avg_cast_length</th><th>link_usage_rate</th><th>content_type_diversity</th><th>content_complexity</th><th>total_reactions</th><th>like_count</th><th>recast_count</th><th>engagement_rate</th><th>viral_coefficient</th><th>audience_reach</th><th>engagement_consistency</th><th>conversation_depth</th><th>conversation_initiation_rate</th><th>thread_participation</th><th>content_originality</th><th>vocabulary_richness</th><th>hashtag_usage</th><th>casts_with_mentions</th><th>avg_mentions_per_cast</th><th>mention_frequency</th><th>emoji_spam_ratio</th><th>price_mention_ratio</th><th>symbol_spam_ratio</th><th>airdrop_term_ratio</th><th>follow_ratio</th><th>network_growth_rate</th><th>follow_velocity</th><th>network_age_hours</th><th>growth_stability</th><th>follower_growth_rate</th><th>following_growth_rate</th><th>follow_reciprocity</th><th>network_density</th><th>&hellip;</th><th>has_avatar</th><th>has_display_name</th><th>profile_completeness</th><th>display_name_length</th><th>bio_length</th><th>fname_random_numbers</th><th>fname_wallet_pattern</th><th>fname_excessive_symbols</th><th>fname_airdrop_terms</th><th>fname_has_year</th><th>bio_random_numbers</th><th>bio_wallet_pattern</th><th>bio_excessive_symbols</th><th>bio_airdrop_terms</th><th>bio_has_year</th><th>fname_entropy</th><th>bio_entropy</th><th>total_verifications</th><th>eth_verifications</th><th>verification_consistency</th><th>platforms_verified</th><th>verification_span_days</th><th>avg_hours_between_verifications</th><th>platform_diversity</th><th>verification_velocity</th><th>sequential_verifications</th><th>verification_gaps</th><th>storage_units</th><th>storage_utilization</th><th>storage_update_frequency</th><th>storage_growth_rate</th><th>storage_stability</th><th>storage_efficiency</th><th>identity_strength</th><th>verification_quality</th><th>profile_authenticity</th><th>resource_utilization</th></tr><tr><td>i64</td><td>f64</td><td>f64</td><td>f64</td><td>f64</td><td>f64</td><td>f64</td><td>f64</td><td>f64</td><td>f64</td><td>f64</td><td>f64</td><td>f64</td><td>f64</td><td>f64</td><td>f64</td><td>f64</td><td>f64</td><td>f64</td><td>f64</td><td>f64</td><td>u32</td><td>f64</td><td>f64</td><td>f64</td><td>f64</td><td>f64</td><td>f64</td><td>f64</td><td>f64</td><td>f64</td><td>f64</td><td>f64</td><td>f64</td><td>f64</td><td>f64</td><td>f64</td><td>&hellip;</td><td>i64</td><td>i64</td><td>f64</td><td>f64</td><td>i64</td><td>f64</td><td>f64</td><td>f64</td><td>f64</td><td>f64</td><td>f64</td><td>f64</td><td>f64</td><td>f64</td><td>f64</td><td>f64</td><td>f64</td><td>f64</td><td>f64</td><td>f64</td><td>f64</td><td>f64</td><td>f64</td><td>f64</td><td>f64</td><td>f64</td><td>f64</td><td>f64</td><td>f64</td><td>f64</td><td>f64</td><td>f64</td><td>f64</td><td>f64</td><td>f64</td><td>f64</td><td>f64</td></tr></thead><tbody><tr><td>255609</td><td>2281.0</td><td>1429.0</td><td>0.0</td><td>23.233231</td><td>0.138097</td><td>0.690815</td><td>0.0</td><td>5331.0</td><td>3002.0</td><td>2329.0</td><td>7.155705</td><td>0.436797</td><td>0.724832</td><td>5.366496</td><td>762.7637</td><td>0.37352</td><td>1.0</td><td>0.613766</td><td>7.915757</td><td>0.138097</td><td>214</td><td>0.120561</td><td>0.093819</td><td>0.002192</td><td>0.001315</td><td>0.0</td><td>0.245068</td><td>0.999212</td><td>0.0</td><td>221.227761</td><td>7485.0</td><td>222.320121</td><td>0.0</td><td>0.0</td><td>1.0</td><td>1.0</td><td>&hellip;</td><td>1</td><td>1</td><td>0.75</td><td>4.0</td><td>6</td><td>0.0</td><td>0.0</td><td>0.0</td><td>0.0</td><td>0.0</td><td>0.0</td><td>0.0</td><td>0.0</td><td>1.0</td><td>0.0</td><td>3.363636</td><td>5.428571</td><td>0.0</td><td>0.0</td><td>0.0</td><td>0.0</td><td>null</td><td>0.0</td><td>0.0</td><td>0.0</td><td>0.0</td><td>0.0</td><td>1.0</td><td>1.0</td><td>1.0</td><td>0.0</td><td>0.0</td><td>1.0</td><td>0.3</td><td>0.0</td><td>0.8</td><td>0.7</td></tr><tr><td>2236</td><td>234.0</td><td>152.0</td><td>0.0</td><td>58.029915</td><td>0.08547</td><td>0.80232</td><td>0.0</td><td>1280.0</td><td>1178.0</td><td>102.0</td><td>1.01992</td><td>0.079625</td><td>0.325896</td><td>5.366496</td><td>74.410256</td><td>0.350427</td><td>1.0</td><td>0.944444</td><td>7.915757</td><td>0.08547</td><td>35</td><td>0.222222</td><td>0.149573</td><td>0.0</td><td>0.07265</td><td>0.0</td><td>0.179487</td><td>0.997658</td><td>0.0</td><td>9.441489</td><td>19324.0</td><td>318.637921</td><td>0.0</td><td>0.0</td><td>1.0</td><td>1.0</td><td>&hellip;</td><td>1</td><td>1</td><td>0.75</td><td>12.0</td><td>91</td><td>0.0</td><td>0.0</td><td>0.0</td><td>0.0</td><td>0.0</td><td>1.0</td><td>0.0</td><td>0.0</td><td>0.0</td><td>0.0</td><td>7.4</td><td>0.413043</td><td>0.0</td><td>0.0</td><td>0.0</td><td>0.0</td><td>null</td><td>0.0</td><td>0.0</td><td>0.0</td><td>0.0</td><td>0.0</td><td>2.0</td><td>2.0</td><td>1.0</td><td>0.0</td><td>0.0</td><td>1.0</td><td>0.3</td><td>0.0</td><td>1.0</td><td>0.7</td></tr><tr><td>714129</td><td>0.0</td><td>0.0</td><td>0.0</td><td>0.0</td><td>0.0</td><td>0.0</td><td>null</td><td>0.0</td><td>0.0</td><td>0.0</td><td>0.0</td><td>0.0</td><td>0.0</td><td>0.0</td><td>0.0</td><td>0.0</td><td>0.0</td><td>0.0</td><td>0.0</td><td>0.0</td><td>0</td><td>0.0</td><td>0.0</td><td>0.0</td><td>0.0</td><td>0.0</td><td>0.0</td><td>0.986667</td><td>0.0</td><td>inf</td><td>0.0</td><td>0.0</td><td>0.0</td><td>0.0</td><td>0.0</td><td>0.0</td><td>&hellip;</td><td>1</td><td>1</td><td>0.75</td><td>11.0</td><td>3</td><td>0.0</td><td>0.0</td><td>0.0</td><td>0.0</td><td>0.0</td><td>0.0</td><td>0.0</td><td>0.0</td><td>0.0</td><td>0.0</td><td>3.083333</td><td>9.5</td><td>0.0</td><td>0.0</td><td>0.0</td><td>0.0</td><td>null</td><td>0.0</td><td>0.0</td><td>0.0</td><td>0.0</td><td>0.0</td><td>1.0</td><td>1.0</td><td>1.0</td><td>0.0</td><td>0.0</td><td>1.0</td><td>0.3</td><td>0.0</td><td>1.0</td><td>0.7</td></tr><tr><td>658680</td><td>23.0</td><td>0.0</td><td>0.0</td><td>104.521739</td><td>0.0</td><td>0.783736</td><td>0.0</td><td>10.0</td><td>10.0</td><td>0.0</td><td>0.149254</td><td>0.0</td><td>0.149254</td><td>5.366496</td><td>0.0</td><td>1.0</td><td>1.0</td><td>1.0</td><td>7.915757</td><td>0.0</td><td>1</td><td>0.043478</td><td>0.043478</td><td>0.0</td><td>0.086957</td><td>0.0</td><td>0.0</td><td>0.991228</td><td>0.0</td><td>3.624284</td><td>3496.0</td><td>130.362365</td><td>0.0</td><td>0.0</td><td>1.0</td><td>1.0</td><td>&hellip;</td><td>1</td><td>1</td><td>0.75</td><td>11.0</td><td>31</td><td>0.0</td><td>0.0</td><td>0.0</td><td>0.0</td><td>0.0</td><td>0.0</td><td>0.0</td><td>0.0</td><td>0.0</td><td>0.0</td><td>4.625</td><td>1.1875</td><td>0.0</td><td>0.0</td><td>0.0</td><td>0.0</td><td>null</td><td>0.0</td><td>0.0</td><td>0.0</td><td>0.0</td><td>0.0</td><td>1.0</td><td>1.0</td><td>1.0</td><td>0.0</td><td>0.0</td><td>1.0</td><td>0.3</td><td>0.0</td><td>1.0</td><td>0.7</td></tr><tr><td>686991</td><td>0.0</td><td>0.0</td><td>0.0</td><td>0.0</td><td>0.0</td><td>0.0</td><td>null</td><td>0.0</td><td>0.0</td><td>0.0</td><td>0.0</td><td>0.0</td><td>0.0</td><td>0.0</td><td>0.0</td><td>0.0</td><td>0.0</td><td>0.0</td><td>0.0</td><td>0.0</td><td>0</td><td>0.0</td><td>0.0</td><td>0.0</td><td>0.0</td><td>0.0</td><td>0.0</td><td>0.0</td><td>0.0</td><td>0.0</td><td>null</td><td>0.0</td><td>0.0</td><td>0.0</td><td>0.0</td><td>0.0</td><td>&hellip;</td><td>0</td><td>0</td><td>0.0</td><td>0.0</td><td>0</td><td>0.0</td><td>0.0</td><td>0.0</td><td>0.0</td><td>0.0</td><td>0.0</td><td>0.0</td><td>0.0</td><td>0.0</td><td>0.0</td><td>0.0</td><td>0.0</td><td>0.0</td><td>0.0</td><td>0.0</td><td>0.0</td><td>null</td><td>0.0</td><td>0.0</td><td>0.0</td><td>0.0</td><td>0.0</td><td>1.0</td><td>1.0</td><td>1.0</td><td>0.0</td><td>0.0</td><td>1.0</td><td>0.0</td><td>0.0</td><td>1.0</td><td>0.7</td></tr><tr><td>&hellip;</td><td>&hellip;</td><td>&hellip;</td><td>&hellip;</td><td>&hellip;</td><td>&hellip;</td><td>&hellip;</td><td>&hellip;</td><td>&hellip;</td><td>&hellip;</td><td>&hellip;</td><td>&hellip;</td><td>&hellip;</td><td>&hellip;</td><td>&hellip;</td><td>&hellip;</td><td>&hellip;</td><td>&hellip;</td><td>&hellip;</td><td>&hellip;</td><td>&hellip;</td><td>&hellip;</td><td>&hellip;</td><td>&hellip;</td><td>&hellip;</td><td>&hellip;</td><td>&hellip;</td><td>&hellip;</td><td>&hellip;</td><td>&hellip;</td><td>&hellip;</td><td>&hellip;</td><td>&hellip;</td><td>&hellip;</td><td>&hellip;</td><td>&hellip;</td><td>&hellip;</td><td>&hellip;</td><td>&hellip;</td><td>&hellip;</td><td>&hellip;</td><td>&hellip;</td><td>&hellip;</td><td>&hellip;</td><td>&hellip;</td><td>&hellip;</td><td>&hellip;</td><td>&hellip;</td><td>&hellip;</td><td>&hellip;</td><td>&hellip;</td><td>&hellip;</td><td>&hellip;</td><td>&hellip;</td><td>&hellip;</td><td>&hellip;</td><td>&hellip;</td><td>&hellip;</td><td>&hellip;</td><td>&hellip;</td><td>&hellip;</td><td>&hellip;</td><td>&hellip;</td><td>&hellip;</td><td>&hellip;</td><td>&hellip;</td><td>&hellip;</td><td>&hellip;</td><td>&hellip;</td><td>&hellip;</td><td>&hellip;</td><td>&hellip;</td><td>&hellip;</td><td>&hellip;</td><td>&hellip;</td></tr><tr><td>191112</td><td>0.0</td><td>0.0</td><td>0.0</td><td>0.0</td><td>0.0</td><td>0.0</td><td>null</td><td>0.0</td><td>0.0</td><td>0.0</td><td>0.0</td><td>0.0</td><td>0.0</td><td>0.0</td><td>0.0</td><td>0.0</td><td>0.0</td><td>0.0</td><td>0.0</td><td>0.0</td><td>0</td><td>0.0</td><td>0.0</td><td>0.0</td><td>0.0</td><td>0.0</td><td>0.0</td><td>0.0</td><td>0.0</td><td>0.0</td><td>null</td><td>0.0</td><td>0.0</td><td>0.0</td><td>0.0</td><td>0.0</td><td>&hellip;</td><td>0</td><td>0</td><td>0.0</td><td>0.0</td><td>0</td><td>0.0</td><td>0.0</td><td>0.0</td><td>0.0</td><td>0.0</td><td>0.0</td><td>0.0</td><td>0.0</td><td>0.0</td><td>0.0</td><td>0.0</td><td>0.0</td><td>0.0</td><td>0.0</td><td>0.0</td><td>0.0</td><td>null</td><td>0.0</td><td>0.0</td><td>0.0</td><td>0.0</td><td>0.0</td><td>0.0</td><td>0.0</td><td>0.0</td><td>0.0</td><td>0.0</td><td>0.0</td><td>0.0</td><td>0.0</td><td>1.0</td><td>0.2</td></tr><tr><td>36305</td><td>0.0</td><td>0.0</td><td>0.0</td><td>0.0</td><td>0.0</td><td>0.0</td><td>null</td><td>0.0</td><td>0.0</td><td>0.0</td><td>0.0</td><td>0.0</td><td>0.0</td><td>0.0</td><td>0.0</td><td>0.0</td><td>0.0</td><td>0.0</td><td>0.0</td><td>0.0</td><td>0</td><td>0.0</td><td>0.0</td><td>0.0</td><td>0.0</td><td>0.0</td><td>0.0</td><td>0.0</td><td>0.0</td><td>0.0</td><td>null</td><td>0.0</td><td>0.0</td><td>0.0</td><td>0.0</td><td>0.0</td><td>&hellip;</td><td>0</td><td>0</td><td>0.0</td><td>0.0</td><td>0</td><td>0.0</td><td>0.0</td><td>0.0</td><td>0.0</td><td>0.0</td><td>0.0</td><td>0.0</td><td>0.0</td><td>0.0</td><td>0.0</td><td>0.0</td><td>0.0</td><td>0.0</td><td>0.0</td><td>0.0</td><td>0.0</td><td>null</td><td>0.0</td><td>0.0</td><td>0.0</td><td>0.0</td><td>0.0</td><td>0.0</td><td>0.0</td><td>0.0</td><td>0.0</td><td>0.0</td><td>0.0</td><td>0.0</td><td>0.0</td><td>1.0</td><td>0.2</td></tr><tr><td>178137</td><td>0.0</td><td>0.0</td><td>0.0</td><td>0.0</td><td>0.0</td><td>0.0</td><td>null</td><td>0.0</td><td>0.0</td><td>0.0</td><td>0.0</td><td>0.0</td><td>0.0</td><td>0.0</td><td>0.0</td><td>0.0</td><td>0.0</td><td>0.0</td><td>0.0</td><td>0.0</td><td>0</td><td>0.0</td><td>0.0</td><td>0.0</td><td>0.0</td><td>0.0</td><td>0.0</td><td>0.0</td><td>0.0</td><td>0.0</td><td>null</td><td>0.0</td><td>0.0</td><td>0.0</td><td>0.0</td><td>0.0</td><td>&hellip;</td><td>0</td><td>0</td><td>0.0</td><td>0.0</td><td>0</td><td>0.0</td><td>0.0</td><td>0.0</td><td>0.0</td><td>0.0</td><td>0.0</td><td>0.0</td><td>0.0</td><td>0.0</td><td>0.0</td><td>0.0</td><td>0.0</td><td>0.0</td><td>0.0</td><td>0.0</td><td>0.0</td><td>null</td><td>0.0</td><td>0.0</td><td>0.0</td><td>0.0</td><td>0.0</td><td>0.0</td><td>0.0</td><td>0.0</td><td>0.0</td><td>0.0</td><td>0.0</td><td>0.0</td><td>0.0</td><td>1.0</td><td>0.2</td></tr><tr><td>80744</td><td>0.0</td><td>0.0</td><td>0.0</td><td>0.0</td><td>0.0</td><td>0.0</td><td>null</td><td>0.0</td><td>0.0</td><td>0.0</td><td>0.0</td><td>0.0</td><td>0.0</td><td>0.0</td><td>0.0</td><td>0.0</td><td>0.0</td><td>0.0</td><td>0.0</td><td>0.0</td><td>0</td><td>0.0</td><td>0.0</td><td>0.0</td><td>0.0</td><td>0.0</td><td>0.0</td><td>0.0</td><td>0.0</td><td>0.0</td><td>null</td><td>0.0</td><td>0.0</td><td>0.0</td><td>0.0</td><td>0.0</td><td>&hellip;</td><td>0</td><td>0</td><td>0.0</td><td>0.0</td><td>0</td><td>0.0</td><td>0.0</td><td>0.0</td><td>0.0</td><td>0.0</td><td>0.0</td><td>0.0</td><td>0.0</td><td>0.0</td><td>0.0</td><td>0.0</td><td>0.0</td><td>0.0</td><td>0.0</td><td>0.0</td><td>0.0</td><td>null</td><td>0.0</td><td>0.0</td><td>0.0</td><td>0.0</td><td>0.0</td><td>0.0</td><td>0.0</td><td>0.0</td><td>0.0</td><td>0.0</td><td>0.0</td><td>0.0</td><td>0.0</td><td>1.0</td><td>0.2</td></tr><tr><td>49015</td><td>0.0</td><td>0.0</td><td>0.0</td><td>0.0</td><td>0.0</td><td>0.0</td><td>null</td><td>0.0</td><td>0.0</td><td>0.0</td><td>0.0</td><td>0.0</td><td>0.0</td><td>0.0</td><td>0.0</td><td>0.0</td><td>0.0</td><td>0.0</td><td>0.0</td><td>0.0</td><td>0</td><td>0.0</td><td>0.0</td><td>0.0</td><td>0.0</td><td>0.0</td><td>0.0</td><td>0.0</td><td>0.0</td><td>0.0</td><td>null</td><td>0.0</td><td>0.0</td><td>0.0</td><td>0.0</td><td>0.0</td><td>&hellip;</td><td>0</td><td>0</td><td>0.0</td><td>0.0</td><td>0</td><td>0.0</td><td>0.0</td><td>0.0</td><td>0.0</td><td>0.0</td><td>0.0</td><td>0.0</td><td>0.0</td><td>0.0</td><td>0.0</td><td>0.0</td><td>0.0</td><td>0.0</td><td>0.0</td><td>0.0</td><td>0.0</td><td>null</td><td>0.0</td><td>0.0</td><td>0.0</td><td>0.0</td><td>0.0</td><td>0.0</td><td>0.0</td><td>0.0</td><td>0.0</td><td>0.0</td><td>0.0</td><td>0.0</td><td>0.0</td><td>1.0</td><td>0.2</td></tr></tbody></table></div>"
      ],
      "text/plain": [
       "shape: (900_095, 112)\n",
       "┌────────┬────────────┬────────────┬───────────┬───┬───────────┬───────────┬───────────┬───────────┐\n",
       "│ fid    ┆ cast_count ┆ reply_coun ┆ mention_c ┆ … ┆ identity_ ┆ verificat ┆ profile_a ┆ resource_ │\n",
       "│ ---    ┆ ---        ┆ t          ┆ ount      ┆   ┆ strength  ┆ ion_quali ┆ uthentici ┆ utilizati │\n",
       "│ i64    ┆ f64        ┆ ---        ┆ ---       ┆   ┆ ---       ┆ ty        ┆ ty        ┆ on        │\n",
       "│        ┆            ┆ f64        ┆ f64       ┆   ┆ f64       ┆ ---       ┆ ---       ┆ ---       │\n",
       "│        ┆            ┆            ┆           ┆   ┆           ┆ f64       ┆ f64       ┆ f64       │\n",
       "╞════════╪════════════╪════════════╪═══════════╪═══╪═══════════╪═══════════╪═══════════╪═══════════╡\n",
       "│ 255609 ┆ 2281.0     ┆ 1429.0     ┆ 0.0       ┆ … ┆ 0.3       ┆ 0.0       ┆ 0.8       ┆ 0.7       │\n",
       "│ 2236   ┆ 234.0      ┆ 152.0      ┆ 0.0       ┆ … ┆ 0.3       ┆ 0.0       ┆ 1.0       ┆ 0.7       │\n",
       "│ 714129 ┆ 0.0        ┆ 0.0        ┆ 0.0       ┆ … ┆ 0.3       ┆ 0.0       ┆ 1.0       ┆ 0.7       │\n",
       "│ 658680 ┆ 23.0       ┆ 0.0        ┆ 0.0       ┆ … ┆ 0.3       ┆ 0.0       ┆ 1.0       ┆ 0.7       │\n",
       "│ 686991 ┆ 0.0        ┆ 0.0        ┆ 0.0       ┆ … ┆ 0.0       ┆ 0.0       ┆ 1.0       ┆ 0.7       │\n",
       "│ …      ┆ …          ┆ …          ┆ …         ┆ … ┆ …         ┆ …         ┆ …         ┆ …         │\n",
       "│ 191112 ┆ 0.0        ┆ 0.0        ┆ 0.0       ┆ … ┆ 0.0       ┆ 0.0       ┆ 1.0       ┆ 0.2       │\n",
       "│ 36305  ┆ 0.0        ┆ 0.0        ┆ 0.0       ┆ … ┆ 0.0       ┆ 0.0       ┆ 1.0       ┆ 0.2       │\n",
       "│ 178137 ┆ 0.0        ┆ 0.0        ┆ 0.0       ┆ … ┆ 0.0       ┆ 0.0       ┆ 1.0       ┆ 0.2       │\n",
       "│ 80744  ┆ 0.0        ┆ 0.0        ┆ 0.0       ┆ … ┆ 0.0       ┆ 0.0       ┆ 1.0       ┆ 0.2       │\n",
       "│ 49015  ┆ 0.0        ┆ 0.0        ┆ 0.0       ┆ … ┆ 0.0       ┆ 0.0       ┆ 1.0       ┆ 0.2       │\n",
       "└────────┴────────────┴────────────┴───────────┴───┴───────────┴───────────┴───────────┴───────────┘"
      ]
     },
     "execution_count": 7,
     "metadata": {},
     "output_type": "execute_result"
    }
   ],
   "source": [
    "X"
   ]
  },
  {
   "cell_type": "code",
   "execution_count": 9,
   "metadata": {},
   "outputs": [
    {
     "name": "stdout",
     "output_type": "stream",
     "text": [
      "Total rows: 900095\n",
      "Rows with infinites: 145034\n",
      "Rows without infinites: 755061\n",
      "Sum of filtered rows: 900095\n",
      "Sum of rows matching infinite condition: shape: (1, 1)\n",
      "┌────────┐\n",
      "│ fid    │\n",
      "│ ---    │\n",
      "│ u32    │\n",
      "╞════════╡\n",
      "│ 145034 │\n",
      "└────────┘\n"
     ]
    }
   ],
   "source": [
    "print(\"Total rows:\", len(X))\n",
    "\n",
    "# Check rows with infinites\n",
    "with_inf = X.filter(pl.any_horizontal(pl.all().is_infinite()))\n",
    "print(\"Rows with infinites:\", len(with_inf))\n",
    "\n",
    "# Check rows without infinites\n",
    "without_inf = X.filter(~pl.col(\"fid\").is_in(with_inf[\"fid\"]))\n",
    "print(\"Rows without infinites:\", len(without_inf))"
   ]
  },
  {
   "cell_type": "code",
   "execution_count": null,
   "metadata": {},
   "outputs": [
    {
     "name": "stderr",
     "output_type": "stream",
     "text": [
      "/Users/jean/Library/Caches/pypoetry/virtualenvs/farcaster-social-graph-notebooks-_gupmy54-py3.12/lib/python3.12/site-packages/sklearn/base.py:486: UserWarning: X has feature names, but RandomForestClassifier was fitted without feature names\n",
      "  warnings.warn(\n",
      "/Users/jean/Library/Caches/pypoetry/virtualenvs/farcaster-social-graph-notebooks-_gupmy54-py3.12/lib/python3.12/site-packages/sklearn/base.py:486: UserWarning: X has feature names, but RandomForestClassifier was fitted without feature names\n",
      "  warnings.warn(\n",
      "/Users/jean/Library/Caches/pypoetry/virtualenvs/farcaster-social-graph-notebooks-_gupmy54-py3.12/lib/python3.12/site-packages/sklearn/base.py:486: UserWarning: X has feature names, but RandomForestClassifier was fitted without feature names\n",
      "  warnings.warn(\n",
      "/Users/jean/Library/Caches/pypoetry/virtualenvs/farcaster-social-graph-notebooks-_gupmy54-py3.12/lib/python3.12/site-packages/sklearn/base.py:486: UserWarning: X has feature names, but RandomForestClassifier was fitted without feature names\n",
      "  warnings.warn(\n",
      "/Users/jean/Library/Caches/pypoetry/virtualenvs/farcaster-social-graph-notebooks-_gupmy54-py3.12/lib/python3.12/site-packages/sklearn/base.py:486: UserWarning: X has feature names, but RandomForestClassifier was fitted without feature names\n",
      "  warnings.warn(\n"
     ]
    },
    {
     "name": "stdout",
     "output_type": "stream",
     "text": [
      "[LightGBM] [Warning] feature_fraction is set=0.9787690009884803, colsample_bytree=1.0 will be ignored. Current value: feature_fraction=0.9787690009884803\n",
      "[LightGBM] [Warning] bagging_fraction is set=0.9470844703487703, subsample=1.0 will be ignored. Current value: bagging_fraction=0.9470844703487703\n",
      "[LightGBM] [Warning] feature_fraction is set=0.9787690009884803, colsample_bytree=1.0 will be ignored. Current value: feature_fraction=0.9787690009884803\n",
      "[LightGBM] [Warning] bagging_fraction is set=0.9470844703487703, subsample=1.0 will be ignored. Current value: bagging_fraction=0.9470844703487703\n",
      "[LightGBM] [Warning] feature_fraction is set=0.9787690009884803, colsample_bytree=1.0 will be ignored. Current value: feature_fraction=0.9787690009884803\n",
      "[LightGBM] [Warning] bagging_fraction is set=0.9470844703487703, subsample=1.0 will be ignored. Current value: bagging_fraction=0.9470844703487703\n",
      "[LightGBM] [Warning] feature_fraction is set=0.9787690009884803, colsample_bytree=1.0 will be ignored. Current value: feature_fraction=0.9787690009884803\n",
      "[LightGBM] [Warning] bagging_fraction is set=0.9470844703487703, subsample=1.0 will be ignored. Current value: bagging_fraction=0.9470844703487703\n",
      "[LightGBM] [Warning] feature_fraction is set=0.9787690009884803, colsample_bytree=1.0 will be ignored. Current value: feature_fraction=0.9787690009884803\n",
      "[LightGBM] [Warning] bagging_fraction is set=0.9470844703487703, subsample=1.0 will be ignored. Current value: bagging_fraction=0.9470844703487703\n"
     ]
    },
    {
     "name": "stderr",
     "output_type": "stream",
     "text": [
      "/Users/jean/Library/Caches/pypoetry/virtualenvs/farcaster-social-graph-notebooks-_gupmy54-py3.12/lib/python3.12/site-packages/sklearn/base.py:486: UserWarning: X has feature names, but RandomForestClassifier was fitted without feature names\n",
      "  warnings.warn(\n",
      "/Users/jean/Library/Caches/pypoetry/virtualenvs/farcaster-social-graph-notebooks-_gupmy54-py3.12/lib/python3.12/site-packages/sklearn/base.py:486: UserWarning: X has feature names, but RandomForestClassifier was fitted without feature names\n",
      "  warnings.warn(\n",
      "/Users/jean/Library/Caches/pypoetry/virtualenvs/farcaster-social-graph-notebooks-_gupmy54-py3.12/lib/python3.12/site-packages/sklearn/base.py:486: UserWarning: X has feature names, but RandomForestClassifier was fitted without feature names\n",
      "  warnings.warn(\n",
      "/Users/jean/Library/Caches/pypoetry/virtualenvs/farcaster-social-graph-notebooks-_gupmy54-py3.12/lib/python3.12/site-packages/sklearn/base.py:486: UserWarning: X has feature names, but RandomForestClassifier was fitted without feature names\n",
      "  warnings.warn(\n",
      "/Users/jean/Library/Caches/pypoetry/virtualenvs/farcaster-social-graph-notebooks-_gupmy54-py3.12/lib/python3.12/site-packages/sklearn/base.py:486: UserWarning: X has feature names, but RandomForestClassifier was fitted without feature names\n",
      "  warnings.warn(\n"
     ]
    },
    {
     "name": "stdout",
     "output_type": "stream",
     "text": [
      "[LightGBM] [Warning] feature_fraction is set=0.9787690009884803, colsample_bytree=1.0 will be ignored. Current value: feature_fraction=0.9787690009884803\n",
      "[LightGBM] [Warning] bagging_fraction is set=0.9470844703487703, subsample=1.0 will be ignored. Current value: bagging_fraction=0.9470844703487703\n",
      "[LightGBM] [Warning] feature_fraction is set=0.9787690009884803, colsample_bytree=1.0 will be ignored. Current value: feature_fraction=0.9787690009884803\n",
      "[LightGBM] [Warning] bagging_fraction is set=0.9470844703487703, subsample=1.0 will be ignored. Current value: bagging_fraction=0.9470844703487703\n",
      "[LightGBM] [Warning] feature_fraction is set=0.9787690009884803, colsample_bytree=1.0 will be ignored. Current value: feature_fraction=0.9787690009884803\n",
      "[LightGBM] [Warning] bagging_fraction is set=0.9470844703487703, subsample=1.0 will be ignored. Current value: bagging_fraction=0.9470844703487703\n",
      "[LightGBM] [Warning] feature_fraction is set=0.9787690009884803, colsample_bytree=1.0 will be ignored. Current value: feature_fraction=0.9787690009884803\n",
      "[LightGBM] [Warning] bagging_fraction is set=0.9470844703487703, subsample=1.0 will be ignored. Current value: bagging_fraction=0.9470844703487703\n",
      "[LightGBM] [Warning] feature_fraction is set=0.9787690009884803, colsample_bytree=1.0 will be ignored. Current value: feature_fraction=0.9787690009884803\n",
      "[LightGBM] [Warning] bagging_fraction is set=0.9470844703487703, subsample=1.0 will be ignored. Current value: bagging_fraction=0.9470844703487703\n"
     ]
    }
   ],
   "source": [
    "model = detector.predictor.model\n",
    "y = model.predict_proba(without_inf[model.feature_names])"
   ]
  },
  {
   "cell_type": "code",
   "execution_count": 19,
   "metadata": {},
   "outputs": [
    {
     "data": {
      "text/plain": [
       "array([0.9913744 , 0.28883509, 0.08167649, ..., 0.03785443, 0.03785443,\n",
       "       0.03785443])"
      ]
     },
     "execution_count": 19,
     "metadata": {},
     "output_type": "execute_result"
    }
   ],
   "source": [
    "y[:,1]"
   ]
  },
  {
   "cell_type": "code",
   "execution_count": 20,
   "metadata": {},
   "outputs": [
    {
     "data": {
      "image/png": "[encoded data removed]",
      "text/plain": [
       "<Figure size 640x480 with 1 Axes>"
      ]
     },
     "metadata": {},
     "output_type": "display_data"
    }
   ],
   "source": [
    "import matplotlib.pyplot as plt\n",
    "\n",
    "plt.hist(y[:,1],bins=100)\n",
    "plt.show()"
   ]
  },
  {
   "cell_type": "markdown",
   "metadata": {},
   "source": [
    "### Create a results dataframe"
   ]
  },
  {
   "cell_type": "code",
   "execution_count": 21,
   "metadata": {},
   "outputs": [],
   "source": [
    "results = pl.DataFrame({\n",
    "    \"fid\":without_inf[\"fid\"].to_list(),\n",
    "    \"ml_proba\":y[:,1]\n",
    "  },{\n",
    "    \"fid\":pl.Int64,\"ml_proba\":pl.Float64\n",
    "  })"
   ]
  },
  {
   "cell_type": "code",
   "execution_count": 22,
   "metadata": {},
   "outputs": [
    {
     "data": {
      "text/html": [
       "<div><style>\n",
       ".dataframe > thead > tr,\n",
       ".dataframe > tbody > tr {\n",
       "  text-align: right;\n",
       "  white-space: pre-wrap;\n",
       "}\n",
       "</style>\n",
       "<small>shape: (755_061, 2)</small><table border=\"1\" class=\"dataframe\"><thead><tr><th>fid</th><th>ml_proba</th></tr><tr><td>i64</td><td>f64</td></tr></thead><tbody><tr><td>255609</td><td>0.991374</td></tr><tr><td>2236</td><td>0.288835</td></tr><tr><td>658680</td><td>0.081676</td></tr><tr><td>686991</td><td>0.037852</td></tr><tr><td>229391</td><td>0.037624</td></tr><tr><td>&hellip;</td><td>&hellip;</td></tr><tr><td>191112</td><td>0.037854</td></tr><tr><td>36305</td><td>0.037854</td></tr><tr><td>178137</td><td>0.037854</td></tr><tr><td>80744</td><td>0.037854</td></tr><tr><td>49015</td><td>0.037854</td></tr></tbody></table></div>"
      ],
      "text/plain": [
       "shape: (755_061, 2)\n",
       "┌────────┬──────────┐\n",
       "│ fid    ┆ ml_proba │\n",
       "│ ---    ┆ ---      │\n",
       "│ i64    ┆ f64      │\n",
       "╞════════╪══════════╡\n",
       "│ 255609 ┆ 0.991374 │\n",
       "│ 2236   ┆ 0.288835 │\n",
       "│ 658680 ┆ 0.081676 │\n",
       "│ 686991 ┆ 0.037852 │\n",
       "│ 229391 ┆ 0.037624 │\n",
       "│ …      ┆ …        │\n",
       "│ 191112 ┆ 0.037854 │\n",
       "│ 36305  ┆ 0.037854 │\n",
       "│ 178137 ┆ 0.037854 │\n",
       "│ 80744  ┆ 0.037854 │\n",
       "│ 49015  ┆ 0.037854 │\n",
       "└────────┴──────────┘"
      ]
     },
     "execution_count": 22,
     "metadata": {},
     "output_type": "execute_result"
    }
   ],
   "source": [
    "results"
   ]
  },
  {
   "cell_type": "code",
   "execution_count": 55,
   "metadata": {},
   "outputs": [
    {
     "data": {
      "image/png": "[encoded data removed]",
      "text/plain": [
       "<Figure size 640x480 with 1 Axes>"
      ]
     },
     "metadata": {},
     "output_type": "display_data"
    }
   ],
   "source": [
    "import matplotlib.pyplot as plt\n",
    "plt.hist(results[\"ml_proba\"],bins=50)\n",
    "plt.title(\"ML sybil probabilities distribution\")\n",
    "plt.show()"
   ]
  },
  {
   "cell_type": "code",
   "execution_count": 24,
   "metadata": {},
   "outputs": [],
   "source": [
    "fnames = pl.read_parquet(f\"{DATA_PATH}/raw/farcaster-fnames-0-1730134800.parquet\")\n",
    "last_fnames = fnames[[\"fid\",\"updated_at\"]].group_by(\"fid\").max()\n",
    "last_fnames = last_fnames.join(fnames,on=[\"fid\",\"updated_at\"],how=\"left\",coalesce=True)[[\"fid\",\"fname\"]]\n",
    "\n",
    "labels = pl.read_parquet(f\"{DATA_PATH}/interim/labels.parquet\")"
   ]
  },
  {
   "cell_type": "code",
   "execution_count": 25,
   "metadata": {},
   "outputs": [
    {
     "data": {
      "text/html": [
       "<div><style>\n",
       ".dataframe > thead > tr,\n",
       ".dataframe > tbody > tr {\n",
       "  text-align: right;\n",
       "  white-space: pre-wrap;\n",
       "}\n",
       "</style>\n",
       "<small>shape: (755_061, 3)</small><table border=\"1\" class=\"dataframe\"><thead><tr><th>fid</th><th>ml_proba</th><th>fname</th></tr><tr><td>i64</td><td>f64</td><td>str</td></tr></thead><tbody><tr><td>255609</td><td>0.991374</td><td>&quot;regiranger&quot;</td></tr><tr><td>2236</td><td>0.288835</td><td>&quot;amin&quot;</td></tr><tr><td>658680</td><td>0.081676</td><td>&quot;thane0n&quot;</td></tr><tr><td>686991</td><td>0.037852</td><td>null</td></tr><tr><td>229391</td><td>0.037624</td><td>&quot;waffeletten&quot;</td></tr><tr><td>&hellip;</td><td>&hellip;</td><td>&hellip;</td></tr><tr><td>191112</td><td>0.037854</td><td>null</td></tr><tr><td>36305</td><td>0.037854</td><td>null</td></tr><tr><td>178137</td><td>0.037854</td><td>null</td></tr><tr><td>80744</td><td>0.037854</td><td>null</td></tr><tr><td>49015</td><td>0.037854</td><td>null</td></tr></tbody></table></div>"
      ],
      "text/plain": [
       "shape: (755_061, 3)\n",
       "┌────────┬──────────┬─────────────┐\n",
       "│ fid    ┆ ml_proba ┆ fname       │\n",
       "│ ---    ┆ ---      ┆ ---         │\n",
       "│ i64    ┆ f64      ┆ str         │\n",
       "╞════════╪══════════╪═════════════╡\n",
       "│ 255609 ┆ 0.991374 ┆ regiranger  │\n",
       "│ 2236   ┆ 0.288835 ┆ amin        │\n",
       "│ 658680 ┆ 0.081676 ┆ thane0n     │\n",
       "│ 686991 ┆ 0.037852 ┆ null        │\n",
       "│ 229391 ┆ 0.037624 ┆ waffeletten │\n",
       "│ …      ┆ …        ┆ …           │\n",
       "│ 191112 ┆ 0.037854 ┆ null        │\n",
       "│ 36305  ┆ 0.037854 ┆ null        │\n",
       "│ 178137 ┆ 0.037854 ┆ null        │\n",
       "│ 80744  ┆ 0.037854 ┆ null        │\n",
       "│ 49015  ┆ 0.037854 ┆ null        │\n",
       "└────────┴──────────┴─────────────┘"
      ]
     },
     "execution_count": 25,
     "metadata": {},
     "output_type": "execute_result"
    }
   ],
   "source": [
    "results = results.join(last_fnames,how=\"left\",on=\"fid\",coalesce=True)\n",
    "results"
   ]
  },
  {
   "cell_type": "markdown",
   "metadata": {},
   "source": [
    "### Ensemble with sybilscar"
   ]
  },
  {
   "cell_type": "code",
   "execution_count": 26,
   "metadata": {},
   "outputs": [
    {
     "data": {
      "text/html": [
       "<div><style>\n",
       ".dataframe > thead > tr,\n",
       ".dataframe > tbody > tr {\n",
       "  text-align: right;\n",
       "  white-space: pre-wrap;\n",
       "}\n",
       "</style>\n",
       "<small>shape: (375_366, 4)</small><table border=\"1\" class=\"dataframe\"><thead><tr><th>fid_index</th><th>posterior</th><th>fid</th><th>sybilscar_proba</th></tr><tr><td>i64</td><td>f64</td><td>i64</td><td>f64</td></tr></thead><tbody><tr><td>184830</td><td>0.0</td><td>610208</td><td>1.0</td></tr><tr><td>96628</td><td>0.0</td><td>192804</td><td>1.0</td></tr><tr><td>294716</td><td>0.0</td><td>748147</td><td>1.0</td></tr><tr><td>178313</td><td>1.0</td><td>246616</td><td>0.0</td></tr><tr><td>240437</td><td>0.0</td><td>769577</td><td>1.0</td></tr><tr><td>&hellip;</td><td>&hellip;</td><td>&hellip;</td><td>&hellip;</td></tr><tr><td>365426</td><td>0.0</td><td>669904</td><td>1.0</td></tr><tr><td>56598</td><td>0.0</td><td>593844</td><td>1.0</td></tr><tr><td>103020</td><td>0.0</td><td>624311</td><td>1.0</td></tr><tr><td>192157</td><td>0.0</td><td>865475</td><td>1.0</td></tr><tr><td>51635</td><td>0.0</td><td>303240</td><td>1.0</td></tr></tbody></table></div>"
      ],
      "text/plain": [
       "shape: (375_366, 4)\n",
       "┌───────────┬───────────┬────────┬─────────────────┐\n",
       "│ fid_index ┆ posterior ┆ fid    ┆ sybilscar_proba │\n",
       "│ ---       ┆ ---       ┆ ---    ┆ ---             │\n",
       "│ i64       ┆ f64       ┆ i64    ┆ f64             │\n",
       "╞═══════════╪═══════════╪════════╪═════════════════╡\n",
       "│ 184830    ┆ 0.0       ┆ 610208 ┆ 1.0             │\n",
       "│ 96628     ┆ 0.0       ┆ 192804 ┆ 1.0             │\n",
       "│ 294716    ┆ 0.0       ┆ 748147 ┆ 1.0             │\n",
       "│ 178313    ┆ 1.0       ┆ 246616 ┆ 0.0             │\n",
       "│ 240437    ┆ 0.0       ┆ 769577 ┆ 1.0             │\n",
       "│ …         ┆ …         ┆ …      ┆ …               │\n",
       "│ 365426    ┆ 0.0       ┆ 669904 ┆ 1.0             │\n",
       "│ 56598     ┆ 0.0       ┆ 593844 ┆ 1.0             │\n",
       "│ 103020    ┆ 0.0       ┆ 624311 ┆ 1.0             │\n",
       "│ 192157    ┆ 0.0       ┆ 865475 ┆ 1.0             │\n",
       "│ 51635     ┆ 0.0       ┆ 303240 ┆ 1.0             │\n",
       "└───────────┴───────────┴────────┴─────────────────┘"
      ]
     },
     "execution_count": 26,
     "metadata": {},
     "output_type": "execute_result"
    }
   ],
   "source": [
    "import numpy as np\n",
    "\n",
    "sybilscar_results = pl.read_parquet(f\"{DATA_PATH}/interim/sybil_scar_results.parquet\")\n",
    "sybilscar_results = sybilscar_results.with_columns(np.ones(len(sybilscar_results))-pl.col(\"posterior\").alias(\"sybilscar_proba\"))\n",
    "sybilscar_results"
   ]
  },
  {
   "cell_type": "code",
   "execution_count": 54,
   "metadata": {},
   "outputs": [
    {
     "data": {
      "image/png": "[encoded data removed]",
      "text/plain": [
       "<Figure size 640x480 with 1 Axes>"
      ]
     },
     "metadata": {},
     "output_type": "display_data"
    }
   ],
   "source": [
    "import matplotlib.pyplot as plt\n",
    "plt.hist(sybilscar_results[\"sybilscar_proba\"],bins=50)\n",
    "plt.title(\"SybilSCAR sybil probabilities distribution\")\n",
    "plt.show()"
   ]
  },
  {
   "cell_type": "code",
   "execution_count": 27,
   "metadata": {},
   "outputs": [
    {
     "data": {
      "text/html": [
       "<div><style>\n",
       ".dataframe > thead > tr,\n",
       ".dataframe > tbody > tr {\n",
       "  text-align: right;\n",
       "  white-space: pre-wrap;\n",
       "}\n",
       "</style>\n",
       "<small>shape: (755_061, 4)</small><table border=\"1\" class=\"dataframe\"><thead><tr><th>fid</th><th>ml_proba</th><th>fname</th><th>sybilscar_proba</th></tr><tr><td>i64</td><td>f64</td><td>str</td><td>f64</td></tr></thead><tbody><tr><td>255609</td><td>0.991374</td><td>&quot;regiranger&quot;</td><td>1.0</td></tr><tr><td>2236</td><td>0.288835</td><td>&quot;amin&quot;</td><td>0.0</td></tr><tr><td>658680</td><td>0.081676</td><td>&quot;thane0n&quot;</td><td>1.0</td></tr><tr><td>686991</td><td>0.037852</td><td>null</td><td>null</td></tr><tr><td>229391</td><td>0.037624</td><td>&quot;waffeletten&quot;</td><td>null</td></tr><tr><td>&hellip;</td><td>&hellip;</td><td>&hellip;</td><td>&hellip;</td></tr><tr><td>191112</td><td>0.037854</td><td>null</td><td>null</td></tr><tr><td>36305</td><td>0.037854</td><td>null</td><td>null</td></tr><tr><td>178137</td><td>0.037854</td><td>null</td><td>null</td></tr><tr><td>80744</td><td>0.037854</td><td>null</td><td>null</td></tr><tr><td>49015</td><td>0.037854</td><td>null</td><td>null</td></tr></tbody></table></div>"
      ],
      "text/plain": [
       "shape: (755_061, 4)\n",
       "┌────────┬──────────┬─────────────┬─────────────────┐\n",
       "│ fid    ┆ ml_proba ┆ fname       ┆ sybilscar_proba │\n",
       "│ ---    ┆ ---      ┆ ---         ┆ ---             │\n",
       "│ i64    ┆ f64      ┆ str         ┆ f64             │\n",
       "╞════════╪══════════╪═════════════╪═════════════════╡\n",
       "│ 255609 ┆ 0.991374 ┆ regiranger  ┆ 1.0             │\n",
       "│ 2236   ┆ 0.288835 ┆ amin        ┆ 0.0             │\n",
       "│ 658680 ┆ 0.081676 ┆ thane0n     ┆ 1.0             │\n",
       "│ 686991 ┆ 0.037852 ┆ null        ┆ null            │\n",
       "│ 229391 ┆ 0.037624 ┆ waffeletten ┆ null            │\n",
       "│ …      ┆ …        ┆ …           ┆ …               │\n",
       "│ 191112 ┆ 0.037854 ┆ null        ┆ null            │\n",
       "│ 36305  ┆ 0.037854 ┆ null        ┆ null            │\n",
       "│ 178137 ┆ 0.037854 ┆ null        ┆ null            │\n",
       "│ 80744  ┆ 0.037854 ┆ null        ┆ null            │\n",
       "│ 49015  ┆ 0.037854 ┆ null        ┆ null            │\n",
       "└────────┴──────────┴─────────────┴─────────────────┘"
      ]
     },
     "execution_count": 27,
     "metadata": {},
     "output_type": "execute_result"
    }
   ],
   "source": [
    "all_results = results.join(sybilscar_results[[\"fid\",\"sybilscar_proba\"]],how=\"left\",on=\"fid\",coalesce=True)\n",
    "all_results"
   ]
  },
  {
   "cell_type": "code",
   "execution_count": 28,
   "metadata": {},
   "outputs": [
    {
     "data": {
      "text/html": [
       "<div><style>\n",
       ".dataframe > thead > tr,\n",
       ".dataframe > tbody > tr {\n",
       "  text-align: right;\n",
       "  white-space: pre-wrap;\n",
       "}\n",
       "</style>\n",
       "<small>shape: (755_061, 6)</small><table border=\"1\" class=\"dataframe\"><thead><tr><th>fid</th><th>ml_proba</th><th>fname</th><th>sybilscar_proba</th><th>sybil_probability</th><th>sybil_diagnosis</th></tr><tr><td>i64</td><td>f64</td><td>str</td><td>f64</td><td>f64</td><td>bool</td></tr></thead><tbody><tr><td>255609</td><td>0.991374</td><td>&quot;regiranger&quot;</td><td>1.0</td><td>0.995687</td><td>true</td></tr><tr><td>2236</td><td>0.288835</td><td>&quot;amin&quot;</td><td>0.0</td><td>0.144418</td><td>false</td></tr><tr><td>658680</td><td>0.081676</td><td>&quot;thane0n&quot;</td><td>1.0</td><td>0.540838</td><td>null</td></tr><tr><td>686991</td><td>0.037852</td><td>null</td><td>null</td><td>0.037852</td><td>false</td></tr><tr><td>229391</td><td>0.037624</td><td>&quot;waffeletten&quot;</td><td>null</td><td>0.037624</td><td>false</td></tr><tr><td>&hellip;</td><td>&hellip;</td><td>&hellip;</td><td>&hellip;</td><td>&hellip;</td><td>&hellip;</td></tr><tr><td>191112</td><td>0.037854</td><td>null</td><td>null</td><td>0.037854</td><td>false</td></tr><tr><td>36305</td><td>0.037854</td><td>null</td><td>null</td><td>0.037854</td><td>false</td></tr><tr><td>178137</td><td>0.037854</td><td>null</td><td>null</td><td>0.037854</td><td>false</td></tr><tr><td>80744</td><td>0.037854</td><td>null</td><td>null</td><td>0.037854</td><td>false</td></tr><tr><td>49015</td><td>0.037854</td><td>null</td><td>null</td><td>0.037854</td><td>false</td></tr></tbody></table></div>"
      ],
      "text/plain": [
       "shape: (755_061, 6)\n",
       "┌────────┬──────────┬─────────────┬─────────────────┬───────────────────┬─────────────────┐\n",
       "│ fid    ┆ ml_proba ┆ fname       ┆ sybilscar_proba ┆ sybil_probability ┆ sybil_diagnosis │\n",
       "│ ---    ┆ ---      ┆ ---         ┆ ---             ┆ ---               ┆ ---             │\n",
       "│ i64    ┆ f64      ┆ str         ┆ f64             ┆ f64               ┆ bool            │\n",
       "╞════════╪══════════╪═════════════╪═════════════════╪═══════════════════╪═════════════════╡\n",
       "│ 255609 ┆ 0.991374 ┆ regiranger  ┆ 1.0             ┆ 0.995687          ┆ true            │\n",
       "│ 2236   ┆ 0.288835 ┆ amin        ┆ 0.0             ┆ 0.144418          ┆ false           │\n",
       "│ 658680 ┆ 0.081676 ┆ thane0n     ┆ 1.0             ┆ 0.540838          ┆ null            │\n",
       "│ 686991 ┆ 0.037852 ┆ null        ┆ null            ┆ 0.037852          ┆ false           │\n",
       "│ 229391 ┆ 0.037624 ┆ waffeletten ┆ null            ┆ 0.037624          ┆ false           │\n",
       "│ …      ┆ …        ┆ …           ┆ …               ┆ …                 ┆ …               │\n",
       "│ 191112 ┆ 0.037854 ┆ null        ┆ null            ┆ 0.037854          ┆ false           │\n",
       "│ 36305  ┆ 0.037854 ┆ null        ┆ null            ┆ 0.037854          ┆ false           │\n",
       "│ 178137 ┆ 0.037854 ┆ null        ┆ null            ┆ 0.037854          ┆ false           │\n",
       "│ 80744  ┆ 0.037854 ┆ null        ┆ null            ┆ 0.037854          ┆ false           │\n",
       "│ 49015  ┆ 0.037854 ┆ null        ┆ null            ┆ 0.037854          ┆ false           │\n",
       "└────────┴──────────┴─────────────┴─────────────────┴───────────────────┴─────────────────┘"
      ]
     },
     "execution_count": 28,
     "metadata": {},
     "output_type": "execute_result"
    }
   ],
   "source": [
    "SYBIL_THRESHOLD = 0.8\n",
    "BENIGN_THRESHOLD = 0.2\n",
    "\n",
    "ensemble_predictions = all_results.with_columns(\n",
    "  pl.when(pl.col('sybilscar_proba').is_null() & pl.col('ml_proba').is_null())\n",
    "    .then(None)\n",
    "    .when(pl.col('ml_proba').is_null())\n",
    "    .then(pl.col('sybilscar_proba'))\n",
    "    .when(pl.col('sybilscar_proba').is_null())\n",
    "    .then(pl.col('ml_proba'))\n",
    "    .otherwise((pl.col('sybilscar_proba') + pl.col('ml_proba')) / 2)\n",
    "    .alias('sybil_probability')\n",
    ")\n",
    "\n",
    "ensemble_predictions = ensemble_predictions.with_columns(\n",
    "  pl.when(pl.col('sybil_probability').is_null())\n",
    "    .then(None)\n",
    "    .when(pl.col('sybil_probability')>SYBIL_THRESHOLD)\n",
    "    .then(True)\n",
    "    .when(pl.col('sybil_probability') <= BENIGN_THRESHOLD)\n",
    "    .then(False)\n",
    "    .otherwise(None)\n",
    "    .alias('sybil_diagnosis')\n",
    ")\n",
    "\n",
    "ensemble_predictions"
   ]
  },
  {
   "cell_type": "code",
   "execution_count": 56,
   "metadata": {},
   "outputs": [
    {
     "data": {
      "image/png": "[encoded data removed]",
      "text/plain": [
       "<Figure size 640x480 with 1 Axes>"
      ]
     },
     "metadata": {},
     "output_type": "display_data"
    }
   ],
   "source": [
    "import matplotlib.pyplot as plt\n",
    "plt.hist(ensemble_predictions[\"sybil_probability\"],bins=50)\n",
    "plt.title(\"Ensembled sybil probabilities distribution\")\n",
    "plt.show()"
   ]
  },
  {
   "cell_type": "code",
   "execution_count": 29,
   "metadata": {},
   "outputs": [
    {
     "data": {
      "text/plain": [
       "191125"
      ]
     },
     "execution_count": 29,
     "metadata": {},
     "output_type": "execute_result"
    }
   ],
   "source": [
    "ensemble_predictions[\"sybil_diagnosis\"].is_null().sum()"
   ]
  },
  {
   "cell_type": "markdown",
   "metadata": {},
   "source": [
    "### Join with all farcaster fids"
   ]
  },
  {
   "cell_type": "code",
   "execution_count": 30,
   "metadata": {},
   "outputs": [
    {
     "data": {
      "text/html": [
       "<div><style>\n",
       ".dataframe > thead > tr,\n",
       ".dataframe > tbody > tr {\n",
       "  text-align: right;\n",
       "  white-space: pre-wrap;\n",
       "}\n",
       "</style>\n",
       "<small>shape: (904_278, 5)</small><table border=\"1\" class=\"dataframe\"><thead><tr><th>created_at</th><th>updated_at</th><th>custody_address</th><th>registered_at</th><th>fid</th></tr><tr><td>datetime[ns]</td><td>datetime[ns]</td><td>binary</td><td>datetime[ns, UTC]</td><td>i64</td></tr></thead><tbody><tr><td>2023-10-13 15:07:21.731280</td><td>2024-06-05 18:09:02.020</td><td>b&quot;\\xb3\\x97\\x15\\x8b\\\\xb5\\x02\\x03\\xa5\\x91j\\x07\\x12U)\\xb1I\\xca\\xe3&lt;&quot;</td><td>2023-11-07 20:38:19 UTC</td><td>42796</td></tr><tr><td>2023-10-13 15:07:21.732119</td><td>2024-06-05 18:09:02.024</td><td>b&quot;\\xed\\x93\\xe1\\xef\\x7f+\\xef\\x9c\\x94\\x9a\\xa1\\xba\\xca\\xa8\\x9c\\x10\\xae\\xae\\x1b\\xac&quot;</td><td>2023-11-07 20:38:19 UTC</td><td>42797</td></tr><tr><td>2023-10-13 15:07:21.734257</td><td>2024-06-05 18:09:02.025</td><td>b&quot;\\xf6\\x9bv\\x99\\xd2/\\xb1\\x87z6\\x10\\xef\\x81\\xe9{\\x05\\x20\\x03\\xc5\\xac&quot;</td><td>2023-11-07 20:38:19 UTC</td><td>42798</td></tr><tr><td>2023-10-13 15:32:07.129182</td><td>2024-06-05 18:10:59.760</td><td>b&quot;\\xa1-f\\x16\\x8e\\x88\\x18\\xe8-hS\\x1d_c\\x09\\xe6\\x07/\\xc8\\xf5&quot;</td><td>2023-11-07 20:49:51 UTC</td><td>64737</td></tr><tr><td>2023-10-13 15:53:45.836242</td><td>2024-06-05 18:12:26.055</td><td>b&quot;\\x0f\\xc9\\x11\\xd1S\\xbd\\xb0*&lt;p;\\xd6RG\\xb2\\x80\\xd8\\xe6Y\\x85&quot;</td><td>2023-11-07 20:57:45 UTC</td><td>80519</td></tr><tr><td>&hellip;</td><td>&hellip;</td><td>&hellip;</td><td>&hellip;</td><td>&hellip;</td></tr><tr><td>2024-12-18 04:30:43.618925</td><td>2024-12-18 04:30:43.618925</td><td>b&quot;\\xeb\\x88\\x93?O\\xe6\\x06\\x94\\xf6n\\xe4\\x88\\xb2/d1\\xd1f\\xb5\\xda&quot;</td><td>2024-12-18 04:30:35 UTC</td><td>904313</td></tr><tr><td>2024-12-18 04:30:51.695587</td><td>2024-12-18 04:30:51.695587</td><td>b&quot;\\xcb\\xb3.\\x8cU~\\xec&lt;\\x13T\\xa2\\xb5]\\x90\\xff\\xf5\\xdbS\\xc7\\xe3&quot;</td><td>2024-12-18 04:30:45 UTC</td><td>904314</td></tr><tr><td>2024-12-18 04:30:51.696297</td><td>2024-12-18 04:30:51.696297</td><td>b&quot;g\\x11\\xb0\\x910\\x0b\\x11\\xd7Q\\x98\\xb8@\\xd4]\\x81\\xcb\\xf7\\xd5\\xe3\\xd9&quot;</td><td>2024-12-18 04:30:47 UTC</td><td>904315</td></tr><tr><td>2024-12-18 04:34:45.937200</td><td>2024-12-18 04:34:45.937200</td><td>b&quot;\\x98\\x09v\\x82|\\xd6\\xad\\x8b\\x03_\\x08\\x07\\xa9\\xafn\\xa4x\\xa8Z\\xa8&quot;</td><td>2024-12-18 04:34:33 UTC</td><td>904316</td></tr><tr><td>2024-12-18 04:34:45.937828</td><td>2024-12-18 04:34:45.937828</td><td>b&quot;\\xb4\\x9e\\x02\\xf7\\xb8.\\xbbVo\\x10L\\xfb\\xc5\\xf4\\xb93\\xdf\\xea\\xbf\\x8f&quot;</td><td>2024-12-18 04:34:37 UTC</td><td>904317</td></tr></tbody></table></div>"
      ],
      "text/plain": [
       "shape: (904_278, 5)\n",
       "┌─────────────────┬─────────────────┬──────────────────────────┬──────────────────────────┬────────┐\n",
       "│ created_at      ┆ updated_at      ┆ custody_address          ┆ registered_at            ┆ fid    │\n",
       "│ ---             ┆ ---             ┆ ---                      ┆ ---                      ┆ ---    │\n",
       "│ datetime[ns]    ┆ datetime[ns]    ┆ binary                   ┆ datetime[ns, UTC]        ┆ i64    │\n",
       "╞═════════════════╪═════════════════╪══════════════════════════╪══════════════════════════╪════════╡\n",
       "│ 2023-10-13      ┆ 2024-06-05      ┆ b\"\\xb3\\x97\\x15\\x8b\\\\xb5\\ ┆ 2023-11-07 20:38:19 UTC  ┆ 42796  │\n",
       "│ 15:07:21.731280 ┆ 18:09:02.020    ┆ x02\\x03\\xa5\\x91j\\x07\\x12 ┆                          ┆        │\n",
       "│                 ┆                 ┆ U)…                      ┆                          ┆        │\n",
       "│ 2023-10-13      ┆ 2024-06-05      ┆ b\"\\xed\\x93\\xe1\\xef\\x7f+\\ ┆ 2023-11-07 20:38:19 UTC  ┆ 42797  │\n",
       "│ 15:07:21.732119 ┆ 18:09:02.024    ┆ xef\\x9c\\x94\\x9a\\xa1\\xba\\ ┆                          ┆        │\n",
       "│                 ┆                 ┆ xc…                      ┆                          ┆        │\n",
       "│ 2023-10-13      ┆ 2024-06-05      ┆ b\"\\xf6\\x9bv\\x99\\xd2/\\xb1 ┆ 2023-11-07 20:38:19 UTC  ┆ 42798  │\n",
       "│ 15:07:21.734257 ┆ 18:09:02.025    ┆ \\x87z6\\x10\\xef\\x81\\xe9{\\ ┆                          ┆        │\n",
       "│                 ┆                 ┆ x0…                      ┆                          ┆        │\n",
       "│ 2023-10-13      ┆ 2024-06-05      ┆ b\"\\xa1-f\\x16\\x8e\\x88\\x18 ┆ 2023-11-07 20:49:51 UTC  ┆ 64737  │\n",
       "│ 15:32:07.129182 ┆ 18:10:59.760    ┆ \\xe8-hS\\x1d_c\\x09\\xe6\\x0 ┆                          ┆        │\n",
       "│                 ┆                 ┆ 7/…                      ┆                          ┆        │\n",
       "│ 2023-10-13      ┆ 2024-06-05      ┆ b\"\\x0f\\xc9\\x11\\xd1S\\xbd\\ ┆ 2023-11-07 20:57:45 UTC  ┆ 80519  │\n",
       "│ 15:53:45.836242 ┆ 18:12:26.055    ┆ xb0*<p;\\xd6RG\\xb2\\x80\\xd ┆                          ┆        │\n",
       "│                 ┆                 ┆ 8\\…                      ┆                          ┆        │\n",
       "│ …               ┆ …               ┆ …                        ┆ …                        ┆ …      │\n",
       "│ 2024-12-18      ┆ 2024-12-18      ┆ b\"\\xeb\\x88\\x93?O\\xe6\\x06 ┆ 2024-12-18 04:30:35 UTC  ┆ 904313 │\n",
       "│ 04:30:43.618925 ┆ 04:30:43.618925 ┆ \\x94\\xf6n\\xe4\\x88\\xb2/d1 ┆                          ┆        │\n",
       "│                 ┆                 ┆ \\x…                      ┆                          ┆        │\n",
       "│ 2024-12-18      ┆ 2024-12-18      ┆ b\"\\xcb\\xb3.\\x8cU~\\xec<\\x ┆ 2024-12-18 04:30:45 UTC  ┆ 904314 │\n",
       "│ 04:30:51.695587 ┆ 04:30:51.695587 ┆ 13T\\xa2\\xb5]\\x90\\xff\\xf5 ┆                          ┆        │\n",
       "│                 ┆                 ┆ \\x…                      ┆                          ┆        │\n",
       "│ 2024-12-18      ┆ 2024-12-18      ┆ b\"g\\x11\\xb0\\x910\\x0b\\x11 ┆ 2024-12-18 04:30:47 UTC  ┆ 904315 │\n",
       "│ 04:30:51.696297 ┆ 04:30:51.696297 ┆ \\xd7Q\\x98\\xb8@\\xd4]\\x81\\ ┆                          ┆        │\n",
       "│                 ┆                 ┆ xc…                      ┆                          ┆        │\n",
       "│ 2024-12-18      ┆ 2024-12-18      ┆ b\"\\x98\\x09v\\x82|\\xd6\\xad ┆ 2024-12-18 04:34:33 UTC  ┆ 904316 │\n",
       "│ 04:34:45.937200 ┆ 04:34:45.937200 ┆ \\x8b\\x03_\\x08\\x07\\xa9\\xa ┆                          ┆        │\n",
       "│                 ┆                 ┆ fn…                      ┆                          ┆        │\n",
       "│ 2024-12-18      ┆ 2024-12-18      ┆ b\"\\xb4\\x9e\\x02\\xf7\\xb8.\\ ┆ 2024-12-18 04:34:37 UTC  ┆ 904317 │\n",
       "│ 04:34:45.937828 ┆ 04:34:45.937828 ┆ xbbVo\\x10L\\xfb\\xc5\\xf4\\x ┆                          ┆        │\n",
       "│                 ┆                 ┆ b9…                      ┆                          ┆        │\n",
       "└─────────────────┴─────────────────┴──────────────────────────┴──────────────────────────┴────────┘"
      ]
     },
     "execution_count": 30,
     "metadata": {},
     "output_type": "execute_result"
    }
   ],
   "source": [
    "all_fids = pl.read_parquet(f\"{DATA_PATH}/raw/farcaster-fids-0-1734496500.parquet\")\n",
    "all_fids"
   ]
  },
  {
   "cell_type": "code",
   "execution_count": 31,
   "metadata": {},
   "outputs": [
    {
     "data": {
      "text/html": [
       "<div><style>\n",
       ".dataframe > thead > tr,\n",
       ".dataframe > tbody > tr {\n",
       "  text-align: right;\n",
       "  white-space: pre-wrap;\n",
       "}\n",
       "</style>\n",
       "<small>shape: (904_278, 4)</small><table border=\"1\" class=\"dataframe\"><thead><tr><th>fid</th><th>fname</th><th>sybil_probability</th><th>sybil_diagnosis</th></tr><tr><td>i64</td><td>str</td><td>f64</td><td>bool</td></tr></thead><tbody><tr><td>42796</td><td>null</td><td>0.037854</td><td>false</td></tr><tr><td>42797</td><td>null</td><td>0.037854</td><td>false</td></tr><tr><td>42798</td><td>null</td><td>0.037854</td><td>false</td></tr><tr><td>64737</td><td>null</td><td>0.037854</td><td>false</td></tr><tr><td>80519</td><td>null</td><td>0.037854</td><td>false</td></tr><tr><td>&hellip;</td><td>&hellip;</td><td>&hellip;</td><td>&hellip;</td></tr><tr><td>904313</td><td>null</td><td>null</td><td>null</td></tr><tr><td>904314</td><td>null</td><td>null</td><td>null</td></tr><tr><td>904315</td><td>null</td><td>null</td><td>null</td></tr><tr><td>904316</td><td>null</td><td>null</td><td>null</td></tr><tr><td>904317</td><td>null</td><td>null</td><td>null</td></tr></tbody></table></div>"
      ],
      "text/plain": [
       "shape: (904_278, 4)\n",
       "┌────────┬───────┬───────────────────┬─────────────────┐\n",
       "│ fid    ┆ fname ┆ sybil_probability ┆ sybil_diagnosis │\n",
       "│ ---    ┆ ---   ┆ ---               ┆ ---             │\n",
       "│ i64    ┆ str   ┆ f64               ┆ bool            │\n",
       "╞════════╪═══════╪═══════════════════╪═════════════════╡\n",
       "│ 42796  ┆ null  ┆ 0.037854          ┆ false           │\n",
       "│ 42797  ┆ null  ┆ 0.037854          ┆ false           │\n",
       "│ 42798  ┆ null  ┆ 0.037854          ┆ false           │\n",
       "│ 64737  ┆ null  ┆ 0.037854          ┆ false           │\n",
       "│ 80519  ┆ null  ┆ 0.037854          ┆ false           │\n",
       "│ …      ┆ …     ┆ …                 ┆ …               │\n",
       "│ 904313 ┆ null  ┆ null              ┆ null            │\n",
       "│ 904314 ┆ null  ┆ null              ┆ null            │\n",
       "│ 904315 ┆ null  ┆ null              ┆ null            │\n",
       "│ 904316 ┆ null  ┆ null              ┆ null            │\n",
       "│ 904317 ┆ null  ┆ null              ┆ null            │\n",
       "└────────┴───────┴───────────────────┴─────────────────┘"
      ]
     },
     "execution_count": 31,
     "metadata": {},
     "output_type": "execute_result"
    }
   ],
   "source": [
    "df = all_fids[[\"fid\"]].join(\n",
    "  ensemble_predictions[[\"fid\",\"fname\",\"sybil_probability\",\"sybil_diagnosis\"]],\n",
    "  on=\"fid\",\n",
    "  how=\"left\",\n",
    "  coalesce=True\n",
    ")\n",
    "df"
   ]
  },
  {
   "cell_type": "markdown",
   "metadata": {},
   "source": [
    "### Post it in database"
   ]
  },
  {
   "cell_type": "code",
   "execution_count": 49,
   "metadata": {},
   "outputs": [],
   "source": [
    "from prisma import Prisma\n",
    "\n",
    "async def bulk_update_sybil_probabilities(df: pl.DataFrame, batch_size: int = 1000, super_batch_size: int = 10000):\n",
    "    try:\n",
    "        # Convert all FIDs to integers\n",
    "        fids = [int(fid) for fid in df['fid']]\n",
    "        \n",
    "        # Convert DataFrame to records list\n",
    "        records = [\n",
    "            {\n",
    "                \"fid\": int(row[\"fid\"]),\n",
    "                \"fname\": row[\"fname\"],\n",
    "                \"sybilProbability\": float(row[\"sybil_probability\"]) if row.get(\"sybil_probability\") is not None else None,\n",
    "                \"sybilDiagnosis\": bool(row[\"sybil_diagnosis\"]) if row.get(\"sybil_diagnosis\") is not None else None,\n",
    "            }\n",
    "            for row in df.to_dicts()\n",
    "        ]\n",
    "        \n",
    "        # Process in super batches\n",
    "        for super_i in range(0, len(fids), super_batch_size):\n",
    "            # Connect prisma for this super batch\n",
    "            prisma = Prisma()\n",
    "            await prisma.connect()\n",
    "            \n",
    "            try:\n",
    "                super_batch_fids = fids[super_i:super_i + super_batch_size]\n",
    "                super_batch_records = records[super_i:super_i + super_batch_size]\n",
    "                \n",
    "                # Delete records in smaller batches within this super batch\n",
    "                for i in range(0, len(super_batch_fids), batch_size):\n",
    "                    batch_fids = super_batch_fids[i:i + batch_size]\n",
    "                    await prisma.sybilprobability.delete_many(\n",
    "                        where={\n",
    "                            'fid': {'in': batch_fids}\n",
    "                        }\n",
    "                    )\n",
    "                    print(f\"Deleted batch {(super_i + i)//batch_size + 1} of {(len(fids)-1)//batch_size + 1}\")\n",
    "                \n",
    "                # Insert records in smaller batches within this super batch\n",
    "                for i in range(0, len(super_batch_records), batch_size):\n",
    "                    batch_records = super_batch_records[i:i + batch_size]\n",
    "                    await prisma.sybilprobability.create_many(\n",
    "                        data=batch_records\n",
    "                    )\n",
    "                    print(f\"Inserted batch {(super_i + i)//batch_size + 1} of {(len(records)-1)//batch_size + 1}\")\n",
    "            \n",
    "            finally:\n",
    "                # Disconnect after each super batch\n",
    "                await prisma.disconnect()\n",
    "                print(f\"Completed super batch {super_i//super_batch_size + 1} of {(len(fids)-1)//super_batch_size + 1}\")\n",
    "    \n",
    "    except Exception as e:\n",
    "        print(f\"Error occurred: {e}\")\n",
    "        raise e"
   ]
  },
  {
   "cell_type": "code",
   "execution_count": 40,
   "metadata": {},
   "outputs": [
    {
     "data": {
      "text/html": [
       "<div><style>\n",
       ".dataframe > thead > tr,\n",
       ".dataframe > tbody > tr {\n",
       "  text-align: right;\n",
       "  white-space: pre-wrap;\n",
       "}\n",
       "</style>\n",
       "<small>shape: (904_278, 4)</small><table border=\"1\" class=\"dataframe\"><thead><tr><th>fid</th><th>fname</th><th>sybil_probability</th><th>sybil_diagnosis</th></tr><tr><td>i64</td><td>str</td><td>f64</td><td>bool</td></tr></thead><tbody><tr><td>42796</td><td>null</td><td>0.037854</td><td>false</td></tr><tr><td>42797</td><td>null</td><td>0.037854</td><td>false</td></tr><tr><td>42798</td><td>null</td><td>0.037854</td><td>false</td></tr><tr><td>64737</td><td>null</td><td>0.037854</td><td>false</td></tr><tr><td>80519</td><td>null</td><td>0.037854</td><td>false</td></tr><tr><td>&hellip;</td><td>&hellip;</td><td>&hellip;</td><td>&hellip;</td></tr><tr><td>904313</td><td>null</td><td>null</td><td>null</td></tr><tr><td>904314</td><td>null</td><td>null</td><td>null</td></tr><tr><td>904315</td><td>null</td><td>null</td><td>null</td></tr><tr><td>904316</td><td>null</td><td>null</td><td>null</td></tr><tr><td>904317</td><td>null</td><td>null</td><td>null</td></tr></tbody></table></div>"
      ],
      "text/plain": [
       "shape: (904_278, 4)\n",
       "┌────────┬───────┬───────────────────┬─────────────────┐\n",
       "│ fid    ┆ fname ┆ sybil_probability ┆ sybil_diagnosis │\n",
       "│ ---    ┆ ---   ┆ ---               ┆ ---             │\n",
       "│ i64    ┆ str   ┆ f64               ┆ bool            │\n",
       "╞════════╪═══════╪═══════════════════╪═════════════════╡\n",
       "│ 42796  ┆ null  ┆ 0.037854          ┆ false           │\n",
       "│ 42797  ┆ null  ┆ 0.037854          ┆ false           │\n",
       "│ 42798  ┆ null  ┆ 0.037854          ┆ false           │\n",
       "│ 64737  ┆ null  ┆ 0.037854          ┆ false           │\n",
       "│ 80519  ┆ null  ┆ 0.037854          ┆ false           │\n",
       "│ …      ┆ …     ┆ …                 ┆ …               │\n",
       "│ 904313 ┆ null  ┆ null              ┆ null            │\n",
       "│ 904314 ┆ null  ┆ null              ┆ null            │\n",
       "│ 904315 ┆ null  ┆ null              ┆ null            │\n",
       "│ 904316 ┆ null  ┆ null              ┆ null            │\n",
       "│ 904317 ┆ null  ┆ null              ┆ null            │\n",
       "└────────┴───────┴───────────────────┴─────────────────┘"
      ]
     },
     "execution_count": 40,
     "metadata": {},
     "output_type": "execute_result"
    }
   ],
   "source": [
    "df"
   ]
  },
  {
   "cell_type": "code",
   "execution_count": 50,
   "metadata": {},
   "outputs": [
    {
     "name": "stdout",
     "output_type": "stream",
     "text": [
      "Deleted batch 1 of 31\n",
      "Deleted batch 2 of 31\n",
      "Deleted batch 3 of 31\n",
      "Deleted batch 4 of 31\n",
      "Deleted batch 5 of 31\n",
      "Deleted batch 6 of 31\n",
      "Deleted batch 7 of 31\n",
      "Deleted batch 8 of 31\n",
      "Deleted batch 9 of 31\n",
      "Deleted batch 10 of 31\n",
      "Inserted batch 1 of 31\n",
      "Inserted batch 2 of 31\n",
      "Inserted batch 3 of 31\n",
      "Inserted batch 4 of 31\n",
      "Inserted batch 5 of 31\n",
      "Inserted batch 6 of 31\n",
      "Inserted batch 7 of 31\n",
      "Inserted batch 8 of 31\n",
      "Inserted batch 9 of 31\n",
      "Inserted batch 10 of 31\n",
      "Completed super batch 1 of 4\n",
      "Deleted batch 11 of 31\n",
      "Deleted batch 12 of 31\n",
      "Deleted batch 13 of 31\n",
      "Deleted batch 14 of 31\n",
      "Deleted batch 15 of 31\n",
      "Deleted batch 16 of 31\n",
      "Deleted batch 17 of 31\n",
      "Deleted batch 18 of 31\n",
      "Deleted batch 19 of 31\n",
      "Deleted batch 20 of 31\n",
      "Inserted batch 11 of 31\n",
      "Inserted batch 12 of 31\n",
      "Inserted batch 13 of 31\n",
      "Inserted batch 14 of 31\n",
      "Inserted batch 15 of 31\n",
      "Inserted batch 16 of 31\n",
      "Inserted batch 17 of 31\n",
      "Inserted batch 18 of 31\n",
      "Inserted batch 19 of 31\n",
      "Inserted batch 20 of 31\n",
      "Completed super batch 2 of 4\n",
      "Deleted batch 21 of 31\n",
      "Deleted batch 22 of 31\n",
      "Deleted batch 23 of 31\n",
      "Deleted batch 24 of 31\n",
      "Deleted batch 25 of 31\n",
      "Deleted batch 26 of 31\n",
      "Deleted batch 27 of 31\n",
      "Deleted batch 28 of 31\n",
      "Deleted batch 29 of 31\n",
      "Deleted batch 30 of 31\n",
      "Inserted batch 21 of 31\n",
      "Inserted batch 22 of 31\n",
      "Inserted batch 23 of 31\n",
      "Inserted batch 24 of 31\n",
      "Inserted batch 25 of 31\n",
      "Inserted batch 26 of 31\n",
      "Inserted batch 27 of 31\n",
      "Inserted batch 28 of 31\n",
      "Inserted batch 29 of 31\n",
      "Inserted batch 30 of 31\n",
      "Completed super batch 3 of 4\n",
      "Deleted batch 31 of 31\n",
      "Inserted batch 31 of 31\n",
      "Completed super batch 4 of 4\n"
     ]
    }
   ],
   "source": [
    "await bulk_update_sybil_probabilities(df, batch_size=30_000, super_batch_size=300_000)"
   ]
  }
 ],
 "metadata": {
  "kernelspec": {
   "display_name": "farcaster-social-graph-notebooks",
   "language": "python",
   "name": "farcaster-social-graph-notebooks"
  },
  "language_info": {
   "codemirror_mode": {
    "name": "ipython",
    "version": 3
   },
   "file_extension": ".py",
   "mimetype": "text/x-python",
   "name": "python",
   "nbconvert_exporter": "python",
   "pygments_lexer": "ipython3",
   "version": "3.12.8"
  }
 },
 "nbformat": 4,
 "nbformat_minor": 2
}
