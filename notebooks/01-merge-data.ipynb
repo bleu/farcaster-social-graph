{
 "cells": [
  {
   "cell_type": "code",
   "execution_count": 16,
   "id": "78579bec-0395-47c0-b598-efa97c1c904b",
   "metadata": {},
   "outputs": [
    {
     "data": {
      "text/plain": [
       "polars.config.Config"
      ]
     },
     "execution_count": 16,
     "metadata": {},
     "output_type": "execute_result"
    }
   ],
   "source": [
    "# !pip install polars\n",
    "import polars as pl\n",
    "import os\n",
    "pl.Config.set_fmt_str_lengths(400)"
   ]
  },
  {
   "cell_type": "code",
   "execution_count": 17,
   "id": "a7d6117d-ae07-41e3-bfe4-f8cce6cd7f8d",
   "metadata": {},
   "outputs": [],
   "source": [
    "DATA_PATH = os.getenv(\"DATA_PATH\", \"\")"
   ]
  },
  {
   "cell_type": "code",
   "execution_count": 18,
   "id": "12ad417d-9dcd-46c9-b409-6e30ead9d3fe",
   "metadata": {},
   "outputs": [],
   "source": [
    "fids_df = pl.read_parquet(f\"{DATA_PATH}/raw/farcaster-fids-0-1730134800.parquet\")"
   ]
  },
  {
   "cell_type": "code",
   "execution_count": 19,
   "id": "a8afee62-957a-4939-be87-3e6fd63c26d5",
   "metadata": {},
   "outputs": [],
   "source": [
    "# profiles_df = pl.read_parquet(f\"{DATA_PATH}/farcaster-fids-0-1730134800.parquet\")farcaster-fids-0-1727974800"
   ]
  },
  {
   "cell_type": "code",
   "execution_count": 20,
   "id": "8793094e-4733-413e-83e5-de5eb0f9d6f9",
   "metadata": {},
   "outputs": [],
   "source": [
    "links_df = pl.read_parquet(f\"{DATA_PATH}/farcaster-links-0-1730134800.parquet\")"
   ]
  },
  {
   "cell_type": "code",
   "execution_count": 6,
   "id": "d5daf0a3-df3f-4889-888b-e7498905c8e0",
   "metadata": {},
   "outputs": [],
   "source": [
    "reactions_lazy_df = pl.scan_parquet(f\"{DATA_PATH}/farcaster-reactions-0-1730134800.parquet\")"
   ]
  },
  {
   "cell_type": "code",
   "execution_count": 7,
   "id": "d177a47c-c375-453b-97ad-283866083b81",
   "metadata": {},
   "outputs": [],
   "source": [
    "verifications_df = pl.read_parquet(f\"{DATA_PATH}/farcaster-verifications-0-1730134800.parquet\")"
   ]
  },
  {
   "cell_type": "code",
   "execution_count": 8,
   "id": "34ee43a3-f0e4-412e-b486-15a318baadc7",
   "metadata": {},
   "outputs": [],
   "source": [
    "# Verifications count per fid\n",
    "verifications_count_df = (\n",
    "    verifications_df\n",
    "    .group_by(\"fid\")\n",
    "    .agg(pl.count(\"id\").alias(\"verifications_count\"))\n",
    ")"
   ]
  },
  {
   "cell_type": "code",
   "execution_count": 10,
   "id": "8a6ce470-64e9-4ff3-9971-af40ee7d4b5b",
   "metadata": {},
   "outputs": [],
   "source": [
    "# Likes count and recasts count per fid\n",
    "reactions_count_lazy = (\n",
    "    reactions_lazy_df\n",
    "    .filter(pl.col(\"deleted_at\").is_null())  # Filter out deleted reactions\n",
    "    .group_by([\"fid\", \"reaction_type\"])\n",
    "    .agg(pl.count(\"id\").alias(\"count\"))\n",
    ")"
   ]
  },
  {
   "cell_type": "code",
   "execution_count": 11,
   "id": "88e5a146-4159-4f57-8fd2-972e8f65d6a7",
   "metadata": {},
   "outputs": [],
   "source": [
    "reactions_count_df = reactions_count_lazy.collect()"
   ]
  },
  {
   "cell_type": "code",
   "execution_count": 12,
   "id": "eb7af185-1c4b-4bb9-9986-bfb8c125cce5",
   "metadata": {},
   "outputs": [
    {
     "name": "stderr",
     "output_type": "stream",
     "text": [
      "/var/folders/v9/zdrfs19x765_sy8y01lgc13m0000gn/T/ipykernel_71011/671256064.py:2: DeprecationWarning: The argument `columns` for `DataFrame.pivot` is deprecated. It has been renamed to `on`.\n",
      "  reactions_count_df\n"
     ]
    }
   ],
   "source": [
    "reactions_pivot_df = (\n",
    "    reactions_count_df\n",
    "    .pivot(\n",
    "        values=\"count\",\n",
    "        index=\"fid\",\n",
    "        columns=\"reaction_type\",\n",
    "        aggregate_function=\"first\"\n",
    "    )\n",
    "    .rename({\"1\": \"likes_count\", \"2\": \"recasts_count\"})\n",
    "    .fill_null(0)\n",
    ")"
   ]
  },
  {
   "cell_type": "code",
   "execution_count": 13,
   "id": "e004bb9a-bfbb-447c-9c8a-333c08140e24",
   "metadata": {},
   "outputs": [],
   "source": [
    "following_count_df = (\n",
    "    links_df\n",
    "    .filter((pl.col(\"type\") == \"follow\") & (pl.col(\"deleted_at\").is_null()))\n",
    "    .group_by(\"fid\")\n",
    "    .agg(pl.count(\"id\").alias(\"following_count\"))\n",
    ")"
   ]
  },
  {
   "cell_type": "code",
   "execution_count": 14,
   "id": "5d225f01-9e7a-460a-8e91-d66a2714ff29",
   "metadata": {},
   "outputs": [],
   "source": [
    "# Followers count (number of users following the fid)\n",
    "followers_count_df = (\n",
    "    links_df\n",
    "    .filter((pl.col(\"type\") == \"follow\") & (pl.col(\"deleted_at\").is_null()))\n",
    "    .group_by(\"target_fid\")\n",
    "    .agg(pl.count(\"id\").alias(\"followers_count\"))\n",
    "    .rename({\"target_fid\": \"fid\"})\n",
    ")"
   ]
  },
  {
   "cell_type": "code",
   "execution_count": 19,
   "id": "d765e9a0-3085-4353-8682-cb12b61fa22b",
   "metadata": {},
   "outputs": [],
   "source": [
    "result_df = fids_df.join(verifications_count_df, on=\"fid\", how=\"left\")\n",
    "result_df = result_df.join(following_count_df, on=\"fid\", how=\"left\")\n",
    "result_df = result_df.join(followers_count_df, on=\"fid\", how=\"left\")\n",
    "result_df = result_df.join(reactions_pivot_df, on=\"fid\", how=\"left\")\n",
    "result_df = result_df.fill_null(0)"
   ]
  },
  {
   "cell_type": "code",
   "execution_count": 20,
   "id": "919b1497-1b3d-4891-bb1a-da65bddc86e6",
   "metadata": {},
   "outputs": [],
   "source": [
    "result_df.write_parquet(f\"{DATA_PATH}/aggregated_links_statistics.parquet\")"
   ]
  },
  {
   "cell_type": "code",
   "execution_count": 27,
   "id": "b5845a20-e42f-4354-ab1a-1d89e8b542ca",
   "metadata": {},
   "outputs": [],
   "source": [
    "import psutil\n",
    "import os\n",
    "\n",
    "# Function to print the current memory usage\n",
    "def print_memory_usage():\n",
    "    process = psutil.Process(os.getpid())\n",
    "    memory = process.memory_info().rss / (1024 * 1024)  # Convert to MB\n",
    "    print(f\"Memory Usage: {memory:.2f} MB\")"
   ]
  },
  {
   "cell_type": "code",
   "execution_count": 28,
   "id": "bc875a7d-55de-4b87-8165-32cbb8d712de",
   "metadata": {},
   "outputs": [
    {
     "name": "stdout",
     "output_type": "stream",
     "text": [
      "Memory Usage: 3279.47 MB\n"
     ]
    }
   ],
   "source": [
    "print_memory_usage()"
   ]
  },
  {
   "cell_type": "code",
   "execution_count": 29,
   "id": "cbc6a020-df0d-4e3b-9820-89bccb893a9f",
   "metadata": {},
   "outputs": [
    {
     "data": {
      "text/html": [
       "<div><style>\n",
       ".dataframe > thead > tr,\n",
       ".dataframe > tbody > tr {\n",
       "  text-align: right;\n",
       "  white-space: pre-wrap;\n",
       "}\n",
       "</style>\n",
       "<small>shape: (10, 10)</small><table border=\"1\" class=\"dataframe\"><thead><tr><th>created_at</th><th>updated_at</th><th>custody_address</th><th>registered_at</th><th>fid</th><th>verifications_count</th><th>following_count</th><th>followers_count</th><th>recasts_count</th><th>likes_count</th></tr><tr><td>datetime[ns]</td><td>datetime[ns]</td><td>binary</td><td>datetime[ns, UTC]</td><td>i64</td><td>u32</td><td>u32</td><td>u32</td><td>u32</td><td>u32</td></tr></thead><tbody><tr><td>2024-07-30 07:46:52.475130</td><td>2024-07-30 07:46:52.475130</td><td>b&quot;\\xb2?\\xc4n\\xf4\\xd2\\xcdxD!.x\\x9f\\xd9{\\x7f\\x18nk\\xfb&quot;</td><td>2024-07-30 07:46:45 UTC</td><td>812469</td><td>3</td><td>91</td><td>59</td><td>78</td><td>559</td></tr><tr><td>2024-07-06 09:47:14.356025</td><td>2024-07-06 09:47:14.356025</td><td>b&quot;)\\xa9\\x87+\\xf2\\x00\\x1f\\xf6:@\\xc6@\\xbb\\xf1{v\\x92\\x8c1g&quot;</td><td>2024-07-06 09:47:01 UTC</td><td>767764</td><td>0</td><td>72</td><td>18</td><td>0</td><td>0</td></tr><tr><td>2024-07-16 14:52:49.646673</td><td>2024-07-16 14:52:49.646673</td><td>b&quot;\\x1d\\x1d=\\x0f\\x8a\\xf5[\\xe7\\xf0\\xbf\\x9e\\x04\\x9f\\xc5\\xec\\xd7N2&amp;\\x12&quot;</td><td>2024-07-16 14:52:39 UTC</td><td>793492</td><td>0</td><td>108</td><td>21</td><td>0</td><td>8</td></tr><tr><td>2023-10-13 16:53:44.963240</td><td>2024-06-07 18:11:38.717</td><td>b&quot;^\\x18\\x88\\xa0\\xdc\\xb9\\xb7Y\\xbfc\\xfe*\\xde\\x1f\\xe1\\xfb\\x18\\x97\\x8a\\xa7&quot;</td><td>2023-11-07 21:27:25 UTC</td><td>131238</td><td>0</td><td>0</td><td>0</td><td>0</td><td>0</td></tr><tr><td>2023-10-13 16:18:38.589402</td><td>2024-06-07 18:08:33.229</td><td>b&quot;\\x07i\\x95\\xe1:\\x048R\\xa5\\xbf\\x1fBWR$\\x92\\xcb\\xbe\\xcbn&quot;</td><td>2023-11-07 21:08:25 UTC</td><td>100504</td><td>0</td><td>0</td><td>0</td><td>0</td><td>0</td></tr><tr><td>2023-10-24 14:07:09.405777</td><td>2024-06-07 18:19:27.397</td><td>b&quot;`\\x9fk(\\xf7,?}\\xb0Z\\x82\\xaa\\xe6H\\x05h\\x0f\\xa9\\xa7\\xa5&quot;</td><td>2023-11-07 20:27:51 UTC</td><td>191277</td><td>4</td><td>89</td><td>189</td><td>22</td><td>25</td></tr><tr><td>2024-03-21 09:06:25.338336</td><td>2024-06-08 03:49:48.246</td><td>b&quot;\\x172\\x14\\xcb:\\xcbi\\xeb&#x27;\\xd4I\\x04T\\xb9\\x07\\xd9\\xd2\\x13\\x07\\xb5&quot;</td><td>2024-03-21 09:06:19 UTC</td><td>399941</td><td>1</td><td>76</td><td>6</td><td>3</td><td>2</td></tr><tr><td>2023-10-13 15:44:04.898840</td><td>2024-06-07 18:05:50.338</td><td>b&quot;\\xcf-\\xd3Dh\\x98P2\\xe5\\xcb\\xfbF\\x9b\\x1c\\xc5\\x85\\xa2\\x19\\xb5\\x1e&quot;</td><td>2023-11-07 20:54:09 UTC</td><td>73268</td><td>0</td><td>0</td><td>0</td><td>0</td><td>0</td></tr><tr><td>2023-10-13 15:35:57.055724</td><td>2024-06-07 18:05:15.725</td><td>b&quot;\\xed\\xf0\\xa5\\xbb\\x9ee\\x82\\xed\\xa7\\x06\\xb9\\xf1j,\\xa9\\xaf\\xad\\xfe\\xe3\\x81&quot;</td><td>2023-11-07 20:51:13 UTC</td><td>67408</td><td>0</td><td>0</td><td>0</td><td>0</td><td>0</td></tr><tr><td>2024-07-15 19:26:27.068854</td><td>2024-07-15 19:26:27.068854</td><td>b&quot;mK\\x1e\\xb7\\xfd\\xd2GD&gt;\\x11\\x82o\\x94\\xae\\x9e\\x97I/\\x05o&quot;</td><td>2024-07-15 19:26:19 UTC</td><td>791514</td><td>0</td><td>236</td><td>26</td><td>7</td><td>30</td></tr></tbody></table></div>"
      ],
      "text/plain": [
       "shape: (10, 10)\n",
       "┌───────────┬───────────┬───────────┬───────────┬───┬───────────┬───────────┬───────────┬──────────┐\n",
       "│ created_a ┆ updated_a ┆ custody_a ┆ registere ┆ … ┆ following ┆ followers ┆ recasts_c ┆ likes_co │\n",
       "│ t         ┆ t         ┆ ddress    ┆ d_at      ┆   ┆ _count    ┆ _count    ┆ ount      ┆ unt      │\n",
       "│ ---       ┆ ---       ┆ ---       ┆ ---       ┆   ┆ ---       ┆ ---       ┆ ---       ┆ ---      │\n",
       "│ datetime[ ┆ datetime[ ┆ binary    ┆ datetime[ ┆   ┆ u32       ┆ u32       ┆ u32       ┆ u32      │\n",
       "│ ns]       ┆ ns]       ┆           ┆ ns, UTC]  ┆   ┆           ┆           ┆           ┆          │\n",
       "╞═══════════╪═══════════╪═══════════╪═══════════╪═══╪═══════════╪═══════════╪═══════════╪══════════╡\n",
       "│ 2024-07-3 ┆ 2024-07-3 ┆ b\"\\xb2?\\x ┆ 2024-07-3 ┆ … ┆ 91        ┆ 59        ┆ 78        ┆ 559      │\n",
       "│ 0 07:46:5 ┆ 0 07:46:5 ┆ c4n\\xf4\\x ┆ 0         ┆   ┆           ┆           ┆           ┆          │\n",
       "│ 2.475130  ┆ 2.475130  ┆ d2\\xcdxD! ┆ 07:46:45  ┆   ┆           ┆           ┆           ┆          │\n",
       "│           ┆           ┆ .x\\…      ┆ UTC       ┆   ┆           ┆           ┆           ┆          │\n",
       "│ 2024-07-0 ┆ 2024-07-0 ┆ b\")\\xa9\\x ┆ 2024-07-0 ┆ … ┆ 72        ┆ 18        ┆ 0         ┆ 0        │\n",
       "│ 6 09:47:1 ┆ 6 09:47:1 ┆ 87+\\xf2\\x ┆ 6         ┆   ┆           ┆           ┆           ┆          │\n",
       "│ 4.356025  ┆ 4.356025  ┆ 00\\x1f\\xf ┆ 09:47:01  ┆   ┆           ┆           ┆           ┆          │\n",
       "│           ┆           ┆ 6:@…      ┆ UTC       ┆   ┆           ┆           ┆           ┆          │\n",
       "│ 2024-07-1 ┆ 2024-07-1 ┆ b\"\\x1d\\x1 ┆ 2024-07-1 ┆ … ┆ 108       ┆ 21        ┆ 0         ┆ 8        │\n",
       "│ 6 14:52:4 ┆ 6 14:52:4 ┆ d=\\x0f\\x8 ┆ 6         ┆   ┆           ┆           ┆           ┆          │\n",
       "│ 9.646673  ┆ 9.646673  ┆ a\\xf5[\\xe ┆ 14:52:39  ┆   ┆           ┆           ┆           ┆          │\n",
       "│           ┆           ┆ 7\\x…      ┆ UTC       ┆   ┆           ┆           ┆           ┆          │\n",
       "│ 2023-10-1 ┆ 2024-06-0 ┆ b\"^\\x18\\x ┆ 2023-11-0 ┆ … ┆ 0         ┆ 0         ┆ 0         ┆ 0        │\n",
       "│ 3 16:53:4 ┆ 7 18:11:3 ┆ 88\\xa0\\xd ┆ 7         ┆   ┆           ┆           ┆           ┆          │\n",
       "│ 4.963240  ┆ 8.717     ┆ c\\xb9\\xb7 ┆ 21:27:25  ┆   ┆           ┆           ┆           ┆          │\n",
       "│           ┆           ┆ Y\\x…      ┆ UTC       ┆   ┆           ┆           ┆           ┆          │\n",
       "│ 2023-10-1 ┆ 2024-06-0 ┆ b\"\\x07i\\x ┆ 2023-11-0 ┆ … ┆ 0         ┆ 0         ┆ 0         ┆ 0        │\n",
       "│ 3 16:18:3 ┆ 7 18:08:3 ┆ 95\\xe1:\\x ┆ 7         ┆   ┆           ┆           ┆           ┆          │\n",
       "│ 8.589402  ┆ 3.229     ┆ 048R\\xa5\\ ┆ 21:08:25  ┆   ┆           ┆           ┆           ┆          │\n",
       "│           ┆           ┆ xbf…      ┆ UTC       ┆   ┆           ┆           ┆           ┆          │\n",
       "│ 2023-10-2 ┆ 2024-06-0 ┆ b\"`\\x9fk( ┆ 2023-11-0 ┆ … ┆ 89        ┆ 189       ┆ 22        ┆ 25       │\n",
       "│ 4 14:07:0 ┆ 7 18:19:2 ┆ \\xf7,?}\\x ┆ 7         ┆   ┆           ┆           ┆           ┆          │\n",
       "│ 9.405777  ┆ 7.397     ┆ b0Z\\x82\\x ┆ 20:27:51  ┆   ┆           ┆           ┆           ┆          │\n",
       "│           ┆           ┆ aa\\…      ┆ UTC       ┆   ┆           ┆           ┆           ┆          │\n",
       "│ 2024-03-2 ┆ 2024-06-0 ┆ b\"\\x172\\x ┆ 2024-03-2 ┆ … ┆ 76        ┆ 6         ┆ 3         ┆ 2        │\n",
       "│ 1 09:06:2 ┆ 8 03:49:4 ┆ 14\\xcb:\\x ┆ 1         ┆   ┆           ┆           ┆           ┆          │\n",
       "│ 5.338336  ┆ 8.246     ┆ cbi\\xeb'\\ ┆ 09:06:19  ┆   ┆           ┆           ┆           ┆          │\n",
       "│           ┆           ┆ xd4…      ┆ UTC       ┆   ┆           ┆           ┆           ┆          │\n",
       "│ 2023-10-1 ┆ 2024-06-0 ┆ b\"\\xcf-\\x ┆ 2023-11-0 ┆ … ┆ 0         ┆ 0         ┆ 0         ┆ 0        │\n",
       "│ 3 15:44:0 ┆ 7 18:05:5 ┆ d3Dh\\x98P ┆ 7         ┆   ┆           ┆           ┆           ┆          │\n",
       "│ 4.898840  ┆ 0.338     ┆ 2\\xe5\\xcb ┆ 20:54:09  ┆   ┆           ┆           ┆           ┆          │\n",
       "│           ┆           ┆ \\xf…      ┆ UTC       ┆   ┆           ┆           ┆           ┆          │\n",
       "│ 2023-10-1 ┆ 2024-06-0 ┆ b\"\\xed\\xf ┆ 2023-11-0 ┆ … ┆ 0         ┆ 0         ┆ 0         ┆ 0        │\n",
       "│ 3 15:35:5 ┆ 7 18:05:1 ┆ 0\\xa5\\xbb ┆ 7         ┆   ┆           ┆           ┆           ┆          │\n",
       "│ 7.055724  ┆ 5.725     ┆ \\x9ee\\x82 ┆ 20:51:13  ┆   ┆           ┆           ┆           ┆          │\n",
       "│           ┆           ┆ \\xe…      ┆ UTC       ┆   ┆           ┆           ┆           ┆          │\n",
       "│ 2024-07-1 ┆ 2024-07-1 ┆ b\"mK\\x1e\\ ┆ 2024-07-1 ┆ … ┆ 236       ┆ 26        ┆ 7         ┆ 30       │\n",
       "│ 5 19:26:2 ┆ 5 19:26:2 ┆ xb7\\xfd\\x ┆ 5         ┆   ┆           ┆           ┆           ┆          │\n",
       "│ 7.068854  ┆ 7.068854  ┆ d2GD>\\x11 ┆ 19:26:19  ┆   ┆           ┆           ┆           ┆          │\n",
       "│           ┆           ┆ \\x8…      ┆ UTC       ┆   ┆           ┆           ┆           ┆          │\n",
       "└───────────┴───────────┴───────────┴───────────┴───┴───────────┴───────────┴───────────┴──────────┘"
      ]
     },
     "execution_count": 29,
     "metadata": {},
     "output_type": "execute_result"
    }
   ],
   "source": [
    "result_df.sample(10)"
   ]
  },
  {
   "cell_type": "code",
   "execution_count": 21,
   "id": "fd4efed6-744a-439e-a4e2-278ddee6799d",
   "metadata": {},
   "outputs": [],
   "source": [
    "joao_fid = 12031"
   ]
  },
  {
   "cell_type": "code",
   "execution_count": 22,
   "id": "1eaa4262-60ed-4968-910a-783d958db426",
   "metadata": {},
   "outputs": [],
   "source": [
    "user_statistics = result_df.filter(pl.col(\"fid\") == joao_fid)\n"
   ]
  },
  {
   "cell_type": "code",
   "execution_count": 23,
   "id": "93999c45-3c0f-4a54-9936-7d9e703bc36a",
   "metadata": {},
   "outputs": [
    {
     "data": {
      "text/html": [
       "<div><style>\n",
       ".dataframe > thead > tr,\n",
       ".dataframe > tbody > tr {\n",
       "  text-align: right;\n",
       "  white-space: pre-wrap;\n",
       "}\n",
       "</style>\n",
       "<small>shape: (1, 10)</small><table border=\"1\" class=\"dataframe\"><thead><tr><th>created_at</th><th>updated_at</th><th>custody_address</th><th>registered_at</th><th>fid</th><th>verifications_count</th><th>following_count</th><th>followers_count</th><th>recasts_count</th><th>likes_count</th></tr><tr><td>datetime[ns]</td><td>datetime[ns]</td><td>binary</td><td>datetime[ns, UTC]</td><td>i64</td><td>u32</td><td>u32</td><td>u32</td><td>u32</td><td>u32</td></tr></thead><tbody><tr><td>2023-09-05 23:18:56.166954</td><td>2024-06-07 17:17:31.984</td><td>b&quot;\\xb5\\x80\\x0cCv\\x1csPE*\\xfa\\xc6\\xff\\x01x\\xc1e\\xd3\\xf2\\x06&quot;</td><td>2023-11-07 20:14:03 UTC</td><td>12031</td><td>3</td><td>206</td><td>4071</td><td>36</td><td>610</td></tr></tbody></table></div>"
      ],
      "text/plain": [
       "shape: (1, 10)\n",
       "┌───────────┬───────────┬───────────┬───────────┬───┬───────────┬───────────┬───────────┬──────────┐\n",
       "│ created_a ┆ updated_a ┆ custody_a ┆ registere ┆ … ┆ following ┆ followers ┆ recasts_c ┆ likes_co │\n",
       "│ t         ┆ t         ┆ ddress    ┆ d_at      ┆   ┆ _count    ┆ _count    ┆ ount      ┆ unt      │\n",
       "│ ---       ┆ ---       ┆ ---       ┆ ---       ┆   ┆ ---       ┆ ---       ┆ ---       ┆ ---      │\n",
       "│ datetime[ ┆ datetime[ ┆ binary    ┆ datetime[ ┆   ┆ u32       ┆ u32       ┆ u32       ┆ u32      │\n",
       "│ ns]       ┆ ns]       ┆           ┆ ns, UTC]  ┆   ┆           ┆           ┆           ┆          │\n",
       "╞═══════════╪═══════════╪═══════════╪═══════════╪═══╪═══════════╪═══════════╪═══════════╪══════════╡\n",
       "│ 2023-09-0 ┆ 2024-06-0 ┆ b\"\\xb5\\x8 ┆ 2023-11-0 ┆ … ┆ 206       ┆ 4071      ┆ 36        ┆ 610      │\n",
       "│ 5 23:18:5 ┆ 7 17:17:3 ┆ 0\\x0cCv\\x ┆ 7         ┆   ┆           ┆           ┆           ┆          │\n",
       "│ 6.166954  ┆ 1.984     ┆ 1csPE*\\xf ┆ 20:14:03  ┆   ┆           ┆           ┆           ┆          │\n",
       "│           ┆           ┆ a\\x…      ┆ UTC       ┆   ┆           ┆           ┆           ┆          │\n",
       "└───────────┴───────────┴───────────┴───────────┴───┴───────────┴───────────┴───────────┴──────────┘"
      ]
     },
     "execution_count": 23,
     "metadata": {},
     "output_type": "execute_result"
    }
   ],
   "source": [
    "user_statistics"
   ]
  },
  {
   "cell_type": "code",
   "execution_count": 34,
   "id": "ee061acb-65a4-4e36-9533-4686a3c52be9",
   "metadata": {},
   "outputs": [
    {
     "data": {
      "text/html": [
       "<div><style>\n",
       ".dataframe > thead > tr,\n",
       ".dataframe > tbody > tr {\n",
       "  text-align: right;\n",
       "  white-space: pre-wrap;\n",
       "}\n",
       "</style>\n",
       "<small>shape: (4, 10)</small><table border=\"1\" class=\"dataframe\"><thead><tr><th>fid</th><th>target_fid</th><th>hash</th><th>timestamp</th><th>created_at</th><th>updated_at</th><th>deleted_at</th><th>type</th><th>display_timestamp</th><th>id</th></tr><tr><td>i64</td><td>i64</td><td>binary</td><td>datetime[ns]</td><td>datetime[ns]</td><td>datetime[ns]</td><td>datetime[ns]</td><td>str</td><td>datetime[ns]</td><td>i64</td></tr></thead><tbody><tr><td>860200</td><td>1725</td><td>b&quot;\\x842\\x81\\x06\\x9b\\xefi\\xf0]\\xb5u\\x8f\\xc2&quot;\\x8e\\x17\\x95:\\x8f\\x17&quot;</td><td>2024-09-25 15:50:20</td><td>2024-09-25 15:50:21.146692</td><td>2024-09-25 15:50:21.146692</td><td>null</td><td>&quot;follow&quot;</td><td>null</td><td>11876550315</td></tr><tr><td>860200</td><td>5650</td><td>b&quot;&quot;\\xf4\\xfb=\\x9c,\\xfa\\xd2U*?\\xa4\\x92\\x8a\\x90*\\xb1{\\xac\\xe9&quot;</td><td>2024-09-30 12:55:55</td><td>2024-09-30 12:55:55.750938</td><td>2024-09-30 12:55:55.750938</td><td>null</td><td>&quot;follow&quot;</td><td>null</td><td>11877929616</td></tr><tr><td>860200</td><td>191</td><td>b&quot;\\xd0PtV\\xe4\\xd5\\xb95\\x09@\\xc4\\x00K\\xfe\\xd7]\\x8dh\\x92\\xb6&quot;</td><td>2024-09-30 19:12:28</td><td>2024-09-30 19:12:28.923014</td><td>2024-09-30 19:12:28.923014</td><td>null</td><td>&quot;follow&quot;</td><td>null</td><td>11878003533</td></tr><tr><td>860200</td><td>12031</td><td>b&quot;\\xc1\\xff\\xcbT\\x8f\\xa4\\x9eoi\\xe8\\xe5y\\x19\\xa2I\\x01mC\\xa6T&quot;</td><td>2024-10-02 00:43:53</td><td>2024-10-02 00:43:53.965456</td><td>2024-10-02 00:43:53.965456</td><td>null</td><td>&quot;follow&quot;</td><td>null</td><td>11878298655</td></tr></tbody></table></div>"
      ],
      "text/plain": [
       "shape: (4, 10)\n",
       "┌────────┬────────────┬────────────┬────────────┬───┬────────────┬────────┬────────────┬───────────┐\n",
       "│ fid    ┆ target_fid ┆ hash       ┆ timestamp  ┆ … ┆ deleted_at ┆ type   ┆ display_ti ┆ id        │\n",
       "│ ---    ┆ ---        ┆ ---        ┆ ---        ┆   ┆ ---        ┆ ---    ┆ mestamp    ┆ ---       │\n",
       "│ i64    ┆ i64        ┆ binary     ┆ datetime[n ┆   ┆ datetime[n ┆ str    ┆ ---        ┆ i64       │\n",
       "│        ┆            ┆            ┆ s]         ┆   ┆ s]         ┆        ┆ datetime[n ┆           │\n",
       "│        ┆            ┆            ┆            ┆   ┆            ┆        ┆ s]         ┆           │\n",
       "╞════════╪════════════╪════════════╪════════════╪═══╪════════════╪════════╪════════════╪═══════════╡\n",
       "│ 860200 ┆ 1725       ┆ b\"\\x842\\x8 ┆ 2024-09-25 ┆ … ┆ null       ┆ follow ┆ null       ┆ 118765503 │\n",
       "│        ┆            ┆ 1\\x06\\x9b\\ ┆ 15:50:20   ┆   ┆            ┆        ┆            ┆ 15        │\n",
       "│        ┆            ┆ xefi\\xf0]\\ ┆            ┆   ┆            ┆        ┆            ┆           │\n",
       "│        ┆            ┆ …          ┆            ┆   ┆            ┆        ┆            ┆           │\n",
       "│ 860200 ┆ 5650       ┆ b\"\"\\xf4\\xf ┆ 2024-09-30 ┆ … ┆ null       ┆ follow ┆ null       ┆ 118779296 │\n",
       "│        ┆            ┆ b=\\x9c,\\xf ┆ 12:55:55   ┆   ┆            ┆        ┆            ┆ 16        │\n",
       "│        ┆            ┆ a\\xd2U*?\\x ┆            ┆   ┆            ┆        ┆            ┆           │\n",
       "│        ┆            ┆ …          ┆            ┆   ┆            ┆        ┆            ┆           │\n",
       "│ 860200 ┆ 191        ┆ b\"\\xd0PtV\\ ┆ 2024-09-30 ┆ … ┆ null       ┆ follow ┆ null       ┆ 118780035 │\n",
       "│        ┆            ┆ xe4\\xd5\\xb ┆ 19:12:28   ┆   ┆            ┆        ┆            ┆ 33        │\n",
       "│        ┆            ┆ 95\\x09@\\xc ┆            ┆   ┆            ┆        ┆            ┆           │\n",
       "│        ┆            ┆ …          ┆            ┆   ┆            ┆        ┆            ┆           │\n",
       "│ 860200 ┆ 12031      ┆ b\"\\xc1\\xff ┆ 2024-10-02 ┆ … ┆ null       ┆ follow ┆ null       ┆ 118782986 │\n",
       "│        ┆            ┆ \\xcbT\\x8f\\ ┆ 00:43:53   ┆   ┆            ┆        ┆            ┆ 55        │\n",
       "│        ┆            ┆ xa4\\x9eoi\\ ┆            ┆   ┆            ┆        ┆            ┆           │\n",
       "│        ┆            ┆ …          ┆            ┆   ┆            ┆        ┆            ┆           │\n",
       "└────────┴────────────┴────────────┴────────────┴───┴────────────┴────────┴────────────┴───────────┘"
      ]
     },
     "execution_count": 34,
     "metadata": {},
     "output_type": "execute_result"
    }
   ],
   "source": [
    "links_df.filter(pl.col(\"fid\") == joao_fid)"
   ]
  },
  {
   "cell_type": "code",
   "execution_count": 35,
   "id": "e9592763-af85-4229-98da-fd1ce73a93ad",
   "metadata": {},
   "outputs": [
    {
     "data": {
      "text/html": [
       "<div><style>\n",
       ".dataframe > thead > tr,\n",
       ".dataframe > tbody > tr {\n",
       "  text-align: right;\n",
       "  white-space: pre-wrap;\n",
       "}\n",
       "</style>\n",
       "<small>shape: (3, 10)</small><table border=\"1\" class=\"dataframe\"><thead><tr><th>fid</th><th>target_fid</th><th>hash</th><th>timestamp</th><th>created_at</th><th>updated_at</th><th>deleted_at</th><th>type</th><th>display_timestamp</th><th>id</th></tr><tr><td>i64</td><td>i64</td><td>binary</td><td>datetime[ns]</td><td>datetime[ns]</td><td>datetime[ns]</td><td>datetime[ns]</td><td>str</td><td>datetime[ns]</td><td>i64</td></tr></thead><tbody><tr><td>769628</td><td>860200</td><td>b&quot;\\xf9\\xbf\\xd9\\xa5\\xc3Ph\\x81\\xf8\\xb0:u\\x1d\\xe8@\\xb8\\xc25\\x07b&quot;</td><td>2024-09-25 15:45:02</td><td>2024-09-25 15:45:15.307277</td><td>2024-09-26 15:50:01.807</td><td>2024-09-26 15:50:00</td><td>&quot;follow&quot;</td><td>null</td><td>11876549573</td></tr><tr><td>861980</td><td>860200</td><td>b&quot;\\x10\\x11\\x13p\\xa5\\xa7A;\\x99X\\x18\\xdf\\xfd\\x00oB\\x93\\xa1&quot;\\xa6&quot;</td><td>2024-09-30 12:57:03</td><td>2024-09-30 12:57:04.785193</td><td>2024-09-30 12:57:04.785193</td><td>null</td><td>&quot;follow&quot;</td><td>null</td><td>11877929974</td></tr><tr><td>859657</td><td>860200</td><td>b&quot;l\\xe9\\x81\\xd7t\\xf3\\xd5\\xc6\\x17!4%\\xfc|\\xfd!&lt;yf\\xce&quot;</td><td>2024-10-02 08:38:33</td><td>2024-10-02 08:38:36.010624</td><td>2024-10-02 08:38:36.010624</td><td>null</td><td>&quot;follow&quot;</td><td>null</td><td>11878359754</td></tr></tbody></table></div>"
      ],
      "text/plain": [
       "shape: (3, 10)\n",
       "┌────────┬────────────┬────────────┬────────────┬───┬────────────┬────────┬────────────┬───────────┐\n",
       "│ fid    ┆ target_fid ┆ hash       ┆ timestamp  ┆ … ┆ deleted_at ┆ type   ┆ display_ti ┆ id        │\n",
       "│ ---    ┆ ---        ┆ ---        ┆ ---        ┆   ┆ ---        ┆ ---    ┆ mestamp    ┆ ---       │\n",
       "│ i64    ┆ i64        ┆ binary     ┆ datetime[n ┆   ┆ datetime[n ┆ str    ┆ ---        ┆ i64       │\n",
       "│        ┆            ┆            ┆ s]         ┆   ┆ s]         ┆        ┆ datetime[n ┆           │\n",
       "│        ┆            ┆            ┆            ┆   ┆            ┆        ┆ s]         ┆           │\n",
       "╞════════╪════════════╪════════════╪════════════╪═══╪════════════╪════════╪════════════╪═══════════╡\n",
       "│ 769628 ┆ 860200     ┆ b\"\\xf9\\xbf ┆ 2024-09-25 ┆ … ┆ 2024-09-26 ┆ follow ┆ null       ┆ 118765495 │\n",
       "│        ┆            ┆ \\xd9\\xa5\\x ┆ 15:45:02   ┆   ┆ 15:50:00   ┆        ┆            ┆ 73        │\n",
       "│        ┆            ┆ c3Ph\\x81\\x ┆            ┆   ┆            ┆        ┆            ┆           │\n",
       "│        ┆            ┆ …          ┆            ┆   ┆            ┆        ┆            ┆           │\n",
       "│ 861980 ┆ 860200     ┆ b\"\\x10\\x11 ┆ 2024-09-30 ┆ … ┆ null       ┆ follow ┆ null       ┆ 118779299 │\n",
       "│        ┆            ┆ \\x13p\\xa5\\ ┆ 12:57:03   ┆   ┆            ┆        ┆            ┆ 74        │\n",
       "│        ┆            ┆ xa7A;\\x99X ┆            ┆   ┆            ┆        ┆            ┆           │\n",
       "│        ┆            ┆ …          ┆            ┆   ┆            ┆        ┆            ┆           │\n",
       "│ 859657 ┆ 860200     ┆ b\"l\\xe9\\x8 ┆ 2024-10-02 ┆ … ┆ null       ┆ follow ┆ null       ┆ 118783597 │\n",
       "│        ┆            ┆ 1\\xd7t\\xf3 ┆ 08:38:33   ┆   ┆            ┆        ┆            ┆ 54        │\n",
       "│        ┆            ┆ \\xd5\\xc6\\x ┆            ┆   ┆            ┆        ┆            ┆           │\n",
       "│        ┆            ┆ …          ┆            ┆   ┆            ┆        ┆            ┆           │\n",
       "└────────┴────────────┴────────────┴────────────┴───┴────────────┴────────┴────────────┴───────────┘"
      ]
     },
     "execution_count": 35,
     "metadata": {},
     "output_type": "execute_result"
    }
   ],
   "source": [
    "links_df.filter(pl.col(\"target_fid\") == joao_fid)"
   ]
  },
  {
   "cell_type": "code",
   "execution_count": 36,
   "id": "fb9161d9-ab99-491b-a403-18be375f5f30",
   "metadata": {},
   "outputs": [],
   "source": [
    "# should filter by the links where the deleted at is null"
   ]
  },
  {
   "cell_type": "code",
   "execution_count": null,
   "id": "6ff2817e-666d-4d4a-87fb-86537ef46c17",
   "metadata": {},
   "outputs": [],
   "source": [
    "# add casts "
   ]
  },
  {
   "cell_type": "code",
   "execution_count": 3,
   "id": "d344b2b8-1859-412c-9346-01cff7d5a4e4",
   "metadata": {},
   "outputs": [],
   "source": [
    "casts_lazy_df = pl.scan_parquet(f\"{DATA_PATH}/farcaster-casts-0-1730134800.parquet\")"
   ]
  },
  {
   "cell_type": "code",
   "execution_count": 24,
   "id": "b28cda88-3887-414f-8c89-17339b565b46",
   "metadata": {},
   "outputs": [],
   "source": [
    "casts_count_lazy = (\n",
    "    casts_lazy_df\n",
    "    .filter(pl.col(\"deleted_at\").is_null())  # Filter out deleted casts\n",
    "    .group_by(\"fid\")\n",
    "    .agg([\n",
    "        pl.count(\"id\").alias(\"total_casts_count\"),\n",
    "        (pl.col(\"parent_hash\").is_not_null() & (pl.col(\"parent_hash\").is_not_null())).sum().alias(\"reply_casts_count\"),\n",
    "        (pl.col(\"parent_hash\").is_null()).sum().alias(\"casts_count\"),\n",
    "    ])\n",
    ")"
   ]
  },
  {
   "cell_type": "code",
   "execution_count": 25,
   "id": "a9eaca7f-c607-4012-a762-0f3c95bfea2b",
   "metadata": {},
   "outputs": [],
   "source": [
    "casts_count_df = casts_count_lazy.collect()"
   ]
  },
  {
   "cell_type": "code",
   "execution_count": 26,
   "id": "9078c387-278b-447f-a788-c6974b9d7fcb",
   "metadata": {},
   "outputs": [
    {
     "data": {
      "text/html": [
       "<div><style>\n",
       ".dataframe > thead > tr,\n",
       ".dataframe > tbody > tr {\n",
       "  text-align: right;\n",
       "  white-space: pre-wrap;\n",
       "}\n",
       "</style>\n",
       "<small>shape: (485_790, 4)</small><table border=\"1\" class=\"dataframe\"><thead><tr><th>fid</th><th>total_casts_count</th><th>reply_casts_count</th><th>casts_count</th></tr><tr><td>i64</td><td>u32</td><td>u32</td><td>u32</td></tr></thead><tbody><tr><td>254061</td><td>163</td><td>120</td><td>43</td></tr><tr><td>617915</td><td>51</td><td>32</td><td>19</td></tr><tr><td>510194</td><td>3660</td><td>3284</td><td>376</td></tr><tr><td>247892</td><td>4</td><td>1</td><td>3</td></tr><tr><td>312523</td><td>3</td><td>0</td><td>3</td></tr><tr><td>&hellip;</td><td>&hellip;</td><td>&hellip;</td><td>&hellip;</td></tr><tr><td>683975</td><td>18</td><td>18</td><td>0</td></tr><tr><td>289541</td><td>242</td><td>153</td><td>89</td></tr><tr><td>379327</td><td>4272</td><td>3859</td><td>413</td></tr><tr><td>592718</td><td>1</td><td>0</td><td>1</td></tr><tr><td>288627</td><td>22</td><td>12</td><td>10</td></tr></tbody></table></div>"
      ],
      "text/plain": [
       "shape: (485_790, 4)\n",
       "┌────────┬───────────────────┬───────────────────┬─────────────┐\n",
       "│ fid    ┆ total_casts_count ┆ reply_casts_count ┆ casts_count │\n",
       "│ ---    ┆ ---               ┆ ---               ┆ ---         │\n",
       "│ i64    ┆ u32               ┆ u32               ┆ u32         │\n",
       "╞════════╪═══════════════════╪═══════════════════╪═════════════╡\n",
       "│ 254061 ┆ 163               ┆ 120               ┆ 43          │\n",
       "│ 617915 ┆ 51                ┆ 32                ┆ 19          │\n",
       "│ 510194 ┆ 3660              ┆ 3284              ┆ 376         │\n",
       "│ 247892 ┆ 4                 ┆ 1                 ┆ 3           │\n",
       "│ 312523 ┆ 3                 ┆ 0                 ┆ 3           │\n",
       "│ …      ┆ …                 ┆ …                 ┆ …           │\n",
       "│ 683975 ┆ 18                ┆ 18                ┆ 0           │\n",
       "│ 289541 ┆ 242               ┆ 153               ┆ 89          │\n",
       "│ 379327 ┆ 4272              ┆ 3859              ┆ 413         │\n",
       "│ 592718 ┆ 1                 ┆ 0                 ┆ 1           │\n",
       "│ 288627 ┆ 22                ┆ 12                ┆ 10          │\n",
       "└────────┴───────────────────┴───────────────────┴─────────────┘"
      ]
     },
     "execution_count": 26,
     "metadata": {},
     "output_type": "execute_result"
    }
   ],
   "source": [
    "casts_count_df"
   ]
  },
  {
   "cell_type": "code",
   "execution_count": 27,
   "id": "f7980da9-e15d-498a-b1ec-2c225a8a0e7e",
   "metadata": {},
   "outputs": [],
   "source": [
    "df = pl.read_parquet(f\"{DATA_PATH}/aggregated_links_statistics.parquet\")"
   ]
  },
  {
   "cell_type": "code",
   "execution_count": 33,
   "id": "cc1242b4-a9f7-4e0e-8440-c7d65ce75784",
   "metadata": {},
   "outputs": [],
   "source": [
    "# df = df.drop([\"casts_count\",\"casts_count_right\"])\n",
    "# df"
   ]
  },
  {
   "cell_type": "code",
   "execution_count": 31,
   "id": "fa43c234-78fe-4976-b8f1-ee53ee73ee98",
   "metadata": {},
   "outputs": [
    {
     "data": {
      "text/html": [
       "<div><style>\n",
       ".dataframe > thead > tr,\n",
       ".dataframe > tbody > tr {\n",
       "  text-align: right;\n",
       "  white-space: pre-wrap;\n",
       "}\n",
       "</style>\n",
       "<small>shape: (10, 4)</small><table border=\"1\" class=\"dataframe\"><thead><tr><th>fid</th><th>total_casts_count</th><th>reply_casts_count</th><th>casts_count</th></tr><tr><td>i64</td><td>u32</td><td>u32</td><td>u32</td></tr></thead><tbody><tr><td>772824</td><td>508</td><td>390</td><td>118</td></tr><tr><td>780412</td><td>31</td><td>15</td><td>16</td></tr><tr><td>829404</td><td>1</td><td>0</td><td>1</td></tr><tr><td>421163</td><td>24807</td><td>22349</td><td>2458</td></tr><tr><td>519541</td><td>12</td><td>10</td><td>2</td></tr><tr><td>854364</td><td>28</td><td>17</td><td>11</td></tr><tr><td>806023</td><td>33</td><td>3</td><td>30</td></tr><tr><td>262031</td><td>44</td><td>22</td><td>22</td></tr><tr><td>253708</td><td>12</td><td>4</td><td>8</td></tr><tr><td>626342</td><td>3</td><td>0</td><td>3</td></tr></tbody></table></div>"
      ],
      "text/plain": [
       "shape: (10, 4)\n",
       "┌────────┬───────────────────┬───────────────────┬─────────────┐\n",
       "│ fid    ┆ total_casts_count ┆ reply_casts_count ┆ casts_count │\n",
       "│ ---    ┆ ---               ┆ ---               ┆ ---         │\n",
       "│ i64    ┆ u32               ┆ u32               ┆ u32         │\n",
       "╞════════╪═══════════════════╪═══════════════════╪═════════════╡\n",
       "│ 772824 ┆ 508               ┆ 390               ┆ 118         │\n",
       "│ 780412 ┆ 31                ┆ 15                ┆ 16          │\n",
       "│ 829404 ┆ 1                 ┆ 0                 ┆ 1           │\n",
       "│ 421163 ┆ 24807             ┆ 22349             ┆ 2458        │\n",
       "│ 519541 ┆ 12                ┆ 10                ┆ 2           │\n",
       "│ 854364 ┆ 28                ┆ 17                ┆ 11          │\n",
       "│ 806023 ┆ 33                ┆ 3                 ┆ 30          │\n",
       "│ 262031 ┆ 44                ┆ 22                ┆ 22          │\n",
       "│ 253708 ┆ 12                ┆ 4                 ┆ 8           │\n",
       "│ 626342 ┆ 3                 ┆ 0                 ┆ 3           │\n",
       "└────────┴───────────────────┴───────────────────┴─────────────┘"
      ]
     },
     "execution_count": 31,
     "metadata": {},
     "output_type": "execute_result"
    }
   ],
   "source": [
    "casts_count_df.sample(10)"
   ]
  },
  {
   "cell_type": "code",
   "execution_count": 34,
   "id": "c678bfd9-9385-4307-ac96-ec470e50f67d",
   "metadata": {},
   "outputs": [],
   "source": [
    "result_df = df.join(casts_count_df, on=\"fid\", how=\"left\")\n",
    "result_df = result_df.fill_null(0)"
   ]
  },
  {
   "cell_type": "code",
   "execution_count": 35,
   "id": "07a4a6c7-3abc-4236-9a30-38d7ecb2b33e",
   "metadata": {},
   "outputs": [],
   "source": [
    "result_df.write_parquet(f\"{DATA_PATH}/aggregated_links_statistics.parquet\")"
   ]
  },
  {
   "cell_type": "code",
   "execution_count": 21,
   "id": "828f8c77-3286-42fa-a4da-8640e13a31f3",
   "metadata": {},
   "outputs": [],
   "source": [
    "# casts_by_fid = casts_lazy_df.filter((pl.col('fid')==400242) & (pl.col('deleted_at').is_null()))\n",
    "# result = casts_by_fid.collect()"
   ]
  },
  {
   "cell_type": "code",
   "execution_count": 20,
   "id": "562b1df0-693c-4932-a48f-47723deb12eb",
   "metadata": {},
   "outputs": [
    {
     "data": {
      "text/html": [
       "<div><style>\n",
       ".dataframe > thead > tr,\n",
       ".dataframe > tbody > tr {\n",
       "  text-align: right;\n",
       "  white-space: pre-wrap;\n",
       "}\n",
       "</style>\n",
       "<small>shape: (100_188, 16)</small><table border=\"1\" class=\"dataframe\"><thead><tr><th>created_at</th><th>updated_at</th><th>deleted_at</th><th>timestamp</th><th>fid</th><th>hash</th><th>parent_hash</th><th>parent_fid</th><th>parent_url</th><th>text</th><th>embeds</th><th>mentions</th><th>mentions_positions</th><th>root_parent_hash</th><th>root_parent_url</th><th>id</th></tr><tr><td>datetime[ns]</td><td>datetime[ns]</td><td>datetime[ns]</td><td>datetime[ns]</td><td>i64</td><td>binary</td><td>binary</td><td>i64</td><td>str</td><td>str</td><td>str</td><td>str</td><td>str</td><td>binary</td><td>str</td><td>i64</td></tr></thead><tbody><tr><td>2024-03-24 07:08:16.583831</td><td>2024-03-24 07:08:16.583831</td><td>null</td><td>2024-03-24 07:08:17</td><td>400242</td><td>b&quot;|\\xb7\\x8d\\xecx\\x982\\xd4`\\x913\\xdf\\xbd\\x1a\\xb1(}\\x85^(&quot;</td><td>null</td><td>null</td><td>&quot;https://warpcast.com/~/channel/toka&quot;</td><td>&quot;Mint this NFT by  completely onframe with $DEGEN or ETH&quot;</td><td>&quot;[{&quot;url&quot;: &quot;https://toka.lol/collect/base:0x6b1ce2699455a096fb617a0d1850467c827979d5/2&quot;}, {&quot;castId&quot;: {&quot;fid&quot;: 249927, &quot;hash&quot;: {&quot;data&quot;: [100, 232, 88, 29, 234, 12, 108, 32, 172, 164, 63, 14, 191, 130, 10, 24, 243, 47, 217, 182], &quot;type&quot;: &quot;Buffer&quot;}}}]&quot;</td><td>&quot;[249927]&quot;</td><td>&quot;[17]&quot;</td><td>b&quot;|\\xb7\\x8d\\xecx\\x982\\xd4`\\x913\\xdf\\xbd\\x1a\\xb1(}\\x85^(&quot;</td><td>&quot;https://warpcast.com/~/channel/toka&quot;</td><td>963501345</td></tr><tr><td>2024-03-24 07:08:24.584160</td><td>2024-03-24 07:08:24.584160</td><td>null</td><td>2024-03-24 07:08:25</td><td>400242</td><td>b&quot;\\xa2\\xa1\\xeaP\\xda\\xff\\xec\\x80\\xfd\\x9f%\\x0b\\xc3\\x9dG\\xaeN\\x8eN\\xef&quot;</td><td>null</td><td>null</td><td>&quot;https://warpcast.com/~/channel/toka&quot;</td><td>&quot;Mint this NFT by  completely onframe with $DEGEN or ETH&quot;</td><td>&quot;[{&quot;url&quot;: &quot;https://toka.lol/collect/base:0x82e30a63bccde3724877878a30c4977b52348198/1&quot;}, {&quot;castId&quot;: {&quot;fid&quot;: 281295, &quot;hash&quot;: {&quot;data&quot;: [249, 12, 49, 117, 91, 171, 69, 68, 160, 129, 113, 43, 196, 132, 220, 81, 130, 151, 32, 91], &quot;type&quot;: &quot;Buffer&quot;}}}]&quot;</td><td>&quot;[293263]&quot;</td><td>&quot;[17]&quot;</td><td>b&quot;\\xa2\\xa1\\xeaP\\xda\\xff\\xec\\x80\\xfd\\x9f%\\x0b\\xc3\\x9dG\\xaeN\\x8eN\\xef&quot;</td><td>&quot;https://warpcast.com/~/channel/toka&quot;</td><td>963505914</td></tr><tr><td>2024-03-24 07:09:02.292216</td><td>2024-03-24 07:09:02.292216</td><td>null</td><td>2024-03-24 07:09:02</td><td>400242</td><td>b&quot;\\xc8\\xf7;\\xa4\\xa8Q\\xf2\\xb2\\x9d\\xc6\\x87,-\\xbd{9\\xaaI\\xa8\\x0a&quot;</td><td>null</td><td>null</td><td>&quot;https://warpcast.com/~/channel/toka&quot;</td><td>&quot;Mint this NFT by  completely onframe with $DEGEN or ETH&quot;</td><td>&quot;[{&quot;url&quot;: &quot;https://toka.lol/collect/base:0x3972af0ebfa3ffbfa0913243a5540c18308a9ca9/1&quot;}, {&quot;castId&quot;: {&quot;fid&quot;: 292426, &quot;hash&quot;: {&quot;data&quot;: [220, 53, 3, 253, 197, 220, 63, 206, 157, 135, 236, 152, 212, 18, 140, 241, 107, 26, 178, 128], &quot;type&quot;: &quot;Buffer&quot;}}}]&quot;</td><td>&quot;[5860]&quot;</td><td>&quot;[17]&quot;</td><td>b&quot;\\xc8\\xf7;\\xa4\\xa8Q\\xf2\\xb2\\x9d\\xc6\\x87,-\\xbd{9\\xaaI\\xa8\\x0a&quot;</td><td>&quot;https://warpcast.com/~/channel/toka&quot;</td><td>963515943</td></tr><tr><td>2024-03-24 07:19:48.723145</td><td>2024-03-24 07:19:48.723145</td><td>null</td><td>2024-03-24 07:19:49</td><td>400242</td><td>b&quot;Y&#x27;\\x935\\xa4{\\x85y\\xb9Z\\xe69\\x1d!Y\\x84\\x95!\\x1c\\xdc&quot;</td><td>null</td><td>null</td><td>&quot;https://warpcast.com/~/channel/toka&quot;</td><td>&quot;Mint this NFT by  completely onframe with $DEGEN or ETH&quot;</td><td>&quot;[{&quot;url&quot;: &quot;https://toka.lol/collect/base:0x3f07b910f892fc1d19547d63ced91719dc595e7a/1&quot;}, {&quot;castId&quot;: {&quot;fid&quot;: 328795, &quot;hash&quot;: {&quot;data&quot;: [58, 203, 248, 180, 206, 40, 55, 255, 56, 98, 206, 175, 252, 1, 216, 62, 33, 80, 196, 127], &quot;type&quot;: &quot;Buffer&quot;}}}]&quot;</td><td>&quot;[328795]&quot;</td><td>&quot;[17]&quot;</td><td>b&quot;Y&#x27;\\x935\\xa4{\\x85y\\xb9Z\\xe69\\x1d!Y\\x84\\x95!\\x1c\\xdc&quot;</td><td>&quot;https://warpcast.com/~/channel/toka&quot;</td><td>963751753</td></tr><tr><td>2024-03-24 07:38:57.714247</td><td>2024-03-24 07:38:57.714247</td><td>null</td><td>2024-03-24 07:38:58</td><td>400242</td><td>b&quot;:\\xa1\\xbc\\x08\\xb5k\\xabl+=\\xe6{&lt;1\\xb0\\x0aZ\\xe1r\\x0f&quot;</td><td>null</td><td>null</td><td>&quot;https://warpcast.com/~/channel/toka&quot;</td><td>&quot;Mint this NFT by  completely onframe with $DEGEN or ETH&quot;</td><td>&quot;[{&quot;url&quot;: &quot;https://toka.lol/collect/base:0x2d8f5a5530e6e8c0b53f2c39947cf0b3229cedeb/1&quot;}, {&quot;castId&quot;: {&quot;fid&quot;: 236715, &quot;hash&quot;: {&quot;data&quot;: [96, 190, 80, 213, 203, 203, 58, 43, 92, 175, 228, 192, 28, 9, 66, 60, 164, 45, 182, 249], &quot;type&quot;: &quot;Buffer&quot;}}}]&quot;</td><td>&quot;[236670]&quot;</td><td>&quot;[17]&quot;</td><td>b&quot;:\\xa1\\xbc\\x08\\xb5k\\xabl+=\\xe6{&lt;1\\xb0\\x0aZ\\xe1r\\x0f&quot;</td><td>&quot;https://warpcast.com/~/channel/toka&quot;</td><td>964171868</td></tr><tr><td>&hellip;</td><td>&hellip;</td><td>&hellip;</td><td>&hellip;</td><td>&hellip;</td><td>&hellip;</td><td>&hellip;</td><td>&hellip;</td><td>&hellip;</td><td>&hellip;</td><td>&hellip;</td><td>&hellip;</td><td>&hellip;</td><td>&hellip;</td><td>&hellip;</td><td>&hellip;</td></tr><tr><td>2024-10-03 16:40:05.725472</td><td>2024-10-03 16:40:05.725472</td><td>null</td><td>2024-10-03 16:40:06</td><td>400242</td><td>b&quot;\\xe5\\x8b\\x90\\x84)\\xc8\\x98\\x1b\\xd1\\x80bd\\xceY\\xb6\\xb0\\xf3\\x05}\\xda&quot;</td><td>null</td><td>null</td><td>&quot;https://warpcast.com/~/channel/toka&quot;</td><td>&quot;Mint this NFT by  completely onframe&quot;</td><td>&quot;[{&quot;url&quot;: &quot;https://toka.lol/collect/base:0x53dc7139cb12aaff78e9cea97fca9fcbdc08d8db/1&quot;}, {&quot;castId&quot;: {&quot;fid&quot;: 218753, &quot;hash&quot;: {&quot;data&quot;: [181, 116, 50, 46, 40, 200, 251, 73, 131, 171, 9, 164, 132, 255, 223, 223, 200, 29, 181, 189], &quot;type&quot;: &quot;Buffer&quot;}}}]&quot;</td><td>&quot;[415590]&quot;</td><td>&quot;[17]&quot;</td><td>b&quot;\\xe5\\x8b\\x90\\x84)\\xc8\\x98\\x1b\\xd1\\x80bd\\xceY\\xb6\\xb0\\xf3\\x05}\\xda&quot;</td><td>&quot;https://warpcast.com/~/channel/toka&quot;</td><td>5859307470</td></tr><tr><td>2024-10-03 16:41:34.950593</td><td>2024-10-03 16:41:34.950593</td><td>null</td><td>2024-10-03 16:41:35</td><td>400242</td><td>b&quot;\\xed=\\x85\\x89\\xeb\\x89\\xe8*\\x1d\\xa6P\\x83\\xe6[\\xc9\\x1af\\x87IA&quot;</td><td>null</td><td>null</td><td>&quot;https://warpcast.com/~/channel/toka&quot;</td><td>&quot;Mint this NFT by  completely onframe&quot;</td><td>&quot;[{&quot;url&quot;: &quot;https://toka.lol/collect/zora:0xaaa3a3c3a1c03b3bc869d4a13d31a158ab49a323/1&quot;}, {&quot;castId&quot;: {&quot;fid&quot;: 441555, &quot;hash&quot;: {&quot;data&quot;: [55, 201, 4, 140, 131, 56, 21, 135, 178, 98, 145, 204, 125, 90, 230, 96, 74, 176, 229, 161], &quot;type&quot;: &quot;Buffer&quot;}}}]&quot;</td><td>&quot;[796850]&quot;</td><td>&quot;[17]&quot;</td><td>b&quot;\\xed=\\x85\\x89\\xeb\\x89\\xe8*\\x1d\\xa6P\\x83\\xe6[\\xc9\\x1af\\x87IA&quot;</td><td>&quot;https://warpcast.com/~/channel/toka&quot;</td><td>5859308158</td></tr><tr><td>2024-10-03 16:43:20.408571</td><td>2024-10-03 16:43:20.408571</td><td>null</td><td>2024-10-03 16:43:20</td><td>400242</td><td>b&quot;\\xf6v\\xa7\\x12\\xcb\\x1d\\xcb\\xa0\\xf4\\xbfm\\xd5\\xc2\\x0a|\\xb6ni\\xa8o&quot;</td><td>null</td><td>null</td><td>&quot;https://warpcast.com/~/channel/toka&quot;</td><td>&quot;Mint this NFT completely onframe&quot;</td><td>&quot;[{&quot;url&quot;: &quot;https://toka.lol/collect/zora:0x3af1c9a4a51b3605beb963a99482deddaf143c66/44&quot;}, {&quot;castId&quot;: {&quot;fid&quot;: 415950, &quot;hash&quot;: {&quot;data&quot;: [221, 159, 167, 84, 133, 178, 177, 249, 48, 6, 26, 29, 172, 234, 108, 11, 132, 12, 180, 166], &quot;type&quot;: &quot;Buffer&quot;}}}]&quot;</td><td>&quot;[]&quot;</td><td>&quot;[]&quot;</td><td>b&quot;\\xf6v\\xa7\\x12\\xcb\\x1d\\xcb\\xa0\\xf4\\xbfm\\xd5\\xc2\\x0a|\\xb6ni\\xa8o&quot;</td><td>&quot;https://warpcast.com/~/channel/toka&quot;</td><td>5859308927</td></tr><tr><td>2024-10-03 16:55:22.416695</td><td>2024-10-03 16:55:22.416695</td><td>null</td><td>2024-10-03 16:55:22</td><td>400242</td><td>b&quot;\\x1ar\\xb7*\\x1f\\x1d\\xab\\xa3\\x0c\\xc9G\\x00\\xed_\\xccV\\xa7\\xa4\\xad\\x88&quot;</td><td>null</td><td>null</td><td>&quot;https://warpcast.com/~/channel/toka&quot;</td><td>&quot;Mint this NFT by  completely onframe&quot;</td><td>&quot;[{&quot;url&quot;: &quot;https://toka.lol/collect/zora:0xbc4cd5ea817d5db5208d448cffdc1cb735f2c57a/1&quot;}, {&quot;castId&quot;: {&quot;fid&quot;: 434522, &quot;hash&quot;: {&quot;data&quot;: [50, 217, 44, 126, 22, 104, 228, 174, 42, 226, 235, 113, 32, 59, 208, 34, 247, 224, 39, 198], &quot;type&quot;: &quot;Buffer&quot;}}}]&quot;</td><td>&quot;[434522]&quot;</td><td>&quot;[17]&quot;</td><td>b&quot;\\x1ar\\xb7*\\x1f\\x1d\\xab\\xa3\\x0c\\xc9G\\x00\\xed_\\xccV\\xa7\\xa4\\xad\\x88&quot;</td><td>&quot;https://warpcast.com/~/channel/toka&quot;</td><td>5859314522</td></tr><tr><td>2024-10-03 16:56:57.176093</td><td>2024-10-03 16:56:57.176093</td><td>null</td><td>2024-10-03 16:56:57</td><td>400242</td><td>b&quot;\\x9aW[\\x0cM\\x0c}\\x8c\\x9f`\\x99.\\xba/\\x83&lt;}~V\\x18&quot;</td><td>null</td><td>null</td><td>&quot;https://warpcast.com/~/channel/toka&quot;</td><td>&quot;Mint this NFT by  completely onframe&quot;</td><td>&quot;[{&quot;url&quot;: &quot;https://toka.lol/collect/zora:0x258d39e9a007bf4ae1e4312a944a24e194299c4e/1&quot;}, {&quot;castId&quot;: {&quot;fid&quot;: 787999, &quot;hash&quot;: {&quot;data&quot;: [59, 164, 42, 226, 36, 74, 150, 208, 89, 214, 190, 135, 245, 39, 156, 136, 105, 47, 26, 250], &quot;type&quot;: &quot;Buffer&quot;}}}]&quot;</td><td>&quot;[787999]&quot;</td><td>&quot;[17]&quot;</td><td>b&quot;\\x9aW[\\x0cM\\x0c}\\x8c\\x9f`\\x99.\\xba/\\x83&lt;}~V\\x18&quot;</td><td>&quot;https://warpcast.com/~/channel/toka&quot;</td><td>5859315266</td></tr></tbody></table></div>"
      ],
      "text/plain": [
       "shape: (100_188, 16)\n",
       "┌───────────┬───────────┬───────────┬───────────┬───┬───────────┬───────────┬───────────┬──────────┐\n",
       "│ created_a ┆ updated_a ┆ deleted_a ┆ timestamp ┆ … ┆ mentions_ ┆ root_pare ┆ root_pare ┆ id       │\n",
       "│ t         ┆ t         ┆ t         ┆ ---       ┆   ┆ positions ┆ nt_hash   ┆ nt_url    ┆ ---      │\n",
       "│ ---       ┆ ---       ┆ ---       ┆ datetime[ ┆   ┆ ---       ┆ ---       ┆ ---       ┆ i64      │\n",
       "│ datetime[ ┆ datetime[ ┆ datetime[ ┆ ns]       ┆   ┆ str       ┆ binary    ┆ str       ┆          │\n",
       "│ ns]       ┆ ns]       ┆ ns]       ┆           ┆   ┆           ┆           ┆           ┆          │\n",
       "╞═══════════╪═══════════╪═══════════╪═══════════╪═══╪═══════════╪═══════════╪═══════════╪══════════╡\n",
       "│ 2024-03-2 ┆ 2024-03-2 ┆ null      ┆ 2024-03-2 ┆ … ┆ [17]      ┆ b\"|\\xb7\\x ┆ https://w ┆ 96350134 │\n",
       "│ 4 07:08:1 ┆ 4 07:08:1 ┆           ┆ 4         ┆   ┆           ┆ 8d\\xecx\\x ┆ arpcast.c ┆ 5        │\n",
       "│ 6.583831  ┆ 6.583831  ┆           ┆ 07:08:17  ┆   ┆           ┆ 982\\xd4`\\ ┆ om/~/chan ┆          │\n",
       "│           ┆           ┆           ┆           ┆   ┆           ┆ x913\\xdf\\ ┆ nel/toka  ┆          │\n",
       "│           ┆           ┆           ┆           ┆   ┆           ┆ xbd\\x1a\\x ┆           ┆          │\n",
       "│           ┆           ┆           ┆           ┆   ┆           ┆ b1(}\\x85^ ┆           ┆          │\n",
       "│           ┆           ┆           ┆           ┆   ┆           ┆ (\"        ┆           ┆          │\n",
       "│ 2024-03-2 ┆ 2024-03-2 ┆ null      ┆ 2024-03-2 ┆ … ┆ [17]      ┆ b\"\\xa2\\xa ┆ https://w ┆ 96350591 │\n",
       "│ 4 07:08:2 ┆ 4 07:08:2 ┆           ┆ 4         ┆   ┆           ┆ 1\\xeaP\\xd ┆ arpcast.c ┆ 4        │\n",
       "│ 4.584160  ┆ 4.584160  ┆           ┆ 07:08:25  ┆   ┆           ┆ a\\xff\\xec ┆ om/~/chan ┆          │\n",
       "│           ┆           ┆           ┆           ┆   ┆           ┆ \\x80\\xfd\\ ┆ nel/toka  ┆          │\n",
       "│           ┆           ┆           ┆           ┆   ┆           ┆ x9f%\\x0b\\ ┆           ┆          │\n",
       "│           ┆           ┆           ┆           ┆   ┆           ┆ xc3\\x9dG\\ ┆           ┆          │\n",
       "│           ┆           ┆           ┆           ┆   ┆           ┆ xaeN\\x8eN ┆           ┆          │\n",
       "│           ┆           ┆           ┆           ┆   ┆           ┆ \\xef\"     ┆           ┆          │\n",
       "│ 2024-03-2 ┆ 2024-03-2 ┆ null      ┆ 2024-03-2 ┆ … ┆ [17]      ┆ b\"\\xc8\\xf ┆ https://w ┆ 96351594 │\n",
       "│ 4 07:09:0 ┆ 4 07:09:0 ┆           ┆ 4         ┆   ┆           ┆ 7;\\xa4\\xa ┆ arpcast.c ┆ 3        │\n",
       "│ 2.292216  ┆ 2.292216  ┆           ┆ 07:09:02  ┆   ┆           ┆ 8Q\\xf2\\xb ┆ om/~/chan ┆          │\n",
       "│           ┆           ┆           ┆           ┆   ┆           ┆ 2\\x9d\\xc6 ┆ nel/toka  ┆          │\n",
       "│           ┆           ┆           ┆           ┆   ┆           ┆ \\x87,-\\xb ┆           ┆          │\n",
       "│           ┆           ┆           ┆           ┆   ┆           ┆ d{9\\xaaI\\ ┆           ┆          │\n",
       "│           ┆           ┆           ┆           ┆   ┆           ┆ xa8\\x0a\"  ┆           ┆          │\n",
       "│ 2024-03-2 ┆ 2024-03-2 ┆ null      ┆ 2024-03-2 ┆ … ┆ [17]      ┆ b\"Y'\\x935 ┆ https://w ┆ 96375175 │\n",
       "│ 4 07:19:4 ┆ 4 07:19:4 ┆           ┆ 4         ┆   ┆           ┆ \\xa4{\\x85 ┆ arpcast.c ┆ 3        │\n",
       "│ 8.723145  ┆ 8.723145  ┆           ┆ 07:19:49  ┆   ┆           ┆ y\\xb9Z\\xe ┆ om/~/chan ┆          │\n",
       "│           ┆           ┆           ┆           ┆   ┆           ┆ 69\\x1d!Y\\ ┆ nel/toka  ┆          │\n",
       "│           ┆           ┆           ┆           ┆   ┆           ┆ x84\\x95!\\ ┆           ┆          │\n",
       "│           ┆           ┆           ┆           ┆   ┆           ┆ x1c\\xdc\"  ┆           ┆          │\n",
       "│ 2024-03-2 ┆ 2024-03-2 ┆ null      ┆ 2024-03-2 ┆ … ┆ [17]      ┆ b\":\\xa1\\x ┆ https://w ┆ 96417186 │\n",
       "│ 4 07:38:5 ┆ 4 07:38:5 ┆           ┆ 4         ┆   ┆           ┆ bc\\x08\\xb ┆ arpcast.c ┆ 8        │\n",
       "│ 7.714247  ┆ 7.714247  ┆           ┆ 07:38:58  ┆   ┆           ┆ 5k\\xabl+= ┆ om/~/chan ┆          │\n",
       "│           ┆           ┆           ┆           ┆   ┆           ┆ \\xe6{<1\\x ┆ nel/toka  ┆          │\n",
       "│           ┆           ┆           ┆           ┆   ┆           ┆ b0\\x0aZ\\x ┆           ┆          │\n",
       "│           ┆           ┆           ┆           ┆   ┆           ┆ e1r\\x0f\"  ┆           ┆          │\n",
       "│ …         ┆ …         ┆ …         ┆ …         ┆ … ┆ …         ┆ …         ┆ …         ┆ …        │\n",
       "│ 2024-10-0 ┆ 2024-10-0 ┆ null      ┆ 2024-10-0 ┆ … ┆ [17]      ┆ b\"\\xe5\\x8 ┆ https://w ┆ 58593074 │\n",
       "│ 3 16:40:0 ┆ 3 16:40:0 ┆           ┆ 3         ┆   ┆           ┆ b\\x90\\x84 ┆ arpcast.c ┆ 70       │\n",
       "│ 5.725472  ┆ 5.725472  ┆           ┆ 16:40:06  ┆   ┆           ┆ )\\xc8\\x98 ┆ om/~/chan ┆          │\n",
       "│           ┆           ┆           ┆           ┆   ┆           ┆ \\x1b\\xd1\\ ┆ nel/toka  ┆          │\n",
       "│           ┆           ┆           ┆           ┆   ┆           ┆ x80bd\\xce ┆           ┆          │\n",
       "│           ┆           ┆           ┆           ┆   ┆           ┆ Y\\xb6\\xb0 ┆           ┆          │\n",
       "│           ┆           ┆           ┆           ┆   ┆           ┆ \\xf3\\x05} ┆           ┆          │\n",
       "│           ┆           ┆           ┆           ┆   ┆           ┆ \\xda\"     ┆           ┆          │\n",
       "│ 2024-10-0 ┆ 2024-10-0 ┆ null      ┆ 2024-10-0 ┆ … ┆ [17]      ┆ b\"\\xed=\\x ┆ https://w ┆ 58593081 │\n",
       "│ 3 16:41:3 ┆ 3 16:41:3 ┆           ┆ 3         ┆   ┆           ┆ 85\\x89\\xe ┆ arpcast.c ┆ 58       │\n",
       "│ 4.950593  ┆ 4.950593  ┆           ┆ 16:41:35  ┆   ┆           ┆ b\\x89\\xe8 ┆ om/~/chan ┆          │\n",
       "│           ┆           ┆           ┆           ┆   ┆           ┆ *\\x1d\\xa6 ┆ nel/toka  ┆          │\n",
       "│           ┆           ┆           ┆           ┆   ┆           ┆ P\\x83\\xe6 ┆           ┆          │\n",
       "│           ┆           ┆           ┆           ┆   ┆           ┆ [\\xc9\\x1a ┆           ┆          │\n",
       "│           ┆           ┆           ┆           ┆   ┆           ┆ f\\x87IA\"  ┆           ┆          │\n",
       "│ 2024-10-0 ┆ 2024-10-0 ┆ null      ┆ 2024-10-0 ┆ … ┆ []        ┆ b\"\\xf6v\\x ┆ https://w ┆ 58593089 │\n",
       "│ 3 16:43:2 ┆ 3 16:43:2 ┆           ┆ 3         ┆   ┆           ┆ a7\\x12\\xc ┆ arpcast.c ┆ 27       │\n",
       "│ 0.408571  ┆ 0.408571  ┆           ┆ 16:43:20  ┆   ┆           ┆ b\\x1d\\xcb ┆ om/~/chan ┆          │\n",
       "│           ┆           ┆           ┆           ┆   ┆           ┆ \\xa0\\xf4\\ ┆ nel/toka  ┆          │\n",
       "│           ┆           ┆           ┆           ┆   ┆           ┆ xbfm\\xd5\\ ┆           ┆          │\n",
       "│           ┆           ┆           ┆           ┆   ┆           ┆ xc2\\x0a|\\ ┆           ┆          │\n",
       "│           ┆           ┆           ┆           ┆   ┆           ┆ xb6ni\\xa8 ┆           ┆          │\n",
       "│           ┆           ┆           ┆           ┆   ┆           ┆ o\"        ┆           ┆          │\n",
       "│ 2024-10-0 ┆ 2024-10-0 ┆ null      ┆ 2024-10-0 ┆ … ┆ [17]      ┆ b\"\\x1ar\\x ┆ https://w ┆ 58593145 │\n",
       "│ 3 16:55:2 ┆ 3 16:55:2 ┆           ┆ 3         ┆   ┆           ┆ b7*\\x1f\\x ┆ arpcast.c ┆ 22       │\n",
       "│ 2.416695  ┆ 2.416695  ┆           ┆ 16:55:22  ┆   ┆           ┆ 1d\\xab\\xa ┆ om/~/chan ┆          │\n",
       "│           ┆           ┆           ┆           ┆   ┆           ┆ 3\\x0c\\xc9 ┆ nel/toka  ┆          │\n",
       "│           ┆           ┆           ┆           ┆   ┆           ┆ G\\x00\\xed ┆           ┆          │\n",
       "│           ┆           ┆           ┆           ┆   ┆           ┆ _\\xccV\\xa ┆           ┆          │\n",
       "│           ┆           ┆           ┆           ┆   ┆           ┆ 7\\xa4\\xad ┆           ┆          │\n",
       "│           ┆           ┆           ┆           ┆   ┆           ┆ \\x88\"     ┆           ┆          │\n",
       "│ 2024-10-0 ┆ 2024-10-0 ┆ null      ┆ 2024-10-0 ┆ … ┆ [17]      ┆ b\"\\x9aW[\\ ┆ https://w ┆ 58593152 │\n",
       "│ 3 16:56:5 ┆ 3 16:56:5 ┆           ┆ 3         ┆   ┆           ┆ x0cM\\x0c} ┆ arpcast.c ┆ 66       │\n",
       "│ 7.176093  ┆ 7.176093  ┆           ┆ 16:56:57  ┆   ┆           ┆ \\x8c\\x9f` ┆ om/~/chan ┆          │\n",
       "│           ┆           ┆           ┆           ┆   ┆           ┆ \\x99.\\xba ┆ nel/toka  ┆          │\n",
       "│           ┆           ┆           ┆           ┆   ┆           ┆ /\\x83<}~V ┆           ┆          │\n",
       "│           ┆           ┆           ┆           ┆   ┆           ┆ \\x18\"     ┆           ┆          │\n",
       "└───────────┴───────────┴───────────┴───────────┴───┴───────────┴───────────┴───────────┴──────────┘"
      ]
     },
     "execution_count": 20,
     "metadata": {},
     "output_type": "execute_result"
    }
   ],
   "source": [
    "# result.filter(~pl.col(\"root_parent_url\").str.contains(\"https://warpcast.com/~/channel\"))"
   ]
  },
  {
   "cell_type": "code",
   "execution_count": 11,
   "id": "72fed7a2-044a-43a9-91e3-3378ce099ed0",
   "metadata": {},
   "outputs": [
    {
     "data": {
      "text/plain": [
       "'ed3d8589eb89e82a1da65083e65bc91a66874941'"
      ]
     },
     "execution_count": 11,
     "metadata": {},
     "output_type": "execute_result"
    }
   ],
   "source": [
    "# b\"\\xed=\\x85\\x89\\xeb\\x89\\xe8*\\x1d\\xa6P\\x83\\xe6[\\xc9\\x1af\\x87IA\"\t.hex()"
   ]
  },
  {
   "cell_type": "code",
   "execution_count": 23,
   "id": "16a42749-53f9-4fa6-9356-4e21fe891e8b",
   "metadata": {},
   "outputs": [],
   "source": [
    "df_filtered = links_df.filter(\n",
    "            (pl.col(\"deleted_at\").is_null()) & \n",
    "            (pl.col(\"fid\") != pl.col(\"target_fid\")) & \n",
    "            (pl.col(\"type\") == \"follow\")\n",
    "        ).select([\n",
    "            \"fid\", \"target_fid\"\n",
    "        ])"
   ]
  },
  {
   "cell_type": "code",
   "execution_count": 24,
   "id": "8faa6a7b-4f8a-4219-acb3-3648acc213f2",
   "metadata": {},
   "outputs": [
    {
     "ename": "KeyboardInterrupt",
     "evalue": "",
     "output_type": "error",
     "traceback": [
      "\u001b[0;31m---------------------------------------------------------------------------\u001b[0m",
      "\u001b[0;31mKeyboardInterrupt\u001b[0m                         Traceback (most recent call last)",
      "Cell \u001b[0;32mIn[24], line 1\u001b[0m\n\u001b[0;32m----> 1\u001b[0m mutual_links \u001b[38;5;241m=\u001b[39m \u001b[43mdf_filtered\u001b[49m\u001b[38;5;241;43m.\u001b[39;49m\u001b[43mjoin\u001b[49m\u001b[43m(\u001b[49m\n\u001b[1;32m      2\u001b[0m \u001b[43m    \u001b[49m\u001b[43mdf_filtered\u001b[49m\u001b[43m,\u001b[49m\n\u001b[1;32m      3\u001b[0m \u001b[43m    \u001b[49m\u001b[43mleft_on\u001b[49m\u001b[38;5;241;43m=\u001b[39;49m\u001b[43m[\u001b[49m\u001b[38;5;124;43m\"\u001b[39;49m\u001b[38;5;124;43mfid\u001b[39;49m\u001b[38;5;124;43m\"\u001b[39;49m\u001b[43m,\u001b[49m\u001b[43m \u001b[49m\u001b[38;5;124;43m\"\u001b[39;49m\u001b[38;5;124;43mtarget_fid\u001b[39;49m\u001b[38;5;124;43m\"\u001b[39;49m\u001b[43m]\u001b[49m\u001b[43m,\u001b[49m\n\u001b[1;32m      4\u001b[0m \u001b[43m    \u001b[49m\u001b[43mright_on\u001b[49m\u001b[38;5;241;43m=\u001b[39;49m\u001b[43m[\u001b[49m\u001b[38;5;124;43m\"\u001b[39;49m\u001b[38;5;124;43mtarget_fid\u001b[39;49m\u001b[38;5;124;43m\"\u001b[39;49m\u001b[43m,\u001b[49m\u001b[43m \u001b[49m\u001b[38;5;124;43m\"\u001b[39;49m\u001b[38;5;124;43mfid\u001b[39;49m\u001b[38;5;124;43m\"\u001b[39;49m\u001b[43m]\u001b[49m\u001b[43m,\u001b[49m\n\u001b[1;32m      5\u001b[0m \u001b[43m    \u001b[49m\u001b[43msuffix\u001b[49m\u001b[38;5;241;43m=\u001b[39;49m\u001b[38;5;124;43m\"\u001b[39;49m\u001b[38;5;124;43m_reverse\u001b[39;49m\u001b[38;5;124;43m\"\u001b[39;49m\n\u001b[1;32m      6\u001b[0m \u001b[43m)\u001b[49m\n",
      "File \u001b[0;32m~/.asdf/installs/python/3.10.5/lib/python3.10/site-packages/polars/dataframe/frame.py:7125\u001b[0m, in \u001b[0;36mDataFrame.join\u001b[0;34m(self, other, on, how, left_on, right_on, suffix, validate, join_nulls, coalesce)\u001b[0m\n\u001b[1;32m   7121\u001b[0m     msg \u001b[38;5;241m=\u001b[39m \u001b[38;5;124mf\u001b[39m\u001b[38;5;124m\"\u001b[39m\u001b[38;5;124mexpected `other` join table to be a DataFrame, got \u001b[39m\u001b[38;5;132;01m{\u001b[39;00m\u001b[38;5;28mtype\u001b[39m(other)\u001b[38;5;241m.\u001b[39m\u001b[38;5;18m__name__\u001b[39m\u001b[38;5;132;01m!r}\u001b[39;00m\u001b[38;5;124m\"\u001b[39m\n\u001b[1;32m   7122\u001b[0m     \u001b[38;5;28;01mraise\u001b[39;00m \u001b[38;5;167;01mTypeError\u001b[39;00m(msg)\n\u001b[1;32m   7124\u001b[0m \u001b[38;5;28;01mreturn\u001b[39;00m (\n\u001b[0;32m-> 7125\u001b[0m     \u001b[38;5;28;43mself\u001b[39;49m\u001b[38;5;241;43m.\u001b[39;49m\u001b[43mlazy\u001b[49m\u001b[43m(\u001b[49m\u001b[43m)\u001b[49m\n\u001b[1;32m   7126\u001b[0m \u001b[43m    \u001b[49m\u001b[38;5;241;43m.\u001b[39;49m\u001b[43mjoin\u001b[49m\u001b[43m(\u001b[49m\n\u001b[1;32m   7127\u001b[0m \u001b[43m        \u001b[49m\u001b[43mother\u001b[49m\u001b[38;5;241;43m=\u001b[39;49m\u001b[43mother\u001b[49m\u001b[38;5;241;43m.\u001b[39;49m\u001b[43mlazy\u001b[49m\u001b[43m(\u001b[49m\u001b[43m)\u001b[49m\u001b[43m,\u001b[49m\n\u001b[1;32m   7128\u001b[0m \u001b[43m        \u001b[49m\u001b[43mleft_on\u001b[49m\u001b[38;5;241;43m=\u001b[39;49m\u001b[43mleft_on\u001b[49m\u001b[43m,\u001b[49m\n\u001b[1;32m   7129\u001b[0m \u001b[43m        \u001b[49m\u001b[43mright_on\u001b[49m\u001b[38;5;241;43m=\u001b[39;49m\u001b[43mright_on\u001b[49m\u001b[43m,\u001b[49m\n\u001b[1;32m   7130\u001b[0m \u001b[43m        \u001b[49m\u001b[43mon\u001b[49m\u001b[38;5;241;43m=\u001b[39;49m\u001b[43mon\u001b[49m\u001b[43m,\u001b[49m\n\u001b[1;32m   7131\u001b[0m \u001b[43m        \u001b[49m\u001b[43mhow\u001b[49m\u001b[38;5;241;43m=\u001b[39;49m\u001b[43mhow\u001b[49m\u001b[43m,\u001b[49m\n\u001b[1;32m   7132\u001b[0m \u001b[43m        \u001b[49m\u001b[43msuffix\u001b[49m\u001b[38;5;241;43m=\u001b[39;49m\u001b[43msuffix\u001b[49m\u001b[43m,\u001b[49m\n\u001b[1;32m   7133\u001b[0m \u001b[43m        \u001b[49m\u001b[43mvalidate\u001b[49m\u001b[38;5;241;43m=\u001b[39;49m\u001b[43mvalidate\u001b[49m\u001b[43m,\u001b[49m\n\u001b[1;32m   7134\u001b[0m \u001b[43m        \u001b[49m\u001b[43mjoin_nulls\u001b[49m\u001b[38;5;241;43m=\u001b[39;49m\u001b[43mjoin_nulls\u001b[49m\u001b[43m,\u001b[49m\n\u001b[1;32m   7135\u001b[0m \u001b[43m        \u001b[49m\u001b[43mcoalesce\u001b[49m\u001b[38;5;241;43m=\u001b[39;49m\u001b[43mcoalesce\u001b[49m\u001b[43m,\u001b[49m\n\u001b[1;32m   7136\u001b[0m \u001b[43m    \u001b[49m\u001b[43m)\u001b[49m\n\u001b[1;32m   7137\u001b[0m \u001b[43m    \u001b[49m\u001b[38;5;241;43m.\u001b[39;49m\u001b[43mcollect\u001b[49m\u001b[43m(\u001b[49m\u001b[43m_eager\u001b[49m\u001b[38;5;241;43m=\u001b[39;49m\u001b[38;5;28;43;01mTrue\u001b[39;49;00m\u001b[43m)\u001b[49m\n\u001b[1;32m   7138\u001b[0m )\n",
      "File \u001b[0;32m~/.asdf/installs/python/3.10.5/lib/python3.10/site-packages/polars/lazyframe/frame.py:2050\u001b[0m, in \u001b[0;36mLazyFrame.collect\u001b[0;34m(self, type_coercion, predicate_pushdown, projection_pushdown, simplify_expression, slice_pushdown, comm_subplan_elim, comm_subexpr_elim, cluster_with_columns, collapse_joins, no_optimization, streaming, engine, background, _eager, **_kwargs)\u001b[0m\n\u001b[1;32m   2048\u001b[0m \u001b[38;5;66;03m# Only for testing purposes\u001b[39;00m\n\u001b[1;32m   2049\u001b[0m callback \u001b[38;5;241m=\u001b[39m _kwargs\u001b[38;5;241m.\u001b[39mget(\u001b[38;5;124m\"\u001b[39m\u001b[38;5;124mpost_opt_callback\u001b[39m\u001b[38;5;124m\"\u001b[39m, callback)\n\u001b[0;32m-> 2050\u001b[0m \u001b[38;5;28;01mreturn\u001b[39;00m wrap_df(\u001b[43mldf\u001b[49m\u001b[38;5;241;43m.\u001b[39;49m\u001b[43mcollect\u001b[49m\u001b[43m(\u001b[49m\u001b[43mcallback\u001b[49m\u001b[43m)\u001b[49m)\n",
      "\u001b[0;31mKeyboardInterrupt\u001b[0m: "
     ]
    }
   ],
   "source": [
    "mutual_links = df_filtered.join(\n",
    "    df_filtered,\n",
    "    left_on=[\"fid\", \"target_fid\"],\n",
    "    right_on=[\"target_fid\", \"fid\"],\n",
    "    suffix=\"_reverse\"\n",
    ")"
   ]
  },
  {
   "cell_type": "code",
   "execution_count": 25,
   "id": "25e77f65-355a-41b9-8eb7-53cd2e9ebce1",
   "metadata": {},
   "outputs": [
    {
     "ename": "ComputeError",
     "evalue": "cannot cast numeric types to 'Categorical'",
     "output_type": "error",
     "traceback": [
      "\u001b[0;31m---------------------------------------------------------------------------\u001b[0m",
      "\u001b[0;31mComputeError\u001b[0m                              Traceback (most recent call last)",
      "Cell \u001b[0;32mIn[25], line 1\u001b[0m\n\u001b[0;32m----> 1\u001b[0m df_filtered \u001b[38;5;241m=\u001b[39m \u001b[43mdf_filtered\u001b[49m\u001b[38;5;241;43m.\u001b[39;49m\u001b[43mwith_columns\u001b[49m\u001b[43m(\u001b[49m\u001b[43m[\u001b[49m\n\u001b[1;32m      2\u001b[0m \u001b[43m        \u001b[49m\u001b[43mpl\u001b[49m\u001b[38;5;241;43m.\u001b[39;49m\u001b[43mcol\u001b[49m\u001b[43m(\u001b[49m\u001b[38;5;124;43m\"\u001b[39;49m\u001b[38;5;124;43mfid\u001b[39;49m\u001b[38;5;124;43m\"\u001b[39;49m\u001b[43m)\u001b[49m\u001b[38;5;241;43m.\u001b[39;49m\u001b[43mcast\u001b[49m\u001b[43m(\u001b[49m\u001b[43mpl\u001b[49m\u001b[38;5;241;43m.\u001b[39;49m\u001b[43mCategorical\u001b[49m\u001b[43m)\u001b[49m\u001b[43m,\u001b[49m\n\u001b[1;32m      3\u001b[0m \u001b[43m        \u001b[49m\u001b[43mpl\u001b[49m\u001b[38;5;241;43m.\u001b[39;49m\u001b[43mcol\u001b[49m\u001b[43m(\u001b[49m\u001b[38;5;124;43m\"\u001b[39;49m\u001b[38;5;124;43mtarget_fid\u001b[39;49m\u001b[38;5;124;43m\"\u001b[39;49m\u001b[43m)\u001b[49m\u001b[38;5;241;43m.\u001b[39;49m\u001b[43mcast\u001b[49m\u001b[43m(\u001b[49m\u001b[43mpl\u001b[49m\u001b[38;5;241;43m.\u001b[39;49m\u001b[43mCategorical\u001b[49m\u001b[43m)\u001b[49m\n\u001b[1;32m      4\u001b[0m \u001b[43m    \u001b[49m\u001b[43m]\u001b[49m\u001b[43m)\u001b[49m\n",
      "File \u001b[0;32m~/.asdf/installs/python/3.10.5/lib/python3.10/site-packages/polars/dataframe/frame.py:9183\u001b[0m, in \u001b[0;36mDataFrame.with_columns\u001b[0;34m(self, *exprs, **named_exprs)\u001b[0m\n\u001b[1;32m   9037\u001b[0m \u001b[38;5;28;01mdef\u001b[39;00m \u001b[38;5;21mwith_columns\u001b[39m(\n\u001b[1;32m   9038\u001b[0m     \u001b[38;5;28mself\u001b[39m,\n\u001b[1;32m   9039\u001b[0m     \u001b[38;5;241m*\u001b[39mexprs: IntoExpr \u001b[38;5;241m|\u001b[39m Iterable[IntoExpr],\n\u001b[1;32m   9040\u001b[0m     \u001b[38;5;241m*\u001b[39m\u001b[38;5;241m*\u001b[39mnamed_exprs: IntoExpr,\n\u001b[1;32m   9041\u001b[0m ) \u001b[38;5;241m-\u001b[39m\u001b[38;5;241m>\u001b[39m DataFrame:\n\u001b[1;32m   9042\u001b[0m \u001b[38;5;250m    \u001b[39m\u001b[38;5;124;03m\"\"\"\u001b[39;00m\n\u001b[1;32m   9043\u001b[0m \u001b[38;5;124;03m    Add columns to this DataFrame.\u001b[39;00m\n\u001b[1;32m   9044\u001b[0m \n\u001b[0;32m   (...)\u001b[0m\n\u001b[1;32m   9181\u001b[0m \u001b[38;5;124;03m    └─────┴──────┴─────────────┘\u001b[39;00m\n\u001b[1;32m   9182\u001b[0m \u001b[38;5;124;03m    \"\"\"\u001b[39;00m\n\u001b[0;32m-> 9183\u001b[0m     \u001b[38;5;28;01mreturn\u001b[39;00m \u001b[38;5;28;43mself\u001b[39;49m\u001b[38;5;241;43m.\u001b[39;49m\u001b[43mlazy\u001b[49m\u001b[43m(\u001b[49m\u001b[43m)\u001b[49m\u001b[38;5;241;43m.\u001b[39;49m\u001b[43mwith_columns\u001b[49m\u001b[43m(\u001b[49m\u001b[38;5;241;43m*\u001b[39;49m\u001b[43mexprs\u001b[49m\u001b[43m,\u001b[49m\u001b[43m \u001b[49m\u001b[38;5;241;43m*\u001b[39;49m\u001b[38;5;241;43m*\u001b[39;49m\u001b[43mnamed_exprs\u001b[49m\u001b[43m)\u001b[49m\u001b[38;5;241;43m.\u001b[39;49m\u001b[43mcollect\u001b[49m\u001b[43m(\u001b[49m\u001b[43m_eager\u001b[49m\u001b[38;5;241;43m=\u001b[39;49m\u001b[38;5;28;43;01mTrue\u001b[39;49;00m\u001b[43m)\u001b[49m\n",
      "File \u001b[0;32m~/.asdf/installs/python/3.10.5/lib/python3.10/site-packages/polars/lazyframe/frame.py:2050\u001b[0m, in \u001b[0;36mLazyFrame.collect\u001b[0;34m(self, type_coercion, predicate_pushdown, projection_pushdown, simplify_expression, slice_pushdown, comm_subplan_elim, comm_subexpr_elim, cluster_with_columns, collapse_joins, no_optimization, streaming, engine, background, _eager, **_kwargs)\u001b[0m\n\u001b[1;32m   2048\u001b[0m \u001b[38;5;66;03m# Only for testing purposes\u001b[39;00m\n\u001b[1;32m   2049\u001b[0m callback \u001b[38;5;241m=\u001b[39m _kwargs\u001b[38;5;241m.\u001b[39mget(\u001b[38;5;124m\"\u001b[39m\u001b[38;5;124mpost_opt_callback\u001b[39m\u001b[38;5;124m\"\u001b[39m, callback)\n\u001b[0;32m-> 2050\u001b[0m \u001b[38;5;28;01mreturn\u001b[39;00m wrap_df(\u001b[43mldf\u001b[49m\u001b[38;5;241;43m.\u001b[39;49m\u001b[43mcollect\u001b[49m\u001b[43m(\u001b[49m\u001b[43mcallback\u001b[49m\u001b[43m)\u001b[49m)\n",
      "\u001b[0;31mComputeError\u001b[0m: cannot cast numeric types to 'Categorical'"
     ]
    }
   ],
   "source": [
    "df_filtered = df_filtered.with_columns([\n",
    "        pl.col(\"fid\").cast(pl.Categorical),\n",
    "        pl.col(\"target_fid\").cast(pl.Categorical)\n",
    "    ])"
   ]
  },
  {
   "cell_type": "code",
   "execution_count": null,
   "id": "2bea6e9e-3257-4372-b164-1399c3b702ef",
   "metadata": {},
   "outputs": [],
   "source": [
    "mutual_links = df_filtered.join(\n",
    "        df_filtered,\n",
    "        left_on=[\"fid\", \"target_fid\"],\n",
    "        right_on=[\"target_fid\", \"fid\"],\n",
    "        suffix=\"_reverse\",\n",
    "    )"
   ]
  },
  {
   "cell_type": "code",
   "execution_count": null,
   "id": "9ffd0cb0-d120-4227-ae65-5084f33025fe",
   "metadata": {},
   "outputs": [],
   "source": []
  }
 ],
 "metadata": {
  "kernelspec": {
   "display_name": "farcaster-kernel",
   "language": "python",
   "name": "farcaster-kernel"
  },
  "language_info": {
   "codemirror_mode": {
    "name": "ipython",
    "version": 3
   },
   "file_extension": ".py",
   "mimetype": "text/x-python",
   "name": "python",
   "nbconvert_exporter": "python",
   "pygments_lexer": "ipython3",
   "version": "3.13.0"
  }
 },
 "nbformat": 4,
 "nbformat_minor": 5
}
