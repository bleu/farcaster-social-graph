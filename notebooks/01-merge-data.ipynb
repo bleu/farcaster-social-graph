{
 "cells": [
  {
   "cell_type": "code",
   "execution_count": 1,
   "id": "78579bec-0395-47c0-b598-efa97c1c904b",
   "metadata": {},
   "outputs": [
    {
     "data": {
      "text/plain": [
       "polars.config.Config"
      ]
     },
     "execution_count": 1,
     "metadata": {},
     "output_type": "execute_result"
    }
   ],
   "source": [
    "# !pip install polars\n",
    "import polars as pl\n",
    "import os\n",
    "pl.Config.set_fmt_str_lengths(400)"
   ]
  },
  {
   "cell_type": "code",
   "execution_count": 2,
   "id": "a7d6117d-ae07-41e3-bfe4-f8cce6cd7f8d",
   "metadata": {},
   "outputs": [],
   "source": [
    "DATA_PATH = os.getenv(\"DATA_PATH\", \"\")"
   ]
  },
  {
   "cell_type": "code",
   "execution_count": 5,
   "id": "12ad417d-9dcd-46c9-b409-6e30ead9d3fe",
   "metadata": {},
   "outputs": [],
   "source": [
    "fids_df = pl.read_parquet(f\"{DATA_PATH}/raw/farcaster-fids-0-1730134800.parquet\")"
   ]
  },
  {
   "cell_type": "code",
   "execution_count": 19,
   "id": "a8afee62-957a-4939-be87-3e6fd63c26d5",
   "metadata": {},
   "outputs": [],
   "source": [
    "# profiles_df = pl.read_parquet(f\"{DATA_PATH}/raw/farcaster-fids-0-1730134800.parquet\")farcaster-fids-0-1727974800"
   ]
  },
  {
   "cell_type": "code",
   "execution_count": 6,
   "id": "8793094e-4733-413e-83e5-de5eb0f9d6f9",
   "metadata": {},
   "outputs": [],
   "source": [
    "links_df = pl.read_parquet(f\"{DATA_PATH}/raw/farcaster-links-0-1730134800.parquet\")"
   ]
  },
  {
   "cell_type": "code",
   "execution_count": 7,
   "id": "d5daf0a3-df3f-4889-888b-e7498905c8e0",
   "metadata": {},
   "outputs": [],
   "source": [
    "reactions_lazy_df = pl.scan_parquet(f\"{DATA_PATH}/raw/farcaster-reactions-0-1730134800.parquet\")"
   ]
  },
  {
   "cell_type": "code",
   "execution_count": 8,
   "id": "d177a47c-c375-453b-97ad-283866083b81",
   "metadata": {},
   "outputs": [],
   "source": [
    "verifications_df = pl.read_parquet(f\"{DATA_PATH}/raw/farcaster-verifications-0-1730134800.parquet\")"
   ]
  },
  {
   "cell_type": "code",
   "execution_count": 9,
   "id": "34ee43a3-f0e4-412e-b486-15a318baadc7",
   "metadata": {},
   "outputs": [],
   "source": [
    "# Verifications count per fid\n",
    "verifications_count_df = (\n",
    "    verifications_df\n",
    "    .group_by(\"fid\")\n",
    "    .agg(pl.count(\"id\").alias(\"verifications_count\"))\n",
    ")"
   ]
  },
  {
   "cell_type": "code",
   "execution_count": 10,
   "id": "8a6ce470-64e9-4ff3-9971-af40ee7d4b5b",
   "metadata": {},
   "outputs": [],
   "source": [
    "# Likes count and recasts count per fid\n",
    "reactions_count_lazy = (\n",
    "    reactions_lazy_df\n",
    "    .filter(pl.col(\"deleted_at\").is_null())  # Filter out deleted reactions\n",
    "    .group_by([\"fid\", \"reaction_type\"])\n",
    "    .agg(pl.count(\"id\").alias(\"count\"))\n",
    ")"
   ]
  },
  {
   "cell_type": "code",
   "execution_count": 11,
   "id": "88e5a146-4159-4f57-8fd2-972e8f65d6a7",
   "metadata": {},
   "outputs": [],
   "source": [
    "reactions_count_df = reactions_count_lazy.collect()"
   ]
  },
  {
   "cell_type": "code",
   "execution_count": 16,
   "id": "eb7af185-1c4b-4bb9-9986-bfb8c125cce5",
   "metadata": {},
   "outputs": [],
   "source": [
    "reactions_pivot_df = (\n",
    "    reactions_count_df\n",
    "    .pivot(\n",
    "        values=\"count\",\n",
    "        index=\"fid\",\n",
    "        columns=\"reaction_type\",\n",
    "        aggregate_function=\"first\"\n",
    "    )\n",
    "    .rename({\"1\": \"likes_count\", \"2\": \"recasts_count\"})\n",
    "    .fill_null(0)\n",
    ")"
   ]
  },
  {
   "cell_type": "code",
   "execution_count": 12,
   "id": "e004bb9a-bfbb-447c-9c8a-333c08140e24",
   "metadata": {},
   "outputs": [],
   "source": [
    "following_count_df = (\n",
    "    links_df\n",
    "    .filter((pl.col(\"type\") == \"follow\") & (pl.col(\"deleted_at\").is_null()))\n",
    "    .group_by(\"fid\")\n",
    "    .agg(pl.count(\"id\").alias(\"following_count\"))\n",
    ")"
   ]
  },
  {
   "cell_type": "code",
   "execution_count": 13,
   "id": "5d225f01-9e7a-460a-8e91-d66a2714ff29",
   "metadata": {},
   "outputs": [],
   "source": [
    "# Followers count (number of users following the fid)\n",
    "followers_count_df = (\n",
    "    links_df\n",
    "    .filter((pl.col(\"type\") == \"follow\") & (pl.col(\"deleted_at\").is_null()))\n",
    "    .group_by(\"target_fid\")\n",
    "    .agg(pl.count(\"id\").alias(\"followers_count\"))\n",
    "    .rename({\"target_fid\": \"fid\"})\n",
    ")"
   ]
  },
  {
   "cell_type": "code",
   "execution_count": 17,
   "id": "d765e9a0-3085-4353-8682-cb12b61fa22b",
   "metadata": {},
   "outputs": [
    {
     "name": "stderr",
     "output_type": "stream",
     "text": [
      "/var/folders/k2/v9m0s0cn02j1r54h8qh_tf200000gn/T/ipykernel_85078/827695933.py:1: DeprecationWarning: The default coalesce behavior of left join will change to `False` in the next breaking release. Pass `coalesce=True` to keep the current behavior and silence this warning.\n",
      "  result_df = fids_df.join(verifications_count_df, on=\"fid\", how=\"left\")\n",
      "/var/folders/k2/v9m0s0cn02j1r54h8qh_tf200000gn/T/ipykernel_85078/827695933.py:2: DeprecationWarning: The default coalesce behavior of left join will change to `False` in the next breaking release. Pass `coalesce=True` to keep the current behavior and silence this warning.\n",
      "  result_df = result_df.join(following_count_df, on=\"fid\", how=\"left\")\n",
      "/var/folders/k2/v9m0s0cn02j1r54h8qh_tf200000gn/T/ipykernel_85078/827695933.py:3: DeprecationWarning: The default coalesce behavior of left join will change to `False` in the next breaking release. Pass `coalesce=True` to keep the current behavior and silence this warning.\n",
      "  result_df = result_df.join(followers_count_df, on=\"fid\", how=\"left\")\n",
      "/var/folders/k2/v9m0s0cn02j1r54h8qh_tf200000gn/T/ipykernel_85078/827695933.py:4: DeprecationWarning: The default coalesce behavior of left join will change to `False` in the next breaking release. Pass `coalesce=True` to keep the current behavior and silence this warning.\n",
      "  result_df = result_df.join(reactions_pivot_df, on=\"fid\", how=\"left\")\n"
     ]
    }
   ],
   "source": [
    "result_df = fids_df.join(verifications_count_df, on=\"fid\", how=\"left\")\n",
    "result_df = result_df.join(following_count_df, on=\"fid\", how=\"left\")\n",
    "result_df = result_df.join(followers_count_df, on=\"fid\", how=\"left\")\n",
    "result_df = result_df.join(reactions_pivot_df, on=\"fid\", how=\"left\")\n",
    "result_df = result_df.fill_null(0)"
   ]
  },
  {
   "cell_type": "code",
   "execution_count": 18,
   "id": "919b1497-1b3d-4891-bb1a-da65bddc86e6",
   "metadata": {},
   "outputs": [],
   "source": [
    "result_df.write_parquet(f\"{DATA_PATH}/interim/aggregated_links_statistics.parquet\")"
   ]
  },
  {
   "cell_type": "code",
   "execution_count": 19,
   "id": "b5845a20-e42f-4354-ab1a-1d89e8b542ca",
   "metadata": {},
   "outputs": [],
   "source": [
    "import psutil\n",
    "import os\n",
    "\n",
    "# Function to print the current memory usage\n",
    "def print_memory_usage():\n",
    "    process = psutil.Process(os.getpid())\n",
    "    memory = process.memory_info().rss / (1024 * 1024)  # Convert to MB\n",
    "    print(f\"Memory Usage: {memory:.2f} MB\")"
   ]
  },
  {
   "cell_type": "code",
   "execution_count": 20,
   "id": "bc875a7d-55de-4b87-8165-32cbb8d712de",
   "metadata": {},
   "outputs": [
    {
     "name": "stdout",
     "output_type": "stream",
     "text": [
      "Memory Usage: 3014.19 MB\n"
     ]
    }
   ],
   "source": [
    "print_memory_usage()"
   ]
  },
  {
   "cell_type": "code",
   "execution_count": 21,
   "id": "cbc6a020-df0d-4e3b-9820-89bccb893a9f",
   "metadata": {},
   "outputs": [
    {
     "data": {
      "text/html": [
       "<div><style>\n",
       ".dataframe > thead > tr,\n",
       ".dataframe > tbody > tr {\n",
       "  text-align: right;\n",
       "  white-space: pre-wrap;\n",
       "}\n",
       "</style>\n",
       "<small>shape: (10, 10)</small><table border=\"1\" class=\"dataframe\"><thead><tr><th>created_at</th><th>updated_at</th><th>custody_address</th><th>registered_at</th><th>fid</th><th>verifications_count</th><th>following_count</th><th>followers_count</th><th>likes_count</th><th>recasts_count</th></tr><tr><td>datetime[ns]</td><td>datetime[ns]</td><td>binary</td><td>datetime[ns, UTC]</td><td>i64</td><td>i64</td><td>i64</td><td>i64</td><td>i64</td><td>i64</td></tr></thead><tbody><tr><td>2023-10-13 15:46:47.027210</td><td>2024-06-07 18:06:03.493</td><td>b&quot;\\x1b&amp;\\xba\\xe7\\xce\\x93\\xe7\\xe4\\xed\\x0d\\xae\\xc8\\x0avK\\xc5\\xbd\\x9eg\\x0f&quot;</td><td>2023-11-07 20:55:21 UTC</td><td>75610</td><td>0</td><td>0</td><td>0</td><td>0</td><td>0</td></tr><tr><td>2023-10-13 18:39:08.710805</td><td>2024-06-07 18:16:20.200</td><td>b&quot;\\xfc2&lt;2\\x13z\\xde/\\x80z\\x99\\x155(K\\xd3\\xaf\\xbf\\x92\\xdd&quot;</td><td>2023-11-07 21:53:27 UTC</td><td>180076</td><td>0</td><td>0</td><td>0</td><td>0</td><td>0</td></tr><tr><td>2024-02-06 18:19:19.577041</td><td>2024-06-07 23:14:59.387</td><td>b&quot;\\xc6\\xda\\xe4\\xc8\\x86\\x18\\xa7f\\xdcy\\x8fq\\xab\\xd2\\xb2A\\xd9&lt;s@&quot;</td><td>2024-02-06 18:19:05 UTC</td><td>309891</td><td>1</td><td>77</td><td>9</td><td>8</td><td>8</td></tr><tr><td>2024-02-18 07:23:23.553758</td><td>2024-06-08 01:23:31.512</td><td>b&quot;\\xee\\xfa\\xb1\\xb4M\\xcfO\\x9a\\x00\\x98.\\x923s+$d\\xbf\\xbd}&quot;</td><td>2024-02-18 07:23:15 UTC</td><td>356855</td><td>0</td><td>1</td><td>1</td><td>1</td><td>0</td></tr><tr><td>2024-08-06 11:47:53.282542</td><td>2024-08-06 11:47:53.282542</td><td>b&quot;Rc\\x92p/\\x17\\x1cT]\\x93\\xbeP\\xf0\\xdd\\x98\\xffr\\x0a\\x19c&quot;</td><td>2024-08-06 11:47:47 UTC</td><td>819970</td><td>1</td><td>23</td><td>21</td><td>0</td><td>0</td></tr><tr><td>2024-07-04 20:02:27.386729</td><td>2024-07-04 20:02:27.386729</td><td>b&quot;\\x8al\\x1b\\x9c\\xf9\\xc6\\xf6\\xdc.=(\\xc8\\x8c=\\xf0\\x7f\\xf1\\xea\\xc6\\xfe&quot;</td><td>2024-07-04 20:02:21 UTC</td><td>762979</td><td>1</td><td>88</td><td>8</td><td>27</td><td>0</td></tr><tr><td>2024-06-11 14:11:41.386700</td><td>2024-06-11 14:11:41.386700</td><td>b&quot;\\xc7.\\xb5\\xff\\xa98\\x16\\xb2\\xfb(\\xecu\\xa7\\x8dH&gt;0ue\\xef&quot;</td><td>2024-06-11 14:11:31 UTC</td><td>659187</td><td>0</td><td>101</td><td>13</td><td>0</td><td>0</td></tr><tr><td>2024-06-16 10:17:57.440533</td><td>2024-06-16 10:28:23.771</td><td>b&quot;E\\x84h;i\\xb8\\xc1\\xedl\\x01A\\xb6\\x1f}\\xf3\\xae\\xca\\x1eX\\x07&quot;</td><td>2024-06-16 10:28:15 UTC</td><td>685802</td><td>0</td><td>0</td><td>3</td><td>0</td><td>0</td></tr><tr><td>2024-05-25 18:40:47.404723</td><td>2024-06-08 17:31:13.159</td><td>b&quot;P\\x99\\xb1\\x9d\\xd5Ci\\xbak\\xf5\\xf9\\x0doH\\xbfVr\\xcb\\x102&quot;</td><td>2024-05-25 18:40:37 UTC</td><td>575890</td><td>0</td><td>74</td><td>13</td><td>0</td><td>0</td></tr><tr><td>2024-05-18 14:17:11.230045</td><td>2024-06-08 17:04:32.430</td><td>b&quot;\\xbf\\xb9\\x80^\\x0c~e0&quot;\\x90\\xb0.\\xfb\\xd9\\xae\\xebo-)\\xd7&quot;</td><td>2024-05-18 14:17:05 UTC</td><td>543802</td><td>1</td><td>320</td><td>24</td><td>0</td><td>0</td></tr></tbody></table></div>"
      ],
      "text/plain": [
       "shape: (10, 10)\n",
       "┌───────────┬───────────┬───────────┬───────────┬───┬───────────┬───────────┬───────────┬──────────┐\n",
       "│ created_a ┆ updated_a ┆ custody_a ┆ registere ┆ … ┆ following ┆ followers ┆ likes_cou ┆ recasts_ │\n",
       "│ t         ┆ t         ┆ ddress    ┆ d_at      ┆   ┆ _count    ┆ _count    ┆ nt        ┆ count    │\n",
       "│ ---       ┆ ---       ┆ ---       ┆ ---       ┆   ┆ ---       ┆ ---       ┆ ---       ┆ ---      │\n",
       "│ datetime[ ┆ datetime[ ┆ binary    ┆ datetime[ ┆   ┆ i64       ┆ i64       ┆ i64       ┆ i64      │\n",
       "│ ns]       ┆ ns]       ┆           ┆ ns, UTC]  ┆   ┆           ┆           ┆           ┆          │\n",
       "╞═══════════╪═══════════╪═══════════╪═══════════╪═══╪═══════════╪═══════════╪═══════════╪══════════╡\n",
       "│ 2023-10-1 ┆ 2024-06-0 ┆ b\"\\x1b&\\x ┆ 2023-11-0 ┆ … ┆ 0         ┆ 0         ┆ 0         ┆ 0        │\n",
       "│ 3 15:46:4 ┆ 7 18:06:0 ┆ ba\\xe7\\xc ┆ 7         ┆   ┆           ┆           ┆           ┆          │\n",
       "│ 7.027210  ┆ 3.493     ┆ e\\x93\\xe7 ┆ 20:55:21  ┆   ┆           ┆           ┆           ┆          │\n",
       "│           ┆           ┆ \\xe4\\xed\\ ┆ UTC       ┆   ┆           ┆           ┆           ┆          │\n",
       "│           ┆           ┆ x0d\\xae\\x ┆           ┆   ┆           ┆           ┆           ┆          │\n",
       "│           ┆           ┆ c8\\x0avK\\ ┆           ┆   ┆           ┆           ┆           ┆          │\n",
       "│           ┆           ┆ xc5\\xbd\\x ┆           ┆   ┆           ┆           ┆           ┆          │\n",
       "│           ┆           ┆ 9eg\\x0f\"  ┆           ┆   ┆           ┆           ┆           ┆          │\n",
       "│ 2023-10-1 ┆ 2024-06-0 ┆ b\"\\xfc2<2 ┆ 2023-11-0 ┆ … ┆ 0         ┆ 0         ┆ 0         ┆ 0        │\n",
       "│ 3 18:39:0 ┆ 7 18:16:2 ┆ \\x13z\\xde ┆ 7         ┆   ┆           ┆           ┆           ┆          │\n",
       "│ 8.710805  ┆ 0.200     ┆ /\\x80z\\x9 ┆ 21:53:27  ┆   ┆           ┆           ┆           ┆          │\n",
       "│           ┆           ┆ 9\\x155(K\\ ┆ UTC       ┆   ┆           ┆           ┆           ┆          │\n",
       "│           ┆           ┆ xd3\\xaf\\x ┆           ┆   ┆           ┆           ┆           ┆          │\n",
       "│           ┆           ┆ bf\\x92\\xd ┆           ┆   ┆           ┆           ┆           ┆          │\n",
       "│           ┆           ┆ d\"        ┆           ┆   ┆           ┆           ┆           ┆          │\n",
       "│ 2024-02-0 ┆ 2024-06-0 ┆ b\"\\xc6\\xd ┆ 2024-02-0 ┆ … ┆ 77        ┆ 9         ┆ 8         ┆ 8        │\n",
       "│ 6 18:19:1 ┆ 7 23:14:5 ┆ a\\xe4\\xc8 ┆ 6         ┆   ┆           ┆           ┆           ┆          │\n",
       "│ 9.577041  ┆ 9.387     ┆ \\x86\\x18\\ ┆ 18:19:05  ┆   ┆           ┆           ┆           ┆          │\n",
       "│           ┆           ┆ xa7f\\xdcy ┆ UTC       ┆   ┆           ┆           ┆           ┆          │\n",
       "│           ┆           ┆ \\x8fq\\xab ┆           ┆   ┆           ┆           ┆           ┆          │\n",
       "│           ┆           ┆ \\xd2\\xb2A ┆           ┆   ┆           ┆           ┆           ┆          │\n",
       "│           ┆           ┆ \\xd9<s@\"  ┆           ┆   ┆           ┆           ┆           ┆          │\n",
       "│ 2024-02-1 ┆ 2024-06-0 ┆ b\"\\xee\\xf ┆ 2024-02-1 ┆ … ┆ 1         ┆ 1         ┆ 1         ┆ 0        │\n",
       "│ 8 07:23:2 ┆ 8 01:23:3 ┆ a\\xb1\\xb4 ┆ 8         ┆   ┆           ┆           ┆           ┆          │\n",
       "│ 3.553758  ┆ 1.512     ┆ M\\xcfO\\x9 ┆ 07:23:15  ┆   ┆           ┆           ┆           ┆          │\n",
       "│           ┆           ┆ a\\x00\\x98 ┆ UTC       ┆   ┆           ┆           ┆           ┆          │\n",
       "│           ┆           ┆ .\\x923s+$ ┆           ┆   ┆           ┆           ┆           ┆          │\n",
       "│           ┆           ┆ d\\xbf\\xbd ┆           ┆   ┆           ┆           ┆           ┆          │\n",
       "│           ┆           ┆ }\"        ┆           ┆   ┆           ┆           ┆           ┆          │\n",
       "│ 2024-08-0 ┆ 2024-08-0 ┆ b\"Rc\\x92p ┆ 2024-08-0 ┆ … ┆ 23        ┆ 21        ┆ 0         ┆ 0        │\n",
       "│ 6 11:47:5 ┆ 6 11:47:5 ┆ /\\x17\\x1c ┆ 6         ┆   ┆           ┆           ┆           ┆          │\n",
       "│ 3.282542  ┆ 3.282542  ┆ T]\\x93\\xb ┆ 11:47:47  ┆   ┆           ┆           ┆           ┆          │\n",
       "│           ┆           ┆ eP\\xf0\\xd ┆ UTC       ┆   ┆           ┆           ┆           ┆          │\n",
       "│           ┆           ┆ d\\x98\\xff ┆           ┆   ┆           ┆           ┆           ┆          │\n",
       "│           ┆           ┆ r\\x0a\\x19 ┆           ┆   ┆           ┆           ┆           ┆          │\n",
       "│           ┆           ┆ c\"        ┆           ┆   ┆           ┆           ┆           ┆          │\n",
       "│ 2024-07-0 ┆ 2024-07-0 ┆ b\"\\x8al\\x ┆ 2024-07-0 ┆ … ┆ 88        ┆ 8         ┆ 27        ┆ 0        │\n",
       "│ 4 20:02:2 ┆ 4 20:02:2 ┆ 1b\\x9c\\xf ┆ 4         ┆   ┆           ┆           ┆           ┆          │\n",
       "│ 7.386729  ┆ 7.386729  ┆ 9\\xc6\\xf6 ┆ 20:02:21  ┆   ┆           ┆           ┆           ┆          │\n",
       "│           ┆           ┆ \\xdc.=(\\x ┆ UTC       ┆   ┆           ┆           ┆           ┆          │\n",
       "│           ┆           ┆ c8\\x8c=\\x ┆           ┆   ┆           ┆           ┆           ┆          │\n",
       "│           ┆           ┆ f0\\x7f\\xf ┆           ┆   ┆           ┆           ┆           ┆          │\n",
       "│           ┆           ┆ 1\\xea\\xc6 ┆           ┆   ┆           ┆           ┆           ┆          │\n",
       "│           ┆           ┆ \\xfe\"     ┆           ┆   ┆           ┆           ┆           ┆          │\n",
       "│ 2024-06-1 ┆ 2024-06-1 ┆ b\"\\xc7.\\x ┆ 2024-06-1 ┆ … ┆ 101       ┆ 13        ┆ 0         ┆ 0        │\n",
       "│ 1 14:11:4 ┆ 1 14:11:4 ┆ b5\\xff\\xa ┆ 1         ┆   ┆           ┆           ┆           ┆          │\n",
       "│ 1.386700  ┆ 1.386700  ┆ 98\\x16\\xb ┆ 14:11:31  ┆   ┆           ┆           ┆           ┆          │\n",
       "│           ┆           ┆ 2\\xfb(\\xe ┆ UTC       ┆   ┆           ┆           ┆           ┆          │\n",
       "│           ┆           ┆ cu\\xa7\\x8 ┆           ┆   ┆           ┆           ┆           ┆          │\n",
       "│           ┆           ┆ dH>0ue\\xe ┆           ┆   ┆           ┆           ┆           ┆          │\n",
       "│           ┆           ┆ f\"        ┆           ┆   ┆           ┆           ┆           ┆          │\n",
       "│ 2024-06-1 ┆ 2024-06-1 ┆ b\"E\\x84h; ┆ 2024-06-1 ┆ … ┆ 0         ┆ 3         ┆ 0         ┆ 0        │\n",
       "│ 6 10:17:5 ┆ 6 10:28:2 ┆ i\\xb8\\xc1 ┆ 6         ┆   ┆           ┆           ┆           ┆          │\n",
       "│ 7.440533  ┆ 3.771     ┆ \\xedl\\x01 ┆ 10:28:15  ┆   ┆           ┆           ┆           ┆          │\n",
       "│           ┆           ┆ A\\xb6\\x1f ┆ UTC       ┆   ┆           ┆           ┆           ┆          │\n",
       "│           ┆           ┆ }\\xf3\\xae ┆           ┆   ┆           ┆           ┆           ┆          │\n",
       "│           ┆           ┆ \\xca\\x1eX ┆           ┆   ┆           ┆           ┆           ┆          │\n",
       "│           ┆           ┆ \\x07\"     ┆           ┆   ┆           ┆           ┆           ┆          │\n",
       "│ 2024-05-2 ┆ 2024-06-0 ┆ b\"P\\x99\\x ┆ 2024-05-2 ┆ … ┆ 74        ┆ 13        ┆ 0         ┆ 0        │\n",
       "│ 5 18:40:4 ┆ 8 17:31:1 ┆ b1\\x9d\\xd ┆ 5         ┆   ┆           ┆           ┆           ┆          │\n",
       "│ 7.404723  ┆ 3.159     ┆ 5Ci\\xbak\\ ┆ 18:40:37  ┆   ┆           ┆           ┆           ┆          │\n",
       "│           ┆           ┆ xf5\\xf9\\x ┆ UTC       ┆   ┆           ┆           ┆           ┆          │\n",
       "│           ┆           ┆ 0doH\\xbfV ┆           ┆   ┆           ┆           ┆           ┆          │\n",
       "│           ┆           ┆ r\\xcb\\x10 ┆           ┆   ┆           ┆           ┆           ┆          │\n",
       "│           ┆           ┆ 2\"        ┆           ┆   ┆           ┆           ┆           ┆          │\n",
       "│ 2024-05-1 ┆ 2024-06-0 ┆ b\"\\xbf\\xb ┆ 2024-05-1 ┆ … ┆ 320       ┆ 24        ┆ 0         ┆ 0        │\n",
       "│ 8 14:17:1 ┆ 8 17:04:3 ┆ 9\\x80^\\x0 ┆ 8         ┆   ┆           ┆           ┆           ┆          │\n",
       "│ 1.230045  ┆ 2.430     ┆ c~e0\"\\x90 ┆ 14:17:05  ┆   ┆           ┆           ┆           ┆          │\n",
       "│           ┆           ┆ \\xb0.\\xfb ┆ UTC       ┆   ┆           ┆           ┆           ┆          │\n",
       "│           ┆           ┆ \\xd9\\xae\\ ┆           ┆   ┆           ┆           ┆           ┆          │\n",
       "│           ┆           ┆ xebo-)\\xd ┆           ┆   ┆           ┆           ┆           ┆          │\n",
       "│           ┆           ┆ 7\"        ┆           ┆   ┆           ┆           ┆           ┆          │\n",
       "└───────────┴───────────┴───────────┴───────────┴───┴───────────┴───────────┴───────────┴──────────┘"
      ]
     },
     "execution_count": 21,
     "metadata": {},
     "output_type": "execute_result"
    }
   ],
   "source": [
    "result_df.sample(10)"
   ]
  },
  {
   "cell_type": "code",
   "execution_count": 22,
   "id": "fd4efed6-744a-439e-a4e2-278ddee6799d",
   "metadata": {},
   "outputs": [],
   "source": [
    "joao_fid = 12031"
   ]
  },
  {
   "cell_type": "code",
   "execution_count": 23,
   "id": "1eaa4262-60ed-4968-910a-783d958db426",
   "metadata": {},
   "outputs": [],
   "source": [
    "user_statistics = result_df.filter(pl.col(\"fid\") == joao_fid)\n"
   ]
  },
  {
   "cell_type": "code",
   "execution_count": 24,
   "id": "93999c45-3c0f-4a54-9936-7d9e703bc36a",
   "metadata": {},
   "outputs": [
    {
     "data": {
      "text/html": [
       "<div><style>\n",
       ".dataframe > thead > tr,\n",
       ".dataframe > tbody > tr {\n",
       "  text-align: right;\n",
       "  white-space: pre-wrap;\n",
       "}\n",
       "</style>\n",
       "<small>shape: (1, 10)</small><table border=\"1\" class=\"dataframe\"><thead><tr><th>created_at</th><th>updated_at</th><th>custody_address</th><th>registered_at</th><th>fid</th><th>verifications_count</th><th>following_count</th><th>followers_count</th><th>likes_count</th><th>recasts_count</th></tr><tr><td>datetime[ns]</td><td>datetime[ns]</td><td>binary</td><td>datetime[ns, UTC]</td><td>i64</td><td>i64</td><td>i64</td><td>i64</td><td>i64</td><td>i64</td></tr></thead><tbody><tr><td>2023-09-05 23:18:56.166954</td><td>2024-06-07 17:17:31.984</td><td>b&quot;\\xb5\\x80\\x0cCv\\x1csPE*\\xfa\\xc6\\xff\\x01x\\xc1e\\xd3\\xf2\\x06&quot;</td><td>2023-11-07 20:14:03 UTC</td><td>12031</td><td>2</td><td>208</td><td>4124</td><td>621</td><td>37</td></tr></tbody></table></div>"
      ],
      "text/plain": [
       "shape: (1, 10)\n",
       "┌───────────┬───────────┬───────────┬───────────┬───┬───────────┬───────────┬───────────┬──────────┐\n",
       "│ created_a ┆ updated_a ┆ custody_a ┆ registere ┆ … ┆ following ┆ followers ┆ likes_cou ┆ recasts_ │\n",
       "│ t         ┆ t         ┆ ddress    ┆ d_at      ┆   ┆ _count    ┆ _count    ┆ nt        ┆ count    │\n",
       "│ ---       ┆ ---       ┆ ---       ┆ ---       ┆   ┆ ---       ┆ ---       ┆ ---       ┆ ---      │\n",
       "│ datetime[ ┆ datetime[ ┆ binary    ┆ datetime[ ┆   ┆ i64       ┆ i64       ┆ i64       ┆ i64      │\n",
       "│ ns]       ┆ ns]       ┆           ┆ ns, UTC]  ┆   ┆           ┆           ┆           ┆          │\n",
       "╞═══════════╪═══════════╪═══════════╪═══════════╪═══╪═══════════╪═══════════╪═══════════╪══════════╡\n",
       "│ 2023-09-0 ┆ 2024-06-0 ┆ b\"\\xb5\\x8 ┆ 2023-11-0 ┆ … ┆ 208       ┆ 4124      ┆ 621       ┆ 37       │\n",
       "│ 5 23:18:5 ┆ 7 17:17:3 ┆ 0\\x0cCv\\x ┆ 7         ┆   ┆           ┆           ┆           ┆          │\n",
       "│ 6.166954  ┆ 1.984     ┆ 1csPE*\\xf ┆ 20:14:03  ┆   ┆           ┆           ┆           ┆          │\n",
       "│           ┆           ┆ a\\xc6\\xff ┆ UTC       ┆   ┆           ┆           ┆           ┆          │\n",
       "│           ┆           ┆ \\x01x\\xc1 ┆           ┆   ┆           ┆           ┆           ┆          │\n",
       "│           ┆           ┆ e\\xd3\\xf2 ┆           ┆   ┆           ┆           ┆           ┆          │\n",
       "│           ┆           ┆ \\x06\"     ┆           ┆   ┆           ┆           ┆           ┆          │\n",
       "└───────────┴───────────┴───────────┴───────────┴───┴───────────┴───────────┴───────────┴──────────┘"
      ]
     },
     "execution_count": 24,
     "metadata": {},
     "output_type": "execute_result"
    }
   ],
   "source": [
    "user_statistics"
   ]
  },
  {
   "cell_type": "code",
   "execution_count": 25,
   "id": "ee061acb-65a4-4e36-9533-4686a3c52be9",
   "metadata": {},
   "outputs": [
    {
     "data": {
      "text/html": [
       "<div><style>\n",
       ".dataframe > thead > tr,\n",
       ".dataframe > tbody > tr {\n",
       "  text-align: right;\n",
       "  white-space: pre-wrap;\n",
       "}\n",
       "</style>\n",
       "<small>shape: (208, 10)</small><table border=\"1\" class=\"dataframe\"><thead><tr><th>fid</th><th>target_fid</th><th>hash</th><th>timestamp</th><th>created_at</th><th>updated_at</th><th>deleted_at</th><th>type</th><th>display_timestamp</th><th>id</th></tr><tr><td>i64</td><td>i64</td><td>binary</td><td>datetime[ns]</td><td>datetime[ns]</td><td>datetime[ns]</td><td>datetime[ns]</td><td>str</td><td>datetime[ns]</td><td>i64</td></tr></thead><tbody><tr><td>12031</td><td>2</td><td>b&quot;\\xc3r@\\x89\\x1a-\\x08\\xe2HSR\\x14t&#x27;%?*\\x15{V&quot;</td><td>2023-04-13 23:49:04</td><td>2023-09-05 23:18:56.247104</td><td>2023-09-05 23:18:56.247104</td><td>null</td><td>&quot;follow&quot;</td><td>null</td><td>950143</td></tr><tr><td>12031</td><td>3</td><td>b&quot;\\x08v\\xa5\\x97\\xd8\\xfa\\xe1&gt;\\xb7\\xe8a\\x0a\\xe1P\\xaf\\xd6\\xcd\\xa3\\xcf\\xf0&quot;</td><td>2023-04-13 23:53:17</td><td>2023-09-05 23:18:56.247104</td><td>2023-09-05 23:18:56.247104</td><td>null</td><td>&quot;follow&quot;</td><td>null</td><td>950144</td></tr><tr><td>12031</td><td>378</td><td>b&quot;\\x0f\\xdcd\\xf2\\xccJ\\x98\\xca\\x80\\xdaKT\\xb0\\xb0\\xdbg\\x12X\\xd57&quot;</td><td>2023-04-13 23:53:17</td><td>2023-09-05 23:18:56.247104</td><td>2023-09-05 23:18:56.247104</td><td>null</td><td>&quot;follow&quot;</td><td>null</td><td>950145</td></tr><tr><td>12031</td><td>127</td><td>b&quot;\\x14\\x91\\x92\\xc7g\\xa6\\xeco\\x86\\xdd\\xcc3\\xfc.\\xe7\\xbdv!c\\x06&quot;</td><td>2023-04-13 23:53:17</td><td>2023-09-05 23:18:56.247104</td><td>2023-09-05 23:18:56.247104</td><td>null</td><td>&quot;follow&quot;</td><td>null</td><td>950146</td></tr><tr><td>12031</td><td>145</td><td>b&quot;&quot;\\x8f\\xc1\\x87\\xe4\\xe9\\x8cG\\xe7gw]\\x86\\x84u\\xd9Id\\x94\\xa6&quot;</td><td>2023-04-13 23:53:17</td><td>2023-09-05 23:18:56.247104</td><td>2023-09-05 23:18:56.247104</td><td>null</td><td>&quot;follow&quot;</td><td>null</td><td>950148</td></tr><tr><td>&hellip;</td><td>&hellip;</td><td>&hellip;</td><td>&hellip;</td><td>&hellip;</td><td>&hellip;</td><td>&hellip;</td><td>&hellip;</td><td>&hellip;</td><td>&hellip;</td></tr><tr><td>12031</td><td>155</td><td>b&quot;\\xcc\\xc6\\xdc&#x27;\\xc4\\xd3`\\x16\\xf9\\x1a\\xf2\\x9f%&gt;\\xdb\\xe5\\x17\\x03\\xb0\\xcb&quot;</td><td>2024-09-27 01:04:12</td><td>2024-09-27 01:04:13.112150</td><td>2024-09-27 01:04:13.112150</td><td>null</td><td>&quot;follow&quot;</td><td>null</td><td>11876878174</td></tr><tr><td>12031</td><td>12256</td><td>b&quot;C\\xc6\\x81\\xdf\\x02r\\x9e3\\xeae\\x81E\\x81\\x04EC\\xb2\\xb9\\x1ea&quot;</td><td>2024-09-27 05:40:54</td><td>2024-09-27 05:40:54.666807</td><td>2024-09-27 05:40:54.666807</td><td>null</td><td>&quot;follow&quot;</td><td>null</td><td>11876933181</td></tr><tr><td>12031</td><td>2172</td><td>b&quot;\\xd8\\xbaH\\xbdo\\x83\\xfc!\\xef\\x9a\\xd5\\xc3\\x94\\x95M\\x1b\\xd2\\xa6\\xfb\\xa0&quot;</td><td>2024-09-30 17:59:17</td><td>2024-09-30 17:59:17.354086</td><td>2024-09-30 17:59:17.354086</td><td>null</td><td>&quot;follow&quot;</td><td>null</td><td>11877989030</td></tr><tr><td>12031</td><td>862100</td><td>b&quot;\\x01,\\x97\\xce\\xd0\\x0aR]&gt;\\xc9\\xa3\\xee\\xd2\\xdd\\xc8\\xd9|\\xc3G\\xf9&quot;</td><td>2024-10-15 19:51:28</td><td>2024-10-15 20:51:35.238333</td><td>2024-10-15 20:51:35.238333</td><td>null</td><td>&quot;follow&quot;</td><td>null</td><td>11882366667</td></tr><tr><td>12031</td><td>11818</td><td>b&quot;4\\xf8\\x16\\x93!\\xe6\\x93\\xb2\\xe2^\\x9c\\x968\\x0f\\xaa\\xc7\\xfa:\\xe3j&quot;</td><td>2024-10-16 05:37:03</td><td>2024-10-16 05:54:00.504263</td><td>2024-10-16 05:54:00.504263</td><td>null</td><td>&quot;follow&quot;</td><td>null</td><td>11882493676</td></tr></tbody></table></div>"
      ],
      "text/plain": [
       "shape: (208, 10)\n",
       "┌───────┬────────────┬────────────┬────────────┬───┬────────────┬────────┬────────────┬────────────┐\n",
       "│ fid   ┆ target_fid ┆ hash       ┆ timestamp  ┆ … ┆ deleted_at ┆ type   ┆ display_ti ┆ id         │\n",
       "│ ---   ┆ ---        ┆ ---        ┆ ---        ┆   ┆ ---        ┆ ---    ┆ mestamp    ┆ ---        │\n",
       "│ i64   ┆ i64        ┆ binary     ┆ datetime[n ┆   ┆ datetime[n ┆ str    ┆ ---        ┆ i64        │\n",
       "│       ┆            ┆            ┆ s]         ┆   ┆ s]         ┆        ┆ datetime[n ┆            │\n",
       "│       ┆            ┆            ┆            ┆   ┆            ┆        ┆ s]         ┆            │\n",
       "╞═══════╪════════════╪════════════╪════════════╪═══╪════════════╪════════╪════════════╪════════════╡\n",
       "│ 12031 ┆ 2          ┆ b\"\\xc3r@\\x ┆ 2023-04-13 ┆ … ┆ null       ┆ follow ┆ null       ┆ 950143     │\n",
       "│       ┆            ┆ 89\\x1a-\\x0 ┆ 23:49:04   ┆   ┆            ┆        ┆            ┆            │\n",
       "│       ┆            ┆ 8\\xe2HSR\\x ┆            ┆   ┆            ┆        ┆            ┆            │\n",
       "│       ┆            ┆ 14t'%?*\\x1 ┆            ┆   ┆            ┆        ┆            ┆            │\n",
       "│       ┆            ┆ 5{V\"       ┆            ┆   ┆            ┆        ┆            ┆            │\n",
       "│ 12031 ┆ 3          ┆ b\"\\x08v\\xa ┆ 2023-04-13 ┆ … ┆ null       ┆ follow ┆ null       ┆ 950144     │\n",
       "│       ┆            ┆ 5\\x97\\xd8\\ ┆ 23:53:17   ┆   ┆            ┆        ┆            ┆            │\n",
       "│       ┆            ┆ xfa\\xe1>\\x ┆            ┆   ┆            ┆        ┆            ┆            │\n",
       "│       ┆            ┆ b7\\xe8a\\x0 ┆            ┆   ┆            ┆        ┆            ┆            │\n",
       "│       ┆            ┆ a\\xe1P\\xaf ┆            ┆   ┆            ┆        ┆            ┆            │\n",
       "│       ┆            ┆ \\xd6\\xcd\\x ┆            ┆   ┆            ┆        ┆            ┆            │\n",
       "│       ┆            ┆ a3\\xcf\\xf0 ┆            ┆   ┆            ┆        ┆            ┆            │\n",
       "│       ┆            ┆ \"          ┆            ┆   ┆            ┆        ┆            ┆            │\n",
       "│ 12031 ┆ 378        ┆ b\"\\x0f\\xdc ┆ 2023-04-13 ┆ … ┆ null       ┆ follow ┆ null       ┆ 950145     │\n",
       "│       ┆            ┆ d\\xf2\\xccJ ┆ 23:53:17   ┆   ┆            ┆        ┆            ┆            │\n",
       "│       ┆            ┆ \\x98\\xca\\x ┆            ┆   ┆            ┆        ┆            ┆            │\n",
       "│       ┆            ┆ 80\\xdaKT\\x ┆            ┆   ┆            ┆        ┆            ┆            │\n",
       "│       ┆            ┆ b0\\xb0\\xdb ┆            ┆   ┆            ┆        ┆            ┆            │\n",
       "│       ┆            ┆ g\\x12X\\xd5 ┆            ┆   ┆            ┆        ┆            ┆            │\n",
       "│       ┆            ┆ 7\"         ┆            ┆   ┆            ┆        ┆            ┆            │\n",
       "│ 12031 ┆ 127        ┆ b\"\\x14\\x91 ┆ 2023-04-13 ┆ … ┆ null       ┆ follow ┆ null       ┆ 950146     │\n",
       "│       ┆            ┆ \\x92\\xc7g\\ ┆ 23:53:17   ┆   ┆            ┆        ┆            ┆            │\n",
       "│       ┆            ┆ xa6\\xeco\\x ┆            ┆   ┆            ┆        ┆            ┆            │\n",
       "│       ┆            ┆ 86\\xdd\\xcc ┆            ┆   ┆            ┆        ┆            ┆            │\n",
       "│       ┆            ┆ 3\\xfc.\\xe7 ┆            ┆   ┆            ┆        ┆            ┆            │\n",
       "│       ┆            ┆ \\xbdv!c\\x0 ┆            ┆   ┆            ┆        ┆            ┆            │\n",
       "│       ┆            ┆ 6\"         ┆            ┆   ┆            ┆        ┆            ┆            │\n",
       "│ 12031 ┆ 145        ┆ b\"\"\\x8f\\xc ┆ 2023-04-13 ┆ … ┆ null       ┆ follow ┆ null       ┆ 950148     │\n",
       "│       ┆            ┆ 1\\x87\\xe4\\ ┆ 23:53:17   ┆   ┆            ┆        ┆            ┆            │\n",
       "│       ┆            ┆ xe9\\x8cG\\x ┆            ┆   ┆            ┆        ┆            ┆            │\n",
       "│       ┆            ┆ e7gw]\\x86\\ ┆            ┆   ┆            ┆        ┆            ┆            │\n",
       "│       ┆            ┆ x84u\\xd9Id ┆            ┆   ┆            ┆        ┆            ┆            │\n",
       "│       ┆            ┆ \\x94\\xa6\"  ┆            ┆   ┆            ┆        ┆            ┆            │\n",
       "│ …     ┆ …          ┆ …          ┆ …          ┆ … ┆ …          ┆ …      ┆ …          ┆ …          │\n",
       "│ 12031 ┆ 155        ┆ b\"\\xcc\\xc6 ┆ 2024-09-27 ┆ … ┆ null       ┆ follow ┆ null       ┆ 1187687817 │\n",
       "│       ┆            ┆ \\xdc'\\xc4\\ ┆ 01:04:12   ┆   ┆            ┆        ┆            ┆ 4          │\n",
       "│       ┆            ┆ xd3`\\x16\\x ┆            ┆   ┆            ┆        ┆            ┆            │\n",
       "│       ┆            ┆ f9\\x1a\\xf2 ┆            ┆   ┆            ┆        ┆            ┆            │\n",
       "│       ┆            ┆ \\x9f%>\\xdb ┆            ┆   ┆            ┆        ┆            ┆            │\n",
       "│       ┆            ┆ \\xe5\\x17\\x ┆            ┆   ┆            ┆        ┆            ┆            │\n",
       "│       ┆            ┆ 03\\xb0\\xcb ┆            ┆   ┆            ┆        ┆            ┆            │\n",
       "│       ┆            ┆ \"          ┆            ┆   ┆            ┆        ┆            ┆            │\n",
       "│ 12031 ┆ 12256      ┆ b\"C\\xc6\\x8 ┆ 2024-09-27 ┆ … ┆ null       ┆ follow ┆ null       ┆ 1187693318 │\n",
       "│       ┆            ┆ 1\\xdf\\x02r ┆ 05:40:54   ┆   ┆            ┆        ┆            ┆ 1          │\n",
       "│       ┆            ┆ \\x9e3\\xeae ┆            ┆   ┆            ┆        ┆            ┆            │\n",
       "│       ┆            ┆ \\x81E\\x81\\ ┆            ┆   ┆            ┆        ┆            ┆            │\n",
       "│       ┆            ┆ x04EC\\xb2\\ ┆            ┆   ┆            ┆        ┆            ┆            │\n",
       "│       ┆            ┆ xb9\\x1ea\"  ┆            ┆   ┆            ┆        ┆            ┆            │\n",
       "│ 12031 ┆ 2172       ┆ b\"\\xd8\\xba ┆ 2024-09-30 ┆ … ┆ null       ┆ follow ┆ null       ┆ 1187798903 │\n",
       "│       ┆            ┆ H\\xbdo\\x83 ┆ 17:59:17   ┆   ┆            ┆        ┆            ┆ 0          │\n",
       "│       ┆            ┆ \\xfc!\\xef\\ ┆            ┆   ┆            ┆        ┆            ┆            │\n",
       "│       ┆            ┆ x9a\\xd5\\xc ┆            ┆   ┆            ┆        ┆            ┆            │\n",
       "│       ┆            ┆ 3\\x94\\x95M ┆            ┆   ┆            ┆        ┆            ┆            │\n",
       "│       ┆            ┆ \\x1b\\xd2\\x ┆            ┆   ┆            ┆        ┆            ┆            │\n",
       "│       ┆            ┆ a6\\xfb\\xa0 ┆            ┆   ┆            ┆        ┆            ┆            │\n",
       "│       ┆            ┆ \"          ┆            ┆   ┆            ┆        ┆            ┆            │\n",
       "│ 12031 ┆ 862100     ┆ b\"\\x01,\\x9 ┆ 2024-10-15 ┆ … ┆ null       ┆ follow ┆ null       ┆ 1188236666 │\n",
       "│       ┆            ┆ 7\\xce\\xd0\\ ┆ 19:51:28   ┆   ┆            ┆        ┆            ┆ 7          │\n",
       "│       ┆            ┆ x0aR]>\\xc9 ┆            ┆   ┆            ┆        ┆            ┆            │\n",
       "│       ┆            ┆ \\xa3\\xee\\x ┆            ┆   ┆            ┆        ┆            ┆            │\n",
       "│       ┆            ┆ d2\\xdd\\xc8 ┆            ┆   ┆            ┆        ┆            ┆            │\n",
       "│       ┆            ┆ \\xd9|\\xc3G ┆            ┆   ┆            ┆        ┆            ┆            │\n",
       "│       ┆            ┆ \\xf9\"      ┆            ┆   ┆            ┆        ┆            ┆            │\n",
       "│ 12031 ┆ 11818      ┆ b\"4\\xf8\\x1 ┆ 2024-10-16 ┆ … ┆ null       ┆ follow ┆ null       ┆ 1188249367 │\n",
       "│       ┆            ┆ 6\\x93!\\xe6 ┆ 05:37:03   ┆   ┆            ┆        ┆            ┆ 6          │\n",
       "│       ┆            ┆ \\x93\\xb2\\x ┆            ┆   ┆            ┆        ┆            ┆            │\n",
       "│       ┆            ┆ e2^\\x9c\\x9 ┆            ┆   ┆            ┆        ┆            ┆            │\n",
       "│       ┆            ┆ 68\\x0f\\xaa ┆            ┆   ┆            ┆        ┆            ┆            │\n",
       "│       ┆            ┆ \\xc7\\xfa:\\ ┆            ┆   ┆            ┆        ┆            ┆            │\n",
       "│       ┆            ┆ xe3j\"      ┆            ┆   ┆            ┆        ┆            ┆            │\n",
       "└───────┴────────────┴────────────┴────────────┴───┴────────────┴────────┴────────────┴────────────┘"
      ]
     },
     "execution_count": 25,
     "metadata": {},
     "output_type": "execute_result"
    }
   ],
   "source": [
    "links_df.filter(pl.col(\"fid\") == joao_fid)"
   ]
  },
  {
   "cell_type": "code",
   "execution_count": 26,
   "id": "e9592763-af85-4229-98da-fd1ce73a93ad",
   "metadata": {},
   "outputs": [
    {
     "data": {
      "text/html": [
       "<div><style>\n",
       ".dataframe > thead > tr,\n",
       ".dataframe > tbody > tr {\n",
       "  text-align: right;\n",
       "  white-space: pre-wrap;\n",
       "}\n",
       "</style>\n",
       "<small>shape: (4_224, 10)</small><table border=\"1\" class=\"dataframe\"><thead><tr><th>fid</th><th>target_fid</th><th>hash</th><th>timestamp</th><th>created_at</th><th>updated_at</th><th>deleted_at</th><th>type</th><th>display_timestamp</th><th>id</th></tr><tr><td>i64</td><td>i64</td><td>binary</td><td>datetime[ns]</td><td>datetime[ns]</td><td>datetime[ns]</td><td>datetime[ns]</td><td>str</td><td>datetime[ns]</td><td>i64</td></tr></thead><tbody><tr><td>2</td><td>12031</td><td>b&quot;`!\\xd6\\x13\\xda\\x0f\\x1ac&lt;\\xb5\\xf6\\xc0\\x14\\x80\\x9b\\x8e\\x94\\x18\\xda\\xb0&quot;</td><td>2023-07-26 15:05:11</td><td>2023-09-05 23:07:30.968478</td><td>2023-09-05 23:07:30.968478</td><td>null</td><td>&quot;follow&quot;</td><td>null</td><td>853</td></tr><tr><td>5</td><td>12031</td><td>b&quot;\\x023\\x128_\\xb9\\xcd%\\x19nbn\\xb3{\\xe8\\x0b\\x01\\x8b\\x02\\xf2&quot;</td><td>2023-08-31 23:30:43</td><td>2023-09-05 23:07:31.962471</td><td>2023-09-05 23:07:31.962471</td><td>null</td><td>&quot;follow&quot;</td><td>null</td><td>1362</td></tr><tr><td>15</td><td>12031</td><td>b&quot;\\x1e\\x86R\\x99}k\\x1c\\xfc\\x85x&quot;~\\x01\\xb1\\xa5\\xff\\x0a4\\x94\\x19&quot;</td><td>2023-04-14 00:06:57</td><td>2023-09-05 23:07:34.344245</td><td>2023-09-05 23:07:34.344245</td><td>null</td><td>&quot;follow&quot;</td><td>null</td><td>5172</td></tr><tr><td>17</td><td>12031</td><td>b&quot;!\\x91z`\\x8b\\xb4\\xff\\xae\\x09\\x89\\xbb\\x86e\\xce\\xe6\\xa9\\xcfz\\x0e\\xca&quot;</td><td>2023-04-13 23:59:52</td><td>2023-09-05 23:07:34.566618</td><td>2023-09-05 23:07:34.566618</td><td>null</td><td>&quot;follow&quot;</td><td>null</td><td>5663</td></tr><tr><td>18</td><td>12031</td><td>b&quot;\\xf1\\xe1\\xb0\\x18F\\x07\\xb6\\x16\\xd7\\xbe&#x27;\\xde%\\x1fz\\x84\\xedZjE&quot;</td><td>2023-07-28 02:58:39</td><td>2023-09-05 23:07:34.741851</td><td>2023-09-05 23:07:34.741851</td><td>null</td><td>&quot;follow&quot;</td><td>null</td><td>5912</td></tr><tr><td>&hellip;</td><td>&hellip;</td><td>&hellip;</td><td>&hellip;</td><td>&hellip;</td><td>&hellip;</td><td>&hellip;</td><td>&hellip;</td><td>&hellip;</td><td>&hellip;</td></tr><tr><td>834651</td><td>12031</td><td>b&quot;\\xdb&#x27;&gt;1\\x82\\xb8\\xbd3\\xf9\\xa6V7\\x8cW2\\x10\\xa2\\x8e\\x05\\xe8&quot;</td><td>2024-10-28 03:21:28</td><td>2024-10-28 03:21:29.352564</td><td>2024-10-28 03:21:29.352564</td><td>null</td><td>&quot;follow&quot;</td><td>null</td><td>11884722203</td></tr><tr><td>835546</td><td>12031</td><td>b&quot;S\\xce\\x05\\xa8\\x90F\\x9b\\xbf8\\x0d\\x00\\xd2\\xd9\\xac\\xfe\\x82\\xed\\xa0`\\xb6&quot;</td><td>2024-10-28 03:47:28</td><td>2024-10-28 03:47:28.449977</td><td>2024-10-28 03:47:28.449977</td><td>null</td><td>&quot;follow&quot;</td><td>null</td><td>11884723388</td></tr><tr><td>836471</td><td>12031</td><td>b&quot;\\xf2\\xacN8\\xc5\\xa8:fE\\xf0l\\x09Q\\x7f-\\xa9\\xe4\\x0a\\xa6D&quot;</td><td>2024-10-28 03:56:24</td><td>2024-10-28 03:56:24.479156</td><td>2024-10-28 03:56:24.479156</td><td>null</td><td>&quot;follow&quot;</td><td>null</td><td>11884723903</td></tr><tr><td>827924</td><td>12031</td><td>b&quot;\\x90\\x13d\\x96\\x06\\xe5Lv&quot;\\xfa\\xc4\\x87\\xd4\\xa8\\xdf\\x8b\\x86T\\x95\\xe2&quot;</td><td>2024-10-28 04:40:21</td><td>2024-10-28 04:40:21.751806</td><td>2024-10-28 04:40:21.751806</td><td>null</td><td>&quot;follow&quot;</td><td>null</td><td>11884727480</td></tr><tr><td>338513</td><td>12031</td><td>b&quot;V\\xdef\\xa6\\xedg!|o?\\xf8P{Y\\xb2\\xa7\\xa5\\x04p\\x1d&quot;</td><td>2024-10-28 06:36:02</td><td>2024-10-28 06:36:02.337119</td><td>2024-10-28 06:36:02.337119</td><td>null</td><td>&quot;follow&quot;</td><td>null</td><td>11884743240</td></tr></tbody></table></div>"
      ],
      "text/plain": [
       "shape: (4_224, 10)\n",
       "┌────────┬────────────┬────────────┬────────────┬───┬────────────┬────────┬────────────┬───────────┐\n",
       "│ fid    ┆ target_fid ┆ hash       ┆ timestamp  ┆ … ┆ deleted_at ┆ type   ┆ display_ti ┆ id        │\n",
       "│ ---    ┆ ---        ┆ ---        ┆ ---        ┆   ┆ ---        ┆ ---    ┆ mestamp    ┆ ---       │\n",
       "│ i64    ┆ i64        ┆ binary     ┆ datetime[n ┆   ┆ datetime[n ┆ str    ┆ ---        ┆ i64       │\n",
       "│        ┆            ┆            ┆ s]         ┆   ┆ s]         ┆        ┆ datetime[n ┆           │\n",
       "│        ┆            ┆            ┆            ┆   ┆            ┆        ┆ s]         ┆           │\n",
       "╞════════╪════════════╪════════════╪════════════╪═══╪════════════╪════════╪════════════╪═══════════╡\n",
       "│ 2      ┆ 12031      ┆ b\"`!\\xd6\\x ┆ 2023-07-26 ┆ … ┆ null       ┆ follow ┆ null       ┆ 853       │\n",
       "│        ┆            ┆ 13\\xda\\x0f ┆ 15:05:11   ┆   ┆            ┆        ┆            ┆           │\n",
       "│        ┆            ┆ \\x1ac<\\xb5 ┆            ┆   ┆            ┆        ┆            ┆           │\n",
       "│        ┆            ┆ \\xf6\\xc0\\x ┆            ┆   ┆            ┆        ┆            ┆           │\n",
       "│        ┆            ┆ 14\\x80\\x9b ┆            ┆   ┆            ┆        ┆            ┆           │\n",
       "│        ┆            ┆ \\x8e\\x94\\x ┆            ┆   ┆            ┆        ┆            ┆           │\n",
       "│        ┆            ┆ 18\\xda\\xb0 ┆            ┆   ┆            ┆        ┆            ┆           │\n",
       "│        ┆            ┆ \"          ┆            ┆   ┆            ┆        ┆            ┆           │\n",
       "│ 5      ┆ 12031      ┆ b\"\\x023\\x1 ┆ 2023-08-31 ┆ … ┆ null       ┆ follow ┆ null       ┆ 1362      │\n",
       "│        ┆            ┆ 28_\\xb9\\xc ┆ 23:30:43   ┆   ┆            ┆        ┆            ┆           │\n",
       "│        ┆            ┆ d%\\x19nbn\\ ┆            ┆   ┆            ┆        ┆            ┆           │\n",
       "│        ┆            ┆ xb3{\\xe8\\x ┆            ┆   ┆            ┆        ┆            ┆           │\n",
       "│        ┆            ┆ 0b\\x01\\x8b ┆            ┆   ┆            ┆        ┆            ┆           │\n",
       "│        ┆            ┆ \\x02\\xf2\"  ┆            ┆   ┆            ┆        ┆            ┆           │\n",
       "│ 15     ┆ 12031      ┆ b\"\\x1e\\x86 ┆ 2023-04-14 ┆ … ┆ null       ┆ follow ┆ null       ┆ 5172      │\n",
       "│        ┆            ┆ R\\x99}k\\x1 ┆ 00:06:57   ┆   ┆            ┆        ┆            ┆           │\n",
       "│        ┆            ┆ c\\xfc\\x85x ┆            ┆   ┆            ┆        ┆            ┆           │\n",
       "│        ┆            ┆ \"~\\x01\\xb1 ┆            ┆   ┆            ┆        ┆            ┆           │\n",
       "│        ┆            ┆ \\xa5\\xff\\x ┆            ┆   ┆            ┆        ┆            ┆           │\n",
       "│        ┆            ┆ 0a4\\x94\\x1 ┆            ┆   ┆            ┆        ┆            ┆           │\n",
       "│        ┆            ┆ 9\"         ┆            ┆   ┆            ┆        ┆            ┆           │\n",
       "│ 17     ┆ 12031      ┆ b\"!\\x91z`\\ ┆ 2023-04-13 ┆ … ┆ null       ┆ follow ┆ null       ┆ 5663      │\n",
       "│        ┆            ┆ x8b\\xb4\\xf ┆ 23:59:52   ┆   ┆            ┆        ┆            ┆           │\n",
       "│        ┆            ┆ f\\xae\\x09\\ ┆            ┆   ┆            ┆        ┆            ┆           │\n",
       "│        ┆            ┆ x89\\xbb\\x8 ┆            ┆   ┆            ┆        ┆            ┆           │\n",
       "│        ┆            ┆ 6e\\xce\\xe6 ┆            ┆   ┆            ┆        ┆            ┆           │\n",
       "│        ┆            ┆ \\xa9\\xcfz\\ ┆            ┆   ┆            ┆        ┆            ┆           │\n",
       "│        ┆            ┆ x0e\\xca\"   ┆            ┆   ┆            ┆        ┆            ┆           │\n",
       "│ 18     ┆ 12031      ┆ b\"\\xf1\\xe1 ┆ 2023-07-28 ┆ … ┆ null       ┆ follow ┆ null       ┆ 5912      │\n",
       "│        ┆            ┆ \\xb0\\x18F\\ ┆ 02:58:39   ┆   ┆            ┆        ┆            ┆           │\n",
       "│        ┆            ┆ x07\\xb6\\x1 ┆            ┆   ┆            ┆        ┆            ┆           │\n",
       "│        ┆            ┆ 6\\xd7\\xbe' ┆            ┆   ┆            ┆        ┆            ┆           │\n",
       "│        ┆            ┆ \\xde%\\x1fz ┆            ┆   ┆            ┆        ┆            ┆           │\n",
       "│        ┆            ┆ \\x84\\xedZj ┆            ┆   ┆            ┆        ┆            ┆           │\n",
       "│        ┆            ┆ E\"         ┆            ┆   ┆            ┆        ┆            ┆           │\n",
       "│ …      ┆ …          ┆ …          ┆ …          ┆ … ┆ …          ┆ …      ┆ …          ┆ …         │\n",
       "│ 834651 ┆ 12031      ┆ b\"\\xdb'>1\\ ┆ 2024-10-28 ┆ … ┆ null       ┆ follow ┆ null       ┆ 118847222 │\n",
       "│        ┆            ┆ x82\\xb8\\xb ┆ 03:21:28   ┆   ┆            ┆        ┆            ┆ 03        │\n",
       "│        ┆            ┆ d3\\xf9\\xa6 ┆            ┆   ┆            ┆        ┆            ┆           │\n",
       "│        ┆            ┆ V7\\x8cW2\\x ┆            ┆   ┆            ┆        ┆            ┆           │\n",
       "│        ┆            ┆ 10\\xa2\\x8e ┆            ┆   ┆            ┆        ┆            ┆           │\n",
       "│        ┆            ┆ \\x05\\xe8\"  ┆            ┆   ┆            ┆        ┆            ┆           │\n",
       "│ 835546 ┆ 12031      ┆ b\"S\\xce\\x0 ┆ 2024-10-28 ┆ … ┆ null       ┆ follow ┆ null       ┆ 118847233 │\n",
       "│        ┆            ┆ 5\\xa8\\x90F ┆ 03:47:28   ┆   ┆            ┆        ┆            ┆ 88        │\n",
       "│        ┆            ┆ \\x9b\\xbf8\\ ┆            ┆   ┆            ┆        ┆            ┆           │\n",
       "│        ┆            ┆ x0d\\x00\\xd ┆            ┆   ┆            ┆        ┆            ┆           │\n",
       "│        ┆            ┆ 2\\xd9\\xac\\ ┆            ┆   ┆            ┆        ┆            ┆           │\n",
       "│        ┆            ┆ xfe\\x82\\xe ┆            ┆   ┆            ┆        ┆            ┆           │\n",
       "│        ┆            ┆ d\\xa0`\\xb6 ┆            ┆   ┆            ┆        ┆            ┆           │\n",
       "│        ┆            ┆ \"          ┆            ┆   ┆            ┆        ┆            ┆           │\n",
       "│ 836471 ┆ 12031      ┆ b\"\\xf2\\xac ┆ 2024-10-28 ┆ … ┆ null       ┆ follow ┆ null       ┆ 118847239 │\n",
       "│        ┆            ┆ N8\\xc5\\xa8 ┆ 03:56:24   ┆   ┆            ┆        ┆            ┆ 03        │\n",
       "│        ┆            ┆ :fE\\xf0l\\x ┆            ┆   ┆            ┆        ┆            ┆           │\n",
       "│        ┆            ┆ 09Q\\x7f-\\x ┆            ┆   ┆            ┆        ┆            ┆           │\n",
       "│        ┆            ┆ a9\\xe4\\x0a ┆            ┆   ┆            ┆        ┆            ┆           │\n",
       "│        ┆            ┆ \\xa6D\"     ┆            ┆   ┆            ┆        ┆            ┆           │\n",
       "│ 827924 ┆ 12031      ┆ b\"\\x90\\x13 ┆ 2024-10-28 ┆ … ┆ null       ┆ follow ┆ null       ┆ 118847274 │\n",
       "│        ┆            ┆ d\\x96\\x06\\ ┆ 04:40:21   ┆   ┆            ┆        ┆            ┆ 80        │\n",
       "│        ┆            ┆ xe5Lv\"\\xfa ┆            ┆   ┆            ┆        ┆            ┆           │\n",
       "│        ┆            ┆ \\xc4\\x87\\x ┆            ┆   ┆            ┆        ┆            ┆           │\n",
       "│        ┆            ┆ d4\\xa8\\xdf ┆            ┆   ┆            ┆        ┆            ┆           │\n",
       "│        ┆            ┆ \\x8b\\x86T\\ ┆            ┆   ┆            ┆        ┆            ┆           │\n",
       "│        ┆            ┆ x95\\xe2\"   ┆            ┆   ┆            ┆        ┆            ┆           │\n",
       "│ 338513 ┆ 12031      ┆ b\"V\\xdef\\x ┆ 2024-10-28 ┆ … ┆ null       ┆ follow ┆ null       ┆ 118847432 │\n",
       "│        ┆            ┆ a6\\xedg!|o ┆ 06:36:02   ┆   ┆            ┆        ┆            ┆ 40        │\n",
       "│        ┆            ┆ ?\\xf8P{Y\\x ┆            ┆   ┆            ┆        ┆            ┆           │\n",
       "│        ┆            ┆ b2\\xa7\\xa5 ┆            ┆   ┆            ┆        ┆            ┆           │\n",
       "│        ┆            ┆ \\x04p\\x1d\" ┆            ┆   ┆            ┆        ┆            ┆           │\n",
       "└────────┴────────────┴────────────┴────────────┴───┴────────────┴────────┴────────────┴───────────┘"
      ]
     },
     "execution_count": 26,
     "metadata": {},
     "output_type": "execute_result"
    }
   ],
   "source": [
    "links_df.filter(pl.col(\"target_fid\") == joao_fid)"
   ]
  },
  {
   "cell_type": "code",
   "execution_count": 36,
   "id": "fb9161d9-ab99-491b-a403-18be375f5f30",
   "metadata": {},
   "outputs": [],
   "source": [
    "# should filter by the links where the deleted at is null"
   ]
  },
  {
   "cell_type": "code",
   "execution_count": null,
   "id": "6ff2817e-666d-4d4a-87fb-86537ef46c17",
   "metadata": {},
   "outputs": [],
   "source": [
    "# add casts "
   ]
  },
  {
   "cell_type": "code",
   "execution_count": 27,
   "id": "d344b2b8-1859-412c-9346-01cff7d5a4e4",
   "metadata": {},
   "outputs": [],
   "source": [
    "casts_lazy_df = pl.scan_parquet(f\"{DATA_PATH}/raw/farcaster-casts-0-1730134800.parquet\")"
   ]
  },
  {
   "cell_type": "code",
   "execution_count": 28,
   "id": "b28cda88-3887-414f-8c89-17339b565b46",
   "metadata": {},
   "outputs": [],
   "source": [
    "casts_count_lazy = (\n",
    "    casts_lazy_df\n",
    "    .filter(pl.col(\"deleted_at\").is_null())  # Filter out deleted casts\n",
    "    .group_by(\"fid\")\n",
    "    .agg([\n",
    "        pl.count(\"id\").alias(\"total_casts_count\"),\n",
    "        (pl.col(\"parent_hash\").is_not_null() & (pl.col(\"parent_hash\").is_not_null())).sum().alias(\"reply_casts_count\"),\n",
    "        (pl.col(\"parent_hash\").is_null()).sum().alias(\"casts_count\"),\n",
    "    ])\n",
    ")"
   ]
  },
  {
   "cell_type": "code",
   "execution_count": 29,
   "id": "a9eaca7f-c607-4012-a762-0f3c95bfea2b",
   "metadata": {},
   "outputs": [],
   "source": [
    "casts_count_df = casts_count_lazy.collect()"
   ]
  },
  {
   "cell_type": "code",
   "execution_count": 30,
   "id": "9078c387-278b-447f-a788-c6974b9d7fcb",
   "metadata": {},
   "outputs": [
    {
     "data": {
      "text/html": [
       "<div><style>\n",
       ".dataframe > thead > tr,\n",
       ".dataframe > tbody > tr {\n",
       "  text-align: right;\n",
       "  white-space: pre-wrap;\n",
       "}\n",
       "</style>\n",
       "<small>shape: (493_840, 4)</small><table border=\"1\" class=\"dataframe\"><thead><tr><th>fid</th><th>total_casts_count</th><th>reply_casts_count</th><th>casts_count</th></tr><tr><td>i64</td><td>u32</td><td>u32</td><td>u32</td></tr></thead><tbody><tr><td>470492</td><td>19</td><td>5</td><td>14</td></tr><tr><td>501652</td><td>22</td><td>2</td><td>20</td></tr><tr><td>616114</td><td>17</td><td>0</td><td>17</td></tr><tr><td>699445</td><td>1</td><td>0</td><td>1</td></tr><tr><td>476649</td><td>82</td><td>61</td><td>21</td></tr><tr><td>&hellip;</td><td>&hellip;</td><td>&hellip;</td><td>&hellip;</td></tr><tr><td>628785</td><td>11</td><td>0</td><td>11</td></tr><tr><td>441067</td><td>7405</td><td>5539</td><td>1866</td></tr><tr><td>477911</td><td>6</td><td>3</td><td>3</td></tr><tr><td>208666</td><td>1</td><td>1</td><td>0</td></tr><tr><td>581205</td><td>2</td><td>1</td><td>1</td></tr></tbody></table></div>"
      ],
      "text/plain": [
       "shape: (493_840, 4)\n",
       "┌────────┬───────────────────┬───────────────────┬─────────────┐\n",
       "│ fid    ┆ total_casts_count ┆ reply_casts_count ┆ casts_count │\n",
       "│ ---    ┆ ---               ┆ ---               ┆ ---         │\n",
       "│ i64    ┆ u32               ┆ u32               ┆ u32         │\n",
       "╞════════╪═══════════════════╪═══════════════════╪═════════════╡\n",
       "│ 470492 ┆ 19                ┆ 5                 ┆ 14          │\n",
       "│ 501652 ┆ 22                ┆ 2                 ┆ 20          │\n",
       "│ 616114 ┆ 17                ┆ 0                 ┆ 17          │\n",
       "│ 699445 ┆ 1                 ┆ 0                 ┆ 1           │\n",
       "│ 476649 ┆ 82                ┆ 61                ┆ 21          │\n",
       "│ …      ┆ …                 ┆ …                 ┆ …           │\n",
       "│ 628785 ┆ 11                ┆ 0                 ┆ 11          │\n",
       "│ 441067 ┆ 7405              ┆ 5539              ┆ 1866        │\n",
       "│ 477911 ┆ 6                 ┆ 3                 ┆ 3           │\n",
       "│ 208666 ┆ 1                 ┆ 1                 ┆ 0           │\n",
       "│ 581205 ┆ 2                 ┆ 1                 ┆ 1           │\n",
       "└────────┴───────────────────┴───────────────────┴─────────────┘"
      ]
     },
     "execution_count": 30,
     "metadata": {},
     "output_type": "execute_result"
    }
   ],
   "source": [
    "casts_count_df"
   ]
  },
  {
   "cell_type": "code",
   "execution_count": 32,
   "id": "f7980da9-e15d-498a-b1ec-2c225a8a0e7e",
   "metadata": {},
   "outputs": [],
   "source": [
    "df = pl.read_parquet(f\"{DATA_PATH}/interim/aggregated_links_statistics.parquet\")"
   ]
  },
  {
   "cell_type": "code",
   "execution_count": 33,
   "id": "cc1242b4-a9f7-4e0e-8440-c7d65ce75784",
   "metadata": {},
   "outputs": [],
   "source": [
    "# df = df.drop([\"casts_count\",\"casts_count_right\"])\n",
    "# df"
   ]
  },
  {
   "cell_type": "code",
   "execution_count": 33,
   "id": "fa43c234-78fe-4976-b8f1-ee53ee73ee98",
   "metadata": {},
   "outputs": [
    {
     "data": {
      "text/html": [
       "<div><style>\n",
       ".dataframe > thead > tr,\n",
       ".dataframe > tbody > tr {\n",
       "  text-align: right;\n",
       "  white-space: pre-wrap;\n",
       "}\n",
       "</style>\n",
       "<small>shape: (10, 4)</small><table border=\"1\" class=\"dataframe\"><thead><tr><th>fid</th><th>total_casts_count</th><th>reply_casts_count</th><th>casts_count</th></tr><tr><td>i64</td><td>u32</td><td>u32</td><td>u32</td></tr></thead><tbody><tr><td>281643</td><td>104</td><td>86</td><td>18</td></tr><tr><td>858812</td><td>4</td><td>1</td><td>3</td></tr><tr><td>194271</td><td>11</td><td>2</td><td>9</td></tr><tr><td>532705</td><td>19</td><td>11</td><td>8</td></tr><tr><td>544849</td><td>31</td><td>5</td><td>26</td></tr><tr><td>190548</td><td>1</td><td>1</td><td>0</td></tr><tr><td>658884</td><td>4</td><td>3</td><td>1</td></tr><tr><td>561588</td><td>13</td><td>0</td><td>13</td></tr><tr><td>206909</td><td>3</td><td>3</td><td>0</td></tr><tr><td>577342</td><td>19</td><td>0</td><td>19</td></tr></tbody></table></div>"
      ],
      "text/plain": [
       "shape: (10, 4)\n",
       "┌────────┬───────────────────┬───────────────────┬─────────────┐\n",
       "│ fid    ┆ total_casts_count ┆ reply_casts_count ┆ casts_count │\n",
       "│ ---    ┆ ---               ┆ ---               ┆ ---         │\n",
       "│ i64    ┆ u32               ┆ u32               ┆ u32         │\n",
       "╞════════╪═══════════════════╪═══════════════════╪═════════════╡\n",
       "│ 281643 ┆ 104               ┆ 86                ┆ 18          │\n",
       "│ 858812 ┆ 4                 ┆ 1                 ┆ 3           │\n",
       "│ 194271 ┆ 11                ┆ 2                 ┆ 9           │\n",
       "│ 532705 ┆ 19                ┆ 11                ┆ 8           │\n",
       "│ 544849 ┆ 31                ┆ 5                 ┆ 26          │\n",
       "│ 190548 ┆ 1                 ┆ 1                 ┆ 0           │\n",
       "│ 658884 ┆ 4                 ┆ 3                 ┆ 1           │\n",
       "│ 561588 ┆ 13                ┆ 0                 ┆ 13          │\n",
       "│ 206909 ┆ 3                 ┆ 3                 ┆ 0           │\n",
       "│ 577342 ┆ 19                ┆ 0                 ┆ 19          │\n",
       "└────────┴───────────────────┴───────────────────┴─────────────┘"
      ]
     },
     "execution_count": 33,
     "metadata": {},
     "output_type": "execute_result"
    }
   ],
   "source": [
    "casts_count_df.sample(10)"
   ]
  },
  {
   "cell_type": "code",
   "execution_count": 34,
   "id": "c678bfd9-9385-4307-ac96-ec470e50f67d",
   "metadata": {},
   "outputs": [
    {
     "name": "stderr",
     "output_type": "stream",
     "text": [
      "/var/folders/k2/v9m0s0cn02j1r54h8qh_tf200000gn/T/ipykernel_85078/1565964652.py:1: DeprecationWarning: The default coalesce behavior of left join will change to `False` in the next breaking release. Pass `coalesce=True` to keep the current behavior and silence this warning.\n",
      "  result_df = df.join(casts_count_df, on=\"fid\", how=\"left\")\n"
     ]
    }
   ],
   "source": [
    "result_df = df.join(casts_count_df, on=\"fid\", how=\"left\")\n",
    "result_df = result_df.fill_null(0)"
   ]
  },
  {
   "cell_type": "code",
   "execution_count": 35,
   "id": "07a4a6c7-3abc-4236-9a30-38d7ecb2b33e",
   "metadata": {},
   "outputs": [],
   "source": [
    "result_df.write_parquet(f\"{DATA_PATH}/interim/aggregated_links_statistics.parquet\")"
   ]
  },
  {
   "cell_type": "code",
   "execution_count": 21,
   "id": "828f8c77-3286-42fa-a4da-8640e13a31f3",
   "metadata": {},
   "outputs": [],
   "source": [
    "# casts_by_fid = casts_lazy_df.filter((pl.col('fid')==400242) & (pl.col('deleted_at').is_null()))\n",
    "# result = casts_by_fid.collect()"
   ]
  },
  {
   "cell_type": "code",
   "execution_count": 20,
   "id": "562b1df0-693c-4932-a48f-47723deb12eb",
   "metadata": {},
   "outputs": [
    {
     "data": {
      "text/html": [
       "<div><style>\n",
       ".dataframe > thead > tr,\n",
       ".dataframe > tbody > tr {\n",
       "  text-align: right;\n",
       "  white-space: pre-wrap;\n",
       "}\n",
       "</style>\n",
       "<small>shape: (100_188, 16)</small><table border=\"1\" class=\"dataframe\"><thead><tr><th>created_at</th><th>updated_at</th><th>deleted_at</th><th>timestamp</th><th>fid</th><th>hash</th><th>parent_hash</th><th>parent_fid</th><th>parent_url</th><th>text</th><th>embeds</th><th>mentions</th><th>mentions_positions</th><th>root_parent_hash</th><th>root_parent_url</th><th>id</th></tr><tr><td>datetime[ns]</td><td>datetime[ns]</td><td>datetime[ns]</td><td>datetime[ns]</td><td>i64</td><td>binary</td><td>binary</td><td>i64</td><td>str</td><td>str</td><td>str</td><td>str</td><td>str</td><td>binary</td><td>str</td><td>i64</td></tr></thead><tbody><tr><td>2024-03-24 07:08:16.583831</td><td>2024-03-24 07:08:16.583831</td><td>null</td><td>2024-03-24 07:08:17</td><td>400242</td><td>b&quot;|\\xb7\\x8d\\xecx\\x982\\xd4`\\x913\\xdf\\xbd\\x1a\\xb1(}\\x85^(&quot;</td><td>null</td><td>null</td><td>&quot;https://warpcast.com/~/channel/toka&quot;</td><td>&quot;Mint this NFT by  completely onframe with $DEGEN or ETH&quot;</td><td>&quot;[{&quot;url&quot;: &quot;https://toka.lol/collect/base:0x6b1ce2699455a096fb617a0d1850467c827979d5/2&quot;}, {&quot;castId&quot;: {&quot;fid&quot;: 249927, &quot;hash&quot;: {&quot;data&quot;: [100, 232, 88, 29, 234, 12, 108, 32, 172, 164, 63, 14, 191, 130, 10, 24, 243, 47, 217, 182], &quot;type&quot;: &quot;Buffer&quot;}}}]&quot;</td><td>&quot;[249927]&quot;</td><td>&quot;[17]&quot;</td><td>b&quot;|\\xb7\\x8d\\xecx\\x982\\xd4`\\x913\\xdf\\xbd\\x1a\\xb1(}\\x85^(&quot;</td><td>&quot;https://warpcast.com/~/channel/toka&quot;</td><td>963501345</td></tr><tr><td>2024-03-24 07:08:24.584160</td><td>2024-03-24 07:08:24.584160</td><td>null</td><td>2024-03-24 07:08:25</td><td>400242</td><td>b&quot;\\xa2\\xa1\\xeaP\\xda\\xff\\xec\\x80\\xfd\\x9f%\\x0b\\xc3\\x9dG\\xaeN\\x8eN\\xef&quot;</td><td>null</td><td>null</td><td>&quot;https://warpcast.com/~/channel/toka&quot;</td><td>&quot;Mint this NFT by  completely onframe with $DEGEN or ETH&quot;</td><td>&quot;[{&quot;url&quot;: &quot;https://toka.lol/collect/base:0x82e30a63bccde3724877878a30c4977b52348198/1&quot;}, {&quot;castId&quot;: {&quot;fid&quot;: 281295, &quot;hash&quot;: {&quot;data&quot;: [249, 12, 49, 117, 91, 171, 69, 68, 160, 129, 113, 43, 196, 132, 220, 81, 130, 151, 32, 91], &quot;type&quot;: &quot;Buffer&quot;}}}]&quot;</td><td>&quot;[293263]&quot;</td><td>&quot;[17]&quot;</td><td>b&quot;\\xa2\\xa1\\xeaP\\xda\\xff\\xec\\x80\\xfd\\x9f%\\x0b\\xc3\\x9dG\\xaeN\\x8eN\\xef&quot;</td><td>&quot;https://warpcast.com/~/channel/toka&quot;</td><td>963505914</td></tr><tr><td>2024-03-24 07:09:02.292216</td><td>2024-03-24 07:09:02.292216</td><td>null</td><td>2024-03-24 07:09:02</td><td>400242</td><td>b&quot;\\xc8\\xf7;\\xa4\\xa8Q\\xf2\\xb2\\x9d\\xc6\\x87,-\\xbd{9\\xaaI\\xa8\\x0a&quot;</td><td>null</td><td>null</td><td>&quot;https://warpcast.com/~/channel/toka&quot;</td><td>&quot;Mint this NFT by  completely onframe with $DEGEN or ETH&quot;</td><td>&quot;[{&quot;url&quot;: &quot;https://toka.lol/collect/base:0x3972af0ebfa3ffbfa0913243a5540c18308a9ca9/1&quot;}, {&quot;castId&quot;: {&quot;fid&quot;: 292426, &quot;hash&quot;: {&quot;data&quot;: [220, 53, 3, 253, 197, 220, 63, 206, 157, 135, 236, 152, 212, 18, 140, 241, 107, 26, 178, 128], &quot;type&quot;: &quot;Buffer&quot;}}}]&quot;</td><td>&quot;[5860]&quot;</td><td>&quot;[17]&quot;</td><td>b&quot;\\xc8\\xf7;\\xa4\\xa8Q\\xf2\\xb2\\x9d\\xc6\\x87,-\\xbd{9\\xaaI\\xa8\\x0a&quot;</td><td>&quot;https://warpcast.com/~/channel/toka&quot;</td><td>963515943</td></tr><tr><td>2024-03-24 07:19:48.723145</td><td>2024-03-24 07:19:48.723145</td><td>null</td><td>2024-03-24 07:19:49</td><td>400242</td><td>b&quot;Y&#x27;\\x935\\xa4{\\x85y\\xb9Z\\xe69\\x1d!Y\\x84\\x95!\\x1c\\xdc&quot;</td><td>null</td><td>null</td><td>&quot;https://warpcast.com/~/channel/toka&quot;</td><td>&quot;Mint this NFT by  completely onframe with $DEGEN or ETH&quot;</td><td>&quot;[{&quot;url&quot;: &quot;https://toka.lol/collect/base:0x3f07b910f892fc1d19547d63ced91719dc595e7a/1&quot;}, {&quot;castId&quot;: {&quot;fid&quot;: 328795, &quot;hash&quot;: {&quot;data&quot;: [58, 203, 248, 180, 206, 40, 55, 255, 56, 98, 206, 175, 252, 1, 216, 62, 33, 80, 196, 127], &quot;type&quot;: &quot;Buffer&quot;}}}]&quot;</td><td>&quot;[328795]&quot;</td><td>&quot;[17]&quot;</td><td>b&quot;Y&#x27;\\x935\\xa4{\\x85y\\xb9Z\\xe69\\x1d!Y\\x84\\x95!\\x1c\\xdc&quot;</td><td>&quot;https://warpcast.com/~/channel/toka&quot;</td><td>963751753</td></tr><tr><td>2024-03-24 07:38:57.714247</td><td>2024-03-24 07:38:57.714247</td><td>null</td><td>2024-03-24 07:38:58</td><td>400242</td><td>b&quot;:\\xa1\\xbc\\x08\\xb5k\\xabl+=\\xe6{&lt;1\\xb0\\x0aZ\\xe1r\\x0f&quot;</td><td>null</td><td>null</td><td>&quot;https://warpcast.com/~/channel/toka&quot;</td><td>&quot;Mint this NFT by  completely onframe with $DEGEN or ETH&quot;</td><td>&quot;[{&quot;url&quot;: &quot;https://toka.lol/collect/base:0x2d8f5a5530e6e8c0b53f2c39947cf0b3229cedeb/1&quot;}, {&quot;castId&quot;: {&quot;fid&quot;: 236715, &quot;hash&quot;: {&quot;data&quot;: [96, 190, 80, 213, 203, 203, 58, 43, 92, 175, 228, 192, 28, 9, 66, 60, 164, 45, 182, 249], &quot;type&quot;: &quot;Buffer&quot;}}}]&quot;</td><td>&quot;[236670]&quot;</td><td>&quot;[17]&quot;</td><td>b&quot;:\\xa1\\xbc\\x08\\xb5k\\xabl+=\\xe6{&lt;1\\xb0\\x0aZ\\xe1r\\x0f&quot;</td><td>&quot;https://warpcast.com/~/channel/toka&quot;</td><td>964171868</td></tr><tr><td>&hellip;</td><td>&hellip;</td><td>&hellip;</td><td>&hellip;</td><td>&hellip;</td><td>&hellip;</td><td>&hellip;</td><td>&hellip;</td><td>&hellip;</td><td>&hellip;</td><td>&hellip;</td><td>&hellip;</td><td>&hellip;</td><td>&hellip;</td><td>&hellip;</td><td>&hellip;</td></tr><tr><td>2024-10-03 16:40:05.725472</td><td>2024-10-03 16:40:05.725472</td><td>null</td><td>2024-10-03 16:40:06</td><td>400242</td><td>b&quot;\\xe5\\x8b\\x90\\x84)\\xc8\\x98\\x1b\\xd1\\x80bd\\xceY\\xb6\\xb0\\xf3\\x05}\\xda&quot;</td><td>null</td><td>null</td><td>&quot;https://warpcast.com/~/channel/toka&quot;</td><td>&quot;Mint this NFT by  completely onframe&quot;</td><td>&quot;[{&quot;url&quot;: &quot;https://toka.lol/collect/base:0x53dc7139cb12aaff78e9cea97fca9fcbdc08d8db/1&quot;}, {&quot;castId&quot;: {&quot;fid&quot;: 218753, &quot;hash&quot;: {&quot;data&quot;: [181, 116, 50, 46, 40, 200, 251, 73, 131, 171, 9, 164, 132, 255, 223, 223, 200, 29, 181, 189], &quot;type&quot;: &quot;Buffer&quot;}}}]&quot;</td><td>&quot;[415590]&quot;</td><td>&quot;[17]&quot;</td><td>b&quot;\\xe5\\x8b\\x90\\x84)\\xc8\\x98\\x1b\\xd1\\x80bd\\xceY\\xb6\\xb0\\xf3\\x05}\\xda&quot;</td><td>&quot;https://warpcast.com/~/channel/toka&quot;</td><td>5859307470</td></tr><tr><td>2024-10-03 16:41:34.950593</td><td>2024-10-03 16:41:34.950593</td><td>null</td><td>2024-10-03 16:41:35</td><td>400242</td><td>b&quot;\\xed=\\x85\\x89\\xeb\\x89\\xe8*\\x1d\\xa6P\\x83\\xe6[\\xc9\\x1af\\x87IA&quot;</td><td>null</td><td>null</td><td>&quot;https://warpcast.com/~/channel/toka&quot;</td><td>&quot;Mint this NFT by  completely onframe&quot;</td><td>&quot;[{&quot;url&quot;: &quot;https://toka.lol/collect/zora:0xaaa3a3c3a1c03b3bc869d4a13d31a158ab49a323/1&quot;}, {&quot;castId&quot;: {&quot;fid&quot;: 441555, &quot;hash&quot;: {&quot;data&quot;: [55, 201, 4, 140, 131, 56, 21, 135, 178, 98, 145, 204, 125, 90, 230, 96, 74, 176, 229, 161], &quot;type&quot;: &quot;Buffer&quot;}}}]&quot;</td><td>&quot;[796850]&quot;</td><td>&quot;[17]&quot;</td><td>b&quot;\\xed=\\x85\\x89\\xeb\\x89\\xe8*\\x1d\\xa6P\\x83\\xe6[\\xc9\\x1af\\x87IA&quot;</td><td>&quot;https://warpcast.com/~/channel/toka&quot;</td><td>5859308158</td></tr><tr><td>2024-10-03 16:43:20.408571</td><td>2024-10-03 16:43:20.408571</td><td>null</td><td>2024-10-03 16:43:20</td><td>400242</td><td>b&quot;\\xf6v\\xa7\\x12\\xcb\\x1d\\xcb\\xa0\\xf4\\xbfm\\xd5\\xc2\\x0a|\\xb6ni\\xa8o&quot;</td><td>null</td><td>null</td><td>&quot;https://warpcast.com/~/channel/toka&quot;</td><td>&quot;Mint this NFT completely onframe&quot;</td><td>&quot;[{&quot;url&quot;: &quot;https://toka.lol/collect/zora:0x3af1c9a4a51b3605beb963a99482deddaf143c66/44&quot;}, {&quot;castId&quot;: {&quot;fid&quot;: 415950, &quot;hash&quot;: {&quot;data&quot;: [221, 159, 167, 84, 133, 178, 177, 249, 48, 6, 26, 29, 172, 234, 108, 11, 132, 12, 180, 166], &quot;type&quot;: &quot;Buffer&quot;}}}]&quot;</td><td>&quot;[]&quot;</td><td>&quot;[]&quot;</td><td>b&quot;\\xf6v\\xa7\\x12\\xcb\\x1d\\xcb\\xa0\\xf4\\xbfm\\xd5\\xc2\\x0a|\\xb6ni\\xa8o&quot;</td><td>&quot;https://warpcast.com/~/channel/toka&quot;</td><td>5859308927</td></tr><tr><td>2024-10-03 16:55:22.416695</td><td>2024-10-03 16:55:22.416695</td><td>null</td><td>2024-10-03 16:55:22</td><td>400242</td><td>b&quot;\\x1ar\\xb7*\\x1f\\x1d\\xab\\xa3\\x0c\\xc9G\\x00\\xed_\\xccV\\xa7\\xa4\\xad\\x88&quot;</td><td>null</td><td>null</td><td>&quot;https://warpcast.com/~/channel/toka&quot;</td><td>&quot;Mint this NFT by  completely onframe&quot;</td><td>&quot;[{&quot;url&quot;: &quot;https://toka.lol/collect/zora:0xbc4cd5ea817d5db5208d448cffdc1cb735f2c57a/1&quot;}, {&quot;castId&quot;: {&quot;fid&quot;: 434522, &quot;hash&quot;: {&quot;data&quot;: [50, 217, 44, 126, 22, 104, 228, 174, 42, 226, 235, 113, 32, 59, 208, 34, 247, 224, 39, 198], &quot;type&quot;: &quot;Buffer&quot;}}}]&quot;</td><td>&quot;[434522]&quot;</td><td>&quot;[17]&quot;</td><td>b&quot;\\x1ar\\xb7*\\x1f\\x1d\\xab\\xa3\\x0c\\xc9G\\x00\\xed_\\xccV\\xa7\\xa4\\xad\\x88&quot;</td><td>&quot;https://warpcast.com/~/channel/toka&quot;</td><td>5859314522</td></tr><tr><td>2024-10-03 16:56:57.176093</td><td>2024-10-03 16:56:57.176093</td><td>null</td><td>2024-10-03 16:56:57</td><td>400242</td><td>b&quot;\\x9aW[\\x0cM\\x0c}\\x8c\\x9f`\\x99.\\xba/\\x83&lt;}~V\\x18&quot;</td><td>null</td><td>null</td><td>&quot;https://warpcast.com/~/channel/toka&quot;</td><td>&quot;Mint this NFT by  completely onframe&quot;</td><td>&quot;[{&quot;url&quot;: &quot;https://toka.lol/collect/zora:0x258d39e9a007bf4ae1e4312a944a24e194299c4e/1&quot;}, {&quot;castId&quot;: {&quot;fid&quot;: 787999, &quot;hash&quot;: {&quot;data&quot;: [59, 164, 42, 226, 36, 74, 150, 208, 89, 214, 190, 135, 245, 39, 156, 136, 105, 47, 26, 250], &quot;type&quot;: &quot;Buffer&quot;}}}]&quot;</td><td>&quot;[787999]&quot;</td><td>&quot;[17]&quot;</td><td>b&quot;\\x9aW[\\x0cM\\x0c}\\x8c\\x9f`\\x99.\\xba/\\x83&lt;}~V\\x18&quot;</td><td>&quot;https://warpcast.com/~/channel/toka&quot;</td><td>5859315266</td></tr></tbody></table></div>"
      ],
      "text/plain": [
       "shape: (100_188, 16)\n",
       "┌───────────┬───────────┬───────────┬───────────┬───┬───────────┬───────────┬───────────┬──────────┐\n",
       "│ created_a ┆ updated_a ┆ deleted_a ┆ timestamp ┆ … ┆ mentions_ ┆ root_pare ┆ root_pare ┆ id       │\n",
       "│ t         ┆ t         ┆ t         ┆ ---       ┆   ┆ positions ┆ nt_hash   ┆ nt_url    ┆ ---      │\n",
       "│ ---       ┆ ---       ┆ ---       ┆ datetime[ ┆   ┆ ---       ┆ ---       ┆ ---       ┆ i64      │\n",
       "│ datetime[ ┆ datetime[ ┆ datetime[ ┆ ns]       ┆   ┆ str       ┆ binary    ┆ str       ┆          │\n",
       "│ ns]       ┆ ns]       ┆ ns]       ┆           ┆   ┆           ┆           ┆           ┆          │\n",
       "╞═══════════╪═══════════╪═══════════╪═══════════╪═══╪═══════════╪═══════════╪═══════════╪══════════╡\n",
       "│ 2024-03-2 ┆ 2024-03-2 ┆ null      ┆ 2024-03-2 ┆ … ┆ [17]      ┆ b\"|\\xb7\\x ┆ https://w ┆ 96350134 │\n",
       "│ 4 07:08:1 ┆ 4 07:08:1 ┆           ┆ 4         ┆   ┆           ┆ 8d\\xecx\\x ┆ arpcast.c ┆ 5        │\n",
       "│ 6.583831  ┆ 6.583831  ┆           ┆ 07:08:17  ┆   ┆           ┆ 982\\xd4`\\ ┆ om/~/chan ┆          │\n",
       "│           ┆           ┆           ┆           ┆   ┆           ┆ x913\\xdf\\ ┆ nel/toka  ┆          │\n",
       "│           ┆           ┆           ┆           ┆   ┆           ┆ xbd\\x1a\\x ┆           ┆          │\n",
       "│           ┆           ┆           ┆           ┆   ┆           ┆ b1(}\\x85^ ┆           ┆          │\n",
       "│           ┆           ┆           ┆           ┆   ┆           ┆ (\"        ┆           ┆          │\n",
       "│ 2024-03-2 ┆ 2024-03-2 ┆ null      ┆ 2024-03-2 ┆ … ┆ [17]      ┆ b\"\\xa2\\xa ┆ https://w ┆ 96350591 │\n",
       "│ 4 07:08:2 ┆ 4 07:08:2 ┆           ┆ 4         ┆   ┆           ┆ 1\\xeaP\\xd ┆ arpcast.c ┆ 4        │\n",
       "│ 4.584160  ┆ 4.584160  ┆           ┆ 07:08:25  ┆   ┆           ┆ a\\xff\\xec ┆ om/~/chan ┆          │\n",
       "│           ┆           ┆           ┆           ┆   ┆           ┆ \\x80\\xfd\\ ┆ nel/toka  ┆          │\n",
       "│           ┆           ┆           ┆           ┆   ┆           ┆ x9f%\\x0b\\ ┆           ┆          │\n",
       "│           ┆           ┆           ┆           ┆   ┆           ┆ xc3\\x9dG\\ ┆           ┆          │\n",
       "│           ┆           ┆           ┆           ┆   ┆           ┆ xaeN\\x8eN ┆           ┆          │\n",
       "│           ┆           ┆           ┆           ┆   ┆           ┆ \\xef\"     ┆           ┆          │\n",
       "│ 2024-03-2 ┆ 2024-03-2 ┆ null      ┆ 2024-03-2 ┆ … ┆ [17]      ┆ b\"\\xc8\\xf ┆ https://w ┆ 96351594 │\n",
       "│ 4 07:09:0 ┆ 4 07:09:0 ┆           ┆ 4         ┆   ┆           ┆ 7;\\xa4\\xa ┆ arpcast.c ┆ 3        │\n",
       "│ 2.292216  ┆ 2.292216  ┆           ┆ 07:09:02  ┆   ┆           ┆ 8Q\\xf2\\xb ┆ om/~/chan ┆          │\n",
       "│           ┆           ┆           ┆           ┆   ┆           ┆ 2\\x9d\\xc6 ┆ nel/toka  ┆          │\n",
       "│           ┆           ┆           ┆           ┆   ┆           ┆ \\x87,-\\xb ┆           ┆          │\n",
       "│           ┆           ┆           ┆           ┆   ┆           ┆ d{9\\xaaI\\ ┆           ┆          │\n",
       "│           ┆           ┆           ┆           ┆   ┆           ┆ xa8\\x0a\"  ┆           ┆          │\n",
       "│ 2024-03-2 ┆ 2024-03-2 ┆ null      ┆ 2024-03-2 ┆ … ┆ [17]      ┆ b\"Y'\\x935 ┆ https://w ┆ 96375175 │\n",
       "│ 4 07:19:4 ┆ 4 07:19:4 ┆           ┆ 4         ┆   ┆           ┆ \\xa4{\\x85 ┆ arpcast.c ┆ 3        │\n",
       "│ 8.723145  ┆ 8.723145  ┆           ┆ 07:19:49  ┆   ┆           ┆ y\\xb9Z\\xe ┆ om/~/chan ┆          │\n",
       "│           ┆           ┆           ┆           ┆   ┆           ┆ 69\\x1d!Y\\ ┆ nel/toka  ┆          │\n",
       "│           ┆           ┆           ┆           ┆   ┆           ┆ x84\\x95!\\ ┆           ┆          │\n",
       "│           ┆           ┆           ┆           ┆   ┆           ┆ x1c\\xdc\"  ┆           ┆          │\n",
       "│ 2024-03-2 ┆ 2024-03-2 ┆ null      ┆ 2024-03-2 ┆ … ┆ [17]      ┆ b\":\\xa1\\x ┆ https://w ┆ 96417186 │\n",
       "│ 4 07:38:5 ┆ 4 07:38:5 ┆           ┆ 4         ┆   ┆           ┆ bc\\x08\\xb ┆ arpcast.c ┆ 8        │\n",
       "│ 7.714247  ┆ 7.714247  ┆           ┆ 07:38:58  ┆   ┆           ┆ 5k\\xabl+= ┆ om/~/chan ┆          │\n",
       "│           ┆           ┆           ┆           ┆   ┆           ┆ \\xe6{<1\\x ┆ nel/toka  ┆          │\n",
       "│           ┆           ┆           ┆           ┆   ┆           ┆ b0\\x0aZ\\x ┆           ┆          │\n",
       "│           ┆           ┆           ┆           ┆   ┆           ┆ e1r\\x0f\"  ┆           ┆          │\n",
       "│ …         ┆ …         ┆ …         ┆ …         ┆ … ┆ …         ┆ …         ┆ …         ┆ …        │\n",
       "│ 2024-10-0 ┆ 2024-10-0 ┆ null      ┆ 2024-10-0 ┆ … ┆ [17]      ┆ b\"\\xe5\\x8 ┆ https://w ┆ 58593074 │\n",
       "│ 3 16:40:0 ┆ 3 16:40:0 ┆           ┆ 3         ┆   ┆           ┆ b\\x90\\x84 ┆ arpcast.c ┆ 70       │\n",
       "│ 5.725472  ┆ 5.725472  ┆           ┆ 16:40:06  ┆   ┆           ┆ )\\xc8\\x98 ┆ om/~/chan ┆          │\n",
       "│           ┆           ┆           ┆           ┆   ┆           ┆ \\x1b\\xd1\\ ┆ nel/toka  ┆          │\n",
       "│           ┆           ┆           ┆           ┆   ┆           ┆ x80bd\\xce ┆           ┆          │\n",
       "│           ┆           ┆           ┆           ┆   ┆           ┆ Y\\xb6\\xb0 ┆           ┆          │\n",
       "│           ┆           ┆           ┆           ┆   ┆           ┆ \\xf3\\x05} ┆           ┆          │\n",
       "│           ┆           ┆           ┆           ┆   ┆           ┆ \\xda\"     ┆           ┆          │\n",
       "│ 2024-10-0 ┆ 2024-10-0 ┆ null      ┆ 2024-10-0 ┆ … ┆ [17]      ┆ b\"\\xed=\\x ┆ https://w ┆ 58593081 │\n",
       "│ 3 16:41:3 ┆ 3 16:41:3 ┆           ┆ 3         ┆   ┆           ┆ 85\\x89\\xe ┆ arpcast.c ┆ 58       │\n",
       "│ 4.950593  ┆ 4.950593  ┆           ┆ 16:41:35  ┆   ┆           ┆ b\\x89\\xe8 ┆ om/~/chan ┆          │\n",
       "│           ┆           ┆           ┆           ┆   ┆           ┆ *\\x1d\\xa6 ┆ nel/toka  ┆          │\n",
       "│           ┆           ┆           ┆           ┆   ┆           ┆ P\\x83\\xe6 ┆           ┆          │\n",
       "│           ┆           ┆           ┆           ┆   ┆           ┆ [\\xc9\\x1a ┆           ┆          │\n",
       "│           ┆           ┆           ┆           ┆   ┆           ┆ f\\x87IA\"  ┆           ┆          │\n",
       "│ 2024-10-0 ┆ 2024-10-0 ┆ null      ┆ 2024-10-0 ┆ … ┆ []        ┆ b\"\\xf6v\\x ┆ https://w ┆ 58593089 │\n",
       "│ 3 16:43:2 ┆ 3 16:43:2 ┆           ┆ 3         ┆   ┆           ┆ a7\\x12\\xc ┆ arpcast.c ┆ 27       │\n",
       "│ 0.408571  ┆ 0.408571  ┆           ┆ 16:43:20  ┆   ┆           ┆ b\\x1d\\xcb ┆ om/~/chan ┆          │\n",
       "│           ┆           ┆           ┆           ┆   ┆           ┆ \\xa0\\xf4\\ ┆ nel/toka  ┆          │\n",
       "│           ┆           ┆           ┆           ┆   ┆           ┆ xbfm\\xd5\\ ┆           ┆          │\n",
       "│           ┆           ┆           ┆           ┆   ┆           ┆ xc2\\x0a|\\ ┆           ┆          │\n",
       "│           ┆           ┆           ┆           ┆   ┆           ┆ xb6ni\\xa8 ┆           ┆          │\n",
       "│           ┆           ┆           ┆           ┆   ┆           ┆ o\"        ┆           ┆          │\n",
       "│ 2024-10-0 ┆ 2024-10-0 ┆ null      ┆ 2024-10-0 ┆ … ┆ [17]      ┆ b\"\\x1ar\\x ┆ https://w ┆ 58593145 │\n",
       "│ 3 16:55:2 ┆ 3 16:55:2 ┆           ┆ 3         ┆   ┆           ┆ b7*\\x1f\\x ┆ arpcast.c ┆ 22       │\n",
       "│ 2.416695  ┆ 2.416695  ┆           ┆ 16:55:22  ┆   ┆           ┆ 1d\\xab\\xa ┆ om/~/chan ┆          │\n",
       "│           ┆           ┆           ┆           ┆   ┆           ┆ 3\\x0c\\xc9 ┆ nel/toka  ┆          │\n",
       "│           ┆           ┆           ┆           ┆   ┆           ┆ G\\x00\\xed ┆           ┆          │\n",
       "│           ┆           ┆           ┆           ┆   ┆           ┆ _\\xccV\\xa ┆           ┆          │\n",
       "│           ┆           ┆           ┆           ┆   ┆           ┆ 7\\xa4\\xad ┆           ┆          │\n",
       "│           ┆           ┆           ┆           ┆   ┆           ┆ \\x88\"     ┆           ┆          │\n",
       "│ 2024-10-0 ┆ 2024-10-0 ┆ null      ┆ 2024-10-0 ┆ … ┆ [17]      ┆ b\"\\x9aW[\\ ┆ https://w ┆ 58593152 │\n",
       "│ 3 16:56:5 ┆ 3 16:56:5 ┆           ┆ 3         ┆   ┆           ┆ x0cM\\x0c} ┆ arpcast.c ┆ 66       │\n",
       "│ 7.176093  ┆ 7.176093  ┆           ┆ 16:56:57  ┆   ┆           ┆ \\x8c\\x9f` ┆ om/~/chan ┆          │\n",
       "│           ┆           ┆           ┆           ┆   ┆           ┆ \\x99.\\xba ┆ nel/toka  ┆          │\n",
       "│           ┆           ┆           ┆           ┆   ┆           ┆ /\\x83<}~V ┆           ┆          │\n",
       "│           ┆           ┆           ┆           ┆   ┆           ┆ \\x18\"     ┆           ┆          │\n",
       "└───────────┴───────────┴───────────┴───────────┴───┴───────────┴───────────┴───────────┴──────────┘"
      ]
     },
     "execution_count": 20,
     "metadata": {},
     "output_type": "execute_result"
    }
   ],
   "source": [
    "# result.filter(~pl.col(\"root_parent_url\").str.contains(\"https://warpcast.com/~/channel\"))"
   ]
  },
  {
   "cell_type": "code",
   "execution_count": 11,
   "id": "72fed7a2-044a-43a9-91e3-3378ce099ed0",
   "metadata": {},
   "outputs": [
    {
     "data": {
      "text/plain": [
       "'ed3d8589eb89e82a1da65083e65bc91a66874941'"
      ]
     },
     "execution_count": 11,
     "metadata": {},
     "output_type": "execute_result"
    }
   ],
   "source": [
    "# b\"\\xed=\\x85\\x89\\xeb\\x89\\xe8*\\x1d\\xa6P\\x83\\xe6[\\xc9\\x1af\\x87IA\"\t.hex()"
   ]
  },
  {
   "cell_type": "code",
   "execution_count": 23,
   "id": "16a42749-53f9-4fa6-9356-4e21fe891e8b",
   "metadata": {},
   "outputs": [],
   "source": [
    "df_filtered = links_df.filter(\n",
    "            (pl.col(\"deleted_at\").is_null()) & \n",
    "            (pl.col(\"fid\") != pl.col(\"target_fid\")) & \n",
    "            (pl.col(\"type\") == \"follow\")\n",
    "        ).select([\n",
    "            \"fid\", \"target_fid\"\n",
    "        ])"
   ]
  },
  {
   "cell_type": "code",
   "execution_count": 24,
   "id": "8faa6a7b-4f8a-4219-acb3-3648acc213f2",
   "metadata": {},
   "outputs": [
    {
     "ename": "KeyboardInterrupt",
     "evalue": "",
     "output_type": "error",
     "traceback": [
      "\u001b[0;31m---------------------------------------------------------------------------\u001b[0m",
      "\u001b[0;31mKeyboardInterrupt\u001b[0m                         Traceback (most recent call last)",
      "Cell \u001b[0;32mIn[24], line 1\u001b[0m\n\u001b[0;32m----> 1\u001b[0m mutual_links \u001b[38;5;241m=\u001b[39m \u001b[43mdf_filtered\u001b[49m\u001b[38;5;241;43m.\u001b[39;49m\u001b[43mjoin\u001b[49m\u001b[43m(\u001b[49m\n\u001b[1;32m      2\u001b[0m \u001b[43m    \u001b[49m\u001b[43mdf_filtered\u001b[49m\u001b[43m,\u001b[49m\n\u001b[1;32m      3\u001b[0m \u001b[43m    \u001b[49m\u001b[43mleft_on\u001b[49m\u001b[38;5;241;43m=\u001b[39;49m\u001b[43m[\u001b[49m\u001b[38;5;124;43m\"\u001b[39;49m\u001b[38;5;124;43mfid\u001b[39;49m\u001b[38;5;124;43m\"\u001b[39;49m\u001b[43m,\u001b[49m\u001b[43m \u001b[49m\u001b[38;5;124;43m\"\u001b[39;49m\u001b[38;5;124;43mtarget_fid\u001b[39;49m\u001b[38;5;124;43m\"\u001b[39;49m\u001b[43m]\u001b[49m\u001b[43m,\u001b[49m\n\u001b[1;32m      4\u001b[0m \u001b[43m    \u001b[49m\u001b[43mright_on\u001b[49m\u001b[38;5;241;43m=\u001b[39;49m\u001b[43m[\u001b[49m\u001b[38;5;124;43m\"\u001b[39;49m\u001b[38;5;124;43mtarget_fid\u001b[39;49m\u001b[38;5;124;43m\"\u001b[39;49m\u001b[43m,\u001b[49m\u001b[43m \u001b[49m\u001b[38;5;124;43m\"\u001b[39;49m\u001b[38;5;124;43mfid\u001b[39;49m\u001b[38;5;124;43m\"\u001b[39;49m\u001b[43m]\u001b[49m\u001b[43m,\u001b[49m\n\u001b[1;32m      5\u001b[0m \u001b[43m    \u001b[49m\u001b[43msuffix\u001b[49m\u001b[38;5;241;43m=\u001b[39;49m\u001b[38;5;124;43m\"\u001b[39;49m\u001b[38;5;124;43m_reverse\u001b[39;49m\u001b[38;5;124;43m\"\u001b[39;49m\n\u001b[1;32m      6\u001b[0m \u001b[43m)\u001b[49m\n",
      "File \u001b[0;32m~/.asdf/installs/python/3.10.5/lib/python3.10/site-packages/polars/dataframe/frame.py:7125\u001b[0m, in \u001b[0;36mDataFrame.join\u001b[0;34m(self, other, on, how, left_on, right_on, suffix, validate, join_nulls, coalesce)\u001b[0m\n\u001b[1;32m   7121\u001b[0m     msg \u001b[38;5;241m=\u001b[39m \u001b[38;5;124mf\u001b[39m\u001b[38;5;124m\"\u001b[39m\u001b[38;5;124mexpected `other` join table to be a DataFrame, got \u001b[39m\u001b[38;5;132;01m{\u001b[39;00m\u001b[38;5;28mtype\u001b[39m(other)\u001b[38;5;241m.\u001b[39m\u001b[38;5;18m__name__\u001b[39m\u001b[38;5;132;01m!r}\u001b[39;00m\u001b[38;5;124m\"\u001b[39m\n\u001b[1;32m   7122\u001b[0m     \u001b[38;5;28;01mraise\u001b[39;00m \u001b[38;5;167;01mTypeError\u001b[39;00m(msg)\n\u001b[1;32m   7124\u001b[0m \u001b[38;5;28;01mreturn\u001b[39;00m (\n\u001b[0;32m-> 7125\u001b[0m     \u001b[38;5;28;43mself\u001b[39;49m\u001b[38;5;241;43m.\u001b[39;49m\u001b[43mlazy\u001b[49m\u001b[43m(\u001b[49m\u001b[43m)\u001b[49m\n\u001b[1;32m   7126\u001b[0m \u001b[43m    \u001b[49m\u001b[38;5;241;43m.\u001b[39;49m\u001b[43mjoin\u001b[49m\u001b[43m(\u001b[49m\n\u001b[1;32m   7127\u001b[0m \u001b[43m        \u001b[49m\u001b[43mother\u001b[49m\u001b[38;5;241;43m=\u001b[39;49m\u001b[43mother\u001b[49m\u001b[38;5;241;43m.\u001b[39;49m\u001b[43mlazy\u001b[49m\u001b[43m(\u001b[49m\u001b[43m)\u001b[49m\u001b[43m,\u001b[49m\n\u001b[1;32m   7128\u001b[0m \u001b[43m        \u001b[49m\u001b[43mleft_on\u001b[49m\u001b[38;5;241;43m=\u001b[39;49m\u001b[43mleft_on\u001b[49m\u001b[43m,\u001b[49m\n\u001b[1;32m   7129\u001b[0m \u001b[43m        \u001b[49m\u001b[43mright_on\u001b[49m\u001b[38;5;241;43m=\u001b[39;49m\u001b[43mright_on\u001b[49m\u001b[43m,\u001b[49m\n\u001b[1;32m   7130\u001b[0m \u001b[43m        \u001b[49m\u001b[43mon\u001b[49m\u001b[38;5;241;43m=\u001b[39;49m\u001b[43mon\u001b[49m\u001b[43m,\u001b[49m\n\u001b[1;32m   7131\u001b[0m \u001b[43m        \u001b[49m\u001b[43mhow\u001b[49m\u001b[38;5;241;43m=\u001b[39;49m\u001b[43mhow\u001b[49m\u001b[43m,\u001b[49m\n\u001b[1;32m   7132\u001b[0m \u001b[43m        \u001b[49m\u001b[43msuffix\u001b[49m\u001b[38;5;241;43m=\u001b[39;49m\u001b[43msuffix\u001b[49m\u001b[43m,\u001b[49m\n\u001b[1;32m   7133\u001b[0m \u001b[43m        \u001b[49m\u001b[43mvalidate\u001b[49m\u001b[38;5;241;43m=\u001b[39;49m\u001b[43mvalidate\u001b[49m\u001b[43m,\u001b[49m\n\u001b[1;32m   7134\u001b[0m \u001b[43m        \u001b[49m\u001b[43mjoin_nulls\u001b[49m\u001b[38;5;241;43m=\u001b[39;49m\u001b[43mjoin_nulls\u001b[49m\u001b[43m,\u001b[49m\n\u001b[1;32m   7135\u001b[0m \u001b[43m        \u001b[49m\u001b[43mcoalesce\u001b[49m\u001b[38;5;241;43m=\u001b[39;49m\u001b[43mcoalesce\u001b[49m\u001b[43m,\u001b[49m\n\u001b[1;32m   7136\u001b[0m \u001b[43m    \u001b[49m\u001b[43m)\u001b[49m\n\u001b[1;32m   7137\u001b[0m \u001b[43m    \u001b[49m\u001b[38;5;241;43m.\u001b[39;49m\u001b[43mcollect\u001b[49m\u001b[43m(\u001b[49m\u001b[43m_eager\u001b[49m\u001b[38;5;241;43m=\u001b[39;49m\u001b[38;5;28;43;01mTrue\u001b[39;49;00m\u001b[43m)\u001b[49m\n\u001b[1;32m   7138\u001b[0m )\n",
      "File \u001b[0;32m~/.asdf/installs/python/3.10.5/lib/python3.10/site-packages/polars/lazyframe/frame.py:2050\u001b[0m, in \u001b[0;36mLazyFrame.collect\u001b[0;34m(self, type_coercion, predicate_pushdown, projection_pushdown, simplify_expression, slice_pushdown, comm_subplan_elim, comm_subexpr_elim, cluster_with_columns, collapse_joins, no_optimization, streaming, engine, background, _eager, **_kwargs)\u001b[0m\n\u001b[1;32m   2048\u001b[0m \u001b[38;5;66;03m# Only for testing purposes\u001b[39;00m\n\u001b[1;32m   2049\u001b[0m callback \u001b[38;5;241m=\u001b[39m _kwargs\u001b[38;5;241m.\u001b[39mget(\u001b[38;5;124m\"\u001b[39m\u001b[38;5;124mpost_opt_callback\u001b[39m\u001b[38;5;124m\"\u001b[39m, callback)\n\u001b[0;32m-> 2050\u001b[0m \u001b[38;5;28;01mreturn\u001b[39;00m wrap_df(\u001b[43mldf\u001b[49m\u001b[38;5;241;43m.\u001b[39;49m\u001b[43mcollect\u001b[49m\u001b[43m(\u001b[49m\u001b[43mcallback\u001b[49m\u001b[43m)\u001b[49m)\n",
      "\u001b[0;31mKeyboardInterrupt\u001b[0m: "
     ]
    }
   ],
   "source": [
    "mutual_links = df_filtered.join(\n",
    "    df_filtered,\n",
    "    left_on=[\"fid\", \"target_fid\"],\n",
    "    right_on=[\"target_fid\", \"fid\"],\n",
    "    suffix=\"_reverse\"\n",
    ")"
   ]
  },
  {
   "cell_type": "code",
   "execution_count": 25,
   "id": "25e77f65-355a-41b9-8eb7-53cd2e9ebce1",
   "metadata": {},
   "outputs": [
    {
     "ename": "ComputeError",
     "evalue": "cannot cast numeric types to 'Categorical'",
     "output_type": "error",
     "traceback": [
      "\u001b[0;31m---------------------------------------------------------------------------\u001b[0m",
      "\u001b[0;31mComputeError\u001b[0m                              Traceback (most recent call last)",
      "Cell \u001b[0;32mIn[25], line 1\u001b[0m\n\u001b[0;32m----> 1\u001b[0m df_filtered \u001b[38;5;241m=\u001b[39m \u001b[43mdf_filtered\u001b[49m\u001b[38;5;241;43m.\u001b[39;49m\u001b[43mwith_columns\u001b[49m\u001b[43m(\u001b[49m\u001b[43m[\u001b[49m\n\u001b[1;32m      2\u001b[0m \u001b[43m        \u001b[49m\u001b[43mpl\u001b[49m\u001b[38;5;241;43m.\u001b[39;49m\u001b[43mcol\u001b[49m\u001b[43m(\u001b[49m\u001b[38;5;124;43m\"\u001b[39;49m\u001b[38;5;124;43mfid\u001b[39;49m\u001b[38;5;124;43m\"\u001b[39;49m\u001b[43m)\u001b[49m\u001b[38;5;241;43m.\u001b[39;49m\u001b[43mcast\u001b[49m\u001b[43m(\u001b[49m\u001b[43mpl\u001b[49m\u001b[38;5;241;43m.\u001b[39;49m\u001b[43mCategorical\u001b[49m\u001b[43m)\u001b[49m\u001b[43m,\u001b[49m\n\u001b[1;32m      3\u001b[0m \u001b[43m        \u001b[49m\u001b[43mpl\u001b[49m\u001b[38;5;241;43m.\u001b[39;49m\u001b[43mcol\u001b[49m\u001b[43m(\u001b[49m\u001b[38;5;124;43m\"\u001b[39;49m\u001b[38;5;124;43mtarget_fid\u001b[39;49m\u001b[38;5;124;43m\"\u001b[39;49m\u001b[43m)\u001b[49m\u001b[38;5;241;43m.\u001b[39;49m\u001b[43mcast\u001b[49m\u001b[43m(\u001b[49m\u001b[43mpl\u001b[49m\u001b[38;5;241;43m.\u001b[39;49m\u001b[43mCategorical\u001b[49m\u001b[43m)\u001b[49m\n\u001b[1;32m      4\u001b[0m \u001b[43m    \u001b[49m\u001b[43m]\u001b[49m\u001b[43m)\u001b[49m\n",
      "File \u001b[0;32m~/.asdf/installs/python/3.10.5/lib/python3.10/site-packages/polars/dataframe/frame.py:9183\u001b[0m, in \u001b[0;36mDataFrame.with_columns\u001b[0;34m(self, *exprs, **named_exprs)\u001b[0m\n\u001b[1;32m   9037\u001b[0m \u001b[38;5;28;01mdef\u001b[39;00m \u001b[38;5;21mwith_columns\u001b[39m(\n\u001b[1;32m   9038\u001b[0m     \u001b[38;5;28mself\u001b[39m,\n\u001b[1;32m   9039\u001b[0m     \u001b[38;5;241m*\u001b[39mexprs: IntoExpr \u001b[38;5;241m|\u001b[39m Iterable[IntoExpr],\n\u001b[1;32m   9040\u001b[0m     \u001b[38;5;241m*\u001b[39m\u001b[38;5;241m*\u001b[39mnamed_exprs: IntoExpr,\n\u001b[1;32m   9041\u001b[0m ) \u001b[38;5;241m-\u001b[39m\u001b[38;5;241m>\u001b[39m DataFrame:\n\u001b[1;32m   9042\u001b[0m \u001b[38;5;250m    \u001b[39m\u001b[38;5;124;03m\"\"\"\u001b[39;00m\n\u001b[1;32m   9043\u001b[0m \u001b[38;5;124;03m    Add columns to this DataFrame.\u001b[39;00m\n\u001b[1;32m   9044\u001b[0m \n\u001b[0;32m   (...)\u001b[0m\n\u001b[1;32m   9181\u001b[0m \u001b[38;5;124;03m    └─────┴──────┴─────────────┘\u001b[39;00m\n\u001b[1;32m   9182\u001b[0m \u001b[38;5;124;03m    \"\"\"\u001b[39;00m\n\u001b[0;32m-> 9183\u001b[0m     \u001b[38;5;28;01mreturn\u001b[39;00m \u001b[38;5;28;43mself\u001b[39;49m\u001b[38;5;241;43m.\u001b[39;49m\u001b[43mlazy\u001b[49m\u001b[43m(\u001b[49m\u001b[43m)\u001b[49m\u001b[38;5;241;43m.\u001b[39;49m\u001b[43mwith_columns\u001b[49m\u001b[43m(\u001b[49m\u001b[38;5;241;43m*\u001b[39;49m\u001b[43mexprs\u001b[49m\u001b[43m,\u001b[49m\u001b[43m \u001b[49m\u001b[38;5;241;43m*\u001b[39;49m\u001b[38;5;241;43m*\u001b[39;49m\u001b[43mnamed_exprs\u001b[49m\u001b[43m)\u001b[49m\u001b[38;5;241;43m.\u001b[39;49m\u001b[43mcollect\u001b[49m\u001b[43m(\u001b[49m\u001b[43m_eager\u001b[49m\u001b[38;5;241;43m=\u001b[39;49m\u001b[38;5;28;43;01mTrue\u001b[39;49;00m\u001b[43m)\u001b[49m\n",
      "File \u001b[0;32m~/.asdf/installs/python/3.10.5/lib/python3.10/site-packages/polars/lazyframe/frame.py:2050\u001b[0m, in \u001b[0;36mLazyFrame.collect\u001b[0;34m(self, type_coercion, predicate_pushdown, projection_pushdown, simplify_expression, slice_pushdown, comm_subplan_elim, comm_subexpr_elim, cluster_with_columns, collapse_joins, no_optimization, streaming, engine, background, _eager, **_kwargs)\u001b[0m\n\u001b[1;32m   2048\u001b[0m \u001b[38;5;66;03m# Only for testing purposes\u001b[39;00m\n\u001b[1;32m   2049\u001b[0m callback \u001b[38;5;241m=\u001b[39m _kwargs\u001b[38;5;241m.\u001b[39mget(\u001b[38;5;124m\"\u001b[39m\u001b[38;5;124mpost_opt_callback\u001b[39m\u001b[38;5;124m\"\u001b[39m, callback)\n\u001b[0;32m-> 2050\u001b[0m \u001b[38;5;28;01mreturn\u001b[39;00m wrap_df(\u001b[43mldf\u001b[49m\u001b[38;5;241;43m.\u001b[39;49m\u001b[43mcollect\u001b[49m\u001b[43m(\u001b[49m\u001b[43mcallback\u001b[49m\u001b[43m)\u001b[49m)\n",
      "\u001b[0;31mComputeError\u001b[0m: cannot cast numeric types to 'Categorical'"
     ]
    }
   ],
   "source": [
    "df_filtered = df_filtered.with_columns([\n",
    "        pl.col(\"fid\").cast(pl.Categorical),\n",
    "        pl.col(\"target_fid\").cast(pl.Categorical)\n",
    "    ])"
   ]
  },
  {
   "cell_type": "code",
   "execution_count": null,
   "id": "2bea6e9e-3257-4372-b164-1399c3b702ef",
   "metadata": {},
   "outputs": [],
   "source": [
    "mutual_links = df_filtered.join(\n",
    "        df_filtered,\n",
    "        left_on=[\"fid\", \"target_fid\"],\n",
    "        right_on=[\"target_fid\", \"fid\"],\n",
    "        suffix=\"_reverse\",\n",
    "    )"
   ]
  },
  {
   "cell_type": "code",
   "execution_count": null,
   "id": "9ffd0cb0-d120-4227-ae65-5084f33025fe",
   "metadata": {},
   "outputs": [],
   "source": []
  }
 ],
 "metadata": {
  "kernelspec": {
   "display_name": "farcaster-kernel",
   "language": "python",
   "name": "farcaster-kernel"
  },
  "language_info": {
   "codemirror_mode": {
    "name": "ipython",
    "version": 3
   },
   "file_extension": ".py",
   "mimetype": "text/x-python",
   "name": "python",
   "nbconvert_exporter": "python",
   "pygments_lexer": "ipython3",
   "version": "3.13.0"
  }
 },
 "nbformat": 4,
 "nbformat_minor": 5
}
