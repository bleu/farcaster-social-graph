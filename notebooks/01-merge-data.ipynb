{
 "cells": [
  {
   "cell_type": "code",
   "execution_count": null,
   "id": "78579bec-0395-47c0-b598-efa97c1c904b",
   "metadata": {},
   "outputs": [],
   "source": [
    "# !pip install polars\n",
    "import polars as pl\n",
    "import os\n",
    "pl.Config.set_fmt_str_lengths(400)"
   ]
  },
  {
   "cell_type": "code",
   "execution_count": null,
   "id": "a7d6117d-ae07-41e3-bfe4-f8cce6cd7f8d",
   "metadata": {},
   "outputs": [],
   "source": [
    "DATA_PATH = os.getenv(\"DATA_PATH\", \"\")"
   ]
  },
  {
   "cell_type": "code",
   "execution_count": null,
   "id": "12ad417d-9dcd-46c9-b409-6e30ead9d3fe",
   "metadata": {},
   "outputs": [],
   "source": [
    "fids_df = pl.read_parquet(f\"{DATA_PATH}/raw/farcaster-fids-0-1730134800.parquet\")"
   ]
  },
  {
   "cell_type": "code",
   "execution_count": null,
   "id": "a8afee62-957a-4939-be87-3e6fd63c26d5",
   "metadata": {},
   "outputs": [],
   "source": [
    "# profiles_df = pl.read_parquet(f\"{DATA_PATH}/raw/farcaster-fids-0-1730134800.parquet\")farcaster-fids-0-1727974800"
   ]
  },
  {
   "cell_type": "code",
   "execution_count": null,
   "id": "8793094e-4733-413e-83e5-de5eb0f9d6f9",
   "metadata": {},
   "outputs": [],
   "source": [
    "links_df = pl.read_parquet(f\"{DATA_PATH}/raw/farcaster-links-0-1730134800.parquet\")"
   ]
  },
  {
   "cell_type": "code",
   "execution_count": null,
   "id": "d5daf0a3-df3f-4889-888b-e7498905c8e0",
   "metadata": {},
   "outputs": [],
   "source": [
    "reactions_lazy_df = pl.scan_parquet(f\"{DATA_PATH}/raw/farcaster-reactions-0-1730134800.parquet\")"
   ]
  },
  {
   "cell_type": "code",
   "execution_count": null,
   "id": "d177a47c-c375-453b-97ad-283866083b81",
   "metadata": {},
   "outputs": [],
   "source": [
    "verifications_df = pl.read_parquet(f\"{DATA_PATH}/raw/farcaster-verifications-0-1730134800.parquet\")"
   ]
  },
  {
   "cell_type": "code",
   "execution_count": null,
   "id": "34ee43a3-f0e4-412e-b486-15a318baadc7",
   "metadata": {},
   "outputs": [],
   "source": [
    "# Verifications count per fid\n",
    "verifications_count_df = (\n",
    "    verifications_df\n",
    "    .group_by(\"fid\")\n",
    "    .agg(pl.count(\"id\").alias(\"verifications_count\"))\n",
    ")"
   ]
  },
  {
   "cell_type": "code",
   "execution_count": null,
   "id": "8a6ce470-64e9-4ff3-9971-af40ee7d4b5b",
   "metadata": {},
   "outputs": [],
   "source": [
    "# Likes count and recasts count per fid\n",
    "reactions_count_lazy = (\n",
    "    reactions_lazy_df\n",
    "    .filter(pl.col(\"deleted_at\").is_null())  # Filter out deleted reactions\n",
    "    .group_by([\"fid\", \"reaction_type\"])\n",
    "    .agg(pl.count(\"id\").alias(\"count\"))\n",
    ")"
   ]
  },
  {
   "cell_type": "code",
   "execution_count": null,
   "id": "88e5a146-4159-4f57-8fd2-972e8f65d6a7",
   "metadata": {},
   "outputs": [],
   "source": [
    "reactions_count_df = reactions_count_lazy.collect()"
   ]
  },
  {
   "cell_type": "code",
   "execution_count": null,
   "id": "eb7af185-1c4b-4bb9-9986-bfb8c125cce5",
   "metadata": {},
   "outputs": [],
   "source": [
    "reactions_pivot_df = (\n",
    "    reactions_count_df\n",
    "    .pivot(\n",
    "        values=\"count\",\n",
    "        index=\"fid\",\n",
    "        columns=\"reaction_type\",\n",
    "        aggregate_function=\"first\"\n",
    "    )\n",
    "    .rename({\"1\": \"likes_count\", \"2\": \"recasts_count\"})\n",
    "    .fill_null(0)\n",
    ")"
   ]
  },
  {
   "cell_type": "code",
   "execution_count": null,
   "id": "e004bb9a-bfbb-447c-9c8a-333c08140e24",
   "metadata": {},
   "outputs": [],
   "source": [
    "following_count_df = (\n",
    "    links_df\n",
    "    .filter((pl.col(\"type\") == \"follow\") & (pl.col(\"deleted_at\").is_null()))\n",
    "    .group_by(\"fid\")\n",
    "    .agg(pl.count(\"id\").alias(\"following_count\"))\n",
    ")"
   ]
  },
  {
   "cell_type": "code",
   "execution_count": null,
   "id": "5d225f01-9e7a-460a-8e91-d66a2714ff29",
   "metadata": {},
   "outputs": [],
   "source": [
    "# Followers count (number of users following the fid)\n",
    "followers_count_df = (\n",
    "    links_df\n",
    "    .filter((pl.col(\"type\") == \"follow\") & (pl.col(\"deleted_at\").is_null()))\n",
    "    .group_by(\"target_fid\")\n",
    "    .agg(pl.count(\"id\").alias(\"followers_count\"))\n",
    "    .rename({\"target_fid\": \"fid\"})\n",
    ")"
   ]
  },
  {
   "cell_type": "code",
   "execution_count": null,
   "id": "d765e9a0-3085-4353-8682-cb12b61fa22b",
   "metadata": {},
   "outputs": [],
   "source": [
    "result_df = fids_df.join(verifications_count_df, on=\"fid\", how=\"left\")\n",
    "result_df = result_df.join(following_count_df, on=\"fid\", how=\"left\")\n",
    "result_df = result_df.join(followers_count_df, on=\"fid\", how=\"left\")\n",
    "result_df = result_df.join(reactions_pivot_df, on=\"fid\", how=\"left\")\n",
    "result_df = result_df.fill_null(0)"
   ]
  },
  {
   "cell_type": "code",
   "execution_count": null,
   "id": "919b1497-1b3d-4891-bb1a-da65bddc86e6",
   "metadata": {},
   "outputs": [],
   "source": [
    "result_df.write_parquet(f\"{DATA_PATH}/interim/aggregated_links_statistics.parquet\")"
   ]
  },
  {
   "cell_type": "code",
   "execution_count": null,
   "id": "b5845a20-e42f-4354-ab1a-1d89e8b542ca",
   "metadata": {},
   "outputs": [],
   "source": [
    "import psutil\n",
    "import os\n",
    "\n",
    "# Function to print the current memory usage\n",
    "def print_memory_usage():\n",
    "    process = psutil.Process(os.getpid())\n",
    "    memory = process.memory_info().rss / (1024 * 1024)  # Convert to MB\n",
    "    print(f\"Memory Usage: {memory:.2f} MB\")"
   ]
  },
  {
   "cell_type": "code",
   "execution_count": null,
   "id": "bc875a7d-55de-4b87-8165-32cbb8d712de",
   "metadata": {},
   "outputs": [],
   "source": [
    "print_memory_usage()"
   ]
  },
  {
   "cell_type": "code",
   "execution_count": null,
   "id": "cbc6a020-df0d-4e3b-9820-89bccb893a9f",
   "metadata": {},
   "outputs": [],
   "source": [
    "result_df.sample(10)"
   ]
  },
  {
   "cell_type": "code",
   "execution_count": null,
   "id": "fd4efed6-744a-439e-a4e2-278ddee6799d",
   "metadata": {},
   "outputs": [],
   "source": [
    "joao_fid = 12031"
   ]
  },
  {
   "cell_type": "code",
   "execution_count": null,
   "id": "1eaa4262-60ed-4968-910a-783d958db426",
   "metadata": {},
   "outputs": [],
   "source": [
    "user_statistics = result_df.filter(pl.col(\"fid\") == joao_fid)\n"
   ]
  },
  {
   "cell_type": "code",
   "execution_count": null,
   "id": "93999c45-3c0f-4a54-9936-7d9e703bc36a",
   "metadata": {},
   "outputs": [],
   "source": [
    "user_statistics"
   ]
  },
  {
   "cell_type": "code",
   "execution_count": null,
   "id": "ee061acb-65a4-4e36-9533-4686a3c52be9",
   "metadata": {},
   "outputs": [],
   "source": [
    "links_df.filter(pl.col(\"fid\") == joao_fid)"
   ]
  },
  {
   "cell_type": "code",
   "execution_count": null,
   "id": "e9592763-af85-4229-98da-fd1ce73a93ad",
   "metadata": {},
   "outputs": [],
   "source": [
    "links_df.filter(pl.col(\"target_fid\") == joao_fid)"
   ]
  },
  {
   "cell_type": "code",
   "execution_count": null,
   "id": "fb9161d9-ab99-491b-a403-18be375f5f30",
   "metadata": {},
   "outputs": [],
   "source": [
    "# should filter by the links where the deleted at is null"
   ]
  },
  {
   "cell_type": "code",
   "execution_count": null,
   "id": "6ff2817e-666d-4d4a-87fb-86537ef46c17",
   "metadata": {},
   "outputs": [],
   "source": [
    "# add casts "
   ]
  },
  {
   "cell_type": "code",
   "execution_count": null,
   "id": "d344b2b8-1859-412c-9346-01cff7d5a4e4",
   "metadata": {},
   "outputs": [],
   "source": [
    "casts_lazy_df = pl.scan_parquet(f\"{DATA_PATH}/raw/farcaster-casts-0-1730134800.parquet\")"
   ]
  },
  {
   "cell_type": "code",
   "execution_count": null,
   "id": "b28cda88-3887-414f-8c89-17339b565b46",
   "metadata": {},
   "outputs": [],
   "source": [
    "casts_count_lazy = (\n",
    "    casts_lazy_df\n",
    "    .filter(pl.col(\"deleted_at\").is_null())  # Filter out deleted casts\n",
    "    .group_by(\"fid\")\n",
    "    .agg([\n",
    "        pl.count(\"id\").alias(\"total_casts_count\"),\n",
    "        (pl.col(\"parent_hash\").is_not_null() & (pl.col(\"parent_hash\").is_not_null())).sum().alias(\"reply_casts_count\"),\n",
    "        (pl.col(\"parent_hash\").is_null()).sum().alias(\"casts_count\"),\n",
    "    ])\n",
    ")"
   ]
  },
  {
   "cell_type": "code",
   "execution_count": null,
   "id": "a9eaca7f-c607-4012-a762-0f3c95bfea2b",
   "metadata": {},
   "outputs": [],
   "source": [
    "casts_count_df = casts_count_lazy.collect()"
   ]
  },
  {
   "cell_type": "code",
   "execution_count": null,
   "id": "9078c387-278b-447f-a788-c6974b9d7fcb",
   "metadata": {},
   "outputs": [],
   "source": [
    "casts_count_df"
   ]
  },
  {
   "cell_type": "code",
   "execution_count": null,
   "id": "f7980da9-e15d-498a-b1ec-2c225a8a0e7e",
   "metadata": {},
   "outputs": [],
   "source": [
    "df = pl.read_parquet(f\"{DATA_PATH}/interim/aggregated_links_statistics.parquet\")"
   ]
  },
  {
   "cell_type": "code",
   "execution_count": null,
   "id": "cc1242b4-a9f7-4e0e-8440-c7d65ce75784",
   "metadata": {},
   "outputs": [],
   "source": [
    "# df = df.drop([\"casts_count\",\"casts_count_right\"])\n",
    "# df"
   ]
  },
  {
   "cell_type": "code",
   "execution_count": null,
   "id": "fa43c234-78fe-4976-b8f1-ee53ee73ee98",
   "metadata": {},
   "outputs": [],
   "source": [
    "casts_count_df.sample(10)"
   ]
  },
  {
   "cell_type": "code",
   "execution_count": null,
   "id": "c678bfd9-9385-4307-ac96-ec470e50f67d",
   "metadata": {},
   "outputs": [],
   "source": [
    "result_df = df.join(casts_count_df, on=\"fid\", how=\"left\")\n",
    "result_df = result_df.fill_null(0)"
   ]
  },
  {
   "cell_type": "code",
   "execution_count": null,
   "id": "07a4a6c7-3abc-4236-9a30-38d7ecb2b33e",
   "metadata": {},
   "outputs": [],
   "source": [
    "result_df.write_parquet(f\"{DATA_PATH}/interim/aggregated_links_statistics.parquet\")"
   ]
  },
  {
   "cell_type": "code",
   "execution_count": null,
   "id": "828f8c77-3286-42fa-a4da-8640e13a31f3",
   "metadata": {},
   "outputs": [],
   "source": [
    "# casts_by_fid = casts_lazy_df.filter((pl.col('fid')==400242) & (pl.col('deleted_at').is_null()))\n",
    "# result = casts_by_fid.collect()"
   ]
  },
  {
   "cell_type": "code",
   "execution_count": null,
   "id": "562b1df0-693c-4932-a48f-47723deb12eb",
   "metadata": {},
   "outputs": [],
   "source": [
    "# result.filter(~pl.col(\"root_parent_url\").str.contains(\"https://warpcast.com/~/channel\"))"
   ]
  },
  {
   "cell_type": "code",
   "execution_count": null,
   "id": "72fed7a2-044a-43a9-91e3-3378ce099ed0",
   "metadata": {},
   "outputs": [],
   "source": [
    "# b\"\\xed=\\x85\\x89\\xeb\\x89\\xe8*\\x1d\\xa6P\\x83\\xe6[\\xc9\\x1af\\x87IA\"\t.hex()"
   ]
  },
  {
   "cell_type": "code",
   "execution_count": null,
   "id": "16a42749-53f9-4fa6-9356-4e21fe891e8b",
   "metadata": {},
   "outputs": [],
   "source": [
    "df_filtered = links_df.filter(\n",
    "            (pl.col(\"deleted_at\").is_null()) & \n",
    "            (pl.col(\"fid\") != pl.col(\"target_fid\")) & \n",
    "            (pl.col(\"type\") == \"follow\")\n",
    "        ).select([\n",
    "            \"fid\", \"target_fid\"\n",
    "        ])"
   ]
  },
  {
   "cell_type": "code",
   "execution_count": null,
   "id": "8faa6a7b-4f8a-4219-acb3-3648acc213f2",
   "metadata": {},
   "outputs": [],
   "source": [
    "mutual_links = df_filtered.join(\n",
    "    df_filtered,\n",
    "    left_on=[\"fid\", \"target_fid\"],\n",
    "    right_on=[\"target_fid\", \"fid\"],\n",
    "    suffix=\"_reverse\"\n",
    ")"
   ]
  },
  {
   "cell_type": "code",
   "execution_count": null,
   "id": "25e77f65-355a-41b9-8eb7-53cd2e9ebce1",
   "metadata": {},
   "outputs": [],
   "source": [
    "df_filtered = df_filtered.with_columns([\n",
    "        pl.col(\"fid\").cast(pl.Categorical),\n",
    "        pl.col(\"target_fid\").cast(pl.Categorical)\n",
    "    ])"
   ]
  },
  {
   "cell_type": "code",
   "execution_count": null,
   "id": "2bea6e9e-3257-4372-b164-1399c3b702ef",
   "metadata": {},
   "outputs": [],
   "source": [
    "mutual_links = df_filtered.join(\n",
    "        df_filtered,\n",
    "        left_on=[\"fid\", \"target_fid\"],\n",
    "        right_on=[\"target_fid\", \"fid\"],\n",
    "        suffix=\"_reverse\",\n",
    "    )"
   ]
  },
  {
   "cell_type": "code",
   "execution_count": null,
   "id": "9ffd0cb0-d120-4227-ae65-5084f33025fe",
   "metadata": {},
   "outputs": [],
   "source": []
  }
 ],
 "metadata": {
  "kernelspec": {
   "display_name": "farcaster-kernel",
   "language": "python",
   "name": "farcaster-kernel"
  },
  "language_info": {
   "codemirror_mode": {
    "name": "ipython",
    "version": 3
   },
   "file_extension": ".py",
   "mimetype": "text/x-python",
   "name": "python",
   "nbconvert_exporter": "python",
   "pygments_lexer": "ipython3",
   "version": "3.13.0"
  }
 },
 "nbformat": 4,
 "nbformat_minor": 5
}
